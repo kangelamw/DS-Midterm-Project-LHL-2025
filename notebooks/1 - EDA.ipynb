{
 "cells": [
  {
   "cell_type": "markdown",
   "metadata": {},
   "source": [
    "# EDA"
   ]
  },
  {
   "cell_type": "markdown",
   "metadata": {},
   "source": [
    "\n",
    "- The os module has a perfect method to list files in a directory.\n",
    "- Pandas json normalize could work here but is not necessary to convert the JSON data to a dataframe.\n",
    "- You may need a nested for-loop to access each sale!\n",
    "- We've put a lot of time into creating the structure of this repository, and it's a good example for future projects.  In the file functions_variables.py, there is an example function that you can import and use.  If you have any variables, functions or classes that you want to make, they can be put in the functions_variables.py file and imported into a notebook.  Note that only .py files can be imported into a notebook. If you want to import everything from a .py file, you can use the following:\n",
    "```python\n",
    "from functions_variables import *\n",
    "```\n",
    "If you just import functions_variables, then each object from the file will need to be prepended with \"functions_variables\"\\\n",
    "Using this .py file will keep your notebooks very organized and make it easier to reuse code between notebooks."
   ]
  },
  {
   "cell_type": "code",
   "execution_count": 440,
   "metadata": {},
   "outputs": [],
   "source": [
    "# (this is not an exhaustive list of libraries)\n",
    "import pandas as pd\n",
    "import numpy as np\n",
    "import os\n",
    "import json\n",
    "import random\n",
    "import string\n",
    "from pprint import pprint\n",
    "from functions_variables import *"
   ]
  },
  {
   "cell_type": "markdown",
   "metadata": {},
   "source": [
    "## Data Importing"
   ]
  },
  {
   "cell_type": "markdown",
   "metadata": {},
   "source": [
    "#### - Testing files and paths"
   ]
  },
  {
   "cell_type": "code",
   "execution_count": 441,
   "metadata": {},
   "outputs": [
    {
     "data": {
      "text/plain": [
       "True"
      ]
     },
     "execution_count": 441,
     "metadata": {},
     "output_type": "execute_result"
    }
   ],
   "source": [
    "test_dir = '../data/AK_Juneau_0.json'\n",
    "os.path.exists(test_dir)"
   ]
  },
  {
   "cell_type": "code",
   "execution_count": 442,
   "metadata": {},
   "outputs": [],
   "source": [
    "# load one file first to see what type of data you're dealing with and what attributes it has\n",
    "with open(test_dir) as f:\n",
    "    data_json = json.load(f)"
   ]
  },
  {
   "cell_type": "code",
   "execution_count": 443,
   "metadata": {},
   "outputs": [
    {
     "data": {
      "text/plain": [
       "dict_keys(['total', 'count', 'results'])"
      ]
     },
     "execution_count": 443,
     "metadata": {},
     "output_type": "execute_result"
    }
   ],
   "source": [
    "data_json['data'].keys()"
   ]
  },
  {
   "cell_type": "code",
   "execution_count": 444,
   "metadata": {},
   "outputs": [
    {
     "data": {
      "text/html": [
       "<div>\n",
       "<style scoped>\n",
       "    .dataframe tbody tr th:only-of-type {\n",
       "        vertical-align: middle;\n",
       "    }\n",
       "\n",
       "    .dataframe tbody tr th {\n",
       "        vertical-align: top;\n",
       "    }\n",
       "\n",
       "    .dataframe thead th {\n",
       "        text-align: right;\n",
       "    }\n",
       "</style>\n",
       "<table border=\"1\" class=\"dataframe\">\n",
       "  <thead>\n",
       "    <tr style=\"text-align: right;\">\n",
       "      <th></th>\n",
       "      <th>last_update_date</th>\n",
       "      <th>tags</th>\n",
       "      <th>permalink</th>\n",
       "      <th>status</th>\n",
       "      <th>list_date</th>\n",
       "      <th>open_houses</th>\n",
       "      <th>branding</th>\n",
       "      <th>list_price</th>\n",
       "      <th>property_id</th>\n",
       "      <th>photos</th>\n",
       "      <th>...</th>\n",
       "      <th>location.address.state_code</th>\n",
       "      <th>location.address.line</th>\n",
       "      <th>location.street_view_url</th>\n",
       "      <th>location.county.fips_code</th>\n",
       "      <th>location.county.name</th>\n",
       "      <th>primary_photo</th>\n",
       "      <th>source</th>\n",
       "      <th>products</th>\n",
       "      <th>location.address.coordinate</th>\n",
       "      <th>other_listings</th>\n",
       "    </tr>\n",
       "  </thead>\n",
       "  <tbody>\n",
       "    <tr>\n",
       "      <th>0</th>\n",
       "      <td>2023-09-19T20:52:50Z</td>\n",
       "      <td>[carport, community_outdoor_space, cul_de_sac,...</td>\n",
       "      <td>9453-Herbert-Pl_Juneau_AK_99801_M90744-30767</td>\n",
       "      <td>sold</td>\n",
       "      <td>2023-06-29T21:16:25.000000Z</td>\n",
       "      <td>None</td>\n",
       "      <td>[{'name': 'EXP Realty LLC - Southeast Alaska',...</td>\n",
       "      <td>554950.0</td>\n",
       "      <td>9074430767</td>\n",
       "      <td>[{'tags': [{'label': 'house_view', 'probabilit...</td>\n",
       "      <td>...</td>\n",
       "      <td>AK</td>\n",
       "      <td>9453 Herbert Pl</td>\n",
       "      <td>https://maps.googleapis.com/maps/api/streetvie...</td>\n",
       "      <td>None</td>\n",
       "      <td>Juneau</td>\n",
       "      <td>NaN</td>\n",
       "      <td>NaN</td>\n",
       "      <td>NaN</td>\n",
       "      <td>NaN</td>\n",
       "      <td>NaN</td>\n",
       "    </tr>\n",
       "  </tbody>\n",
       "</table>\n",
       "<p>1 rows × 64 columns</p>\n",
       "</div>"
      ],
      "text/plain": [
       "       last_update_date                                               tags  \\\n",
       "0  2023-09-19T20:52:50Z  [carport, community_outdoor_space, cul_de_sac,...   \n",
       "\n",
       "                                      permalink status  \\\n",
       "0  9453-Herbert-Pl_Juneau_AK_99801_M90744-30767   sold   \n",
       "\n",
       "                     list_date open_houses  \\\n",
       "0  2023-06-29T21:16:25.000000Z        None   \n",
       "\n",
       "                                            branding  list_price property_id  \\\n",
       "0  [{'name': 'EXP Realty LLC - Southeast Alaska',...    554950.0  9074430767   \n",
       "\n",
       "                                              photos  ...  \\\n",
       "0  [{'tags': [{'label': 'house_view', 'probabilit...  ...   \n",
       "\n",
       "  location.address.state_code location.address.line  \\\n",
       "0                          AK       9453 Herbert Pl   \n",
       "\n",
       "                            location.street_view_url  \\\n",
       "0  https://maps.googleapis.com/maps/api/streetvie...   \n",
       "\n",
       "   location.county.fips_code  location.county.name primary_photo  source  \\\n",
       "0                       None                Juneau           NaN     NaN   \n",
       "\n",
       "  products  location.address.coordinate other_listings  \n",
       "0      NaN                          NaN            NaN  \n",
       "\n",
       "[1 rows x 64 columns]"
      ]
     },
     "execution_count": 444,
     "metadata": {},
     "output_type": "execute_result"
    }
   ],
   "source": [
    "test_df = pd.json_normalize(data_json['data']['results'])\n",
    "test_df.head(1)"
   ]
  },
  {
   "cell_type": "markdown",
   "metadata": {},
   "source": [
    "#### - Data Overview"
   ]
  },
  {
   "cell_type": "code",
   "execution_count": 445,
   "metadata": {},
   "outputs": [
    {
     "name": "stdout",
     "output_type": "stream",
     "text": [
      "Error processing file .gitkeep: Expecting value: line 1 column 1 (char 0)\n",
      "AK_Juneau_0.json processed. 1/251 files processed.\n",
      "AK_Juneau_1.json processed. 2/251 files processed.\n",
      "AK_Juneau_2.json processed. 3/251 files processed.\n",
      "AK_Juneau_3.json processed. 4/251 files processed.\n",
      "AK_Juneau_4.json processed. 5/251 files processed.\n",
      "AL_Montgomery_0.json processed. 6/251 files processed.\n",
      "AL_Montgomery_1.json processed. 7/251 files processed.\n",
      "AL_Montgomery_2.json processed. 8/251 files processed.\n",
      "AL_Montgomery_3.json processed. 9/251 files processed.\n",
      "AL_Montgomery_4.json processed. 10/251 files processed.\n",
      "AR_LittleRock_0.json processed. 11/251 files processed.\n",
      "AR_LittleRock_1.json processed. 12/251 files processed.\n",
      "AR_LittleRock_2.json processed. 13/251 files processed.\n",
      "AR_LittleRock_3.json processed. 14/251 files processed.\n",
      "AR_LittleRock_4.json processed. 15/251 files processed.\n",
      "AZ_Phoenix_0.json processed. 16/251 files processed.\n",
      "AZ_Phoenix_1.json processed. 17/251 files processed.\n",
      "AZ_Phoenix_2.json processed. 18/251 files processed.\n",
      "AZ_Phoenix_3.json processed. 19/251 files processed.\n",
      "AZ_Phoenix_4.json processed. 20/251 files processed.\n",
      "CA_Sacramento_0.json processed. 21/251 files processed.\n",
      "CA_Sacramento_1.json processed. 22/251 files processed.\n",
      "CA_Sacramento_2.json processed. 23/251 files processed.\n",
      "CA_Sacramento_3.json processed. 24/251 files processed.\n",
      "CA_Sacramento_4.json processed. 25/251 files processed.\n",
      "CO_Denver_0.json processed. 26/251 files processed.\n",
      "CO_Denver_1.json processed. 27/251 files processed.\n",
      "CO_Denver_2.json processed. 28/251 files processed.\n",
      "CO_Denver_3.json processed. 29/251 files processed.\n",
      "CO_Denver_4.json processed. 30/251 files processed.\n",
      "CT_Hartford_0.json processed. 31/251 files processed.\n",
      "CT_Hartford_1.json processed. 32/251 files processed.\n",
      "CT_Hartford_2.json processed. 33/251 files processed.\n",
      "CT_Hartford_3.json processed. 34/251 files processed.\n",
      "CT_Hartford_4.json processed. 35/251 files processed.\n",
      "DE_Dover_0.json processed. 36/251 files processed.\n",
      "DE_Dover_1.json processed. 37/251 files processed.\n",
      "DE_Dover_2.json processed. 38/251 files processed.\n",
      "DE_Dover_3.json processed. 39/251 files processed.\n",
      "DE_Dover_4.json processed. 40/251 files processed.\n",
      "FL_Tallahassee_0.json processed. 41/251 files processed.\n",
      "FL_Tallahassee_1.json processed. 42/251 files processed.\n",
      "FL_Tallahassee_2.json processed. 43/251 files processed.\n",
      "FL_Tallahassee_3.json processed. 44/251 files processed.\n",
      "FL_Tallahassee_4.json processed. 45/251 files processed.\n",
      "GA_Atlanta_0.json processed. 46/251 files processed.\n",
      "GA_Atlanta_1.json processed. 47/251 files processed.\n",
      "GA_Atlanta_2.json processed. 48/251 files processed.\n",
      "GA_Atlanta_3.json processed. 49/251 files processed.\n",
      "GA_Atlanta_4.json processed. 50/251 files processed.\n",
      "HI_Honolulu_0.json processed. 51/251 files processed.\n",
      "HI_Honolulu_1.json processed. 52/251 files processed.\n",
      "HI_Honolulu_2.json processed. 53/251 files processed.\n",
      "HI_Honolulu_3.json processed. 54/251 files processed.\n",
      "HI_Honolulu_4.json processed. 55/251 files processed.\n",
      "IA_DesMoines_0.json processed. 56/251 files processed.\n",
      "IA_DesMoines_1.json processed. 57/251 files processed.\n",
      "IA_DesMoines_2.json processed. 58/251 files processed.\n",
      "IA_DesMoines_3.json processed. 59/251 files processed.\n",
      "IA_DesMoines_4.json processed. 60/251 files processed.\n",
      "ID_Boise_0.json processed. 61/251 files processed.\n",
      "ID_Boise_1.json processed. 62/251 files processed.\n",
      "ID_Boise_2.json processed. 63/251 files processed.\n",
      "ID_Boise_3.json processed. 64/251 files processed.\n",
      "ID_Boise_4.json processed. 65/251 files processed.\n",
      "IL_Springfield_0.json processed. 66/251 files processed.\n",
      "IL_Springfield_1.json processed. 67/251 files processed.\n",
      "IL_Springfield_2.json processed. 68/251 files processed.\n",
      "IL_Springfield_3.json processed. 69/251 files processed.\n",
      "IL_Springfield_4.json processed. 70/251 files processed.\n",
      "IN_Indianapolis_0.json processed. 71/251 files processed.\n",
      "IN_Indianapolis_1.json processed. 72/251 files processed.\n",
      "IN_Indianapolis_2.json processed. 73/251 files processed.\n",
      "IN_Indianapolis_3.json processed. 74/251 files processed.\n",
      "IN_Indianapolis_4.json processed. 75/251 files processed.\n",
      "KS_Topeka_0.json processed. 76/251 files processed.\n",
      "KS_Topeka_1.json processed. 77/251 files processed.\n",
      "KS_Topeka_2.json processed. 78/251 files processed.\n",
      "KS_Topeka_3.json processed. 79/251 files processed.\n",
      "KS_Topeka_4.json processed. 80/251 files processed.\n",
      "KY_Frankfort_0.json processed. 81/251 files processed.\n",
      "KY_Frankfort_1.json processed. 82/251 files processed.\n",
      "KY_Frankfort_2.json processed. 83/251 files processed.\n",
      "KY_Frankfort_3.json processed. 84/251 files processed.\n",
      "KY_Frankfort_4.json processed. 85/251 files processed.\n",
      "LA_BatonRouge_0.json processed. 86/251 files processed.\n",
      "LA_BatonRouge_1.json processed. 87/251 files processed.\n",
      "LA_BatonRouge_2.json processed. 88/251 files processed.\n",
      "LA_BatonRouge_3.json processed. 89/251 files processed.\n",
      "LA_BatonRouge_4.json processed. 90/251 files processed.\n",
      "MA_Boston_0.json processed. 91/251 files processed.\n",
      "MA_Boston_1.json processed. 92/251 files processed.\n",
      "MA_Boston_2.json processed. 93/251 files processed.\n",
      "MA_Boston_3.json processed. 94/251 files processed.\n",
      "MA_Boston_4.json processed. 95/251 files processed.\n",
      "MD_Annapolis_0.json processed. 96/251 files processed.\n",
      "MD_Annapolis_1.json processed. 97/251 files processed.\n",
      "MD_Annapolis_2.json processed. 98/251 files processed.\n",
      "MD_Annapolis_3.json processed. 99/251 files processed.\n",
      "MD_Annapolis_4.json processed. 100/251 files processed.\n",
      "ME_Augusta_0.json processed. 101/251 files processed.\n",
      "ME_Augusta_1.json processed. 102/251 files processed.\n",
      "ME_Augusta_2.json processed. 103/251 files processed.\n",
      "ME_Augusta_3.json processed. 104/251 files processed.\n",
      "ME_Augusta_4.json processed. 105/251 files processed.\n",
      "MI_Lansing_0.json processed. 106/251 files processed.\n",
      "MI_Lansing_1.json processed. 107/251 files processed.\n",
      "MI_Lansing_2.json processed. 108/251 files processed.\n",
      "MI_Lansing_3.json processed. 109/251 files processed.\n",
      "MI_Lansing_4.json processed. 110/251 files processed.\n",
      "MN_St.Paul_0.json processed. 111/251 files processed.\n",
      "MN_St.Paul_1.json processed. 112/251 files processed.\n",
      "MN_St.Paul_2.json processed. 113/251 files processed.\n",
      "MN_St.Paul_3.json processed. 114/251 files processed.\n",
      "MN_St.Paul_4.json processed. 115/251 files processed.\n",
      "MO_JeffersonCity_0.json processed. 116/251 files processed.\n",
      "MO_JeffersonCity_1.json processed. 117/251 files processed.\n",
      "MO_JeffersonCity_2.json processed. 118/251 files processed.\n",
      "MO_JeffersonCity_3.json processed. 119/251 files processed.\n",
      "MO_JeffersonCity_4.json processed. 120/251 files processed.\n",
      "MS_Jackson_0.json processed. 121/251 files processed.\n",
      "MS_Jackson_1.json processed. 122/251 files processed.\n",
      "MS_Jackson_2.json processed. 123/251 files processed.\n",
      "MS_Jackson_3.json processed. 124/251 files processed.\n",
      "MS_Jackson_4.json processed. 125/251 files processed.\n",
      "MT_Helena_0.json processed. 126/251 files processed.\n",
      "MT_Helena_1.json processed. 127/251 files processed.\n",
      "MT_Helena_2.json processed. 128/251 files processed.\n",
      "MT_Helena_3.json processed. 129/251 files processed.\n",
      "MT_Helena_4.json processed. 130/251 files processed.\n",
      "NC_Raleigh_0.json processed. 131/251 files processed.\n",
      "NC_Raleigh_1.json processed. 132/251 files processed.\n",
      "NC_Raleigh_2.json processed. 133/251 files processed.\n",
      "NC_Raleigh_3.json processed. 134/251 files processed.\n",
      "NC_Raleigh_4.json processed. 135/251 files processed.\n",
      "ND_Bismarck_0.json processed. 136/251 files processed.\n",
      "ND_Bismarck_1.json processed. 137/251 files processed.\n",
      "ND_Bismarck_2.json processed. 138/251 files processed.\n",
      "ND_Bismarck_3.json processed. 139/251 files processed.\n",
      "ND_Bismarck_4.json processed. 140/251 files processed.\n",
      "NE_Lincoln_0.json processed. 141/251 files processed.\n",
      "NE_Lincoln_1.json processed. 142/251 files processed.\n",
      "NE_Lincoln_2.json processed. 143/251 files processed.\n",
      "NE_Lincoln_3.json processed. 144/251 files processed.\n",
      "NE_Lincoln_4.json processed. 145/251 files processed.\n",
      "NH_Concord_0.json processed. 146/251 files processed.\n",
      "NH_Concord_1.json processed. 147/251 files processed.\n",
      "NH_Concord_2.json processed. 148/251 files processed.\n",
      "NH_Concord_3.json processed. 149/251 files processed.\n",
      "NH_Concord_4.json processed. 150/251 files processed.\n",
      "NJ_Trenton_0.json processed. 151/251 files processed.\n",
      "NJ_Trenton_1.json processed. 152/251 files processed.\n",
      "NJ_Trenton_2.json processed. 153/251 files processed.\n",
      "NJ_Trenton_3.json processed. 154/251 files processed.\n",
      "NJ_Trenton_4.json processed. 155/251 files processed.\n",
      "NM_SantaFe_0.json processed. 156/251 files processed.\n",
      "NM_SantaFe_1.json processed. 157/251 files processed.\n",
      "NM_SantaFe_2.json processed. 158/251 files processed.\n",
      "NM_SantaFe_3.json processed. 159/251 files processed.\n",
      "NM_SantaFe_4.json processed. 160/251 files processed.\n",
      "NV_CarsonCity_0.json processed. 161/251 files processed.\n",
      "NV_CarsonCity_1.json processed. 162/251 files processed.\n",
      "NV_CarsonCity_2.json processed. 163/251 files processed.\n",
      "NV_CarsonCity_3.json processed. 164/251 files processed.\n",
      "NV_CarsonCity_4.json processed. 165/251 files processed.\n",
      "NY_Albany_0.json processed. 166/251 files processed.\n",
      "NY_Albany_1.json processed. 167/251 files processed.\n",
      "NY_Albany_2.json processed. 168/251 files processed.\n",
      "NY_Albany_3.json processed. 169/251 files processed.\n",
      "NY_Albany_4.json processed. 170/251 files processed.\n",
      "OH_Columbus_0.json processed. 171/251 files processed.\n",
      "OH_Columbus_1.json processed. 172/251 files processed.\n",
      "OH_Columbus_2.json processed. 173/251 files processed.\n",
      "OH_Columbus_3.json processed. 174/251 files processed.\n",
      "OH_Columbus_4.json processed. 175/251 files processed.\n",
      "OK_OklahomaCity_0.json processed. 176/251 files processed.\n",
      "OK_OklahomaCity_1.json processed. 177/251 files processed.\n",
      "OK_OklahomaCity_2.json processed. 178/251 files processed.\n",
      "OK_OklahomaCity_3.json processed. 179/251 files processed.\n",
      "OK_OklahomaCity_4.json processed. 180/251 files processed.\n",
      "OR_Salem_0.json processed. 181/251 files processed.\n",
      "OR_Salem_1.json processed. 182/251 files processed.\n",
      "OR_Salem_2.json processed. 183/251 files processed.\n",
      "OR_Salem_3.json processed. 184/251 files processed.\n",
      "OR_Salem_4.json processed. 185/251 files processed.\n",
      "PA_Harrisburg_0.json processed. 186/251 files processed.\n",
      "PA_Harrisburg_1.json processed. 187/251 files processed.\n",
      "PA_Harrisburg_2.json processed. 188/251 files processed.\n",
      "PA_Harrisburg_3.json processed. 189/251 files processed.\n",
      "PA_Harrisburg_4.json processed. 190/251 files processed.\n",
      "RI_Providence_0.json processed. 191/251 files processed.\n",
      "RI_Providence_1.json processed. 192/251 files processed.\n",
      "RI_Providence_2.json processed. 193/251 files processed.\n",
      "RI_Providence_3.json processed. 194/251 files processed.\n",
      "RI_Providence_4.json processed. 195/251 files processed.\n",
      "SC_Columbia_0.json processed. 196/251 files processed.\n",
      "SC_Columbia_1.json processed. 197/251 files processed.\n",
      "SC_Columbia_2.json processed. 198/251 files processed.\n",
      "SC_Columbia_3.json processed. 199/251 files processed.\n",
      "SC_Columbia_4.json processed. 200/251 files processed.\n",
      "SD_Pierre_0.json processed. 201/251 files processed.\n",
      "SD_Pierre_1.json processed. 202/251 files processed.\n",
      "SD_Pierre_2.json processed. 203/251 files processed.\n",
      "SD_Pierre_3.json processed. 204/251 files processed.\n",
      "SD_Pierre_4.json processed. 205/251 files processed.\n",
      "TN_Nashville_0.json processed. 206/251 files processed.\n",
      "TN_Nashville_1.json processed. 207/251 files processed.\n",
      "TN_Nashville_2.json processed. 208/251 files processed.\n",
      "TN_Nashville_3.json processed. 209/251 files processed.\n",
      "TN_Nashville_4.json processed. 210/251 files processed.\n",
      "TX_Austin_0.json processed. 211/251 files processed.\n",
      "TX_Austin_1.json processed. 212/251 files processed.\n",
      "TX_Austin_2.json processed. 213/251 files processed.\n",
      "TX_Austin_3.json processed. 214/251 files processed.\n",
      "TX_Austin_4.json processed. 215/251 files processed.\n",
      "UT_SaltLakeCity_0.json processed. 216/251 files processed.\n",
      "UT_SaltLakeCity_1.json processed. 217/251 files processed.\n",
      "UT_SaltLakeCity_2.json processed. 218/251 files processed.\n",
      "UT_SaltLakeCity_3.json processed. 219/251 files processed.\n",
      "UT_SaltLakeCity_4.json processed. 220/251 files processed.\n",
      "VA_Richmond_0.json processed. 221/251 files processed.\n",
      "VA_Richmond_1.json processed. 222/251 files processed.\n",
      "VA_Richmond_2.json processed. 223/251 files processed.\n",
      "VA_Richmond_3.json processed. 224/251 files processed.\n",
      "VA_Richmond_4.json processed. 225/251 files processed.\n",
      "VT_Montpelier_0.json processed. 226/251 files processed.\n",
      "VT_Montpelier_1.json processed. 227/251 files processed.\n",
      "VT_Montpelier_2.json processed. 228/251 files processed.\n",
      "VT_Montpelier_3.json processed. 229/251 files processed.\n",
      "VT_Montpelier_4.json processed. 230/251 files processed.\n",
      "WA_Olympia_0.json processed. 231/251 files processed.\n",
      "WA_Olympia_1.json processed. 232/251 files processed.\n",
      "WA_Olympia_2.json processed. 233/251 files processed.\n",
      "WA_Olympia_3.json processed. 234/251 files processed.\n",
      "WA_Olympia_4.json processed. 235/251 files processed.\n",
      "WI_Madison_0.json processed. 236/251 files processed.\n",
      "WI_Madison_1.json processed. 237/251 files processed.\n",
      "WI_Madison_2.json processed. 238/251 files processed.\n",
      "WI_Madison_3.json processed. 239/251 files processed.\n",
      "WI_Madison_4.json processed. 240/251 files processed.\n",
      "WV_Charleston_0.json processed. 241/251 files processed.\n",
      "WV_Charleston_1.json processed. 242/251 files processed.\n",
      "WV_Charleston_2.json processed. 243/251 files processed.\n",
      "WV_Charleston_3.json processed. 244/251 files processed.\n",
      "WV_Charleston_4.json processed. 245/251 files processed.\n",
      "WY_Cheyenne_0.json processed. 246/251 files processed.\n",
      "WY_Cheyenne_1.json processed. 247/251 files processed.\n",
      "WY_Cheyenne_2.json processed. 248/251 files processed.\n",
      "WY_Cheyenne_3.json processed. 249/251 files processed.\n",
      "WY_Cheyenne_4.json processed. 250/251 files processed.\n",
      "\n",
      "Process complete.\n"
     ]
    }
   ],
   "source": [
    "# Getting an overview of the data before combining all the files into one dataframe. This is a custom function in `functions_variables.py` --- It takes in a directory path.\n",
    "overview = json_files_summary('../data')"
   ]
  },
  {
   "cell_type": "code",
   "execution_count": 446,
   "metadata": {},
   "outputs": [
    {
     "data": {
      "text/html": [
       "<div>\n",
       "<style scoped>\n",
       "    .dataframe tbody tr th:only-of-type {\n",
       "        vertical-align: middle;\n",
       "    }\n",
       "\n",
       "    .dataframe tbody tr th {\n",
       "        vertical-align: top;\n",
       "    }\n",
       "\n",
       "    .dataframe thead th {\n",
       "        text-align: right;\n",
       "    }\n",
       "</style>\n",
       "<table border=\"1\" class=\"dataframe\">\n",
       "  <thead>\n",
       "    <tr style=\"text-align: right;\">\n",
       "      <th></th>\n",
       "      <th>file_name</th>\n",
       "      <th>file_path</th>\n",
       "      <th>rows_count</th>\n",
       "      <th>cols_count</th>\n",
       "      <th>cols_name</th>\n",
       "    </tr>\n",
       "  </thead>\n",
       "  <tbody>\n",
       "    <tr>\n",
       "      <th>0</th>\n",
       "      <td>AK_Juneau_0.json</td>\n",
       "      <td>../data\\AK_Juneau_0.json</td>\n",
       "      <td>8</td>\n",
       "      <td>64</td>\n",
       "      <td>[last_update_date, tags, permalink, status, li...</td>\n",
       "    </tr>\n",
       "    <tr>\n",
       "      <th>1</th>\n",
       "      <td>AK_Juneau_1.json</td>\n",
       "      <td>../data\\AK_Juneau_1.json</td>\n",
       "      <td>7</td>\n",
       "      <td>63</td>\n",
       "      <td>[primary_photo, last_update_date, source, tags...</td>\n",
       "    </tr>\n",
       "    <tr>\n",
       "      <th>2</th>\n",
       "      <td>AK_Juneau_2.json</td>\n",
       "      <td>../data\\AK_Juneau_2.json</td>\n",
       "      <td>6</td>\n",
       "      <td>63</td>\n",
       "      <td>[primary_photo, last_update_date, source, tags...</td>\n",
       "    </tr>\n",
       "    <tr>\n",
       "      <th>3</th>\n",
       "      <td>AK_Juneau_3.json</td>\n",
       "      <td>../data\\AK_Juneau_3.json</td>\n",
       "      <td>5</td>\n",
       "      <td>63</td>\n",
       "      <td>[primary_photo, last_update_date, source, tags...</td>\n",
       "    </tr>\n",
       "    <tr>\n",
       "      <th>4</th>\n",
       "      <td>AK_Juneau_4.json</td>\n",
       "      <td>../data\\AK_Juneau_4.json</td>\n",
       "      <td>4</td>\n",
       "      <td>63</td>\n",
       "      <td>[primary_photo, last_update_date, source, tags...</td>\n",
       "    </tr>\n",
       "    <tr>\n",
       "      <th>...</th>\n",
       "      <td>...</td>\n",
       "      <td>...</td>\n",
       "      <td>...</td>\n",
       "      <td>...</td>\n",
       "      <td>...</td>\n",
       "    </tr>\n",
       "    <tr>\n",
       "      <th>245</th>\n",
       "      <td>WY_Cheyenne_0.json</td>\n",
       "      <td>../data\\WY_Cheyenne_0.json</td>\n",
       "      <td>1</td>\n",
       "      <td>0</td>\n",
       "      <td>[]</td>\n",
       "    </tr>\n",
       "    <tr>\n",
       "      <th>246</th>\n",
       "      <td>WY_Cheyenne_1.json</td>\n",
       "      <td>../data\\WY_Cheyenne_1.json</td>\n",
       "      <td>1</td>\n",
       "      <td>0</td>\n",
       "      <td>[]</td>\n",
       "    </tr>\n",
       "    <tr>\n",
       "      <th>247</th>\n",
       "      <td>WY_Cheyenne_2.json</td>\n",
       "      <td>../data\\WY_Cheyenne_2.json</td>\n",
       "      <td>1</td>\n",
       "      <td>0</td>\n",
       "      <td>[]</td>\n",
       "    </tr>\n",
       "    <tr>\n",
       "      <th>248</th>\n",
       "      <td>WY_Cheyenne_3.json</td>\n",
       "      <td>../data\\WY_Cheyenne_3.json</td>\n",
       "      <td>1</td>\n",
       "      <td>0</td>\n",
       "      <td>[]</td>\n",
       "    </tr>\n",
       "    <tr>\n",
       "      <th>249</th>\n",
       "      <td>WY_Cheyenne_4.json</td>\n",
       "      <td>../data\\WY_Cheyenne_4.json</td>\n",
       "      <td>1</td>\n",
       "      <td>0</td>\n",
       "      <td>[]</td>\n",
       "    </tr>\n",
       "  </tbody>\n",
       "</table>\n",
       "<p>250 rows × 5 columns</p>\n",
       "</div>"
      ],
      "text/plain": [
       "              file_name                   file_path  rows_count  cols_count  \\\n",
       "0      AK_Juneau_0.json    ../data\\AK_Juneau_0.json           8          64   \n",
       "1      AK_Juneau_1.json    ../data\\AK_Juneau_1.json           7          63   \n",
       "2      AK_Juneau_2.json    ../data\\AK_Juneau_2.json           6          63   \n",
       "3      AK_Juneau_3.json    ../data\\AK_Juneau_3.json           5          63   \n",
       "4      AK_Juneau_4.json    ../data\\AK_Juneau_4.json           4          63   \n",
       "..                  ...                         ...         ...         ...   \n",
       "245  WY_Cheyenne_0.json  ../data\\WY_Cheyenne_0.json           1           0   \n",
       "246  WY_Cheyenne_1.json  ../data\\WY_Cheyenne_1.json           1           0   \n",
       "247  WY_Cheyenne_2.json  ../data\\WY_Cheyenne_2.json           1           0   \n",
       "248  WY_Cheyenne_3.json  ../data\\WY_Cheyenne_3.json           1           0   \n",
       "249  WY_Cheyenne_4.json  ../data\\WY_Cheyenne_4.json           1           0   \n",
       "\n",
       "                                             cols_name  \n",
       "0    [last_update_date, tags, permalink, status, li...  \n",
       "1    [primary_photo, last_update_date, source, tags...  \n",
       "2    [primary_photo, last_update_date, source, tags...  \n",
       "3    [primary_photo, last_update_date, source, tags...  \n",
       "4    [primary_photo, last_update_date, source, tags...  \n",
       "..                                                 ...  \n",
       "245                                                 []  \n",
       "246                                                 []  \n",
       "247                                                 []  \n",
       "248                                                 []  \n",
       "249                                                 []  \n",
       "\n",
       "[250 rows x 5 columns]"
      ]
     },
     "execution_count": 446,
     "metadata": {},
     "output_type": "execute_result"
    }
   ],
   "source": [
    "overview\n",
    "# After reviewing the data with Data Wrangler, I found that some files may be missing the 'results' key, or it is empty."
   ]
  },
  {
   "cell_type": "code",
   "execution_count": 447,
   "metadata": {},
   "outputs": [
    {
     "data": {
      "text/plain": [
       "(250, 5)"
      ]
     },
     "execution_count": 447,
     "metadata": {},
     "output_type": "execute_result"
    }
   ],
   "source": [
    "overview.shape"
   ]
  },
  {
   "cell_type": "code",
   "execution_count": 448,
   "metadata": {},
   "outputs": [
    {
     "data": {
      "text/html": [
       "<div>\n",
       "<style scoped>\n",
       "    .dataframe tbody tr th:only-of-type {\n",
       "        vertical-align: middle;\n",
       "    }\n",
       "\n",
       "    .dataframe tbody tr th {\n",
       "        vertical-align: top;\n",
       "    }\n",
       "\n",
       "    .dataframe thead th {\n",
       "        text-align: right;\n",
       "    }\n",
       "</style>\n",
       "<table border=\"1\" class=\"dataframe\">\n",
       "  <thead>\n",
       "    <tr style=\"text-align: right;\">\n",
       "      <th></th>\n",
       "      <th>file_name</th>\n",
       "      <th>file_path</th>\n",
       "      <th>rows_count</th>\n",
       "      <th>cols_count</th>\n",
       "      <th>cols_name</th>\n",
       "    </tr>\n",
       "  </thead>\n",
       "  <tbody>\n",
       "    <tr>\n",
       "      <th>0</th>\n",
       "      <td>AK_Juneau_0.json</td>\n",
       "      <td>../data\\AK_Juneau_0.json</td>\n",
       "      <td>8</td>\n",
       "      <td>64</td>\n",
       "      <td>[last_update_date, tags, permalink, status, li...</td>\n",
       "    </tr>\n",
       "    <tr>\n",
       "      <th>1</th>\n",
       "      <td>AK_Juneau_1.json</td>\n",
       "      <td>../data\\AK_Juneau_1.json</td>\n",
       "      <td>7</td>\n",
       "      <td>63</td>\n",
       "      <td>[primary_photo, last_update_date, source, tags...</td>\n",
       "    </tr>\n",
       "    <tr>\n",
       "      <th>2</th>\n",
       "      <td>AK_Juneau_2.json</td>\n",
       "      <td>../data\\AK_Juneau_2.json</td>\n",
       "      <td>6</td>\n",
       "      <td>63</td>\n",
       "      <td>[primary_photo, last_update_date, source, tags...</td>\n",
       "    </tr>\n",
       "    <tr>\n",
       "      <th>3</th>\n",
       "      <td>AK_Juneau_3.json</td>\n",
       "      <td>../data\\AK_Juneau_3.json</td>\n",
       "      <td>5</td>\n",
       "      <td>63</td>\n",
       "      <td>[primary_photo, last_update_date, source, tags...</td>\n",
       "    </tr>\n",
       "    <tr>\n",
       "      <th>4</th>\n",
       "      <td>AK_Juneau_4.json</td>\n",
       "      <td>../data\\AK_Juneau_4.json</td>\n",
       "      <td>4</td>\n",
       "      <td>63</td>\n",
       "      <td>[primary_photo, last_update_date, source, tags...</td>\n",
       "    </tr>\n",
       "    <tr>\n",
       "      <th>...</th>\n",
       "      <td>...</td>\n",
       "      <td>...</td>\n",
       "      <td>...</td>\n",
       "      <td>...</td>\n",
       "      <td>...</td>\n",
       "    </tr>\n",
       "    <tr>\n",
       "      <th>245</th>\n",
       "      <td>WY_Cheyenne_0.json</td>\n",
       "      <td>../data\\WY_Cheyenne_0.json</td>\n",
       "      <td>1</td>\n",
       "      <td>0</td>\n",
       "      <td>[]</td>\n",
       "    </tr>\n",
       "    <tr>\n",
       "      <th>246</th>\n",
       "      <td>WY_Cheyenne_1.json</td>\n",
       "      <td>../data\\WY_Cheyenne_1.json</td>\n",
       "      <td>1</td>\n",
       "      <td>0</td>\n",
       "      <td>[]</td>\n",
       "    </tr>\n",
       "    <tr>\n",
       "      <th>247</th>\n",
       "      <td>WY_Cheyenne_2.json</td>\n",
       "      <td>../data\\WY_Cheyenne_2.json</td>\n",
       "      <td>1</td>\n",
       "      <td>0</td>\n",
       "      <td>[]</td>\n",
       "    </tr>\n",
       "    <tr>\n",
       "      <th>248</th>\n",
       "      <td>WY_Cheyenne_3.json</td>\n",
       "      <td>../data\\WY_Cheyenne_3.json</td>\n",
       "      <td>1</td>\n",
       "      <td>0</td>\n",
       "      <td>[]</td>\n",
       "    </tr>\n",
       "    <tr>\n",
       "      <th>249</th>\n",
       "      <td>WY_Cheyenne_4.json</td>\n",
       "      <td>../data\\WY_Cheyenne_4.json</td>\n",
       "      <td>1</td>\n",
       "      <td>0</td>\n",
       "      <td>[]</td>\n",
       "    </tr>\n",
       "  </tbody>\n",
       "</table>\n",
       "<p>250 rows × 5 columns</p>\n",
       "</div>"
      ],
      "text/plain": [
       "              file_name                   file_path  rows_count  cols_count  \\\n",
       "0      AK_Juneau_0.json    ../data\\AK_Juneau_0.json           8          64   \n",
       "1      AK_Juneau_1.json    ../data\\AK_Juneau_1.json           7          63   \n",
       "2      AK_Juneau_2.json    ../data\\AK_Juneau_2.json           6          63   \n",
       "3      AK_Juneau_3.json    ../data\\AK_Juneau_3.json           5          63   \n",
       "4      AK_Juneau_4.json    ../data\\AK_Juneau_4.json           4          63   \n",
       "..                  ...                         ...         ...         ...   \n",
       "245  WY_Cheyenne_0.json  ../data\\WY_Cheyenne_0.json           1           0   \n",
       "246  WY_Cheyenne_1.json  ../data\\WY_Cheyenne_1.json           1           0   \n",
       "247  WY_Cheyenne_2.json  ../data\\WY_Cheyenne_2.json           1           0   \n",
       "248  WY_Cheyenne_3.json  ../data\\WY_Cheyenne_3.json           1           0   \n",
       "249  WY_Cheyenne_4.json  ../data\\WY_Cheyenne_4.json           1           0   \n",
       "\n",
       "                                             cols_name  \n",
       "0    [last_update_date, tags, permalink, status, li...  \n",
       "1    [primary_photo, last_update_date, source, tags...  \n",
       "2    [primary_photo, last_update_date, source, tags...  \n",
       "3    [primary_photo, last_update_date, source, tags...  \n",
       "4    [primary_photo, last_update_date, source, tags...  \n",
       "..                                                 ...  \n",
       "245                                                 []  \n",
       "246                                                 []  \n",
       "247                                                 []  \n",
       "248                                                 []  \n",
       "249                                                 []  \n",
       "\n",
       "[250 rows x 5 columns]"
      ]
     },
     "execution_count": 448,
     "metadata": {},
     "output_type": "execute_result"
    }
   ],
   "source": [
    "overview"
   ]
  },
  {
   "cell_type": "markdown",
   "metadata": {},
   "source": [
    "##### - Comparing, Checking files"
   ]
  },
  {
   "cell_type": "code",
   "execution_count": 449,
   "metadata": {},
   "outputs": [
    {
     "data": {
      "text/plain": [
       "dict_keys(['total', 'count', 'results'])"
      ]
     },
     "execution_count": 449,
     "metadata": {},
     "output_type": "execute_result"
    }
   ],
   "source": [
    "# 226 -- just chose one of the files that has an empty 'results' key\n",
    "weird_file_path = overview.iloc[226]['file_path']\n",
    "\n",
    "with open(weird_file_path) as f:\n",
    "  weird_file = json.load(f)\n",
    "\n",
    "weird_file['data'].keys()"
   ]
  },
  {
   "cell_type": "code",
   "execution_count": 450,
   "metadata": {},
   "outputs": [
    {
     "data": {
      "text/plain": [
       "(0, 8)"
      ]
     },
     "execution_count": 450,
     "metadata": {},
     "output_type": "execute_result"
    }
   ],
   "source": [
    "len(weird_file['data']['results']), len(data_json['data']['results']) # Weird vs Normal File"
   ]
  },
  {
   "cell_type": "code",
   "execution_count": 451,
   "metadata": {},
   "outputs": [
    {
     "data": {
      "text/plain": [
       "(32, 5)"
      ]
     },
     "execution_count": 451,
     "metadata": {},
     "output_type": "execute_result"
    }
   ],
   "source": [
    "weird_files = overview[overview['cols_count'] == 0]\n",
    "\n",
    "weird_files.shape"
   ]
  },
  {
   "cell_type": "code",
   "execution_count": 452,
   "metadata": {},
   "outputs": [
    {
     "name": "stdout",
     "output_type": "stream",
     "text": [
      "../data\\HI_Honolulu_3.json returns empty 'results'\n",
      "../data\\HI_Honolulu_4.json returns empty 'results'\n",
      "../data\\ME_Augusta_0.json returns empty 'results'\n",
      "../data\\ME_Augusta_1.json returns empty 'results'\n",
      "../data\\ME_Augusta_2.json returns empty 'results'\n",
      "../data\\ME_Augusta_3.json returns empty 'results'\n",
      "../data\\ME_Augusta_4.json returns empty 'results'\n",
      "../data\\MS_Jackson_0.json returns empty 'results'\n",
      "../data\\MS_Jackson_1.json returns empty 'results'\n",
      "../data\\MS_Jackson_2.json returns empty 'results'\n",
      "../data\\MS_Jackson_3.json returns empty 'results'\n",
      "../data\\MS_Jackson_4.json returns empty 'results'\n",
      "../data\\ND_Bismarck_2.json returns empty 'results'\n",
      "../data\\ND_Bismarck_3.json returns empty 'results'\n",
      "../data\\ND_Bismarck_4.json returns empty 'results'\n",
      "../data\\NH_Concord_3.json returns empty 'results'\n",
      "../data\\NH_Concord_4.json returns empty 'results'\n",
      "../data\\SD_Pierre_0.json returns empty 'results'\n",
      "../data\\SD_Pierre_1.json returns empty 'results'\n",
      "../data\\SD_Pierre_2.json returns empty 'results'\n",
      "../data\\SD_Pierre_3.json returns empty 'results'\n",
      "../data\\SD_Pierre_4.json returns empty 'results'\n",
      "../data\\VT_Montpelier_0.json returns empty 'results'\n",
      "../data\\VT_Montpelier_1.json returns empty 'results'\n",
      "../data\\VT_Montpelier_2.json returns empty 'results'\n",
      "../data\\VT_Montpelier_3.json returns empty 'results'\n",
      "../data\\VT_Montpelier_4.json returns empty 'results'\n",
      "../data\\WY_Cheyenne_0.json returns empty 'results'\n",
      "../data\\WY_Cheyenne_1.json returns empty 'results'\n",
      "../data\\WY_Cheyenne_2.json returns empty 'results'\n",
      "../data\\WY_Cheyenne_3.json returns empty 'results'\n",
      "../data\\WY_Cheyenne_4.json returns empty 'results'\n"
     ]
    }
   ],
   "source": [
    "# Create a list of files with an empty 'results' key or has other problems\n",
    "weird = []\n",
    "extra_weird = []\n",
    "  \n",
    "for file in weird_files['file_path']:\n",
    "  \n",
    "  with open(file) as f:\n",
    "    weird_file = json.load(f)\n",
    "  \n",
    "  if len(weird_file['data']['results']) == 0:\n",
    "    print(f'{file} returns empty \\'results\\'')\n",
    "    weird.append(file)\n",
    "  \n",
    "  else:\n",
    "    print(f'{file} has another problem...')\n",
    "    extra_weird.append(file)"
   ]
  },
  {
   "cell_type": "code",
   "execution_count": 453,
   "metadata": {},
   "outputs": [
    {
     "name": "stdout",
     "output_type": "stream",
     "text": [
      "\n",
      "32 Weird Files...\n",
      "['../data\\\\HI_Honolulu_3.json', '../data\\\\HI_Honolulu_4.json', '../data\\\\ME_Augusta_0.json', '../data\\\\ME_Augusta_1.json', '../data\\\\ME_Augusta_2.json', '../data\\\\ME_Augusta_3.json', '../data\\\\ME_Augusta_4.json', '../data\\\\MS_Jackson_0.json', '../data\\\\MS_Jackson_1.json', '../data\\\\MS_Jackson_2.json', '../data\\\\MS_Jackson_3.json', '../data\\\\MS_Jackson_4.json', '../data\\\\ND_Bismarck_2.json', '../data\\\\ND_Bismarck_3.json', '../data\\\\ND_Bismarck_4.json', '../data\\\\NH_Concord_3.json', '../data\\\\NH_Concord_4.json', '../data\\\\SD_Pierre_0.json', '../data\\\\SD_Pierre_1.json', '../data\\\\SD_Pierre_2.json', '../data\\\\SD_Pierre_3.json', '../data\\\\SD_Pierre_4.json', '../data\\\\VT_Montpelier_0.json', '../data\\\\VT_Montpelier_1.json', '../data\\\\VT_Montpelier_2.json', '../data\\\\VT_Montpelier_3.json', '../data\\\\VT_Montpelier_4.json', '../data\\\\WY_Cheyenne_0.json', '../data\\\\WY_Cheyenne_1.json', '../data\\\\WY_Cheyenne_2.json', '../data\\\\WY_Cheyenne_3.json', '../data\\\\WY_Cheyenne_4.json']\n",
      "\n",
      "0 Extra Weird Files... \n",
      "[]\n"
     ]
    }
   ],
   "source": [
    "print(f'\\n{len(weird)} Weird Files...\\n{weird}')\n",
    "print(f'\\n{len(extra_weird)} Extra Weird Files... \\n{extra_weird}')"
   ]
  },
  {
   "cell_type": "code",
   "execution_count": 454,
   "metadata": {},
   "outputs": [],
   "source": [
    "# Safe to drop the weird files from the overview dataframe\n",
    "drop = [i for i in weird_files.index]\n",
    "\n",
    "overview.drop(drop, inplace=True) # Originally 250, 5"
   ]
  },
  {
   "cell_type": "code",
   "execution_count": 455,
   "metadata": {},
   "outputs": [
    {
     "data": {
      "text/plain": [
       "(218, 5)"
      ]
     },
     "execution_count": 455,
     "metadata": {},
     "output_type": "execute_result"
    }
   ],
   "source": [
    "overview.shape"
   ]
  },
  {
   "cell_type": "code",
   "execution_count": 456,
   "metadata": {},
   "outputs": [
    {
     "data": {
      "text/html": [
       "<div>\n",
       "<style scoped>\n",
       "    .dataframe tbody tr th:only-of-type {\n",
       "        vertical-align: middle;\n",
       "    }\n",
       "\n",
       "    .dataframe tbody tr th {\n",
       "        vertical-align: top;\n",
       "    }\n",
       "\n",
       "    .dataframe thead th {\n",
       "        text-align: right;\n",
       "    }\n",
       "</style>\n",
       "<table border=\"1\" class=\"dataframe\">\n",
       "  <thead>\n",
       "    <tr style=\"text-align: right;\">\n",
       "      <th></th>\n",
       "      <th>file_name</th>\n",
       "      <th>file_path</th>\n",
       "      <th>rows_count</th>\n",
       "      <th>cols_count</th>\n",
       "      <th>cols_name</th>\n",
       "    </tr>\n",
       "  </thead>\n",
       "  <tbody>\n",
       "    <tr>\n",
       "      <th>0</th>\n",
       "      <td>AK_Juneau_0.json</td>\n",
       "      <td>../data\\AK_Juneau_0.json</td>\n",
       "      <td>8</td>\n",
       "      <td>64</td>\n",
       "      <td>[last_update_date, tags, permalink, status, li...</td>\n",
       "    </tr>\n",
       "    <tr>\n",
       "      <th>1</th>\n",
       "      <td>AK_Juneau_1.json</td>\n",
       "      <td>../data\\AK_Juneau_1.json</td>\n",
       "      <td>7</td>\n",
       "      <td>63</td>\n",
       "      <td>[primary_photo, last_update_date, source, tags...</td>\n",
       "    </tr>\n",
       "    <tr>\n",
       "      <th>2</th>\n",
       "      <td>AK_Juneau_2.json</td>\n",
       "      <td>../data\\AK_Juneau_2.json</td>\n",
       "      <td>6</td>\n",
       "      <td>63</td>\n",
       "      <td>[primary_photo, last_update_date, source, tags...</td>\n",
       "    </tr>\n",
       "    <tr>\n",
       "      <th>3</th>\n",
       "      <td>AK_Juneau_3.json</td>\n",
       "      <td>../data\\AK_Juneau_3.json</td>\n",
       "      <td>5</td>\n",
       "      <td>63</td>\n",
       "      <td>[primary_photo, last_update_date, source, tags...</td>\n",
       "    </tr>\n",
       "    <tr>\n",
       "      <th>4</th>\n",
       "      <td>AK_Juneau_4.json</td>\n",
       "      <td>../data\\AK_Juneau_4.json</td>\n",
       "      <td>4</td>\n",
       "      <td>63</td>\n",
       "      <td>[primary_photo, last_update_date, source, tags...</td>\n",
       "    </tr>\n",
       "    <tr>\n",
       "      <th>...</th>\n",
       "      <td>...</td>\n",
       "      <td>...</td>\n",
       "      <td>...</td>\n",
       "      <td>...</td>\n",
       "      <td>...</td>\n",
       "    </tr>\n",
       "    <tr>\n",
       "      <th>240</th>\n",
       "      <td>WV_Charleston_0.json</td>\n",
       "      <td>../data\\WV_Charleston_0.json</td>\n",
       "      <td>42</td>\n",
       "      <td>61</td>\n",
       "      <td>[last_update_date, tags, permalink, status, li...</td>\n",
       "    </tr>\n",
       "    <tr>\n",
       "      <th>241</th>\n",
       "      <td>WV_Charleston_1.json</td>\n",
       "      <td>../data\\WV_Charleston_1.json</td>\n",
       "      <td>42</td>\n",
       "      <td>61</td>\n",
       "      <td>[last_update_date, tags, permalink, status, li...</td>\n",
       "    </tr>\n",
       "    <tr>\n",
       "      <th>242</th>\n",
       "      <td>WV_Charleston_2.json</td>\n",
       "      <td>../data\\WV_Charleston_2.json</td>\n",
       "      <td>41</td>\n",
       "      <td>61</td>\n",
       "      <td>[last_update_date, tags, permalink, status, li...</td>\n",
       "    </tr>\n",
       "    <tr>\n",
       "      <th>243</th>\n",
       "      <td>WV_Charleston_3.json</td>\n",
       "      <td>../data\\WV_Charleston_3.json</td>\n",
       "      <td>40</td>\n",
       "      <td>61</td>\n",
       "      <td>[last_update_date, tags, permalink, status, li...</td>\n",
       "    </tr>\n",
       "    <tr>\n",
       "      <th>244</th>\n",
       "      <td>WV_Charleston_4.json</td>\n",
       "      <td>../data\\WV_Charleston_4.json</td>\n",
       "      <td>39</td>\n",
       "      <td>61</td>\n",
       "      <td>[last_update_date, tags, permalink, status, li...</td>\n",
       "    </tr>\n",
       "  </tbody>\n",
       "</table>\n",
       "<p>218 rows × 5 columns</p>\n",
       "</div>"
      ],
      "text/plain": [
       "                file_name                     file_path  rows_count  \\\n",
       "0        AK_Juneau_0.json      ../data\\AK_Juneau_0.json           8   \n",
       "1        AK_Juneau_1.json      ../data\\AK_Juneau_1.json           7   \n",
       "2        AK_Juneau_2.json      ../data\\AK_Juneau_2.json           6   \n",
       "3        AK_Juneau_3.json      ../data\\AK_Juneau_3.json           5   \n",
       "4        AK_Juneau_4.json      ../data\\AK_Juneau_4.json           4   \n",
       "..                    ...                           ...         ...   \n",
       "240  WV_Charleston_0.json  ../data\\WV_Charleston_0.json          42   \n",
       "241  WV_Charleston_1.json  ../data\\WV_Charleston_1.json          42   \n",
       "242  WV_Charleston_2.json  ../data\\WV_Charleston_2.json          41   \n",
       "243  WV_Charleston_3.json  ../data\\WV_Charleston_3.json          40   \n",
       "244  WV_Charleston_4.json  ../data\\WV_Charleston_4.json          39   \n",
       "\n",
       "     cols_count                                          cols_name  \n",
       "0            64  [last_update_date, tags, permalink, status, li...  \n",
       "1            63  [primary_photo, last_update_date, source, tags...  \n",
       "2            63  [primary_photo, last_update_date, source, tags...  \n",
       "3            63  [primary_photo, last_update_date, source, tags...  \n",
       "4            63  [primary_photo, last_update_date, source, tags...  \n",
       "..          ...                                                ...  \n",
       "240          61  [last_update_date, tags, permalink, status, li...  \n",
       "241          61  [last_update_date, tags, permalink, status, li...  \n",
       "242          61  [last_update_date, tags, permalink, status, li...  \n",
       "243          61  [last_update_date, tags, permalink, status, li...  \n",
       "244          61  [last_update_date, tags, permalink, status, li...  \n",
       "\n",
       "[218 rows x 5 columns]"
      ]
     },
     "execution_count": 456,
     "metadata": {},
     "output_type": "execute_result"
    }
   ],
   "source": [
    "overview # I will use the file_path column to load the data"
   ]
  },
  {
   "cell_type": "markdown",
   "metadata": {},
   "source": [
    "##### - Resuming Data Import Procedures"
   ]
  },
  {
   "cell_type": "code",
   "execution_count": 457,
   "metadata": {},
   "outputs": [
    {
     "data": {
      "text/html": [
       "<div>\n",
       "<style scoped>\n",
       "    .dataframe tbody tr th:only-of-type {\n",
       "        vertical-align: middle;\n",
       "    }\n",
       "\n",
       "    .dataframe tbody tr th {\n",
       "        vertical-align: top;\n",
       "    }\n",
       "\n",
       "    .dataframe thead th {\n",
       "        text-align: right;\n",
       "    }\n",
       "</style>\n",
       "<table border=\"1\" class=\"dataframe\">\n",
       "  <thead>\n",
       "    <tr style=\"text-align: right;\">\n",
       "      <th></th>\n",
       "      <th>last_update_date</th>\n",
       "      <th>tags</th>\n",
       "      <th>permalink</th>\n",
       "      <th>status</th>\n",
       "      <th>list_date</th>\n",
       "      <th>open_houses</th>\n",
       "      <th>branding</th>\n",
       "      <th>list_price</th>\n",
       "      <th>property_id</th>\n",
       "      <th>photos</th>\n",
       "      <th>...</th>\n",
       "      <th>location.address.state_code</th>\n",
       "      <th>location.address.line</th>\n",
       "      <th>location.street_view_url</th>\n",
       "      <th>location.county.fips_code</th>\n",
       "      <th>location.county.name</th>\n",
       "      <th>primary_photo</th>\n",
       "      <th>source</th>\n",
       "      <th>products</th>\n",
       "      <th>location.address.coordinate</th>\n",
       "      <th>other_listings</th>\n",
       "    </tr>\n",
       "  </thead>\n",
       "  <tbody>\n",
       "    <tr>\n",
       "      <th>0</th>\n",
       "      <td>2023-09-19T20:52:50Z</td>\n",
       "      <td>[carport, community_outdoor_space, cul_de_sac,...</td>\n",
       "      <td>9453-Herbert-Pl_Juneau_AK_99801_M90744-30767</td>\n",
       "      <td>sold</td>\n",
       "      <td>2023-06-29T21:16:25.000000Z</td>\n",
       "      <td>None</td>\n",
       "      <td>[{'name': 'EXP Realty LLC - Southeast Alaska',...</td>\n",
       "      <td>554950.0</td>\n",
       "      <td>9074430767</td>\n",
       "      <td>[{'tags': [{'label': 'house_view', 'probabilit...</td>\n",
       "      <td>...</td>\n",
       "      <td>AK</td>\n",
       "      <td>9453 Herbert Pl</td>\n",
       "      <td>https://maps.googleapis.com/maps/api/streetvie...</td>\n",
       "      <td>None</td>\n",
       "      <td>Juneau</td>\n",
       "      <td>NaN</td>\n",
       "      <td>NaN</td>\n",
       "      <td>NaN</td>\n",
       "      <td>NaN</td>\n",
       "      <td>NaN</td>\n",
       "    </tr>\n",
       "    <tr>\n",
       "      <th>1</th>\n",
       "      <td>None</td>\n",
       "      <td>None</td>\n",
       "      <td>8477-Thunder-Mountain-Rd_Juneau_AK_99801_M9424...</td>\n",
       "      <td>sold</td>\n",
       "      <td>None</td>\n",
       "      <td>None</td>\n",
       "      <td>[{'name': None, 'photo': None, 'type': 'Office'}]</td>\n",
       "      <td>NaN</td>\n",
       "      <td>9424983842</td>\n",
       "      <td>None</td>\n",
       "      <td>...</td>\n",
       "      <td>AK</td>\n",
       "      <td>8477 Thunder Mountain Rd</td>\n",
       "      <td>https://maps.googleapis.com/maps/api/streetvie...</td>\n",
       "      <td>None</td>\n",
       "      <td>Juneau</td>\n",
       "      <td>NaN</td>\n",
       "      <td>NaN</td>\n",
       "      <td>NaN</td>\n",
       "      <td>NaN</td>\n",
       "      <td>NaN</td>\n",
       "    </tr>\n",
       "  </tbody>\n",
       "</table>\n",
       "<p>2 rows × 64 columns</p>\n",
       "</div>"
      ],
      "text/plain": [
       "       last_update_date                                               tags  \\\n",
       "0  2023-09-19T20:52:50Z  [carport, community_outdoor_space, cul_de_sac,...   \n",
       "1                  None                                               None   \n",
       "\n",
       "                                           permalink status  \\\n",
       "0       9453-Herbert-Pl_Juneau_AK_99801_M90744-30767   sold   \n",
       "1  8477-Thunder-Mountain-Rd_Juneau_AK_99801_M9424...   sold   \n",
       "\n",
       "                     list_date open_houses  \\\n",
       "0  2023-06-29T21:16:25.000000Z        None   \n",
       "1                         None        None   \n",
       "\n",
       "                                            branding  list_price property_id  \\\n",
       "0  [{'name': 'EXP Realty LLC - Southeast Alaska',...    554950.0  9074430767   \n",
       "1  [{'name': None, 'photo': None, 'type': 'Office'}]         NaN  9424983842   \n",
       "\n",
       "                                              photos  ...  \\\n",
       "0  [{'tags': [{'label': 'house_view', 'probabilit...  ...   \n",
       "1                                               None  ...   \n",
       "\n",
       "  location.address.state_code     location.address.line  \\\n",
       "0                          AK           9453 Herbert Pl   \n",
       "1                          AK  8477 Thunder Mountain Rd   \n",
       "\n",
       "                            location.street_view_url  \\\n",
       "0  https://maps.googleapis.com/maps/api/streetvie...   \n",
       "1  https://maps.googleapis.com/maps/api/streetvie...   \n",
       "\n",
       "   location.county.fips_code  location.county.name primary_photo  source  \\\n",
       "0                       None                Juneau           NaN     NaN   \n",
       "1                       None                Juneau           NaN     NaN   \n",
       "\n",
       "  products  location.address.coordinate other_listings  \n",
       "0      NaN                          NaN            NaN  \n",
       "1      NaN                          NaN            NaN  \n",
       "\n",
       "[2 rows x 64 columns]"
      ]
     },
     "execution_count": 457,
     "metadata": {},
     "output_type": "execute_result"
    }
   ],
   "source": [
    "# Testing the custom function `read_json` which takes a file path and returns a DataFrame\n",
    "read_json(test_dir).head(2) # Works!"
   ]
  },
  {
   "cell_type": "code",
   "execution_count": 458,
   "metadata": {},
   "outputs": [
    {
     "name": "stdout",
     "output_type": "stream",
     "text": [
      "../data\\AK_Juneau_0.json added to the list. 1/218 processed...\n",
      "../data\\AK_Juneau_1.json added to the list. 2/218 processed...\n",
      "../data\\AK_Juneau_2.json added to the list. 3/218 processed...\n",
      "../data\\AK_Juneau_3.json added to the list. 4/218 processed...\n",
      "../data\\AK_Juneau_4.json added to the list. 5/218 processed...\n",
      "../data\\AL_Montgomery_0.json added to the list. 6/218 processed...\n",
      "../data\\AL_Montgomery_1.json added to the list. 7/218 processed...\n",
      "../data\\AL_Montgomery_2.json added to the list. 8/218 processed...\n",
      "../data\\AL_Montgomery_3.json added to the list. 9/218 processed...\n",
      "../data\\AL_Montgomery_4.json added to the list. 10/218 processed...\n",
      "../data\\AR_LittleRock_0.json added to the list. 11/218 processed...\n",
      "../data\\AR_LittleRock_1.json added to the list. 12/218 processed...\n",
      "../data\\AR_LittleRock_2.json added to the list. 13/218 processed...\n",
      "../data\\AR_LittleRock_3.json added to the list. 14/218 processed...\n",
      "../data\\AR_LittleRock_4.json added to the list. 15/218 processed...\n",
      "../data\\AZ_Phoenix_0.json added to the list. 16/218 processed...\n",
      "../data\\AZ_Phoenix_1.json added to the list. 17/218 processed...\n",
      "../data\\AZ_Phoenix_2.json added to the list. 18/218 processed...\n",
      "../data\\AZ_Phoenix_3.json added to the list. 19/218 processed...\n",
      "../data\\AZ_Phoenix_4.json added to the list. 20/218 processed...\n",
      "../data\\CA_Sacramento_0.json added to the list. 21/218 processed...\n",
      "../data\\CA_Sacramento_1.json added to the list. 22/218 processed...\n",
      "../data\\CA_Sacramento_2.json added to the list. 23/218 processed...\n",
      "../data\\CA_Sacramento_3.json added to the list. 24/218 processed...\n",
      "../data\\CA_Sacramento_4.json added to the list. 25/218 processed...\n",
      "../data\\CO_Denver_0.json added to the list. 26/218 processed...\n",
      "../data\\CO_Denver_1.json added to the list. 27/218 processed...\n",
      "../data\\CO_Denver_2.json added to the list. 28/218 processed...\n",
      "../data\\CO_Denver_3.json added to the list. 29/218 processed...\n",
      "../data\\CO_Denver_4.json added to the list. 30/218 processed...\n",
      "../data\\CT_Hartford_0.json added to the list. 31/218 processed...\n",
      "../data\\CT_Hartford_1.json added to the list. 32/218 processed...\n",
      "../data\\CT_Hartford_2.json added to the list. 33/218 processed...\n",
      "../data\\CT_Hartford_3.json added to the list. 34/218 processed...\n",
      "../data\\CT_Hartford_4.json added to the list. 35/218 processed...\n",
      "../data\\DE_Dover_0.json added to the list. 36/218 processed...\n",
      "../data\\DE_Dover_1.json added to the list. 37/218 processed...\n",
      "../data\\DE_Dover_2.json added to the list. 38/218 processed...\n",
      "../data\\DE_Dover_3.json added to the list. 39/218 processed...\n",
      "../data\\DE_Dover_4.json added to the list. 40/218 processed...\n",
      "../data\\FL_Tallahassee_0.json added to the list. 41/218 processed...\n",
      "../data\\FL_Tallahassee_1.json added to the list. 42/218 processed...\n",
      "../data\\FL_Tallahassee_2.json added to the list. 43/218 processed...\n",
      "../data\\FL_Tallahassee_3.json added to the list. 44/218 processed...\n",
      "../data\\FL_Tallahassee_4.json added to the list. 45/218 processed...\n",
      "../data\\GA_Atlanta_0.json added to the list. 46/218 processed...\n",
      "../data\\GA_Atlanta_1.json added to the list. 47/218 processed...\n",
      "../data\\GA_Atlanta_2.json added to the list. 48/218 processed...\n",
      "../data\\GA_Atlanta_3.json added to the list. 49/218 processed...\n",
      "../data\\GA_Atlanta_4.json added to the list. 50/218 processed...\n",
      "../data\\HI_Honolulu_0.json added to the list. 51/218 processed...\n",
      "../data\\HI_Honolulu_1.json added to the list. 52/218 processed...\n",
      "../data\\HI_Honolulu_2.json added to the list. 53/218 processed...\n",
      "../data\\IA_DesMoines_0.json added to the list. 54/218 processed...\n",
      "../data\\IA_DesMoines_1.json added to the list. 55/218 processed...\n",
      "../data\\IA_DesMoines_2.json added to the list. 56/218 processed...\n",
      "../data\\IA_DesMoines_3.json added to the list. 57/218 processed...\n",
      "../data\\IA_DesMoines_4.json added to the list. 58/218 processed...\n",
      "../data\\ID_Boise_0.json added to the list. 59/218 processed...\n",
      "../data\\ID_Boise_1.json added to the list. 60/218 processed...\n",
      "../data\\ID_Boise_2.json added to the list. 61/218 processed...\n",
      "../data\\ID_Boise_3.json added to the list. 62/218 processed...\n",
      "../data\\ID_Boise_4.json added to the list. 63/218 processed...\n",
      "../data\\IL_Springfield_0.json added to the list. 64/218 processed...\n",
      "../data\\IL_Springfield_1.json added to the list. 65/218 processed...\n",
      "../data\\IL_Springfield_2.json added to the list. 66/218 processed...\n",
      "../data\\IL_Springfield_3.json added to the list. 67/218 processed...\n",
      "../data\\IL_Springfield_4.json added to the list. 68/218 processed...\n",
      "../data\\IN_Indianapolis_0.json added to the list. 69/218 processed...\n",
      "../data\\IN_Indianapolis_1.json added to the list. 70/218 processed...\n",
      "../data\\IN_Indianapolis_2.json added to the list. 71/218 processed...\n",
      "../data\\IN_Indianapolis_3.json added to the list. 72/218 processed...\n",
      "../data\\IN_Indianapolis_4.json added to the list. 73/218 processed...\n",
      "../data\\KS_Topeka_0.json added to the list. 74/218 processed...\n",
      "../data\\KS_Topeka_1.json added to the list. 75/218 processed...\n",
      "../data\\KS_Topeka_2.json added to the list. 76/218 processed...\n",
      "../data\\KS_Topeka_3.json added to the list. 77/218 processed...\n",
      "../data\\KS_Topeka_4.json added to the list. 78/218 processed...\n",
      "../data\\KY_Frankfort_0.json added to the list. 79/218 processed...\n",
      "../data\\KY_Frankfort_1.json added to the list. 80/218 processed...\n",
      "../data\\KY_Frankfort_2.json added to the list. 81/218 processed...\n",
      "../data\\KY_Frankfort_3.json added to the list. 82/218 processed...\n",
      "../data\\KY_Frankfort_4.json added to the list. 83/218 processed...\n",
      "../data\\LA_BatonRouge_0.json added to the list. 84/218 processed...\n",
      "../data\\LA_BatonRouge_1.json added to the list. 85/218 processed...\n",
      "../data\\LA_BatonRouge_2.json added to the list. 86/218 processed...\n",
      "../data\\LA_BatonRouge_3.json added to the list. 87/218 processed...\n",
      "../data\\LA_BatonRouge_4.json added to the list. 88/218 processed...\n",
      "../data\\MA_Boston_0.json added to the list. 89/218 processed...\n",
      "../data\\MA_Boston_1.json added to the list. 90/218 processed...\n",
      "../data\\MA_Boston_2.json added to the list. 91/218 processed...\n",
      "../data\\MA_Boston_3.json added to the list. 92/218 processed...\n",
      "../data\\MA_Boston_4.json added to the list. 93/218 processed...\n",
      "../data\\MD_Annapolis_0.json added to the list. 94/218 processed...\n",
      "../data\\MD_Annapolis_1.json added to the list. 95/218 processed...\n",
      "../data\\MD_Annapolis_2.json added to the list. 96/218 processed...\n",
      "../data\\MD_Annapolis_3.json added to the list. 97/218 processed...\n",
      "../data\\MD_Annapolis_4.json added to the list. 98/218 processed...\n",
      "../data\\MI_Lansing_0.json added to the list. 99/218 processed...\n",
      "../data\\MI_Lansing_1.json added to the list. 100/218 processed...\n",
      "../data\\MI_Lansing_2.json added to the list. 101/218 processed...\n",
      "../data\\MI_Lansing_3.json added to the list. 102/218 processed...\n",
      "../data\\MI_Lansing_4.json added to the list. 103/218 processed...\n",
      "../data\\MN_St.Paul_0.json added to the list. 104/218 processed...\n",
      "../data\\MN_St.Paul_1.json added to the list. 105/218 processed...\n",
      "../data\\MN_St.Paul_2.json added to the list. 106/218 processed...\n",
      "../data\\MN_St.Paul_3.json added to the list. 107/218 processed...\n",
      "../data\\MN_St.Paul_4.json added to the list. 108/218 processed...\n",
      "../data\\MO_JeffersonCity_0.json added to the list. 109/218 processed...\n",
      "../data\\MO_JeffersonCity_1.json added to the list. 110/218 processed...\n",
      "../data\\MO_JeffersonCity_2.json added to the list. 111/218 processed...\n",
      "../data\\MO_JeffersonCity_3.json added to the list. 112/218 processed...\n",
      "../data\\MO_JeffersonCity_4.json added to the list. 113/218 processed...\n",
      "../data\\MT_Helena_0.json added to the list. 114/218 processed...\n",
      "../data\\MT_Helena_1.json added to the list. 115/218 processed...\n",
      "../data\\MT_Helena_2.json added to the list. 116/218 processed...\n",
      "../data\\MT_Helena_3.json added to the list. 117/218 processed...\n",
      "../data\\MT_Helena_4.json added to the list. 118/218 processed...\n",
      "../data\\NC_Raleigh_0.json added to the list. 119/218 processed...\n",
      "../data\\NC_Raleigh_1.json added to the list. 120/218 processed...\n",
      "../data\\NC_Raleigh_2.json added to the list. 121/218 processed...\n",
      "../data\\NC_Raleigh_3.json added to the list. 122/218 processed...\n",
      "../data\\NC_Raleigh_4.json added to the list. 123/218 processed...\n",
      "../data\\ND_Bismarck_0.json added to the list. 124/218 processed...\n",
      "../data\\ND_Bismarck_1.json added to the list. 125/218 processed...\n",
      "../data\\NE_Lincoln_0.json added to the list. 126/218 processed...\n",
      "../data\\NE_Lincoln_1.json added to the list. 127/218 processed...\n",
      "../data\\NE_Lincoln_2.json added to the list. 128/218 processed...\n",
      "../data\\NE_Lincoln_3.json added to the list. 129/218 processed...\n",
      "../data\\NE_Lincoln_4.json added to the list. 130/218 processed...\n",
      "../data\\NH_Concord_0.json added to the list. 131/218 processed...\n",
      "../data\\NH_Concord_1.json added to the list. 132/218 processed...\n",
      "../data\\NH_Concord_2.json added to the list. 133/218 processed...\n",
      "../data\\NJ_Trenton_0.json added to the list. 134/218 processed...\n",
      "../data\\NJ_Trenton_1.json added to the list. 135/218 processed...\n",
      "../data\\NJ_Trenton_2.json added to the list. 136/218 processed...\n",
      "../data\\NJ_Trenton_3.json added to the list. 137/218 processed...\n",
      "../data\\NJ_Trenton_4.json added to the list. 138/218 processed...\n",
      "../data\\NM_SantaFe_0.json added to the list. 139/218 processed...\n",
      "../data\\NM_SantaFe_1.json added to the list. 140/218 processed...\n",
      "../data\\NM_SantaFe_2.json added to the list. 141/218 processed...\n",
      "../data\\NM_SantaFe_3.json added to the list. 142/218 processed...\n",
      "../data\\NM_SantaFe_4.json added to the list. 143/218 processed...\n",
      "../data\\NV_CarsonCity_0.json added to the list. 144/218 processed...\n",
      "../data\\NV_CarsonCity_1.json added to the list. 145/218 processed...\n",
      "../data\\NV_CarsonCity_2.json added to the list. 146/218 processed...\n",
      "../data\\NV_CarsonCity_3.json added to the list. 147/218 processed...\n",
      "../data\\NV_CarsonCity_4.json added to the list. 148/218 processed...\n",
      "../data\\NY_Albany_0.json added to the list. 149/218 processed...\n",
      "../data\\NY_Albany_1.json added to the list. 150/218 processed...\n",
      "../data\\NY_Albany_2.json added to the list. 151/218 processed...\n",
      "../data\\NY_Albany_3.json added to the list. 152/218 processed...\n",
      "../data\\NY_Albany_4.json added to the list. 153/218 processed...\n",
      "../data\\OH_Columbus_0.json added to the list. 154/218 processed...\n",
      "../data\\OH_Columbus_1.json added to the list. 155/218 processed...\n",
      "../data\\OH_Columbus_2.json added to the list. 156/218 processed...\n",
      "../data\\OH_Columbus_3.json added to the list. 157/218 processed...\n",
      "../data\\OH_Columbus_4.json added to the list. 158/218 processed...\n",
      "../data\\OK_OklahomaCity_0.json added to the list. 159/218 processed...\n",
      "../data\\OK_OklahomaCity_1.json added to the list. 160/218 processed...\n",
      "../data\\OK_OklahomaCity_2.json added to the list. 161/218 processed...\n",
      "../data\\OK_OklahomaCity_3.json added to the list. 162/218 processed...\n",
      "../data\\OK_OklahomaCity_4.json added to the list. 163/218 processed...\n",
      "../data\\OR_Salem_0.json added to the list. 164/218 processed...\n",
      "../data\\OR_Salem_1.json added to the list. 165/218 processed...\n",
      "../data\\OR_Salem_2.json added to the list. 166/218 processed...\n",
      "../data\\OR_Salem_3.json added to the list. 167/218 processed...\n",
      "../data\\OR_Salem_4.json added to the list. 168/218 processed...\n",
      "../data\\PA_Harrisburg_0.json added to the list. 169/218 processed...\n",
      "../data\\PA_Harrisburg_1.json added to the list. 170/218 processed...\n",
      "../data\\PA_Harrisburg_2.json added to the list. 171/218 processed...\n",
      "../data\\PA_Harrisburg_3.json added to the list. 172/218 processed...\n",
      "../data\\PA_Harrisburg_4.json added to the list. 173/218 processed...\n",
      "../data\\RI_Providence_0.json added to the list. 174/218 processed...\n",
      "../data\\RI_Providence_1.json added to the list. 175/218 processed...\n",
      "../data\\RI_Providence_2.json added to the list. 176/218 processed...\n",
      "../data\\RI_Providence_3.json added to the list. 177/218 processed...\n",
      "../data\\RI_Providence_4.json added to the list. 178/218 processed...\n",
      "../data\\SC_Columbia_0.json added to the list. 179/218 processed...\n",
      "../data\\SC_Columbia_1.json added to the list. 180/218 processed...\n",
      "../data\\SC_Columbia_2.json added to the list. 181/218 processed...\n",
      "../data\\SC_Columbia_3.json added to the list. 182/218 processed...\n",
      "../data\\SC_Columbia_4.json added to the list. 183/218 processed...\n",
      "../data\\TN_Nashville_0.json added to the list. 184/218 processed...\n",
      "../data\\TN_Nashville_1.json added to the list. 185/218 processed...\n",
      "../data\\TN_Nashville_2.json added to the list. 186/218 processed...\n",
      "../data\\TN_Nashville_3.json added to the list. 187/218 processed...\n",
      "../data\\TN_Nashville_4.json added to the list. 188/218 processed...\n",
      "../data\\TX_Austin_0.json added to the list. 189/218 processed...\n",
      "../data\\TX_Austin_1.json added to the list. 190/218 processed...\n",
      "../data\\TX_Austin_2.json added to the list. 191/218 processed...\n",
      "../data\\TX_Austin_3.json added to the list. 192/218 processed...\n",
      "../data\\TX_Austin_4.json added to the list. 193/218 processed...\n",
      "../data\\UT_SaltLakeCity_0.json added to the list. 194/218 processed...\n",
      "../data\\UT_SaltLakeCity_1.json added to the list. 195/218 processed...\n",
      "../data\\UT_SaltLakeCity_2.json added to the list. 196/218 processed...\n",
      "../data\\UT_SaltLakeCity_3.json added to the list. 197/218 processed...\n",
      "../data\\UT_SaltLakeCity_4.json added to the list. 198/218 processed...\n",
      "../data\\VA_Richmond_0.json added to the list. 199/218 processed...\n",
      "../data\\VA_Richmond_1.json added to the list. 200/218 processed...\n",
      "../data\\VA_Richmond_2.json added to the list. 201/218 processed...\n",
      "../data\\VA_Richmond_3.json added to the list. 202/218 processed...\n",
      "../data\\VA_Richmond_4.json added to the list. 203/218 processed...\n",
      "../data\\WA_Olympia_0.json added to the list. 204/218 processed...\n",
      "../data\\WA_Olympia_1.json added to the list. 205/218 processed...\n",
      "../data\\WA_Olympia_2.json added to the list. 206/218 processed...\n",
      "../data\\WA_Olympia_3.json added to the list. 207/218 processed...\n",
      "../data\\WA_Olympia_4.json added to the list. 208/218 processed...\n",
      "../data\\WI_Madison_0.json added to the list. 209/218 processed...\n",
      "../data\\WI_Madison_1.json added to the list. 210/218 processed...\n",
      "../data\\WI_Madison_2.json added to the list. 211/218 processed...\n",
      "../data\\WI_Madison_3.json added to the list. 212/218 processed...\n",
      "../data\\WI_Madison_4.json added to the list. 213/218 processed...\n",
      "../data\\WV_Charleston_0.json added to the list. 214/218 processed...\n",
      "../data\\WV_Charleston_1.json added to the list. 215/218 processed...\n",
      "../data\\WV_Charleston_2.json added to the list. 216/218 processed...\n",
      "../data\\WV_Charleston_3.json added to the list. 217/218 processed...\n",
      "../data\\WV_Charleston_4.json added to the list. 218/218 processed...\n",
      "\n",
      "218 files loaded into the list of DataFrames.\n"
     ]
    }
   ],
   "source": [
    "# loop over all files and put them into a dataframe\n",
    "combine_all = []\n",
    "\n",
    "for path in overview['file_path']:\n",
    "  df = read_json(path)\n",
    "  combine_all.append(df)\n",
    "  print(f'{path} added to the list. {len(combine_all)}/{overview.shape[0]} processed...')\n",
    "\n",
    "print(f'\\n{len(combine_all)} files loaded into the list of DataFrames.')"
   ]
  },
  {
   "cell_type": "code",
   "execution_count": 459,
   "metadata": {},
   "outputs": [
    {
     "name": "stderr",
     "output_type": "stream",
     "text": [
      "C:\\Users\\kadm2\\AppData\\Local\\Temp\\ipykernel_16132\\3315332010.py:1: FutureWarning: The behavior of DataFrame concatenation with empty or all-NA entries is deprecated. In a future version, this will no longer exclude empty or all-NA columns when determining the result dtypes. To retain the old behavior, exclude the relevant entries before the concat operation.\n",
      "  housing_dataset = pd.concat(combine_all, ignore_index=True)\n"
     ]
    },
    {
     "data": {
      "text/plain": [
       "(8159, 67)"
      ]
     },
     "execution_count": 459,
     "metadata": {},
     "output_type": "execute_result"
    }
   ],
   "source": [
    "housing_dataset = pd.concat(combine_all, ignore_index=True)\n",
    "\n",
    "housing_dataset.shape"
   ]
  },
  {
   "cell_type": "markdown",
   "metadata": {},
   "source": [
    "#### - Saving outputs..."
   ]
  },
  {
   "cell_type": "code",
   "execution_count": 460,
   "metadata": {},
   "outputs": [],
   "source": [
    "output_path = '../outputs'\n",
    "\n",
    "# --- !!! Uncomment only when saving. Run once and put the # back. !!! --- #\n",
    "# housing_dataset.to_csv(os.path.join(output_path, 'housing_dataset.csv'), index=False)"
   ]
  },
  {
   "cell_type": "markdown",
   "metadata": {},
   "source": [
    "#### - Load"
   ]
  },
  {
   "cell_type": "code",
   "execution_count": 461,
   "metadata": {},
   "outputs": [
    {
     "data": {
      "text/plain": [
       "(8159, 67)"
      ]
     },
     "execution_count": 461,
     "metadata": {},
     "output_type": "execute_result"
    }
   ],
   "source": [
    "housing_df = pd.read_csv(os.path.join(output_path, 'housing_dataset.csv'))\n",
    "\n",
    "housing_df.shape"
   ]
  },
  {
   "cell_type": "markdown",
   "metadata": {},
   "source": [
    "## Data Cleaning and Wrangling"
   ]
  },
  {
   "cell_type": "markdown",
   "metadata": {},
   "source": [
    "At this point, ensure that you have all sales in a dataframe.\n",
    "- Take a quick look at your data (i.e. `.info()`, `.describe()`) - what do you see?\n",
    "- Is each cell one value, or do some cells have lists?\n",
    "- What are the data types of each column?\n",
    "- Some sales may not actually include the sale price (target).  These rows should be dropped.\n",
    "- There are a lot of NA/None values.  Should these be dropped or replaced with something?\n",
    "    - You can drop rows or use various methods to fills NA's - use your best judgement for each column \n",
    "    - i.e. for some columns (like Garage), NA probably just means no Garage, so 0\n",
    "- Drop columns that aren't needed\n",
    "    - Don't keep the list price because it will be too close to the sale price. Assume we want to predict the price of houses not yet listed"
   ]
  },
  {
   "cell_type": "markdown",
   "metadata": {},
   "source": [
    "#### - Quick look at the data and the values in them."
   ]
  },
  {
   "cell_type": "code",
   "execution_count": 462,
   "metadata": {},
   "outputs": [],
   "source": [
    "data = housing_df.copy()"
   ]
  },
  {
   "cell_type": "code",
   "execution_count": 463,
   "metadata": {},
   "outputs": [
    {
     "name": "stdout",
     "output_type": "stream",
     "text": [
      "<class 'pandas.core.frame.DataFrame'>\n",
      "RangeIndex: 8159 entries, 0 to 8158\n",
      "Data columns (total 67 columns):\n",
      " #   Column                                 Non-Null Count  Dtype  \n",
      "---  ------                                 --------------  -----  \n",
      " 0   last_update_date                       8125 non-null   object \n",
      " 1   tags                                   7638 non-null   object \n",
      " 2   permalink                              8159 non-null   object \n",
      " 3   status                                 8159 non-null   object \n",
      " 4   list_date                              7752 non-null   object \n",
      " 5   open_houses                            0 non-null      float64\n",
      " 6   branding                               8159 non-null   object \n",
      " 7   list_price                             7721 non-null   float64\n",
      " 8   property_id                            8159 non-null   int64  \n",
      " 9   photos                                 7403 non-null   object \n",
      " 10  community                              0 non-null      float64\n",
      " 11  virtual_tours                          1351 non-null   object \n",
      " 12  listing_id                             7752 non-null   float64\n",
      " 13  price_reduced_amount                   2484 non-null   float64\n",
      " 14  matterport                             8159 non-null   bool   \n",
      " 15  primary_photo.href                     7403 non-null   object \n",
      " 16  source.plan_id                         5 non-null      float64\n",
      " 17  source.agents                          7752 non-null   object \n",
      " 18  source.spec_id                         5 non-null      object \n",
      " 19  source.type                            7752 non-null   object \n",
      " 20  description.year_built                 7316 non-null   float64\n",
      " 21  description.baths_3qtr                 566 non-null    float64\n",
      " 22  description.sold_date                  8159 non-null   object \n",
      " 23  description.sold_price                 6716 non-null   float64\n",
      " 24  description.baths_full                 7311 non-null   float64\n",
      " 25  description.name                       0 non-null      float64\n",
      " 26  description.baths_half                 2281 non-null   float64\n",
      " 27  description.lot_sqft                   6991 non-null   float64\n",
      " 28  description.sqft                       7323 non-null   float64\n",
      " 29  description.baths                      7980 non-null   float64\n",
      " 30  description.sub_type                   1427 non-null   object \n",
      " 31  description.baths_1qtr                 0 non-null      float64\n",
      " 32  description.garage                     4448 non-null   float64\n",
      " 33  description.stories                    6260 non-null   float64\n",
      " 34  description.beds                       7504 non-null   float64\n",
      " 35  description.type                       8125 non-null   object \n",
      " 36  lead_attributes.show_contact_an_agent  8159 non-null   bool   \n",
      " 37  flags.is_new_construction              0 non-null      float64\n",
      " 38  flags.is_for_rent                      0 non-null      float64\n",
      " 39  flags.is_subdivision                   0 non-null      float64\n",
      " 40  flags.is_contingent                    0 non-null      float64\n",
      " 41  flags.is_price_reduced                 2484 non-null   object \n",
      " 42  flags.is_pending                       0 non-null      float64\n",
      " 43  flags.is_foreclosure                   42 non-null     object \n",
      " 44  flags.is_plan                          0 non-null      float64\n",
      " 45  flags.is_coming_soon                   0 non-null      float64\n",
      " 46  flags.is_new_listing                   7752 non-null   object \n",
      " 47  products.brand_name                    7673 non-null   object \n",
      " 48  other_listings.rdc                     7856 non-null   object \n",
      " 49  location.address.postal_code           8159 non-null   int64  \n",
      " 50  location.address.state                 8159 non-null   object \n",
      " 51  location.address.coordinate.lon        7909 non-null   float64\n",
      " 52  location.address.coordinate.lat        7909 non-null   float64\n",
      " 53  location.address.city                  8154 non-null   object \n",
      " 54  location.address.state_code            8159 non-null   object \n",
      " 55  location.address.line                  8144 non-null   object \n",
      " 56  location.street_view_url               8159 non-null   object \n",
      " 57  location.county.fips_code              7588 non-null   float64\n",
      " 58  location.county.name                   8149 non-null   object \n",
      " 59  primary_photo                          0 non-null      float64\n",
      " 60  source                                 0 non-null      float64\n",
      " 61  products                               0 non-null      float64\n",
      " 62  location.address.coordinate            0 non-null      float64\n",
      " 63  other_listings                         0 non-null      float64\n",
      " 64  community.advertisers                  5 non-null      object \n",
      " 65  community.description.name             5 non-null      object \n",
      " 66  location.county                        0 non-null      float64\n",
      "dtypes: bool(2), float64(35), int64(2), object(28)\n",
      "memory usage: 4.1+ MB\n"
     ]
    }
   ],
   "source": [
    "data.info()"
   ]
  },
  {
   "cell_type": "code",
   "execution_count": 464,
   "metadata": {},
   "outputs": [
    {
     "data": {
      "text/html": [
       "<div>\n",
       "<style scoped>\n",
       "    .dataframe tbody tr th:only-of-type {\n",
       "        vertical-align: middle;\n",
       "    }\n",
       "\n",
       "    .dataframe tbody tr th {\n",
       "        vertical-align: top;\n",
       "    }\n",
       "\n",
       "    .dataframe thead th {\n",
       "        text-align: right;\n",
       "    }\n",
       "</style>\n",
       "<table border=\"1\" class=\"dataframe\">\n",
       "  <thead>\n",
       "    <tr style=\"text-align: right;\">\n",
       "      <th></th>\n",
       "      <th>open_houses</th>\n",
       "      <th>list_price</th>\n",
       "      <th>property_id</th>\n",
       "      <th>community</th>\n",
       "      <th>listing_id</th>\n",
       "      <th>price_reduced_amount</th>\n",
       "      <th>source.plan_id</th>\n",
       "      <th>description.year_built</th>\n",
       "      <th>description.baths_3qtr</th>\n",
       "      <th>description.sold_price</th>\n",
       "      <th>...</th>\n",
       "      <th>location.address.postal_code</th>\n",
       "      <th>location.address.coordinate.lon</th>\n",
       "      <th>location.address.coordinate.lat</th>\n",
       "      <th>location.county.fips_code</th>\n",
       "      <th>primary_photo</th>\n",
       "      <th>source</th>\n",
       "      <th>products</th>\n",
       "      <th>location.address.coordinate</th>\n",
       "      <th>other_listings</th>\n",
       "      <th>location.county</th>\n",
       "    </tr>\n",
       "  </thead>\n",
       "  <tbody>\n",
       "    <tr>\n",
       "      <th>count</th>\n",
       "      <td>0.0</td>\n",
       "      <td>7.721000e+03</td>\n",
       "      <td>8.159000e+03</td>\n",
       "      <td>0.0</td>\n",
       "      <td>7.752000e+03</td>\n",
       "      <td>2.484000e+03</td>\n",
       "      <td>5.000000e+00</td>\n",
       "      <td>7316.000000</td>\n",
       "      <td>566.000000</td>\n",
       "      <td>6.716000e+03</td>\n",
       "      <td>...</td>\n",
       "      <td>8159.000000</td>\n",
       "      <td>7909.000000</td>\n",
       "      <td>7909.000000</td>\n",
       "      <td>7588.000000</td>\n",
       "      <td>0.0</td>\n",
       "      <td>0.0</td>\n",
       "      <td>0.0</td>\n",
       "      <td>0.0</td>\n",
       "      <td>0.0</td>\n",
       "      <td>0.0</td>\n",
       "    </tr>\n",
       "    <tr>\n",
       "      <th>mean</th>\n",
       "      <td>NaN</td>\n",
       "      <td>4.341582e+05</td>\n",
       "      <td>5.755508e+09</td>\n",
       "      <td>NaN</td>\n",
       "      <td>2.957819e+09</td>\n",
       "      <td>2.442704e+04</td>\n",
       "      <td>4.170007e+11</td>\n",
       "      <td>1968.916074</td>\n",
       "      <td>1.247350</td>\n",
       "      <td>4.126050e+05</td>\n",
       "      <td>...</td>\n",
       "      <td>50946.997181</td>\n",
       "      <td>-92.206522</td>\n",
       "      <td>39.009689</td>\n",
       "      <td>28000.253295</td>\n",
       "      <td>NaN</td>\n",
       "      <td>NaN</td>\n",
       "      <td>NaN</td>\n",
       "      <td>NaN</td>\n",
       "      <td>NaN</td>\n",
       "      <td>NaN</td>\n",
       "    </tr>\n",
       "    <tr>\n",
       "      <th>std</th>\n",
       "      <td>NaN</td>\n",
       "      <td>5.514925e+05</td>\n",
       "      <td>2.687366e+09</td>\n",
       "      <td>NaN</td>\n",
       "      <td>7.541620e+07</td>\n",
       "      <td>7.162396e+04</td>\n",
       "      <td>0.000000e+00</td>\n",
       "      <td>35.096914</td>\n",
       "      <td>0.463482</td>\n",
       "      <td>6.994308e+05</td>\n",
       "      <td>...</td>\n",
       "      <td>29257.110670</td>\n",
       "      <td>15.888886</td>\n",
       "      <td>4.374553</td>\n",
       "      <td>15586.751739</td>\n",
       "      <td>NaN</td>\n",
       "      <td>NaN</td>\n",
       "      <td>NaN</td>\n",
       "      <td>NaN</td>\n",
       "      <td>NaN</td>\n",
       "      <td>NaN</td>\n",
       "    </tr>\n",
       "    <tr>\n",
       "      <th>min</th>\n",
       "      <td>NaN</td>\n",
       "      <td>1.000000e+00</td>\n",
       "      <td>1.003443e+09</td>\n",
       "      <td>NaN</td>\n",
       "      <td>6.052327e+08</td>\n",
       "      <td>1.000000e+02</td>\n",
       "      <td>4.170007e+11</td>\n",
       "      <td>1828.000000</td>\n",
       "      <td>1.000000</td>\n",
       "      <td>3.080000e+02</td>\n",
       "      <td>...</td>\n",
       "      <td>2111.000000</td>\n",
       "      <td>-157.810583</td>\n",
       "      <td>21.277707</td>\n",
       "      <td>1101.000000</td>\n",
       "      <td>NaN</td>\n",
       "      <td>NaN</td>\n",
       "      <td>NaN</td>\n",
       "      <td>NaN</td>\n",
       "      <td>NaN</td>\n",
       "      <td>NaN</td>\n",
       "    </tr>\n",
       "    <tr>\n",
       "      <th>25%</th>\n",
       "      <td>NaN</td>\n",
       "      <td>2.090000e+05</td>\n",
       "      <td>3.307743e+09</td>\n",
       "      <td>NaN</td>\n",
       "      <td>2.959499e+09</td>\n",
       "      <td>6.000000e+03</td>\n",
       "      <td>4.170007e+11</td>\n",
       "      <td>1950.000000</td>\n",
       "      <td>1.000000</td>\n",
       "      <td>1.910000e+05</td>\n",
       "      <td>...</td>\n",
       "      <td>25314.000000</td>\n",
       "      <td>-104.971611</td>\n",
       "      <td>35.688084</td>\n",
       "      <td>16001.000000</td>\n",
       "      <td>NaN</td>\n",
       "      <td>NaN</td>\n",
       "      <td>NaN</td>\n",
       "      <td>NaN</td>\n",
       "      <td>NaN</td>\n",
       "      <td>NaN</td>\n",
       "    </tr>\n",
       "    <tr>\n",
       "      <th>50%</th>\n",
       "      <td>NaN</td>\n",
       "      <td>3.250000e+05</td>\n",
       "      <td>6.000993e+09</td>\n",
       "      <td>NaN</td>\n",
       "      <td>2.960836e+09</td>\n",
       "      <td>1.010000e+04</td>\n",
       "      <td>4.170007e+11</td>\n",
       "      <td>1975.000000</td>\n",
       "      <td>1.000000</td>\n",
       "      <td>3.140000e+05</td>\n",
       "      <td>...</td>\n",
       "      <td>50310.000000</td>\n",
       "      <td>-89.333131</td>\n",
       "      <td>39.698210</td>\n",
       "      <td>27123.000000</td>\n",
       "      <td>NaN</td>\n",
       "      <td>NaN</td>\n",
       "      <td>NaN</td>\n",
       "      <td>NaN</td>\n",
       "      <td>NaN</td>\n",
       "      <td>NaN</td>\n",
       "    </tr>\n",
       "    <tr>\n",
       "      <th>75%</th>\n",
       "      <td>NaN</td>\n",
       "      <td>4.999000e+05</td>\n",
       "      <td>8.169927e+09</td>\n",
       "      <td>NaN</td>\n",
       "      <td>2.961805e+09</td>\n",
       "      <td>2.000000e+04</td>\n",
       "      <td>4.170007e+11</td>\n",
       "      <td>1997.000000</td>\n",
       "      <td>1.000000</td>\n",
       "      <td>4.700000e+05</td>\n",
       "      <td>...</td>\n",
       "      <td>78739.000000</td>\n",
       "      <td>-78.617690</td>\n",
       "      <td>41.832266</td>\n",
       "      <td>41047.000000</td>\n",
       "      <td>NaN</td>\n",
       "      <td>NaN</td>\n",
       "      <td>NaN</td>\n",
       "      <td>NaN</td>\n",
       "      <td>NaN</td>\n",
       "      <td>NaN</td>\n",
       "    </tr>\n",
       "    <tr>\n",
       "      <th>max</th>\n",
       "      <td>NaN</td>\n",
       "      <td>1.250000e+07</td>\n",
       "      <td>9.993679e+09</td>\n",
       "      <td>NaN</td>\n",
       "      <td>2.963230e+09</td>\n",
       "      <td>2.015999e+06</td>\n",
       "      <td>4.170007e+11</td>\n",
       "      <td>2024.000000</td>\n",
       "      <td>3.000000</td>\n",
       "      <td>2.706500e+07</td>\n",
       "      <td>...</td>\n",
       "      <td>99801.000000</td>\n",
       "      <td>-71.006343</td>\n",
       "      <td>58.396178</td>\n",
       "      <td>55025.000000</td>\n",
       "      <td>NaN</td>\n",
       "      <td>NaN</td>\n",
       "      <td>NaN</td>\n",
       "      <td>NaN</td>\n",
       "      <td>NaN</td>\n",
       "      <td>NaN</td>\n",
       "    </tr>\n",
       "  </tbody>\n",
       "</table>\n",
       "<p>8 rows × 37 columns</p>\n",
       "</div>"
      ],
      "text/plain": [
       "       open_houses    list_price   property_id  community    listing_id  \\\n",
       "count          0.0  7.721000e+03  8.159000e+03        0.0  7.752000e+03   \n",
       "mean           NaN  4.341582e+05  5.755508e+09        NaN  2.957819e+09   \n",
       "std            NaN  5.514925e+05  2.687366e+09        NaN  7.541620e+07   \n",
       "min            NaN  1.000000e+00  1.003443e+09        NaN  6.052327e+08   \n",
       "25%            NaN  2.090000e+05  3.307743e+09        NaN  2.959499e+09   \n",
       "50%            NaN  3.250000e+05  6.000993e+09        NaN  2.960836e+09   \n",
       "75%            NaN  4.999000e+05  8.169927e+09        NaN  2.961805e+09   \n",
       "max            NaN  1.250000e+07  9.993679e+09        NaN  2.963230e+09   \n",
       "\n",
       "       price_reduced_amount  source.plan_id  description.year_built  \\\n",
       "count          2.484000e+03    5.000000e+00             7316.000000   \n",
       "mean           2.442704e+04    4.170007e+11             1968.916074   \n",
       "std            7.162396e+04    0.000000e+00               35.096914   \n",
       "min            1.000000e+02    4.170007e+11             1828.000000   \n",
       "25%            6.000000e+03    4.170007e+11             1950.000000   \n",
       "50%            1.010000e+04    4.170007e+11             1975.000000   \n",
       "75%            2.000000e+04    4.170007e+11             1997.000000   \n",
       "max            2.015999e+06    4.170007e+11             2024.000000   \n",
       "\n",
       "       description.baths_3qtr  description.sold_price  ...  \\\n",
       "count              566.000000            6.716000e+03  ...   \n",
       "mean                 1.247350            4.126050e+05  ...   \n",
       "std                  0.463482            6.994308e+05  ...   \n",
       "min                  1.000000            3.080000e+02  ...   \n",
       "25%                  1.000000            1.910000e+05  ...   \n",
       "50%                  1.000000            3.140000e+05  ...   \n",
       "75%                  1.000000            4.700000e+05  ...   \n",
       "max                  3.000000            2.706500e+07  ...   \n",
       "\n",
       "       location.address.postal_code  location.address.coordinate.lon  \\\n",
       "count                   8159.000000                      7909.000000   \n",
       "mean                   50946.997181                       -92.206522   \n",
       "std                    29257.110670                        15.888886   \n",
       "min                     2111.000000                      -157.810583   \n",
       "25%                    25314.000000                      -104.971611   \n",
       "50%                    50310.000000                       -89.333131   \n",
       "75%                    78739.000000                       -78.617690   \n",
       "max                    99801.000000                       -71.006343   \n",
       "\n",
       "       location.address.coordinate.lat  location.county.fips_code  \\\n",
       "count                      7909.000000                7588.000000   \n",
       "mean                         39.009689               28000.253295   \n",
       "std                           4.374553               15586.751739   \n",
       "min                          21.277707                1101.000000   \n",
       "25%                          35.688084               16001.000000   \n",
       "50%                          39.698210               27123.000000   \n",
       "75%                          41.832266               41047.000000   \n",
       "max                          58.396178               55025.000000   \n",
       "\n",
       "       primary_photo  source  products  location.address.coordinate  \\\n",
       "count            0.0     0.0       0.0                          0.0   \n",
       "mean             NaN     NaN       NaN                          NaN   \n",
       "std              NaN     NaN       NaN                          NaN   \n",
       "min              NaN     NaN       NaN                          NaN   \n",
       "25%              NaN     NaN       NaN                          NaN   \n",
       "50%              NaN     NaN       NaN                          NaN   \n",
       "75%              NaN     NaN       NaN                          NaN   \n",
       "max              NaN     NaN       NaN                          NaN   \n",
       "\n",
       "       other_listings  location.county  \n",
       "count             0.0              0.0  \n",
       "mean              NaN              NaN  \n",
       "std               NaN              NaN  \n",
       "min               NaN              NaN  \n",
       "25%               NaN              NaN  \n",
       "50%               NaN              NaN  \n",
       "75%               NaN              NaN  \n",
       "max               NaN              NaN  \n",
       "\n",
       "[8 rows x 37 columns]"
      ]
     },
     "execution_count": 464,
     "metadata": {},
     "output_type": "execute_result"
    }
   ],
   "source": [
    "data.describe()"
   ]
  },
  {
   "cell_type": "code",
   "execution_count": 465,
   "metadata": {},
   "outputs": [
    {
     "name": "stdout",
     "output_type": "stream",
     "text": [
      "1716 :: :: :: last_update_date\n",
      "1628 :: :: :: tags\n",
      "1795 :: :: :: permalink\n",
      "1 :: :: :: status\n",
      "1636 :: :: :: list_date\n",
      "0 :: :: :: open_houses\n",
      "996 :: :: :: branding\n",
      "711 :: :: :: list_price\n",
      "1795 :: :: :: property_id\n",
      "1627 :: :: :: photos\n",
      "0 :: :: :: community\n",
      "290 :: :: :: virtual_tours\n",
      "1704 :: :: :: listing_id\n",
      "145 :: :: :: price_reduced_amount\n",
      "2 :: :: :: matterport\n",
      "1627 :: :: :: primary_photo.href\n",
      "1 :: :: :: source.plan_id\n",
      "393 :: :: :: source.agents\n",
      "1 :: :: :: source.spec_id\n",
      "1 :: :: :: source.type\n",
      "147 :: :: :: description.year_built\n",
      "3 :: :: :: description.baths_3qtr\n",
      "127 :: :: :: description.sold_date\n",
      "738 :: :: :: description.sold_price\n",
      "8 :: :: :: description.baths_full\n",
      "0 :: :: :: description.name\n",
      "5 :: :: :: description.baths_half\n",
      "743 :: :: :: description.lot_sqft\n",
      "1119 :: :: :: description.sqft\n",
      "10 :: :: :: description.baths\n",
      "2 :: :: :: description.sub_type\n",
      "0 :: :: :: description.baths_1qtr\n",
      "9 :: :: :: description.garage\n",
      "7 :: :: :: description.stories\n",
      "13 :: :: :: description.beds\n",
      "11 :: :: :: description.type\n",
      "2 :: :: :: lead_attributes.show_contact_an_agent\n",
      "0 :: :: :: flags.is_new_construction\n",
      "0 :: :: :: flags.is_for_rent\n",
      "0 :: :: :: flags.is_subdivision\n",
      "0 :: :: :: flags.is_contingent\n",
      "2 :: :: :: flags.is_price_reduced\n",
      "0 :: :: :: flags.is_pending\n",
      "1 :: :: :: flags.is_foreclosure\n",
      "0 :: :: :: flags.is_plan\n",
      "0 :: :: :: flags.is_coming_soon\n",
      "1 :: :: :: flags.is_new_listing\n",
      "4 :: :: :: products.brand_name\n",
      "1726 :: :: :: other_listings.rdc\n",
      "492 :: :: :: location.address.postal_code\n",
      "45 :: :: :: location.address.state\n",
      "1728 :: :: :: location.address.coordinate.lon\n",
      "1729 :: :: :: location.address.coordinate.lat\n",
      "101 :: :: :: location.address.city\n",
      "45 :: :: :: location.address.state_code\n",
      "1789 :: :: :: location.address.line\n",
      "1792 :: :: :: location.street_view_url\n",
      "65 :: :: :: location.county.fips_code\n",
      "68 :: :: :: location.county.name\n",
      "0 :: :: :: primary_photo\n",
      "0 :: :: :: source\n",
      "0 :: :: :: products\n",
      "0 :: :: :: location.address.coordinate\n",
      "0 :: :: :: other_listings\n",
      "1 :: :: :: community.advertisers\n",
      "1 :: :: :: community.description.name\n",
      "0 :: :: :: location.county\n"
     ]
    }
   ],
   "source": [
    "u = data.nunique()\n",
    "\n",
    "for i in u.index:\n",
    "  print(f'{u[i]} :: :: :: {i}')"
   ]
  },
  {
   "cell_type": "code",
   "execution_count": 466,
   "metadata": {},
   "outputs": [
    {
     "data": {
      "text/html": [
       "<div>\n",
       "<style scoped>\n",
       "    .dataframe tbody tr th:only-of-type {\n",
       "        vertical-align: middle;\n",
       "    }\n",
       "\n",
       "    .dataframe tbody tr th {\n",
       "        vertical-align: top;\n",
       "    }\n",
       "\n",
       "    .dataframe thead th {\n",
       "        text-align: right;\n",
       "    }\n",
       "</style>\n",
       "<table border=\"1\" class=\"dataframe\">\n",
       "  <thead>\n",
       "    <tr style=\"text-align: right;\">\n",
       "      <th></th>\n",
       "      <th>nulls_count</th>\n",
       "      <th>col_name</th>\n",
       "      <th>col_dtype</th>\n",
       "      <th>nunique</th>\n",
       "      <th>unique</th>\n",
       "      <th>col_data_1</th>\n",
       "      <th>col_data_2</th>\n",
       "    </tr>\n",
       "  </thead>\n",
       "  <tbody>\n",
       "    <tr>\n",
       "      <th>66</th>\n",
       "      <td>8159</td>\n",
       "      <td>location.county</td>\n",
       "      <td>float64</td>\n",
       "      <td>0</td>\n",
       "      <td>[nan]</td>\n",
       "      <td>[nan, nan, nan, nan, nan]</td>\n",
       "      <td>[nan, nan, nan, nan, nan]</td>\n",
       "    </tr>\n",
       "    <tr>\n",
       "      <th>10</th>\n",
       "      <td>8159</td>\n",
       "      <td>community</td>\n",
       "      <td>float64</td>\n",
       "      <td>0</td>\n",
       "      <td>[nan]</td>\n",
       "      <td>[nan, nan, nan, nan, nan]</td>\n",
       "      <td>[nan, nan, nan, nan, nan]</td>\n",
       "    </tr>\n",
       "    <tr>\n",
       "      <th>25</th>\n",
       "      <td>8159</td>\n",
       "      <td>description.name</td>\n",
       "      <td>float64</td>\n",
       "      <td>0</td>\n",
       "      <td>[nan]</td>\n",
       "      <td>[nan, nan, nan, nan, nan]</td>\n",
       "      <td>[nan, nan, nan, nan, nan]</td>\n",
       "    </tr>\n",
       "    <tr>\n",
       "      <th>37</th>\n",
       "      <td>8159</td>\n",
       "      <td>flags.is_new_construction</td>\n",
       "      <td>float64</td>\n",
       "      <td>0</td>\n",
       "      <td>[nan]</td>\n",
       "      <td>[nan, nan, nan, nan, nan]</td>\n",
       "      <td>[nan, nan, nan, nan, nan]</td>\n",
       "    </tr>\n",
       "    <tr>\n",
       "      <th>38</th>\n",
       "      <td>8159</td>\n",
       "      <td>flags.is_for_rent</td>\n",
       "      <td>float64</td>\n",
       "      <td>0</td>\n",
       "      <td>[nan]</td>\n",
       "      <td>[nan, nan, nan, nan, nan]</td>\n",
       "      <td>[nan, nan, nan, nan, nan]</td>\n",
       "    </tr>\n",
       "  </tbody>\n",
       "</table>\n",
       "</div>"
      ],
      "text/plain": [
       "    nulls_count                   col_name col_dtype  nunique unique  \\\n",
       "66         8159            location.county   float64        0  [nan]   \n",
       "10         8159                  community   float64        0  [nan]   \n",
       "25         8159           description.name   float64        0  [nan]   \n",
       "37         8159  flags.is_new_construction   float64        0  [nan]   \n",
       "38         8159          flags.is_for_rent   float64        0  [nan]   \n",
       "\n",
       "                   col_data_1                 col_data_2  \n",
       "66  [nan, nan, nan, nan, nan]  [nan, nan, nan, nan, nan]  \n",
       "10  [nan, nan, nan, nan, nan]  [nan, nan, nan, nan, nan]  \n",
       "25  [nan, nan, nan, nan, nan]  [nan, nan, nan, nan, nan]  \n",
       "37  [nan, nan, nan, nan, nan]  [nan, nan, nan, nan, nan]  \n",
       "38  [nan, nan, nan, nan, nan]  [nan, nan, nan, nan, nan]  "
      ]
     },
     "execution_count": 466,
     "metadata": {},
     "output_type": "execute_result"
    }
   ],
   "source": [
    "# Quick look at the columns and the data in it -- Using a custom function, it sorts the df by the number of unique values in each column as well. \n",
    "columns_overview = cols_overview(data)\n",
    "\n",
    "columns_overview.head()"
   ]
  },
  {
   "cell_type": "markdown",
   "metadata": {},
   "source": [
    "##### - Pre-cleaning, Dropping rows.\n",
    "\n",
    "> Some sales may not actually include the sale price (target).  These rows should be dropped.\n",
    "\n",
    "> Don't keep the list price because it will be too close to the sale price."
   ]
  },
  {
   "cell_type": "code",
   "execution_count": 467,
   "metadata": {},
   "outputs": [
    {
     "data": {
      "text/plain": [
       "(8159, 52)"
      ]
     },
     "execution_count": 467,
     "metadata": {},
     "output_type": "execute_result"
    }
   ],
   "source": [
    "drop_cols = ['list_price',\n",
    "             'source.type', \n",
    "             'source.agents', \n",
    "             'last_update_date', \n",
    "             'price_reduced_amount',\n",
    "             'other_listings.rdc',\n",
    "             'last_update_date',\n",
    "             'location.street_view_url',\n",
    "             'matterport',\n",
    "             'products.brand_name',\n",
    "             'lead_attributes.show_contact_an_agent',\n",
    "             'permalink',\n",
    "             'virtual_tours',\n",
    "             'location.address.line',\n",
    "             'description.sub_type',\n",
    "             'flags.is_new_listing']\n",
    "\n",
    "# Dropped location.address.line because we don't need it. Lat/Lon is enough.\n",
    "\n",
    "data.drop(drop_cols, axis=1, inplace=True)\n",
    "data.shape"
   ]
  },
  {
   "cell_type": "markdown",
   "metadata": {},
   "source": [
    "#### - Missing sold_price"
   ]
  },
  {
   "cell_type": "code",
   "execution_count": 468,
   "metadata": {},
   "outputs": [
    {
     "data": {
      "text/plain": [
       "1443"
      ]
     },
     "execution_count": 468,
     "metadata": {},
     "output_type": "execute_result"
    }
   ],
   "source": [
    "data['description.sold_price'].isnull().sum()"
   ]
  },
  {
   "cell_type": "code",
   "execution_count": 469,
   "metadata": {},
   "outputs": [
    {
     "data": {
      "text/html": [
       "<div>\n",
       "<style scoped>\n",
       "    .dataframe tbody tr th:only-of-type {\n",
       "        vertical-align: middle;\n",
       "    }\n",
       "\n",
       "    .dataframe tbody tr th {\n",
       "        vertical-align: top;\n",
       "    }\n",
       "\n",
       "    .dataframe thead th {\n",
       "        text-align: right;\n",
       "    }\n",
       "</style>\n",
       "<table border=\"1\" class=\"dataframe\">\n",
       "  <thead>\n",
       "    <tr style=\"text-align: right;\">\n",
       "      <th></th>\n",
       "      <th>tags</th>\n",
       "      <th>status</th>\n",
       "      <th>list_date</th>\n",
       "      <th>open_houses</th>\n",
       "      <th>branding</th>\n",
       "      <th>property_id</th>\n",
       "      <th>photos</th>\n",
       "      <th>community</th>\n",
       "      <th>listing_id</th>\n",
       "      <th>primary_photo.href</th>\n",
       "      <th>...</th>\n",
       "      <th>location.county.fips_code</th>\n",
       "      <th>location.county.name</th>\n",
       "      <th>primary_photo</th>\n",
       "      <th>source</th>\n",
       "      <th>products</th>\n",
       "      <th>location.address.coordinate</th>\n",
       "      <th>other_listings</th>\n",
       "      <th>community.advertisers</th>\n",
       "      <th>community.description.name</th>\n",
       "      <th>location.county</th>\n",
       "    </tr>\n",
       "  </thead>\n",
       "  <tbody>\n",
       "    <tr>\n",
       "      <th>0</th>\n",
       "      <td>['carport', 'community_outdoor_space', 'cul_de...</td>\n",
       "      <td>sold</td>\n",
       "      <td>2023-06-29T21:16:25.000000Z</td>\n",
       "      <td>NaN</td>\n",
       "      <td>[{'name': 'EXP Realty LLC - Southeast Alaska',...</td>\n",
       "      <td>9074430767</td>\n",
       "      <td>[{'tags': [{'label': 'house_view', 'probabilit...</td>\n",
       "      <td>NaN</td>\n",
       "      <td>2.957242e+09</td>\n",
       "      <td>https://ap.rdcpix.com/07097d34c98a59ebb7996889...</td>\n",
       "      <td>...</td>\n",
       "      <td>NaN</td>\n",
       "      <td>Juneau</td>\n",
       "      <td>NaN</td>\n",
       "      <td>NaN</td>\n",
       "      <td>NaN</td>\n",
       "      <td>NaN</td>\n",
       "      <td>NaN</td>\n",
       "      <td>NaN</td>\n",
       "      <td>NaN</td>\n",
       "      <td>NaN</td>\n",
       "    </tr>\n",
       "    <tr>\n",
       "      <th>1</th>\n",
       "      <td>NaN</td>\n",
       "      <td>sold</td>\n",
       "      <td>NaN</td>\n",
       "      <td>NaN</td>\n",
       "      <td>[{'name': None, 'photo': None, 'type': 'Office'}]</td>\n",
       "      <td>9424983842</td>\n",
       "      <td>NaN</td>\n",
       "      <td>NaN</td>\n",
       "      <td>NaN</td>\n",
       "      <td>NaN</td>\n",
       "      <td>...</td>\n",
       "      <td>NaN</td>\n",
       "      <td>Juneau</td>\n",
       "      <td>NaN</td>\n",
       "      <td>NaN</td>\n",
       "      <td>NaN</td>\n",
       "      <td>NaN</td>\n",
       "      <td>NaN</td>\n",
       "      <td>NaN</td>\n",
       "      <td>NaN</td>\n",
       "      <td>NaN</td>\n",
       "    </tr>\n",
       "    <tr>\n",
       "      <th>2</th>\n",
       "      <td>NaN</td>\n",
       "      <td>sold</td>\n",
       "      <td>NaN</td>\n",
       "      <td>NaN</td>\n",
       "      <td>[{'name': None, 'photo': None, 'type': 'Office'}]</td>\n",
       "      <td>9479068516</td>\n",
       "      <td>NaN</td>\n",
       "      <td>NaN</td>\n",
       "      <td>NaN</td>\n",
       "      <td>NaN</td>\n",
       "      <td>...</td>\n",
       "      <td>NaN</td>\n",
       "      <td>Juneau</td>\n",
       "      <td>NaN</td>\n",
       "      <td>NaN</td>\n",
       "      <td>NaN</td>\n",
       "      <td>NaN</td>\n",
       "      <td>NaN</td>\n",
       "      <td>NaN</td>\n",
       "      <td>NaN</td>\n",
       "      <td>NaN</td>\n",
       "    </tr>\n",
       "    <tr>\n",
       "      <th>3</th>\n",
       "      <td>NaN</td>\n",
       "      <td>sold</td>\n",
       "      <td>NaN</td>\n",
       "      <td>NaN</td>\n",
       "      <td>[{'name': None, 'photo': None, 'type': 'Office'}]</td>\n",
       "      <td>9879331943</td>\n",
       "      <td>NaN</td>\n",
       "      <td>NaN</td>\n",
       "      <td>NaN</td>\n",
       "      <td>NaN</td>\n",
       "      <td>...</td>\n",
       "      <td>NaN</td>\n",
       "      <td>Juneau</td>\n",
       "      <td>NaN</td>\n",
       "      <td>NaN</td>\n",
       "      <td>NaN</td>\n",
       "      <td>NaN</td>\n",
       "      <td>NaN</td>\n",
       "      <td>NaN</td>\n",
       "      <td>NaN</td>\n",
       "      <td>NaN</td>\n",
       "    </tr>\n",
       "    <tr>\n",
       "      <th>4</th>\n",
       "      <td>NaN</td>\n",
       "      <td>sold</td>\n",
       "      <td>NaN</td>\n",
       "      <td>NaN</td>\n",
       "      <td>[{'name': None, 'photo': None, 'type': 'Office'}]</td>\n",
       "      <td>9521639574</td>\n",
       "      <td>NaN</td>\n",
       "      <td>NaN</td>\n",
       "      <td>NaN</td>\n",
       "      <td>NaN</td>\n",
       "      <td>...</td>\n",
       "      <td>NaN</td>\n",
       "      <td>Juneau</td>\n",
       "      <td>NaN</td>\n",
       "      <td>NaN</td>\n",
       "      <td>NaN</td>\n",
       "      <td>NaN</td>\n",
       "      <td>NaN</td>\n",
       "      <td>NaN</td>\n",
       "      <td>NaN</td>\n",
       "      <td>NaN</td>\n",
       "    </tr>\n",
       "    <tr>\n",
       "      <th>...</th>\n",
       "      <td>...</td>\n",
       "      <td>...</td>\n",
       "      <td>...</td>\n",
       "      <td>...</td>\n",
       "      <td>...</td>\n",
       "      <td>...</td>\n",
       "      <td>...</td>\n",
       "      <td>...</td>\n",
       "      <td>...</td>\n",
       "      <td>...</td>\n",
       "      <td>...</td>\n",
       "      <td>...</td>\n",
       "      <td>...</td>\n",
       "      <td>...</td>\n",
       "      <td>...</td>\n",
       "      <td>...</td>\n",
       "      <td>...</td>\n",
       "      <td>...</td>\n",
       "      <td>...</td>\n",
       "      <td>...</td>\n",
       "      <td>...</td>\n",
       "    </tr>\n",
       "    <tr>\n",
       "      <th>7320</th>\n",
       "      <td>['central_air', 'central_heat', 'community_out...</td>\n",
       "      <td>sold</td>\n",
       "      <td>2023-07-07T02:16:44.000000Z</td>\n",
       "      <td>NaN</td>\n",
       "      <td>[{'name': 'Dijjit, LC', 'photo': None, 'type':...</td>\n",
       "      <td>1834972490</td>\n",
       "      <td>NaN</td>\n",
       "      <td>NaN</td>\n",
       "      <td>2.957450e+09</td>\n",
       "      <td>NaN</td>\n",
       "      <td>...</td>\n",
       "      <td>49035.0</td>\n",
       "      <td>Salt Lake</td>\n",
       "      <td>NaN</td>\n",
       "      <td>NaN</td>\n",
       "      <td>NaN</td>\n",
       "      <td>NaN</td>\n",
       "      <td>NaN</td>\n",
       "      <td>NaN</td>\n",
       "      <td>NaN</td>\n",
       "      <td>NaN</td>\n",
       "    </tr>\n",
       "    <tr>\n",
       "      <th>7321</th>\n",
       "      <td>['central_air', 'community_outdoor_space', 'la...</td>\n",
       "      <td>sold</td>\n",
       "      <td>2023-10-19T21:08:10.000000Z</td>\n",
       "      <td>NaN</td>\n",
       "      <td>[{'name': \"Summit Sotheby's International Real...</td>\n",
       "      <td>2597824245</td>\n",
       "      <td>NaN</td>\n",
       "      <td>NaN</td>\n",
       "      <td>2.960709e+09</td>\n",
       "      <td>NaN</td>\n",
       "      <td>...</td>\n",
       "      <td>49035.0</td>\n",
       "      <td>Salt Lake</td>\n",
       "      <td>NaN</td>\n",
       "      <td>NaN</td>\n",
       "      <td>NaN</td>\n",
       "      <td>NaN</td>\n",
       "      <td>NaN</td>\n",
       "      <td>NaN</td>\n",
       "      <td>NaN</td>\n",
       "      <td>NaN</td>\n",
       "    </tr>\n",
       "    <tr>\n",
       "      <th>7322</th>\n",
       "      <td>['central_heat', 'community_outdoor_space', 'l...</td>\n",
       "      <td>sold</td>\n",
       "      <td>2023-10-15T00:55:32.000000Z</td>\n",
       "      <td>NaN</td>\n",
       "      <td>[{'name': 'RED ROCK REAL ESTATE', 'photo': Non...</td>\n",
       "      <td>1641410738</td>\n",
       "      <td>NaN</td>\n",
       "      <td>NaN</td>\n",
       "      <td>2.960567e+09</td>\n",
       "      <td>NaN</td>\n",
       "      <td>...</td>\n",
       "      <td>49035.0</td>\n",
       "      <td>Salt Lake</td>\n",
       "      <td>NaN</td>\n",
       "      <td>NaN</td>\n",
       "      <td>NaN</td>\n",
       "      <td>NaN</td>\n",
       "      <td>NaN</td>\n",
       "      <td>NaN</td>\n",
       "      <td>NaN</td>\n",
       "      <td>NaN</td>\n",
       "    </tr>\n",
       "    <tr>\n",
       "      <th>7323</th>\n",
       "      <td>['rental_property', 'investment_opportunity', ...</td>\n",
       "      <td>sold</td>\n",
       "      <td>2023-10-11T21:16:02.000000Z</td>\n",
       "      <td>NaN</td>\n",
       "      <td>[{'name': 'Investment Realty Advisors LLC', 'p...</td>\n",
       "      <td>1479984642</td>\n",
       "      <td>NaN</td>\n",
       "      <td>NaN</td>\n",
       "      <td>2.960458e+09</td>\n",
       "      <td>NaN</td>\n",
       "      <td>...</td>\n",
       "      <td>49035.0</td>\n",
       "      <td>Salt Lake</td>\n",
       "      <td>NaN</td>\n",
       "      <td>NaN</td>\n",
       "      <td>NaN</td>\n",
       "      <td>NaN</td>\n",
       "      <td>NaN</td>\n",
       "      <td>NaN</td>\n",
       "      <td>NaN</td>\n",
       "      <td>NaN</td>\n",
       "    </tr>\n",
       "    <tr>\n",
       "      <th>7324</th>\n",
       "      <td>['central_air', 'community_outdoor_space', 'fi...</td>\n",
       "      <td>sold</td>\n",
       "      <td>2023-10-15T15:46:03.000000Z</td>\n",
       "      <td>NaN</td>\n",
       "      <td>[{'name': 'EXIT REALTY SUCCESS', 'photo': 'htt...</td>\n",
       "      <td>1262473485</td>\n",
       "      <td>NaN</td>\n",
       "      <td>NaN</td>\n",
       "      <td>2.960571e+09</td>\n",
       "      <td>NaN</td>\n",
       "      <td>...</td>\n",
       "      <td>49035.0</td>\n",
       "      <td>Salt Lake</td>\n",
       "      <td>NaN</td>\n",
       "      <td>NaN</td>\n",
       "      <td>NaN</td>\n",
       "      <td>NaN</td>\n",
       "      <td>NaN</td>\n",
       "      <td>NaN</td>\n",
       "      <td>NaN</td>\n",
       "      <td>NaN</td>\n",
       "    </tr>\n",
       "  </tbody>\n",
       "</table>\n",
       "<p>1443 rows × 52 columns</p>\n",
       "</div>"
      ],
      "text/plain": [
       "                                                   tags status  \\\n",
       "0     ['carport', 'community_outdoor_space', 'cul_de...   sold   \n",
       "1                                                   NaN   sold   \n",
       "2                                                   NaN   sold   \n",
       "3                                                   NaN   sold   \n",
       "4                                                   NaN   sold   \n",
       "...                                                 ...    ...   \n",
       "7320  ['central_air', 'central_heat', 'community_out...   sold   \n",
       "7321  ['central_air', 'community_outdoor_space', 'la...   sold   \n",
       "7322  ['central_heat', 'community_outdoor_space', 'l...   sold   \n",
       "7323  ['rental_property', 'investment_opportunity', ...   sold   \n",
       "7324  ['central_air', 'community_outdoor_space', 'fi...   sold   \n",
       "\n",
       "                        list_date  open_houses  \\\n",
       "0     2023-06-29T21:16:25.000000Z          NaN   \n",
       "1                             NaN          NaN   \n",
       "2                             NaN          NaN   \n",
       "3                             NaN          NaN   \n",
       "4                             NaN          NaN   \n",
       "...                           ...          ...   \n",
       "7320  2023-07-07T02:16:44.000000Z          NaN   \n",
       "7321  2023-10-19T21:08:10.000000Z          NaN   \n",
       "7322  2023-10-15T00:55:32.000000Z          NaN   \n",
       "7323  2023-10-11T21:16:02.000000Z          NaN   \n",
       "7324  2023-10-15T15:46:03.000000Z          NaN   \n",
       "\n",
       "                                               branding  property_id  \\\n",
       "0     [{'name': 'EXP Realty LLC - Southeast Alaska',...   9074430767   \n",
       "1     [{'name': None, 'photo': None, 'type': 'Office'}]   9424983842   \n",
       "2     [{'name': None, 'photo': None, 'type': 'Office'}]   9479068516   \n",
       "3     [{'name': None, 'photo': None, 'type': 'Office'}]   9879331943   \n",
       "4     [{'name': None, 'photo': None, 'type': 'Office'}]   9521639574   \n",
       "...                                                 ...          ...   \n",
       "7320  [{'name': 'Dijjit, LC', 'photo': None, 'type':...   1834972490   \n",
       "7321  [{'name': \"Summit Sotheby's International Real...   2597824245   \n",
       "7322  [{'name': 'RED ROCK REAL ESTATE', 'photo': Non...   1641410738   \n",
       "7323  [{'name': 'Investment Realty Advisors LLC', 'p...   1479984642   \n",
       "7324  [{'name': 'EXIT REALTY SUCCESS', 'photo': 'htt...   1262473485   \n",
       "\n",
       "                                                 photos  community  \\\n",
       "0     [{'tags': [{'label': 'house_view', 'probabilit...        NaN   \n",
       "1                                                   NaN        NaN   \n",
       "2                                                   NaN        NaN   \n",
       "3                                                   NaN        NaN   \n",
       "4                                                   NaN        NaN   \n",
       "...                                                 ...        ...   \n",
       "7320                                                NaN        NaN   \n",
       "7321                                                NaN        NaN   \n",
       "7322                                                NaN        NaN   \n",
       "7323                                                NaN        NaN   \n",
       "7324                                                NaN        NaN   \n",
       "\n",
       "        listing_id                                 primary_photo.href  ...  \\\n",
       "0     2.957242e+09  https://ap.rdcpix.com/07097d34c98a59ebb7996889...  ...   \n",
       "1              NaN                                                NaN  ...   \n",
       "2              NaN                                                NaN  ...   \n",
       "3              NaN                                                NaN  ...   \n",
       "4              NaN                                                NaN  ...   \n",
       "...            ...                                                ...  ...   \n",
       "7320  2.957450e+09                                                NaN  ...   \n",
       "7321  2.960709e+09                                                NaN  ...   \n",
       "7322  2.960567e+09                                                NaN  ...   \n",
       "7323  2.960458e+09                                                NaN  ...   \n",
       "7324  2.960571e+09                                                NaN  ...   \n",
       "\n",
       "      location.county.fips_code location.county.name  primary_photo  source  \\\n",
       "0                           NaN               Juneau            NaN     NaN   \n",
       "1                           NaN               Juneau            NaN     NaN   \n",
       "2                           NaN               Juneau            NaN     NaN   \n",
       "3                           NaN               Juneau            NaN     NaN   \n",
       "4                           NaN               Juneau            NaN     NaN   \n",
       "...                         ...                  ...            ...     ...   \n",
       "7320                    49035.0            Salt Lake            NaN     NaN   \n",
       "7321                    49035.0            Salt Lake            NaN     NaN   \n",
       "7322                    49035.0            Salt Lake            NaN     NaN   \n",
       "7323                    49035.0            Salt Lake            NaN     NaN   \n",
       "7324                    49035.0            Salt Lake            NaN     NaN   \n",
       "\n",
       "     products  location.address.coordinate  other_listings  \\\n",
       "0         NaN                          NaN             NaN   \n",
       "1         NaN                          NaN             NaN   \n",
       "2         NaN                          NaN             NaN   \n",
       "3         NaN                          NaN             NaN   \n",
       "4         NaN                          NaN             NaN   \n",
       "...       ...                          ...             ...   \n",
       "7320      NaN                          NaN             NaN   \n",
       "7321      NaN                          NaN             NaN   \n",
       "7322      NaN                          NaN             NaN   \n",
       "7323      NaN                          NaN             NaN   \n",
       "7324      NaN                          NaN             NaN   \n",
       "\n",
       "      community.advertisers  community.description.name  location.county  \n",
       "0                       NaN                         NaN              NaN  \n",
       "1                       NaN                         NaN              NaN  \n",
       "2                       NaN                         NaN              NaN  \n",
       "3                       NaN                         NaN              NaN  \n",
       "4                       NaN                         NaN              NaN  \n",
       "...                     ...                         ...              ...  \n",
       "7320                    NaN                         NaN              NaN  \n",
       "7321                    NaN                         NaN              NaN  \n",
       "7322                    NaN                         NaN              NaN  \n",
       "7323                    NaN                         NaN              NaN  \n",
       "7324                    NaN                         NaN              NaN  \n",
       "\n",
       "[1443 rows x 52 columns]"
      ]
     },
     "execution_count": 469,
     "metadata": {},
     "output_type": "execute_result"
    }
   ],
   "source": [
    "missing_sold_price = data[data['description.sold_price'].isnull()]\n",
    "\n",
    "missing_sold_price"
   ]
  },
  {
   "cell_type": "code",
   "execution_count": 470,
   "metadata": {},
   "outputs": [],
   "source": [
    "# Drop rows where 'description.sold_price' is NaN\n",
    "data.dropna(subset=['description.sold_price'], inplace=True)"
   ]
  },
  {
   "cell_type": "code",
   "execution_count": 471,
   "metadata": {},
   "outputs": [
    {
     "data": {
      "text/plain": [
       "(6716, 52)"
      ]
     },
     "execution_count": 471,
     "metadata": {},
     "output_type": "execute_result"
    }
   ],
   "source": [
    "data.shape"
   ]
  },
  {
   "cell_type": "markdown",
   "metadata": {},
   "source": [
    "#### Dealing with Nulls"
   ]
  },
  {
   "cell_type": "code",
   "execution_count": 472,
   "metadata": {},
   "outputs": [
    {
     "data": {
      "text/html": [
       "<div>\n",
       "<style scoped>\n",
       "    .dataframe tbody tr th:only-of-type {\n",
       "        vertical-align: middle;\n",
       "    }\n",
       "\n",
       "    .dataframe tbody tr th {\n",
       "        vertical-align: top;\n",
       "    }\n",
       "\n",
       "    .dataframe thead th {\n",
       "        text-align: right;\n",
       "    }\n",
       "</style>\n",
       "<table border=\"1\" class=\"dataframe\">\n",
       "  <thead>\n",
       "    <tr style=\"text-align: right;\">\n",
       "      <th></th>\n",
       "      <th>nulls_count</th>\n",
       "      <th>col_name</th>\n",
       "      <th>col_dtype</th>\n",
       "      <th>nunique</th>\n",
       "      <th>unique</th>\n",
       "      <th>col_data_1</th>\n",
       "      <th>col_data_2</th>\n",
       "    </tr>\n",
       "  </thead>\n",
       "  <tbody>\n",
       "    <tr>\n",
       "      <th>51</th>\n",
       "      <td>6716</td>\n",
       "      <td>location.county</td>\n",
       "      <td>float64</td>\n",
       "      <td>0</td>\n",
       "      <td>[nan]</td>\n",
       "      <td>[nan, nan, nan, nan, nan]</td>\n",
       "      <td>[nan, nan, nan, nan, nan]</td>\n",
       "    </tr>\n",
       "    <tr>\n",
       "      <th>46</th>\n",
       "      <td>6716</td>\n",
       "      <td>products</td>\n",
       "      <td>float64</td>\n",
       "      <td>0</td>\n",
       "      <td>[nan]</td>\n",
       "      <td>[nan, nan, nan, nan, nan]</td>\n",
       "      <td>[nan, nan, nan, nan, nan]</td>\n",
       "    </tr>\n",
       "    <tr>\n",
       "      <th>32</th>\n",
       "      <td>6716</td>\n",
       "      <td>flags.is_pending</td>\n",
       "      <td>float64</td>\n",
       "      <td>0</td>\n",
       "      <td>[nan]</td>\n",
       "      <td>[nan, nan, nan, nan, nan]</td>\n",
       "      <td>[nan, nan, nan, nan, nan]</td>\n",
       "    </tr>\n",
       "    <tr>\n",
       "      <th>30</th>\n",
       "      <td>6716</td>\n",
       "      <td>flags.is_contingent</td>\n",
       "      <td>float64</td>\n",
       "      <td>0</td>\n",
       "      <td>[nan]</td>\n",
       "      <td>[nan, nan, nan, nan, nan]</td>\n",
       "      <td>[nan, nan, nan, nan, nan]</td>\n",
       "    </tr>\n",
       "    <tr>\n",
       "      <th>29</th>\n",
       "      <td>6716</td>\n",
       "      <td>flags.is_subdivision</td>\n",
       "      <td>float64</td>\n",
       "      <td>0</td>\n",
       "      <td>[nan]</td>\n",
       "      <td>[nan, nan, nan, nan, nan]</td>\n",
       "      <td>[nan, nan, nan, nan, nan]</td>\n",
       "    </tr>\n",
       "  </tbody>\n",
       "</table>\n",
       "</div>"
      ],
      "text/plain": [
       "    nulls_count              col_name col_dtype  nunique unique  \\\n",
       "51         6716       location.county   float64        0  [nan]   \n",
       "46         6716              products   float64        0  [nan]   \n",
       "32         6716      flags.is_pending   float64        0  [nan]   \n",
       "30         6716   flags.is_contingent   float64        0  [nan]   \n",
       "29         6716  flags.is_subdivision   float64        0  [nan]   \n",
       "\n",
       "                   col_data_1                 col_data_2  \n",
       "51  [nan, nan, nan, nan, nan]  [nan, nan, nan, nan, nan]  \n",
       "46  [nan, nan, nan, nan, nan]  [nan, nan, nan, nan, nan]  \n",
       "32  [nan, nan, nan, nan, nan]  [nan, nan, nan, nan, nan]  \n",
       "30  [nan, nan, nan, nan, nan]  [nan, nan, nan, nan, nan]  \n",
       "29  [nan, nan, nan, nan, nan]  [nan, nan, nan, nan, nan]  "
      ]
     },
     "execution_count": 472,
     "metadata": {},
     "output_type": "execute_result"
    }
   ],
   "source": [
    "# Re-run the cols_overview function\n",
    "columns_overview = cols_overview(data)\n",
    "\n",
    "columns_overview.head()"
   ]
  },
  {
   "cell_type": "markdown",
   "metadata": {},
   "source": [
    "##### - 6716 nulls (17 Empty columns)"
   ]
  },
  {
   "cell_type": "code",
   "execution_count": 473,
   "metadata": {},
   "outputs": [
    {
     "data": {
      "text/html": [
       "<div>\n",
       "<style scoped>\n",
       "    .dataframe tbody tr th:only-of-type {\n",
       "        vertical-align: middle;\n",
       "    }\n",
       "\n",
       "    .dataframe tbody tr th {\n",
       "        vertical-align: top;\n",
       "    }\n",
       "\n",
       "    .dataframe thead th {\n",
       "        text-align: right;\n",
       "    }\n",
       "</style>\n",
       "<table border=\"1\" class=\"dataframe\">\n",
       "  <thead>\n",
       "    <tr style=\"text-align: right;\">\n",
       "      <th></th>\n",
       "      <th>nulls_count</th>\n",
       "      <th>col_name</th>\n",
       "      <th>col_dtype</th>\n",
       "      <th>nunique</th>\n",
       "      <th>unique</th>\n",
       "      <th>col_data_1</th>\n",
       "      <th>col_data_2</th>\n",
       "    </tr>\n",
       "  </thead>\n",
       "  <tbody>\n",
       "    <tr>\n",
       "      <th>51</th>\n",
       "      <td>6716</td>\n",
       "      <td>location.county</td>\n",
       "      <td>float64</td>\n",
       "      <td>0</td>\n",
       "      <td>[nan]</td>\n",
       "      <td>[nan, nan, nan, nan, nan]</td>\n",
       "      <td>[nan, nan, nan, nan, nan]</td>\n",
       "    </tr>\n",
       "    <tr>\n",
       "      <th>46</th>\n",
       "      <td>6716</td>\n",
       "      <td>products</td>\n",
       "      <td>float64</td>\n",
       "      <td>0</td>\n",
       "      <td>[nan]</td>\n",
       "      <td>[nan, nan, nan, nan, nan]</td>\n",
       "      <td>[nan, nan, nan, nan, nan]</td>\n",
       "    </tr>\n",
       "    <tr>\n",
       "      <th>32</th>\n",
       "      <td>6716</td>\n",
       "      <td>flags.is_pending</td>\n",
       "      <td>float64</td>\n",
       "      <td>0</td>\n",
       "      <td>[nan]</td>\n",
       "      <td>[nan, nan, nan, nan, nan]</td>\n",
       "      <td>[nan, nan, nan, nan, nan]</td>\n",
       "    </tr>\n",
       "    <tr>\n",
       "      <th>30</th>\n",
       "      <td>6716</td>\n",
       "      <td>flags.is_contingent</td>\n",
       "      <td>float64</td>\n",
       "      <td>0</td>\n",
       "      <td>[nan]</td>\n",
       "      <td>[nan, nan, nan, nan, nan]</td>\n",
       "      <td>[nan, nan, nan, nan, nan]</td>\n",
       "    </tr>\n",
       "    <tr>\n",
       "      <th>29</th>\n",
       "      <td>6716</td>\n",
       "      <td>flags.is_subdivision</td>\n",
       "      <td>float64</td>\n",
       "      <td>0</td>\n",
       "      <td>[nan]</td>\n",
       "      <td>[nan, nan, nan, nan, nan]</td>\n",
       "      <td>[nan, nan, nan, nan, nan]</td>\n",
       "    </tr>\n",
       "  </tbody>\n",
       "</table>\n",
       "</div>"
      ],
      "text/plain": [
       "    nulls_count              col_name col_dtype  nunique unique  \\\n",
       "51         6716       location.county   float64        0  [nan]   \n",
       "46         6716              products   float64        0  [nan]   \n",
       "32         6716      flags.is_pending   float64        0  [nan]   \n",
       "30         6716   flags.is_contingent   float64        0  [nan]   \n",
       "29         6716  flags.is_subdivision   float64        0  [nan]   \n",
       "\n",
       "                   col_data_1                 col_data_2  \n",
       "51  [nan, nan, nan, nan, nan]  [nan, nan, nan, nan, nan]  \n",
       "46  [nan, nan, nan, nan, nan]  [nan, nan, nan, nan, nan]  \n",
       "32  [nan, nan, nan, nan, nan]  [nan, nan, nan, nan, nan]  \n",
       "30  [nan, nan, nan, nan, nan]  [nan, nan, nan, nan, nan]  \n",
       "29  [nan, nan, nan, nan, nan]  [nan, nan, nan, nan, nan]  "
      ]
     },
     "execution_count": 473,
     "metadata": {},
     "output_type": "execute_result"
    }
   ],
   "source": [
    "empties = columns_overview[columns_overview['nulls_count'] == data.shape[0]]\n",
    "\n",
    "empties.head()"
   ]
  },
  {
   "cell_type": "code",
   "execution_count": 474,
   "metadata": {},
   "outputs": [
    {
     "data": {
      "text/plain": [
       "(17,\n",
       " ['location.county',\n",
       "  'products',\n",
       "  'flags.is_pending',\n",
       "  'flags.is_contingent',\n",
       "  'flags.is_subdivision',\n",
       "  'flags.is_for_rent',\n",
       "  'flags.is_new_construction',\n",
       "  'description.baths_1qtr',\n",
       "  'primary_photo',\n",
       "  'flags.is_coming_soon',\n",
       "  'source',\n",
       "  'description.name',\n",
       "  'flags.is_plan',\n",
       "  'other_listings',\n",
       "  'open_houses',\n",
       "  'location.address.coordinate',\n",
       "  'community'])"
      ]
     },
     "execution_count": 474,
     "metadata": {},
     "output_type": "execute_result"
    }
   ],
   "source": [
    "is_empty = [i for i in empties['col_name']]\n",
    "\n",
    "len(is_empty), is_empty"
   ]
  },
  {
   "cell_type": "code",
   "execution_count": 475,
   "metadata": {},
   "outputs": [
    {
     "data": {
      "text/plain": [
       "35"
      ]
     },
     "execution_count": 475,
     "metadata": {},
     "output_type": "execute_result"
    }
   ],
   "source": [
    "# Drop the columns that are empty\n",
    "data.drop(columns=is_empty, inplace=True)\n",
    "\n",
    "data.shape[1] # From 58"
   ]
  },
  {
   "cell_type": "code",
   "execution_count": 476,
   "metadata": {},
   "outputs": [
    {
     "data": {
      "text/plain": [
       "(35, 7)"
      ]
     },
     "execution_count": 476,
     "metadata": {},
     "output_type": "execute_result"
    }
   ],
   "source": [
    "# Drop removed columns from columns_overview\n",
    "columns_overview.drop(index=empties.index, inplace=True)\n",
    "\n",
    "columns_overview.shape"
   ]
  },
  {
   "cell_type": "code",
   "execution_count": 477,
   "metadata": {},
   "outputs": [
    {
     "data": {
      "text/html": [
       "<div>\n",
       "<style scoped>\n",
       "    .dataframe tbody tr th:only-of-type {\n",
       "        vertical-align: middle;\n",
       "    }\n",
       "\n",
       "    .dataframe tbody tr th {\n",
       "        vertical-align: top;\n",
       "    }\n",
       "\n",
       "    .dataframe thead th {\n",
       "        text-align: right;\n",
       "    }\n",
       "</style>\n",
       "<table border=\"1\" class=\"dataframe\">\n",
       "  <thead>\n",
       "    <tr style=\"text-align: right;\">\n",
       "      <th></th>\n",
       "      <th>nulls_count</th>\n",
       "      <th>col_name</th>\n",
       "      <th>col_dtype</th>\n",
       "      <th>nunique</th>\n",
       "      <th>unique</th>\n",
       "      <th>col_data_1</th>\n",
       "      <th>col_data_2</th>\n",
       "    </tr>\n",
       "  </thead>\n",
       "  <tbody>\n",
       "    <tr>\n",
       "      <th>34</th>\n",
       "      <td>6711</td>\n",
       "      <td>community.description.name</td>\n",
       "      <td>object</td>\n",
       "      <td>1</td>\n",
       "      <td>[nan, Woods of Copper Creek]</td>\n",
       "      <td>[nan, nan, nan, nan, nan]</td>\n",
       "      <td>[nan, nan, nan, nan, nan]</td>\n",
       "    </tr>\n",
       "    <tr>\n",
       "      <th>33</th>\n",
       "      <td>6711</td>\n",
       "      <td>community.advertisers</td>\n",
       "      <td>object</td>\n",
       "      <td>1</td>\n",
       "      <td>[nan, [{'office': {'hours': 'Monday - Saturday...</td>\n",
       "      <td>[nan, nan, nan, nan, nan]</td>\n",
       "      <td>[nan, nan, nan, nan, nan]</td>\n",
       "    </tr>\n",
       "    <tr>\n",
       "      <th>8</th>\n",
       "      <td>6711</td>\n",
       "      <td>source.plan_id</td>\n",
       "      <td>float64</td>\n",
       "      <td>1</td>\n",
       "      <td>[nan, 417000743767.0]</td>\n",
       "      <td>[nan, nan, nan, nan, nan]</td>\n",
       "      <td>[nan, nan, nan, nan, nan]</td>\n",
       "    </tr>\n",
       "    <tr>\n",
       "      <th>9</th>\n",
       "      <td>6711</td>\n",
       "      <td>source.spec_id</td>\n",
       "      <td>object</td>\n",
       "      <td>1</td>\n",
       "      <td>[nan, 365-36546-365750000-0016]</td>\n",
       "      <td>[nan, nan, nan, nan, nan]</td>\n",
       "      <td>[nan, nan, nan, nan, nan]</td>\n",
       "    </tr>\n",
       "    <tr>\n",
       "      <th>24</th>\n",
       "      <td>6686</td>\n",
       "      <td>flags.is_foreclosure</td>\n",
       "      <td>object</td>\n",
       "      <td>1</td>\n",
       "      <td>[nan, True]</td>\n",
       "      <td>[nan, nan, nan, nan, nan]</td>\n",
       "      <td>[nan, nan, nan, nan, nan]</td>\n",
       "    </tr>\n",
       "  </tbody>\n",
       "</table>\n",
       "</div>"
      ],
      "text/plain": [
       "    nulls_count                    col_name col_dtype  nunique  \\\n",
       "34         6711  community.description.name    object        1   \n",
       "33         6711       community.advertisers    object        1   \n",
       "8          6711              source.plan_id   float64        1   \n",
       "9          6711              source.spec_id    object        1   \n",
       "24         6686        flags.is_foreclosure    object        1   \n",
       "\n",
       "                                               unique  \\\n",
       "34                       [nan, Woods of Copper Creek]   \n",
       "33  [nan, [{'office': {'hours': 'Monday - Saturday...   \n",
       "8                               [nan, 417000743767.0]   \n",
       "9                     [nan, 365-36546-365750000-0016]   \n",
       "24                                        [nan, True]   \n",
       "\n",
       "                   col_data_1                 col_data_2  \n",
       "34  [nan, nan, nan, nan, nan]  [nan, nan, nan, nan, nan]  \n",
       "33  [nan, nan, nan, nan, nan]  [nan, nan, nan, nan, nan]  \n",
       "8   [nan, nan, nan, nan, nan]  [nan, nan, nan, nan, nan]  \n",
       "9   [nan, nan, nan, nan, nan]  [nan, nan, nan, nan, nan]  \n",
       "24  [nan, nan, nan, nan, nan]  [nan, nan, nan, nan, nan]  "
      ]
     },
     "execution_count": 477,
     "metadata": {},
     "output_type": "execute_result"
    }
   ],
   "source": [
    "# Re-run the cols_overview function\n",
    "columns_overview = cols_overview(data)\n",
    "\n",
    "columns_overview.head()"
   ]
  },
  {
   "cell_type": "markdown",
   "metadata": {},
   "source": [
    "##### - 6711 Nulls : `['community.description.name', 'source.plan_id', 'source.spec_id', 'community.advertisers']`"
   ]
  },
  {
   "cell_type": "code",
   "execution_count": 478,
   "metadata": {},
   "outputs": [
    {
     "data": {
      "text/plain": [
       "['community.description.name',\n",
       " 'community.advertisers',\n",
       " 'source.plan_id',\n",
       " 'source.spec_id']"
      ]
     },
     "execution_count": 478,
     "metadata": {},
     "output_type": "execute_result"
    }
   ],
   "source": [
    "remove = columns_overview[columns_overview['nulls_count'] == 6711]['col_name']\n",
    "\n",
    "remove_cols = [i for i in remove]\n",
    "remove_cols"
   ]
  },
  {
   "cell_type": "code",
   "execution_count": 479,
   "metadata": {},
   "outputs": [
    {
     "data": {
      "text/plain": [
       "31"
      ]
     },
     "execution_count": 479,
     "metadata": {},
     "output_type": "execute_result"
    }
   ],
   "source": [
    "data.drop(columns=remove_cols, inplace=True)\n",
    "\n",
    "data.shape[1] # From 41"
   ]
  },
  {
   "cell_type": "code",
   "execution_count": 480,
   "metadata": {},
   "outputs": [
    {
     "data": {
      "text/html": [
       "<div>\n",
       "<style scoped>\n",
       "    .dataframe tbody tr th:only-of-type {\n",
       "        vertical-align: middle;\n",
       "    }\n",
       "\n",
       "    .dataframe tbody tr th {\n",
       "        vertical-align: top;\n",
       "    }\n",
       "\n",
       "    .dataframe thead th {\n",
       "        text-align: right;\n",
       "    }\n",
       "</style>\n",
       "<table border=\"1\" class=\"dataframe\">\n",
       "  <thead>\n",
       "    <tr style=\"text-align: right;\">\n",
       "      <th></th>\n",
       "      <th>nulls_count</th>\n",
       "      <th>col_name</th>\n",
       "      <th>col_dtype</th>\n",
       "      <th>nunique</th>\n",
       "      <th>unique</th>\n",
       "      <th>col_data_1</th>\n",
       "      <th>col_data_2</th>\n",
       "    </tr>\n",
       "  </thead>\n",
       "  <tbody>\n",
       "    <tr>\n",
       "      <th>22</th>\n",
       "      <td>6686</td>\n",
       "      <td>flags.is_foreclosure</td>\n",
       "      <td>object</td>\n",
       "      <td>1</td>\n",
       "      <td>[nan, True]</td>\n",
       "      <td>[nan, nan, nan, nan, nan]</td>\n",
       "      <td>[nan, nan, nan, nan, nan]</td>\n",
       "    </tr>\n",
       "    <tr>\n",
       "      <th>9</th>\n",
       "      <td>6343</td>\n",
       "      <td>description.baths_3qtr</td>\n",
       "      <td>float64</td>\n",
       "      <td>2</td>\n",
       "      <td>[nan, 2.0, 1.0]</td>\n",
       "      <td>[nan, nan, nan, nan, nan]</td>\n",
       "      <td>[nan, nan, nan, nan, nan]</td>\n",
       "    </tr>\n",
       "    <tr>\n",
       "      <th>13</th>\n",
       "      <td>4739</td>\n",
       "      <td>description.baths_half</td>\n",
       "      <td>float64</td>\n",
       "      <td>5</td>\n",
       "      <td>[nan, 1.0, 2.0, 3.0, 4.0, 5.0]</td>\n",
       "      <td>[nan, nan, nan, nan, nan]</td>\n",
       "      <td>[nan, nan, nan, nan, nan]</td>\n",
       "    </tr>\n",
       "    <tr>\n",
       "      <th>21</th>\n",
       "      <td>4706</td>\n",
       "      <td>flags.is_price_reduced</td>\n",
       "      <td>object</td>\n",
       "      <td>2</td>\n",
       "      <td>[nan, False, True]</td>\n",
       "      <td>[nan, False, nan, False, False]</td>\n",
       "      <td>[nan, nan, nan, nan, nan]</td>\n",
       "    </tr>\n",
       "    <tr>\n",
       "      <th>17</th>\n",
       "      <td>3231</td>\n",
       "      <td>description.garage</td>\n",
       "      <td>float64</td>\n",
       "      <td>9</td>\n",
       "      <td>[2.0, 1.0, nan, 3.0, 4.0, 5.0, 9.0, 8.0, 6.0, ...</td>\n",
       "      <td>[2.0, 1.0, nan, nan, nan]</td>\n",
       "      <td>[1.0, nan, nan, nan, nan]</td>\n",
       "    </tr>\n",
       "  </tbody>\n",
       "</table>\n",
       "</div>"
      ],
      "text/plain": [
       "    nulls_count                col_name col_dtype  nunique  \\\n",
       "22         6686    flags.is_foreclosure    object        1   \n",
       "9          6343  description.baths_3qtr   float64        2   \n",
       "13         4739  description.baths_half   float64        5   \n",
       "21         4706  flags.is_price_reduced    object        2   \n",
       "17         3231      description.garage   float64        9   \n",
       "\n",
       "                                               unique  \\\n",
       "22                                        [nan, True]   \n",
       "9                                     [nan, 2.0, 1.0]   \n",
       "13                     [nan, 1.0, 2.0, 3.0, 4.0, 5.0]   \n",
       "21                                 [nan, False, True]   \n",
       "17  [2.0, 1.0, nan, 3.0, 4.0, 5.0, 9.0, 8.0, 6.0, ...   \n",
       "\n",
       "                         col_data_1                 col_data_2  \n",
       "22        [nan, nan, nan, nan, nan]  [nan, nan, nan, nan, nan]  \n",
       "9         [nan, nan, nan, nan, nan]  [nan, nan, nan, nan, nan]  \n",
       "13        [nan, nan, nan, nan, nan]  [nan, nan, nan, nan, nan]  \n",
       "21  [nan, False, nan, False, False]  [nan, nan, nan, nan, nan]  \n",
       "17        [2.0, 1.0, nan, nan, nan]  [1.0, nan, nan, nan, nan]  "
      ]
     },
     "execution_count": 480,
     "metadata": {},
     "output_type": "execute_result"
    }
   ],
   "source": [
    "# Re-run the cols_overview function\n",
    "columns_overview = cols_overview(data)\n",
    "\n",
    "columns_overview.head()"
   ]
  },
  {
   "cell_type": "markdown",
   "metadata": {},
   "source": [
    "##### - 6686 Nulls : `'flags.is_foreclosure'`"
   ]
  },
  {
   "cell_type": "code",
   "execution_count": 481,
   "metadata": {},
   "outputs": [
    {
     "name": "stderr",
     "output_type": "stream",
     "text": [
      "C:\\Users\\kadm2\\AppData\\Local\\Temp\\ipykernel_16132\\318830356.py:2: FutureWarning: Downcasting behavior in `replace` is deprecated and will be removed in a future version. To retain the old behavior, explicitly call `result.infer_objects(copy=False)`. To opt-in to the future behavior, set `pd.set_option('future.no_silent_downcasting', True)`\n",
      "  data['flags.is_foreclosure'] = data['flags.is_foreclosure'].fillna(0).replace({True: 1})\n"
     ]
    },
    {
     "data": {
      "text/plain": [
       "array([0, 1], dtype=int64)"
      ]
     },
     "execution_count": 481,
     "metadata": {},
     "output_type": "execute_result"
    }
   ],
   "source": [
    "# The flags.is_foreclosure may be useful. It may have effect with the house price. Replacing the Nan values with 0 and 1.\n",
    "data['flags.is_foreclosure'] = data['flags.is_foreclosure'].fillna(0).replace({True: 1})\n",
    "\n",
    "data['flags.is_foreclosure'].unique()"
   ]
  },
  {
   "cell_type": "markdown",
   "metadata": {},
   "source": [
    "##### - 6343 Nulls : `'description.baths_3qtr'`"
   ]
  },
  {
   "cell_type": "code",
   "execution_count": 482,
   "metadata": {},
   "outputs": [
    {
     "data": {
      "text/plain": [
       "array([0., 2., 1.])"
      ]
     },
     "execution_count": 482,
     "metadata": {},
     "output_type": "execute_result"
    }
   ],
   "source": [
    "# Replacing the NaN values with 0\n",
    "data['description.baths_3qtr'] = data['description.baths_3qtr'].fillna(0.)\n",
    "\n",
    "data['description.baths_3qtr'].unique()"
   ]
  },
  {
   "cell_type": "markdown",
   "metadata": {},
   "source": [
    "##### - 4739 Nulls : `'description.baths_half'`"
   ]
  },
  {
   "cell_type": "code",
   "execution_count": 483,
   "metadata": {},
   "outputs": [
    {
     "data": {
      "text/plain": [
       "(array([0., 1., 2., 3., 4., 5.]), 0)"
      ]
     },
     "execution_count": 483,
     "metadata": {},
     "output_type": "execute_result"
    }
   ],
   "source": [
    "# It's possible to have 0 half baths. Replacing the NaN values with 0\n",
    "data['description.baths_half'] = data['description.baths_half'].fillna(0.)\n",
    "\n",
    "data['description.baths_half'].unique(), data['description.baths_half'].isnull().sum()"
   ]
  },
  {
   "cell_type": "markdown",
   "metadata": {},
   "source": [
    "##### - 4706 Nulls : `['flags.is_price_reduced']`"
   ]
  },
  {
   "cell_type": "code",
   "execution_count": 484,
   "metadata": {},
   "outputs": [
    {
     "data": {
      "text/plain": [
       "(2010,)"
      ]
     },
     "execution_count": 484,
     "metadata": {},
     "output_type": "execute_result"
    }
   ],
   "source": [
    "# These columns appear to be related.\n",
    "compare = data[~data['flags.is_price_reduced'].isnull()]\n",
    "\n",
    "compare['flags.is_price_reduced'].shape"
   ]
  },
  {
   "cell_type": "code",
   "execution_count": 485,
   "metadata": {},
   "outputs": [
    {
     "data": {
      "text/plain": [
       "True"
      ]
     },
     "execution_count": 485,
     "metadata": {},
     "output_type": "execute_result"
    }
   ],
   "source": [
    "# Null values + Values that are not null should equal the total number of rows in the dataset.\n",
    "4706 + 2010 == 6716 # All the nulls are in the same rows. Replacing the NaN values with 0 on 'price_reduced_amount' and False on 'flags.is_price_reduced'"
   ]
  },
  {
   "cell_type": "code",
   "execution_count": 486,
   "metadata": {},
   "outputs": [
    {
     "name": "stderr",
     "output_type": "stream",
     "text": [
      "C:\\Users\\kadm2\\AppData\\Local\\Temp\\ipykernel_16132\\2118188274.py:2: FutureWarning: Downcasting object dtype arrays on .fillna, .ffill, .bfill is deprecated and will change in a future version. Call result.infer_objects(copy=False) instead. To opt-in to the future behavior, set `pd.set_option('future.no_silent_downcasting', True)`\n",
      "  data['flags.is_price_reduced'] = data['flags.is_price_reduced'].fillna(False)\n"
     ]
    }
   ],
   "source": [
    "# Replacing the NaN values with False\n",
    "data['flags.is_price_reduced'] = data['flags.is_price_reduced'].fillna(False)"
   ]
  },
  {
   "cell_type": "code",
   "execution_count": 487,
   "metadata": {},
   "outputs": [
    {
     "data": {
      "text/html": [
       "<div>\n",
       "<style scoped>\n",
       "    .dataframe tbody tr th:only-of-type {\n",
       "        vertical-align: middle;\n",
       "    }\n",
       "\n",
       "    .dataframe tbody tr th {\n",
       "        vertical-align: top;\n",
       "    }\n",
       "\n",
       "    .dataframe thead th {\n",
       "        text-align: right;\n",
       "    }\n",
       "</style>\n",
       "<table border=\"1\" class=\"dataframe\">\n",
       "  <thead>\n",
       "    <tr style=\"text-align: right;\">\n",
       "      <th></th>\n",
       "      <th>nulls_count</th>\n",
       "      <th>col_name</th>\n",
       "      <th>col_dtype</th>\n",
       "      <th>nunique</th>\n",
       "      <th>unique</th>\n",
       "      <th>col_data_1</th>\n",
       "      <th>col_data_2</th>\n",
       "    </tr>\n",
       "  </thead>\n",
       "  <tbody>\n",
       "    <tr>\n",
       "      <th>17</th>\n",
       "      <td>3231</td>\n",
       "      <td>description.garage</td>\n",
       "      <td>float64</td>\n",
       "      <td>9</td>\n",
       "      <td>[2.0, 1.0, nan, 3.0, 4.0, 5.0, 9.0, 8.0, 6.0, ...</td>\n",
       "      <td>[2.0, 1.0, nan, nan, nan]</td>\n",
       "      <td>[1.0, nan, nan, nan, nan]</td>\n",
       "    </tr>\n",
       "    <tr>\n",
       "      <th>18</th>\n",
       "      <td>1617</td>\n",
       "      <td>description.stories</td>\n",
       "      <td>float64</td>\n",
       "      <td>7</td>\n",
       "      <td>[1.0, 2.0, nan, 3.0, 10.0, 6.0, 8.0, 4.0]</td>\n",
       "      <td>[1.0, 2.0, 1.0, 1.0, 1.0]</td>\n",
       "      <td>[2.0, nan, nan, nan, nan]</td>\n",
       "    </tr>\n",
       "    <tr>\n",
       "      <th>14</th>\n",
       "      <td>922</td>\n",
       "      <td>description.lot_sqft</td>\n",
       "      <td>float64</td>\n",
       "      <td>609</td>\n",
       "      <td>[11761.0, 6534.0, 17424.0, 9712.0, 10890.0, 12...</td>\n",
       "      <td>[11761.0, 6534.0, 17424.0, 9712.0, 10890.0]</td>\n",
       "      <td>[4792.0, 7841.0, 65340.0, nan, 52272.0]</td>\n",
       "    </tr>\n",
       "    <tr>\n",
       "      <th>12</th>\n",
       "      <td>677</td>\n",
       "      <td>description.baths_full</td>\n",
       "      <td>float64</td>\n",
       "      <td>7</td>\n",
       "      <td>[2.0, nan, 1.0, 3.0, 4.0, 5.0, 6.0, 7.0]</td>\n",
       "      <td>[2.0, 2.0, 2.0, 2.0, 2.0]</td>\n",
       "      <td>[1.0, 1.0, 1.0, nan, 2.0]</td>\n",
       "    </tr>\n",
       "    <tr>\n",
       "      <th>8</th>\n",
       "      <td>675</td>\n",
       "      <td>description.year_built</td>\n",
       "      <td>float64</td>\n",
       "      <td>144</td>\n",
       "      <td>[1998.0, 1945.0, 1969.0, 1955.0, 1984.0, 1999....</td>\n",
       "      <td>[1998.0, 1945.0, 1969.0, 1955.0, 1984.0]</td>\n",
       "      <td>[1910.0, nan, nan, nan, 1950.0]</td>\n",
       "    </tr>\n",
       "  </tbody>\n",
       "</table>\n",
       "</div>"
      ],
      "text/plain": [
       "    nulls_count                col_name col_dtype  nunique  \\\n",
       "17         3231      description.garage   float64        9   \n",
       "18         1617     description.stories   float64        7   \n",
       "14          922    description.lot_sqft   float64      609   \n",
       "12          677  description.baths_full   float64        7   \n",
       "8           675  description.year_built   float64      144   \n",
       "\n",
       "                                               unique  \\\n",
       "17  [2.0, 1.0, nan, 3.0, 4.0, 5.0, 9.0, 8.0, 6.0, ...   \n",
       "18          [1.0, 2.0, nan, 3.0, 10.0, 6.0, 8.0, 4.0]   \n",
       "14  [11761.0, 6534.0, 17424.0, 9712.0, 10890.0, 12...   \n",
       "12           [2.0, nan, 1.0, 3.0, 4.0, 5.0, 6.0, 7.0]   \n",
       "8   [1998.0, 1945.0, 1969.0, 1955.0, 1984.0, 1999....   \n",
       "\n",
       "                                     col_data_1  \\\n",
       "17                    [2.0, 1.0, nan, nan, nan]   \n",
       "18                    [1.0, 2.0, 1.0, 1.0, 1.0]   \n",
       "14  [11761.0, 6534.0, 17424.0, 9712.0, 10890.0]   \n",
       "12                    [2.0, 2.0, 2.0, 2.0, 2.0]   \n",
       "8      [1998.0, 1945.0, 1969.0, 1955.0, 1984.0]   \n",
       "\n",
       "                                 col_data_2  \n",
       "17                [1.0, nan, nan, nan, nan]  \n",
       "18                [2.0, nan, nan, nan, nan]  \n",
       "14  [4792.0, 7841.0, 65340.0, nan, 52272.0]  \n",
       "12                [1.0, 1.0, 1.0, nan, 2.0]  \n",
       "8           [1910.0, nan, nan, nan, 1950.0]  "
      ]
     },
     "execution_count": 487,
     "metadata": {},
     "output_type": "execute_result"
    }
   ],
   "source": [
    "# Re-run the cols_overview function\n",
    "columns_overview = cols_overview(data)\n",
    "\n",
    "columns_overview.head()"
   ]
  },
  {
   "cell_type": "markdown",
   "metadata": {},
   "source": [
    "##### - 3231 Nulls : `'description.garage'`"
   ]
  },
  {
   "cell_type": "code",
   "execution_count": 488,
   "metadata": {},
   "outputs": [],
   "source": [
    "# # We can assume Nan means no garage. Replacing the NaN values with 0\n",
    "data['description.garage'] = data['description.garage'].fillna(0.)"
   ]
  },
  {
   "cell_type": "markdown",
   "metadata": {},
   "source": [
    "##### - 1617 Nulls : `'description.stories'`"
   ]
  },
  {
   "cell_type": "code",
   "execution_count": 489,
   "metadata": {},
   "outputs": [
    {
     "data": {
      "text/plain": [
       "array([ 1.,  2., nan,  3., 10.,  6.,  8.,  4.])"
      ]
     },
     "execution_count": 489,
     "metadata": {},
     "output_type": "execute_result"
    }
   ],
   "source": [
    "data['description.stories'].unique() # No 0 stories. Replacing the NaN values with 0"
   ]
  },
  {
   "cell_type": "code",
   "execution_count": 490,
   "metadata": {},
   "outputs": [
    {
     "data": {
      "text/plain": [
       "(array([ 1.,  2.,  0.,  3., 10.,  6.,  8.,  4.]), 0)"
      ]
     },
     "execution_count": 490,
     "metadata": {},
     "output_type": "execute_result"
    }
   ],
   "source": [
    "data['description.stories'] = data['description.stories'].fillna(0.)\n",
    "\n",
    "data['description.stories'].unique(), data['description.stories'].isnull().sum()"
   ]
  },
  {
   "cell_type": "markdown",
   "metadata": {},
   "source": [
    "##### - 1168 & 655 Nulls : `['description.lot_sqft', 'description.sqft']`"
   ]
  },
  {
   "cell_type": "code",
   "execution_count": 491,
   "metadata": {},
   "outputs": [
    {
     "data": {
      "text/html": [
       "<div>\n",
       "<style scoped>\n",
       "    .dataframe tbody tr th:only-of-type {\n",
       "        vertical-align: middle;\n",
       "    }\n",
       "\n",
       "    .dataframe tbody tr th {\n",
       "        vertical-align: top;\n",
       "    }\n",
       "\n",
       "    .dataframe thead th {\n",
       "        text-align: right;\n",
       "    }\n",
       "</style>\n",
       "<table border=\"1\" class=\"dataframe\">\n",
       "  <thead>\n",
       "    <tr style=\"text-align: right;\">\n",
       "      <th></th>\n",
       "      <th>description.lot_sqft</th>\n",
       "      <th>description.sqft</th>\n",
       "    </tr>\n",
       "  </thead>\n",
       "  <tbody>\n",
       "    <tr>\n",
       "      <th>40</th>\n",
       "      <td>3397680.0</td>\n",
       "      <td>NaN</td>\n",
       "    </tr>\n",
       "    <tr>\n",
       "      <th>81</th>\n",
       "      <td>3397680.0</td>\n",
       "      <td>NaN</td>\n",
       "    </tr>\n",
       "    <tr>\n",
       "      <th>121</th>\n",
       "      <td>3397680.0</td>\n",
       "      <td>NaN</td>\n",
       "    </tr>\n",
       "    <tr>\n",
       "      <th>162</th>\n",
       "      <td>3397680.0</td>\n",
       "      <td>NaN</td>\n",
       "    </tr>\n",
       "    <tr>\n",
       "      <th>203</th>\n",
       "      <td>3397680.0</td>\n",
       "      <td>NaN</td>\n",
       "    </tr>\n",
       "    <tr>\n",
       "      <th>...</th>\n",
       "      <td>...</td>\n",
       "      <td>...</td>\n",
       "    </tr>\n",
       "    <tr>\n",
       "      <th>8147</th>\n",
       "      <td>18295.0</td>\n",
       "      <td>NaN</td>\n",
       "    </tr>\n",
       "    <tr>\n",
       "      <th>8150</th>\n",
       "      <td>8276.0</td>\n",
       "      <td>NaN</td>\n",
       "    </tr>\n",
       "    <tr>\n",
       "      <th>8151</th>\n",
       "      <td>NaN</td>\n",
       "      <td>771.0</td>\n",
       "    </tr>\n",
       "    <tr>\n",
       "      <th>8152</th>\n",
       "      <td>NaN</td>\n",
       "      <td>1664.0</td>\n",
       "    </tr>\n",
       "    <tr>\n",
       "      <th>8157</th>\n",
       "      <td>NaN</td>\n",
       "      <td>NaN</td>\n",
       "    </tr>\n",
       "  </tbody>\n",
       "</table>\n",
       "<p>1286 rows × 2 columns</p>\n",
       "</div>"
      ],
      "text/plain": [
       "      description.lot_sqft  description.sqft\n",
       "40               3397680.0               NaN\n",
       "81               3397680.0               NaN\n",
       "121              3397680.0               NaN\n",
       "162              3397680.0               NaN\n",
       "203              3397680.0               NaN\n",
       "...                    ...               ...\n",
       "8147               18295.0               NaN\n",
       "8150                8276.0               NaN\n",
       "8151                   NaN             771.0\n",
       "8152                   NaN            1664.0\n",
       "8157                   NaN               NaN\n",
       "\n",
       "[1286 rows x 2 columns]"
      ]
     },
     "execution_count": 491,
     "metadata": {},
     "output_type": "execute_result"
    }
   ],
   "source": [
    "# Columns appear to be related, may be redundant.\n",
    "lot_sizes = data[data[['description.lot_sqft', 'description.sqft']].isnull().any(axis=1)]\n",
    "\n",
    "lot_sizes[['description.lot_sqft', 'description.sqft']]"
   ]
  },
  {
   "cell_type": "code",
   "execution_count": 492,
   "metadata": {},
   "outputs": [
    {
     "name": "stderr",
     "output_type": "stream",
     "text": [
      "C:\\Users\\kadm2\\AppData\\Local\\Temp\\ipykernel_16132\\197350453.py:1: SettingWithCopyWarning: \n",
      "A value is trying to be set on a copy of a slice from a DataFrame.\n",
      "Try using .loc[row_indexer,col_indexer] = value instead\n",
      "\n",
      "See the caveats in the documentation: https://pandas.pydata.org/pandas-docs/stable/user_guide/indexing.html#returning-a-view-versus-a-copy\n",
      "  lot_sizes.loc[:, 'check_property.sqft'] = lot_sizes['description.lot_sqft'] == lot_sizes['description.sqft']\n"
     ]
    },
    {
     "data": {
      "text/html": [
       "<div>\n",
       "<style scoped>\n",
       "    .dataframe tbody tr th:only-of-type {\n",
       "        vertical-align: middle;\n",
       "    }\n",
       "\n",
       "    .dataframe tbody tr th {\n",
       "        vertical-align: top;\n",
       "    }\n",
       "\n",
       "    .dataframe thead th {\n",
       "        text-align: right;\n",
       "    }\n",
       "</style>\n",
       "<table border=\"1\" class=\"dataframe\">\n",
       "  <thead>\n",
       "    <tr style=\"text-align: right;\">\n",
       "      <th></th>\n",
       "      <th>tags</th>\n",
       "      <th>status</th>\n",
       "      <th>list_date</th>\n",
       "      <th>branding</th>\n",
       "      <th>property_id</th>\n",
       "      <th>photos</th>\n",
       "      <th>listing_id</th>\n",
       "      <th>primary_photo.href</th>\n",
       "      <th>description.year_built</th>\n",
       "      <th>description.baths_3qtr</th>\n",
       "      <th>...</th>\n",
       "      <th>flags.is_foreclosure</th>\n",
       "      <th>location.address.postal_code</th>\n",
       "      <th>location.address.state</th>\n",
       "      <th>location.address.coordinate.lon</th>\n",
       "      <th>location.address.coordinate.lat</th>\n",
       "      <th>location.address.city</th>\n",
       "      <th>location.address.state_code</th>\n",
       "      <th>location.county.fips_code</th>\n",
       "      <th>location.county.name</th>\n",
       "      <th>check_property.sqft</th>\n",
       "    </tr>\n",
       "  </thead>\n",
       "  <tbody>\n",
       "  </tbody>\n",
       "</table>\n",
       "<p>0 rows × 32 columns</p>\n",
       "</div>"
      ],
      "text/plain": [
       "Empty DataFrame\n",
       "Columns: [tags, status, list_date, branding, property_id, photos, listing_id, primary_photo.href, description.year_built, description.baths_3qtr, description.sold_date, description.sold_price, description.baths_full, description.baths_half, description.lot_sqft, description.sqft, description.baths, description.garage, description.stories, description.beds, description.type, flags.is_price_reduced, flags.is_foreclosure, location.address.postal_code, location.address.state, location.address.coordinate.lon, location.address.coordinate.lat, location.address.city, location.address.state_code, location.county.fips_code, location.county.name, check_property.sqft]\n",
       "Index: []\n",
       "\n",
       "[0 rows x 32 columns]"
      ]
     },
     "execution_count": 492,
     "metadata": {},
     "output_type": "execute_result"
    }
   ],
   "source": [
    "lot_sizes.loc[:, 'check_property.sqft'] = lot_sizes['description.lot_sqft'] == lot_sizes['description.sqft']\n",
    "\n",
    "lot_sizes[lot_sizes['check_property.sqft']==True]"
   ]
  },
  {
   "cell_type": "code",
   "execution_count": 493,
   "metadata": {},
   "outputs": [
    {
     "data": {
      "text/plain": [
       "291"
      ]
     },
     "execution_count": 493,
     "metadata": {},
     "output_type": "execute_result"
    }
   ],
   "source": [
    "# Merge 'description.lot_sqft' and 'description.sqft' into a new column 'property.sqft'\n",
    "data['property.sqft'] = data['description.lot_sqft'].combine_first(data['description.sqft'])\n",
    "\n",
    "data['property.sqft'].isnull().sum()"
   ]
  },
  {
   "cell_type": "code",
   "execution_count": 494,
   "metadata": {},
   "outputs": [],
   "source": [
    "drop_cols = ['description.lot_sqft', 'description.sqft']\n",
    "\n",
    "data.drop(columns=drop_cols, inplace=True)"
   ]
  },
  {
   "cell_type": "markdown",
   "metadata": {},
   "source": [
    "##### - 291 Nulls : `'property.sqft'`"
   ]
  },
  {
   "cell_type": "code",
   "execution_count": 495,
   "metadata": {},
   "outputs": [],
   "source": [
    "leftover_missing_sqft = data[data['property.sqft'].isnull()]\n",
    "\n",
    "# Drop rows where 'property.sqft' is NaN\n",
    "data.dropna(subset=['property.sqft'], inplace=True)"
   ]
  },
  {
   "cell_type": "markdown",
   "metadata": {},
   "source": [
    "##### - 677 Nulls : `'description.baths_full'`"
   ]
  },
  {
   "cell_type": "code",
   "execution_count": 496,
   "metadata": {},
   "outputs": [],
   "source": [
    "# Replacing the NaN values with 0\n",
    "data['description.baths_full'] = data['description.baths_full'].fillna(0.)"
   ]
  },
  {
   "cell_type": "code",
   "execution_count": 497,
   "metadata": {},
   "outputs": [
    {
     "data": {
      "text/html": [
       "<div>\n",
       "<style scoped>\n",
       "    .dataframe tbody tr th:only-of-type {\n",
       "        vertical-align: middle;\n",
       "    }\n",
       "\n",
       "    .dataframe tbody tr th {\n",
       "        vertical-align: top;\n",
       "    }\n",
       "\n",
       "    .dataframe thead th {\n",
       "        text-align: right;\n",
       "    }\n",
       "</style>\n",
       "<table border=\"1\" class=\"dataframe\">\n",
       "  <thead>\n",
       "    <tr style=\"text-align: right;\">\n",
       "      <th></th>\n",
       "      <th>nulls_count</th>\n",
       "      <th>col_name</th>\n",
       "      <th>col_dtype</th>\n",
       "      <th>nunique</th>\n",
       "      <th>unique</th>\n",
       "      <th>col_data_1</th>\n",
       "      <th>col_data_2</th>\n",
       "    </tr>\n",
       "  </thead>\n",
       "  <tbody>\n",
       "    <tr>\n",
       "      <th>8</th>\n",
       "      <td>463</td>\n",
       "      <td>description.year_built</td>\n",
       "      <td>float64</td>\n",
       "      <td>144</td>\n",
       "      <td>[1998.0, 1945.0, 1969.0, 1955.0, 1984.0, 1999....</td>\n",
       "      <td>[1998.0, 1945.0, 1969.0, 1955.0, 1984.0]</td>\n",
       "      <td>[nan, 1910.0, nan, nan, 1950.0]</td>\n",
       "    </tr>\n",
       "    <tr>\n",
       "      <th>27</th>\n",
       "      <td>404</td>\n",
       "      <td>location.county.fips_code</td>\n",
       "      <td>float64</td>\n",
       "      <td>54</td>\n",
       "      <td>[1101.0, 5119.0, nan, 5125.0, 4013.0, 6067.0, ...</td>\n",
       "      <td>[1101.0, 1101.0, 1101.0, 1101.0, 1101.0]</td>\n",
       "      <td>[54039.0, 54039.0, 54039.0, 54039.0, 54039.0]</td>\n",
       "    </tr>\n",
       "    <tr>\n",
       "      <th>17</th>\n",
       "      <td>321</td>\n",
       "      <td>description.beds</td>\n",
       "      <td>float64</td>\n",
       "      <td>13</td>\n",
       "      <td>[3.0, 4.0, nan, 2.0, 5.0, 1.0, 6.0, 12.0, 7.0,...</td>\n",
       "      <td>[3.0, 4.0, 3.0, 3.0, 3.0]</td>\n",
       "      <td>[5.0, 3.0, 3.0, 3.0, 3.0]</td>\n",
       "    </tr>\n",
       "    <tr>\n",
       "      <th>5</th>\n",
       "      <td>286</td>\n",
       "      <td>photos</td>\n",
       "      <td>object</td>\n",
       "      <td>1349</td>\n",
       "      <td>[nan, [{'tags': [{'label': 'house_view', 'prob...</td>\n",
       "      <td>[nan, [{'tags': [{'label': 'house_view', 'prob...</td>\n",
       "      <td>[[{'tags': [{'label': 'house_view', 'probabili...</td>\n",
       "    </tr>\n",
       "    <tr>\n",
       "      <th>7</th>\n",
       "      <td>286</td>\n",
       "      <td>primary_photo.href</td>\n",
       "      <td>object</td>\n",
       "      <td>1349</td>\n",
       "      <td>[nan, https://ap.rdcpix.com/a5fe1391acf35d43ee...</td>\n",
       "      <td>[nan, https://ap.rdcpix.com/a5fe1391acf35d43ee...</td>\n",
       "      <td>[https://ap.rdcpix.com/43df1ac3415036d0fdba271...</td>\n",
       "    </tr>\n",
       "    <tr>\n",
       "      <th>0</th>\n",
       "      <td>189</td>\n",
       "      <td>tags</td>\n",
       "      <td>object</td>\n",
       "      <td>1339</td>\n",
       "      <td>[['central_air', 'central_heat', 'community_ou...</td>\n",
       "      <td>[['central_air', 'central_heat', 'community_ou...</td>\n",
       "      <td>[['basement', 'garage_1_or_more', 'garage_2_or...</td>\n",
       "    </tr>\n",
       "    <tr>\n",
       "      <th>6</th>\n",
       "      <td>125</td>\n",
       "      <td>listing_id</td>\n",
       "      <td>float64</td>\n",
       "      <td>1385</td>\n",
       "      <td>[622475855.0, 2961522977.0, 619793175.0, 29573...</td>\n",
       "      <td>[622475855.0, 2961522977.0, 619793175.0, 29573...</td>\n",
       "      <td>[2954540283.0, 2954257214.0, 2956178043.0, 295...</td>\n",
       "    </tr>\n",
       "    <tr>\n",
       "      <th>2</th>\n",
       "      <td>125</td>\n",
       "      <td>list_date</td>\n",
       "      <td>object</td>\n",
       "      <td>1338</td>\n",
       "      <td>[2023-12-19T18:08:22.000000Z, 2023-11-10T14:20...</td>\n",
       "      <td>[2023-12-19T18:08:22.000000Z, 2023-11-10T14:20...</td>\n",
       "      <td>[2023-04-13T18:27:22Z, 2023-04-05T19:28:04Z, 2...</td>\n",
       "    </tr>\n",
       "    <tr>\n",
       "      <th>14</th>\n",
       "      <td>120</td>\n",
       "      <td>description.baths</td>\n",
       "      <td>float64</td>\n",
       "      <td>10</td>\n",
       "      <td>[2.0, 3.0, 0.0, 1.0, 4.0, 5.0, nan, 6.0, 7.0, ...</td>\n",
       "      <td>[2.0, 2.0, 2.0, 2.0, 2.0]</td>\n",
       "      <td>[2.0, 1.0, 1.0, 1.0, 2.0]</td>\n",
       "    </tr>\n",
       "    <tr>\n",
       "      <th>24</th>\n",
       "      <td>99</td>\n",
       "      <td>location.address.coordinate.lat</td>\n",
       "      <td>float64</td>\n",
       "      <td>1384</td>\n",
       "      <td>[32.389075, 32.382748, 32.380023, 32.386844, 3...</td>\n",
       "      <td>[32.389075, 32.382748, 32.380023, 32.386844, 3...</td>\n",
       "      <td>[38.366388, 38.341576, 38.377371, 38.338617, 3...</td>\n",
       "    </tr>\n",
       "  </tbody>\n",
       "</table>\n",
       "</div>"
      ],
      "text/plain": [
       "    nulls_count                         col_name col_dtype  nunique  \\\n",
       "8           463           description.year_built   float64      144   \n",
       "27          404        location.county.fips_code   float64       54   \n",
       "17          321                 description.beds   float64       13   \n",
       "5           286                           photos    object     1349   \n",
       "7           286               primary_photo.href    object     1349   \n",
       "0           189                             tags    object     1339   \n",
       "6           125                       listing_id   float64     1385   \n",
       "2           125                        list_date    object     1338   \n",
       "14          120                description.baths   float64       10   \n",
       "24           99  location.address.coordinate.lat   float64     1384   \n",
       "\n",
       "                                               unique  \\\n",
       "8   [1998.0, 1945.0, 1969.0, 1955.0, 1984.0, 1999....   \n",
       "27  [1101.0, 5119.0, nan, 5125.0, 4013.0, 6067.0, ...   \n",
       "17  [3.0, 4.0, nan, 2.0, 5.0, 1.0, 6.0, 12.0, 7.0,...   \n",
       "5   [nan, [{'tags': [{'label': 'house_view', 'prob...   \n",
       "7   [nan, https://ap.rdcpix.com/a5fe1391acf35d43ee...   \n",
       "0   [['central_air', 'central_heat', 'community_ou...   \n",
       "6   [622475855.0, 2961522977.0, 619793175.0, 29573...   \n",
       "2   [2023-12-19T18:08:22.000000Z, 2023-11-10T14:20...   \n",
       "14  [2.0, 3.0, 0.0, 1.0, 4.0, 5.0, nan, 6.0, 7.0, ...   \n",
       "24  [32.389075, 32.382748, 32.380023, 32.386844, 3...   \n",
       "\n",
       "                                           col_data_1  \\\n",
       "8            [1998.0, 1945.0, 1969.0, 1955.0, 1984.0]   \n",
       "27           [1101.0, 1101.0, 1101.0, 1101.0, 1101.0]   \n",
       "17                          [3.0, 4.0, 3.0, 3.0, 3.0]   \n",
       "5   [nan, [{'tags': [{'label': 'house_view', 'prob...   \n",
       "7   [nan, https://ap.rdcpix.com/a5fe1391acf35d43ee...   \n",
       "0   [['central_air', 'central_heat', 'community_ou...   \n",
       "6   [622475855.0, 2961522977.0, 619793175.0, 29573...   \n",
       "2   [2023-12-19T18:08:22.000000Z, 2023-11-10T14:20...   \n",
       "14                          [2.0, 2.0, 2.0, 2.0, 2.0]   \n",
       "24  [32.389075, 32.382748, 32.380023, 32.386844, 3...   \n",
       "\n",
       "                                           col_data_2  \n",
       "8                     [nan, 1910.0, nan, nan, 1950.0]  \n",
       "27      [54039.0, 54039.0, 54039.0, 54039.0, 54039.0]  \n",
       "17                          [5.0, 3.0, 3.0, 3.0, 3.0]  \n",
       "5   [[{'tags': [{'label': 'house_view', 'probabili...  \n",
       "7   [https://ap.rdcpix.com/43df1ac3415036d0fdba271...  \n",
       "0   [['basement', 'garage_1_or_more', 'garage_2_or...  \n",
       "6   [2954540283.0, 2954257214.0, 2956178043.0, 295...  \n",
       "2   [2023-04-13T18:27:22Z, 2023-04-05T19:28:04Z, 2...  \n",
       "14                          [2.0, 1.0, 1.0, 1.0, 2.0]  \n",
       "24  [38.366388, 38.341576, 38.377371, 38.338617, 3...  "
      ]
     },
     "execution_count": 497,
     "metadata": {},
     "output_type": "execute_result"
    }
   ],
   "source": [
    "# Re-run the cols_overview function\n",
    "columns_overview = cols_overview(data)\n",
    "\n",
    "columns_overview.head(10)"
   ]
  },
  {
   "cell_type": "markdown",
   "metadata": {},
   "source": [
    "##### - 675 Nulls : `'description.year_built'`"
   ]
  },
  {
   "cell_type": "code",
   "execution_count": 498,
   "metadata": {},
   "outputs": [],
   "source": [
    "# data[data['description.year_built'].isnull()]"
   ]
  },
  {
   "cell_type": "code",
   "execution_count": 499,
   "metadata": {},
   "outputs": [],
   "source": [
    "# I'll fill the values with the median year built in the dataset, based the city.\n",
    "# Calculate the median year built for each city, excluding NaN values\n",
    "median_year_built_by_city = data.groupby('location.address.city')['description.year_built'].transform('median')\n",
    "\n",
    "# Replace NaN values in 'description.year_built' with the median year built for the corresponding city\n",
    "data['description.year_built'] = data['description.year_built'].fillna(median_year_built_by_city)"
   ]
  },
  {
   "cell_type": "code",
   "execution_count": 500,
   "metadata": {},
   "outputs": [
    {
     "data": {
      "text/plain": [
       "37"
      ]
     },
     "execution_count": 500,
     "metadata": {},
     "output_type": "execute_result"
    }
   ],
   "source": [
    "data['description.year_built'].isnull().sum()"
   ]
  },
  {
   "cell_type": "code",
   "execution_count": 501,
   "metadata": {},
   "outputs": [],
   "source": [
    "# There are 85 rows with NaN values in 'description.year_built'. I'll fill them with the median year built in the dataset.\n",
    "# Calculate the overall median year built, excluding NaN values\n",
    "overall_median_year_built = data['description.year_built'].median()\n",
    "\n",
    "# Replace remaining NaN values in 'description.year_built' with the overall median year built\n",
    "data['description.year_built'] = data['description.year_built'].fillna(overall_median_year_built)"
   ]
  },
  {
   "cell_type": "code",
   "execution_count": 502,
   "metadata": {},
   "outputs": [
    {
     "data": {
      "text/plain": [
       "0"
      ]
     },
     "execution_count": 502,
     "metadata": {},
     "output_type": "execute_result"
    }
   ],
   "source": [
    "data['description.year_built'].isnull().sum()"
   ]
  },
  {
   "cell_type": "markdown",
   "metadata": {},
   "source": [
    "##### - 443 Nulls : `['primary_photo.href', 'photos']`"
   ]
  },
  {
   "cell_type": "code",
   "execution_count": 503,
   "metadata": {},
   "outputs": [
    {
     "data": {
      "text/plain": [
       "(6139, 2)"
      ]
     },
     "execution_count": 503,
     "metadata": {},
     "output_type": "execute_result"
    }
   ],
   "source": [
    "# These columns appear to be related.\n",
    "compare = data[~data[['primary_photo.href', 'photos']].isnull().all(axis=1)]\n",
    "\n",
    "compare[['primary_photo.href', 'photos']].shape"
   ]
  },
  {
   "cell_type": "code",
   "execution_count": 504,
   "metadata": {},
   "outputs": [
    {
     "data": {
      "text/plain": [
       "True"
      ]
     },
     "execution_count": 504,
     "metadata": {},
     "output_type": "execute_result"
    }
   ],
   "source": [
    "443 + 6273 == 6716 # All the nulls are in the same rows. Creating a new column 'has_photos' which will be 0 or 1, and then dropping both columns."
   ]
  },
  {
   "cell_type": "code",
   "execution_count": 505,
   "metadata": {},
   "outputs": [
    {
     "data": {
      "text/plain": [
       "array([0, 1])"
      ]
     },
     "execution_count": 505,
     "metadata": {},
     "output_type": "execute_result"
    }
   ],
   "source": [
    "data['has_photos'] = data['photos'].notnull().astype(int)\n",
    "\n",
    "data['has_photos'].unique()"
   ]
  },
  {
   "cell_type": "code",
   "execution_count": 506,
   "metadata": {},
   "outputs": [],
   "source": [
    "data.drop(columns=['primary_photo.href', 'photos'], inplace=True)"
   ]
  },
  {
   "cell_type": "markdown",
   "metadata": {},
   "source": [
    "##### - 493 Nulls : `'description.beds'`"
   ]
  },
  {
   "cell_type": "code",
   "execution_count": 507,
   "metadata": {},
   "outputs": [
    {
     "data": {
      "text/plain": [
       "array(['land', 'multi_family', 'single_family', 'other', 'mobile'],\n",
       "      dtype=object)"
      ]
     },
     "execution_count": 507,
     "metadata": {},
     "output_type": "execute_result"
    }
   ],
   "source": [
    "check_type = data[data['description.beds'].isnull()] # Null values in 'description.beds'\n",
    "review = check_type[['description.beds', 'description.type']] # Checking the  type of the property\n",
    "\n",
    "review['description.type'].unique()"
   ]
  },
  {
   "cell_type": "code",
   "execution_count": 508,
   "metadata": {},
   "outputs": [
    {
     "data": {
      "text/plain": [
       "5"
      ]
     },
     "execution_count": 508,
     "metadata": {},
     "output_type": "execute_result"
    }
   ],
   "source": [
    "# Group by type and calculate the median number of beds for each type\n",
    "median_beds_by_type = data.groupby('description.type')['description.beds'].transform('median')\n",
    "\n",
    "# Replace NaN values in 'description.beds' with the median number of beds for the corresponding type\n",
    "data['description.beds'] = data['description.beds'].fillna(median_beds_by_type)\n",
    "\n",
    "data['description.beds'].isnull().sum()"
   ]
  },
  {
   "cell_type": "code",
   "execution_count": 509,
   "metadata": {},
   "outputs": [
    {
     "data": {
      "text/html": [
       "<div>\n",
       "<style scoped>\n",
       "    .dataframe tbody tr th:only-of-type {\n",
       "        vertical-align: middle;\n",
       "    }\n",
       "\n",
       "    .dataframe tbody tr th {\n",
       "        vertical-align: top;\n",
       "    }\n",
       "\n",
       "    .dataframe thead th {\n",
       "        text-align: right;\n",
       "    }\n",
       "</style>\n",
       "<table border=\"1\" class=\"dataframe\">\n",
       "  <thead>\n",
       "    <tr style=\"text-align: right;\">\n",
       "      <th></th>\n",
       "      <th>tags</th>\n",
       "      <th>status</th>\n",
       "      <th>list_date</th>\n",
       "      <th>branding</th>\n",
       "      <th>property_id</th>\n",
       "      <th>listing_id</th>\n",
       "      <th>description.year_built</th>\n",
       "      <th>description.baths_3qtr</th>\n",
       "      <th>description.sold_date</th>\n",
       "      <th>description.sold_price</th>\n",
       "      <th>...</th>\n",
       "      <th>location.address.postal_code</th>\n",
       "      <th>location.address.state</th>\n",
       "      <th>location.address.coordinate.lon</th>\n",
       "      <th>location.address.coordinate.lat</th>\n",
       "      <th>location.address.city</th>\n",
       "      <th>location.address.state_code</th>\n",
       "      <th>location.county.fips_code</th>\n",
       "      <th>location.county.name</th>\n",
       "      <th>property.sqft</th>\n",
       "      <th>has_photos</th>\n",
       "    </tr>\n",
       "  </thead>\n",
       "  <tbody>\n",
       "    <tr>\n",
       "      <th>2376</th>\n",
       "      <td>NaN</td>\n",
       "      <td>sold</td>\n",
       "      <td>NaN</td>\n",
       "      <td>[{'name': None, 'photo': None, 'type': 'Office'}]</td>\n",
       "      <td>9515169963</td>\n",
       "      <td>NaN</td>\n",
       "      <td>1974.0</td>\n",
       "      <td>0.0</td>\n",
       "      <td>2023-07-24</td>\n",
       "      <td>275000.0</td>\n",
       "      <td>...</td>\n",
       "      <td>62703</td>\n",
       "      <td>Illinois</td>\n",
       "      <td>-89.651613</td>\n",
       "      <td>39.78819</td>\n",
       "      <td>Springfield</td>\n",
       "      <td>IL</td>\n",
       "      <td>17167.0</td>\n",
       "      <td>Sangamon</td>\n",
       "      <td>9614.0</td>\n",
       "      <td>0</td>\n",
       "    </tr>\n",
       "    <tr>\n",
       "      <th>2412</th>\n",
       "      <td>NaN</td>\n",
       "      <td>sold</td>\n",
       "      <td>NaN</td>\n",
       "      <td>[{'name': None, 'photo': None, 'type': 'Office'}]</td>\n",
       "      <td>9515169963</td>\n",
       "      <td>NaN</td>\n",
       "      <td>1974.0</td>\n",
       "      <td>0.0</td>\n",
       "      <td>2023-07-24</td>\n",
       "      <td>275000.0</td>\n",
       "      <td>...</td>\n",
       "      <td>62703</td>\n",
       "      <td>Illinois</td>\n",
       "      <td>-89.651613</td>\n",
       "      <td>39.78819</td>\n",
       "      <td>Springfield</td>\n",
       "      <td>IL</td>\n",
       "      <td>17167.0</td>\n",
       "      <td>Sangamon</td>\n",
       "      <td>9614.0</td>\n",
       "      <td>0</td>\n",
       "    </tr>\n",
       "    <tr>\n",
       "      <th>2447</th>\n",
       "      <td>NaN</td>\n",
       "      <td>sold</td>\n",
       "      <td>NaN</td>\n",
       "      <td>[{'name': None, 'photo': None, 'type': 'Office'}]</td>\n",
       "      <td>9515169963</td>\n",
       "      <td>NaN</td>\n",
       "      <td>1974.0</td>\n",
       "      <td>0.0</td>\n",
       "      <td>2023-07-24</td>\n",
       "      <td>275000.0</td>\n",
       "      <td>...</td>\n",
       "      <td>62703</td>\n",
       "      <td>Illinois</td>\n",
       "      <td>-89.651613</td>\n",
       "      <td>39.78819</td>\n",
       "      <td>Springfield</td>\n",
       "      <td>IL</td>\n",
       "      <td>17167.0</td>\n",
       "      <td>Sangamon</td>\n",
       "      <td>9614.0</td>\n",
       "      <td>0</td>\n",
       "    </tr>\n",
       "    <tr>\n",
       "      <th>2481</th>\n",
       "      <td>NaN</td>\n",
       "      <td>sold</td>\n",
       "      <td>NaN</td>\n",
       "      <td>[{'name': None, 'photo': None, 'type': 'Office'}]</td>\n",
       "      <td>9515169963</td>\n",
       "      <td>NaN</td>\n",
       "      <td>1974.0</td>\n",
       "      <td>0.0</td>\n",
       "      <td>2023-07-24</td>\n",
       "      <td>275000.0</td>\n",
       "      <td>...</td>\n",
       "      <td>62703</td>\n",
       "      <td>Illinois</td>\n",
       "      <td>-89.651613</td>\n",
       "      <td>39.78819</td>\n",
       "      <td>Springfield</td>\n",
       "      <td>IL</td>\n",
       "      <td>17167.0</td>\n",
       "      <td>Sangamon</td>\n",
       "      <td>9614.0</td>\n",
       "      <td>0</td>\n",
       "    </tr>\n",
       "    <tr>\n",
       "      <th>2514</th>\n",
       "      <td>NaN</td>\n",
       "      <td>sold</td>\n",
       "      <td>NaN</td>\n",
       "      <td>[{'name': None, 'photo': None, 'type': 'Office'}]</td>\n",
       "      <td>9515169963</td>\n",
       "      <td>NaN</td>\n",
       "      <td>1974.0</td>\n",
       "      <td>0.0</td>\n",
       "      <td>2023-07-24</td>\n",
       "      <td>275000.0</td>\n",
       "      <td>...</td>\n",
       "      <td>62703</td>\n",
       "      <td>Illinois</td>\n",
       "      <td>-89.651613</td>\n",
       "      <td>39.78819</td>\n",
       "      <td>Springfield</td>\n",
       "      <td>IL</td>\n",
       "      <td>17167.0</td>\n",
       "      <td>Sangamon</td>\n",
       "      <td>9614.0</td>\n",
       "      <td>0</td>\n",
       "    </tr>\n",
       "  </tbody>\n",
       "</table>\n",
       "<p>5 rows × 29 columns</p>\n",
       "</div>"
      ],
      "text/plain": [
       "     tags status list_date                                           branding  \\\n",
       "2376  NaN   sold       NaN  [{'name': None, 'photo': None, 'type': 'Office'}]   \n",
       "2412  NaN   sold       NaN  [{'name': None, 'photo': None, 'type': 'Office'}]   \n",
       "2447  NaN   sold       NaN  [{'name': None, 'photo': None, 'type': 'Office'}]   \n",
       "2481  NaN   sold       NaN  [{'name': None, 'photo': None, 'type': 'Office'}]   \n",
       "2514  NaN   sold       NaN  [{'name': None, 'photo': None, 'type': 'Office'}]   \n",
       "\n",
       "      property_id  listing_id  description.year_built  description.baths_3qtr  \\\n",
       "2376   9515169963         NaN                  1974.0                     0.0   \n",
       "2412   9515169963         NaN                  1974.0                     0.0   \n",
       "2447   9515169963         NaN                  1974.0                     0.0   \n",
       "2481   9515169963         NaN                  1974.0                     0.0   \n",
       "2514   9515169963         NaN                  1974.0                     0.0   \n",
       "\n",
       "     description.sold_date  description.sold_price  ...  \\\n",
       "2376            2023-07-24                275000.0  ...   \n",
       "2412            2023-07-24                275000.0  ...   \n",
       "2447            2023-07-24                275000.0  ...   \n",
       "2481            2023-07-24                275000.0  ...   \n",
       "2514            2023-07-24                275000.0  ...   \n",
       "\n",
       "      location.address.postal_code  location.address.state  \\\n",
       "2376                         62703                Illinois   \n",
       "2412                         62703                Illinois   \n",
       "2447                         62703                Illinois   \n",
       "2481                         62703                Illinois   \n",
       "2514                         62703                Illinois   \n",
       "\n",
       "      location.address.coordinate.lon  location.address.coordinate.lat  \\\n",
       "2376                       -89.651613                         39.78819   \n",
       "2412                       -89.651613                         39.78819   \n",
       "2447                       -89.651613                         39.78819   \n",
       "2481                       -89.651613                         39.78819   \n",
       "2514                       -89.651613                         39.78819   \n",
       "\n",
       "      location.address.city  location.address.state_code  \\\n",
       "2376            Springfield                           IL   \n",
       "2412            Springfield                           IL   \n",
       "2447            Springfield                           IL   \n",
       "2481            Springfield                           IL   \n",
       "2514            Springfield                           IL   \n",
       "\n",
       "     location.county.fips_code  location.county.name  property.sqft  \\\n",
       "2376                   17167.0              Sangamon         9614.0   \n",
       "2412                   17167.0              Sangamon         9614.0   \n",
       "2447                   17167.0              Sangamon         9614.0   \n",
       "2481                   17167.0              Sangamon         9614.0   \n",
       "2514                   17167.0              Sangamon         9614.0   \n",
       "\n",
       "      has_photos  \n",
       "2376           0  \n",
       "2412           0  \n",
       "2447           0  \n",
       "2481           0  \n",
       "2514           0  \n",
       "\n",
       "[5 rows x 29 columns]"
      ]
     },
     "execution_count": 509,
     "metadata": {},
     "output_type": "execute_result"
    }
   ],
   "source": [
    "data[data['description.beds'].isnull()]"
   ]
  },
  {
   "cell_type": "code",
   "execution_count": 510,
   "metadata": {},
   "outputs": [
    {
     "data": {
      "text/html": [
       "<div>\n",
       "<style scoped>\n",
       "    .dataframe tbody tr th:only-of-type {\n",
       "        vertical-align: middle;\n",
       "    }\n",
       "\n",
       "    .dataframe tbody tr th {\n",
       "        vertical-align: top;\n",
       "    }\n",
       "\n",
       "    .dataframe thead th {\n",
       "        text-align: right;\n",
       "    }\n",
       "</style>\n",
       "<table border=\"1\" class=\"dataframe\">\n",
       "  <thead>\n",
       "    <tr style=\"text-align: right;\">\n",
       "      <th></th>\n",
       "      <th>nulls_count</th>\n",
       "      <th>col_name</th>\n",
       "      <th>col_dtype</th>\n",
       "      <th>nunique</th>\n",
       "      <th>unique</th>\n",
       "      <th>col_data_1</th>\n",
       "      <th>col_data_2</th>\n",
       "    </tr>\n",
       "  </thead>\n",
       "  <tbody>\n",
       "    <tr>\n",
       "      <th>25</th>\n",
       "      <td>404</td>\n",
       "      <td>location.county.fips_code</td>\n",
       "      <td>float64</td>\n",
       "      <td>54</td>\n",
       "      <td>[1101.0, 5119.0, nan, 5125.0, 4013.0, 6067.0, ...</td>\n",
       "      <td>[1101.0, 1101.0, 1101.0, 1101.0, 1101.0]</td>\n",
       "      <td>[54039.0, 54039.0, 54039.0, 54039.0, 54039.0]</td>\n",
       "    </tr>\n",
       "    <tr>\n",
       "      <th>0</th>\n",
       "      <td>189</td>\n",
       "      <td>tags</td>\n",
       "      <td>object</td>\n",
       "      <td>1339</td>\n",
       "      <td>[['central_air', 'central_heat', 'community_ou...</td>\n",
       "      <td>[['central_air', 'central_heat', 'community_ou...</td>\n",
       "      <td>[['basement', 'garage_1_or_more', 'garage_2_or...</td>\n",
       "    </tr>\n",
       "    <tr>\n",
       "      <th>2</th>\n",
       "      <td>125</td>\n",
       "      <td>list_date</td>\n",
       "      <td>object</td>\n",
       "      <td>1338</td>\n",
       "      <td>[2023-12-19T18:08:22.000000Z, 2023-11-10T14:20...</td>\n",
       "      <td>[2023-12-19T18:08:22.000000Z, 2023-11-10T14:20...</td>\n",
       "      <td>[2023-04-13T18:27:22Z, 2023-04-05T19:28:04Z, 2...</td>\n",
       "    </tr>\n",
       "    <tr>\n",
       "      <th>5</th>\n",
       "      <td>125</td>\n",
       "      <td>listing_id</td>\n",
       "      <td>float64</td>\n",
       "      <td>1385</td>\n",
       "      <td>[622475855.0, 2961522977.0, 619793175.0, 29573...</td>\n",
       "      <td>[622475855.0, 2961522977.0, 619793175.0, 29573...</td>\n",
       "      <td>[2954540283.0, 2954257214.0, 2956178043.0, 295...</td>\n",
       "    </tr>\n",
       "    <tr>\n",
       "      <th>12</th>\n",
       "      <td>120</td>\n",
       "      <td>description.baths</td>\n",
       "      <td>float64</td>\n",
       "      <td>10</td>\n",
       "      <td>[2.0, 3.0, 0.0, 1.0, 4.0, 5.0, nan, 6.0, 7.0, ...</td>\n",
       "      <td>[2.0, 2.0, 2.0, 2.0, 2.0]</td>\n",
       "      <td>[2.0, 1.0, 1.0, 1.0, 2.0]</td>\n",
       "    </tr>\n",
       "    <tr>\n",
       "      <th>22</th>\n",
       "      <td>99</td>\n",
       "      <td>location.address.coordinate.lat</td>\n",
       "      <td>float64</td>\n",
       "      <td>1384</td>\n",
       "      <td>[32.389075, 32.382748, 32.380023, 32.386844, 3...</td>\n",
       "      <td>[32.389075, 32.382748, 32.380023, 32.386844, 3...</td>\n",
       "      <td>[38.366388, 38.341576, 38.377371, 38.338617, 3...</td>\n",
       "    </tr>\n",
       "    <tr>\n",
       "      <th>21</th>\n",
       "      <td>99</td>\n",
       "      <td>location.address.coordinate.lon</td>\n",
       "      <td>float64</td>\n",
       "      <td>1383</td>\n",
       "      <td>[-86.178412, -86.273286, -86.221454, -86.28438...</td>\n",
       "      <td>[-86.178412, -86.273286, -86.221454, -86.28438...</td>\n",
       "      <td>[-81.643303, -81.644994, -81.661662, -81.65988...</td>\n",
       "    </tr>\n",
       "    <tr>\n",
       "      <th>26</th>\n",
       "      <td>10</td>\n",
       "      <td>location.county.name</td>\n",
       "      <td>object</td>\n",
       "      <td>55</td>\n",
       "      <td>[Montgomery, Pulaski, Saline, Maricopa, Sacram...</td>\n",
       "      <td>[Montgomery, Montgomery, Montgomery, Montgomer...</td>\n",
       "      <td>[Kanawha, Kanawha, Kanawha, Kanawha, Kanawha]</td>\n",
       "    </tr>\n",
       "    <tr>\n",
       "      <th>23</th>\n",
       "      <td>5</td>\n",
       "      <td>location.address.city</td>\n",
       "      <td>object</td>\n",
       "      <td>82</td>\n",
       "      <td>[Montgomery, Little Rock, Mabelvale, Alexander...</td>\n",
       "      <td>[Montgomery, Montgomery, Montgomery, Montgomer...</td>\n",
       "      <td>[Charleston, Charleston, Charleston, Charlesto...</td>\n",
       "    </tr>\n",
       "    <tr>\n",
       "      <th>15</th>\n",
       "      <td>5</td>\n",
       "      <td>description.beds</td>\n",
       "      <td>float64</td>\n",
       "      <td>13</td>\n",
       "      <td>[3.0, 4.0, 2.0, 5.0, 1.0, 6.0, 12.0, 7.0, 8.0,...</td>\n",
       "      <td>[3.0, 4.0, 3.0, 3.0, 3.0]</td>\n",
       "      <td>[5.0, 3.0, 3.0, 3.0, 3.0]</td>\n",
       "    </tr>\n",
       "  </tbody>\n",
       "</table>\n",
       "</div>"
      ],
      "text/plain": [
       "    nulls_count                         col_name col_dtype  nunique  \\\n",
       "25          404        location.county.fips_code   float64       54   \n",
       "0           189                             tags    object     1339   \n",
       "2           125                        list_date    object     1338   \n",
       "5           125                       listing_id   float64     1385   \n",
       "12          120                description.baths   float64       10   \n",
       "22           99  location.address.coordinate.lat   float64     1384   \n",
       "21           99  location.address.coordinate.lon   float64     1383   \n",
       "26           10             location.county.name    object       55   \n",
       "23            5            location.address.city    object       82   \n",
       "15            5                 description.beds   float64       13   \n",
       "\n",
       "                                               unique  \\\n",
       "25  [1101.0, 5119.0, nan, 5125.0, 4013.0, 6067.0, ...   \n",
       "0   [['central_air', 'central_heat', 'community_ou...   \n",
       "2   [2023-12-19T18:08:22.000000Z, 2023-11-10T14:20...   \n",
       "5   [622475855.0, 2961522977.0, 619793175.0, 29573...   \n",
       "12  [2.0, 3.0, 0.0, 1.0, 4.0, 5.0, nan, 6.0, 7.0, ...   \n",
       "22  [32.389075, 32.382748, 32.380023, 32.386844, 3...   \n",
       "21  [-86.178412, -86.273286, -86.221454, -86.28438...   \n",
       "26  [Montgomery, Pulaski, Saline, Maricopa, Sacram...   \n",
       "23  [Montgomery, Little Rock, Mabelvale, Alexander...   \n",
       "15  [3.0, 4.0, 2.0, 5.0, 1.0, 6.0, 12.0, 7.0, 8.0,...   \n",
       "\n",
       "                                           col_data_1  \\\n",
       "25           [1101.0, 1101.0, 1101.0, 1101.0, 1101.0]   \n",
       "0   [['central_air', 'central_heat', 'community_ou...   \n",
       "2   [2023-12-19T18:08:22.000000Z, 2023-11-10T14:20...   \n",
       "5   [622475855.0, 2961522977.0, 619793175.0, 29573...   \n",
       "12                          [2.0, 2.0, 2.0, 2.0, 2.0]   \n",
       "22  [32.389075, 32.382748, 32.380023, 32.386844, 3...   \n",
       "21  [-86.178412, -86.273286, -86.221454, -86.28438...   \n",
       "26  [Montgomery, Montgomery, Montgomery, Montgomer...   \n",
       "23  [Montgomery, Montgomery, Montgomery, Montgomer...   \n",
       "15                          [3.0, 4.0, 3.0, 3.0, 3.0]   \n",
       "\n",
       "                                           col_data_2  \n",
       "25      [54039.0, 54039.0, 54039.0, 54039.0, 54039.0]  \n",
       "0   [['basement', 'garage_1_or_more', 'garage_2_or...  \n",
       "2   [2023-04-13T18:27:22Z, 2023-04-05T19:28:04Z, 2...  \n",
       "5   [2954540283.0, 2954257214.0, 2956178043.0, 295...  \n",
       "12                          [2.0, 1.0, 1.0, 1.0, 2.0]  \n",
       "22  [38.366388, 38.341576, 38.377371, 38.338617, 3...  \n",
       "21  [-81.643303, -81.644994, -81.661662, -81.65988...  \n",
       "26      [Kanawha, Kanawha, Kanawha, Kanawha, Kanawha]  \n",
       "23  [Charleston, Charleston, Charleston, Charlesto...  \n",
       "15                          [5.0, 3.0, 3.0, 3.0, 3.0]  "
      ]
     },
     "execution_count": 510,
     "metadata": {},
     "output_type": "execute_result"
    }
   ],
   "source": [
    "# Re-run the cols_overview function\n",
    "columns_overview = cols_overview(data)\n",
    "\n",
    "columns_overview.head(10)"
   ]
  },
  {
   "cell_type": "code",
   "execution_count": 511,
   "metadata": {},
   "outputs": [],
   "source": [
    "# Needs further investigation"
   ]
  },
  {
   "cell_type": "markdown",
   "metadata": {},
   "source": [
    "##### - 179 Nulls : `'description.baths'`"
   ]
  },
  {
   "cell_type": "code",
   "execution_count": 512,
   "metadata": {},
   "outputs": [
    {
     "data": {
      "text/plain": [
       "Index(['description.baths_3qtr', 'description.baths_full',\n",
       "       'description.baths_half', 'description.baths'],\n",
       "      dtype='object')"
      ]
     },
     "execution_count": 512,
     "metadata": {},
     "output_type": "execute_result"
    }
   ],
   "source": [
    "# Look into all the columns that have 'baths' in the name.\n",
    "data.columns[data.columns.str.contains('baths')]"
   ]
  },
  {
   "cell_type": "code",
   "execution_count": 513,
   "metadata": {},
   "outputs": [
    {
     "data": {
      "text/html": [
       "<div>\n",
       "<style scoped>\n",
       "    .dataframe tbody tr th:only-of-type {\n",
       "        vertical-align: middle;\n",
       "    }\n",
       "\n",
       "    .dataframe tbody tr th {\n",
       "        vertical-align: top;\n",
       "    }\n",
       "\n",
       "    .dataframe thead th {\n",
       "        text-align: right;\n",
       "    }\n",
       "</style>\n",
       "<table border=\"1\" class=\"dataframe\">\n",
       "  <thead>\n",
       "    <tr style=\"text-align: right;\">\n",
       "      <th></th>\n",
       "      <th>description.baths_3qtr</th>\n",
       "      <th>description.baths_full</th>\n",
       "      <th>description.baths_half</th>\n",
       "      <th>description.baths</th>\n",
       "    </tr>\n",
       "  </thead>\n",
       "  <tbody>\n",
       "    <tr>\n",
       "      <th>count</th>\n",
       "      <td>6425.000000</td>\n",
       "      <td>6425.000000</td>\n",
       "      <td>6425.000000</td>\n",
       "      <td>6305.000000</td>\n",
       "    </tr>\n",
       "    <tr>\n",
       "      <th>mean</th>\n",
       "      <td>0.073774</td>\n",
       "      <td>1.741323</td>\n",
       "      <td>0.332607</td>\n",
       "      <td>2.185408</td>\n",
       "    </tr>\n",
       "    <tr>\n",
       "      <th>std</th>\n",
       "      <td>0.315891</td>\n",
       "      <td>0.947738</td>\n",
       "      <td>0.540141</td>\n",
       "      <td>1.115353</td>\n",
       "    </tr>\n",
       "    <tr>\n",
       "      <th>min</th>\n",
       "      <td>0.000000</td>\n",
       "      <td>0.000000</td>\n",
       "      <td>0.000000</td>\n",
       "      <td>0.000000</td>\n",
       "    </tr>\n",
       "    <tr>\n",
       "      <th>25%</th>\n",
       "      <td>0.000000</td>\n",
       "      <td>1.000000</td>\n",
       "      <td>0.000000</td>\n",
       "      <td>2.000000</td>\n",
       "    </tr>\n",
       "    <tr>\n",
       "      <th>50%</th>\n",
       "      <td>0.000000</td>\n",
       "      <td>2.000000</td>\n",
       "      <td>0.000000</td>\n",
       "      <td>2.000000</td>\n",
       "    </tr>\n",
       "    <tr>\n",
       "      <th>75%</th>\n",
       "      <td>0.000000</td>\n",
       "      <td>2.000000</td>\n",
       "      <td>1.000000</td>\n",
       "      <td>3.000000</td>\n",
       "    </tr>\n",
       "    <tr>\n",
       "      <th>max</th>\n",
       "      <td>2.000000</td>\n",
       "      <td>7.000000</td>\n",
       "      <td>5.000000</td>\n",
       "      <td>9.000000</td>\n",
       "    </tr>\n",
       "  </tbody>\n",
       "</table>\n",
       "</div>"
      ],
      "text/plain": [
       "       description.baths_3qtr  description.baths_full  description.baths_half  \\\n",
       "count             6425.000000             6425.000000             6425.000000   \n",
       "mean                 0.073774                1.741323                0.332607   \n",
       "std                  0.315891                0.947738                0.540141   \n",
       "min                  0.000000                0.000000                0.000000   \n",
       "25%                  0.000000                1.000000                0.000000   \n",
       "50%                  0.000000                2.000000                0.000000   \n",
       "75%                  0.000000                2.000000                1.000000   \n",
       "max                  2.000000                7.000000                5.000000   \n",
       "\n",
       "       description.baths  \n",
       "count        6305.000000  \n",
       "mean            2.185408  \n",
       "std             1.115353  \n",
       "min             0.000000  \n",
       "25%             2.000000  \n",
       "50%             2.000000  \n",
       "75%             3.000000  \n",
       "max             9.000000  "
      ]
     },
     "execution_count": 513,
     "metadata": {},
     "output_type": "execute_result"
    }
   ],
   "source": [
    "data[['description.baths_3qtr', 'description.baths_full', 'description.baths_half', 'description.baths']].describe()"
   ]
  },
  {
   "cell_type": "code",
   "execution_count": 514,
   "metadata": {},
   "outputs": [
    {
     "data": {
      "text/plain": [
       "0"
      ]
     },
     "execution_count": 514,
     "metadata": {},
     "output_type": "execute_result"
    }
   ],
   "source": [
    "# Redundant columns. It looks like 'description.baths' is the sum of 'description.baths_3qtr', 'description.baths_full', and 'description.baths_half'. Adding all 3 to fill the NaN values in 'description.baths'.\n",
    "data['description.baths'] = data['description.baths'].fillna(data['description.baths_3qtr'] + data['description.baths_full'] + data['description.baths_half'])\n",
    "\n",
    "data['description.baths'].isnull().sum()"
   ]
  },
  {
   "cell_type": "markdown",
   "metadata": {},
   "source": [
    "##### - 125 Nulls : `'list_date'`"
   ]
  },
  {
   "cell_type": "code",
   "execution_count": 515,
   "metadata": {},
   "outputs": [
    {
     "data": {
      "text/plain": [
       "125"
      ]
     },
     "execution_count": 515,
     "metadata": {},
     "output_type": "execute_result"
    }
   ],
   "source": [
    "data['list_date'].isnull().sum()"
   ]
  },
  {
   "cell_type": "code",
   "execution_count": 516,
   "metadata": {},
   "outputs": [],
   "source": [
    "# Converting list_date to datetime\n",
    "data['list_date'] = pd.to_datetime(data['list_date'], errors='coerce')"
   ]
  },
  {
   "cell_type": "code",
   "execution_count": 517,
   "metadata": {},
   "outputs": [
    {
     "data": {
      "text/plain": [
       "59"
      ]
     },
     "execution_count": 517,
     "metadata": {},
     "output_type": "execute_result"
    }
   ],
   "source": [
    "# FIlling null values with median list_date in the city.\n",
    "mean_list_date_by_city = data.groupby('location.address.city')['list_date'].transform('mean')\n",
    "\n",
    "data['list_date'] = data['list_date'].fillna(mean_list_date_by_city)\n",
    "\n",
    "data['list_date'].isnull().sum()"
   ]
  },
  {
   "cell_type": "code",
   "execution_count": 518,
   "metadata": {},
   "outputs": [
    {
     "data": {
      "text/plain": [
       "0"
      ]
     },
     "execution_count": 518,
     "metadata": {},
     "output_type": "execute_result"
    }
   ],
   "source": [
    "# Filling the rest of the null values with the median list_date in the dataset.\n",
    "overall_mean_list_date = data['list_date'].mean()\n",
    "\n",
    "data['list_date'] = data['list_date'].fillna(overall_mean_list_date)\n",
    "\n",
    "data['list_date'].isnull().sum()"
   ]
  },
  {
   "cell_type": "markdown",
   "metadata": {},
   "source": [
    "##### - 34 Nulls : `'description.type'`"
   ]
  },
  {
   "cell_type": "code",
   "execution_count": 519,
   "metadata": {},
   "outputs": [
    {
     "data": {
      "text/plain": [
       "array(['single_family', 'land', 'townhomes', 'multi_family', 'apartment',\n",
       "       'mobile', 'condos', 'other', 'duplex_triplex',\n",
       "       'condo_townhome_rowhome_coop', 'condo'], dtype=object)"
      ]
     },
     "execution_count": 519,
     "metadata": {},
     "output_type": "execute_result"
    }
   ],
   "source": [
    "data['description.type'].unique()"
   ]
  },
  {
   "cell_type": "code",
   "execution_count": 520,
   "metadata": {},
   "outputs": [
    {
     "data": {
      "text/plain": [
       "(array(['single_family', 'land', 'townhomes', 'multi_family', 'apartment',\n",
       "        'mobile', 'condos', 'other', 'duplex_triplex',\n",
       "        'condo_townhome_rowhome_coop', 'condo'], dtype=object),\n",
       " 0)"
      ]
     },
     "execution_count": 520,
     "metadata": {},
     "output_type": "execute_result"
    }
   ],
   "source": [
    "# Replacing the NaN values with other\n",
    "data['description.type'] = data['description.type'].fillna('other')\n",
    "\n",
    "data['description.type'].unique(), data['description.type'].isnull().sum()"
   ]
  },
  {
   "cell_type": "markdown",
   "metadata": {},
   "source": [
    "##### - Address-related"
   ]
  },
  {
   "cell_type": "markdown",
   "metadata": {},
   "source": [
    "10 Nulls : `'location.county.name'`"
   ]
  },
  {
   "cell_type": "code",
   "execution_count": 521,
   "metadata": {},
   "outputs": [],
   "source": [
    "# Check with other columns.\n",
    "county = data[data[['location.county.name', 'location.address.state']].isnull().any(axis=1)]\n",
    "\n",
    "# county[['location.address.city', 'location.county.name', 'location.address.state']]"
   ]
  },
  {
   "cell_type": "code",
   "execution_count": 522,
   "metadata": {},
   "outputs": [
    {
     "data": {
      "text/plain": [
       "0"
      ]
     },
     "execution_count": 522,
     "metadata": {},
     "output_type": "execute_result"
    }
   ],
   "source": [
    "# Calculate the mode city for each group of county name and state\n",
    "median_county_by_group = data.groupby(['location.address.city', 'location.address.state'])['location.county.name'].transform(lambda x: x.mode().iloc[0])\n",
    "\n",
    "# Replace NaN values in 'location.address.city' with the mode city for the corresponding group\n",
    "data['location.county.name'] = data['location.county.name'].fillna(median_county_by_group)\n",
    "\n",
    "data['location.county.name'].isnull().sum()"
   ]
  },
  {
   "cell_type": "markdown",
   "metadata": {},
   "source": [
    "5 Nulls : `'location.address.city'`"
   ]
  },
  {
   "cell_type": "code",
   "execution_count": 523,
   "metadata": {},
   "outputs": [],
   "source": [
    "# Check with other columns.\n",
    "city = data[data[['location.address.city', 'location.county.name', 'location.address.state']].isnull().any(axis=1)]\n",
    "\n",
    "# city[['location.address.city', 'location.county.name', 'location.address.state']]"
   ]
  },
  {
   "cell_type": "code",
   "execution_count": 524,
   "metadata": {},
   "outputs": [
    {
     "data": {
      "text/plain": [
       "0"
      ]
     },
     "execution_count": 524,
     "metadata": {},
     "output_type": "execute_result"
    }
   ],
   "source": [
    "# Calculate the mode city for each group of county name and state\n",
    "median_city_by_group = data.groupby(['location.county.name', 'location.address.state'])['location.address.city'].transform(lambda x: x.mode().iloc[0])\n",
    "\n",
    "# Replace NaN values in 'location.address.city' with the mode city for the corresponding group\n",
    "data['location.address.city'] = data['location.address.city'].fillna(median_city_by_group)\n",
    "\n",
    "data['location.address.city'].isnull().sum()"
   ]
  },
  {
   "cell_type": "markdown",
   "metadata": {},
   "source": [
    "179 Nulls : `['location.address.coordinate.lon', 'location.address.coordinate.lat']`"
   ]
  },
  {
   "cell_type": "code",
   "execution_count": 525,
   "metadata": {},
   "outputs": [
    {
     "data": {
      "text/html": [
       "<div>\n",
       "<style scoped>\n",
       "    .dataframe tbody tr th:only-of-type {\n",
       "        vertical-align: middle;\n",
       "    }\n",
       "\n",
       "    .dataframe tbody tr th {\n",
       "        vertical-align: top;\n",
       "    }\n",
       "\n",
       "    .dataframe thead th {\n",
       "        text-align: right;\n",
       "    }\n",
       "</style>\n",
       "<table border=\"1\" class=\"dataframe\">\n",
       "  <thead>\n",
       "    <tr style=\"text-align: right;\">\n",
       "      <th></th>\n",
       "      <th>nulls_count</th>\n",
       "      <th>col_name</th>\n",
       "      <th>col_dtype</th>\n",
       "      <th>nunique</th>\n",
       "      <th>unique</th>\n",
       "      <th>col_data_1</th>\n",
       "      <th>col_data_2</th>\n",
       "    </tr>\n",
       "  </thead>\n",
       "  <tbody>\n",
       "    <tr>\n",
       "      <th>25</th>\n",
       "      <td>404</td>\n",
       "      <td>location.county.fips_code</td>\n",
       "      <td>float64</td>\n",
       "      <td>54</td>\n",
       "      <td>[1101.0, 5119.0, nan, 5125.0, 4013.0, 6067.0, ...</td>\n",
       "      <td>[1101.0, 1101.0, 1101.0, 1101.0, 1101.0]</td>\n",
       "      <td>[54039.0, 54039.0, 54039.0, 54039.0, 54039.0]</td>\n",
       "    </tr>\n",
       "    <tr>\n",
       "      <th>0</th>\n",
       "      <td>189</td>\n",
       "      <td>tags</td>\n",
       "      <td>object</td>\n",
       "      <td>1339</td>\n",
       "      <td>[['central_air', 'central_heat', 'community_ou...</td>\n",
       "      <td>[['central_air', 'central_heat', 'community_ou...</td>\n",
       "      <td>[['basement', 'garage_1_or_more', 'garage_2_or...</td>\n",
       "    </tr>\n",
       "    <tr>\n",
       "      <th>5</th>\n",
       "      <td>125</td>\n",
       "      <td>listing_id</td>\n",
       "      <td>float64</td>\n",
       "      <td>1385</td>\n",
       "      <td>[622475855.0, 2961522977.0, 619793175.0, 29573...</td>\n",
       "      <td>[622475855.0, 2961522977.0, 619793175.0, 29573...</td>\n",
       "      <td>[2954540283.0, 2954257214.0, 2956178043.0, 295...</td>\n",
       "    </tr>\n",
       "    <tr>\n",
       "      <th>22</th>\n",
       "      <td>99</td>\n",
       "      <td>location.address.coordinate.lat</td>\n",
       "      <td>float64</td>\n",
       "      <td>1384</td>\n",
       "      <td>[32.389075, 32.382748, 32.380023, 32.386844, 3...</td>\n",
       "      <td>[32.389075, 32.382748, 32.380023, 32.386844, 3...</td>\n",
       "      <td>[38.366388, 38.341576, 38.377371, 38.338617, 3...</td>\n",
       "    </tr>\n",
       "    <tr>\n",
       "      <th>21</th>\n",
       "      <td>99</td>\n",
       "      <td>location.address.coordinate.lon</td>\n",
       "      <td>float64</td>\n",
       "      <td>1383</td>\n",
       "      <td>[-86.178412, -86.273286, -86.221454, -86.28438...</td>\n",
       "      <td>[-86.178412, -86.273286, -86.221454, -86.28438...</td>\n",
       "      <td>[-81.643303, -81.644994, -81.661662, -81.65988...</td>\n",
       "    </tr>\n",
       "  </tbody>\n",
       "</table>\n",
       "</div>"
      ],
      "text/plain": [
       "    nulls_count                         col_name col_dtype  nunique  \\\n",
       "25          404        location.county.fips_code   float64       54   \n",
       "0           189                             tags    object     1339   \n",
       "5           125                       listing_id   float64     1385   \n",
       "22           99  location.address.coordinate.lat   float64     1384   \n",
       "21           99  location.address.coordinate.lon   float64     1383   \n",
       "\n",
       "                                               unique  \\\n",
       "25  [1101.0, 5119.0, nan, 5125.0, 4013.0, 6067.0, ...   \n",
       "0   [['central_air', 'central_heat', 'community_ou...   \n",
       "5   [622475855.0, 2961522977.0, 619793175.0, 29573...   \n",
       "22  [32.389075, 32.382748, 32.380023, 32.386844, 3...   \n",
       "21  [-86.178412, -86.273286, -86.221454, -86.28438...   \n",
       "\n",
       "                                           col_data_1  \\\n",
       "25           [1101.0, 1101.0, 1101.0, 1101.0, 1101.0]   \n",
       "0   [['central_air', 'central_heat', 'community_ou...   \n",
       "5   [622475855.0, 2961522977.0, 619793175.0, 29573...   \n",
       "22  [32.389075, 32.382748, 32.380023, 32.386844, 3...   \n",
       "21  [-86.178412, -86.273286, -86.221454, -86.28438...   \n",
       "\n",
       "                                           col_data_2  \n",
       "25      [54039.0, 54039.0, 54039.0, 54039.0, 54039.0]  \n",
       "0   [['basement', 'garage_1_or_more', 'garage_2_or...  \n",
       "5   [2954540283.0, 2954257214.0, 2956178043.0, 295...  \n",
       "22  [38.366388, 38.341576, 38.377371, 38.338617, 3...  \n",
       "21  [-81.643303, -81.644994, -81.661662, -81.65988...  "
      ]
     },
     "execution_count": 525,
     "metadata": {},
     "output_type": "execute_result"
    }
   ],
   "source": [
    "# Re-run the cols_overview function\n",
    "columns_overview = cols_overview(data)\n",
    "\n",
    "columns_overview.head(5)"
   ]
  },
  {
   "cell_type": "code",
   "execution_count": 526,
   "metadata": {},
   "outputs": [
    {
     "data": {
      "text/plain": [
       "location.address.coordinate.lat    22\n",
       "location.address.coordinate.lon    22\n",
       "dtype: int64"
      ]
     },
     "execution_count": 526,
     "metadata": {},
     "output_type": "execute_result"
    }
   ],
   "source": [
    "# Mean lat and lon for each city, state\n",
    "mean_lat_by_state = data.groupby(['location.address.city', 'location.address.state'])['location.address.coordinate.lat'].transform('mean')\n",
    "mean_lon_by_state = data.groupby(['location.address.city', 'location.address.state'])['location.address.coordinate.lon'].transform('mean')\n",
    "\n",
    "# Replace NaN values in 'location.address.coordinate.lat' and 'location.address.coordinate.lon' with the mean lat and lon for the corresponding city\n",
    "data['location.address.coordinate.lat'] = data['location.address.coordinate.lat'].fillna(mean_lat_by_state)\n",
    "data['location.address.coordinate.lon'] = data['location.address.coordinate.lon'].fillna(mean_lon_by_state)\n",
    "\n",
    "data[['location.address.coordinate.lat', 'location.address.coordinate.lon']].isnull().sum()"
   ]
  },
  {
   "cell_type": "code",
   "execution_count": 527,
   "metadata": {},
   "outputs": [
    {
     "data": {
      "text/plain": [
       "(22, 22)"
      ]
     },
     "execution_count": 527,
     "metadata": {},
     "output_type": "execute_result"
    }
   ],
   "source": [
    "lat = data[data['location.address.coordinate.lat'].isnull()]\n",
    "lon = data[data['location.address.coordinate.lon'].isnull()]\n",
    "\n",
    "lat.shape[0], lon.shape[0]"
   ]
  },
  {
   "cell_type": "code",
   "execution_count": 528,
   "metadata": {},
   "outputs": [
    {
     "data": {
      "text/plain": [
       "location.address.coordinate.lat    14\n",
       "location.address.coordinate.lon    14\n",
       "dtype: int64"
      ]
     },
     "execution_count": 528,
     "metadata": {},
     "output_type": "execute_result"
    }
   ],
   "source": [
    "# Mean lat and lon for each postal code\n",
    "mean_lat_by_pc = data.groupby('location.address.postal_code')['location.address.coordinate.lat'].transform('mean')\n",
    "mean_lon_by_pc = data.groupby('location.address.postal_code')['location.address.coordinate.lon'].transform('mean')\n",
    "\n",
    "# Replace NaN values in 'location.address.coordinate.lat' and 'location.address.coordinate.lon' with the mean lat and lon for the corresponding city\n",
    "data['location.address.coordinate.lat'] = data['location.address.coordinate.lat'].fillna(mean_lat_by_pc)\n",
    "data['location.address.coordinate.lon'] = data['location.address.coordinate.lon'].fillna(mean_lon_by_pc)\n",
    "\n",
    "data[['location.address.coordinate.lat', 'location.address.coordinate.lon']].isnull().sum()"
   ]
  },
  {
   "cell_type": "code",
   "execution_count": 529,
   "metadata": {},
   "outputs": [
    {
     "data": {
      "text/plain": [
       "(0, 0)"
      ]
     },
     "execution_count": 529,
     "metadata": {},
     "output_type": "execute_result"
    }
   ],
   "source": [
    "# Median lat and lon for each state for the rest of the NaN values\n",
    "median_lat_by_state = data.groupby('location.address.state')['location.address.coordinate.lat'].transform('median')\n",
    "median_lon_by_state = data.groupby('location.address.state')['location.address.coordinate.lon'].transform('median')\n",
    "\n",
    "# Replace NaN values in 'location.address.coordinate.lat' and 'location.address.coordinate.lon' with the median lat and lon for the corresponding city\n",
    "data['location.address.coordinate.lat'] = data['location.address.coordinate.lat'].fillna(median_lat_by_state)\n",
    "data['location.address.coordinate.lon'] = data['location.address.coordinate.lon'].fillna(median_lon_by_state)\n",
    "\n",
    "data['location.address.coordinate.lat'].isnull().sum(), data['location.address.coordinate.lon'].isnull().sum()"
   ]
  },
  {
   "cell_type": "markdown",
   "metadata": {},
   "source": [
    "##### - 484 Nulls : `'location.county.fips_code'` -- *Look again*"
   ]
  },
  {
   "cell_type": "code",
   "execution_count": 530,
   "metadata": {},
   "outputs": [],
   "source": [
    "# data[['location.county.fips_code', 'location.county.name', 'location.address.city', 'location.address.state']]\n",
    "# Some of the missing values in 'location.county.fips_code' can be filled by looking at the 'location.county.name' and 'location.address.city' columns where it matches."
   ]
  },
  {
   "cell_type": "code",
   "execution_count": 531,
   "metadata": {},
   "outputs": [
    {
     "data": {
      "text/html": [
       "<div>\n",
       "<style scoped>\n",
       "    .dataframe tbody tr th:only-of-type {\n",
       "        vertical-align: middle;\n",
       "    }\n",
       "\n",
       "    .dataframe tbody tr th {\n",
       "        vertical-align: top;\n",
       "    }\n",
       "\n",
       "    .dataframe thead th {\n",
       "        text-align: right;\n",
       "    }\n",
       "</style>\n",
       "<table border=\"1\" class=\"dataframe\">\n",
       "  <thead>\n",
       "    <tr style=\"text-align: right;\">\n",
       "      <th></th>\n",
       "      <th>location.county.fips_code</th>\n",
       "      <th>location.county.name</th>\n",
       "      <th>location.address.city</th>\n",
       "      <th>location.address.state</th>\n",
       "    </tr>\n",
       "  </thead>\n",
       "  <tbody>\n",
       "    <tr>\n",
       "      <th>251</th>\n",
       "      <td>NaN</td>\n",
       "      <td>Pulaski</td>\n",
       "      <td>Little Rock</td>\n",
       "      <td>Arkansas</td>\n",
       "    </tr>\n",
       "    <tr>\n",
       "      <th>262</th>\n",
       "      <td>NaN</td>\n",
       "      <td>Pulaski</td>\n",
       "      <td>Little Rock</td>\n",
       "      <td>Arkansas</td>\n",
       "    </tr>\n",
       "    <tr>\n",
       "      <th>292</th>\n",
       "      <td>NaN</td>\n",
       "      <td>Pulaski</td>\n",
       "      <td>Little Rock</td>\n",
       "      <td>Arkansas</td>\n",
       "    </tr>\n",
       "    <tr>\n",
       "      <th>303</th>\n",
       "      <td>NaN</td>\n",
       "      <td>Pulaski</td>\n",
       "      <td>Little Rock</td>\n",
       "      <td>Arkansas</td>\n",
       "    </tr>\n",
       "    <tr>\n",
       "      <th>333</th>\n",
       "      <td>NaN</td>\n",
       "      <td>Pulaski</td>\n",
       "      <td>Little Rock</td>\n",
       "      <td>Arkansas</td>\n",
       "    </tr>\n",
       "  </tbody>\n",
       "</table>\n",
       "</div>"
      ],
      "text/plain": [
       "     location.county.fips_code location.county.name location.address.city  \\\n",
       "251                        NaN              Pulaski           Little Rock   \n",
       "262                        NaN              Pulaski           Little Rock   \n",
       "292                        NaN              Pulaski           Little Rock   \n",
       "303                        NaN              Pulaski           Little Rock   \n",
       "333                        NaN              Pulaski           Little Rock   \n",
       "\n",
       "    location.address.state  \n",
       "251               Arkansas  \n",
       "262               Arkansas  \n",
       "292               Arkansas  \n",
       "303               Arkansas  \n",
       "333               Arkansas  "
      ]
     },
     "execution_count": 531,
     "metadata": {},
     "output_type": "execute_result"
    }
   ],
   "source": [
    "fips_code_missing = data[data['location.county.fips_code'].isnull()]\n",
    "\n",
    "fips_code_missing[['location.county.fips_code', 'location.county.name', 'location.address.city', 'location.address.state']].head()"
   ]
  },
  {
   "cell_type": "code",
   "execution_count": 532,
   "metadata": {},
   "outputs": [
    {
     "data": {
      "text/plain": [
       "327"
      ]
     },
     "execution_count": 532,
     "metadata": {},
     "output_type": "execute_result"
    }
   ],
   "source": [
    "# Calculate the median fips_code for each group of county name, city, and state\n",
    "median_fips_by_group = data.groupby(['location.county.name', 'location.address.city', 'location.address.state'])['location.county.fips_code'].transform('median')\n",
    "\n",
    "# Replace NaN values in 'location.county.fips_code' with the median fips_code for the corresponding group\n",
    "data['location.county.fips_code'] = data['location.county.fips_code'].fillna(median_fips_by_group)\n",
    "\n",
    "data['location.county.fips_code'].isnull().sum()"
   ]
  },
  {
   "cell_type": "code",
   "execution_count": 533,
   "metadata": {},
   "outputs": [
    {
     "data": {
      "text/html": [
       "<div>\n",
       "<style scoped>\n",
       "    .dataframe tbody tr th:only-of-type {\n",
       "        vertical-align: middle;\n",
       "    }\n",
       "\n",
       "    .dataframe tbody tr th {\n",
       "        vertical-align: top;\n",
       "    }\n",
       "\n",
       "    .dataframe thead th {\n",
       "        text-align: right;\n",
       "    }\n",
       "</style>\n",
       "<table border=\"1\" class=\"dataframe\">\n",
       "  <thead>\n",
       "    <tr style=\"text-align: right;\">\n",
       "      <th></th>\n",
       "      <th>location.county.fips_code</th>\n",
       "      <th>location.county.name</th>\n",
       "      <th>location.address.city</th>\n",
       "      <th>location.address.state</th>\n",
       "    </tr>\n",
       "  </thead>\n",
       "  <tbody>\n",
       "    <tr>\n",
       "      <th>1961</th>\n",
       "      <td>NaN</td>\n",
       "      <td>Boone</td>\n",
       "      <td>Boone</td>\n",
       "      <td>Iowa</td>\n",
       "    </tr>\n",
       "    <tr>\n",
       "      <th>2003</th>\n",
       "      <td>NaN</td>\n",
       "      <td>Boone</td>\n",
       "      <td>Boone</td>\n",
       "      <td>Iowa</td>\n",
       "    </tr>\n",
       "    <tr>\n",
       "      <th>2009</th>\n",
       "      <td>NaN</td>\n",
       "      <td>Boone</td>\n",
       "      <td>Boone</td>\n",
       "      <td>Iowa</td>\n",
       "    </tr>\n",
       "    <tr>\n",
       "      <th>2043</th>\n",
       "      <td>NaN</td>\n",
       "      <td>Boone</td>\n",
       "      <td>Boone</td>\n",
       "      <td>Iowa</td>\n",
       "    </tr>\n",
       "    <tr>\n",
       "      <th>2050</th>\n",
       "      <td>NaN</td>\n",
       "      <td>Boone</td>\n",
       "      <td>Boone</td>\n",
       "      <td>Iowa</td>\n",
       "    </tr>\n",
       "    <tr>\n",
       "      <th>...</th>\n",
       "      <td>...</td>\n",
       "      <td>...</td>\n",
       "      <td>...</td>\n",
       "      <td>...</td>\n",
       "    </tr>\n",
       "    <tr>\n",
       "      <th>7979</th>\n",
       "      <td>NaN</td>\n",
       "      <td>Kanawha</td>\n",
       "      <td>Charlton Heights</td>\n",
       "      <td>West Virginia</td>\n",
       "    </tr>\n",
       "    <tr>\n",
       "      <th>8020</th>\n",
       "      <td>NaN</td>\n",
       "      <td>Kanawha</td>\n",
       "      <td>Charlton Heights</td>\n",
       "      <td>West Virginia</td>\n",
       "    </tr>\n",
       "    <tr>\n",
       "      <th>8061</th>\n",
       "      <td>NaN</td>\n",
       "      <td>Kanawha</td>\n",
       "      <td>Charlton Heights</td>\n",
       "      <td>West Virginia</td>\n",
       "    </tr>\n",
       "    <tr>\n",
       "      <th>8101</th>\n",
       "      <td>NaN</td>\n",
       "      <td>Kanawha</td>\n",
       "      <td>Charlton Heights</td>\n",
       "      <td>West Virginia</td>\n",
       "    </tr>\n",
       "    <tr>\n",
       "      <th>8140</th>\n",
       "      <td>NaN</td>\n",
       "      <td>Kanawha</td>\n",
       "      <td>Charlton Heights</td>\n",
       "      <td>West Virginia</td>\n",
       "    </tr>\n",
       "  </tbody>\n",
       "</table>\n",
       "<p>327 rows × 4 columns</p>\n",
       "</div>"
      ],
      "text/plain": [
       "      location.county.fips_code location.county.name location.address.city  \\\n",
       "1961                        NaN                Boone                 Boone   \n",
       "2003                        NaN                Boone                 Boone   \n",
       "2009                        NaN                Boone                 Boone   \n",
       "2043                        NaN                Boone                 Boone   \n",
       "2050                        NaN                Boone                 Boone   \n",
       "...                         ...                  ...                   ...   \n",
       "7979                        NaN              Kanawha      Charlton Heights   \n",
       "8020                        NaN              Kanawha      Charlton Heights   \n",
       "8061                        NaN              Kanawha      Charlton Heights   \n",
       "8101                        NaN              Kanawha      Charlton Heights   \n",
       "8140                        NaN              Kanawha      Charlton Heights   \n",
       "\n",
       "     location.address.state  \n",
       "1961                   Iowa  \n",
       "2003                   Iowa  \n",
       "2009                   Iowa  \n",
       "2043                   Iowa  \n",
       "2050                   Iowa  \n",
       "...                     ...  \n",
       "7979          West Virginia  \n",
       "8020          West Virginia  \n",
       "8061          West Virginia  \n",
       "8101          West Virginia  \n",
       "8140          West Virginia  \n",
       "\n",
       "[327 rows x 4 columns]"
      ]
     },
     "execution_count": 533,
     "metadata": {},
     "output_type": "execute_result"
    }
   ],
   "source": [
    "view = data[['location.county.fips_code', 'location.county.name', 'location.address.city', 'location.address.state']]\n",
    "\n",
    "view = view[view['location.county.fips_code'].isnull()]\n",
    "\n",
    "view"
   ]
  },
  {
   "cell_type": "code",
   "execution_count": 534,
   "metadata": {},
   "outputs": [
    {
     "data": {
      "text/plain": [
       "array(['Boone', 'Carson City', 'Hampton', 'Richmond City', 'Kanawha'],\n",
       "      dtype=object)"
      ]
     },
     "execution_count": 534,
     "metadata": {},
     "output_type": "execute_result"
    }
   ],
   "source": [
    "view['location.county.name'].unique()"
   ]
  },
  {
   "cell_type": "code",
   "execution_count": 535,
   "metadata": {},
   "outputs": [],
   "source": [
    "# Missing fips code by location\n",
    "county_boone = data[data['location.county.name'] == 'Boone']\n",
    "county_carson = data[data['location.county.name'] == 'Carson City']\n",
    "county_hampton = data[data['location.county.name'] == 'Hampton']\n",
    "county_richmond = data[data['location.county.name'] == 'Richmond City']\n",
    "county_kanawha = data[data['location.county.name'] == 'Kanawha']\n",
    "\n",
    "# For indexing purposes\n",
    "Boone = (data['location.county.name'] == 'Boone')\n",
    "Carson_City = (data['location.county.name'] == 'Carson City')\n",
    "Hampton = (data['location.county.name'] == 'Hampton')\n",
    "Richmond_City = (data['location.county.name'] == 'Richmond City')\n",
    "Kanawha = (data['location.county.name'] == 'Kanawha')"
   ]
  },
  {
   "cell_type": "code",
   "execution_count": 536,
   "metadata": {},
   "outputs": [],
   "source": [
    "# FIPS Codes are unique to each county and is publicly available data. I'm filling the missing values manually.\n",
    "# 19015 = Boone County, IA\n",
    "data.loc[Boone, 'location.county.fips_code'] = data.loc[Boone, 'location.county.fips_code'].fillna(19015)\n",
    "\n",
    "# 32510 = Carson City, NV\n",
    "data.loc[Carson_City, 'location.county.fips_code'] = data.loc[Carson_City, 'location.county.fips_code'].fillna(32510)\n",
    "\n",
    "# 45049 = Hampton, SC\n",
    "data.loc[Hampton, 'location.county.fips_code'] = data.loc[Hampton, 'location.county.fips_code'].fillna(45049)\n",
    "\n",
    "# 51760 = Richmond City, VA\n",
    "data.loc[Richmond_City, 'location.county.fips_code'] = data.loc[Richmond_City, 'location.county.fips_code'].fillna(51159)\n",
    "\n",
    "# 54039 = Kanawha, WV\n",
    "data.loc[Kanawha, 'location.county.fips_code'] = data.loc[Kanawha, 'location.county.fips_code'].fillna(54039)"
   ]
  },
  {
   "cell_type": "code",
   "execution_count": 537,
   "metadata": {},
   "outputs": [
    {
     "data": {
      "text/plain": [
       "0"
      ]
     },
     "execution_count": 537,
     "metadata": {},
     "output_type": "execute_result"
    }
   ],
   "source": [
    "data['location.county.fips_code'].isnull().sum()"
   ]
  },
  {
   "cell_type": "code",
   "execution_count": 538,
   "metadata": {},
   "outputs": [
    {
     "data": {
      "text/html": [
       "<div>\n",
       "<style scoped>\n",
       "    .dataframe tbody tr th:only-of-type {\n",
       "        vertical-align: middle;\n",
       "    }\n",
       "\n",
       "    .dataframe tbody tr th {\n",
       "        vertical-align: top;\n",
       "    }\n",
       "\n",
       "    .dataframe thead th {\n",
       "        text-align: right;\n",
       "    }\n",
       "</style>\n",
       "<table border=\"1\" class=\"dataframe\">\n",
       "  <thead>\n",
       "    <tr style=\"text-align: right;\">\n",
       "      <th></th>\n",
       "      <th>nulls_count</th>\n",
       "      <th>col_name</th>\n",
       "      <th>col_dtype</th>\n",
       "      <th>nunique</th>\n",
       "      <th>unique</th>\n",
       "      <th>col_data_1</th>\n",
       "      <th>col_data_2</th>\n",
       "    </tr>\n",
       "  </thead>\n",
       "  <tbody>\n",
       "    <tr>\n",
       "      <th>0</th>\n",
       "      <td>189</td>\n",
       "      <td>tags</td>\n",
       "      <td>object</td>\n",
       "      <td>1339</td>\n",
       "      <td>[['central_air', 'central_heat', 'community_ou...</td>\n",
       "      <td>[['central_air', 'central_heat', 'community_ou...</td>\n",
       "      <td>[['basement', 'garage_1_or_more', 'garage_2_or...</td>\n",
       "    </tr>\n",
       "    <tr>\n",
       "      <th>5</th>\n",
       "      <td>125</td>\n",
       "      <td>listing_id</td>\n",
       "      <td>float64</td>\n",
       "      <td>1385</td>\n",
       "      <td>[622475855.0, 2961522977.0, 619793175.0, 29573...</td>\n",
       "      <td>[622475855.0, 2961522977.0, 619793175.0, 29573...</td>\n",
       "      <td>[2954540283.0, 2954257214.0, 2956178043.0, 295...</td>\n",
       "    </tr>\n",
       "    <tr>\n",
       "      <th>15</th>\n",
       "      <td>5</td>\n",
       "      <td>description.beds</td>\n",
       "      <td>float64</td>\n",
       "      <td>13</td>\n",
       "      <td>[3.0, 4.0, 2.0, 5.0, 1.0, 6.0, 12.0, 7.0, 8.0,...</td>\n",
       "      <td>[3.0, 4.0, 3.0, 3.0, 3.0]</td>\n",
       "      <td>[5.0, 3.0, 3.0, 3.0, 3.0]</td>\n",
       "    </tr>\n",
       "    <tr>\n",
       "      <th>27</th>\n",
       "      <td>0</td>\n",
       "      <td>property.sqft</td>\n",
       "      <td>float64</td>\n",
       "      <td>734</td>\n",
       "      <td>[11761.0, 6534.0, 17424.0, 9712.0, 10890.0, 12...</td>\n",
       "      <td>[11761.0, 6534.0, 17424.0, 9712.0, 10890.0]</td>\n",
       "      <td>[11326.0, 4792.0, 7841.0, 65340.0, 52272.0]</td>\n",
       "    </tr>\n",
       "    <tr>\n",
       "      <th>26</th>\n",
       "      <td>0</td>\n",
       "      <td>location.county.name</td>\n",
       "      <td>object</td>\n",
       "      <td>55</td>\n",
       "      <td>[Montgomery, Pulaski, Saline, Maricopa, Sacram...</td>\n",
       "      <td>[Montgomery, Montgomery, Montgomery, Montgomer...</td>\n",
       "      <td>[Kanawha, Kanawha, Kanawha, Kanawha, Kanawha]</td>\n",
       "    </tr>\n",
       "  </tbody>\n",
       "</table>\n",
       "</div>"
      ],
      "text/plain": [
       "    nulls_count              col_name col_dtype  nunique  \\\n",
       "0           189                  tags    object     1339   \n",
       "5           125            listing_id   float64     1385   \n",
       "15            5      description.beds   float64       13   \n",
       "27            0         property.sqft   float64      734   \n",
       "26            0  location.county.name    object       55   \n",
       "\n",
       "                                               unique  \\\n",
       "0   [['central_air', 'central_heat', 'community_ou...   \n",
       "5   [622475855.0, 2961522977.0, 619793175.0, 29573...   \n",
       "15  [3.0, 4.0, 2.0, 5.0, 1.0, 6.0, 12.0, 7.0, 8.0,...   \n",
       "27  [11761.0, 6534.0, 17424.0, 9712.0, 10890.0, 12...   \n",
       "26  [Montgomery, Pulaski, Saline, Maricopa, Sacram...   \n",
       "\n",
       "                                           col_data_1  \\\n",
       "0   [['central_air', 'central_heat', 'community_ou...   \n",
       "5   [622475855.0, 2961522977.0, 619793175.0, 29573...   \n",
       "15                          [3.0, 4.0, 3.0, 3.0, 3.0]   \n",
       "27        [11761.0, 6534.0, 17424.0, 9712.0, 10890.0]   \n",
       "26  [Montgomery, Montgomery, Montgomery, Montgomer...   \n",
       "\n",
       "                                           col_data_2  \n",
       "0   [['basement', 'garage_1_or_more', 'garage_2_or...  \n",
       "5   [2954540283.0, 2954257214.0, 2956178043.0, 295...  \n",
       "15                          [5.0, 3.0, 3.0, 3.0, 3.0]  \n",
       "27        [11326.0, 4792.0, 7841.0, 65340.0, 52272.0]  \n",
       "26      [Kanawha, Kanawha, Kanawha, Kanawha, Kanawha]  "
      ]
     },
     "execution_count": 538,
     "metadata": {},
     "output_type": "execute_result"
    }
   ],
   "source": [
    "# Re-run the cols_overview function\n",
    "columns_overview = cols_overview(data)\n",
    "\n",
    "columns_overview.head(5)"
   ]
  },
  {
   "cell_type": "markdown",
   "metadata": {},
   "source": [
    "##### - 386 Nulls : `'tags'` -- *Gets its own section further down*"
   ]
  },
  {
   "cell_type": "markdown",
   "metadata": {},
   "source": [
    "##### Dealing with Duplicates"
   ]
  },
  {
   "cell_type": "markdown",
   "metadata": {},
   "source": [
    "> Dropping duplicates now. Needed the rest of the data to fill in NaNs."
   ]
  },
  {
   "cell_type": "code",
   "execution_count": 540,
   "metadata": {},
   "outputs": [
    {
     "data": {
      "text/plain": [
       "(5013, 29)"
      ]
     },
     "execution_count": 540,
     "metadata": {},
     "output_type": "execute_result"
    }
   ],
   "source": [
    "# Check the duplicates\n",
    "duplicates = data[data.duplicated()]\n",
    "\n",
    "duplicates.shape # That's a lot of duplicates..."
   ]
  },
  {
   "cell_type": "code",
   "execution_count": 541,
   "metadata": {},
   "outputs": [
    {
     "data": {
      "text/plain": [
       "(1412, 29)"
      ]
     },
     "execution_count": 541,
     "metadata": {},
     "output_type": "execute_result"
    }
   ],
   "source": [
    "# Dropping duplicates\n",
    "data.drop_duplicates(inplace=True)\n",
    "\n",
    "data.shape"
   ]
  },
  {
   "cell_type": "markdown",
   "metadata": {},
   "source": [
    "##### Final touch-ups and saving the data."
   ]
  },
  {
   "cell_type": "code",
   "execution_count": 550,
   "metadata": {},
   "outputs": [
    {
     "data": {
      "text/html": [
       "<div>\n",
       "<style scoped>\n",
       "    .dataframe tbody tr th:only-of-type {\n",
       "        vertical-align: middle;\n",
       "    }\n",
       "\n",
       "    .dataframe tbody tr th {\n",
       "        vertical-align: top;\n",
       "    }\n",
       "\n",
       "    .dataframe thead th {\n",
       "        text-align: right;\n",
       "    }\n",
       "</style>\n",
       "<table border=\"1\" class=\"dataframe\">\n",
       "  <thead>\n",
       "    <tr style=\"text-align: right;\">\n",
       "      <th></th>\n",
       "      <th>nulls_count</th>\n",
       "      <th>col_name</th>\n",
       "      <th>col_dtype</th>\n",
       "      <th>nunique</th>\n",
       "      <th>unique</th>\n",
       "      <th>col_data_1</th>\n",
       "      <th>col_data_2</th>\n",
       "    </tr>\n",
       "  </thead>\n",
       "  <tbody>\n",
       "    <tr>\n",
       "      <th>0</th>\n",
       "      <td>41</td>\n",
       "      <td>tags</td>\n",
       "      <td>object</td>\n",
       "      <td>1339</td>\n",
       "      <td>[['central_air', 'central_heat', 'community_ou...</td>\n",
       "      <td>[['central_air', 'central_heat', 'community_ou...</td>\n",
       "      <td>[['basement', 'garage_1_or_more', 'garage_2_or...</td>\n",
       "    </tr>\n",
       "    <tr>\n",
       "      <th>14</th>\n",
       "      <td>1</td>\n",
       "      <td>description.beds</td>\n",
       "      <td>float64</td>\n",
       "      <td>13</td>\n",
       "      <td>[3.0, 4.0, 2.0, 5.0, 1.0, 6.0, 12.0, 7.0, 8.0,...</td>\n",
       "      <td>[3.0, 4.0, 3.0, 3.0, 3.0]</td>\n",
       "      <td>[5.0, 3.0, 3.0, 3.0, 3.0]</td>\n",
       "    </tr>\n",
       "    <tr>\n",
       "      <th>2</th>\n",
       "      <td>0</td>\n",
       "      <td>list_date</td>\n",
       "      <td>datetime64[ns, UTC]</td>\n",
       "      <td>1289</td>\n",
       "      <td>[2023-12-19 18:08:22+00:00, 2023-11-10 14:20:3...</td>\n",
       "      <td>[2023-12-19 18:08:22+00:00, 2023-11-10 14:20:3...</td>\n",
       "      <td>[2023-09-04 08:07:04.900000+00:00, 2023-09-04 ...</td>\n",
       "    </tr>\n",
       "    <tr>\n",
       "      <th>16</th>\n",
       "      <td>0</td>\n",
       "      <td>flags.is_price_reduced</td>\n",
       "      <td>bool</td>\n",
       "      <td>2</td>\n",
       "      <td>[False, True]</td>\n",
       "      <td>[False, False, False, False, False]</td>\n",
       "      <td>[False, False, False, False, False]</td>\n",
       "    </tr>\n",
       "    <tr>\n",
       "      <th>27</th>\n",
       "      <td>0</td>\n",
       "      <td>has_photos</td>\n",
       "      <td>int32</td>\n",
       "      <td>2</td>\n",
       "      <td>[0, 1]</td>\n",
       "      <td>[0, 1, 0, 1, 1]</td>\n",
       "      <td>[1, 1, 1, 1, 1]</td>\n",
       "    </tr>\n",
       "  </tbody>\n",
       "</table>\n",
       "</div>"
      ],
      "text/plain": [
       "    nulls_count                col_name            col_dtype  nunique  \\\n",
       "0            41                    tags               object     1339   \n",
       "14            1        description.beds              float64       13   \n",
       "2             0               list_date  datetime64[ns, UTC]     1289   \n",
       "16            0  flags.is_price_reduced                 bool        2   \n",
       "27            0              has_photos                int32        2   \n",
       "\n",
       "                                               unique  \\\n",
       "0   [['central_air', 'central_heat', 'community_ou...   \n",
       "14  [3.0, 4.0, 2.0, 5.0, 1.0, 6.0, 12.0, 7.0, 8.0,...   \n",
       "2   [2023-12-19 18:08:22+00:00, 2023-11-10 14:20:3...   \n",
       "16                                      [False, True]   \n",
       "27                                             [0, 1]   \n",
       "\n",
       "                                           col_data_1  \\\n",
       "0   [['central_air', 'central_heat', 'community_ou...   \n",
       "14                          [3.0, 4.0, 3.0, 3.0, 3.0]   \n",
       "2   [2023-12-19 18:08:22+00:00, 2023-11-10 14:20:3...   \n",
       "16                [False, False, False, False, False]   \n",
       "27                                    [0, 1, 0, 1, 1]   \n",
       "\n",
       "                                           col_data_2  \n",
       "0   [['basement', 'garage_1_or_more', 'garage_2_or...  \n",
       "14                          [5.0, 3.0, 3.0, 3.0, 3.0]  \n",
       "2   [2023-09-04 08:07:04.900000+00:00, 2023-09-04 ...  \n",
       "16                [False, False, False, False, False]  \n",
       "27                                    [1, 1, 1, 1, 1]  "
      ]
     },
     "execution_count": 550,
     "metadata": {},
     "output_type": "execute_result"
    }
   ],
   "source": [
    "# Re-run the cols_overview function\n",
    "columns_overview = cols_overview(data)\n",
    "\n",
    "columns_overview.head(5)"
   ]
  },
  {
   "cell_type": "code",
   "execution_count": 542,
   "metadata": {},
   "outputs": [],
   "source": [
    "# Dropping listing_id because it's just an identifier and there's nulls. I'll just generate our own identifier.\n",
    "data.drop(columns='listing_id', inplace=True)\n",
    "data['listing_id'] = data.apply(lambda row: generate_id(), axis=1)"
   ]
  },
  {
   "cell_type": "code",
   "execution_count": 549,
   "metadata": {},
   "outputs": [],
   "source": [
    "# Save the cleaned data\n",
    "# --- !!! Uncomment only when saving. Run once and put the # back. !!! --- #\n",
    "data.to_csv(os.path.join(output_path, 'semi-cleaned_housing_dataset.csv'), index=False)"
   ]
  },
  {
   "cell_type": "markdown",
   "metadata": {},
   "source": [
    "### Dealing with Tags"
   ]
  },
  {
   "cell_type": "markdown",
   "metadata": {},
   "source": [
    "Consider the fact that with tags, there are a lot of categorical variables.\n",
    "- How many columns would we have if we OHE tags, city and state?\n",
    "- Perhaps we can get rid of tags that have a low frequency."
   ]
  },
  {
   "cell_type": "code",
   "execution_count": 544,
   "metadata": {},
   "outputs": [],
   "source": [
    "# OHE categorical variables/ tags here\n",
    "# tags will have to be done manually"
   ]
  },
  {
   "cell_type": "markdown",
   "metadata": {},
   "source": [
    "### Dealing with Cities"
   ]
  },
  {
   "cell_type": "markdown",
   "metadata": {},
   "source": [
    "- Sales will vary drastically between cities and states.  Is there a way to keep information about which city it is without OHE?\n",
    "- Could we label encode or ordinal encode?  Yes, but this may have undesirable effects, giving nominal data ordinal values.\n",
    "- What we can do is use our training data to encode the mean sale price by city as a feature (a.k.a. Target Encoding)\n",
    "    - We can do this as long as we ONLY use the training data - we're using the available data to give us a 'starting guess' of the price for each city, without needing to encode city explicitly\n",
    "- If you replace cities or states with numerical values (like the mean price), make sure that the data is split so that we don't leak data into the training selection. This is a great time to train test split. Compute on the training data, and join these values to the test data\n",
    "- Note that you *may* have cities in the test set that are not in the training set. You don't want these to be NA, so maybe you can fill them with the overall mean"
   ]
  },
  {
   "cell_type": "code",
   "execution_count": 545,
   "metadata": {},
   "outputs": [],
   "source": [
    "# perform train test split here\n",
    "# do something with state and city"
   ]
  },
  {
   "cell_type": "markdown",
   "metadata": {},
   "source": [
    "## Extra Data - STRETCH\n",
    "\n",
    "> This doesn't need to be part of your Minimum Viable Product (MVP). We recommend you write a functional, basic pipeline first, then circle back and join new data if you have time\n",
    "\n",
    "> If you do this, try to write your downstream steps in a way it will still work on a dataframe with different features!\n",
    "\n",
    "- You're not limited to just using the data provided to you. Think/ do some research about other features that might be useful to predict housing prices. \n",
    "- Can you import and join this data? Make sure you do any necessary preprocessing and make sure it is joined correctly.\n",
    "- Example suggestion: could mortgage interest rates in the year of the listing affect the price? "
   ]
  },
  {
   "cell_type": "code",
   "execution_count": 546,
   "metadata": {},
   "outputs": [],
   "source": [
    "# import, join and preprocess new data here"
   ]
  },
  {
   "cell_type": "markdown",
   "metadata": {},
   "source": [
    "## EDA/ Visualization\n",
    "\n",
    "Remember all of the EDA that you've been learning about?  Now is a perfect time for it!\n",
    "- Look at distributions of numerical variables to see the shape of the data and detect outliers.    \n",
    "    - Consider transforming very skewed variables\n",
    "- Scatterplots of a numerical variable and the target go a long way to show correlations.\n",
    "- A heatmap will help detect highly correlated features, and we don't want these.\n",
    "    - You may have too many features to do this, in which case you can simply compute the most correlated feature-pairs and list them\n",
    "- Is there any overlap in any of the features? (redundant information, like number of this or that room...)"
   ]
  },
  {
   "cell_type": "code",
   "execution_count": 547,
   "metadata": {},
   "outputs": [],
   "source": [
    "# perform EDA here"
   ]
  },
  {
   "cell_type": "markdown",
   "metadata": {},
   "source": [
    "## Scaling and Finishing Up"
   ]
  },
  {
   "cell_type": "markdown",
   "metadata": {},
   "source": [
    "Now is a great time to scale the data and save it once it's preprocessed.\n",
    "- You can save it in your data folder, but you may want to make a new `processed/` subfolder to keep it organized"
   ]
  },
  {
   "cell_type": "code",
   "execution_count": 548,
   "metadata": {},
   "outputs": [],
   "source": [
    "processed_path = '../processed'"
   ]
  },
  {
   "cell_type": "code",
   "execution_count": null,
   "metadata": {},
   "outputs": [],
   "source": []
  }
 ],
 "metadata": {
  "kernelspec": {
   "display_name": "ang-lhl_env",
   "language": "python",
   "name": "python3"
  },
  "language_info": {
   "codemirror_mode": {
    "name": "ipython",
    "version": 3
   },
   "file_extension": ".py",
   "mimetype": "text/x-python",
   "name": "python",
   "nbconvert_exporter": "python",
   "pygments_lexer": "ipython3",
   "version": "3.9.20"
  }
 },
 "nbformat": 4,
 "nbformat_minor": 2
}
