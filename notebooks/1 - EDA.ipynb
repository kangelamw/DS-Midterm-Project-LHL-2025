{
 "cells": [
  {
   "cell_type": "markdown",
   "metadata": {},
   "source": [
    "# EDA"
   ]
  },
  {
   "cell_type": "markdown",
   "metadata": {},
   "source": [
    "\n",
    "- The os module has a perfect method to list files in a directory.\n",
    "- Pandas json normalize could work here but is not necessary to convert the JSON data to a dataframe.\n",
    "- You may need a nested for-loop to access each sale!\n",
    "- We've put a lot of time into creating the structure of this repository, and it's a good example for future projects.  In the file functions_variables.py, there is an example function that you can import and use.  If you have any variables, functions or classes that you want to make, they can be put in the functions_variables.py file and imported into a notebook.  Note that only .py files can be imported into a notebook. If you want to import everything from a .py file, you can use the following:\n",
    "```python\n",
    "from functions_variables import *\n",
    "```\n",
    "If you just import functions_variables, then each object from the file will need to be prepended with \"functions_variables\"\\\n",
    "Using this .py file will keep your notebooks very organized and make it easier to reuse code between notebooks."
   ]
  },
  {
   "cell_type": "code",
   "execution_count": 3037,
   "metadata": {},
   "outputs": [],
   "source": [
    "# (this is not an exhaustive list of libraries)\n",
    "import pandas as pd\n",
    "import numpy as np\n",
    "import os\n",
    "import json\n",
    "from pprint import pprint\n",
    "from functions_variables import *\n",
    "\n"
   ]
  },
  {
   "cell_type": "markdown",
   "metadata": {},
   "source": [
    "## Data Importing"
   ]
  },
  {
   "cell_type": "markdown",
   "metadata": {},
   "source": [
    "#### - Testing files and paths"
   ]
  },
  {
   "cell_type": "code",
   "execution_count": 3038,
   "metadata": {},
   "outputs": [
    {
     "data": {
      "text/plain": [
       "True"
      ]
     },
     "execution_count": 3038,
     "metadata": {},
     "output_type": "execute_result"
    }
   ],
   "source": [
    "test_dir = '../data/AK_Juneau_0.json'\n",
    "os.path.exists(test_dir)"
   ]
  },
  {
   "cell_type": "code",
   "execution_count": 3039,
   "metadata": {},
   "outputs": [],
   "source": [
    "# load one file first to see what type of data you're dealing with and what attributes it has\n",
    "with open(test_dir) as f:\n",
    "    data_json = json.load(f)"
   ]
  },
  {
   "cell_type": "code",
   "execution_count": 3040,
   "metadata": {},
   "outputs": [
    {
     "data": {
      "text/plain": [
       "dict_keys(['total', 'count', 'results'])"
      ]
     },
     "execution_count": 3040,
     "metadata": {},
     "output_type": "execute_result"
    }
   ],
   "source": [
    "data_json['data'].keys()"
   ]
  },
  {
   "cell_type": "code",
   "execution_count": 3041,
   "metadata": {},
   "outputs": [
    {
     "data": {
      "text/html": [
       "<div>\n",
       "<style scoped>\n",
       "    .dataframe tbody tr th:only-of-type {\n",
       "        vertical-align: middle;\n",
       "    }\n",
       "\n",
       "    .dataframe tbody tr th {\n",
       "        vertical-align: top;\n",
       "    }\n",
       "\n",
       "    .dataframe thead th {\n",
       "        text-align: right;\n",
       "    }\n",
       "</style>\n",
       "<table border=\"1\" class=\"dataframe\">\n",
       "  <thead>\n",
       "    <tr style=\"text-align: right;\">\n",
       "      <th></th>\n",
       "      <th>last_update_date</th>\n",
       "      <th>tags</th>\n",
       "      <th>permalink</th>\n",
       "      <th>status</th>\n",
       "      <th>list_date</th>\n",
       "      <th>open_houses</th>\n",
       "      <th>branding</th>\n",
       "      <th>list_price</th>\n",
       "      <th>property_id</th>\n",
       "      <th>photos</th>\n",
       "      <th>...</th>\n",
       "      <th>location.address.state_code</th>\n",
       "      <th>location.address.line</th>\n",
       "      <th>location.street_view_url</th>\n",
       "      <th>location.county.fips_code</th>\n",
       "      <th>location.county.name</th>\n",
       "      <th>primary_photo</th>\n",
       "      <th>source</th>\n",
       "      <th>products</th>\n",
       "      <th>location.address.coordinate</th>\n",
       "      <th>other_listings</th>\n",
       "    </tr>\n",
       "  </thead>\n",
       "  <tbody>\n",
       "    <tr>\n",
       "      <th>0</th>\n",
       "      <td>2023-09-19T20:52:50Z</td>\n",
       "      <td>[carport, community_outdoor_space, cul_de_sac,...</td>\n",
       "      <td>9453-Herbert-Pl_Juneau_AK_99801_M90744-30767</td>\n",
       "      <td>sold</td>\n",
       "      <td>2023-06-29T21:16:25.000000Z</td>\n",
       "      <td>None</td>\n",
       "      <td>[{'name': 'EXP Realty LLC - Southeast Alaska',...</td>\n",
       "      <td>554950.0</td>\n",
       "      <td>9074430767</td>\n",
       "      <td>[{'tags': [{'label': 'house_view', 'probabilit...</td>\n",
       "      <td>...</td>\n",
       "      <td>AK</td>\n",
       "      <td>9453 Herbert Pl</td>\n",
       "      <td>https://maps.googleapis.com/maps/api/streetvie...</td>\n",
       "      <td>None</td>\n",
       "      <td>Juneau</td>\n",
       "      <td>NaN</td>\n",
       "      <td>NaN</td>\n",
       "      <td>NaN</td>\n",
       "      <td>NaN</td>\n",
       "      <td>NaN</td>\n",
       "    </tr>\n",
       "  </tbody>\n",
       "</table>\n",
       "<p>1 rows × 64 columns</p>\n",
       "</div>"
      ],
      "text/plain": [
       "       last_update_date                                               tags  \\\n",
       "0  2023-09-19T20:52:50Z  [carport, community_outdoor_space, cul_de_sac,...   \n",
       "\n",
       "                                      permalink status  \\\n",
       "0  9453-Herbert-Pl_Juneau_AK_99801_M90744-30767   sold   \n",
       "\n",
       "                     list_date open_houses  \\\n",
       "0  2023-06-29T21:16:25.000000Z        None   \n",
       "\n",
       "                                            branding  list_price property_id  \\\n",
       "0  [{'name': 'EXP Realty LLC - Southeast Alaska',...    554950.0  9074430767   \n",
       "\n",
       "                                              photos  ...  \\\n",
       "0  [{'tags': [{'label': 'house_view', 'probabilit...  ...   \n",
       "\n",
       "  location.address.state_code location.address.line  \\\n",
       "0                          AK       9453 Herbert Pl   \n",
       "\n",
       "                            location.street_view_url  \\\n",
       "0  https://maps.googleapis.com/maps/api/streetvie...   \n",
       "\n",
       "   location.county.fips_code  location.county.name primary_photo  source  \\\n",
       "0                       None                Juneau           NaN     NaN   \n",
       "\n",
       "  products  location.address.coordinate other_listings  \n",
       "0      NaN                          NaN            NaN  \n",
       "\n",
       "[1 rows x 64 columns]"
      ]
     },
     "execution_count": 3041,
     "metadata": {},
     "output_type": "execute_result"
    }
   ],
   "source": [
    "test_df = pd.json_normalize(data_json['data']['results'])\n",
    "test_df.head(1)"
   ]
  },
  {
   "cell_type": "code",
   "execution_count": null,
   "metadata": {},
   "outputs": [],
   "source": []
  },
  {
   "cell_type": "markdown",
   "metadata": {},
   "source": [
    "#### - Data Overview"
   ]
  },
  {
   "cell_type": "code",
   "execution_count": 3042,
   "metadata": {},
   "outputs": [
    {
     "name": "stdout",
     "output_type": "stream",
     "text": [
      "PA_Harrisburg_0.json processed. 1/251 files processed.\n",
      "LA_BatonRouge_2.json processed. 2/251 files processed.\n",
      "MO_JeffersonCity_0.json processed. 3/251 files processed.\n",
      "TN_Nashville_2.json processed. 4/251 files processed.\n",
      "MD_Annapolis_4.json processed. 5/251 files processed.\n",
      "NM_SantaFe_3.json processed. 6/251 files processed.\n",
      "AZ_Phoenix_0.json processed. 7/251 files processed.\n",
      "KY_Frankfort_4.json processed. 8/251 files processed.\n",
      "CO_Denver_1.json processed. 9/251 files processed.\n",
      "FL_Tallahassee_3.json processed. 10/251 files processed.\n",
      "MI_Lansing_2.json processed. 11/251 files processed.\n",
      "AR_LittleRock_0.json processed. 12/251 files processed.\n",
      "ME_Augusta_4.json processed. 13/251 files processed.\n",
      "GA_Atlanta_4.json processed. 14/251 files processed.\n",
      "IN_Indianapolis_0.json processed. 15/251 files processed.\n",
      "MN_St.Paul_4.json processed. 16/251 files processed.\n",
      "MA_Boston_1.json processed. 17/251 files processed.\n",
      "WI_Madison_1.json processed. 18/251 files processed.\n",
      "NE_Lincoln_4.json processed. 19/251 files processed.\n",
      "AL_Montgomery_4.json processed. 20/251 files processed.\n",
      "CA_Sacramento_1.json processed. 21/251 files processed.\n",
      "IA_DesMoines_1.json processed. 22/251 files processed.\n",
      "AK_Juneau_0.json processed. 23/251 files processed.\n",
      "OK_OklahomaCity_0.json processed. 24/251 files processed.\n",
      "NC_Raleigh_0.json processed. 25/251 files processed.\n",
      "NH_Concord_0.json processed. 26/251 files processed.\n",
      "DE_Dover_1.json processed. 27/251 files processed.\n",
      "MT_Helena_1.json processed. 28/251 files processed.\n",
      "MS_Jackson_0.json processed. 29/251 files processed.\n",
      "MT_Helena_0.json processed. 30/251 files processed.\n",
      "MS_Jackson_1.json processed. 31/251 files processed.\n",
      "RI_Providence_4.json processed. 32/251 files processed.\n",
      "NH_Concord_1.json processed. 33/251 files processed.\n",
      "CT_Hartford_4.json processed. 34/251 files processed.\n",
      "DE_Dover_0.json processed. 35/251 files processed.\n",
      "NC_Raleigh_1.json processed. 36/251 files processed.\n",
      "AK_Juneau_1.json processed. 37/251 files processed.\n",
      "OK_OklahomaCity_1.json processed. 38/251 files processed.\n",
      "IA_DesMoines_0.json processed. 39/251 files processed.\n",
      "NY_Albany_4.json processed. 40/251 files processed.\n",
      "WY_Cheyenne_4.json processed. 41/251 files processed.\n",
      "CA_Sacramento_0.json processed. 42/251 files processed.\n",
      "WI_Madison_0.json processed. 43/251 files processed.\n",
      "MA_Boston_0.json processed. 44/251 files processed.\n",
      "IL_Springfield_4.json processed. 45/251 files processed.\n",
      "IN_Indianapolis_1.json processed. 46/251 files processed.\n",
      "AR_LittleRock_1.json processed. 47/251 files processed.\n",
      "VT_Montpelier_4.json processed. 48/251 files processed.\n",
      "CO_Denver_0.json processed. 49/251 files processed.\n",
      "FL_Tallahassee_2.json processed. 50/251 files processed.\n",
      "MI_Lansing_3.json processed. 51/251 files processed.\n",
      "WA_Olympia_4.json processed. 52/251 files processed.\n",
      "UT_SaltLakeCity_4.json processed. 53/251 files processed.\n",
      "AZ_Phoenix_1.json processed. 54/251 files processed.\n",
      "NM_SantaFe_2.json processed. 55/251 files processed.\n",
      "MO_JeffersonCity_1.json processed. 56/251 files processed.\n",
      "TN_Nashville_3.json processed. 57/251 files processed.\n",
      "LA_BatonRouge_3.json processed. 58/251 files processed.\n",
      "PA_Harrisburg_1.json processed. 59/251 files processed.\n",
      "IL_Springfield_3.json processed. 60/251 files processed.\n",
      "MN_St.Paul_2.json processed. 61/251 files processed.\n",
      "NE_Lincoln_2.json processed. 62/251 files processed.\n",
      "AL_Montgomery_2.json processed. 63/251 files processed.\n",
      "SC_Columbia_0.json processed. 64/251 files processed.\n",
      "WY_Cheyenne_3.json processed. 65/251 files processed.\n",
      "NY_Albany_3.json processed. 66/251 files processed.\n",
      "WV_Charleston_1.json processed. 67/251 files processed.\n",
      "TX_Austin_0.json processed. 68/251 files processed.\n",
      "OH_Columbus_0.json processed. 69/251 files processed.\n",
      "CT_Hartford_3.json processed. 70/251 files processed.\n",
      "OR_Salem_0.json processed. 71/251 files processed.\n",
      "RI_Providence_3.json processed. 72/251 files processed.\n",
      "SD_Pierre_0.json processed. 73/251 files processed.\n",
      "KS_Topeka_1.json processed. 74/251 files processed.\n",
      "LA_BatonRouge_4.json processed. 75/251 files processed.\n",
      "TN_Nashville_4.json processed. 76/251 files processed.\n",
      "MD_Annapolis_2.json processed. 77/251 files processed.\n",
      "NV_CarsonCity_1.json processed. 78/251 files processed.\n",
      "HI_Honolulu_1.json processed. 79/251 files processed.\n",
      "VA_Richmond_1.json processed. 80/251 files processed.\n",
      "Error processing file .gitkeep: Expecting value: line 1 column 1 (char 0)\n",
      "ND_Bismarck_0.json processed. 81/251 files processed.\n",
      "KY_Frankfort_2.json processed. 82/251 files processed.\n",
      "UT_SaltLakeCity_3.json processed. 83/251 files processed.\n",
      "NJ_Trenton_1.json processed. 84/251 files processed.\n",
      "MI_Lansing_4.json processed. 85/251 files processed.\n",
      "WA_Olympia_3.json processed. 86/251 files processed.\n",
      "GA_Atlanta_2.json processed. 87/251 files processed.\n",
      "ME_Augusta_2.json processed. 88/251 files processed.\n",
      "VT_Montpelier_3.json processed. 89/251 files processed.\n",
      "ID_Boise_0.json processed. 90/251 files processed.\n",
      "ID_Boise_1.json processed. 91/251 files processed.\n",
      "GA_Atlanta_3.json processed. 92/251 files processed.\n",
      "ME_Augusta_3.json processed. 93/251 files processed.\n",
      "VT_Montpelier_2.json processed. 94/251 files processed.\n",
      "FL_Tallahassee_4.json processed. 95/251 files processed.\n",
      "WA_Olympia_2.json processed. 96/251 files processed.\n",
      "KY_Frankfort_3.json processed. 97/251 files processed.\n",
      "UT_SaltLakeCity_2.json processed. 98/251 files processed.\n",
      "NJ_Trenton_0.json processed. 99/251 files processed.\n",
      "VA_Richmond_0.json processed. 100/251 files processed.\n",
      "ND_Bismarck_1.json processed. 101/251 files processed.\n",
      "NM_SantaFe_4.json processed. 102/251 files processed.\n",
      "NV_CarsonCity_0.json processed. 103/251 files processed.\n",
      "HI_Honolulu_0.json processed. 104/251 files processed.\n",
      "MD_Annapolis_3.json processed. 105/251 files processed.\n",
      "KS_Topeka_0.json processed. 106/251 files processed.\n",
      "SD_Pierre_1.json processed. 107/251 files processed.\n",
      "RI_Providence_2.json processed. 108/251 files processed.\n",
      "OH_Columbus_1.json processed. 109/251 files processed.\n",
      "CT_Hartford_2.json processed. 110/251 files processed.\n",
      "OR_Salem_1.json processed. 111/251 files processed.\n",
      "TX_Austin_1.json processed. 112/251 files processed.\n",
      "WV_Charleston_0.json processed. 113/251 files processed.\n",
      "WY_Cheyenne_2.json processed. 114/251 files processed.\n",
      "NY_Albany_2.json processed. 115/251 files processed.\n",
      "SC_Columbia_1.json processed. 116/251 files processed.\n",
      "AL_Montgomery_3.json processed. 117/251 files processed.\n",
      "NE_Lincoln_3.json processed. 118/251 files processed.\n",
      "MN_St.Paul_3.json processed. 119/251 files processed.\n",
      "IL_Springfield_2.json processed. 120/251 files processed.\n",
      "SD_Pierre_2.json processed. 121/251 files processed.\n",
      "MS_Jackson_4.json processed. 122/251 files processed.\n",
      "RI_Providence_1.json processed. 123/251 files processed.\n",
      "OR_Salem_2.json processed. 124/251 files processed.\n",
      "CT_Hartford_1.json processed. 125/251 files processed.\n",
      "NH_Concord_4.json processed. 126/251 files processed.\n",
      "OH_Columbus_2.json processed. 127/251 files processed.\n",
      "NC_Raleigh_4.json processed. 128/251 files processed.\n",
      "TX_Austin_2.json processed. 129/251 files processed.\n",
      "OK_OklahomaCity_4.json processed. 130/251 files processed.\n",
      "AK_Juneau_4.json processed. 131/251 files processed.\n",
      "WV_Charleston_3.json processed. 132/251 files processed.\n",
      "NY_Albany_1.json processed. 133/251 files processed.\n",
      "WY_Cheyenne_1.json processed. 134/251 files processed.\n",
      "SC_Columbia_2.json processed. 135/251 files processed.\n",
      "AL_Montgomery_0.json processed. 136/251 files processed.\n",
      "NE_Lincoln_0.json processed. 137/251 files processed.\n",
      "MN_St.Paul_0.json processed. 138/251 files processed.\n",
      "IL_Springfield_1.json processed. 139/251 files processed.\n",
      "IN_Indianapolis_4.json processed. 140/251 files processed.\n",
      "ID_Boise_2.json processed. 141/251 files processed.\n",
      "AR_LittleRock_4.json processed. 142/251 files processed.\n",
      "VT_Montpelier_1.json processed. 143/251 files processed.\n",
      "GA_Atlanta_0.json processed. 144/251 files processed.\n",
      "ME_Augusta_0.json processed. 145/251 files processed.\n",
      "WA_Olympia_1.json processed. 146/251 files processed.\n",
      "NJ_Trenton_3.json processed. 147/251 files processed.\n",
      "UT_SaltLakeCity_1.json processed. 148/251 files processed.\n",
      "KY_Frankfort_0.json processed. 149/251 files processed.\n",
      "ND_Bismarck_2.json processed. 150/251 files processed.\n",
      "AZ_Phoenix_4.json processed. 151/251 files processed.\n",
      "VA_Richmond_3.json processed. 152/251 files processed.\n",
      "HI_Honolulu_3.json processed. 153/251 files processed.\n",
      "NV_CarsonCity_3.json processed. 154/251 files processed.\n",
      "MD_Annapolis_0.json processed. 155/251 files processed.\n",
      "MO_JeffersonCity_4.json processed. 156/251 files processed.\n",
      "PA_Harrisburg_4.json processed. 157/251 files processed.\n",
      "KS_Topeka_3.json processed. 158/251 files processed.\n",
      "KS_Topeka_2.json processed. 159/251 files processed.\n",
      "MD_Annapolis_1.json processed. 160/251 files processed.\n",
      "HI_Honolulu_2.json processed. 161/251 files processed.\n",
      "NV_CarsonCity_2.json processed. 162/251 files processed.\n",
      "ND_Bismarck_3.json processed. 163/251 files processed.\n",
      "VA_Richmond_2.json processed. 164/251 files processed.\n",
      "NJ_Trenton_2.json processed. 165/251 files processed.\n",
      "UT_SaltLakeCity_0.json processed. 166/251 files processed.\n",
      "KY_Frankfort_1.json processed. 167/251 files processed.\n",
      "WA_Olympia_0.json processed. 168/251 files processed.\n",
      "CO_Denver_4.json processed. 169/251 files processed.\n",
      "VT_Montpelier_0.json processed. 170/251 files processed.\n",
      "GA_Atlanta_1.json processed. 171/251 files processed.\n",
      "ME_Augusta_1.json processed. 172/251 files processed.\n",
      "ID_Boise_3.json processed. 173/251 files processed.\n",
      "IL_Springfield_0.json processed. 174/251 files processed.\n",
      "MN_St.Paul_1.json processed. 175/251 files processed.\n",
      "MA_Boston_4.json processed. 176/251 files processed.\n",
      "WI_Madison_4.json processed. 177/251 files processed.\n",
      "NE_Lincoln_1.json processed. 178/251 files processed.\n",
      "AL_Montgomery_1.json processed. 179/251 files processed.\n",
      "SC_Columbia_3.json processed. 180/251 files processed.\n",
      "CA_Sacramento_4.json processed. 181/251 files processed.\n",
      "NY_Albany_0.json processed. 182/251 files processed.\n",
      "WY_Cheyenne_0.json processed. 183/251 files processed.\n",
      "IA_DesMoines_4.json processed. 184/251 files processed.\n",
      "WV_Charleston_2.json processed. 185/251 files processed.\n",
      "TX_Austin_3.json processed. 186/251 files processed.\n",
      "OR_Salem_3.json processed. 187/251 files processed.\n",
      "CT_Hartford_0.json processed. 188/251 files processed.\n",
      "OH_Columbus_3.json processed. 189/251 files processed.\n",
      "DE_Dover_4.json processed. 190/251 files processed.\n",
      "RI_Providence_0.json processed. 191/251 files processed.\n",
      "MT_Helena_4.json processed. 192/251 files processed.\n",
      "SD_Pierre_3.json processed. 193/251 files processed.\n",
      "IN_Indianapolis_2.json processed. 194/251 files processed.\n",
      "ID_Boise_4.json processed. 195/251 files processed.\n",
      "AR_LittleRock_2.json processed. 196/251 files processed.\n",
      "FL_Tallahassee_1.json processed. 197/251 files processed.\n",
      "MI_Lansing_0.json processed. 198/251 files processed.\n",
      "CO_Denver_3.json processed. 199/251 files processed.\n",
      "ND_Bismarck_4.json processed. 200/251 files processed.\n",
      "AZ_Phoenix_2.json processed. 201/251 files processed.\n",
      "NM_SantaFe_1.json processed. 202/251 files processed.\n",
      "TN_Nashville_0.json processed. 203/251 files processed.\n",
      "MO_JeffersonCity_2.json processed. 204/251 files processed.\n",
      "LA_BatonRouge_0.json processed. 205/251 files processed.\n",
      "PA_Harrisburg_2.json processed. 206/251 files processed.\n",
      "SD_Pierre_4.json processed. 207/251 files processed.\n",
      "MS_Jackson_2.json processed. 208/251 files processed.\n",
      "MT_Helena_3.json processed. 209/251 files processed.\n",
      "OR_Salem_4.json processed. 210/251 files processed.\n",
      "DE_Dover_3.json processed. 211/251 files processed.\n",
      "OH_Columbus_4.json processed. 212/251 files processed.\n",
      "NH_Concord_2.json processed. 213/251 files processed.\n",
      "NC_Raleigh_2.json processed. 214/251 files processed.\n",
      "TX_Austin_4.json processed. 215/251 files processed.\n",
      "AK_Juneau_2.json processed. 216/251 files processed.\n",
      "OK_OklahomaCity_2.json processed. 217/251 files processed.\n",
      "IA_DesMoines_3.json processed. 218/251 files processed.\n",
      "CA_Sacramento_3.json processed. 219/251 files processed.\n",
      "SC_Columbia_4.json processed. 220/251 files processed.\n",
      "WI_Madison_3.json processed. 221/251 files processed.\n",
      "MA_Boston_3.json processed. 222/251 files processed.\n",
      "MA_Boston_2.json processed. 223/251 files processed.\n",
      "WI_Madison_2.json processed. 224/251 files processed.\n",
      "CA_Sacramento_2.json processed. 225/251 files processed.\n",
      "IA_DesMoines_2.json processed. 226/251 files processed.\n",
      "WV_Charleston_4.json processed. 227/251 files processed.\n",
      "AK_Juneau_3.json processed. 228/251 files processed.\n",
      "OK_OklahomaCity_3.json processed. 229/251 files processed.\n",
      "NC_Raleigh_3.json processed. 230/251 files processed.\n",
      "DE_Dover_2.json processed. 231/251 files processed.\n",
      "NH_Concord_3.json processed. 232/251 files processed.\n",
      "MS_Jackson_3.json processed. 233/251 files processed.\n",
      "MT_Helena_2.json processed. 234/251 files processed.\n",
      "KS_Topeka_4.json processed. 235/251 files processed.\n",
      "PA_Harrisburg_3.json processed. 236/251 files processed.\n",
      "LA_BatonRouge_1.json processed. 237/251 files processed.\n",
      "TN_Nashville_1.json processed. 238/251 files processed.\n",
      "MO_JeffersonCity_3.json processed. 239/251 files processed.\n",
      "HI_Honolulu_4.json processed. 240/251 files processed.\n",
      "NV_CarsonCity_4.json processed. 241/251 files processed.\n",
      "NM_SantaFe_0.json processed. 242/251 files processed.\n",
      "AZ_Phoenix_3.json processed. 243/251 files processed.\n",
      "VA_Richmond_4.json processed. 244/251 files processed.\n",
      "NJ_Trenton_4.json processed. 245/251 files processed.\n",
      "FL_Tallahassee_0.json processed. 246/251 files processed.\n",
      "MI_Lansing_1.json processed. 247/251 files processed.\n",
      "CO_Denver_2.json processed. 248/251 files processed.\n",
      "AR_LittleRock_3.json processed. 249/251 files processed.\n",
      "IN_Indianapolis_3.json processed. 250/251 files processed.\n",
      "\n",
      "Process complete.\n"
     ]
    }
   ],
   "source": [
    "# Getting an overview of the data before combining all the files into one dataframe. This is a custom function in `functions_variables.py` --- It takes in a directory path.\n",
    "overview = json_files_summary('../data')"
   ]
  },
  {
   "cell_type": "code",
   "execution_count": 3043,
   "metadata": {},
   "outputs": [
    {
     "data": {
      "text/html": [
       "<div>\n",
       "<style scoped>\n",
       "    .dataframe tbody tr th:only-of-type {\n",
       "        vertical-align: middle;\n",
       "    }\n",
       "\n",
       "    .dataframe tbody tr th {\n",
       "        vertical-align: top;\n",
       "    }\n",
       "\n",
       "    .dataframe thead th {\n",
       "        text-align: right;\n",
       "    }\n",
       "</style>\n",
       "<table border=\"1\" class=\"dataframe\">\n",
       "  <thead>\n",
       "    <tr style=\"text-align: right;\">\n",
       "      <th></th>\n",
       "      <th>file_name</th>\n",
       "      <th>file_path</th>\n",
       "      <th>rows_count</th>\n",
       "      <th>cols_count</th>\n",
       "      <th>cols_name</th>\n",
       "    </tr>\n",
       "  </thead>\n",
       "  <tbody>\n",
       "    <tr>\n",
       "      <th>0</th>\n",
       "      <td>PA_Harrisburg_0.json</td>\n",
       "      <td>../data/PA_Harrisburg_0.json</td>\n",
       "      <td>42</td>\n",
       "      <td>59</td>\n",
       "      <td>[last_update_date, tags, permalink, status, li...</td>\n",
       "    </tr>\n",
       "    <tr>\n",
       "      <th>1</th>\n",
       "      <td>LA_BatonRouge_2.json</td>\n",
       "      <td>../data/LA_BatonRouge_2.json</td>\n",
       "      <td>42</td>\n",
       "      <td>64</td>\n",
       "      <td>[last_update_date, tags, permalink, status, li...</td>\n",
       "    </tr>\n",
       "    <tr>\n",
       "      <th>2</th>\n",
       "      <td>MO_JeffersonCity_0.json</td>\n",
       "      <td>../data/MO_JeffersonCity_0.json</td>\n",
       "      <td>21</td>\n",
       "      <td>64</td>\n",
       "      <td>[last_update_date, tags, permalink, status, li...</td>\n",
       "    </tr>\n",
       "    <tr>\n",
       "      <th>3</th>\n",
       "      <td>TN_Nashville_2.json</td>\n",
       "      <td>../data/TN_Nashville_2.json</td>\n",
       "      <td>16</td>\n",
       "      <td>64</td>\n",
       "      <td>[last_update_date, tags, permalink, status, li...</td>\n",
       "    </tr>\n",
       "    <tr>\n",
       "      <th>4</th>\n",
       "      <td>MD_Annapolis_4.json</td>\n",
       "      <td>../data/MD_Annapolis_4.json</td>\n",
       "      <td>42</td>\n",
       "      <td>60</td>\n",
       "      <td>[last_update_date, tags, permalink, status, li...</td>\n",
       "    </tr>\n",
       "    <tr>\n",
       "      <th>...</th>\n",
       "      <td>...</td>\n",
       "      <td>...</td>\n",
       "      <td>...</td>\n",
       "      <td>...</td>\n",
       "      <td>...</td>\n",
       "    </tr>\n",
       "    <tr>\n",
       "      <th>245</th>\n",
       "      <td>FL_Tallahassee_0.json</td>\n",
       "      <td>../data/FL_Tallahassee_0.json</td>\n",
       "      <td>42</td>\n",
       "      <td>59</td>\n",
       "      <td>[last_update_date, tags, permalink, status, li...</td>\n",
       "    </tr>\n",
       "    <tr>\n",
       "      <th>246</th>\n",
       "      <td>MI_Lansing_1.json</td>\n",
       "      <td>../data/MI_Lansing_1.json</td>\n",
       "      <td>42</td>\n",
       "      <td>60</td>\n",
       "      <td>[last_update_date, tags, permalink, status, li...</td>\n",
       "    </tr>\n",
       "    <tr>\n",
       "      <th>247</th>\n",
       "      <td>CO_Denver_2.json</td>\n",
       "      <td>../data/CO_Denver_2.json</td>\n",
       "      <td>42</td>\n",
       "      <td>60</td>\n",
       "      <td>[last_update_date, tags, permalink, status, li...</td>\n",
       "    </tr>\n",
       "    <tr>\n",
       "      <th>248</th>\n",
       "      <td>AR_LittleRock_3.json</td>\n",
       "      <td>../data/AR_LittleRock_3.json</td>\n",
       "      <td>42</td>\n",
       "      <td>61</td>\n",
       "      <td>[last_update_date, tags, permalink, status, li...</td>\n",
       "    </tr>\n",
       "    <tr>\n",
       "      <th>249</th>\n",
       "      <td>IN_Indianapolis_3.json</td>\n",
       "      <td>../data/IN_Indianapolis_3.json</td>\n",
       "      <td>42</td>\n",
       "      <td>64</td>\n",
       "      <td>[last_update_date, tags, permalink, status, li...</td>\n",
       "    </tr>\n",
       "  </tbody>\n",
       "</table>\n",
       "<p>250 rows × 5 columns</p>\n",
       "</div>"
      ],
      "text/plain": [
       "                   file_name                        file_path  rows_count  \\\n",
       "0       PA_Harrisburg_0.json     ../data/PA_Harrisburg_0.json          42   \n",
       "1       LA_BatonRouge_2.json     ../data/LA_BatonRouge_2.json          42   \n",
       "2    MO_JeffersonCity_0.json  ../data/MO_JeffersonCity_0.json          21   \n",
       "3        TN_Nashville_2.json      ../data/TN_Nashville_2.json          16   \n",
       "4        MD_Annapolis_4.json      ../data/MD_Annapolis_4.json          42   \n",
       "..                       ...                              ...         ...   \n",
       "245    FL_Tallahassee_0.json    ../data/FL_Tallahassee_0.json          42   \n",
       "246        MI_Lansing_1.json        ../data/MI_Lansing_1.json          42   \n",
       "247         CO_Denver_2.json         ../data/CO_Denver_2.json          42   \n",
       "248     AR_LittleRock_3.json     ../data/AR_LittleRock_3.json          42   \n",
       "249   IN_Indianapolis_3.json   ../data/IN_Indianapolis_3.json          42   \n",
       "\n",
       "     cols_count                                          cols_name  \n",
       "0            59  [last_update_date, tags, permalink, status, li...  \n",
       "1            64  [last_update_date, tags, permalink, status, li...  \n",
       "2            64  [last_update_date, tags, permalink, status, li...  \n",
       "3            64  [last_update_date, tags, permalink, status, li...  \n",
       "4            60  [last_update_date, tags, permalink, status, li...  \n",
       "..          ...                                                ...  \n",
       "245          59  [last_update_date, tags, permalink, status, li...  \n",
       "246          60  [last_update_date, tags, permalink, status, li...  \n",
       "247          60  [last_update_date, tags, permalink, status, li...  \n",
       "248          61  [last_update_date, tags, permalink, status, li...  \n",
       "249          64  [last_update_date, tags, permalink, status, li...  \n",
       "\n",
       "[250 rows x 5 columns]"
      ]
     },
     "execution_count": 3043,
     "metadata": {},
     "output_type": "execute_result"
    }
   ],
   "source": [
    "overview\n",
    "# After reviewing the data with Data Wrangler, I found that some files may be missing the 'results' key, or it is empty."
   ]
  },
  {
   "cell_type": "code",
   "execution_count": 3044,
   "metadata": {},
   "outputs": [
    {
     "data": {
      "text/plain": [
       "(250, 5)"
      ]
     },
     "execution_count": 3044,
     "metadata": {},
     "output_type": "execute_result"
    }
   ],
   "source": [
    "overview.shape"
   ]
  },
  {
   "cell_type": "markdown",
   "metadata": {},
   "source": [
    "##### - Comparing, Checking files"
   ]
  },
  {
   "cell_type": "code",
   "execution_count": 3045,
   "metadata": {},
   "outputs": [
    {
     "data": {
      "text/plain": [
       "dict_keys(['total', 'count', 'results'])"
      ]
     },
     "execution_count": 3045,
     "metadata": {},
     "output_type": "execute_result"
    }
   ],
   "source": [
    "# 226 -- just chose one of the files that has an empty 'results' key\n",
    "weird_file_path = overview.iloc[226]['file_path']\n",
    "\n",
    "with open(weird_file_path) as f:\n",
    "  weird_file = json.load(f)\n",
    "\n",
    "weird_file['data'].keys()"
   ]
  },
  {
   "cell_type": "code",
   "execution_count": 3046,
   "metadata": {},
   "outputs": [
    {
     "data": {
      "text/plain": [
       "(39, 8)"
      ]
     },
     "execution_count": 3046,
     "metadata": {},
     "output_type": "execute_result"
    }
   ],
   "source": [
    "len(weird_file['data']['results']), len(data_json['data']['results']) # Weird vs Normal File"
   ]
  },
  {
   "cell_type": "code",
   "execution_count": 3047,
   "metadata": {},
   "outputs": [
    {
     "data": {
      "text/html": [
       "<div>\n",
       "<style scoped>\n",
       "    .dataframe tbody tr th:only-of-type {\n",
       "        vertical-align: middle;\n",
       "    }\n",
       "\n",
       "    .dataframe tbody tr th {\n",
       "        vertical-align: top;\n",
       "    }\n",
       "\n",
       "    .dataframe thead th {\n",
       "        text-align: right;\n",
       "    }\n",
       "</style>\n",
       "<table border=\"1\" class=\"dataframe\">\n",
       "  <thead>\n",
       "    <tr style=\"text-align: right;\">\n",
       "      <th></th>\n",
       "      <th>file_name</th>\n",
       "      <th>file_path</th>\n",
       "      <th>rows_count</th>\n",
       "      <th>cols_count</th>\n",
       "      <th>cols_name</th>\n",
       "    </tr>\n",
       "  </thead>\n",
       "  <tbody>\n",
       "    <tr>\n",
       "      <th>12</th>\n",
       "      <td>ME_Augusta_4.json</td>\n",
       "      <td>../data/ME_Augusta_4.json</td>\n",
       "      <td>1</td>\n",
       "      <td>0</td>\n",
       "      <td>[]</td>\n",
       "    </tr>\n",
       "    <tr>\n",
       "      <th>28</th>\n",
       "      <td>MS_Jackson_0.json</td>\n",
       "      <td>../data/MS_Jackson_0.json</td>\n",
       "      <td>1</td>\n",
       "      <td>0</td>\n",
       "      <td>[]</td>\n",
       "    </tr>\n",
       "    <tr>\n",
       "      <th>30</th>\n",
       "      <td>MS_Jackson_1.json</td>\n",
       "      <td>../data/MS_Jackson_1.json</td>\n",
       "      <td>1</td>\n",
       "      <td>0</td>\n",
       "      <td>[]</td>\n",
       "    </tr>\n",
       "    <tr>\n",
       "      <th>40</th>\n",
       "      <td>WY_Cheyenne_4.json</td>\n",
       "      <td>../data/WY_Cheyenne_4.json</td>\n",
       "      <td>1</td>\n",
       "      <td>0</td>\n",
       "      <td>[]</td>\n",
       "    </tr>\n",
       "    <tr>\n",
       "      <th>47</th>\n",
       "      <td>VT_Montpelier_4.json</td>\n",
       "      <td>../data/VT_Montpelier_4.json</td>\n",
       "      <td>1</td>\n",
       "      <td>0</td>\n",
       "      <td>[]</td>\n",
       "    </tr>\n",
       "    <tr>\n",
       "      <th>64</th>\n",
       "      <td>WY_Cheyenne_3.json</td>\n",
       "      <td>../data/WY_Cheyenne_3.json</td>\n",
       "      <td>1</td>\n",
       "      <td>0</td>\n",
       "      <td>[]</td>\n",
       "    </tr>\n",
       "    <tr>\n",
       "      <th>72</th>\n",
       "      <td>SD_Pierre_0.json</td>\n",
       "      <td>../data/SD_Pierre_0.json</td>\n",
       "      <td>1</td>\n",
       "      <td>0</td>\n",
       "      <td>[]</td>\n",
       "    </tr>\n",
       "    <tr>\n",
       "      <th>87</th>\n",
       "      <td>ME_Augusta_2.json</td>\n",
       "      <td>../data/ME_Augusta_2.json</td>\n",
       "      <td>1</td>\n",
       "      <td>0</td>\n",
       "      <td>[]</td>\n",
       "    </tr>\n",
       "    <tr>\n",
       "      <th>88</th>\n",
       "      <td>VT_Montpelier_3.json</td>\n",
       "      <td>../data/VT_Montpelier_3.json</td>\n",
       "      <td>1</td>\n",
       "      <td>0</td>\n",
       "      <td>[]</td>\n",
       "    </tr>\n",
       "    <tr>\n",
       "      <th>92</th>\n",
       "      <td>ME_Augusta_3.json</td>\n",
       "      <td>../data/ME_Augusta_3.json</td>\n",
       "      <td>1</td>\n",
       "      <td>0</td>\n",
       "      <td>[]</td>\n",
       "    </tr>\n",
       "    <tr>\n",
       "      <th>93</th>\n",
       "      <td>VT_Montpelier_2.json</td>\n",
       "      <td>../data/VT_Montpelier_2.json</td>\n",
       "      <td>1</td>\n",
       "      <td>0</td>\n",
       "      <td>[]</td>\n",
       "    </tr>\n",
       "    <tr>\n",
       "      <th>106</th>\n",
       "      <td>SD_Pierre_1.json</td>\n",
       "      <td>../data/SD_Pierre_1.json</td>\n",
       "      <td>1</td>\n",
       "      <td>0</td>\n",
       "      <td>[]</td>\n",
       "    </tr>\n",
       "    <tr>\n",
       "      <th>113</th>\n",
       "      <td>WY_Cheyenne_2.json</td>\n",
       "      <td>../data/WY_Cheyenne_2.json</td>\n",
       "      <td>1</td>\n",
       "      <td>0</td>\n",
       "      <td>[]</td>\n",
       "    </tr>\n",
       "    <tr>\n",
       "      <th>120</th>\n",
       "      <td>SD_Pierre_2.json</td>\n",
       "      <td>../data/SD_Pierre_2.json</td>\n",
       "      <td>1</td>\n",
       "      <td>0</td>\n",
       "      <td>[]</td>\n",
       "    </tr>\n",
       "    <tr>\n",
       "      <th>121</th>\n",
       "      <td>MS_Jackson_4.json</td>\n",
       "      <td>../data/MS_Jackson_4.json</td>\n",
       "      <td>1</td>\n",
       "      <td>0</td>\n",
       "      <td>[]</td>\n",
       "    </tr>\n",
       "    <tr>\n",
       "      <th>125</th>\n",
       "      <td>NH_Concord_4.json</td>\n",
       "      <td>../data/NH_Concord_4.json</td>\n",
       "      <td>1</td>\n",
       "      <td>0</td>\n",
       "      <td>[]</td>\n",
       "    </tr>\n",
       "    <tr>\n",
       "      <th>133</th>\n",
       "      <td>WY_Cheyenne_1.json</td>\n",
       "      <td>../data/WY_Cheyenne_1.json</td>\n",
       "      <td>1</td>\n",
       "      <td>0</td>\n",
       "      <td>[]</td>\n",
       "    </tr>\n",
       "    <tr>\n",
       "      <th>142</th>\n",
       "      <td>VT_Montpelier_1.json</td>\n",
       "      <td>../data/VT_Montpelier_1.json</td>\n",
       "      <td>1</td>\n",
       "      <td>0</td>\n",
       "      <td>[]</td>\n",
       "    </tr>\n",
       "    <tr>\n",
       "      <th>144</th>\n",
       "      <td>ME_Augusta_0.json</td>\n",
       "      <td>../data/ME_Augusta_0.json</td>\n",
       "      <td>1</td>\n",
       "      <td>0</td>\n",
       "      <td>[]</td>\n",
       "    </tr>\n",
       "    <tr>\n",
       "      <th>149</th>\n",
       "      <td>ND_Bismarck_2.json</td>\n",
       "      <td>../data/ND_Bismarck_2.json</td>\n",
       "      <td>1</td>\n",
       "      <td>0</td>\n",
       "      <td>[]</td>\n",
       "    </tr>\n",
       "    <tr>\n",
       "      <th>152</th>\n",
       "      <td>HI_Honolulu_3.json</td>\n",
       "      <td>../data/HI_Honolulu_3.json</td>\n",
       "      <td>1</td>\n",
       "      <td>0</td>\n",
       "      <td>[]</td>\n",
       "    </tr>\n",
       "    <tr>\n",
       "      <th>162</th>\n",
       "      <td>ND_Bismarck_3.json</td>\n",
       "      <td>../data/ND_Bismarck_3.json</td>\n",
       "      <td>1</td>\n",
       "      <td>0</td>\n",
       "      <td>[]</td>\n",
       "    </tr>\n",
       "    <tr>\n",
       "      <th>169</th>\n",
       "      <td>VT_Montpelier_0.json</td>\n",
       "      <td>../data/VT_Montpelier_0.json</td>\n",
       "      <td>1</td>\n",
       "      <td>0</td>\n",
       "      <td>[]</td>\n",
       "    </tr>\n",
       "    <tr>\n",
       "      <th>171</th>\n",
       "      <td>ME_Augusta_1.json</td>\n",
       "      <td>../data/ME_Augusta_1.json</td>\n",
       "      <td>1</td>\n",
       "      <td>0</td>\n",
       "      <td>[]</td>\n",
       "    </tr>\n",
       "    <tr>\n",
       "      <th>182</th>\n",
       "      <td>WY_Cheyenne_0.json</td>\n",
       "      <td>../data/WY_Cheyenne_0.json</td>\n",
       "      <td>1</td>\n",
       "      <td>0</td>\n",
       "      <td>[]</td>\n",
       "    </tr>\n",
       "    <tr>\n",
       "      <th>192</th>\n",
       "      <td>SD_Pierre_3.json</td>\n",
       "      <td>../data/SD_Pierre_3.json</td>\n",
       "      <td>1</td>\n",
       "      <td>0</td>\n",
       "      <td>[]</td>\n",
       "    </tr>\n",
       "    <tr>\n",
       "      <th>199</th>\n",
       "      <td>ND_Bismarck_4.json</td>\n",
       "      <td>../data/ND_Bismarck_4.json</td>\n",
       "      <td>1</td>\n",
       "      <td>0</td>\n",
       "      <td>[]</td>\n",
       "    </tr>\n",
       "    <tr>\n",
       "      <th>206</th>\n",
       "      <td>SD_Pierre_4.json</td>\n",
       "      <td>../data/SD_Pierre_4.json</td>\n",
       "      <td>1</td>\n",
       "      <td>0</td>\n",
       "      <td>[]</td>\n",
       "    </tr>\n",
       "    <tr>\n",
       "      <th>207</th>\n",
       "      <td>MS_Jackson_2.json</td>\n",
       "      <td>../data/MS_Jackson_2.json</td>\n",
       "      <td>1</td>\n",
       "      <td>0</td>\n",
       "      <td>[]</td>\n",
       "    </tr>\n",
       "    <tr>\n",
       "      <th>231</th>\n",
       "      <td>NH_Concord_3.json</td>\n",
       "      <td>../data/NH_Concord_3.json</td>\n",
       "      <td>1</td>\n",
       "      <td>0</td>\n",
       "      <td>[]</td>\n",
       "    </tr>\n",
       "    <tr>\n",
       "      <th>232</th>\n",
       "      <td>MS_Jackson_3.json</td>\n",
       "      <td>../data/MS_Jackson_3.json</td>\n",
       "      <td>1</td>\n",
       "      <td>0</td>\n",
       "      <td>[]</td>\n",
       "    </tr>\n",
       "    <tr>\n",
       "      <th>239</th>\n",
       "      <td>HI_Honolulu_4.json</td>\n",
       "      <td>../data/HI_Honolulu_4.json</td>\n",
       "      <td>1</td>\n",
       "      <td>0</td>\n",
       "      <td>[]</td>\n",
       "    </tr>\n",
       "  </tbody>\n",
       "</table>\n",
       "</div>"
      ],
      "text/plain": [
       "                file_name                     file_path  rows_count  \\\n",
       "12      ME_Augusta_4.json     ../data/ME_Augusta_4.json           1   \n",
       "28      MS_Jackson_0.json     ../data/MS_Jackson_0.json           1   \n",
       "30      MS_Jackson_1.json     ../data/MS_Jackson_1.json           1   \n",
       "40     WY_Cheyenne_4.json    ../data/WY_Cheyenne_4.json           1   \n",
       "47   VT_Montpelier_4.json  ../data/VT_Montpelier_4.json           1   \n",
       "64     WY_Cheyenne_3.json    ../data/WY_Cheyenne_3.json           1   \n",
       "72       SD_Pierre_0.json      ../data/SD_Pierre_0.json           1   \n",
       "87      ME_Augusta_2.json     ../data/ME_Augusta_2.json           1   \n",
       "88   VT_Montpelier_3.json  ../data/VT_Montpelier_3.json           1   \n",
       "92      ME_Augusta_3.json     ../data/ME_Augusta_3.json           1   \n",
       "93   VT_Montpelier_2.json  ../data/VT_Montpelier_2.json           1   \n",
       "106      SD_Pierre_1.json      ../data/SD_Pierre_1.json           1   \n",
       "113    WY_Cheyenne_2.json    ../data/WY_Cheyenne_2.json           1   \n",
       "120      SD_Pierre_2.json      ../data/SD_Pierre_2.json           1   \n",
       "121     MS_Jackson_4.json     ../data/MS_Jackson_4.json           1   \n",
       "125     NH_Concord_4.json     ../data/NH_Concord_4.json           1   \n",
       "133    WY_Cheyenne_1.json    ../data/WY_Cheyenne_1.json           1   \n",
       "142  VT_Montpelier_1.json  ../data/VT_Montpelier_1.json           1   \n",
       "144     ME_Augusta_0.json     ../data/ME_Augusta_0.json           1   \n",
       "149    ND_Bismarck_2.json    ../data/ND_Bismarck_2.json           1   \n",
       "152    HI_Honolulu_3.json    ../data/HI_Honolulu_3.json           1   \n",
       "162    ND_Bismarck_3.json    ../data/ND_Bismarck_3.json           1   \n",
       "169  VT_Montpelier_0.json  ../data/VT_Montpelier_0.json           1   \n",
       "171     ME_Augusta_1.json     ../data/ME_Augusta_1.json           1   \n",
       "182    WY_Cheyenne_0.json    ../data/WY_Cheyenne_0.json           1   \n",
       "192      SD_Pierre_3.json      ../data/SD_Pierre_3.json           1   \n",
       "199    ND_Bismarck_4.json    ../data/ND_Bismarck_4.json           1   \n",
       "206      SD_Pierre_4.json      ../data/SD_Pierre_4.json           1   \n",
       "207     MS_Jackson_2.json     ../data/MS_Jackson_2.json           1   \n",
       "231     NH_Concord_3.json     ../data/NH_Concord_3.json           1   \n",
       "232     MS_Jackson_3.json     ../data/MS_Jackson_3.json           1   \n",
       "239    HI_Honolulu_4.json    ../data/HI_Honolulu_4.json           1   \n",
       "\n",
       "     cols_count cols_name  \n",
       "12            0        []  \n",
       "28            0        []  \n",
       "30            0        []  \n",
       "40            0        []  \n",
       "47            0        []  \n",
       "64            0        []  \n",
       "72            0        []  \n",
       "87            0        []  \n",
       "88            0        []  \n",
       "92            0        []  \n",
       "93            0        []  \n",
       "106           0        []  \n",
       "113           0        []  \n",
       "120           0        []  \n",
       "121           0        []  \n",
       "125           0        []  \n",
       "133           0        []  \n",
       "142           0        []  \n",
       "144           0        []  \n",
       "149           0        []  \n",
       "152           0        []  \n",
       "162           0        []  \n",
       "169           0        []  \n",
       "171           0        []  \n",
       "182           0        []  \n",
       "192           0        []  \n",
       "199           0        []  \n",
       "206           0        []  \n",
       "207           0        []  \n",
       "231           0        []  \n",
       "232           0        []  \n",
       "239           0        []  "
      ]
     },
     "execution_count": 3047,
     "metadata": {},
     "output_type": "execute_result"
    }
   ],
   "source": [
    "weird_files = overview[overview['cols_count'] == 0]\n",
    "\n",
    "weird_files"
   ]
  },
  {
   "cell_type": "code",
   "execution_count": 3048,
   "metadata": {},
   "outputs": [
    {
     "name": "stdout",
     "output_type": "stream",
     "text": [
      "../data/ME_Augusta_4.json returns empty 'results'\n",
      "../data/MS_Jackson_0.json returns empty 'results'\n",
      "../data/MS_Jackson_1.json returns empty 'results'\n",
      "../data/WY_Cheyenne_4.json returns empty 'results'\n",
      "../data/VT_Montpelier_4.json returns empty 'results'\n",
      "../data/WY_Cheyenne_3.json returns empty 'results'\n",
      "../data/SD_Pierre_0.json returns empty 'results'\n",
      "../data/ME_Augusta_2.json returns empty 'results'\n",
      "../data/VT_Montpelier_3.json returns empty 'results'\n",
      "../data/ME_Augusta_3.json returns empty 'results'\n",
      "../data/VT_Montpelier_2.json returns empty 'results'\n",
      "../data/SD_Pierre_1.json returns empty 'results'\n",
      "../data/WY_Cheyenne_2.json returns empty 'results'\n",
      "../data/SD_Pierre_2.json returns empty 'results'\n",
      "../data/MS_Jackson_4.json returns empty 'results'\n",
      "../data/NH_Concord_4.json returns empty 'results'\n",
      "../data/WY_Cheyenne_1.json returns empty 'results'\n",
      "../data/VT_Montpelier_1.json returns empty 'results'\n",
      "../data/ME_Augusta_0.json returns empty 'results'\n",
      "../data/ND_Bismarck_2.json returns empty 'results'\n",
      "../data/HI_Honolulu_3.json returns empty 'results'\n",
      "../data/ND_Bismarck_3.json returns empty 'results'\n",
      "../data/VT_Montpelier_0.json returns empty 'results'\n",
      "../data/ME_Augusta_1.json returns empty 'results'\n",
      "../data/WY_Cheyenne_0.json returns empty 'results'\n",
      "../data/SD_Pierre_3.json returns empty 'results'\n",
      "../data/ND_Bismarck_4.json returns empty 'results'\n",
      "../data/SD_Pierre_4.json returns empty 'results'\n",
      "../data/MS_Jackson_2.json returns empty 'results'\n",
      "../data/NH_Concord_3.json returns empty 'results'\n",
      "../data/MS_Jackson_3.json returns empty 'results'\n",
      "../data/HI_Honolulu_4.json returns empty 'results'\n"
     ]
    }
   ],
   "source": [
    "# Create a list of files with an empty 'results' key or has other problems\n",
    "weird = []\n",
    "extra_weird = []\n",
    "  \n",
    "for file in weird_files['file_path']:\n",
    "  \n",
    "  with open(file) as f:\n",
    "    weird_file = json.load(f)\n",
    "  \n",
    "  if len(weird_file['data']['results']) == 0:\n",
    "    print(f'{file} returns empty \\'results\\'')\n",
    "    weird.append(file)\n",
    "  \n",
    "  else:\n",
    "    print(f'{file} has another problem...')\n",
    "    extra_weird.append(file)"
   ]
  },
  {
   "cell_type": "code",
   "execution_count": 3049,
   "metadata": {},
   "outputs": [
    {
     "name": "stdout",
     "output_type": "stream",
     "text": [
      "\n",
      "32 Weird Files...\n",
      "['../data/ME_Augusta_4.json', '../data/MS_Jackson_0.json', '../data/MS_Jackson_1.json', '../data/WY_Cheyenne_4.json', '../data/VT_Montpelier_4.json', '../data/WY_Cheyenne_3.json', '../data/SD_Pierre_0.json', '../data/ME_Augusta_2.json', '../data/VT_Montpelier_3.json', '../data/ME_Augusta_3.json', '../data/VT_Montpelier_2.json', '../data/SD_Pierre_1.json', '../data/WY_Cheyenne_2.json', '../data/SD_Pierre_2.json', '../data/MS_Jackson_4.json', '../data/NH_Concord_4.json', '../data/WY_Cheyenne_1.json', '../data/VT_Montpelier_1.json', '../data/ME_Augusta_0.json', '../data/ND_Bismarck_2.json', '../data/HI_Honolulu_3.json', '../data/ND_Bismarck_3.json', '../data/VT_Montpelier_0.json', '../data/ME_Augusta_1.json', '../data/WY_Cheyenne_0.json', '../data/SD_Pierre_3.json', '../data/ND_Bismarck_4.json', '../data/SD_Pierre_4.json', '../data/MS_Jackson_2.json', '../data/NH_Concord_3.json', '../data/MS_Jackson_3.json', '../data/HI_Honolulu_4.json']\n",
      "\n",
      "0 Extra Weird Files... \n",
      "[]\n"
     ]
    }
   ],
   "source": [
    "print(f'\\n{len(weird)} Weird Files...\\n{weird}')\n",
    "print(f'\\n{len(extra_weird)} Extra Weird Files... \\n{extra_weird}')"
   ]
  },
  {
   "cell_type": "code",
   "execution_count": 3050,
   "metadata": {},
   "outputs": [],
   "source": [
    "# Safe to drop the weird files from the overview dataframe\n",
    "drop = [i for i in weird_files.index]\n",
    "\n",
    "overview.drop(drop, inplace=True) # Originally 250, 5"
   ]
  },
  {
   "cell_type": "code",
   "execution_count": 3051,
   "metadata": {},
   "outputs": [
    {
     "data": {
      "text/plain": [
       "(218, 5)"
      ]
     },
     "execution_count": 3051,
     "metadata": {},
     "output_type": "execute_result"
    }
   ],
   "source": [
    "overview.shape"
   ]
  },
  {
   "cell_type": "code",
   "execution_count": 3052,
   "metadata": {},
   "outputs": [
    {
     "data": {
      "text/html": [
       "<div>\n",
       "<style scoped>\n",
       "    .dataframe tbody tr th:only-of-type {\n",
       "        vertical-align: middle;\n",
       "    }\n",
       "\n",
       "    .dataframe tbody tr th {\n",
       "        vertical-align: top;\n",
       "    }\n",
       "\n",
       "    .dataframe thead th {\n",
       "        text-align: right;\n",
       "    }\n",
       "</style>\n",
       "<table border=\"1\" class=\"dataframe\">\n",
       "  <thead>\n",
       "    <tr style=\"text-align: right;\">\n",
       "      <th></th>\n",
       "      <th>file_name</th>\n",
       "      <th>file_path</th>\n",
       "      <th>rows_count</th>\n",
       "      <th>cols_count</th>\n",
       "      <th>cols_name</th>\n",
       "    </tr>\n",
       "  </thead>\n",
       "  <tbody>\n",
       "    <tr>\n",
       "      <th>0</th>\n",
       "      <td>PA_Harrisburg_0.json</td>\n",
       "      <td>../data/PA_Harrisburg_0.json</td>\n",
       "      <td>42</td>\n",
       "      <td>59</td>\n",
       "      <td>[last_update_date, tags, permalink, status, li...</td>\n",
       "    </tr>\n",
       "    <tr>\n",
       "      <th>1</th>\n",
       "      <td>LA_BatonRouge_2.json</td>\n",
       "      <td>../data/LA_BatonRouge_2.json</td>\n",
       "      <td>42</td>\n",
       "      <td>64</td>\n",
       "      <td>[last_update_date, tags, permalink, status, li...</td>\n",
       "    </tr>\n",
       "    <tr>\n",
       "      <th>2</th>\n",
       "      <td>MO_JeffersonCity_0.json</td>\n",
       "      <td>../data/MO_JeffersonCity_0.json</td>\n",
       "      <td>21</td>\n",
       "      <td>64</td>\n",
       "      <td>[last_update_date, tags, permalink, status, li...</td>\n",
       "    </tr>\n",
       "    <tr>\n",
       "      <th>3</th>\n",
       "      <td>TN_Nashville_2.json</td>\n",
       "      <td>../data/TN_Nashville_2.json</td>\n",
       "      <td>16</td>\n",
       "      <td>64</td>\n",
       "      <td>[last_update_date, tags, permalink, status, li...</td>\n",
       "    </tr>\n",
       "    <tr>\n",
       "      <th>4</th>\n",
       "      <td>MD_Annapolis_4.json</td>\n",
       "      <td>../data/MD_Annapolis_4.json</td>\n",
       "      <td>42</td>\n",
       "      <td>60</td>\n",
       "      <td>[last_update_date, tags, permalink, status, li...</td>\n",
       "    </tr>\n",
       "    <tr>\n",
       "      <th>...</th>\n",
       "      <td>...</td>\n",
       "      <td>...</td>\n",
       "      <td>...</td>\n",
       "      <td>...</td>\n",
       "      <td>...</td>\n",
       "    </tr>\n",
       "    <tr>\n",
       "      <th>245</th>\n",
       "      <td>FL_Tallahassee_0.json</td>\n",
       "      <td>../data/FL_Tallahassee_0.json</td>\n",
       "      <td>42</td>\n",
       "      <td>59</td>\n",
       "      <td>[last_update_date, tags, permalink, status, li...</td>\n",
       "    </tr>\n",
       "    <tr>\n",
       "      <th>246</th>\n",
       "      <td>MI_Lansing_1.json</td>\n",
       "      <td>../data/MI_Lansing_1.json</td>\n",
       "      <td>42</td>\n",
       "      <td>60</td>\n",
       "      <td>[last_update_date, tags, permalink, status, li...</td>\n",
       "    </tr>\n",
       "    <tr>\n",
       "      <th>247</th>\n",
       "      <td>CO_Denver_2.json</td>\n",
       "      <td>../data/CO_Denver_2.json</td>\n",
       "      <td>42</td>\n",
       "      <td>60</td>\n",
       "      <td>[last_update_date, tags, permalink, status, li...</td>\n",
       "    </tr>\n",
       "    <tr>\n",
       "      <th>248</th>\n",
       "      <td>AR_LittleRock_3.json</td>\n",
       "      <td>../data/AR_LittleRock_3.json</td>\n",
       "      <td>42</td>\n",
       "      <td>61</td>\n",
       "      <td>[last_update_date, tags, permalink, status, li...</td>\n",
       "    </tr>\n",
       "    <tr>\n",
       "      <th>249</th>\n",
       "      <td>IN_Indianapolis_3.json</td>\n",
       "      <td>../data/IN_Indianapolis_3.json</td>\n",
       "      <td>42</td>\n",
       "      <td>64</td>\n",
       "      <td>[last_update_date, tags, permalink, status, li...</td>\n",
       "    </tr>\n",
       "  </tbody>\n",
       "</table>\n",
       "<p>218 rows × 5 columns</p>\n",
       "</div>"
      ],
      "text/plain": [
       "                   file_name                        file_path  rows_count  \\\n",
       "0       PA_Harrisburg_0.json     ../data/PA_Harrisburg_0.json          42   \n",
       "1       LA_BatonRouge_2.json     ../data/LA_BatonRouge_2.json          42   \n",
       "2    MO_JeffersonCity_0.json  ../data/MO_JeffersonCity_0.json          21   \n",
       "3        TN_Nashville_2.json      ../data/TN_Nashville_2.json          16   \n",
       "4        MD_Annapolis_4.json      ../data/MD_Annapolis_4.json          42   \n",
       "..                       ...                              ...         ...   \n",
       "245    FL_Tallahassee_0.json    ../data/FL_Tallahassee_0.json          42   \n",
       "246        MI_Lansing_1.json        ../data/MI_Lansing_1.json          42   \n",
       "247         CO_Denver_2.json         ../data/CO_Denver_2.json          42   \n",
       "248     AR_LittleRock_3.json     ../data/AR_LittleRock_3.json          42   \n",
       "249   IN_Indianapolis_3.json   ../data/IN_Indianapolis_3.json          42   \n",
       "\n",
       "     cols_count                                          cols_name  \n",
       "0            59  [last_update_date, tags, permalink, status, li...  \n",
       "1            64  [last_update_date, tags, permalink, status, li...  \n",
       "2            64  [last_update_date, tags, permalink, status, li...  \n",
       "3            64  [last_update_date, tags, permalink, status, li...  \n",
       "4            60  [last_update_date, tags, permalink, status, li...  \n",
       "..          ...                                                ...  \n",
       "245          59  [last_update_date, tags, permalink, status, li...  \n",
       "246          60  [last_update_date, tags, permalink, status, li...  \n",
       "247          60  [last_update_date, tags, permalink, status, li...  \n",
       "248          61  [last_update_date, tags, permalink, status, li...  \n",
       "249          64  [last_update_date, tags, permalink, status, li...  \n",
       "\n",
       "[218 rows x 5 columns]"
      ]
     },
     "execution_count": 3052,
     "metadata": {},
     "output_type": "execute_result"
    }
   ],
   "source": [
    "overview # I will use the file_path column to load the data"
   ]
  },
  {
   "cell_type": "markdown",
   "metadata": {},
   "source": [
    "##### - Resuming Data Import Procedures"
   ]
  },
  {
   "cell_type": "code",
   "execution_count": 3053,
   "metadata": {},
   "outputs": [
    {
     "data": {
      "text/html": [
       "<div>\n",
       "<style scoped>\n",
       "    .dataframe tbody tr th:only-of-type {\n",
       "        vertical-align: middle;\n",
       "    }\n",
       "\n",
       "    .dataframe tbody tr th {\n",
       "        vertical-align: top;\n",
       "    }\n",
       "\n",
       "    .dataframe thead th {\n",
       "        text-align: right;\n",
       "    }\n",
       "</style>\n",
       "<table border=\"1\" class=\"dataframe\">\n",
       "  <thead>\n",
       "    <tr style=\"text-align: right;\">\n",
       "      <th></th>\n",
       "      <th>last_update_date</th>\n",
       "      <th>tags</th>\n",
       "      <th>permalink</th>\n",
       "      <th>status</th>\n",
       "      <th>list_date</th>\n",
       "      <th>open_houses</th>\n",
       "      <th>branding</th>\n",
       "      <th>list_price</th>\n",
       "      <th>property_id</th>\n",
       "      <th>photos</th>\n",
       "      <th>...</th>\n",
       "      <th>location.address.state_code</th>\n",
       "      <th>location.address.line</th>\n",
       "      <th>location.street_view_url</th>\n",
       "      <th>location.county.fips_code</th>\n",
       "      <th>location.county.name</th>\n",
       "      <th>primary_photo</th>\n",
       "      <th>source</th>\n",
       "      <th>products</th>\n",
       "      <th>location.address.coordinate</th>\n",
       "      <th>other_listings</th>\n",
       "    </tr>\n",
       "  </thead>\n",
       "  <tbody>\n",
       "    <tr>\n",
       "      <th>0</th>\n",
       "      <td>2023-09-19T20:52:50Z</td>\n",
       "      <td>[carport, community_outdoor_space, cul_de_sac,...</td>\n",
       "      <td>9453-Herbert-Pl_Juneau_AK_99801_M90744-30767</td>\n",
       "      <td>sold</td>\n",
       "      <td>2023-06-29T21:16:25.000000Z</td>\n",
       "      <td>None</td>\n",
       "      <td>[{'name': 'EXP Realty LLC - Southeast Alaska',...</td>\n",
       "      <td>554950.0</td>\n",
       "      <td>9074430767</td>\n",
       "      <td>[{'tags': [{'label': 'house_view', 'probabilit...</td>\n",
       "      <td>...</td>\n",
       "      <td>AK</td>\n",
       "      <td>9453 Herbert Pl</td>\n",
       "      <td>https://maps.googleapis.com/maps/api/streetvie...</td>\n",
       "      <td>None</td>\n",
       "      <td>Juneau</td>\n",
       "      <td>NaN</td>\n",
       "      <td>NaN</td>\n",
       "      <td>NaN</td>\n",
       "      <td>NaN</td>\n",
       "      <td>NaN</td>\n",
       "    </tr>\n",
       "    <tr>\n",
       "      <th>1</th>\n",
       "      <td>None</td>\n",
       "      <td>None</td>\n",
       "      <td>8477-Thunder-Mountain-Rd_Juneau_AK_99801_M9424...</td>\n",
       "      <td>sold</td>\n",
       "      <td>None</td>\n",
       "      <td>None</td>\n",
       "      <td>[{'name': None, 'photo': None, 'type': 'Office'}]</td>\n",
       "      <td>NaN</td>\n",
       "      <td>9424983842</td>\n",
       "      <td>None</td>\n",
       "      <td>...</td>\n",
       "      <td>AK</td>\n",
       "      <td>8477 Thunder Mountain Rd</td>\n",
       "      <td>https://maps.googleapis.com/maps/api/streetvie...</td>\n",
       "      <td>None</td>\n",
       "      <td>Juneau</td>\n",
       "      <td>NaN</td>\n",
       "      <td>NaN</td>\n",
       "      <td>NaN</td>\n",
       "      <td>NaN</td>\n",
       "      <td>NaN</td>\n",
       "    </tr>\n",
       "  </tbody>\n",
       "</table>\n",
       "<p>2 rows × 64 columns</p>\n",
       "</div>"
      ],
      "text/plain": [
       "       last_update_date                                               tags  \\\n",
       "0  2023-09-19T20:52:50Z  [carport, community_outdoor_space, cul_de_sac,...   \n",
       "1                  None                                               None   \n",
       "\n",
       "                                           permalink status  \\\n",
       "0       9453-Herbert-Pl_Juneau_AK_99801_M90744-30767   sold   \n",
       "1  8477-Thunder-Mountain-Rd_Juneau_AK_99801_M9424...   sold   \n",
       "\n",
       "                     list_date open_houses  \\\n",
       "0  2023-06-29T21:16:25.000000Z        None   \n",
       "1                         None        None   \n",
       "\n",
       "                                            branding  list_price property_id  \\\n",
       "0  [{'name': 'EXP Realty LLC - Southeast Alaska',...    554950.0  9074430767   \n",
       "1  [{'name': None, 'photo': None, 'type': 'Office'}]         NaN  9424983842   \n",
       "\n",
       "                                              photos  ...  \\\n",
       "0  [{'tags': [{'label': 'house_view', 'probabilit...  ...   \n",
       "1                                               None  ...   \n",
       "\n",
       "  location.address.state_code     location.address.line  \\\n",
       "0                          AK           9453 Herbert Pl   \n",
       "1                          AK  8477 Thunder Mountain Rd   \n",
       "\n",
       "                            location.street_view_url  \\\n",
       "0  https://maps.googleapis.com/maps/api/streetvie...   \n",
       "1  https://maps.googleapis.com/maps/api/streetvie...   \n",
       "\n",
       "   location.county.fips_code  location.county.name primary_photo  source  \\\n",
       "0                       None                Juneau           NaN     NaN   \n",
       "1                       None                Juneau           NaN     NaN   \n",
       "\n",
       "  products  location.address.coordinate other_listings  \n",
       "0      NaN                          NaN            NaN  \n",
       "1      NaN                          NaN            NaN  \n",
       "\n",
       "[2 rows x 64 columns]"
      ]
     },
     "execution_count": 3053,
     "metadata": {},
     "output_type": "execute_result"
    }
   ],
   "source": [
    "# Testing the custom function `read_json` which takes a file path and returns a DataFrame\n",
    "read_json(test_dir).head(2) # Works!"
   ]
  },
  {
   "cell_type": "code",
   "execution_count": 3054,
   "metadata": {},
   "outputs": [
    {
     "name": "stdout",
     "output_type": "stream",
     "text": [
      "../data/PA_Harrisburg_0.json added to the list. 1/218 processed...\n",
      "../data/LA_BatonRouge_2.json added to the list. 2/218 processed...\n",
      "../data/MO_JeffersonCity_0.json added to the list. 3/218 processed...\n",
      "../data/TN_Nashville_2.json added to the list. 4/218 processed...\n",
      "../data/MD_Annapolis_4.json added to the list. 5/218 processed...\n",
      "../data/NM_SantaFe_3.json added to the list. 6/218 processed...\n",
      "../data/AZ_Phoenix_0.json added to the list. 7/218 processed...\n",
      "../data/KY_Frankfort_4.json added to the list. 8/218 processed...\n",
      "../data/CO_Denver_1.json added to the list. 9/218 processed...\n",
      "../data/FL_Tallahassee_3.json added to the list. 10/218 processed...\n",
      "../data/MI_Lansing_2.json added to the list. 11/218 processed...\n",
      "../data/AR_LittleRock_0.json added to the list. 12/218 processed...\n",
      "../data/GA_Atlanta_4.json added to the list. 13/218 processed...\n",
      "../data/IN_Indianapolis_0.json added to the list. 14/218 processed...\n",
      "../data/MN_St.Paul_4.json added to the list. 15/218 processed...\n",
      "../data/MA_Boston_1.json added to the list. 16/218 processed...\n",
      "../data/WI_Madison_1.json added to the list. 17/218 processed...\n",
      "../data/NE_Lincoln_4.json added to the list. 18/218 processed...\n",
      "../data/AL_Montgomery_4.json added to the list. 19/218 processed...\n",
      "../data/CA_Sacramento_1.json added to the list. 20/218 processed...\n",
      "../data/IA_DesMoines_1.json added to the list. 21/218 processed...\n",
      "../data/AK_Juneau_0.json added to the list. 22/218 processed...\n",
      "../data/OK_OklahomaCity_0.json added to the list. 23/218 processed...\n",
      "../data/NC_Raleigh_0.json added to the list. 24/218 processed...\n",
      "../data/NH_Concord_0.json added to the list. 25/218 processed...\n",
      "../data/DE_Dover_1.json added to the list. 26/218 processed...\n",
      "../data/MT_Helena_1.json added to the list. 27/218 processed...\n",
      "../data/MT_Helena_0.json added to the list. 28/218 processed...\n",
      "../data/RI_Providence_4.json added to the list. 29/218 processed...\n",
      "../data/NH_Concord_1.json added to the list. 30/218 processed...\n",
      "../data/CT_Hartford_4.json added to the list. 31/218 processed...\n",
      "../data/DE_Dover_0.json added to the list. 32/218 processed...\n",
      "../data/NC_Raleigh_1.json added to the list. 33/218 processed...\n",
      "../data/AK_Juneau_1.json added to the list. 34/218 processed...\n",
      "../data/OK_OklahomaCity_1.json added to the list. 35/218 processed...\n",
      "../data/IA_DesMoines_0.json added to the list. 36/218 processed...\n",
      "../data/NY_Albany_4.json added to the list. 37/218 processed...\n",
      "../data/CA_Sacramento_0.json added to the list. 38/218 processed...\n",
      "../data/WI_Madison_0.json added to the list. 39/218 processed...\n",
      "../data/MA_Boston_0.json added to the list. 40/218 processed...\n",
      "../data/IL_Springfield_4.json added to the list. 41/218 processed...\n",
      "../data/IN_Indianapolis_1.json added to the list. 42/218 processed...\n",
      "../data/AR_LittleRock_1.json added to the list. 43/218 processed...\n",
      "../data/CO_Denver_0.json added to the list. 44/218 processed...\n",
      "../data/FL_Tallahassee_2.json added to the list. 45/218 processed...\n",
      "../data/MI_Lansing_3.json added to the list. 46/218 processed...\n",
      "../data/WA_Olympia_4.json added to the list. 47/218 processed...\n",
      "../data/UT_SaltLakeCity_4.json added to the list. 48/218 processed...\n",
      "../data/AZ_Phoenix_1.json added to the list. 49/218 processed...\n",
      "../data/NM_SantaFe_2.json added to the list. 50/218 processed...\n",
      "../data/MO_JeffersonCity_1.json added to the list. 51/218 processed...\n",
      "../data/TN_Nashville_3.json added to the list. 52/218 processed...\n",
      "../data/LA_BatonRouge_3.json added to the list. 53/218 processed...\n",
      "../data/PA_Harrisburg_1.json added to the list. 54/218 processed...\n",
      "../data/IL_Springfield_3.json added to the list. 55/218 processed...\n",
      "../data/MN_St.Paul_2.json added to the list. 56/218 processed...\n",
      "../data/NE_Lincoln_2.json added to the list. 57/218 processed...\n",
      "../data/AL_Montgomery_2.json added to the list. 58/218 processed...\n",
      "../data/SC_Columbia_0.json added to the list. 59/218 processed...\n",
      "../data/NY_Albany_3.json added to the list. 60/218 processed...\n",
      "../data/WV_Charleston_1.json added to the list. 61/218 processed...\n",
      "../data/TX_Austin_0.json added to the list. 62/218 processed...\n",
      "../data/OH_Columbus_0.json added to the list. 63/218 processed...\n",
      "../data/CT_Hartford_3.json added to the list. 64/218 processed...\n",
      "../data/OR_Salem_0.json added to the list. 65/218 processed...\n",
      "../data/RI_Providence_3.json added to the list. 66/218 processed...\n",
      "../data/KS_Topeka_1.json added to the list. 67/218 processed...\n",
      "../data/LA_BatonRouge_4.json added to the list. 68/218 processed...\n",
      "../data/TN_Nashville_4.json added to the list. 69/218 processed...\n",
      "../data/MD_Annapolis_2.json added to the list. 70/218 processed...\n",
      "../data/NV_CarsonCity_1.json added to the list. 71/218 processed...\n",
      "../data/HI_Honolulu_1.json added to the list. 72/218 processed...\n",
      "../data/VA_Richmond_1.json added to the list. 73/218 processed...\n",
      "../data/ND_Bismarck_0.json added to the list. 74/218 processed...\n",
      "../data/KY_Frankfort_2.json added to the list. 75/218 processed...\n",
      "../data/UT_SaltLakeCity_3.json added to the list. 76/218 processed...\n",
      "../data/NJ_Trenton_1.json added to the list. 77/218 processed...\n",
      "../data/MI_Lansing_4.json added to the list. 78/218 processed...\n",
      "../data/WA_Olympia_3.json added to the list. 79/218 processed...\n",
      "../data/GA_Atlanta_2.json added to the list. 80/218 processed...\n",
      "../data/ID_Boise_0.json added to the list. 81/218 processed...\n",
      "../data/ID_Boise_1.json added to the list. 82/218 processed...\n",
      "../data/GA_Atlanta_3.json added to the list. 83/218 processed...\n",
      "../data/FL_Tallahassee_4.json added to the list. 84/218 processed...\n",
      "../data/WA_Olympia_2.json added to the list. 85/218 processed...\n",
      "../data/KY_Frankfort_3.json added to the list. 86/218 processed...\n",
      "../data/UT_SaltLakeCity_2.json added to the list. 87/218 processed...\n",
      "../data/NJ_Trenton_0.json added to the list. 88/218 processed...\n",
      "../data/VA_Richmond_0.json added to the list. 89/218 processed...\n",
      "../data/ND_Bismarck_1.json added to the list. 90/218 processed...\n",
      "../data/NM_SantaFe_4.json added to the list. 91/218 processed...\n",
      "../data/NV_CarsonCity_0.json added to the list. 92/218 processed...\n",
      "../data/HI_Honolulu_0.json added to the list. 93/218 processed...\n",
      "../data/MD_Annapolis_3.json added to the list. 94/218 processed...\n",
      "../data/KS_Topeka_0.json added to the list. 95/218 processed...\n",
      "../data/RI_Providence_2.json added to the list. 96/218 processed...\n",
      "../data/OH_Columbus_1.json added to the list. 97/218 processed...\n",
      "../data/CT_Hartford_2.json added to the list. 98/218 processed...\n",
      "../data/OR_Salem_1.json added to the list. 99/218 processed...\n",
      "../data/TX_Austin_1.json added to the list. 100/218 processed...\n",
      "../data/WV_Charleston_0.json added to the list. 101/218 processed...\n",
      "../data/NY_Albany_2.json added to the list. 102/218 processed...\n",
      "../data/SC_Columbia_1.json added to the list. 103/218 processed...\n",
      "../data/AL_Montgomery_3.json added to the list. 104/218 processed...\n",
      "../data/NE_Lincoln_3.json added to the list. 105/218 processed...\n",
      "../data/MN_St.Paul_3.json added to the list. 106/218 processed...\n",
      "../data/IL_Springfield_2.json added to the list. 107/218 processed...\n",
      "../data/RI_Providence_1.json added to the list. 108/218 processed...\n",
      "../data/OR_Salem_2.json added to the list. 109/218 processed...\n",
      "../data/CT_Hartford_1.json added to the list. 110/218 processed...\n",
      "../data/OH_Columbus_2.json added to the list. 111/218 processed...\n",
      "../data/NC_Raleigh_4.json added to the list. 112/218 processed...\n",
      "../data/TX_Austin_2.json added to the list. 113/218 processed...\n",
      "../data/OK_OklahomaCity_4.json added to the list. 114/218 processed...\n",
      "../data/AK_Juneau_4.json added to the list. 115/218 processed...\n",
      "../data/WV_Charleston_3.json added to the list. 116/218 processed...\n",
      "../data/NY_Albany_1.json added to the list. 117/218 processed...\n",
      "../data/SC_Columbia_2.json added to the list. 118/218 processed...\n",
      "../data/AL_Montgomery_0.json added to the list. 119/218 processed...\n",
      "../data/NE_Lincoln_0.json added to the list. 120/218 processed...\n",
      "../data/MN_St.Paul_0.json added to the list. 121/218 processed...\n",
      "../data/IL_Springfield_1.json added to the list. 122/218 processed...\n",
      "../data/IN_Indianapolis_4.json added to the list. 123/218 processed...\n",
      "../data/ID_Boise_2.json added to the list. 124/218 processed...\n",
      "../data/AR_LittleRock_4.json added to the list. 125/218 processed...\n",
      "../data/GA_Atlanta_0.json added to the list. 126/218 processed...\n",
      "../data/WA_Olympia_1.json added to the list. 127/218 processed...\n",
      "../data/NJ_Trenton_3.json added to the list. 128/218 processed...\n",
      "../data/UT_SaltLakeCity_1.json added to the list. 129/218 processed...\n",
      "../data/KY_Frankfort_0.json added to the list. 130/218 processed...\n",
      "../data/AZ_Phoenix_4.json added to the list. 131/218 processed...\n",
      "../data/VA_Richmond_3.json added to the list. 132/218 processed...\n",
      "../data/NV_CarsonCity_3.json added to the list. 133/218 processed...\n",
      "../data/MD_Annapolis_0.json added to the list. 134/218 processed...\n",
      "../data/MO_JeffersonCity_4.json added to the list. 135/218 processed...\n",
      "../data/PA_Harrisburg_4.json added to the list. 136/218 processed...\n",
      "../data/KS_Topeka_3.json added to the list. 137/218 processed...\n",
      "../data/KS_Topeka_2.json added to the list. 138/218 processed...\n",
      "../data/MD_Annapolis_1.json added to the list. 139/218 processed...\n",
      "../data/HI_Honolulu_2.json added to the list. 140/218 processed...\n",
      "../data/NV_CarsonCity_2.json added to the list. 141/218 processed...\n",
      "../data/VA_Richmond_2.json added to the list. 142/218 processed...\n",
      "../data/NJ_Trenton_2.json added to the list. 143/218 processed...\n",
      "../data/UT_SaltLakeCity_0.json added to the list. 144/218 processed...\n",
      "../data/KY_Frankfort_1.json added to the list. 145/218 processed...\n",
      "../data/WA_Olympia_0.json added to the list. 146/218 processed...\n",
      "../data/CO_Denver_4.json added to the list. 147/218 processed...\n",
      "../data/GA_Atlanta_1.json added to the list. 148/218 processed...\n",
      "../data/ID_Boise_3.json added to the list. 149/218 processed...\n",
      "../data/IL_Springfield_0.json added to the list. 150/218 processed...\n",
      "../data/MN_St.Paul_1.json added to the list. 151/218 processed...\n",
      "../data/MA_Boston_4.json added to the list. 152/218 processed...\n",
      "../data/WI_Madison_4.json added to the list. 153/218 processed...\n",
      "../data/NE_Lincoln_1.json added to the list. 154/218 processed...\n",
      "../data/AL_Montgomery_1.json added to the list. 155/218 processed...\n",
      "../data/SC_Columbia_3.json added to the list. 156/218 processed...\n",
      "../data/CA_Sacramento_4.json added to the list. 157/218 processed...\n",
      "../data/NY_Albany_0.json added to the list. 158/218 processed...\n",
      "../data/IA_DesMoines_4.json added to the list. 159/218 processed...\n",
      "../data/WV_Charleston_2.json added to the list. 160/218 processed...\n",
      "../data/TX_Austin_3.json added to the list. 161/218 processed...\n",
      "../data/OR_Salem_3.json added to the list. 162/218 processed...\n",
      "../data/CT_Hartford_0.json added to the list. 163/218 processed...\n",
      "../data/OH_Columbus_3.json added to the list. 164/218 processed...\n",
      "../data/DE_Dover_4.json added to the list. 165/218 processed...\n",
      "../data/RI_Providence_0.json added to the list. 166/218 processed...\n",
      "../data/MT_Helena_4.json added to the list. 167/218 processed...\n",
      "../data/IN_Indianapolis_2.json added to the list. 168/218 processed...\n",
      "../data/ID_Boise_4.json added to the list. 169/218 processed...\n",
      "../data/AR_LittleRock_2.json added to the list. 170/218 processed...\n",
      "../data/FL_Tallahassee_1.json added to the list. 171/218 processed...\n",
      "../data/MI_Lansing_0.json added to the list. 172/218 processed...\n",
      "../data/CO_Denver_3.json added to the list. 173/218 processed...\n",
      "../data/AZ_Phoenix_2.json added to the list. 174/218 processed...\n",
      "../data/NM_SantaFe_1.json added to the list. 175/218 processed...\n",
      "../data/TN_Nashville_0.json added to the list. 176/218 processed...\n",
      "../data/MO_JeffersonCity_2.json added to the list. 177/218 processed...\n",
      "../data/LA_BatonRouge_0.json added to the list. 178/218 processed...\n",
      "../data/PA_Harrisburg_2.json added to the list. 179/218 processed...\n",
      "../data/MT_Helena_3.json added to the list. 180/218 processed...\n",
      "../data/OR_Salem_4.json added to the list. 181/218 processed...\n",
      "../data/DE_Dover_3.json added to the list. 182/218 processed...\n",
      "../data/OH_Columbus_4.json added to the list. 183/218 processed...\n",
      "../data/NH_Concord_2.json added to the list. 184/218 processed...\n",
      "../data/NC_Raleigh_2.json added to the list. 185/218 processed...\n",
      "../data/TX_Austin_4.json added to the list. 186/218 processed...\n",
      "../data/AK_Juneau_2.json added to the list. 187/218 processed...\n",
      "../data/OK_OklahomaCity_2.json added to the list. 188/218 processed...\n",
      "../data/IA_DesMoines_3.json added to the list. 189/218 processed...\n",
      "../data/CA_Sacramento_3.json added to the list. 190/218 processed...\n",
      "../data/SC_Columbia_4.json added to the list. 191/218 processed...\n",
      "../data/WI_Madison_3.json added to the list. 192/218 processed...\n",
      "../data/MA_Boston_3.json added to the list. 193/218 processed...\n",
      "../data/MA_Boston_2.json added to the list. 194/218 processed...\n",
      "../data/WI_Madison_2.json added to the list. 195/218 processed...\n",
      "../data/CA_Sacramento_2.json added to the list. 196/218 processed...\n",
      "../data/IA_DesMoines_2.json added to the list. 197/218 processed...\n",
      "../data/WV_Charleston_4.json added to the list. 198/218 processed...\n",
      "../data/AK_Juneau_3.json added to the list. 199/218 processed...\n",
      "../data/OK_OklahomaCity_3.json added to the list. 200/218 processed...\n",
      "../data/NC_Raleigh_3.json added to the list. 201/218 processed...\n",
      "../data/DE_Dover_2.json added to the list. 202/218 processed...\n",
      "../data/MT_Helena_2.json added to the list. 203/218 processed...\n",
      "../data/KS_Topeka_4.json added to the list. 204/218 processed...\n",
      "../data/PA_Harrisburg_3.json added to the list. 205/218 processed...\n",
      "../data/LA_BatonRouge_1.json added to the list. 206/218 processed...\n",
      "../data/TN_Nashville_1.json added to the list. 207/218 processed...\n",
      "../data/MO_JeffersonCity_3.json added to the list. 208/218 processed...\n",
      "../data/NV_CarsonCity_4.json added to the list. 209/218 processed...\n",
      "../data/NM_SantaFe_0.json added to the list. 210/218 processed...\n",
      "../data/AZ_Phoenix_3.json added to the list. 211/218 processed...\n",
      "../data/VA_Richmond_4.json added to the list. 212/218 processed...\n",
      "../data/NJ_Trenton_4.json added to the list. 213/218 processed...\n",
      "../data/FL_Tallahassee_0.json added to the list. 214/218 processed...\n",
      "../data/MI_Lansing_1.json added to the list. 215/218 processed...\n",
      "../data/CO_Denver_2.json added to the list. 216/218 processed...\n",
      "../data/AR_LittleRock_3.json added to the list. 217/218 processed...\n",
      "../data/IN_Indianapolis_3.json added to the list. 218/218 processed...\n",
      "\n",
      "218 files loaded into the list of DataFrames.\n"
     ]
    }
   ],
   "source": [
    "# loop over all files and put them into a dataframe\n",
    "combine_all = []\n",
    "\n",
    "for path in overview['file_path']:\n",
    "  df = read_json(path)\n",
    "  combine_all.append(df)\n",
    "  print(f'{path} added to the list. {len(combine_all)}/{overview.shape[0]} processed...')\n",
    "\n",
    "print(f'\\n{len(combine_all)} files loaded into the list of DataFrames.')"
   ]
  },
  {
   "cell_type": "code",
   "execution_count": 3055,
   "metadata": {},
   "outputs": [
    {
     "name": "stderr",
     "output_type": "stream",
     "text": [
      "/var/folders/fw/lz_dq12943g7483s5hr18pmm0000gn/T/ipykernel_29284/3315332010.py:1: FutureWarning: The behavior of DataFrame concatenation with empty or all-NA entries is deprecated. In a future version, this will no longer exclude empty or all-NA columns when determining the result dtypes. To retain the old behavior, exclude the relevant entries before the concat operation.\n",
      "  housing_dataset = pd.concat(combine_all, ignore_index=True)\n"
     ]
    },
    {
     "data": {
      "text/plain": [
       "(8159, 67)"
      ]
     },
     "execution_count": 3055,
     "metadata": {},
     "output_type": "execute_result"
    }
   ],
   "source": [
    "housing_dataset = pd.concat(combine_all, ignore_index=True)\n",
    "\n",
    "housing_dataset.shape"
   ]
  },
  {
   "cell_type": "markdown",
   "metadata": {},
   "source": [
    "#### - Saving outputs..."
   ]
  },
  {
   "cell_type": "code",
   "execution_count": 3056,
   "metadata": {},
   "outputs": [],
   "source": [
    "output_path = '../outputs'\n",
    "\n",
    "# --- !!! Uncomment only when saving. Run once and put the # back. !!! --- #\n",
    "# housing_dataset.to_csv(os.path.join(output_path, 'housing_dataset.csv'), index=False)"
   ]
  },
  {
   "cell_type": "markdown",
   "metadata": {},
   "source": [
    "#### - Load"
   ]
  },
  {
   "cell_type": "code",
   "execution_count": 3057,
   "metadata": {},
   "outputs": [
    {
     "data": {
      "text/plain": [
       "(8159, 67)"
      ]
     },
     "execution_count": 3057,
     "metadata": {},
     "output_type": "execute_result"
    }
   ],
   "source": [
    "housing_df = pd.read_csv(os.path.join(output_path, 'housing_dataset.csv'))\n",
    "\n",
    "housing_df.shape"
   ]
  },
  {
   "cell_type": "markdown",
   "metadata": {},
   "source": [
    "## Data Cleaning and Wrangling"
   ]
  },
  {
   "cell_type": "markdown",
   "metadata": {},
   "source": [
    "At this point, ensure that you have all sales in a dataframe.\n",
    "- Take a quick look at your data (i.e. `.info()`, `.describe()`) - what do you see?\n",
    "- Is each cell one value, or do some cells have lists?\n",
    "- What are the data types of each column?\n",
    "- Some sales may not actually include the sale price (target).  These rows should be dropped.\n",
    "- There are a lot of NA/None values.  Should these be dropped or replaced with something?\n",
    "    - You can drop rows or use various methods to fills NA's - use your best judgement for each column \n",
    "    - i.e. for some columns (like Garage), NA probably just means no Garage, so 0\n",
    "- Drop columns that aren't needed\n",
    "    - Don't keep the list price because it will be too close to the sale price. Assume we want to predict the price of houses not yet listed"
   ]
  },
  {
   "cell_type": "markdown",
   "metadata": {},
   "source": [
    "#### - Quick look at the data and the values in them."
   ]
  },
  {
   "cell_type": "code",
   "execution_count": 3058,
   "metadata": {},
   "outputs": [],
   "source": [
    "data = housing_df.copy()"
   ]
  },
  {
   "cell_type": "code",
   "execution_count": 3059,
   "metadata": {},
   "outputs": [
    {
     "name": "stdout",
     "output_type": "stream",
     "text": [
      "<class 'pandas.core.frame.DataFrame'>\n",
      "RangeIndex: 8159 entries, 0 to 8158\n",
      "Data columns (total 67 columns):\n",
      " #   Column                                 Non-Null Count  Dtype  \n",
      "---  ------                                 --------------  -----  \n",
      " 0   last_update_date                       8125 non-null   object \n",
      " 1   tags                                   7638 non-null   object \n",
      " 2   permalink                              8159 non-null   object \n",
      " 3   status                                 8159 non-null   object \n",
      " 4   list_date                              7752 non-null   object \n",
      " 5   open_houses                            0 non-null      float64\n",
      " 6   branding                               8159 non-null   object \n",
      " 7   list_price                             7721 non-null   float64\n",
      " 8   property_id                            8159 non-null   int64  \n",
      " 9   photos                                 7403 non-null   object \n",
      " 10  community                              0 non-null      float64\n",
      " 11  virtual_tours                          1351 non-null   object \n",
      " 12  listing_id                             7752 non-null   float64\n",
      " 13  price_reduced_amount                   2484 non-null   float64\n",
      " 14  matterport                             8159 non-null   bool   \n",
      " 15  primary_photo.href                     7403 non-null   object \n",
      " 16  source.plan_id                         5 non-null      float64\n",
      " 17  source.agents                          7752 non-null   object \n",
      " 18  source.spec_id                         5 non-null      object \n",
      " 19  source.type                            7752 non-null   object \n",
      " 20  description.year_built                 7316 non-null   float64\n",
      " 21  description.baths_3qtr                 566 non-null    float64\n",
      " 22  description.sold_date                  8159 non-null   object \n",
      " 23  description.sold_price                 6716 non-null   float64\n",
      " 24  description.baths_full                 7311 non-null   float64\n",
      " 25  description.name                       0 non-null      float64\n",
      " 26  description.baths_half                 2281 non-null   float64\n",
      " 27  description.lot_sqft                   6991 non-null   float64\n",
      " 28  description.sqft                       7323 non-null   float64\n",
      " 29  description.baths                      7980 non-null   float64\n",
      " 30  description.sub_type                   1427 non-null   object \n",
      " 31  description.baths_1qtr                 0 non-null      float64\n",
      " 32  description.garage                     4448 non-null   float64\n",
      " 33  description.stories                    6260 non-null   float64\n",
      " 34  description.beds                       7504 non-null   float64\n",
      " 35  description.type                       8125 non-null   object \n",
      " 36  lead_attributes.show_contact_an_agent  8159 non-null   bool   \n",
      " 37  flags.is_new_construction              0 non-null      float64\n",
      " 38  flags.is_for_rent                      0 non-null      float64\n",
      " 39  flags.is_subdivision                   0 non-null      float64\n",
      " 40  flags.is_contingent                    0 non-null      float64\n",
      " 41  flags.is_price_reduced                 2484 non-null   object \n",
      " 42  flags.is_pending                       0 non-null      float64\n",
      " 43  flags.is_foreclosure                   42 non-null     object \n",
      " 44  flags.is_plan                          0 non-null      float64\n",
      " 45  flags.is_coming_soon                   0 non-null      float64\n",
      " 46  flags.is_new_listing                   7752 non-null   object \n",
      " 47  products.brand_name                    7673 non-null   object \n",
      " 48  other_listings.rdc                     7856 non-null   object \n",
      " 49  location.address.postal_code           8159 non-null   int64  \n",
      " 50  location.address.state                 8159 non-null   object \n",
      " 51  location.address.coordinate.lon        7909 non-null   float64\n",
      " 52  location.address.coordinate.lat        7909 non-null   float64\n",
      " 53  location.address.city                  8154 non-null   object \n",
      " 54  location.address.state_code            8159 non-null   object \n",
      " 55  location.address.line                  8144 non-null   object \n",
      " 56  location.street_view_url               8159 non-null   object \n",
      " 57  location.county.fips_code              7588 non-null   float64\n",
      " 58  location.county.name                   8149 non-null   object \n",
      " 59  primary_photo                          0 non-null      float64\n",
      " 60  source                                 0 non-null      float64\n",
      " 61  products                               0 non-null      float64\n",
      " 62  location.address.coordinate            0 non-null      float64\n",
      " 63  other_listings                         0 non-null      float64\n",
      " 64  community.advertisers                  5 non-null      object \n",
      " 65  community.description.name             5 non-null      object \n",
      " 66  location.county                        0 non-null      float64\n",
      "dtypes: bool(2), float64(35), int64(2), object(28)\n",
      "memory usage: 4.1+ MB\n"
     ]
    }
   ],
   "source": [
    "data.info()"
   ]
  },
  {
   "cell_type": "code",
   "execution_count": 3060,
   "metadata": {},
   "outputs": [
    {
     "data": {
      "text/html": [
       "<div>\n",
       "<style scoped>\n",
       "    .dataframe tbody tr th:only-of-type {\n",
       "        vertical-align: middle;\n",
       "    }\n",
       "\n",
       "    .dataframe tbody tr th {\n",
       "        vertical-align: top;\n",
       "    }\n",
       "\n",
       "    .dataframe thead th {\n",
       "        text-align: right;\n",
       "    }\n",
       "</style>\n",
       "<table border=\"1\" class=\"dataframe\">\n",
       "  <thead>\n",
       "    <tr style=\"text-align: right;\">\n",
       "      <th></th>\n",
       "      <th>open_houses</th>\n",
       "      <th>list_price</th>\n",
       "      <th>property_id</th>\n",
       "      <th>community</th>\n",
       "      <th>listing_id</th>\n",
       "      <th>price_reduced_amount</th>\n",
       "      <th>source.plan_id</th>\n",
       "      <th>description.year_built</th>\n",
       "      <th>description.baths_3qtr</th>\n",
       "      <th>description.sold_price</th>\n",
       "      <th>...</th>\n",
       "      <th>location.address.postal_code</th>\n",
       "      <th>location.address.coordinate.lon</th>\n",
       "      <th>location.address.coordinate.lat</th>\n",
       "      <th>location.county.fips_code</th>\n",
       "      <th>primary_photo</th>\n",
       "      <th>source</th>\n",
       "      <th>products</th>\n",
       "      <th>location.address.coordinate</th>\n",
       "      <th>other_listings</th>\n",
       "      <th>location.county</th>\n",
       "    </tr>\n",
       "  </thead>\n",
       "  <tbody>\n",
       "    <tr>\n",
       "      <th>count</th>\n",
       "      <td>0.0</td>\n",
       "      <td>7.721000e+03</td>\n",
       "      <td>8.159000e+03</td>\n",
       "      <td>0.0</td>\n",
       "      <td>7.752000e+03</td>\n",
       "      <td>2.484000e+03</td>\n",
       "      <td>5.000000e+00</td>\n",
       "      <td>7316.000000</td>\n",
       "      <td>566.000000</td>\n",
       "      <td>6.716000e+03</td>\n",
       "      <td>...</td>\n",
       "      <td>8159.000000</td>\n",
       "      <td>7909.000000</td>\n",
       "      <td>7909.000000</td>\n",
       "      <td>7588.000000</td>\n",
       "      <td>0.0</td>\n",
       "      <td>0.0</td>\n",
       "      <td>0.0</td>\n",
       "      <td>0.0</td>\n",
       "      <td>0.0</td>\n",
       "      <td>0.0</td>\n",
       "    </tr>\n",
       "    <tr>\n",
       "      <th>mean</th>\n",
       "      <td>NaN</td>\n",
       "      <td>4.341582e+05</td>\n",
       "      <td>5.755508e+09</td>\n",
       "      <td>NaN</td>\n",
       "      <td>2.957819e+09</td>\n",
       "      <td>2.442704e+04</td>\n",
       "      <td>4.170007e+11</td>\n",
       "      <td>1968.916074</td>\n",
       "      <td>1.247350</td>\n",
       "      <td>4.126050e+05</td>\n",
       "      <td>...</td>\n",
       "      <td>50946.997181</td>\n",
       "      <td>-92.206522</td>\n",
       "      <td>39.009689</td>\n",
       "      <td>28000.253295</td>\n",
       "      <td>NaN</td>\n",
       "      <td>NaN</td>\n",
       "      <td>NaN</td>\n",
       "      <td>NaN</td>\n",
       "      <td>NaN</td>\n",
       "      <td>NaN</td>\n",
       "    </tr>\n",
       "    <tr>\n",
       "      <th>std</th>\n",
       "      <td>NaN</td>\n",
       "      <td>5.514925e+05</td>\n",
       "      <td>2.687366e+09</td>\n",
       "      <td>NaN</td>\n",
       "      <td>7.541620e+07</td>\n",
       "      <td>7.162396e+04</td>\n",
       "      <td>0.000000e+00</td>\n",
       "      <td>35.096914</td>\n",
       "      <td>0.463482</td>\n",
       "      <td>6.994308e+05</td>\n",
       "      <td>...</td>\n",
       "      <td>29257.110670</td>\n",
       "      <td>15.888886</td>\n",
       "      <td>4.374553</td>\n",
       "      <td>15586.751739</td>\n",
       "      <td>NaN</td>\n",
       "      <td>NaN</td>\n",
       "      <td>NaN</td>\n",
       "      <td>NaN</td>\n",
       "      <td>NaN</td>\n",
       "      <td>NaN</td>\n",
       "    </tr>\n",
       "    <tr>\n",
       "      <th>min</th>\n",
       "      <td>NaN</td>\n",
       "      <td>1.000000e+00</td>\n",
       "      <td>1.003443e+09</td>\n",
       "      <td>NaN</td>\n",
       "      <td>6.052327e+08</td>\n",
       "      <td>1.000000e+02</td>\n",
       "      <td>4.170007e+11</td>\n",
       "      <td>1828.000000</td>\n",
       "      <td>1.000000</td>\n",
       "      <td>3.080000e+02</td>\n",
       "      <td>...</td>\n",
       "      <td>2111.000000</td>\n",
       "      <td>-157.810583</td>\n",
       "      <td>21.277707</td>\n",
       "      <td>1101.000000</td>\n",
       "      <td>NaN</td>\n",
       "      <td>NaN</td>\n",
       "      <td>NaN</td>\n",
       "      <td>NaN</td>\n",
       "      <td>NaN</td>\n",
       "      <td>NaN</td>\n",
       "    </tr>\n",
       "    <tr>\n",
       "      <th>25%</th>\n",
       "      <td>NaN</td>\n",
       "      <td>2.090000e+05</td>\n",
       "      <td>3.307743e+09</td>\n",
       "      <td>NaN</td>\n",
       "      <td>2.959499e+09</td>\n",
       "      <td>6.000000e+03</td>\n",
       "      <td>4.170007e+11</td>\n",
       "      <td>1950.000000</td>\n",
       "      <td>1.000000</td>\n",
       "      <td>1.910000e+05</td>\n",
       "      <td>...</td>\n",
       "      <td>25314.000000</td>\n",
       "      <td>-104.971611</td>\n",
       "      <td>35.688084</td>\n",
       "      <td>16001.000000</td>\n",
       "      <td>NaN</td>\n",
       "      <td>NaN</td>\n",
       "      <td>NaN</td>\n",
       "      <td>NaN</td>\n",
       "      <td>NaN</td>\n",
       "      <td>NaN</td>\n",
       "    </tr>\n",
       "    <tr>\n",
       "      <th>50%</th>\n",
       "      <td>NaN</td>\n",
       "      <td>3.250000e+05</td>\n",
       "      <td>6.000993e+09</td>\n",
       "      <td>NaN</td>\n",
       "      <td>2.960836e+09</td>\n",
       "      <td>1.010000e+04</td>\n",
       "      <td>4.170007e+11</td>\n",
       "      <td>1975.000000</td>\n",
       "      <td>1.000000</td>\n",
       "      <td>3.140000e+05</td>\n",
       "      <td>...</td>\n",
       "      <td>50310.000000</td>\n",
       "      <td>-89.333131</td>\n",
       "      <td>39.698210</td>\n",
       "      <td>27123.000000</td>\n",
       "      <td>NaN</td>\n",
       "      <td>NaN</td>\n",
       "      <td>NaN</td>\n",
       "      <td>NaN</td>\n",
       "      <td>NaN</td>\n",
       "      <td>NaN</td>\n",
       "    </tr>\n",
       "    <tr>\n",
       "      <th>75%</th>\n",
       "      <td>NaN</td>\n",
       "      <td>4.999000e+05</td>\n",
       "      <td>8.169927e+09</td>\n",
       "      <td>NaN</td>\n",
       "      <td>2.961805e+09</td>\n",
       "      <td>2.000000e+04</td>\n",
       "      <td>4.170007e+11</td>\n",
       "      <td>1997.000000</td>\n",
       "      <td>1.000000</td>\n",
       "      <td>4.700000e+05</td>\n",
       "      <td>...</td>\n",
       "      <td>78739.000000</td>\n",
       "      <td>-78.617690</td>\n",
       "      <td>41.832266</td>\n",
       "      <td>41047.000000</td>\n",
       "      <td>NaN</td>\n",
       "      <td>NaN</td>\n",
       "      <td>NaN</td>\n",
       "      <td>NaN</td>\n",
       "      <td>NaN</td>\n",
       "      <td>NaN</td>\n",
       "    </tr>\n",
       "    <tr>\n",
       "      <th>max</th>\n",
       "      <td>NaN</td>\n",
       "      <td>1.250000e+07</td>\n",
       "      <td>9.993679e+09</td>\n",
       "      <td>NaN</td>\n",
       "      <td>2.963230e+09</td>\n",
       "      <td>2.015999e+06</td>\n",
       "      <td>4.170007e+11</td>\n",
       "      <td>2024.000000</td>\n",
       "      <td>3.000000</td>\n",
       "      <td>2.706500e+07</td>\n",
       "      <td>...</td>\n",
       "      <td>99801.000000</td>\n",
       "      <td>-71.006343</td>\n",
       "      <td>58.396178</td>\n",
       "      <td>55025.000000</td>\n",
       "      <td>NaN</td>\n",
       "      <td>NaN</td>\n",
       "      <td>NaN</td>\n",
       "      <td>NaN</td>\n",
       "      <td>NaN</td>\n",
       "      <td>NaN</td>\n",
       "    </tr>\n",
       "  </tbody>\n",
       "</table>\n",
       "<p>8 rows × 37 columns</p>\n",
       "</div>"
      ],
      "text/plain": [
       "       open_houses    list_price   property_id  community    listing_id  \\\n",
       "count          0.0  7.721000e+03  8.159000e+03        0.0  7.752000e+03   \n",
       "mean           NaN  4.341582e+05  5.755508e+09        NaN  2.957819e+09   \n",
       "std            NaN  5.514925e+05  2.687366e+09        NaN  7.541620e+07   \n",
       "min            NaN  1.000000e+00  1.003443e+09        NaN  6.052327e+08   \n",
       "25%            NaN  2.090000e+05  3.307743e+09        NaN  2.959499e+09   \n",
       "50%            NaN  3.250000e+05  6.000993e+09        NaN  2.960836e+09   \n",
       "75%            NaN  4.999000e+05  8.169927e+09        NaN  2.961805e+09   \n",
       "max            NaN  1.250000e+07  9.993679e+09        NaN  2.963230e+09   \n",
       "\n",
       "       price_reduced_amount  source.plan_id  description.year_built  \\\n",
       "count          2.484000e+03    5.000000e+00             7316.000000   \n",
       "mean           2.442704e+04    4.170007e+11             1968.916074   \n",
       "std            7.162396e+04    0.000000e+00               35.096914   \n",
       "min            1.000000e+02    4.170007e+11             1828.000000   \n",
       "25%            6.000000e+03    4.170007e+11             1950.000000   \n",
       "50%            1.010000e+04    4.170007e+11             1975.000000   \n",
       "75%            2.000000e+04    4.170007e+11             1997.000000   \n",
       "max            2.015999e+06    4.170007e+11             2024.000000   \n",
       "\n",
       "       description.baths_3qtr  description.sold_price  ...  \\\n",
       "count              566.000000            6.716000e+03  ...   \n",
       "mean                 1.247350            4.126050e+05  ...   \n",
       "std                  0.463482            6.994308e+05  ...   \n",
       "min                  1.000000            3.080000e+02  ...   \n",
       "25%                  1.000000            1.910000e+05  ...   \n",
       "50%                  1.000000            3.140000e+05  ...   \n",
       "75%                  1.000000            4.700000e+05  ...   \n",
       "max                  3.000000            2.706500e+07  ...   \n",
       "\n",
       "       location.address.postal_code  location.address.coordinate.lon  \\\n",
       "count                   8159.000000                      7909.000000   \n",
       "mean                   50946.997181                       -92.206522   \n",
       "std                    29257.110670                        15.888886   \n",
       "min                     2111.000000                      -157.810583   \n",
       "25%                    25314.000000                      -104.971611   \n",
       "50%                    50310.000000                       -89.333131   \n",
       "75%                    78739.000000                       -78.617690   \n",
       "max                    99801.000000                       -71.006343   \n",
       "\n",
       "       location.address.coordinate.lat  location.county.fips_code  \\\n",
       "count                      7909.000000                7588.000000   \n",
       "mean                         39.009689               28000.253295   \n",
       "std                           4.374553               15586.751739   \n",
       "min                          21.277707                1101.000000   \n",
       "25%                          35.688084               16001.000000   \n",
       "50%                          39.698210               27123.000000   \n",
       "75%                          41.832266               41047.000000   \n",
       "max                          58.396178               55025.000000   \n",
       "\n",
       "       primary_photo  source  products  location.address.coordinate  \\\n",
       "count            0.0     0.0       0.0                          0.0   \n",
       "mean             NaN     NaN       NaN                          NaN   \n",
       "std              NaN     NaN       NaN                          NaN   \n",
       "min              NaN     NaN       NaN                          NaN   \n",
       "25%              NaN     NaN       NaN                          NaN   \n",
       "50%              NaN     NaN       NaN                          NaN   \n",
       "75%              NaN     NaN       NaN                          NaN   \n",
       "max              NaN     NaN       NaN                          NaN   \n",
       "\n",
       "       other_listings  location.county  \n",
       "count             0.0              0.0  \n",
       "mean              NaN              NaN  \n",
       "std               NaN              NaN  \n",
       "min               NaN              NaN  \n",
       "25%               NaN              NaN  \n",
       "50%               NaN              NaN  \n",
       "75%               NaN              NaN  \n",
       "max               NaN              NaN  \n",
       "\n",
       "[8 rows x 37 columns]"
      ]
     },
     "execution_count": 3060,
     "metadata": {},
     "output_type": "execute_result"
    }
   ],
   "source": [
    "data.describe()"
   ]
  },
  {
   "cell_type": "code",
   "execution_count": 3061,
   "metadata": {},
   "outputs": [
    {
     "data": {
      "text/html": [
       "<div>\n",
       "<style scoped>\n",
       "    .dataframe tbody tr th:only-of-type {\n",
       "        vertical-align: middle;\n",
       "    }\n",
       "\n",
       "    .dataframe tbody tr th {\n",
       "        vertical-align: top;\n",
       "    }\n",
       "\n",
       "    .dataframe thead th {\n",
       "        text-align: right;\n",
       "    }\n",
       "</style>\n",
       "<table border=\"1\" class=\"dataframe\">\n",
       "  <thead>\n",
       "    <tr style=\"text-align: right;\">\n",
       "      <th></th>\n",
       "      <th>nulls_count</th>\n",
       "      <th>col_name</th>\n",
       "      <th>col_dtype</th>\n",
       "      <th>nunique</th>\n",
       "      <th>unique</th>\n",
       "      <th>col_data_1</th>\n",
       "      <th>col_data_2</th>\n",
       "    </tr>\n",
       "  </thead>\n",
       "  <tbody>\n",
       "    <tr>\n",
       "      <th>66</th>\n",
       "      <td>8159</td>\n",
       "      <td>location.county</td>\n",
       "      <td>float64</td>\n",
       "      <td>0</td>\n",
       "      <td>[nan]</td>\n",
       "      <td>[nan, nan, nan, nan, nan]</td>\n",
       "      <td>[nan, nan, nan, nan, nan]</td>\n",
       "    </tr>\n",
       "    <tr>\n",
       "      <th>10</th>\n",
       "      <td>8159</td>\n",
       "      <td>community</td>\n",
       "      <td>float64</td>\n",
       "      <td>0</td>\n",
       "      <td>[nan]</td>\n",
       "      <td>[nan, nan, nan, nan, nan]</td>\n",
       "      <td>[nan, nan, nan, nan, nan]</td>\n",
       "    </tr>\n",
       "    <tr>\n",
       "      <th>25</th>\n",
       "      <td>8159</td>\n",
       "      <td>description.name</td>\n",
       "      <td>float64</td>\n",
       "      <td>0</td>\n",
       "      <td>[nan]</td>\n",
       "      <td>[nan, nan, nan, nan, nan]</td>\n",
       "      <td>[nan, nan, nan, nan, nan]</td>\n",
       "    </tr>\n",
       "    <tr>\n",
       "      <th>37</th>\n",
       "      <td>8159</td>\n",
       "      <td>flags.is_new_construction</td>\n",
       "      <td>float64</td>\n",
       "      <td>0</td>\n",
       "      <td>[nan]</td>\n",
       "      <td>[nan, nan, nan, nan, nan]</td>\n",
       "      <td>[nan, nan, nan, nan, nan]</td>\n",
       "    </tr>\n",
       "    <tr>\n",
       "      <th>38</th>\n",
       "      <td>8159</td>\n",
       "      <td>flags.is_for_rent</td>\n",
       "      <td>float64</td>\n",
       "      <td>0</td>\n",
       "      <td>[nan]</td>\n",
       "      <td>[nan, nan, nan, nan, nan]</td>\n",
       "      <td>[nan, nan, nan, nan, nan]</td>\n",
       "    </tr>\n",
       "  </tbody>\n",
       "</table>\n",
       "</div>"
      ],
      "text/plain": [
       "    nulls_count                   col_name col_dtype  nunique unique  \\\n",
       "66         8159            location.county   float64        0  [nan]   \n",
       "10         8159                  community   float64        0  [nan]   \n",
       "25         8159           description.name   float64        0  [nan]   \n",
       "37         8159  flags.is_new_construction   float64        0  [nan]   \n",
       "38         8159          flags.is_for_rent   float64        0  [nan]   \n",
       "\n",
       "                   col_data_1                 col_data_2  \n",
       "66  [nan, nan, nan, nan, nan]  [nan, nan, nan, nan, nan]  \n",
       "10  [nan, nan, nan, nan, nan]  [nan, nan, nan, nan, nan]  \n",
       "25  [nan, nan, nan, nan, nan]  [nan, nan, nan, nan, nan]  \n",
       "37  [nan, nan, nan, nan, nan]  [nan, nan, nan, nan, nan]  \n",
       "38  [nan, nan, nan, nan, nan]  [nan, nan, nan, nan, nan]  "
      ]
     },
     "execution_count": 3061,
     "metadata": {},
     "output_type": "execute_result"
    }
   ],
   "source": [
    "# Quick look at the columns and the data in it -- Using a custom function, it sorts the df by the number of unique values in each column as well. \n",
    "columns_overview = cols_overview(data)\n",
    "\n",
    "columns_overview.head()"
   ]
  },
  {
   "cell_type": "markdown",
   "metadata": {},
   "source": [
    "#### Dealing with Nulls"
   ]
  },
  {
   "cell_type": "markdown",
   "metadata": {},
   "source": [
    "##### - 8159 Nulls : (17 Empty columns)"
   ]
  },
  {
   "cell_type": "code",
   "execution_count": 3062,
   "metadata": {},
   "outputs": [
    {
     "data": {
      "text/html": [
       "<div>\n",
       "<style scoped>\n",
       "    .dataframe tbody tr th:only-of-type {\n",
       "        vertical-align: middle;\n",
       "    }\n",
       "\n",
       "    .dataframe tbody tr th {\n",
       "        vertical-align: top;\n",
       "    }\n",
       "\n",
       "    .dataframe thead th {\n",
       "        text-align: right;\n",
       "    }\n",
       "</style>\n",
       "<table border=\"1\" class=\"dataframe\">\n",
       "  <thead>\n",
       "    <tr style=\"text-align: right;\">\n",
       "      <th></th>\n",
       "      <th>nulls_count</th>\n",
       "      <th>col_name</th>\n",
       "      <th>col_dtype</th>\n",
       "      <th>nunique</th>\n",
       "      <th>unique</th>\n",
       "      <th>col_data_1</th>\n",
       "      <th>col_data_2</th>\n",
       "    </tr>\n",
       "  </thead>\n",
       "  <tbody>\n",
       "    <tr>\n",
       "      <th>66</th>\n",
       "      <td>8159</td>\n",
       "      <td>location.county</td>\n",
       "      <td>float64</td>\n",
       "      <td>0</td>\n",
       "      <td>[nan]</td>\n",
       "      <td>[nan, nan, nan, nan, nan]</td>\n",
       "      <td>[nan, nan, nan, nan, nan]</td>\n",
       "    </tr>\n",
       "    <tr>\n",
       "      <th>10</th>\n",
       "      <td>8159</td>\n",
       "      <td>community</td>\n",
       "      <td>float64</td>\n",
       "      <td>0</td>\n",
       "      <td>[nan]</td>\n",
       "      <td>[nan, nan, nan, nan, nan]</td>\n",
       "      <td>[nan, nan, nan, nan, nan]</td>\n",
       "    </tr>\n",
       "    <tr>\n",
       "      <th>25</th>\n",
       "      <td>8159</td>\n",
       "      <td>description.name</td>\n",
       "      <td>float64</td>\n",
       "      <td>0</td>\n",
       "      <td>[nan]</td>\n",
       "      <td>[nan, nan, nan, nan, nan]</td>\n",
       "      <td>[nan, nan, nan, nan, nan]</td>\n",
       "    </tr>\n",
       "    <tr>\n",
       "      <th>37</th>\n",
       "      <td>8159</td>\n",
       "      <td>flags.is_new_construction</td>\n",
       "      <td>float64</td>\n",
       "      <td>0</td>\n",
       "      <td>[nan]</td>\n",
       "      <td>[nan, nan, nan, nan, nan]</td>\n",
       "      <td>[nan, nan, nan, nan, nan]</td>\n",
       "    </tr>\n",
       "    <tr>\n",
       "      <th>38</th>\n",
       "      <td>8159</td>\n",
       "      <td>flags.is_for_rent</td>\n",
       "      <td>float64</td>\n",
       "      <td>0</td>\n",
       "      <td>[nan]</td>\n",
       "      <td>[nan, nan, nan, nan, nan]</td>\n",
       "      <td>[nan, nan, nan, nan, nan]</td>\n",
       "    </tr>\n",
       "  </tbody>\n",
       "</table>\n",
       "</div>"
      ],
      "text/plain": [
       "    nulls_count                   col_name col_dtype  nunique unique  \\\n",
       "66         8159            location.county   float64        0  [nan]   \n",
       "10         8159                  community   float64        0  [nan]   \n",
       "25         8159           description.name   float64        0  [nan]   \n",
       "37         8159  flags.is_new_construction   float64        0  [nan]   \n",
       "38         8159          flags.is_for_rent   float64        0  [nan]   \n",
       "\n",
       "                   col_data_1                 col_data_2  \n",
       "66  [nan, nan, nan, nan, nan]  [nan, nan, nan, nan, nan]  \n",
       "10  [nan, nan, nan, nan, nan]  [nan, nan, nan, nan, nan]  \n",
       "25  [nan, nan, nan, nan, nan]  [nan, nan, nan, nan, nan]  \n",
       "37  [nan, nan, nan, nan, nan]  [nan, nan, nan, nan, nan]  \n",
       "38  [nan, nan, nan, nan, nan]  [nan, nan, nan, nan, nan]  "
      ]
     },
     "execution_count": 3062,
     "metadata": {},
     "output_type": "execute_result"
    }
   ],
   "source": [
    "empties = columns_overview[columns_overview['nulls_count'] == data.shape[0]]\n",
    "\n",
    "empties.head()"
   ]
  },
  {
   "cell_type": "code",
   "execution_count": 3063,
   "metadata": {},
   "outputs": [
    {
     "data": {
      "text/plain": [
       "(17,\n",
       " ['location.county',\n",
       "  'community',\n",
       "  'description.name',\n",
       "  'flags.is_new_construction',\n",
       "  'flags.is_for_rent',\n",
       "  'flags.is_subdivision',\n",
       "  'flags.is_contingent',\n",
       "  'flags.is_pending',\n",
       "  'flags.is_coming_soon',\n",
       "  'flags.is_plan',\n",
       "  'primary_photo',\n",
       "  'products',\n",
       "  'other_listings',\n",
       "  'open_houses',\n",
       "  'location.address.coordinate',\n",
       "  'description.baths_1qtr',\n",
       "  'source'])"
      ]
     },
     "execution_count": 3063,
     "metadata": {},
     "output_type": "execute_result"
    }
   ],
   "source": [
    "is_empty = [i for i in empties['col_name']]\n",
    "\n",
    "len(is_empty), is_empty"
   ]
  },
  {
   "cell_type": "code",
   "execution_count": 3064,
   "metadata": {},
   "outputs": [
    {
     "data": {
      "text/plain": [
       "50"
      ]
     },
     "execution_count": 3064,
     "metadata": {},
     "output_type": "execute_result"
    }
   ],
   "source": [
    "# Drop the columns that are empty\n",
    "data.drop(columns=is_empty, inplace=True)\n",
    "\n",
    "data.shape[1] # From 67"
   ]
  },
  {
   "cell_type": "code",
   "execution_count": 3065,
   "metadata": {},
   "outputs": [
    {
     "data": {
      "text/plain": [
       "(50, 7)"
      ]
     },
     "execution_count": 3065,
     "metadata": {},
     "output_type": "execute_result"
    }
   ],
   "source": [
    "# Drop removed columns from columns_overview\n",
    "columns_overview.drop(index=empties.index, inplace=True)\n",
    "\n",
    "columns_overview.shape"
   ]
  },
  {
   "cell_type": "code",
   "execution_count": 3066,
   "metadata": {},
   "outputs": [
    {
     "data": {
      "text/plain": [
       "(50, 7)"
      ]
     },
     "execution_count": 3066,
     "metadata": {},
     "output_type": "execute_result"
    }
   ],
   "source": [
    "# Base\n",
    "columns_overview.shape"
   ]
  },
  {
   "cell_type": "code",
   "execution_count": 3067,
   "metadata": {},
   "outputs": [
    {
     "data": {
      "text/html": [
       "<div>\n",
       "<style scoped>\n",
       "    .dataframe tbody tr th:only-of-type {\n",
       "        vertical-align: middle;\n",
       "    }\n",
       "\n",
       "    .dataframe tbody tr th {\n",
       "        vertical-align: top;\n",
       "    }\n",
       "\n",
       "    .dataframe thead th {\n",
       "        text-align: right;\n",
       "    }\n",
       "</style>\n",
       "<table border=\"1\" class=\"dataframe\">\n",
       "  <thead>\n",
       "    <tr style=\"text-align: right;\">\n",
       "      <th></th>\n",
       "      <th>nulls_count</th>\n",
       "      <th>col_name</th>\n",
       "      <th>col_dtype</th>\n",
       "      <th>nunique</th>\n",
       "      <th>unique</th>\n",
       "      <th>col_data_1</th>\n",
       "      <th>col_data_2</th>\n",
       "    </tr>\n",
       "  </thead>\n",
       "  <tbody>\n",
       "    <tr>\n",
       "      <th>49</th>\n",
       "      <td>8154</td>\n",
       "      <td>community.description.name</td>\n",
       "      <td>object</td>\n",
       "      <td>1</td>\n",
       "      <td>[nan, Woods of Copper Creek]</td>\n",
       "      <td>[nan, nan, nan, nan, nan]</td>\n",
       "      <td>[nan, nan, nan, nan, nan]</td>\n",
       "    </tr>\n",
       "    <tr>\n",
       "      <th>14</th>\n",
       "      <td>8154</td>\n",
       "      <td>source.plan_id</td>\n",
       "      <td>float64</td>\n",
       "      <td>1</td>\n",
       "      <td>[nan, 417000743767.0]</td>\n",
       "      <td>[nan, nan, nan, nan, nan]</td>\n",
       "      <td>[nan, nan, nan, nan, nan]</td>\n",
       "    </tr>\n",
       "    <tr>\n",
       "      <th>16</th>\n",
       "      <td>8154</td>\n",
       "      <td>source.spec_id</td>\n",
       "      <td>object</td>\n",
       "      <td>1</td>\n",
       "      <td>[nan, 365-36546-365750000-0016]</td>\n",
       "      <td>[nan, nan, nan, nan, nan]</td>\n",
       "      <td>[nan, nan, nan, nan, nan]</td>\n",
       "    </tr>\n",
       "    <tr>\n",
       "      <th>48</th>\n",
       "      <td>8154</td>\n",
       "      <td>community.advertisers</td>\n",
       "      <td>object</td>\n",
       "      <td>1</td>\n",
       "      <td>[nan, [{'office': {'hours': 'Monday - Saturday...</td>\n",
       "      <td>[nan, nan, nan, nan, nan]</td>\n",
       "      <td>[nan, nan, nan, nan, nan]</td>\n",
       "    </tr>\n",
       "    <tr>\n",
       "      <th>34</th>\n",
       "      <td>8117</td>\n",
       "      <td>flags.is_foreclosure</td>\n",
       "      <td>object</td>\n",
       "      <td>1</td>\n",
       "      <td>[nan, True]</td>\n",
       "      <td>[nan, nan, nan, nan, nan]</td>\n",
       "      <td>[nan, nan, nan, nan, nan]</td>\n",
       "    </tr>\n",
       "  </tbody>\n",
       "</table>\n",
       "</div>"
      ],
      "text/plain": [
       "    nulls_count                    col_name col_dtype  nunique  \\\n",
       "49         8154  community.description.name    object        1   \n",
       "14         8154              source.plan_id   float64        1   \n",
       "16         8154              source.spec_id    object        1   \n",
       "48         8154       community.advertisers    object        1   \n",
       "34         8117        flags.is_foreclosure    object        1   \n",
       "\n",
       "                                               unique  \\\n",
       "49                       [nan, Woods of Copper Creek]   \n",
       "14                              [nan, 417000743767.0]   \n",
       "16                    [nan, 365-36546-365750000-0016]   \n",
       "48  [nan, [{'office': {'hours': 'Monday - Saturday...   \n",
       "34                                        [nan, True]   \n",
       "\n",
       "                   col_data_1                 col_data_2  \n",
       "49  [nan, nan, nan, nan, nan]  [nan, nan, nan, nan, nan]  \n",
       "14  [nan, nan, nan, nan, nan]  [nan, nan, nan, nan, nan]  \n",
       "16  [nan, nan, nan, nan, nan]  [nan, nan, nan, nan, nan]  \n",
       "48  [nan, nan, nan, nan, nan]  [nan, nan, nan, nan, nan]  \n",
       "34  [nan, nan, nan, nan, nan]  [nan, nan, nan, nan, nan]  "
      ]
     },
     "execution_count": 3067,
     "metadata": {},
     "output_type": "execute_result"
    }
   ],
   "source": [
    "# Re-run the cols_overview function\n",
    "columns_overview = cols_overview(data)\n",
    "\n",
    "columns_overview.head()"
   ]
  },
  {
   "cell_type": "markdown",
   "metadata": {},
   "source": [
    "##### - 8154 Nulls : `['community.description.name', 'source.plan_id', 'source.spec_id', 'community.advertisers']`"
   ]
  },
  {
   "cell_type": "code",
   "execution_count": 3068,
   "metadata": {},
   "outputs": [
    {
     "data": {
      "text/plain": [
       "['community.description.name',\n",
       " 'source.plan_id',\n",
       " 'source.spec_id',\n",
       " 'community.advertisers']"
      ]
     },
     "execution_count": 3068,
     "metadata": {},
     "output_type": "execute_result"
    }
   ],
   "source": [
    "remove = columns_overview[columns_overview['nulls_count'] == 8154]['col_name'] # Get the columns with 8154 nulls\n",
    "\n",
    "remove_cols = [i for i in remove]\n",
    "remove_cols"
   ]
  },
  {
   "cell_type": "code",
   "execution_count": 3069,
   "metadata": {},
   "outputs": [
    {
     "data": {
      "text/plain": [
       "46"
      ]
     },
     "execution_count": 3069,
     "metadata": {},
     "output_type": "execute_result"
    }
   ],
   "source": [
    "data.drop(columns=remove_cols, inplace=True)\n",
    "\n",
    "data.shape[1] # From 50"
   ]
  },
  {
   "cell_type": "code",
   "execution_count": 3070,
   "metadata": {},
   "outputs": [
    {
     "data": {
      "text/html": [
       "<div>\n",
       "<style scoped>\n",
       "    .dataframe tbody tr th:only-of-type {\n",
       "        vertical-align: middle;\n",
       "    }\n",
       "\n",
       "    .dataframe tbody tr th {\n",
       "        vertical-align: top;\n",
       "    }\n",
       "\n",
       "    .dataframe thead th {\n",
       "        text-align: right;\n",
       "    }\n",
       "</style>\n",
       "<table border=\"1\" class=\"dataframe\">\n",
       "  <thead>\n",
       "    <tr style=\"text-align: right;\">\n",
       "      <th></th>\n",
       "      <th>nulls_count</th>\n",
       "      <th>col_name</th>\n",
       "      <th>col_dtype</th>\n",
       "      <th>nunique</th>\n",
       "      <th>unique</th>\n",
       "      <th>col_data_1</th>\n",
       "      <th>col_data_2</th>\n",
       "    </tr>\n",
       "  </thead>\n",
       "  <tbody>\n",
       "    <tr>\n",
       "      <th>32</th>\n",
       "      <td>8117</td>\n",
       "      <td>flags.is_foreclosure</td>\n",
       "      <td>object</td>\n",
       "      <td>1</td>\n",
       "      <td>[nan, True]</td>\n",
       "      <td>[nan, nan, nan, nan, nan]</td>\n",
       "      <td>[nan, nan, nan, nan, nan]</td>\n",
       "    </tr>\n",
       "    <tr>\n",
       "      <th>17</th>\n",
       "      <td>7593</td>\n",
       "      <td>description.baths_3qtr</td>\n",
       "      <td>float64</td>\n",
       "      <td>3</td>\n",
       "      <td>[nan, 2.0, 1.0, 3.0]</td>\n",
       "      <td>[nan, nan, nan, nan, nan]</td>\n",
       "      <td>[nan, nan, nan, nan, nan]</td>\n",
       "    </tr>\n",
       "    <tr>\n",
       "      <th>9</th>\n",
       "      <td>6808</td>\n",
       "      <td>virtual_tours</td>\n",
       "      <td>object</td>\n",
       "      <td>290</td>\n",
       "      <td>[nan, [{'type': None, 'href': 'https://youtube...</td>\n",
       "      <td>[nan, nan, nan, nan, nan]</td>\n",
       "      <td>[nan, nan, nan, nan, nan]</td>\n",
       "    </tr>\n",
       "    <tr>\n",
       "      <th>25</th>\n",
       "      <td>6732</td>\n",
       "      <td>description.sub_type</td>\n",
       "      <td>object</td>\n",
       "      <td>2</td>\n",
       "      <td>[nan, condo, townhouse]</td>\n",
       "      <td>[nan, nan, nan, nan, nan]</td>\n",
       "      <td>[nan, nan, nan, nan, nan]</td>\n",
       "    </tr>\n",
       "    <tr>\n",
       "      <th>21</th>\n",
       "      <td>5878</td>\n",
       "      <td>description.baths_half</td>\n",
       "      <td>float64</td>\n",
       "      <td>5</td>\n",
       "      <td>[nan, 1.0, 2.0, 3.0, 4.0, 5.0]</td>\n",
       "      <td>[nan, nan, nan, nan, nan]</td>\n",
       "      <td>[nan, nan, nan, nan, nan]</td>\n",
       "    </tr>\n",
       "  </tbody>\n",
       "</table>\n",
       "</div>"
      ],
      "text/plain": [
       "    nulls_count                col_name col_dtype  nunique  \\\n",
       "32         8117    flags.is_foreclosure    object        1   \n",
       "17         7593  description.baths_3qtr   float64        3   \n",
       "9          6808           virtual_tours    object      290   \n",
       "25         6732    description.sub_type    object        2   \n",
       "21         5878  description.baths_half   float64        5   \n",
       "\n",
       "                                               unique  \\\n",
       "32                                        [nan, True]   \n",
       "17                               [nan, 2.0, 1.0, 3.0]   \n",
       "9   [nan, [{'type': None, 'href': 'https://youtube...   \n",
       "25                            [nan, condo, townhouse]   \n",
       "21                     [nan, 1.0, 2.0, 3.0, 4.0, 5.0]   \n",
       "\n",
       "                   col_data_1                 col_data_2  \n",
       "32  [nan, nan, nan, nan, nan]  [nan, nan, nan, nan, nan]  \n",
       "17  [nan, nan, nan, nan, nan]  [nan, nan, nan, nan, nan]  \n",
       "9   [nan, nan, nan, nan, nan]  [nan, nan, nan, nan, nan]  \n",
       "25  [nan, nan, nan, nan, nan]  [nan, nan, nan, nan, nan]  \n",
       "21  [nan, nan, nan, nan, nan]  [nan, nan, nan, nan, nan]  "
      ]
     },
     "execution_count": 3070,
     "metadata": {},
     "output_type": "execute_result"
    }
   ],
   "source": [
    "# Re-run the cols_overview function\n",
    "columns_overview = cols_overview(data)\n",
    "\n",
    "columns_overview.head()"
   ]
  },
  {
   "cell_type": "markdown",
   "metadata": {},
   "source": [
    "##### - 8117 Nulls : `'flags.is_foreclosure'`"
   ]
  },
  {
   "cell_type": "code",
   "execution_count": 3071,
   "metadata": {},
   "outputs": [
    {
     "name": "stderr",
     "output_type": "stream",
     "text": [
      "/var/folders/fw/lz_dq12943g7483s5hr18pmm0000gn/T/ipykernel_29284/318830356.py:2: FutureWarning: Downcasting behavior in `replace` is deprecated and will be removed in a future version. To retain the old behavior, explicitly call `result.infer_objects(copy=False)`. To opt-in to the future behavior, set `pd.set_option('future.no_silent_downcasting', True)`\n",
      "  data['flags.is_foreclosure'] = data['flags.is_foreclosure'].fillna(0).replace({True: 1})\n"
     ]
    },
    {
     "data": {
      "text/plain": [
       "array([0, 1])"
      ]
     },
     "execution_count": 3071,
     "metadata": {},
     "output_type": "execute_result"
    }
   ],
   "source": [
    "# The flags.is_foreclosure may be useful. It may have effect with the house price. Replacing the Nan values with 0 and 1.\n",
    "data['flags.is_foreclosure'] = data['flags.is_foreclosure'].fillna(0).replace({True: 1})\n",
    "\n",
    "data['flags.is_foreclosure'].unique()"
   ]
  },
  {
   "cell_type": "markdown",
   "metadata": {},
   "source": [
    "##### - 6808 Nulls : `'virtual_tours'`"
   ]
  },
  {
   "cell_type": "code",
   "execution_count": 3072,
   "metadata": {},
   "outputs": [
    {
     "data": {
      "text/plain": [
       "array([0, 1])"
      ]
     },
     "execution_count": 3072,
     "metadata": {},
     "output_type": "execute_result"
    }
   ],
   "source": [
    "# Replacing the NaN values with 0, and non-nulls with 1.\n",
    "data['virtual_tours'] = data['virtual_tours'].notnull().astype(int)\n",
    "\n",
    "data['virtual_tours'].unique() # We don't really need the values, just the presence of a virtual tour (True/False|0/1) which may have some effect on the price if the owner decided to pay more to have one."
   ]
  },
  {
   "cell_type": "markdown",
   "metadata": {},
   "source": [
    "##### - 7593 Nulls : `'description.baths_3qtr'`"
   ]
  },
  {
   "cell_type": "code",
   "execution_count": 3073,
   "metadata": {},
   "outputs": [
    {
     "data": {
      "text/plain": [
       "array([0., 2., 1., 3.])"
      ]
     },
     "execution_count": 3073,
     "metadata": {},
     "output_type": "execute_result"
    }
   ],
   "source": [
    "# Replacing the NaN values with 0\n",
    "data['description.baths_3qtr'] = data['description.baths_3qtr'].fillna(0.)\n",
    "\n",
    "data['description.baths_3qtr'].unique()"
   ]
  },
  {
   "cell_type": "markdown",
   "metadata": {},
   "source": [
    "##### - 6732 Nulls : `'description.sub_type'`"
   ]
  },
  {
   "cell_type": "code",
   "execution_count": 3074,
   "metadata": {},
   "outputs": [
    {
     "data": {
      "text/plain": [
       "array(['No sub_type', 'condo', 'townhouse'], dtype=object)"
      ]
     },
     "execution_count": 3074,
     "metadata": {},
     "output_type": "execute_result"
    }
   ],
   "source": [
    "# Calling a property a 'Condo' usually means they're charging more. Replacing Nan with 'No sub_type'\n",
    "data['description.sub_type'] = data['description.sub_type'].fillna('No sub_type')\n",
    "\n",
    "data['description.sub_type'].unique()"
   ]
  },
  {
   "cell_type": "markdown",
   "metadata": {},
   "source": [
    "##### - 5878 Nulls : `'description.baths_half'`"
   ]
  },
  {
   "cell_type": "code",
   "execution_count": 3075,
   "metadata": {},
   "outputs": [
    {
     "data": {
      "text/plain": [
       "array([0., 1., 2., 3., 4., 5.])"
      ]
     },
     "execution_count": 3075,
     "metadata": {},
     "output_type": "execute_result"
    }
   ],
   "source": [
    "# It's possible to have 0 half baths. Replacing the NaN values with 0\n",
    "data['description.baths_half'] = data['description.baths_half'].fillna(0.)\n",
    "\n",
    "data['description.baths_half'].unique()"
   ]
  },
  {
   "cell_type": "markdown",
   "metadata": {},
   "source": [
    "##### - 5675 Nulls : `['flags.is_price_reduced', 'price_reduced_amount']`"
   ]
  },
  {
   "cell_type": "code",
   "execution_count": 3076,
   "metadata": {},
   "outputs": [
    {
     "data": {
      "text/plain": [
       "(2484, 2)"
      ]
     },
     "execution_count": 3076,
     "metadata": {},
     "output_type": "execute_result"
    }
   ],
   "source": [
    "# These columns appear to be related.\n",
    "compare = data[~data[['flags.is_price_reduced', 'price_reduced_amount']].isnull().all(axis=1)]\n",
    "\n",
    "compare[['flags.is_price_reduced', 'price_reduced_amount']].shape"
   ]
  },
  {
   "cell_type": "code",
   "execution_count": 3077,
   "metadata": {},
   "outputs": [
    {
     "data": {
      "text/plain": [
       "True"
      ]
     },
     "execution_count": 3077,
     "metadata": {},
     "output_type": "execute_result"
    }
   ],
   "source": [
    "5675 + 2484 == 8159 # All the nulls are in the same rows. Replacing the NaN values with 0 on 'price_reduced_amount' and False on 'flags.is_price_reduced'"
   ]
  },
  {
   "cell_type": "code",
   "execution_count": 3078,
   "metadata": {},
   "outputs": [
    {
     "name": "stderr",
     "output_type": "stream",
     "text": [
      "/var/folders/fw/lz_dq12943g7483s5hr18pmm0000gn/T/ipykernel_29284/4089715487.py:5: FutureWarning: Downcasting object dtype arrays on .fillna, .ffill, .bfill is deprecated and will change in a future version. Call result.infer_objects(copy=False) instead. To opt-in to the future behavior, set `pd.set_option('future.no_silent_downcasting', True)`\n",
      "  data['flags.is_price_reduced'] = data['flags.is_price_reduced'].fillna(False)\n"
     ]
    }
   ],
   "source": [
    "# Replacing the NaN values with 0\n",
    "data['price_reduced_amount'] = data['price_reduced_amount'].fillna(0.)\n",
    "\n",
    "# Replacing the NaN values with False\n",
    "data['flags.is_price_reduced'] = data['flags.is_price_reduced'].fillna(False)"
   ]
  },
  {
   "cell_type": "code",
   "execution_count": 3079,
   "metadata": {},
   "outputs": [
    {
     "data": {
      "text/html": [
       "<div>\n",
       "<style scoped>\n",
       "    .dataframe tbody tr th:only-of-type {\n",
       "        vertical-align: middle;\n",
       "    }\n",
       "\n",
       "    .dataframe tbody tr th {\n",
       "        vertical-align: top;\n",
       "    }\n",
       "\n",
       "    .dataframe thead th {\n",
       "        text-align: right;\n",
       "    }\n",
       "</style>\n",
       "<table border=\"1\" class=\"dataframe\">\n",
       "  <thead>\n",
       "    <tr style=\"text-align: right;\">\n",
       "      <th></th>\n",
       "      <th>nulls_count</th>\n",
       "      <th>col_name</th>\n",
       "      <th>col_dtype</th>\n",
       "      <th>nunique</th>\n",
       "      <th>unique</th>\n",
       "      <th>col_data_1</th>\n",
       "      <th>col_data_2</th>\n",
       "    </tr>\n",
       "  </thead>\n",
       "  <tbody>\n",
       "    <tr>\n",
       "      <th>26</th>\n",
       "      <td>3711</td>\n",
       "      <td>description.garage</td>\n",
       "      <td>float64</td>\n",
       "      <td>9</td>\n",
       "      <td>[1.0, nan, 2.0, 3.0, 4.0, 6.0, 5.0, 9.0, 8.0, ...</td>\n",
       "      <td>[1.0, nan, nan, nan, nan]</td>\n",
       "      <td>[1.0, nan, nan, nan, nan]</td>\n",
       "    </tr>\n",
       "    <tr>\n",
       "      <th>27</th>\n",
       "      <td>1899</td>\n",
       "      <td>description.stories</td>\n",
       "      <td>float64</td>\n",
       "      <td>7</td>\n",
       "      <td>[nan, 1.0, 2.0, 3.0, 10.0, 6.0, 8.0, 4.0]</td>\n",
       "      <td>[nan, nan, nan, nan, nan]</td>\n",
       "      <td>[2.0, nan, nan, nan, nan]</td>\n",
       "    </tr>\n",
       "    <tr>\n",
       "      <th>19</th>\n",
       "      <td>1443</td>\n",
       "      <td>description.sold_price</td>\n",
       "      <td>float64</td>\n",
       "      <td>738</td>\n",
       "      <td>[nan, 129900.0, 88500.0, 145000.0, 65000.0, 16...</td>\n",
       "      <td>[nan, nan, nan, nan, nan]</td>\n",
       "      <td>[99000.0, 29700.0, 162250.0, 63800.0, 115500.0]</td>\n",
       "    </tr>\n",
       "    <tr>\n",
       "      <th>22</th>\n",
       "      <td>1168</td>\n",
       "      <td>description.lot_sqft</td>\n",
       "      <td>float64</td>\n",
       "      <td>743</td>\n",
       "      <td>[10454.0, nan, 5875.0, 7476.0, 11761.0, 6534.0...</td>\n",
       "      <td>[10454.0, nan, nan, nan, nan]</td>\n",
       "      <td>[4792.0, 7841.0, 65340.0, nan, 52272.0]</td>\n",
       "    </tr>\n",
       "    <tr>\n",
       "      <th>20</th>\n",
       "      <td>848</td>\n",
       "      <td>description.baths_full</td>\n",
       "      <td>float64</td>\n",
       "      <td>8</td>\n",
       "      <td>[2.0, nan, 1.0, 3.0, 4.0, 5.0, 6.0, 7.0, 8.0]</td>\n",
       "      <td>[2.0, nan, nan, nan, nan]</td>\n",
       "      <td>[1.0, 1.0, 1.0, nan, 2.0]</td>\n",
       "    </tr>\n",
       "  </tbody>\n",
       "</table>\n",
       "</div>"
      ],
      "text/plain": [
       "    nulls_count                col_name col_dtype  nunique  \\\n",
       "26         3711      description.garage   float64        9   \n",
       "27         1899     description.stories   float64        7   \n",
       "19         1443  description.sold_price   float64      738   \n",
       "22         1168    description.lot_sqft   float64      743   \n",
       "20          848  description.baths_full   float64        8   \n",
       "\n",
       "                                               unique  \\\n",
       "26  [1.0, nan, 2.0, 3.0, 4.0, 6.0, 5.0, 9.0, 8.0, ...   \n",
       "27          [nan, 1.0, 2.0, 3.0, 10.0, 6.0, 8.0, 4.0]   \n",
       "19  [nan, 129900.0, 88500.0, 145000.0, 65000.0, 16...   \n",
       "22  [10454.0, nan, 5875.0, 7476.0, 11761.0, 6534.0...   \n",
       "20      [2.0, nan, 1.0, 3.0, 4.0, 5.0, 6.0, 7.0, 8.0]   \n",
       "\n",
       "                       col_data_1  \\\n",
       "26      [1.0, nan, nan, nan, nan]   \n",
       "27      [nan, nan, nan, nan, nan]   \n",
       "19      [nan, nan, nan, nan, nan]   \n",
       "22  [10454.0, nan, nan, nan, nan]   \n",
       "20      [2.0, nan, nan, nan, nan]   \n",
       "\n",
       "                                         col_data_2  \n",
       "26                        [1.0, nan, nan, nan, nan]  \n",
       "27                        [2.0, nan, nan, nan, nan]  \n",
       "19  [99000.0, 29700.0, 162250.0, 63800.0, 115500.0]  \n",
       "22          [4792.0, 7841.0, 65340.0, nan, 52272.0]  \n",
       "20                        [1.0, 1.0, 1.0, nan, 2.0]  "
      ]
     },
     "execution_count": 3079,
     "metadata": {},
     "output_type": "execute_result"
    }
   ],
   "source": [
    "# Re-run the cols_overview function\n",
    "columns_overview = cols_overview(data)\n",
    "\n",
    "columns_overview.head()"
   ]
  },
  {
   "cell_type": "markdown",
   "metadata": {},
   "source": [
    "##### - 3711 Nulls : `'description.garage'`"
   ]
  },
  {
   "cell_type": "code",
   "execution_count": 3080,
   "metadata": {},
   "outputs": [],
   "source": [
    "# # We can assume Nan means no garage. Replacing the NaN values with 0\n",
    "data['description.garage'] = data['description.garage'].fillna(0.)"
   ]
  },
  {
   "cell_type": "markdown",
   "metadata": {},
   "source": [
    "##### - 1899 Nulls : `'description.stories'` -- *Look again*"
   ]
  },
  {
   "cell_type": "code",
   "execution_count": 3081,
   "metadata": {},
   "outputs": [],
   "source": [
    "# 1899 nulls\n",
    "# 1.0 can be a good guess for the NaN values... unsure..."
   ]
  },
  {
   "cell_type": "markdown",
   "metadata": {},
   "source": [
    "##### - 1443 Nulls : `'description.sold_price'` -- *Look again*"
   ]
  },
  {
   "cell_type": "code",
   "execution_count": 3082,
   "metadata": {},
   "outputs": [],
   "source": [
    "# 1443 nulls\n",
    "# Can't guess/assume anything yet... will leave it as is for now."
   ]
  },
  {
   "cell_type": "markdown",
   "metadata": {},
   "source": [
    "##### - 1168 Nulls : `'description.lot_sqft'` -- *Look again*"
   ]
  },
  {
   "cell_type": "code",
   "execution_count": 3083,
   "metadata": {},
   "outputs": [],
   "source": [
    "# 1168 nulls\n",
    "# We can't just replace with 0, may need further investigation."
   ]
  },
  {
   "cell_type": "markdown",
   "metadata": {},
   "source": [
    "##### - 848 Nulls : `'description.baths_full'`"
   ]
  },
  {
   "cell_type": "code",
   "execution_count": 3084,
   "metadata": {},
   "outputs": [],
   "source": [
    "# Replacing the NaN values with 0\n",
    "data['description.baths_full'] = data['description.baths_full'].fillna(0.)"
   ]
  },
  {
   "cell_type": "code",
   "execution_count": 3085,
   "metadata": {},
   "outputs": [
    {
     "data": {
      "text/html": [
       "<div>\n",
       "<style scoped>\n",
       "    .dataframe tbody tr th:only-of-type {\n",
       "        vertical-align: middle;\n",
       "    }\n",
       "\n",
       "    .dataframe tbody tr th {\n",
       "        vertical-align: top;\n",
       "    }\n",
       "\n",
       "    .dataframe thead th {\n",
       "        text-align: right;\n",
       "    }\n",
       "</style>\n",
       "<table border=\"1\" class=\"dataframe\">\n",
       "  <thead>\n",
       "    <tr style=\"text-align: right;\">\n",
       "      <th></th>\n",
       "      <th>nulls_count</th>\n",
       "      <th>col_name</th>\n",
       "      <th>col_dtype</th>\n",
       "      <th>nunique</th>\n",
       "      <th>unique</th>\n",
       "      <th>col_data_1</th>\n",
       "      <th>col_data_2</th>\n",
       "    </tr>\n",
       "  </thead>\n",
       "  <tbody>\n",
       "    <tr>\n",
       "      <th>27</th>\n",
       "      <td>1899</td>\n",
       "      <td>description.stories</td>\n",
       "      <td>float64</td>\n",
       "      <td>7</td>\n",
       "      <td>[nan, 1.0, 2.0, 3.0, 10.0, 6.0, 8.0, 4.0]</td>\n",
       "      <td>[nan, nan, nan, nan, nan]</td>\n",
       "      <td>[2.0, nan, nan, nan, nan]</td>\n",
       "    </tr>\n",
       "    <tr>\n",
       "      <th>19</th>\n",
       "      <td>1443</td>\n",
       "      <td>description.sold_price</td>\n",
       "      <td>float64</td>\n",
       "      <td>738</td>\n",
       "      <td>[nan, 129900.0, 88500.0, 145000.0, 65000.0, 16...</td>\n",
       "      <td>[nan, nan, nan, nan, nan]</td>\n",
       "      <td>[99000.0, 29700.0, 162250.0, 63800.0, 115500.0]</td>\n",
       "    </tr>\n",
       "    <tr>\n",
       "      <th>22</th>\n",
       "      <td>1168</td>\n",
       "      <td>description.lot_sqft</td>\n",
       "      <td>float64</td>\n",
       "      <td>743</td>\n",
       "      <td>[10454.0, nan, 5875.0, 7476.0, 11761.0, 6534.0...</td>\n",
       "      <td>[10454.0, nan, nan, nan, nan]</td>\n",
       "      <td>[4792.0, 7841.0, 65340.0, nan, 52272.0]</td>\n",
       "    </tr>\n",
       "    <tr>\n",
       "      <th>16</th>\n",
       "      <td>843</td>\n",
       "      <td>description.year_built</td>\n",
       "      <td>float64</td>\n",
       "      <td>147</td>\n",
       "      <td>[1963.0, nan, 1969.0, 1920.0, 2002.0, 1998.0, ...</td>\n",
       "      <td>[1963.0, nan, nan, nan, nan]</td>\n",
       "      <td>[1910.0, nan, nan, nan, 1950.0]</td>\n",
       "    </tr>\n",
       "    <tr>\n",
       "      <th>23</th>\n",
       "      <td>836</td>\n",
       "      <td>description.sqft</td>\n",
       "      <td>float64</td>\n",
       "      <td>1119</td>\n",
       "      <td>[1821.0, nan, 950.0, 3860.0, 1375.0, 1478.0, 1...</td>\n",
       "      <td>[1821.0, nan, nan, nan, nan]</td>\n",
       "      <td>[1214.0, 988.0, 1470.0, nan, 3858.0]</td>\n",
       "    </tr>\n",
       "    <tr>\n",
       "      <th>13</th>\n",
       "      <td>756</td>\n",
       "      <td>primary_photo.href</td>\n",
       "      <td>object</td>\n",
       "      <td>1627</td>\n",
       "      <td>[https://ap.rdcpix.com/07097d34c98a59ebb799688...</td>\n",
       "      <td>[https://ap.rdcpix.com/07097d34c98a59ebb799688...</td>\n",
       "      <td>[https://ap.rdcpix.com/b02cba9b2211b1157e67775...</td>\n",
       "    </tr>\n",
       "    <tr>\n",
       "      <th>8</th>\n",
       "      <td>756</td>\n",
       "      <td>photos</td>\n",
       "      <td>object</td>\n",
       "      <td>1627</td>\n",
       "      <td>[[{'tags': [{'label': 'house_view', 'probabili...</td>\n",
       "      <td>[[{'tags': [{'label': 'house_view', 'probabili...</td>\n",
       "      <td>[[{'tags': [{'label': 'house_view', 'probabili...</td>\n",
       "    </tr>\n",
       "    <tr>\n",
       "      <th>28</th>\n",
       "      <td>655</td>\n",
       "      <td>description.beds</td>\n",
       "      <td>float64</td>\n",
       "      <td>13</td>\n",
       "      <td>[3.0, nan, 2.0, 5.0, 4.0, 1.0, 6.0, 12.0, 7.0,...</td>\n",
       "      <td>[3.0, nan, nan, nan, nan]</td>\n",
       "      <td>[3.0, 3.0, 3.0, 0.0, 3.0]</td>\n",
       "    </tr>\n",
       "    <tr>\n",
       "      <th>44</th>\n",
       "      <td>571</td>\n",
       "      <td>location.county.fips_code</td>\n",
       "      <td>float64</td>\n",
       "      <td>65</td>\n",
       "      <td>[nan, 1101.0, 5119.0, 5125.0, 4013.0, 6067.0, ...</td>\n",
       "      <td>[nan, nan, nan, nan, nan]</td>\n",
       "      <td>[54039.0, 54039.0, 54039.0, 54039.0, 54039.0]</td>\n",
       "    </tr>\n",
       "    <tr>\n",
       "      <th>1</th>\n",
       "      <td>521</td>\n",
       "      <td>tags</td>\n",
       "      <td>object</td>\n",
       "      <td>1628</td>\n",
       "      <td>[['carport', 'community_outdoor_space', 'cul_d...</td>\n",
       "      <td>[['carport', 'community_outdoor_space', 'cul_d...</td>\n",
       "      <td>[['central_air', 'forced_air', 'basement', 'tw...</td>\n",
       "    </tr>\n",
       "  </tbody>\n",
       "</table>\n",
       "</div>"
      ],
      "text/plain": [
       "    nulls_count                   col_name col_dtype  nunique  \\\n",
       "27         1899        description.stories   float64        7   \n",
       "19         1443     description.sold_price   float64      738   \n",
       "22         1168       description.lot_sqft   float64      743   \n",
       "16          843     description.year_built   float64      147   \n",
       "23          836           description.sqft   float64     1119   \n",
       "13          756         primary_photo.href    object     1627   \n",
       "8           756                     photos    object     1627   \n",
       "28          655           description.beds   float64       13   \n",
       "44          571  location.county.fips_code   float64       65   \n",
       "1           521                       tags    object     1628   \n",
       "\n",
       "                                               unique  \\\n",
       "27          [nan, 1.0, 2.0, 3.0, 10.0, 6.0, 8.0, 4.0]   \n",
       "19  [nan, 129900.0, 88500.0, 145000.0, 65000.0, 16...   \n",
       "22  [10454.0, nan, 5875.0, 7476.0, 11761.0, 6534.0...   \n",
       "16  [1963.0, nan, 1969.0, 1920.0, 2002.0, 1998.0, ...   \n",
       "23  [1821.0, nan, 950.0, 3860.0, 1375.0, 1478.0, 1...   \n",
       "13  [https://ap.rdcpix.com/07097d34c98a59ebb799688...   \n",
       "8   [[{'tags': [{'label': 'house_view', 'probabili...   \n",
       "28  [3.0, nan, 2.0, 5.0, 4.0, 1.0, 6.0, 12.0, 7.0,...   \n",
       "44  [nan, 1101.0, 5119.0, 5125.0, 4013.0, 6067.0, ...   \n",
       "1   [['carport', 'community_outdoor_space', 'cul_d...   \n",
       "\n",
       "                                           col_data_1  \\\n",
       "27                          [nan, nan, nan, nan, nan]   \n",
       "19                          [nan, nan, nan, nan, nan]   \n",
       "22                      [10454.0, nan, nan, nan, nan]   \n",
       "16                       [1963.0, nan, nan, nan, nan]   \n",
       "23                       [1821.0, nan, nan, nan, nan]   \n",
       "13  [https://ap.rdcpix.com/07097d34c98a59ebb799688...   \n",
       "8   [[{'tags': [{'label': 'house_view', 'probabili...   \n",
       "28                          [3.0, nan, nan, nan, nan]   \n",
       "44                          [nan, nan, nan, nan, nan]   \n",
       "1   [['carport', 'community_outdoor_space', 'cul_d...   \n",
       "\n",
       "                                           col_data_2  \n",
       "27                          [2.0, nan, nan, nan, nan]  \n",
       "19    [99000.0, 29700.0, 162250.0, 63800.0, 115500.0]  \n",
       "22            [4792.0, 7841.0, 65340.0, nan, 52272.0]  \n",
       "16                    [1910.0, nan, nan, nan, 1950.0]  \n",
       "23               [1214.0, 988.0, 1470.0, nan, 3858.0]  \n",
       "13  [https://ap.rdcpix.com/b02cba9b2211b1157e67775...  \n",
       "8   [[{'tags': [{'label': 'house_view', 'probabili...  \n",
       "28                          [3.0, 3.0, 3.0, 0.0, 3.0]  \n",
       "44      [54039.0, 54039.0, 54039.0, 54039.0, 54039.0]  \n",
       "1   [['central_air', 'forced_air', 'basement', 'tw...  "
      ]
     },
     "execution_count": 3085,
     "metadata": {},
     "output_type": "execute_result"
    }
   ],
   "source": [
    "# Re-run the cols_overview function\n",
    "columns_overview = cols_overview(data)\n",
    "\n",
    "columns_overview.head(10)"
   ]
  },
  {
   "cell_type": "markdown",
   "metadata": {},
   "source": [
    "##### - 843 Nulls : `'description.year_built'` -- *Look again*"
   ]
  },
  {
   "cell_type": "code",
   "execution_count": 3086,
   "metadata": {},
   "outputs": [],
   "source": [
    "# Needs further investigation"
   ]
  },
  {
   "cell_type": "markdown",
   "metadata": {},
   "source": [
    "##### - 836 Nulls : `'description.sqft'` -- *Look again*"
   ]
  },
  {
   "cell_type": "code",
   "execution_count": 3087,
   "metadata": {},
   "outputs": [],
   "source": [
    "# Needs further investigation"
   ]
  },
  {
   "cell_type": "markdown",
   "metadata": {},
   "source": [
    "##### - 756 Nulls : `['primary_photo.href', 'photos']`"
   ]
  },
  {
   "cell_type": "code",
   "execution_count": 3088,
   "metadata": {},
   "outputs": [
    {
     "data": {
      "text/plain": [
       "(7403, 2)"
      ]
     },
     "execution_count": 3088,
     "metadata": {},
     "output_type": "execute_result"
    }
   ],
   "source": [
    "# 756 nulls\n",
    "# These columns appear to be related.\n",
    "compare = data[~data[['primary_photo.href', 'photos']].isnull().all(axis=1)]\n",
    "\n",
    "compare[['primary_photo.href', 'photos']].shape"
   ]
  },
  {
   "cell_type": "code",
   "execution_count": 3089,
   "metadata": {},
   "outputs": [
    {
     "data": {
      "text/plain": [
       "True"
      ]
     },
     "execution_count": 3089,
     "metadata": {},
     "output_type": "execute_result"
    }
   ],
   "source": [
    "756 + 7403 == 8159 # All the nulls are in the same rows. Creating a new column 'has_photos' which will be 0 or 1, and then dropping both columns."
   ]
  },
  {
   "cell_type": "code",
   "execution_count": 3090,
   "metadata": {},
   "outputs": [
    {
     "data": {
      "text/plain": [
       "array([1, 0])"
      ]
     },
     "execution_count": 3090,
     "metadata": {},
     "output_type": "execute_result"
    }
   ],
   "source": [
    "data['has_photos'] = data['photos'].notnull().astype(int)\n",
    "\n",
    "data['has_photos'].unique()"
   ]
  },
  {
   "cell_type": "code",
   "execution_count": 3091,
   "metadata": {},
   "outputs": [],
   "source": [
    "data.drop(columns=['primary_photo.href', 'photos'], inplace=True)"
   ]
  },
  {
   "cell_type": "markdown",
   "metadata": {},
   "source": [
    "##### - 655 Nulls : `'description.beds'` -- *Look again*"
   ]
  },
  {
   "cell_type": "code",
   "execution_count": 3092,
   "metadata": {},
   "outputs": [],
   "source": [
    "# Needs further investigation"
   ]
  },
  {
   "cell_type": "markdown",
   "metadata": {},
   "source": [
    "##### - 571 Nulls : `'location.county.fips_code'` -- *Look again*"
   ]
  },
  {
   "cell_type": "code",
   "execution_count": 3093,
   "metadata": {},
   "outputs": [],
   "source": [
    "# Needs further investigation"
   ]
  },
  {
   "cell_type": "markdown",
   "metadata": {},
   "source": [
    "##### - 521 Nulls : `'tags'`"
   ]
  },
  {
   "cell_type": "code",
   "execution_count": 3094,
   "metadata": {},
   "outputs": [],
   "source": [
    "def replace_nan_with_list(value):\n",
    "    if pd.isna(value):  \n",
    "        return []  \n",
    "    return value \n",
    "\n",
    "data[\"tags\"] = data[\"tags\"].apply(replace_nan_with_list)\n"
   ]
  },
  {
   "cell_type": "markdown",
   "metadata": {},
   "source": [
    "##### - 486 Nulls : `'products.brand_name'` -- *Look again*"
   ]
  },
  {
   "cell_type": "code",
   "execution_count": 3095,
   "metadata": {},
   "outputs": [],
   "source": [
    "# Needs further investigation\n",
    "# May be connected to source.agents"
   ]
  },
  {
   "cell_type": "markdown",
   "metadata": {},
   "source": [
    "##### - 438 Nulls : `'list_price'` -- *Look again*"
   ]
  },
  {
   "cell_type": "code",
   "execution_count": 3096,
   "metadata": {},
   "outputs": [],
   "source": [
    "# Needs further investigation"
   ]
  },
  {
   "cell_type": "markdown",
   "metadata": {},
   "source": [
    "##### - 407 Nulls : `['source.agents', 'listing_id', 'flags.is_new_listing', 'list_date', 'source.type']` -- *Look again*"
   ]
  },
  {
   "cell_type": "code",
   "execution_count": 3097,
   "metadata": {},
   "outputs": [],
   "source": [
    "# 'source.agents' may be connected to 'products.brand_name' and/or 'source.type'\n",
    "# 'flags.is_new_listing' may be connected to 'list_date'"
   ]
  },
  {
   "cell_type": "markdown",
   "metadata": {},
   "source": [
    "##### - 303 Nulls : `'other_listings.rdc'`\n"
   ]
  },
  {
   "cell_type": "code",
   "execution_count": 3098,
   "metadata": {},
   "outputs": [],
   "source": [
    "# Will probably drop this column. It's not clear what it is.\n",
    "data.drop(columns='other_listings.rdc', inplace=True)"
   ]
  },
  {
   "cell_type": "markdown",
   "metadata": {},
   "source": [
    "##### - 250 Nulls : `['location.address.coordinate.lon', 'location.address.coordinate.lat']`"
   ]
  },
  {
   "cell_type": "code",
   "execution_count": 3099,
   "metadata": {},
   "outputs": [],
   "source": [
    "# Can be inferred from the rest of the location data."
   ]
  },
  {
   "cell_type": "markdown",
   "metadata": {},
   "source": [
    "##### - 179 Nulls : `'description.baths'` -- *Look again*"
   ]
  },
  {
   "cell_type": "code",
   "execution_count": 3100,
   "metadata": {},
   "outputs": [],
   "source": [
    "# Needs further investigation\n",
    "# Look into all the columns that have 'baths' in the name."
   ]
  },
  {
   "cell_type": "markdown",
   "metadata": {},
   "source": [
    "##### - 34 Nulls : `'last_update_date', 'description.type'` -- *Look again*"
   ]
  },
  {
   "cell_type": "code",
   "execution_count": 3101,
   "metadata": {},
   "outputs": [],
   "source": [
    "# May drop these nulls, but will check if they're connected to other columns first.\n",
    "# 'last_update_date' may be connected to 'list_date'\n",
    "# 'description.type' may be connected to 'description.sub_type'... 'description.type' has the sub_type values. Can probably just merge these 2 columns to avoid redundancy."
   ]
  },
  {
   "cell_type": "markdown",
   "metadata": {},
   "source": [
    "##### - 15 Nulls : `'location.address.line'` -- *Look again*"
   ]
  },
  {
   "cell_type": "code",
   "execution_count": 3102,
   "metadata": {},
   "outputs": [],
   "source": [
    "# Can probably infer 'location.address.coordinate.lon' and 'location.address.coordinate.lat' (250 locations with null) from 'location.address.line' (Only 15 nulls.)\n",
    "# Need map data. Google Maps API?"
   ]
  },
  {
   "cell_type": "markdown",
   "metadata": {},
   "source": [
    "##### - 10 Nulls : `'location.county.name'` -- *Look again*"
   ]
  },
  {
   "cell_type": "code",
   "execution_count": 3103,
   "metadata": {},
   "outputs": [],
   "source": [
    "# Can probably infer from the rest of the location data."
   ]
  },
  {
   "cell_type": "markdown",
   "metadata": {},
   "source": [
    "##### - 5 Nulls : `'location.address.city'` -- *Look again*"
   ]
  },
  {
   "cell_type": "code",
   "execution_count": 3104,
   "metadata": {},
   "outputs": [],
   "source": [
    "# Can probably infer from the rest of the location data."
   ]
  },
  {
   "cell_type": "markdown",
   "metadata": {},
   "source": [
    "### Dealing with Tags"
   ]
  },
  {
   "cell_type": "markdown",
   "metadata": {},
   "source": [
    "Consider the fact that with tags, there are a lot of categorical variables.\n",
    "- How many columns would we have if we OHE tags, city and state?\n",
    "- Perhaps we can get rid of tags that have a low frequency."
   ]
  },
  {
   "cell_type": "code",
   "execution_count": 3105,
   "metadata": {},
   "outputs": [
    {
     "name": "stdout",
     "output_type": "stream",
     "text": [
      "Unique tags: 1628\n"
     ]
    }
   ],
   "source": [
    "# OHE categorical variables/ tags here\n",
    "# tags will have to be done manually\n",
    "\n",
    "#data.info()\n",
    "\n",
    "# couting the unique categories\n",
    "print(f\"Unique tags: {data.explode('tags')['tags'].nunique()}\")  # 1628\n"
   ]
  },
  {
   "cell_type": "code",
   "execution_count": null,
   "metadata": {},
   "outputs": [
    {
     "name": "stdout",
     "output_type": "stream",
     "text": [
      "Counter({\"['big_lot']\": 62, \"['rental_property']\": 54, \"['single_story']\": 20, \"['basement', 'rental_property']\": 15, \"['basement']\": 15, \"['basement', 'big_lot']\": 15, \"['basement', 'two_or_more_stories']\": 14, \"['carport', 'single_story']\": 10, \"['big_lot', 'new_roof']\": 10, \"['central_air', 'forced_air', 'two_or_more_stories']\": 10, \"['two_or_more_stories']\": 10, \"['central_air', 'forced_air', 'single_story']\": 10, \"['floor_plan']\": 10, \"['forced_air', 'basement', 'two_or_more_stories']\": 10, \"['forced_air']\": 10, \"['forced_air', 'basement', 'two_or_more_stories', 'rental_property', 'investment_opportunity']\": 10, \"['corner_lot']\": 10, \"['garage_1_or_more']\": 9, \"['central_air', 'forced_air', 'basement', 'two_or_more_stories']\": 9, \"['single_story', 'fixer_upper']\": 7, \"['rental_property', 'big_lot', 'farm']\": 7, \"['city_view', 'view']\": 7, \"['forced_air', 'basement']\": 7, \"['basement', 'rental_property', 'investment_opportunity']\": 6, \"['carport', 'hill_or_mountain_view', 'ocean_view', 'single_story', 'waterfront', 'open_floor_plan', 'floor_plan', 'rental_property', 'furniture', 'new_roof', 'beach']\": 5, \"['city_view', 'community_outdoor_space', 'community_security_features', 'corner_lot', 'hill_or_mountain_view', 'lake_view', 'ocean_view', 'river_view', 'spa_or_hot_tub', 'garage_1_or_more', 'garage_2_or_more', 'two_or_more_stories', 'vaulted_ceiling', 'media_room', 'ensuite', 'private_courtyard', 'trails']\": 5, \"['city_view', 'single_story', 'big_yard', 'fenced_yard', 'ensuite', 'new_roof']\": 5, \"['central_air', 'central_heat', 'city_view', 'community_outdoor_space', 'community_security_features', 'cul_de_sac', 'dishwasher', 'fireplace', 'laundry_room', 'single_story', 'furniture']\": 5, \"['central_air', 'central_heat', 'city_view', 'community_outdoor_space', 'cul_de_sac', 'dishwasher', 'energy_efficient', 'fireplace', 'hardwood_floors', 'laundry_room', 'single_story', 'high_ceiling', 'floor_plan', 'rental_property', 'furniture', 'new_roof']\": 5, \"['central_air', 'central_heat', 'city_view', 'dishwasher', 'fireplace', 'hardwood_floors', 'single_story', 'garage_1_or_more', 'garage_2_or_more', 'ensuite']\": 5, \"['central_air', 'central_heat', 'city_view', 'community_outdoor_space', 'community_security_features', 'dishwasher', 'fireplace', 'laundry_room', 'recreation_facilities', 'two_or_more_stories', 'high_ceiling', 'master_bedroom', 'big_lot', 'ensuite']\": 5, \"['horse_facilities', 'rental_property', 'big_lot', 'pond']\": 5, \"['central_air', 'central_heat', 'city_view', 'community_outdoor_space', 'single_story', 'swimming_pool', 'corner_lot']\": 5, \"['carport', 'central_air', 'central_heat', 'city_view', 'community_security_features', 'dishwasher', 'fireplace', 'laundry_room', 'single_story', 'fenced_yard', 'shopping']\": 5, \"['city_view', 'hardwood_floors', 'single_story', 'fenced_yard', 'rental_property', 'fixer_upper']\": 5, \"['central_heat', 'city_view', 'community_outdoor_space', 'community_security_features', 'energy_efficient', 'fireplace', 'hardwood_floors', 'laundry_room', 'recreation_facilities', 'washer_dryer', 'single_story', 'garage_1_or_more', 'garage_2_or_more', 'big_yard', 'master_bedroom', 'floor_plan', 'ensuite']\": 5, \"['carport', 'central_air', 'central_heat', 'city_view', 'community_outdoor_space', 'single_story', 'updated_kitchen', 'master_suite', 'shopping']\": 5, \"['central_air', 'central_heat', 'city_view', 'community_outdoor_space', 'community_security_features', 'corner_lot', 'dishwasher', 'laundry_room', 'single_story', 'garage_1_or_more', 'garage_2_or_more', 'swimming_pool', 'big_lot']\": 5, \"['central_air', 'central_heat', 'city_view', 'single_story', 'garage_1_or_more', 'garage_2_or_more']\": 5, \"['carport', 'city_view', 'dishwasher', 'single_story', 'rental_property', 'medicalcare', 'shopping']\": 5, \"['carport', 'central_air', 'central_heat', 'city_view', 'community_outdoor_space', 'dishwasher', 'fireplace', 'laundry_room', 'single_story', 'big_yard']\": 5, \"['central_air', 'city_view', 'community_outdoor_space', 'community_security_features', 'disability_features', 'dishwasher', 'energy_efficient', 'washer_dryer', 'single_story']\": 5, \"['carport', 'central_air', 'city_view', 'community_outdoor_space', 'dishwasher', 'fireplace', 'laundry_room', 'single_story', 'garage_1_or_more', 'garage_2_or_more', 'fenced_yard', 'new_roof', 'shopping']\": 5, \"['carport', 'central_air', 'city_view', 'community_outdoor_space', 'fireplace', 'hardwood_floors', 'laundry_room', 'single_story', 'wooded_land', 'front_porch', 'large_porch', 'big_lot']\": 5, \"['central_air', 'central_heat', 'city_view', 'community_outdoor_space', 'hardwood_floors', 'single_story', 'big_lot']\": 5, \"['central_air', 'central_heat', 'city_view', 'community_outdoor_space', 'community_security_features', 'cul_de_sac', 'dishwasher', 'fireplace', 'laundry_room', 'recreation_facilities', 'washer_dryer', 'single_story', 'ensuite']\": 5, \"['central_air', 'central_heat', 'city_view', 'community_outdoor_space', 'community_security_features', 'dishwasher', 'hardwood_floors', 'laundry_room', 'washer_dryer', 'single_story', 'front_porch', 'shopping']\": 5, \"['central_air', 'central_heat', 'city_view', 'community_outdoor_space', 'recreation_facilities', 'single_story', 'garage_1_or_more', 'rental_property']\": 5, \"['central_air', 'central_heat', 'city_view', 'single_story', 'rental_property']\": 5, \"['central_air', 'central_heat', 'city_view', 'community_security_features', 'cul_de_sac', 'dishwasher', 'energy_efficient', 'fireplace', 'laundry_room', 'recreation_facilities', 'community_swimming_pool', 'single_story', 'garage_1_or_more', 'garage_2_or_more', 'master_bedroom', 'open_floor_plan', 'floor_plan']\": 5, \"['carport', 'central_air', 'central_heat', 'city_view', 'community_outdoor_space', 'community_security_features', 'dishwasher', 'energy_efficient', 'fireplace', 'golf_course_lot_or_frontage', 'laundry_room', 'recreation_facilities', 'community_swimming_pool', 'single_story', 'big_lot']\": 5, \"['carport', 'community_outdoor_space', 'basement', 'single_story']\": 5, \"['central_air', 'city_view', 'community_outdoor_space', 'community_security_features', 'hardwood_floors', 'laundry_room', 'recreation_facilities', 'single_story', 'master_bedroom', 'open_floor_plan', 'floor_plan']\": 5, \"['central_air', 'central_heat', 'city_view', 'community_outdoor_space', 'dishwasher', 'energy_efficient', 'fireplace', 'hardwood_floors', 'laundry_room', 'recreation_facilities', 'two_or_more_stories', 'garage_1_or_more', 'garage_2_or_more', 'tennis_court', 'new_roof', 'tennis']\": 5, \"['central_air', 'central_heat', 'city_view', 'community_outdoor_space', 'community_park', 'community_security_features', 'dishwasher', 'energy_efficient', 'fireplace', 'lake_view', 'laundry_room', 'recreation_facilities', 'water_view', 'community_swimming_pool', 'single_story', 'garage_1_or_more', 'garage_2_or_more', 'waterfront', 'modern_kitchen', 'large_kitchen', 'pond', 'clubhouse', 'trails', 'hoa', 'maintenance']\": 5, \"['central_air', 'central_heat', 'city_view', 'single_story']\": 5, \"['central_air', 'central_heat', 'city_view', 'community_security_features', 'dishwasher', 'energy_efficient', 'fireplace', 'laundry_room', 'single_story', 'garage_1_or_more', 'garage_2_or_more', 'swimming_pool', 'fenced_yard', 'floor_plan', 'new_roof', 'shopping']\": 5, \"['carport', 'central_air', 'central_heat', 'city_view', 'community_outdoor_space', 'community_security_features', 'dishwasher', 'fireplace', 'laundry_room', 'single_story', 'swimming_pool', 'floor_plan', 'big_lot', 'park', 'groundscare', 'maintenance', 'shopping']\": 5, \"['central_air', 'central_heat', 'city_view', 'community_outdoor_space', 'cul_de_sac', 'dishwasher', 'energy_efficient', 'fireplace', 'laundry_room', 'single_story', 'jack_and_jill_bathroom', 'master_bedroom', 'two_master_suites', 'master_suite']\": 5, \"['central_air', 'central_heat', 'city_view', 'community_outdoor_space', 'community_security_features', 'dishwasher', 'energy_efficient', 'laundry_room', 'recreation_facilities', 'basement', 'two_or_more_stories', 'garage_1_or_more', 'garage_2_or_more', 'big_bathroom', 'master_bedroom']\": 5, \"['central_air', 'central_heat', 'community_outdoor_space', 'recreation_facilities', 'swimming_pool', 'single_story', 'investment_opportunity']\": 5, \"['central_air', 'central_heat', 'city_view', 'community_outdoor_space', 'community_security_features', 'cul_de_sac', 'dishwasher', 'energy_efficient', 'fireplace', 'hardwood_floors', 'laundry_room', 'recreation_facilities', 'two_or_more_stories', 'garage_1_or_more', 'garage_2_or_more', 'swimming_pool', 'granite_kitchen', 'updated_kitchen', 'private_backyard', 'vaulted_ceiling']\": 5, \"['city_view', 'dishwasher', 'fireplace', 'laundry_room', 'single_story', 'big_yard']\": 5, \"['community_outdoor_space', 'community_security_features', 'energy_efficient', 'fireplace', 'hardwood_floors', 'lake_view', 'spa_or_hot_tub', 'view', 'water_view', 'basement', 'two_or_more_stories', 'garage_1_or_more', 'garage_2_or_more', 'garage_3_or_more', 'big_lot', 'efficient', 'pond']\": 5, \"['community_outdoor_space', 'community_park', 'cul_de_sac', 'fireplace', 'hardwood_floors', 'recreation_facilities', 'two_or_more_stories', 'garage_1_or_more', 'garage_2_or_more', 'updated_kitchen', 'big_yard', 'groundscare', 'shopping']\": 5, \"['carport', 'hardwood_floors', 'single_story', 'modern_kitchen', 'rental_property', 'investment_opportunity']\": 5, \"['recreation_facilities', 'single_story', 'new_roof']\": 5, \"['carport', 'single_story', 'updated_kitchen', 'private_backyard']\": 5, \"['community_outdoor_space', 'corner_lot', 'fireplace', 'single_story', 'garage_1_or_more', 'garage_2_or_more', 'fenced_yard', 'rental_property', 'big_lot']\": 5, \"['corner_lot', 'fireplace', 'hardwood_floors', 'two_or_more_stories', 'garage_1_or_more']\": 5, \"['carport', 'community_outdoor_space', 'den_or_office', 'hardwood_floors', 'laundry_room', 'single_story', 'beautiful_backyard', 'library', 'community_center']\": 5, \"['carport', 'community_outdoor_space', 'community_security_features', 'fireplace', 'hardwood_floors', 'two_or_more_stories', 'gourmet_kitchen', 'shopping']\": 5, \"['community_outdoor_space', 'fireplace', 'hardwood_floors', 'swimming_pool', 'two_or_more_stories', 'garage_1_or_more', 'garage_2_or_more', 'updated_kitchen', 'fenced_yard']\": 5, \"['community_golf', 'community_park', 'community_tennis_court', 'fireplace', 'hardwood_floors', 'recreation_facilities', 'tennis_court', 'two_or_more_stories', 'groundscare']\": 5, \"['community_clubhouse', 'community_outdoor_space', 'community_park', 'community_tennis_court', 'fireplace', 'hardwood_floors', 'recreation_facilities', 'tennis_court', 'two_or_more_stories', 'garage_1_or_more', 'garage_2_or_more', 'community_swimming_pool', 'playground', 'tennis', 'trails', 'lake']\": 5, \"['community_outdoor_space', 'community_park', 'community_security_features', 'fireplace', 'hardwood_floors', 'recreation_facilities', 'spa_or_hot_tub', 'two_or_more_stories', 'garage_1_or_more', 'garage_2_or_more', 'fenced_yard', 'vaulted_ceiling', 'library', 'efficient', 'playground', 'shopping']\": 5, \"['community_outdoor_space', 'community_park', 'community_tennis_court', 'fireplace', 'hardwood_floors', 'recreation_facilities', 'tennis_court', 'two_or_more_stories', 'garage_1_or_more', 'garage_2_or_more', 'community_swimming_pool', 'private_backyard', 'clubhouse', 'playground', 'golf_course', 'tennis', 'volleyball', 'trails']\": 5, \"['two_or_more_stories', 'garage_1_or_more', 'garage_2_or_more', 'shopping']\": 5, \"['community_outdoor_space', 'fireplace', 'two_or_more_stories', 'garage_1_or_more', 'garage_2_or_more', 'shopping']\": 5, \"['city_view', 'river_view', 'view', 'water_view', 'garage_1_or_more']\": 5, \"['community_outdoor_space', 'community_security_features', 'fireplace', 'hardwood_floors', 'single_story', 'garage_1_or_more', 'garage_2_or_more', 'modern_kitchen', 'open_kitchen', 'vaulted_ceiling', 'smart_homes', 'new_roof']\": 5, \"['community_outdoor_space', 'community_security_features', 'fireplace', 'recreation_facilities', 'spa_or_hot_tub', 'single_story', 'garage_1_or_more', 'big_yard', 'fenced_yard', 'master_bedroom']\": 5, \"['carport', 'community_outdoor_space', 'corner_lot', 'hardwood_floors', 'single_story', 'updated_kitchen', 'front_porch', 'shopping']\": 5, \"['community_clubhouse', 'community_outdoor_space', 'community_park', 'community_tennis_court', 'fireplace', 'hardwood_floors', 'laundry_room', 'recreation_facilities', 'tennis_court', 'two_or_more_stories', 'garage_1_or_more', 'garage_2_or_more']\": 5, \"['carport', 'community_outdoor_space', 'single_story', 'fenced_yard']\": 5, \"['community_outdoor_space', 'hardwood_floors', 'basement', 'two_or_more_stories', 'garage_1_or_more', 'open_floor_plan', 'floor_plan', 'investment_opportunity']\": 5, \"['community_park', 'recreation_facilities', 'swimming_pool', 'garage_1_or_more', 'corner_lot', 'big_lot']\": 5, \"['carport', 'single_story', 'new_roof']\": 5, \"['community_outdoor_space', 'fireplace', 'single_story', 'garage_1_or_more', 'garage_2_or_more', 'vaulted_ceiling', 'floor_plan', 'master_suite', 'ensuite']\": 5, \"['community_outdoor_space', 'fireplace', 'hardwood_floors', 'single_story', 'modern_kitchen', 'large_kitchen', 'big_yard']\": 5, \"['community_outdoor_space', 'corner_lot', 'fireplace', 'hardwood_floors', 'two_or_more_stories', 'guest_parking', 'rental_property', 'shopping']\": 5, \"['hardwood_floors', 'two_or_more_stories', 'rental_property']\": 5, \"['community_outdoor_space', 'fireplace', 'single_story']\": 5, \"['community_outdoor_space', 'hardwood_floors', 'recreation_facilities', 'basement', 'two_or_more_stories']\": 5, \"['carport', 'hardwood_floors', 'single_story', 'fenced_yard', 'rental_property', 'new_roof', 'shopping', 'fixer_upper']\": 5, \"['community_outdoor_space', 'community_security_features', 'corner_lot', 'cul_de_sac', 'energy_efficient', 'fireplace', 'hardwood_floors', 'spa_or_hot_tub', 'single_story', 'garage_1_or_more', 'garage_2_or_more', 'garage_3_or_more', 'coffer_ceiling', 'storm_shelter', 'master_suite', 'rental_property', 'big_lot', 'smart_homes', 'shopping']\": 5, \"['community_outdoor_space', 'community_park', 'community_tennis_court', 'fireplace', 'hardwood_floors', 'lake_view', 'recreation_facilities', 'tennis_court', 'view', 'water_view', 'two_or_more_stories', 'garage_1_or_more', 'garage_2_or_more', 'community_swimming_pool', 'basement', 'big_yard', 'new_roof', 'shopping']\": 5, \"['community_outdoor_space', 'energy_efficient', 'fireplace', 'hardwood_floors', 'recreation_facilities', 'two_or_more_stories', 'garage_1_or_more', 'garage_2_or_more', 'gourmet_kitchen', 'exposed_brick']\": 5, \"['community_park', 'community_tennis_court', 'hardwood_floors', 'recreation_facilities', 'tennis_court', 'single_story', 'tennis']\": 5, \"['carport', 'community_outdoor_space', 'community_security_features', 'fireplace', 'recreation_facilities', 'single_story', 'garage_1_or_more', 'garage_2_or_more', 'rv_parking', 'solar_system', 'new_roof']\": 5, \"['carport', 'community_clubhouse', 'community_outdoor_space', 'community_security_features', 'recreation_facilities', 'community_swimming_pool', 'two_or_more_stories', 'floor_plan']\": 5, \"['carport', 'community_outdoor_space', 'corner_lot', 'fireplace', 'single_story', 'big_yard', 'private_bathroom', 'solar_system', 'solar_panels']\": 5, \"['carport', 'community_outdoor_space', 'community_security_features', 'recreation_facilities', 'community_swimming_pool', 'single_story', 'ensuite', 'medicalcare', 'shopping']\": 5, \"['carport', 'community_outdoor_space', 'hardwood_floors', 'recreation_facilities', 'basement', 'single_story', 'garage_1_or_more']\": 5, \"['city_view', 'community_outdoor_space', 'cul_de_sac', 'family_room', 'fireplace', 'hill_or_mountain_view', 'recreation_facilities', 'view', 'swimming_pool', 'single_story', 'garage_1_or_more', 'garage_2_or_more', 'fruit_trees', 'mountain_view', 'trails', 'views', 'groundscare']\": 5, \"['community_outdoor_space', 'community_security_features', 'corner_lot', 'cul_de_sac', 'family_room', 'fireplace', 'hardwood_floors', 'recreation_facilities', 'swimming_pool', 'single_story', 'garage_1_or_more', 'garage_2_or_more', 'updated_kitchen', 'no_hoa', 'rv_parking']\": 5, \"['community_outdoor_space', 'single_story', 'garage_1_or_more', 'garage_2_or_more', 'granite_kitchen', 'updated_kitchen', 'big_yard', 'efficient', 'ensuite', 'shopping']\": 5, \"['community_outdoor_space', 'fireplace', 'hardwood_floors', 'hill_or_mountain_view', 'view', 'swimming_pool', 'single_story', 'garage_1_or_more', 'garage_2_or_more', 'detached_guest_house', 'guest_house', 'floor_plan', 'no_hoa', 'rental_property', 'farm', 'ranch', 'new_roof', 'shopping']\": 5, \"['community_outdoor_space', 'family_room', 'fireplace', 'hill_or_mountain_view', 'recreation_facilities', 'view', 'swimming_pool', 'two_or_more_stories', 'garage_1_or_more', 'garage_2_or_more', 'garage_3_or_more', 'private_backyard', 'master_suite']\": 5, \"['community_outdoor_space', 'corner_lot', 'family_room', 'fireplace', 'single_story', 'garage_1_or_more', 'garage_2_or_more', 'floor_plan', 'furniture', 'efficient', 'new_roof', 'shopping']\": 5, \"['community_outdoor_space', 'community_security_features', 'single_story', 'garage_1_or_more', 'garage_2_or_more', 'modern_kitchen', 'open_kitchen', 'master_bedroom', 'gated_community', 'golf_course', 'security', 'shopping']\": 5, \"['community_security_features', 'single_story', 'garage_1_or_more', 'garage_2_or_more', 'fenced_yard']\": 5, \"['carport', 'community_security_features', 'single_story', 'fenced_yard', 'new_roof', 'maintenance']\": 5, \"['carport', 'community_clubhouse', 'community_outdoor_space', 'community_security_features', 'recreation_facilities', 'community_swimming_pool', 'single_story', 'rental_property', 'library', 'community_center', 'shopping']\": 5, \"['city_view', 'community_outdoor_space', 'community_security_features', 'fireplace', 'hill_or_mountain_view', 'recreation_facilities', 'view', 'community_swimming_pool', 'swimming_pool', 'single_story', 'garage_1_or_more', 'garage_2_or_more', 'garage_3_or_more', 'modern_kitchen', 'outdoor_kitchen', 'master_bathroom', 'private_courtyard', 'trails', 'views', 'shopping']\": 5, \"['city_view', 'community_clubhouse', 'community_outdoor_space', 'community_security_features', 'hill_or_mountain_view', 'recreation_facilities', 'view', 'community_swimming_pool', 'two_or_more_stories', 'garage_1_or_more', 'garage_2_or_more', 'garage_3_or_more', 'gated_community', 'trails', 'security', 'shopping']\": 5, \"['community_outdoor_space', 'swimming_pool', 'single_story', 'private_bathroom']\": 5, \"['community_outdoor_space', 'community_security_features', 'family_room', 'fireplace', 'hill_or_mountain_view', 'recreation_facilities', 'view', 'community_swimming_pool', 'single_story', 'garage_1_or_more', 'garage_2_or_more', 'high_ceiling', 'open_floor_plan', 'floor_plan']\": 5, \"['community_outdoor_space', 'hill_or_mountain_view', 'recreation_facilities', 'view', 'swimming_pool', 'single_story', 'garage_1_or_more', 'garage_2_or_more', 'modern_kitchen', 'outdoor_kitchen', 'open_floor_plan', 'floor_plan', 'big_lot', 'trails', 'groundscare', 'shopping']\": 5, \"['fireplace', 'swimming_pool', 'single_story', 'garage_1_or_more', 'garage_2_or_more', 'private_bathroom']\": 5, \"['single_story', 'garage_1_or_more', 'garage_2_or_more', 'private_backyard', 'solar_system', 'rental_property']\": 5, \"['community_outdoor_space', 'family_room', 'fireplace', 'hardwood_floors', 'single_story', 'garage_1_or_more', 'garage_2_or_more', 'updated_kitchen', 'vaulted_ceiling', 'solar_system', 'solar_panels', 'trails', 'groundscare']\": 5, \"['carport', 'community_outdoor_space', 'fireplace', 'recreation_facilities', 'community_swimming_pool', 'two_or_more_stories', 'jack_and_jill_bathroom', 'open_floor_plan', 'floor_plan']\": 5, \"['carport', 'fireplace', 'basement', 'single_story', 'garage_1_or_more', 'investment_opportunity']\": 5, \"['investment_opportunity']\": 5, \"['carport', 'community_clubhouse', 'community_outdoor_space', 'recreation_facilities', 'two_or_more_stories', 'medicalcare', 'shopping']\": 5, \"['hill_or_mountain_view', 'view', 'single_story', 'garage_1_or_more', 'garage_2_or_more', 'garage_3_or_more', 'modern_kitchen', 'open_kitchen', 'floor_plan', 'mountain_view', 'trails', 'views']\": 5, \"['community_outdoor_space', 'community_security_features', 'fireplace', 'swimming_pool', 'single_story', 'garage_1_or_more', 'garage_2_or_more', 'updated_kitchen', 'efficient', 'smart_homes', 'shopping']\": 5, \"['community_clubhouse', 'community_outdoor_space', 'community_security_features', 'hill_or_mountain_view', 'recreation_facilities', 'view', 'community_swimming_pool', 'two_or_more_stories', 'garage_1_or_more', 'gated_community', 'clubhouse', 'security', 'shopping']\": 5, \"['community_outdoor_space', 'corner_lot', 'single_story', 'garage_1_or_more', 'garage_2_or_more', 'big_lot']\": 5, \"['carport', 'hill_or_mountain_view', 'view', 'swimming_pool', 'single_story', 'garage_1_or_more', 'corner_lot', 'fixer_upper']\": 5, \"['carport', 'community_clubhouse', 'community_outdoor_space', 'community_security_features', 'recreation_facilities', 'community_swimming_pool', 'single_story']\": 5, \"['community_outdoor_space', 'recreation_facilities', 'swimming_pool', 'single_story', 'garage_1_or_more', 'garage_2_or_more', 'private_bathroom', 'farm', 'ranch', 'playground']\": 5, \"['carport', 'community_outdoor_space', 'community_security_features', 'single_story', 'big_yard', 'farm', 'ranch', 'shopping']\": 5, \"['community_clubhouse', 'community_outdoor_space', 'recreation_facilities', 'community_swimming_pool', 'swimming_pool', 'two_or_more_stories', 'garage_1_or_more', 'garage_2_or_more', 'high_ceiling', 'private_bathroom', 'views']\": 5, \"['central_air', 'central_heat', 'community_outdoor_space', 'community_security_features', 'dishwasher', 'fireplace', 'hardwood_floors', 'pets_allowed', 'basement', 'two_or_more_stories', 'garage_1_or_more', 'garage_2_or_more', 'private_backyard', 'beautiful_backyard', 'floor_plan', 'park', 'tennis']\": 5, \"['central_air', 'central_heat', 'community_security_features', 'dishwasher', 'single_story', 'garage_1_or_more', 'garage_2_or_more', 'master_bedroom', 'fruit_trees', 'community_center', 'park', 'shopping']\": 5, \"['central_air', 'central_heat', 'community_security_features', 'dishwasher', 'fireplace', 'rv_or_boat_parking', 'single_story', 'garage_1_or_more', 'garage_2_or_more', 'private_backyard', 'vaulted_ceiling', 'farm', 'ranch', 'shopping']\": 5, \"['central_air', 'central_heat', 'community_security_features', 'hardwood_floors', 'single_story', 'garage_1_or_more', 'investment_opportunity', 'park', 'shopping']\": 5, \"['central_air', 'central_heat', 'community_outdoor_space', 'community_security_features', 'den_or_office', 'family_room', 'pets_allowed', 'two_or_more_stories', 'garage_1_or_more', 'garage_2_or_more', 'solar_system', 'park', 'shopping']\": 5, \"['central_air', 'central_heat', 'community_security_features', 'single_story', 'garage_1_or_more', 'updated_kitchen', 'park', 'maintenance']\": 5, \"['central_air', 'central_heat', 'community_security_features', 'fireplace', 'single_story', 'garage_1_or_more', 'big_yard', 'new_roof']\": 5, \"['central_air', 'central_heat', 'community_security_features', 'corner_lot', 'dishwasher', 'fireplace', 'single_story', 'garage_1_or_more', 'garage_2_or_more', 'shopping']\": 5, \"['community_security_features', 'fireplace', 'hardwood_floors', 'single_story', 'garage_1_or_more', 'garage_2_or_more', 'fenced_yard']\": 5, \"['central_air', 'central_heat', 'community_security_features', 'dishwasher', 'fireplace', 'single_story', 'garage_1_or_more', 'garage_2_or_more', 'efficient']\": 5, \"['central_air', 'central_heat', 'community_security_features', 'swimming_pool', 'two_or_more_stories', 'garage_1_or_more', 'garage_2_or_more', 'garage_3_or_more', 'high_ceiling', 'solar_system', 'solar_panels', 'park']\": 5, \"['central_air', 'central_heat', 'community_security_features', 'dishwasher', 'family_room', 'fireplace', 'river_view', 'view', 'water_view', 'single_story', 'garage_1_or_more', 'garage_2_or_more', 'fruit_trees', 'smart_homes', 'park', 'trails', 'shopping']\": 5, \"['central_air', 'central_heat', 'community_security_features', 'fireplace', 'single_story', 'garage_1_or_more', 'garage_2_or_more', 'updated_kitchen', 'investment_opportunity', 'park', 'shopping']\": 5, \"['central_air', 'central_heat', 'community_security_features', 'dishwasher', 'energy_efficient', 'hardwood_floors', 'two_or_more_stories', 'garage_1_or_more', 'garage_2_or_more', 'high_ceiling', 'ensuite']\": 5, \"['central_air', 'central_heat', 'fireplace', 'forced_air', 'two_or_more_stories', 'garage_1_or_more', 'garage_2_or_more']\": 5, \"['central_air', 'central_heat', 'community_security_features', 'dishwasher', 'energy_efficient', 'family_room', 'fireplace', 'pets_allowed', 'single_story', 'garage_1_or_more', 'updated_kitchen', 'investment_opportunity', 'shopping']\": 5, \"['central_air', 'central_heat', 'community_outdoor_space', 'community_security_features', 'corner_lot', 'pets_allowed', 'garage_1_or_more', 'basketball_court', 'master_bedroom', 'large_porch', 'tennis_court', 'tennis', 'basketball', 'groundscare']\": 5, \"['central_air', 'central_heat', 'community_security_features', 'den_or_office', 'dishwasher', 'fireplace', 'hardwood_floors', 'single_story', 'garage_1_or_more', 'garage_2_or_more', 'private_backyard', 'new_roof']\": 5, \"['laundry_room', 'two_or_more_stories', 'garage_1_or_more', 'gourmet_kitchen', 'open_floor_plan', 'floor_plan', 'big_lot', 'park', 'playground', 'trails', 'shopping']\": 5, \"['central_air', 'central_heat', 'community_security_features', 'single_story', 'garage_1_or_more', 'garage_2_or_more', 'big_yard']\": 5, \"['central_air', 'central_heat', 'community_outdoor_space', 'community_security_features', 'disability_features', 'dishwasher', 'family_room', 'fireplace', 'pets_allowed', 'recreation_facilities', 'rv_or_boat_parking', 'single_story', 'garage_1_or_more', 'garage_2_or_more', 'updated_kitchen', 'shopping']\": 5, \"['central_air', 'central_heat', 'community_outdoor_space', 'community_security_features', 'dishwasher', 'energy_efficient', 'two_or_more_stories', 'garage_1_or_more', 'garage_2_or_more', 'gourmet_kitchen', 'open_floor_plan', 'floor_plan', 'solar_system', 'farm', 'park', 'trails']\": 5, \"['central_air', 'central_heat', 'community_security_features', 'single_story', 'garage_1_or_more', 'garage_2_or_more', 'big_yard', 'open_floor_plan', 'floor_plan', 'farm', 'ranch', 'park', 'shopping']\": 5, \"['central_air', 'central_heat', 'community_security_features', 'dishwasher', 'two_or_more_stories', 'garage_1_or_more', 'garage_2_or_more', 'smart_homes', 'groundscare', 'shopping']\": 5, \"['carport', 'central_heat', 'community_outdoor_space', 'community_security_features', 'fireplace', 'pets_allowed', 'swimming_pool', 'two_or_more_stories', 'gated_community', 'security']\": 5, \"['central_air', 'central_heat', 'community_outdoor_space', 'community_security_features', 'fireplace', 'single_story', 'garage_1_or_more', 'garage_2_or_more', 'garage_3_or_more', 'investment_opportunity', 'shopping']\": 5, \"['central_air', 'central_heat', 'city_view', 'community_security_features', 'corner_lot', 'dishwasher', 'family_room', 'fireplace', 'rv_or_boat_parking', 'view', 'single_story', 'garage_1_or_more', 'garage_2_or_more']\": 5, \"['central_air', 'central_heat', 'community_clubhouse', 'community_gym', 'community_security_features', 'community_tennis_court', 'dishwasher', 'fireplace', 'lake_view', 'pets_allowed', 'recreation_facilities', 'spa_or_hot_tub', 'tennis_court', 'view', 'water_view', 'single_story', 'swimming_pool', 'gated_community', 'pond', 'clubhouse', 'tennis', 'security', 'shopping']\": 5, \"['central_air', 'central_heat', 'community_outdoor_space', 'community_security_features', 'corner_lot', 'cul_de_sac', 'disability_features', 'dishwasher', 'energy_efficient', 'family_room', 'fireplace', 'pets_allowed', 'single_story', 'garage_1_or_more', 'garage_2_or_more', 'shopping']\": 5, \"['central_air', 'central_heat', 'community_outdoor_space', 'community_security_features', 'corner_lot', 'dishwasher', 'fireplace', 'laundry_room', 'single_story', 'garage_1_or_more', 'garage_2_or_more', 'master_bedroom', 'big_lot']\": 5, \"['central_air', 'central_heat', 'community_security_features', 'corner_lot', 'dishwasher', 'family_room', 'fireplace', 'single_story', 'garage_1_or_more', 'garage_2_or_more', 'vaulted_ceiling', 'master_bedroom', 'ensuite', 'park', 'shopping']\": 5, \"['carport', 'central_air', 'central_heat', 'community_security_features', 'disability_features', 'dishwasher', 'family_room', 'fireplace', 'hardwood_floors', 'rv_or_boat_parking', 'two_or_more_stories', 'garage_1_or_more', 'garage_2_or_more', 'modern_kitchen', 'open_kitchen', 'rv_parking']\": 5, \"['central_air', 'central_heat', 'community_outdoor_space', 'community_security_features', 'hardwood_floors', 'single_story', 'garage_1_or_more', 'garage_2_or_more', 'big_yard', 'rental_property', 'new_roof']\": 5, \"['central_air', 'central_heat', 'community_security_features', 'corner_lot', 'fireplace', 'rv_or_boat_parking', 'single_story', 'garage_1_or_more', 'garage_2_or_more', 'open_floor_plan', 'floor_plan', 'trails']\": 5, \"['central_air', 'central_heat', 'community_clubhouse', 'community_gym', 'community_security_features', 'community_tennis_court', 'den_or_office', 'disability_features', 'dishwasher', 'energy_efficient', 'family_room', 'fireplace', 'pets_allowed', 'recreation_facilities', 'senior_community', 'spa_or_hot_tub', 'tennis_court', 'single_story', 'garage_1_or_more', 'garage_2_or_more', 'swimming_pool', 'floor_plan', 'gated_community', 'security', 'medicalcare', 'shopping']\": 5, \"['central_air', 'central_heat', 'community_clubhouse', 'community_park', 'community_security_features', 'den_or_office', 'dishwasher', 'family_room', 'fireplace', 'recreation_facilities', 'two_or_more_stories', 'garage_1_or_more', 'garage_2_or_more', 'garage_3_or_more', 'high_ceiling', 'floor_plan', 'theater_room', 'courtyard_entry', 'marina', 'groundscare']\": 5, \"['central_air', 'central_heat', 'community_security_features', 'dishwasher', 'fireplace', 'single_story', 'garage_1_or_more', 'garage_2_or_more', 'floor_plan', 'medicalcare']\": 5, \"['central_air', 'community_outdoor_space', 'dining_room', 'dishwasher', 'family_room', 'fireplace', 'forced_air', 'laundry_room', 'washer_dryer', 'basement', 'two_or_more_stories', 'garage_1_or_more', 'garage_2_or_more', 'modern_kitchen', 'kitchen_island', 'large_kitchen', 'private_backyard', 'no_hoa', 'ensuite', 'investment_opportunity']\": 5, \"['central_air', 'community_clubhouse', 'community_golf', 'community_gym', 'community_spa_or_hot_tub', 'dishwasher', 'golf_course_lot_or_frontage', 'golf_course_view', 'pets_allowed', 'recreation_facilities', 'senior_community', 'view', 'community_swimming_pool', 'single_story', 'garage_1_or_more', 'handicap_access', 'elevator', 'golf_course', 'trails', 'hoa']\": 5, \"['central_air', 'community_outdoor_space', 'community_security_features', 'dining_room', 'dishwasher', 'family_room', 'forced_air', 'hardwood_floors', 'laundry_room', 'spa_or_hot_tub', 'basement', 'single_story', 'garage_1_or_more', 'garage_2_or_more', 'updated_kitchen', 'efficient', 'farm', 'ranch', 'new_roof', 'park', 'golf_course', 'trails']\": 5, \"['central_air', 'city_view', 'community_outdoor_space', 'community_security_features', 'dishwasher', 'fireplace', 'forced_air', 'hardwood_floors', 'laundry_room', 'pets_allowed', 'view', 'washer_dryer', 'basement', 'two_or_more_stories', 'garage_1_or_more']\": 5, \"['city_view', 'recreation_facilities', 'view', 'basement', 'updated_kitchen', 'modern_kitchen', 'rental_property', 'farm', 'playground', 'lake']\": 5, \"['central_air', 'community_security_features', 'dining_room', 'dishwasher', 'fireplace', 'forced_air', 'laundry_room', 'washer_dryer', 'basement', 'two_or_more_stories', 'garage_1_or_more', 'garage_2_or_more', 'master_suite', 'ensuite']\": 5, \"['central_air', 'community_outdoor_space', 'community_security_features', 'dining_room', 'dishwasher', 'forced_air', 'laundry_room', 'single_story', 'updated_kitchen', 'fenced_yard', 'no_hoa', 'rv_parking', 'groundscare']\": 5, \"['central_air', 'dishwasher', 'family_room', 'forced_air', 'basement', 'two_or_more_stories', 'garage_1_or_more', 'garage_2_or_more', 'floor_plan', 'shopping']\": 5, \"['central_air', 'city_view', 'community_outdoor_space', 'community_security_features', 'dining_room', 'dishwasher', 'fireplace', 'forced_air', 'recreation_facilities', 'view', 'washer_dryer', 'single_story', 'garage_1_or_more', 'master_bedroom', 'ensuite', 'hoa', 'medicalcare', 'shopping']\": 5, \"['city_view', 'dining_room', 'hardwood_floors', 'laundry_room', 'view', 'single_story', 'basement', 'shopping']\": 5, \"['central_air', 'community_security_features', 'dining_room', 'dishwasher', 'forced_air', 'laundry_room', 'pets_allowed', 'washer_dryer', 'single_story', 'garage_1_or_more', 'farm', 'ranch', 'mountain_view']\": 5, \"['central_air', 'community_outdoor_space', 'dining_room', 'dishwasher', 'family_room', 'forced_air', 'laundry_room', 'basement', 'single_story', 'garage_1_or_more', 'garage_2_or_more', 'efficient']\": 5, \"['central_air', 'community_gym', 'community_outdoor_space', 'community_security_features', 'dishwasher', 'forced_air', 'laundry_room', 'recreation_facilities', 'washer_dryer', 'single_story', 'garage_1_or_more', 'kitchen_island', 'floor_plan', 'exposed_brick', 'elevator', 'hoa', 'maintenance']\": 5, \"['central_air', 'community_outdoor_space', 'community_security_features', 'dining_room', 'dishwasher', 'energy_efficient', 'family_room', 'fireplace', 'forced_air', 'hardwood_floors', 'laundry_room', 'washer_dryer', 'basement', 'single_story', 'garage_1_or_more', 'garage_2_or_more', 'beautiful_backyard', 'corner_lot', 'tennis_court', 'big_lot', 'farm', 'ranch', 'new_roof', 'playground', 'tennis', 'trails', 'groundscare', 'maintenance', 'shopping']\": 5, \"['central_air', 'community_outdoor_space', 'den_or_office', 'dining_room', 'dishwasher', 'fireplace', 'forced_air', 'pets_allowed', 'washer_dryer', 'single_story', 'garage_1_or_more', 'new_roof', 'shopping']\": 5, \"['community_outdoor_space', 'den_or_office', 'dishwasher', 'forced_air', 'basement', 'single_story', 'ensuite', 'park', 'groundscare', 'shopping']\": 5, \"['central_air', 'city_view', 'dining_room', 'dishwasher', 'family_room', 'forced_air', 'laundry_room', 'view', 'single_story', 'garage_1_or_more']\": 5, \"['carport', 'city_view', 'community_outdoor_space', 'community_security_features', 'dining_room', 'dishwasher', 'hardwood_floors', 'laundry_room', 'pets_allowed', 'spa_or_hot_tub', 'view', 'washer_dryer', 'basement', 'single_story', 'private_backyard', 'fenced_yard', 'views', 'hoa', 'maintenance']\": 5, \"['central_air', 'city_view', 'community_clubhouse', 'community_gym', 'community_outdoor_space', 'community_security_features', 'community_spa_or_hot_tub', 'den_or_office', 'dining_room', 'dishwasher', 'fireplace', 'forced_air', 'hardwood_floors', 'hill_or_mountain_view', 'laundry_room', 'pets_allowed', 'recreation_facilities', 'view', 'washer_dryer', 'community_swimming_pool', 'single_story', 'garage_1_or_more', 'garage_2_or_more', 'library', 'clubhouse', 'shopping']\": 5, \"['community_outdoor_space', 'community_security_features', 'dining_room', 'dishwasher', 'forced_air', 'hardwood_floors', 'laundry_room', 'washer_dryer', 'single_story', 'garage_1_or_more', 'farm', 'ranch', 'trails', 'maintenance', 'shopping']\": 5, \"['central_air', 'city_view', 'community_outdoor_space', 'community_security_features', 'dishwasher', 'energy_efficient', 'forced_air', 'hardwood_floors', 'hill_or_mountain_view', 'laundry_room', 'view', 'washer_dryer', 'single_story', 'garage_1_or_more']\": 5, \"['central_air', 'community_outdoor_space', 'family_room', 'forced_air', 'hardwood_floors', 'laundry_room', 'spa_or_hot_tub', 'basement', 'single_story', 'garage_1_or_more', 'modern_kitchen', 'large_kitchen', 'big_yard', 'farm', 'ranch', 'pond', 'park', 'shopping']\": 5, \"['central_air', 'dining_room', 'dishwasher', 'fireplace', 'forced_air', 'recreation_facilities', 'washer_dryer', 'community_swimming_pool', 'two_or_more_stories']\": 5, \"['community_outdoor_space', 'community_security_features', 'dining_room', 'dishwasher', 'family_room', 'forced_air', 'laundry_room', 'basement', 'single_story', 'garage_1_or_more', 'garage_2_or_more', 'floor_plan', 'master_suite', 'ensuite', 'park', 'groundscare', 'shopping']\": 5, \"['central_air', 'city_view', 'community_outdoor_space', 'community_security_features', 'den_or_office', 'dining_room', 'dishwasher', 'fireplace', 'forced_air', 'hardwood_floors', 'laundry_room', 'view', 'washer_dryer', 'basement', 'two_or_more_stories', 'garage_1_or_more', 'garage_2_or_more', 'gourmet_kitchen', 'private_backyard', 'fenced_yard', 'vaulted_ceiling', 'open_floor_plan', 'floor_plan', 'master_suite', 'park', 'groundscare']\": 5, \"['central_air', 'community_outdoor_space', 'dining_room', 'dishwasher', 'family_room', 'fireplace', 'forced_air', 'laundry_room', 'basement', 'two_or_more_stories', 'garage_1_or_more', 'garage_2_or_more']\": 5, \"['central_air', 'community_clubhouse', 'community_gym', 'community_outdoor_space', 'dining_room', 'dishwasher', 'forced_air', 'laundry_room', 'recreation_facilities', 'community_swimming_pool', 'single_story', 'garage_1_or_more', 'garage_2_or_more', 'modern_kitchen', 'large_kitchen', 'big_bathroom', 'open_floor_plan', 'floor_plan', 'trails', 'lake', 'shopping']\": 5, \"['community_security_features', 'dishwasher', 'forced_air', 'recreation_facilities', 'rv_or_boat_parking', 'washer_dryer', 'basement', 'single_story', 'updated_kitchen', 'solar_system', 'fixer_upper']\": 5, \"['central_air', 'community_security_features', 'dining_room', 'dishwasher', 'family_room', 'fireplace', 'forced_air', 'hardwood_floors', 'laundry_room', 'basement', 'single_story', 'garage_1_or_more', 'garage_2_or_more', 'updated_kitchen', 'modern_kitchen', 'large_kitchen', 'open_floor_plan', 'floor_plan', 'farm', 'ranch']\": 5, \"['central_air', 'community_outdoor_space', 'community_security_features', 'corner_lot', 'dining_room', 'dishwasher', 'fireplace', 'forced_air', 'laundry_room', 'washer_dryer', 'basement', 'two_or_more_stories', 'fenced_yard']\": 5, \"['carport', 'central_air', 'community_outdoor_space', 'community_security_features', 'dining_room', 'dishwasher', 'forced_air', 'laundry_room', 'pets_allowed', 'recreation_facilities', 'washer_dryer', 'community_swimming_pool', 'two_or_more_stories', 'garage_1_or_more']\": 5, \"['carport', 'central_air', 'community_security_features', 'dining_room', 'dishwasher', 'forced_air', 'hardwood_floors', 'laundry_room', 'basement', 'single_story', 'modern_kitchen', 'large_kitchen', 'no_hoa', 'open_house', 'ensuite', 'farm', 'ranch', 'new_roof']\": 5, \"['central_air', 'community_outdoor_space', 'community_security_features', 'den_or_office', 'dining_room', 'dishwasher', 'family_room', 'forced_air', 'hardwood_floors', 'laundry_room', 'recreation_facilities', 'washer_dryer', 'community_swimming_pool', 'basement', 'two_or_more_stories', 'garage_1_or_more', 'garage_2_or_more', 'front_porch', 'ensuite']\": 5, \"['central_air', 'city_view', 'community_clubhouse', 'community_gym', 'community_outdoor_space', 'community_spa_or_hot_tub', 'community_tennis_court', 'dishwasher', 'fireplace', 'hill_or_mountain_view', 'pets_allowed', 'recreation_facilities', 'view', 'washer_dryer', 'community_swimming_pool', 'single_story', 'garage_1_or_more', 'basement', 'updated_kitchen', 'basketball_court', 'tennis_court', 'rental_property', 'tennis', 'basketball', 'shopping']\": 5, \"['city_view', 'community_outdoor_space', 'dining_room', 'family_room', 'fireplace', 'forced_air', 'laundry_room', 'view', 'basement', 'single_story', 'garage_1_or_more', 'garage_2_or_more', 'new_roof', 'trails', 'shopping', 'fixer_upper']\": 5, \"['central_air', 'corner_lot', 'den_or_office', 'dining_room', 'fireplace', 'forced_air', 'hardwood_floors', 'basement', 'single_story', 'garage_1_or_more', 'garage_2_or_more', 'granite_kitchen', 'updated_kitchen', 'modern_kitchen', 'private_backyard', 'new_roof', 'views']\": 5, \"['central_air', 'city_view', 'community_outdoor_space', 'community_security_features', 'corner_lot', 'den_or_office', 'dining_room', 'dishwasher', 'family_room', 'fireplace', 'forced_air', 'hardwood_floors', 'laundry_room', 'pets_allowed', 'spa_or_hot_tub', 'view', 'washer_dryer', 'basement', 'two_or_more_stories', 'garage_1_or_more', 'garage_2_or_more', 'master_bedroom', 'lake']\": 5, \"['central_air', 'community_outdoor_space', 'community_security_features', 'dining_room', 'dishwasher', 'family_room', 'fireplace', 'forced_air', 'hardwood_floors', 'laundry_room', 'washer_dryer', 'basement', 'single_story', 'garage_1_or_more', 'garage_2_or_more', 'updated_kitchen', 'big_yard', 'fenced_yard', 'park', 'trails', 'shopping']\": 5, \"['carport', 'basement', 'rental_property', 'efficient', 'investment_opportunity']\": 5, \"['community_outdoor_space', 'dishwasher', 'energy_efficient', 'fireplace', 'laundry_room', 'recreation_facilities', 'basement', 'two_or_more_stories', 'efficient']\": 5, \"['central_air', 'city_view', 'community_outdoor_space', 'dishwasher', 'fireplace', 'laundry_room', 'pets_allowed', 'recreation_facilities', 'view', 'basement', 'single_story', 'garage_1_or_more', 'garage_2_or_more', 'updated_kitchen', 'high_ceiling', 'guest_parking', 'exposed_brick']\": 5, \"['community_outdoor_space', 'laundry_room', 'basement', 'rental_property', 'investment_opportunity', 'shopping']\": 5, \"['corner_lot', 'energy_efficient', 'basement', 'garage_1_or_more', 'garage_2_or_more', 'new_roof']\": 5, \"['central_heat', 'community_outdoor_space', 'community_park', 'recreation_facilities', 'basement', 'rental_property', 'new_roof']\": 5, \"['community_outdoor_space', 'laundry_room', 'basement', 'garage_1_or_more', 'garage_2_or_more', 'garage_3_or_more', 'community_swimming_pool', 'basketball_court', 'fenced_yard', 'front_porch', 'rental_property', 'new_roof', 'playground', 'golf_course', 'basketball']\": 5, \"['central_heat', 'fireplace', 'laundry_room', 'basement', 'garage_1_or_more']\": 5, \"['community_outdoor_space', 'corner_lot', 'fireplace', 'laundry_room', 'recreation_facilities', 'basement', 'rental_property', 'fixer_upper']\": 5, \"['community_outdoor_space', 'basement', 'rental_property', 'new_roof']\": 5, \"['community_outdoor_space', 'community_park', 'community_tennis_court', 'dishwasher', 'fireplace', 'laundry_room', 'recreation_facilities', 'tennis_court', 'washer_dryer', 'basement', 'two_or_more_stories', 'two_kitchen', 'modern_kitchen']\": 5, \"['central_heat', 'community_golf', 'community_outdoor_space', 'laundry_room', 'recreation_facilities', 'two_or_more_stories', 'big_yard', 'groundscare', 'shopping']\": 5, \"['community_outdoor_space', 'energy_efficient', 'fireplace', 'laundry_room', 'recreation_facilities', 'basement', 'granite_kitchen', 'master_bedroom', 'ensuite']\": 5, \"['pets_allowed', 'recreation_facilities', 'single_story', 'rental_property']\": 5, \"['laundry_room', 'basement', 'two_or_more_stories', 'modern_kitchen', 'large_kitchen']\": 5, \"['garage_1_or_more', 'two_or_more_stories']\": 5, \"['community_golf', 'recreation_facilities', 'basement', 'garage_1_or_more', 'garage_2_or_more', 'rental_property']\": 5, \"['community_outdoor_space', 'community_park', 'disability_features', 'energy_efficient', 'laundry_room', 'recreation_facilities', 'basement', 'garage_1_or_more', 'garage_2_or_more', 'garage_3_or_more', 'new_roof']\": 5, \"['recreation_facilities', 'low_hoa', 'rental_property', 'hoa', 'maintenance']\": 5, \"['fireplace', 'basement', 'garage_1_or_more', 'garage_2_or_more', 'rental_property', 'new_roof', 'fixer_upper']\": 5, \"['central_heat', 'community_outdoor_space', 'basement', 'rental_property']\": 5, \"['community_golf', 'community_outdoor_space', 'community_park', 'community_tennis_court', 'energy_efficient', 'recreation_facilities', 'tennis_court', 'basement', 'garage_1_or_more', 'two_or_more_stories', 'updated_kitchen', 'new_roof']\": 5, \"['city_view', 'laundry_room', 'view', 'basement', 'garage_1_or_more', 'garage_2_or_more', 'garage_3_or_more', 'big_yard', 'new_roof', 'park']\": 5, \"['recreation_facilities', 'basement', 'updated_kitchen', 'rental_property']\": 5, \"['basement', 'granite_kitchen', 'updated_kitchen', 'new_roof']\": 5, \"['community_outdoor_space', 'energy_efficient', 'basement']\": 5, \"['central_air', 'city_view', 'community_outdoor_space', 'dishwasher', 'pets_allowed', 'recreation_facilities', 'view', 'basement', 'single_story', 'garage_1_or_more', 'updated_kitchen', 'master_bedroom', 'open_floor_plan', 'floor_plan', 'elevator', 'shopping']\": 5, \"['community_golf', 'community_horse_facilities', 'community_outdoor_space', 'golf_course_lot_or_frontage', 'recreation_facilities', 'community_swimming_pool', 'basement', 'rental_property']\": 5, \"['central_air', 'central_heat', 'dishwasher', 'fireplace', 'laundry_room', 'washer_dryer', 'swimming_pool', 'basement', 'garage_1_or_more', 'two_or_more_stories', 'updated_kitchen', 'master_bedroom', 'new_roof']\": 5, \"['central_air', 'central_heat', 'community_outdoor_space', 'dishwasher', 'pets_allowed', 'recreation_facilities', 'community_swimming_pool', 'swimming_pool', 'single_story', 'hoa', 'medicalcare']\": 5, \"['central_heat', 'laundry_room', 'basement', 'big_lot']\": 5, \"['central_heat', 'community_golf', 'laundry_room', 'recreation_facilities', 'basement', 'fenced_yard', 'playground']\": 5, \"['central_air', 'laundry_room', 'recreation_facilities', 'washer_dryer', 'basement', 'garage_1_or_more', 'garage_2_or_more', 'garage_3_or_more', 'open_floor_plan', 'floor_plan', 'rental_property', 'furniture', 'park', 'shopping']\": 5, \"['recreation_facilities', 'farm', 'shopping']\": 5, \"['central_heat', 'city_view', 'community_outdoor_space', 'laundry_room', 'view', 'basement', 'two_or_more_stories']\": 5, \"['community_outdoor_space', 'energy_efficient', 'laundry_room', 'recreation_facilities', 'basement', 'open_house', 'investment_opportunity', 'fixer_upper']\": 5, \"['community_golf', 'community_outdoor_space', 'community_park', 'laundry_room', 'recreation_facilities', 'basement', 'garage_1_or_more', 'garage_2_or_more', 'private_backyard', 'rental_property', 'playground', 'fixer_upper']\": 5, \"['central_air', 'central_heat', 'dishwasher', 'fireplace', 'forced_air', 'washer_dryer', 'swimming_pool', 'basement', 'two_or_more_stories', 'garage_1_or_more', 'garage_2_or_more', 'corner_lot', 'furniture', 'ensuite', 'park', 'groundscare', 'shopping']\": 5, \"['central_air', 'disability_features', 'dishwasher', 'single_story', 'garage_1_or_more', 'fenced_yard']\": 5, \"['central_air', 'disability_features', 'forced_air', 'single_story', 'garage_1_or_more', 'garage_2_or_more', 'floor_plan', 'no_hoa', 'front_porch', 'outbuilding', 'big_lot', 'farm', 'ranch', 'new_roof']\": 5, \"['central_air', 'two_or_more_stories', 'garage_1_or_more', 'garage_2_or_more', 'master_bedroom', 'open_floor_plan', 'floor_plan', 'corner_lot', 'front_porch', 'large_porch', 'big_lot', 'groundscare']\": 5, \"['central_air', 'dining_room', 'dishwasher', 'forced_air', 'basement', 'two_or_more_stories', 'garage_1_or_more', 'fenced_yard', 'shopping']\": 5, \"['central_air', 'disability_features', 'dishwasher', 'forced_air', 'basement', 'single_story', 'garage_1_or_more', 'updated_kitchen', 'modern_kitchen', 'large_kitchen']\": 5, \"['central_air', 'forced_air', 'two_or_more_stories', 'garage_1_or_more', 'ensuite', 'shopping']\": 5, \"['central_air', 'central_heat', 'dishwasher', 'recreation_facilities', 'washer_dryer', 'community_swimming_pool', 'basement', 'two_or_more_stories', 'garage_1_or_more', 'garage_2_or_more', 'fenced_yard', 'shopping']\": 5, \"['central_air', 'dining_room', 'disability_features', 'dishwasher', 'family_room', 'fireplace', 'forced_air', 'hardwood_floors', 'recreation_facilities', 'view', 'washer_dryer', 'water_view', 'two_or_more_stories', 'waterfront', 'gourmet_kitchen', 'ensuite', 'views']\": 5, \"['central_air', 'forced_air', 'basement', 'single_story', 'no_hoa', 'shopping']\": 5, \"['central_air', 'dining_room', 'disability_features', 'dishwasher', 'fireplace', 'washer_dryer', 'two_or_more_stories', 'garage_1_or_more', 'garage_2_or_more', 'big_lot', 'new_roof']\": 5, \"['carport', 'central_air', 'basement', 'single_story', 'updated_kitchen', 'fenced_yard', 'groundscare', 'shopping']\": 5, \"['central_air', 'dishwasher', 'forced_air', 'recreation_facilities', 'washer_dryer', 'community_swimming_pool', 'single_story', 'updated_kitchen', 'tennis_court', 'rental_property', 'playground', 'tennis', 'shopping']\": 5, \"['central_air', 'dishwasher', 'forced_air', 'basement', 'two_or_more_stories', 'garage_1_or_more', 'rental_property', 'medicalcare', 'shopping']\": 5, \"['central_air', 'central_heat', 'dishwasher', 'recreation_facilities', 'community_swimming_pool', 'basement', 'two_or_more_stories', 'open_floor_plan', 'floor_plan', 'efficient', 'community_center', 'medicalcare']\": 5, \"['dining_room', 'dishwasher', 'hardwood_floors', 'washer_dryer', 'basement', 'two_or_more_stories', 'garage_1_or_more', 'floor_plan', 'new_roof', 'groundscare']\": 5, \"['central_air', 'dining_room', 'dishwasher', 'forced_air', 'hardwood_floors', 'basement', 'two_or_more_stories', 'garage_1_or_more', 'park', 'shopping']\": 5, \"['central_air', 'forced_air', 'two_or_more_stories', 'garage_1_or_more', 'fenced_yard', 'new_roof', 'medicalcare', 'fixer_upper']\": 5, \"['carport', 'central_air', 'fireplace', 'forced_air', 'two_or_more_stories', 'garage_1_or_more', 'updated_kitchen', 'big_yard', 'cathedral_ceiling', 'master_bedroom', 'open_floor_plan', 'floor_plan']\": 5, \"['central_air', 'forced_air', 'two_or_more_stories', 'garage_1_or_more', 'garage_2_or_more', 'front_porch']\": 5, \"['central_air', 'forced_air', 'basement', 'two_or_more_stories', 'garage_1_or_more', 'efficient']\": 5, \"['central_air', 'central_heat', 'forced_air', 'basement', 'two_or_more_stories', 'private_backyard', 'private_bathroom', 'big_lot', 'beach', 'shopping']\": 5, \"['central_air', 'dining_room', 'disability_features', 'dishwasher', 'fireplace', 'forced_air', 'basement', 'single_story', 'garage_1_or_more', 'garage_2_or_more', 'garage_3_or_more', 'open_floor_plan', 'floor_plan']\": 5, \"['central_air', 'central_heat', 'dining_room', 'basement', 'two_or_more_stories', 'fixer_upper']\": 5, \"['central_air', 'disability_features', 'forced_air', 'single_story', 'big_lot', 'maintenance']\": 5, \"['central_air', 'dishwasher', 'forced_air', 'recreation_facilities', 'washer_dryer', 'community_swimming_pool', 'two_or_more_stories', 'updated_kitchen', 'rental_property', 'park', 'shopping']\": 5, \"['central_air', 'forced_air', 'basement', 'two_or_more_stories', 'garage_1_or_more', 'modern_kitchen', 'large_kitchen', 'big_yard', 'beautiful_backyard', 'high_ceiling', 'cathedral_ceiling', 'master_bedroom', 'new_roof']\": 5, \"['central_air', 'dishwasher', 'forced_air', 'recreation_facilities', 'senior_community', 'washer_dryer', 'community_swimming_pool', 'single_story', 'garage_1_or_more', 'garage_2_or_more', 'corner_lot', 'screen_porch', 'pond', 'smart_homes', 'shopping']\": 5, \"['basement', 'two_or_more_stories', 'modern_kitchen', 'rental_property']\": 5, \"['central_air', 'dishwasher', 'fireplace', 'forced_air', 'basement', 'single_story', 'big_yard', 'farm', 'ranch']\": 5, \"['central_air', 'dining_room', 'dishwasher', 'fireplace', 'forced_air', 'basement', 'two_or_more_stories', 'garage_1_or_more', 'garage_2_or_more', 'big_bathroom', 'well_water']\": 5, \"['central_air', 'dishwasher', 'forced_air', 'hardwood_floors', 'recreation_facilities', 'senior_community', 'community_swimming_pool', 'single_story', 'garage_1_or_more', 'waterfront', 'updated_kitchen']\": 5, \"['central_air', 'dining_room', 'dishwasher', 'family_room', 'fireplace', 'forced_air', 'washer_dryer', 'basement', 'single_story', 'garage_1_or_more', 'garage_2_or_more', 'updated_kitchen', 'floor_plan', 'farm', 'ranch']\": 5, \"['central_air', 'forced_air', 'swimming_pool', 'basement', 'two_or_more_stories', 'garage_1_or_more', 'garage_2_or_more', 'no_hoa', 'solar_system', 'solar_panels', 'shopping']\": 5, \"['central_air', 'central_heat', 'dining_room', 'dishwasher', 'fireplace', 'two_or_more_stories', 'big_bathroom', 'ensuite', 'maintenance', 'medicalcare', 'shopping']\": 5, \"['carport', 'central_air', 'central_heat', 'community_outdoor_space', 'dining_room', 'dishwasher', 'hardwood_floors', 'lake_view', 'view', 'washer_dryer', 'water_view', 'two_or_more_stories', 'waterfront', 'modern_kitchen', 'open_kitchen', 'large_porch', 'lake']\": 5, \"['central_air', 'central_heat', 'community_outdoor_space', 'dining_room', 'dishwasher', 'single_story', 'garage_1_or_more', 'garage_2_or_more', 'fenced_yard', 'high_ceiling', 'fixer_upper']\": 5, \"['central_air', 'central_heat', 'community_outdoor_space', 'dishwasher', 'fireplace', 'hardwood_floors', 'recreation_facilities', 'washer_dryer', 'single_story', 'garage_1_or_more', 'garage_2_or_more', 'big_yard', 'fenced_yard', 'master_bedroom', 'floor_plan', 'ensuite', 'park', 'shopping']\": 5, \"['community_outdoor_space', 'dining_room', 'fireplace', 'hardwood_floors', 'single_story', 'rental_property', 'big_lot', 'fixer_upper']\": 5, \"['central_air', 'central_heat', 'community_outdoor_space', 'dishwasher', 'recreation_facilities', 'washer_dryer', 'two_or_more_stories']\": 5, \"['central_air', 'central_heat', 'community_outdoor_space', 'dining_room', 'dishwasher', 'fireplace', 'recreation_facilities', 'community_swimming_pool', 'single_story', 'garage_1_or_more', 'garage_2_or_more', 'trails']\": 5, \"['dining_room', 'dishwasher', 'family_room', 'fireplace', 'single_story', 'garage_1_or_more', 'garage_2_or_more']\": 5, \"['central_air', 'central_heat', 'community_outdoor_space', 'dining_room', 'dishwasher', 'recreation_facilities', 'washer_dryer', 'single_story', 'garage_1_or_more', 'garage_2_or_more', 'floor_plan', 'new_roof', 'playground', 'shopping']\": 5, \"['central_air', 'central_heat', 'dining_room', 'dishwasher', 'fireplace', 'hardwood_floors', 'washer_dryer', 'single_story', 'garage_1_or_more', 'garage_2_or_more', 'private_backyard', 'vaulted_ceiling', 'floor_plan', 'front_porch', 'big_lot']\": 5, \"['central_air', 'community_outdoor_space', 'dining_room', 'dishwasher', 'hardwood_floors', 'two_or_more_stories', 'garage_1_or_more', 'garage_2_or_more', 'open_floor_plan', 'floor_plan', 'front_porch', 'fenced_courtyard', 'shopping']\": 5, \"['central_air', 'central_heat', 'community_outdoor_space', 'dining_room', 'dishwasher', 'family_room', 'fireplace', 'single_story', 'garage_1_or_more', 'garage_2_or_more', 'big_yard', 'fenced_yard', 'vaulted_ceiling', 'master_bedroom', 'new_roof']\": 5, \"['central_air', 'central_heat', 'community_outdoor_space', 'dining_room', 'dishwasher', 'fireplace', 'hardwood_floors', 'swimming_pool', 'single_story', 'garage_1_or_more', 'garage_2_or_more', 'updated_kitchen', 'shopping']\": 5, \"['central_air', 'central_heat', 'community_outdoor_space', 'dining_room', 'dishwasher', 'family_room', 'fireplace', 'hardwood_floors', 'washer_dryer', 'single_story', 'updated_kitchen', 'shopping']\": 5, \"['central_air', 'central_heat', 'community_outdoor_space', 'dishwasher', 'fireplace', 'hardwood_floors', 'single_story', 'garage_1_or_more', 'garage_2_or_more', 'high_ceiling', 'master_bedroom', 'floor_plan', 'ensuite']\": 5, \"['single_story', 'investment_opportunity']\": 5, \"['carport', 'central_air', 'central_heat', 'family_room', 'hardwood_floors', 'single_story', 'big_yard', 'fenced_yard', 'rental_property', 'fixer_upper']\": 5, \"['central_air', 'central_heat', 'community_outdoor_space', 'dining_room', 'dishwasher', 'family_room', 'fireplace', 'hardwood_floors', 'swimming_pool', 'single_story', 'garage_1_or_more', 'garage_2_or_more', 'open_floor_plan', 'floor_plan', 'new_roof']\": 5, \"['central_air', 'central_heat', 'community_clubhouse', 'community_outdoor_space', 'dining_room', 'dishwasher', 'hardwood_floors', 'recreation_facilities', 'washer_dryer', 'community_swimming_pool', 'two_or_more_stories', 'garage_1_or_more', 'garage_2_or_more', 'high_ceiling', 'floor_plan', 'master_suite', 'tennis_court', 'community_center', 'golf_course', 'tennis']\": 5, \"['lake_view', 'view', 'water_view', 'waterfront', 'lake']\": 5, \"['central_air', 'central_heat', 'community_outdoor_space', 'dining_room', 'dishwasher', 'two_or_more_stories', 'new_roof', 'shopping']\": 5, \"['central_air', 'central_heat', 'community_clubhouse', 'community_outdoor_space', 'dining_room', 'dishwasher', 'recreation_facilities', 'washer_dryer', 'two_or_more_stories', 'community_swimming_pool', 'basketball_court', 'investment_opportunity', 'clubhouse', 'basketball', 'hoa', 'maintenance', 'shopping']\": 5, \"['central_air', 'central_heat', 'community_outdoor_space', 'dining_room', 'dishwasher', 'family_room', 'fireplace', 'washer_dryer', 'two_or_more_stories', 'garage_1_or_more', 'garage_2_or_more', 'fenced_yard', 'vaulted_ceiling']\": 5, \"['carport', 'central_air', 'central_heat', 'community_outdoor_space', 'dining_room', 'single_story']\": 5, \"['carport', 'central_air', 'central_heat', 'community_outdoor_space', 'dining_room', 'dishwasher', 'fireplace', 'washer_dryer', 'single_story', 'master_bedroom', 'farm', 'ranch', 'groundscare']\": 5, \"['dining_room', 'washer_dryer', 'single_story', 'fenced_yard', 'floor_plan', 'fixer_upper']\": 5, \"['central_air', 'central_heat', 'community_outdoor_space', 'dining_room', 'dishwasher', 'hardwood_floors', 'washer_dryer', 'single_story', 'garage_1_or_more', 'garage_2_or_more', 'vaulted_ceiling', 'screen_porch', 'shopping']\": 5, \"['central_air', 'central_heat', 'community_outdoor_space', 'dishwasher', 'family_room', 'fireplace', 'single_story', 'garage_1_or_more', 'garage_2_or_more', 'updated_kitchen', 'corner_lot', 'new_roof', 'golf_course', 'shopping']\": 5, \"['central_air', 'central_heat', 'community_security_features', 'recreation_facilities', 'shopping']\": 5, \"['central_air', 'central_heat', 'community_outdoor_space', 'community_security_features', 'dishwasher', 'fireplace', 'hardwood_floors', 'washer_dryer', 'single_story', 'garage_1_or_more', 'garage_2_or_more', 'garage_3_or_more', 'coffer_ceiling', 'floor_plan', 'big_lot', 'gated_community', 'security']\": 5, \"['central_air', 'central_heat', 'community_outdoor_space', 'dishwasher', 'recreation_facilities', 'washer_dryer', 'two_or_more_stories', 'big_yard', 'shopping']\": 5, \"['central_air', 'central_heat', 'community_outdoor_space', 'dining_room', 'dishwasher', 'fireplace', 'washer_dryer', 'single_story', 'floor_plan', 'outbuilding', 'big_lot', 'new_roof']\": 5, \"['carport', 'central_air', 'central_heat', 'fireplace', 'single_story', 'corner_lot', 'rental_property', 'big_lot', 'park', 'golf_course']\": 5, \"['central_air', 'central_heat', 'community_outdoor_space', 'dining_room', 'dishwasher', 'fireplace', 'washer_dryer', 'single_story', 'garage_1_or_more', 'garage_2_or_more', 'modern_kitchen', 'large_kitchen', 'big_yard', 'private_backyard', 'master_bedroom', 'open_floor_plan', 'floor_plan', 'front_porch', 'solar_system', 'solar_panels']\": 5, \"['central_air', 'central_heat', 'community_outdoor_space', 'dining_room', 'dishwasher', 'energy_efficient', 'two_or_more_stories', 'master_bathroom', 'master_suite', 'front_porch', 'big_lot', 'ensuite', 'shopping']\": 5, \"['central_air', 'central_heat', 'dishwasher', 'fireplace', 'hardwood_floors', 'single_story', 'garage_1_or_more', 'garage_2_or_more', 'master_bathroom', 'floor_plan']\": 5, \"['central_air', 'central_heat', 'community_outdoor_space', 'dishwasher', 'fireplace', 'single_story', 'garage_1_or_more', 'garage_2_or_more', 'updated_kitchen', 'big_yard', 'fenced_yard']\": 5, \"['central_air', 'central_heat', 'community_security_features', 'corner_lot', 'den_or_office', 'dishwasher', 'family_room', 'fireplace', 'hardwood_floors', 'laundry_room', 'recreation_facilities', 'community_swimming_pool', 'swimming_pool', 'single_story', 'rental_property', 'park', 'trails', 'maintenance', 'shopping']\": 5, \"['central_air', 'community_outdoor_space', 'community_security_features', 'dishwasher', 'energy_efficient', 'family_room', 'fireplace', 'hardwood_floors', 'laundry_room', 'washer_dryer', 'two_or_more_stories', 'garage_1_or_more', 'garage_2_or_more']\": 5, \"['cul_de_sac', 'river_view', 'view', 'water_view', 'big_lot', 'new_roof', 'shopping']\": 5, \"['central_air', 'community_outdoor_space', 'community_security_features', 'hardwood_floors', 'laundry_room', 'washer_dryer', 'single_story', 'ensuite', 'lake']\": 5, \"['central_air', 'central_heat', 'community_clubhouse', 'community_gym', 'community_outdoor_space', 'community_security_features', 'dishwasher', 'laundry_room', 'recreation_facilities', 'single_story', 'updated_kitchen', 'floor_plan']\": 5, \"['central_air', 'community_clubhouse', 'community_gym', 'community_outdoor_space', 'community_security_features', 'community_tennis_court', 'dishwasher', 'family_room', 'fireplace', 'forced_air', 'hardwood_floors', 'laundry_room', 'recreation_facilities', 'tennis_court', 'two_or_more_stories', 'garage_1_or_more', 'community_swimming_pool', 'master_bedroom', 'clubhouse', 'tennis', 'shopping']\": 5, \"['corner_lot', 'fireplace', 'laundry_room', 'recreation_facilities', 'basement', 'single_story', 'farm', 'investment_opportunity']\": 5, \"['central_air', 'central_heat', 'community_outdoor_space', 'community_security_features', 'dishwasher', 'family_room', 'hardwood_floors', 'laundry_room', 'recreation_facilities', 'washer_dryer', 'basement', 'single_story']\": 5, \"['central_air', 'central_heat', 'community_tennis_court', 'fireplace', 'hardwood_floors', 'laundry_room', 'recreation_facilities', 'washer_dryer', 'single_story', 'big_yard', 'fenced_yard', 'front_porch', 'views']\": 5, \"['central_air', 'central_heat', 'city_view', 'community_outdoor_space', 'community_tennis_court', 'corner_lot', 'den_or_office', 'dishwasher', 'family_room', 'fireplace', 'forced_air', 'game_room', 'hardwood_floors', 'laundry_room', 'recreation_facilities', 'tennis_court', 'view', 'community_swimming_pool', 'basement', 'two_or_more_stories', 'garage_1_or_more', 'garage_2_or_more', 'fenced_yard', 'open_floor_plan', 'floor_plan', 'media_room', 'ensuite']\": 5, \"['central_air', 'central_heat', 'city_view', 'community_outdoor_space', 'community_security_features', 'dishwasher', 'forced_air', 'hardwood_floors', 'laundry_room', 'recreation_facilities', 'view', 'single_story', 'updated_kitchen', 'high_ceiling']\": 5, \"['hardwood_floors', 'laundry_room', 'recreation_facilities', 'basement', 'single_story', 'fixer_upper']\": 5, \"['central_air', 'city_view', 'community_outdoor_space', 'community_security_features', 'dishwasher', 'family_room', 'fireplace', 'forced_air', 'hardwood_floors', 'laundry_room', 'recreation_facilities', 'view', 'community_swimming_pool', 'basement', 'two_or_more_stories', 'garage_1_or_more', 'garage_2_or_more', 'gourmet_kitchen', 'high_ceiling', 'media_room', 'tennis', 'shopping']\": 5, \"['central_air', 'central_heat', 'community_outdoor_space', 'community_security_features', 'corner_lot', 'dishwasher', 'energy_efficient', 'family_room', 'fireplace', 'hardwood_floors', 'laundry_room', 'basement', 'two_or_more_stories', 'garage_1_or_more', 'garage_2_or_more', 'efficient']\": 5, \"['central_air', 'central_heat', 'city_view', 'community_gym', 'community_outdoor_space', 'community_security_features', 'dishwasher', 'hardwood_floors', 'laundry_room', 'recreation_facilities', 'view', 'community_swimming_pool', 'single_story', 'garage_1_or_more', 'updated_kitchen', 'guest_parking', 'farm']\": 5, \"['central_air', 'central_heat', 'city_view', 'community_outdoor_space', 'community_security_features', 'den_or_office', 'dining_room', 'dishwasher', 'fireplace', 'hardwood_floors', 'laundry_room', 'view', 'basement', 'two_or_more_stories', 'garage_1_or_more', 'garage_2_or_more', 'front_porch', 'big_lot', 'golf_course']\": 5, \"['central_air', 'central_heat', 'community_security_features', 'dishwasher', 'laundry_room', 'recreation_facilities', 'basement', 'two_or_more_stories', 'gated_community', 'security']\": 5, \"['central_air', 'city_view', 'community_outdoor_space', 'cul_de_sac', 'den_or_office', 'dishwasher', 'family_room', 'fireplace', 'forced_air', 'hardwood_floors', 'laundry_room', 'view', 'washer_dryer', 'swimming_pool', 'basement', 'single_story', 'garage_1_or_more', 'garage_2_or_more', 'medicalcare']\": 5, \"['central_air', 'city_view', 'community_outdoor_space', 'community_security_features', 'den_or_office', 'dishwasher', 'family_room', 'fireplace', 'forced_air', 'hardwood_floors', 'laundry_room', 'recreation_facilities', 'view', 'washer_dryer', 'two_or_more_stories', 'garage_1_or_more', 'garage_2_or_more']\": 5, \"['central_air', 'central_heat', 'city_view', 'dishwasher', 'laundry_room', 'view', 'single_story', 'modern_kitchen', 'shopping']\": 5, \"['central_air', 'central_heat', 'city_view', 'community_clubhouse', 'community_gym', 'community_outdoor_space', 'community_security_features', 'den_or_office', 'dishwasher', 'hardwood_floors', 'laundry_room', 'recreation_facilities', 'view', 'community_swimming_pool', 'single_story', 'garage_1_or_more', 'garage_2_or_more', 'garage_3_or_more', 'guest_parking', 'elevator', 'views', 'shopping']\": 5, \"['community_outdoor_space', 'community_security_features', 'corner_lot', 'cul_de_sac', 'dishwasher', 'family_room', 'fireplace', 'hardwood_floors', 'laundry_room', 'washer_dryer', 'basement', 'two_or_more_stories', 'garage_1_or_more', 'garage_2_or_more', 'fenced_yard', 'open_floor_plan', 'floor_plan', 'ensuite', 'shopping']\": 5, \"['central_air', 'city_view', 'community_outdoor_space', 'community_security_features', 'den_or_office', 'dishwasher', 'energy_efficient', 'family_room', 'fireplace', 'forced_air', 'hardwood_floors', 'laundry_room', 'recreation_facilities', 'view', 'washer_dryer', 'two_or_more_stories', 'garage_1_or_more', 'garage_2_or_more']\": 5, \"['central_air', 'central_heat', 'city_view', 'community_gym', 'community_security_features', 'den_or_office', 'dishwasher', 'hardwood_floors', 'laundry_room', 'recreation_facilities', 'view', 'washer_dryer', 'two_or_more_stories', 'garage_1_or_more', 'garage_2_or_more', 'garage_3_or_more', 'elevator', 'ensuite', 'smart_homes', 'groundscare']\": 5, \"['central_air', 'community_outdoor_space', 'community_security_features', 'den_or_office', 'dishwasher', 'energy_efficient', 'family_room', 'fireplace', 'forced_air', 'game_room', 'hardwood_floors', 'laundry_room', 'basement', 'two_or_more_stories', 'garage_1_or_more', 'garage_2_or_more', 'master_bedroom', 'floor_plan', 'gated_community', 'security', 'shopping']\": 5, \"['central_air', 'central_heat', 'community_tennis_court', 'hardwood_floors', 'recreation_facilities', 'single_story', 'rental_property', 'shopping']\": 5, \"['central_air', 'central_heat', 'city_view', 'community_gym', 'community_security_features', 'corner_lot', 'laundry_room', 'recreation_facilities', 'tennis_court', 'view', 'swimming_pool', 'two_or_more_stories', 'park', 'fixer_upper']\": 5, \"['central_air', 'central_heat', 'community_outdoor_space', 'community_security_features', 'cul_de_sac', 'dishwasher', 'family_room', 'fireplace', 'hardwood_floors', 'laundry_room', 'recreation_facilities', 'washer_dryer', 'basement', 'two_or_more_stories']\": 5, \"['central_air', 'city_view', 'community_clubhouse', 'community_gym', 'community_outdoor_space', 'community_security_features', 'dishwasher', 'energy_efficient', 'hardwood_floors', 'hill_or_mountain_view', 'laundry_room', 'recreation_facilities', 'view', 'washer_dryer', 'community_swimming_pool', 'single_story', 'garage_1_or_more', 'garage_2_or_more', 'floor_plan', 'ensuite', 'clubhouse', 'park', 'golf_course', 'tennis', 'views', 'medicalcare', 'shopping']\": 5, \"['community_outdoor_space', 'dining_room', 'dishwasher', 'fireplace', 'laundry_room', 'recreation_facilities', 'washer_dryer', 'community_swimming_pool', 'two_or_more_stories', 'gourmet_kitchen', 'master_suite', 'park', 'shopping']\": 5, \"['central_air', 'community_outdoor_space', 'community_security_features', 'dishwasher', 'fireplace', 'hardwood_floors', 'laundry_room', 'washer_dryer', 'single_story', 'fenced_yard', 'front_porch', 'new_roof']\": 5, \"['central_air', 'central_heat', 'city_view', 'community_clubhouse', 'community_gym', 'community_security_features', 'dishwasher', 'forced_air', 'hardwood_floors', 'laundry_room', 'recreation_facilities', 'view', 'washer_dryer', 'two_or_more_stories', 'garage_1_or_more', 'master_bedroom', 'open_floor_plan', 'floor_plan', 'elevator', 'ensuite', 'golf_course']\": 5, \"['central_air', 'central_heat', 'city_view', 'community_clubhouse', 'community_gym', 'community_security_features', 'dishwasher', 'energy_efficient', 'family_room', 'forced_air', 'hardwood_floors', 'laundry_room', 'recreation_facilities', 'view', 'washer_dryer', 'community_swimming_pool', 'single_story', 'garage_1_or_more', 'garage_2_or_more', 'high_ceiling', 'master_bathroom', 'master_bedroom', 'open_floor_plan', 'floor_plan', 'master_suite', 'shopping']\": 5, \"['city_view', 'community_clubhouse', 'community_gym', 'community_outdoor_space', 'community_security_features', 'community_spa_or_hot_tub', 'dishwasher', 'hardwood_floors', 'laundry_room', 'recreation_facilities', 'tennis_court', 'view', 'washer_dryer', 'community_swimming_pool', 'single_story', 'basement', 'floor_plan', 'wine_cellar', 'elevator', 'park']\": 5, \"['dishwasher', 'fireplace', 'laundry_room', 'two_or_more_stories', 'master_bedroom', 'open_floor_plan', 'floor_plan', 'ensuite']\": 5, \"['central_air', 'community_outdoor_space', 'community_security_features', 'dishwasher', 'fireplace', 'laundry_room', 'tennis_court', 'washer_dryer', 'two_or_more_stories', 'garage_1_or_more', 'open_floor_plan', 'floor_plan', 'rental_property', 'ensuite', 'gated_community', 'trails', 'hoa', 'groundscare', 'security', 'shopping']\": 5, \"['community_outdoor_space', 'fireplace', 'laundry_room', 'recreation_facilities', 'single_story', 'fixer_upper']\": 5, \"['central_air', 'central_heat', 'community_outdoor_space', 'community_security_features', 'dishwasher', 'family_room', 'fireplace', 'hardwood_floors', 'laundry_room', 'washer_dryer', 'two_or_more_stories', 'ensuite', 'shopping']\": 5, \"['central_air', 'dishwasher', 'forced_air', 'basement', 'two_or_more_stories']\": 5, \"['central_air', 'community_outdoor_space', 'dishwasher', 'fireplace', 'forced_air', 'basement', 'two_or_more_stories', 'garage_1_or_more', 'garage_2_or_more', 'garage_3_or_more', 'new_roof', 'trails', 'lake']\": 5, \"['family_room', 'forced_air', 'basement', 'two_or_more_stories', 'garage_1_or_more']\": 5, \"['central_air', 'forced_air', 'basement', 'two_or_more_stories', 'big_yard']\": 5, \"['central_air', 'community_outdoor_space', 'forced_air', 'hardwood_floors', 'washer_dryer', 'basement', 'garage_1_or_more', 'garage_2_or_more', 'updated_kitchen', 'front_porch']\": 5, \"['central_air', 'community_outdoor_space', 'dishwasher', 'family_room', 'fireplace', 'forced_air', 'hardwood_floors', 'laundry_room', 'basement', 'garage_1_or_more', 'garage_2_or_more', 'updated_kitchen', 'big_lot', 'farm', 'ranch', 'groundscare']\": 5, \"['community_gym', 'community_spa_or_hot_tub', 'dishwasher', 'forced_air', 'laundry_room', 'recreation_facilities', 'washer_dryer', 'garage_1_or_more', 'modern_kitchen', 'large_kitchen', 'open_floor_plan', 'floor_plan', 'rental_property', 'views', 'hoa']\": 5, \"['central_air', 'community_clubhouse', 'community_outdoor_space', 'community_tennis_court', 'dishwasher', 'recreation_facilities', 'tennis_court', 'swimming_pool', 'two_or_more_stories', 'garage_1_or_more', 'garage_2_or_more', 'private_parking', 'hoa']\": 5, \"['central_air', 'community_outdoor_space', 'dishwasher', 'forced_air', 'washer_dryer', 'basement', 'garage_1_or_more', 'garage_2_or_more', 'two_or_more_stories', 'basketball_court', 'fenced_yard', 'tennis_court', 'tennis', 'soccer', 'basketball']\": 5, \"['community_outdoor_space', 'disability_features', 'forced_air', 'hardwood_floors', 'laundry_room', 'washer_dryer', 'basement', 'single_story', 'fenced_yard', 'new_roof']\": 5, \"['central_air', 'dishwasher', 'forced_air', 'two_or_more_stories', 'garage_1_or_more', 'master_bedroom', 'park', 'trails', 'shopping']\": 5, \"['central_air', 'community_outdoor_space', 'family_room', 'fireplace', 'forced_air', 'basement', 'garage_1_or_more', 'garage_2_or_more', 'single_story', 'master_bedroom', 'farm', 'ranch', 'new_roof']\": 5, \"['central_air', 'forced_air', 'basement', 'garage_1_or_more', 'garage_2_or_more', 'single_story', 'big_lot', 'farm', 'ranch', 'playground', 'shopping']\": 5, \"['central_air', 'community_outdoor_space', 'dishwasher', 'family_room', 'forced_air', 'hardwood_floors', 'basement', 'two_or_more_stories']\": 5, \"['central_air', 'community_outdoor_space', 'dishwasher', 'forced_air', 'hardwood_floors', 'washer_dryer', 'basement', 'garage_1_or_more', 'fenced_yard', 'farm', 'ranch']\": 5, \"['central_air', 'family_room', 'fireplace', 'forced_air', 'basement', 'two_or_more_stories', 'garage_1_or_more', 'private_backyard']\": 5, \"['central_air', 'forced_air', 'basement', 'garage_1_or_more', 'fenced_yard', 'big_lot', 'farm', 'ranch']\": 5, \"['central_air', 'forced_air', 'basement', 'garage_1_or_more', 'farm', 'ranch']\": 5, \"['central_air', 'community_outdoor_space', 'dishwasher', 'family_room', 'forced_air', 'hardwood_floors', 'washer_dryer', 'basement', 'two_or_more_stories', 'garage_1_or_more', 'garage_2_or_more', 'updated_kitchen', 'open_house', 'new_roof', 'park', 'trails']\": 5, \"['central_air', 'dishwasher', 'forced_air', 'washer_dryer', 'basement', 'garage_1_or_more', 'single_story', 'fenced_yard', 'master_bedroom', 'golf_course']\": 5, \"['central_air', 'community_clubhouse', 'community_gym', 'community_outdoor_space', 'community_spa_or_hot_tub', 'disability_features', 'dishwasher', 'fireplace', 'recreation_facilities', 'community_swimming_pool', 'swimming_pool', 'basement', 'garage_1_or_more', 'elevator', 'hoa', 'maintenance']\": 5, \"['central_air', 'community_outdoor_space', 'dishwasher', 'fireplace', 'forced_air', 'hardwood_floors', 'laundry_room', 'basement', 'two_or_more_stories', 'new_roof']\": 5, \"['central_air', 'dishwasher', 'fireplace', 'forced_air', 'laundry_room', 'washer_dryer', 'basement', 'two_or_more_stories', 'garage_1_or_more', 'garage_2_or_more', 'modern_kitchen', 'large_kitchen', 'floor_plan', 'master_suite']\": 5, \"['central_air', 'corner_lot', 'forced_air', 'laundry_room', 'basement', 'garage_1_or_more', 'garage_2_or_more', 'two_or_more_stories', 'rental_property', 'handicap_access']\": 5, \"['carport', 'central_air', 'dishwasher', 'family_room', 'forced_air', 'hardwood_floors', 'washer_dryer', 'basement', 'garage_1_or_more', 'fenced_yard', 'new_roof']\": 5, \"['central_air', 'community_outdoor_space', 'dishwasher', 'family_room', 'forced_air', 'hardwood_floors', 'washer_dryer', 'basement', 'garage_1_or_more', 'fenced_yard', 'farm', 'ranch', 'new_roof', 'shopping']\": 5, \"['dishwasher', 'family_room', 'hardwood_floors', 'basement', 'garage_1_or_more', 'garage_2_or_more', 'corner_lot', 'farm', 'ranch']\": 5, \"['central_air', 'community_outdoor_space', 'dishwasher', 'family_room', 'forced_air', 'washer_dryer', 'basement', 'two_or_more_stories', 'garage_1_or_more', 'updated_kitchen', 'fenced_yard', 'big_lot', 'new_roof', 'groundscare']\": 5, \"['central_air', 'community_outdoor_space', 'dishwasher', 'forced_air', 'basement', 'two_or_more_stories', 'garage_1_or_more', 'garage_2_or_more', 'updated_kitchen', 'fenced_yard', 'big_lot']\": 5, \"['carport', 'community_outdoor_space', 'family_room', 'fireplace', 'forced_air', 'hardwood_floors', 'washer_dryer', 'basement', 'farm', 'ranch']\": 5, \"['central_air', 'community_outdoor_space', 'dishwasher', 'family_room', 'fireplace', 'forced_air', 'laundry_room', 'basement', 'two_or_more_stories', 'garage_1_or_more', 'garage_2_or_more', 'ensuite', 'park', 'shopping']\": 5, \"['central_air', 'community_outdoor_space', 'dishwasher', 'family_room', 'fireplace', 'forced_air', 'hardwood_floors', 'basement', 'garage_1_or_more', 'garage_2_or_more']\": 5, \"['community_outdoor_space', 'disability_features', 'family_room', 'laundry_room', 'basement', 'single_story', 'big_yard', 'fenced_yard', 'front_porch', 'farm', 'ranch', 'groundscare']\": 5, \"['basement', 'central_air', 'community_outdoor_space', 'dishwasher', 'family_room', 'fireplace', 'forced_air', 'garage_1_or_more', 'garage_2_or_more', 'garage_3_or_more']\": 5, \"['central_air', 'community_outdoor_space', 'dishwasher', 'family_room', 'forced_air', 'hardwood_floors', 'laundry_room', 'washer_dryer', 'basement', 'two_or_more_stories', 'garage_1_or_more', 'garage_2_or_more', 'updated_kitchen', 'fenced_yard', 'library']\": 5, \"['central_air', 'community_outdoor_space', 'dishwasher', 'family_room', 'forced_air', 'laundry_room', 'washer_dryer', 'basement', 'updated_kitchen', 'new_roof']\": 5, \"['central_air', 'community_outdoor_space', 'corner_lot', 'forced_air', 'basement', 'wrap_around_porch', 'farm', 'ranch', 'fixer_upper']\": 5, \"['central_air', 'dishwasher', 'energy_efficient', 'forced_air', 'recreation_facilities', 'community_swimming_pool', 'single_story', 'garage_1_or_more', 'garage_2_or_more', 'basketball_court', 'floor_plan', 'master_suite', 'tennis_court', 'investment_opportunity', 'playground', 'tennis', 'volleyball', 'basketball']\": 5, \"['central_air', 'forced_air', 'single_story', 'garage_1_or_more', 'rv_parking', 'greenbelt']\": 5, \"['central_air', 'den_or_office', 'dining_room', 'dishwasher', 'fireplace', 'forced_air', 'hardwood_floors', 'recreation_facilities', 'community_swimming_pool', 'single_story', 'garage_1_or_more', 'garage_2_or_more', 'garage_3_or_more', 'fenced_yard', 'vaulted_ceiling', 'jack_and_jill_bathroom', 'farm', 'ranch', 'park', 'trails', 'greenbelt', 'shopping']\": 5, \"['central_air', 'city_view', 'community_outdoor_space', 'dishwasher', 'senior_community', 'view', 'single_story', 'garage_1_or_more', 'rental_property', 'efficient', 'farm', 'shopping']\": 5, \"['central_air', 'city_view', 'forced_air', 'recreation_facilities', 'rv_or_boat_parking', 'spa_or_hot_tub', 'view', 'single_story', 'big_lot', 'river_access', 'trails', 'greenbelt', 'shopping']\": 5, \"['central_air', 'dishwasher', 'family_room', 'forced_air', 'hardwood_floors', 'basement', 'single_story', 'garage_1_or_more', 'rental_property']\": 5, \"['central_air', 'cul_de_sac', 'dishwasher', 'family_room', 'fireplace', 'forced_air', 'hardwood_floors', 'recreation_facilities', 'spa_or_hot_tub', 'community_swimming_pool', 'two_or_more_stories', 'garage_1_or_more', 'garage_2_or_more', 'gourmet_kitchen', 'basketball_court', 'floor_plan', 'master_suite', 'tennis_court', 'park', 'golf_course', 'tennis', 'basketball', 'trails', 'greenbelt', 'views']\": 5, \"['central_air', 'den_or_office', 'dishwasher', 'family_room', 'fireplace', 'forced_air', 'hardwood_floors', 'basement', 'two_or_more_stories', 'garage_1_or_more', 'garage_2_or_more', 'ensuite', 'mountain_view', 'park', 'greenbelt']\": 5, \"['central_air', 'community_outdoor_space', 'dishwasher', 'fireplace', 'forced_air', 'recreation_facilities', 'view', 'community_swimming_pool', 'single_story', 'garage_1_or_more', 'garage_2_or_more', 'garage_3_or_more', 'gourmet_kitchen', 'high_ceiling', 'coffer_ceiling', 'floor_plan', 'master_suite', 'farm', 'ranch', 'mountain_view', 'park', 'trails', 'views']\": 5, \"['central_air', 'dishwasher', 'fireplace', 'forced_air', 'two_or_more_stories', 'garage_1_or_more', 'garage_2_or_more', 'garage_3_or_more', 'private_backyard', 'groundscare', 'shopping']\": 5, \"['central_air', 'community_outdoor_space', 'community_security_features', 'den_or_office', 'dishwasher', 'fireplace', 'forced_air', 'hardwood_floors', 'recreation_facilities', 'community_swimming_pool', 'single_story', 'garage_1_or_more', 'garage_2_or_more', 'vaulted_ceiling', 'ensuite', 'clubhouse', 'groundscare', 'maintenance']\": 5, \"['central_air', 'dishwasher', 'fireplace', 'forced_air', 'washer_dryer', 'single_story', 'garage_1_or_more', 'garage_2_or_more', 'waterfront', 'park', 'groundscare']\": 5, \"['carport', 'central_air', 'community_outdoor_space', 'corner_lot', 'dishwasher', 'forced_air', 'recreation_facilities', 'rv_or_boat_parking', 'single_story', 'modern_kitchen', 'large_kitchen', 'vaulted_ceiling', 'master_bedroom', 'open_floor_plan', 'floor_plan', 'big_lot']\": 5, \"['city_view', 'fireplace', 'laundry_room', 'view', 'washer_dryer', 'garage_1_or_more', 'garage_2_or_more', 'floor_plan', 'rental_property', 'efficient', 'ensuite', 'investment_opportunity']\": 5, \"['central_air', 'community_golf', 'community_outdoor_space', 'dishwasher', 'fireplace', 'golf_course_lot_or_frontage', 'golf_course_view', 'hardwood_floors', 'laundry_room', 'recreation_facilities', 'view', 'two_or_more_stories', 'garage_1_or_more', 'garage_2_or_more', 'golf_course', 'greenbelt', 'hoa', 'maintenance', 'shopping']\": 5, \"['fireplace', 'forced_air', 'single_story', 'garage_1_or_more', 'master_bedroom', 'shopping']\": 5, \"['central_air', 'community_outdoor_space', 'cul_de_sac', 'den_or_office', 'dining_room', 'dishwasher', 'family_room', 'fireplace', 'forced_air', 'hardwood_floors', 'spa_or_hot_tub', 'view', 'basement', 'single_story', 'garage_1_or_more', 'garage_2_or_more', 'high_ceiling', 'master_suite', 'big_lot', 'clubhouse']\": 5, \"['central_air', 'dishwasher', 'fireplace', 'forced_air', 'recreation_facilities', 'rv_or_boat_parking', 'single_story', 'garage_1_or_more', 'garage_2_or_more', 'modern_kitchen', 'open_kitchen', 'ensuite', 'trails', 'groundscare']\": 5, \"['carport', 'central_air', 'den_or_office', 'dining_room', 'dishwasher', 'fireplace', 'forced_air', 'hardwood_floors', 'two_or_more_stories', 'garage_1_or_more', 'garage_2_or_more', 'garage_3_or_more', 'open_floor_plan', 'floor_plan', 'new_roof', 'maintenance']\": 5, \"['central_air', 'community_outdoor_space', 'dishwasher', 'forced_air', 'recreation_facilities', 'rv_or_boat_parking', 'view', 'single_story', 'garage_1_or_more', 'garage_2_or_more', 'fenced_yard', 'rv_parking', 'greenbelt']\": 5, \"['central_air', 'corner_lot', 'dishwasher', 'family_room', 'fireplace', 'forced_air', 'two_or_more_stories', 'garage_1_or_more', 'garage_2_or_more', 'private_backyard', 'vaulted_ceiling', 'front_porch', 'solar_system', 'ensuite', 'solar_panels']\": 5, \"['central_air', 'community_outdoor_space', 'community_security_features', 'corner_lot', 'cul_de_sac', 'den_or_office', 'dining_room', 'dishwasher', 'fireplace', 'forced_air', 'view', 'single_story', 'garage_1_or_more', 'garage_2_or_more', 'garage_3_or_more', 'waterfront', 'gated_community', 'water_view', 'greenbelt', 'views', 'security']\": 5, \"['carport', 'central_air', 'city_view', 'dishwasher', 'family_room', 'fireplace', 'forced_air', 'view', 'basement', 'single_story', 'garage_1_or_more', 'rental_property']\": 5, \"['central_air', 'community_outdoor_space', 'den_or_office', 'dishwasher', 'family_room', 'fireplace', 'forced_air', 'spa_or_hot_tub', 'basement', 'two_or_more_stories', 'garage_1_or_more', 'garage_2_or_more', 'garage_3_or_more', 'gourmet_kitchen', 'vaulted_ceiling']\": 5, \"['laundry_room', 'washer_dryer', 'garage_1_or_more']\": 5, \"['central_air', 'city_view', 'dishwasher', 'forced_air', 'view', 'single_story', 'high_ceiling', 'new_roof', 'trails']\": 5, \"['central_air', 'dishwasher', 'family_room', 'fireplace', 'forced_air', 'recreation_facilities', 'rv_or_boat_parking', 'basement', 'two_or_more_stories', 'garage_1_or_more', 'garage_2_or_more', 'no_hoa', 'fruit_trees', 'rv_parking', 'big_lot', 'new_roof']\": 5, \"['city_view', 'view', 'single_story', 'rental_property', 'shopping']\": 5, \"['central_air', 'community_outdoor_space', 'cul_de_sac', 'dishwasher', 'forced_air', 'recreation_facilities', 'community_swimming_pool', 'single_story', 'garage_1_or_more', 'garage_2_or_more', 'big_yard', 'vaulted_ceiling', 'floor_plan', 'front_porch', 'tennis_court', 'ensuite', 'clubhouse', 'golf_course', 'tennis', 'trails']\": 5, \"['fireplace', 'forced_air', 'single_story', 'garage_1_or_more', 'garage_2_or_more']\": 5, \"['central_air', 'community_outdoor_space', 'corner_lot', 'dishwasher', 'forced_air', 'single_story', 'garage_1_or_more', 'garage_2_or_more', 'updated_kitchen', 'greenbelt', 'shopping']\": 5, \"['central_air', 'community_outdoor_space', 'corner_lot', 'den_or_office', 'dishwasher', 'fireplace', 'forced_air', 'recreation_facilities', 'view', 'community_swimming_pool', 'single_story', 'garage_1_or_more', 'garage_2_or_more', 'garage_3_or_more', 'high_ceiling', 'big_lot', 'farm', 'ranch', 'mountain_view', 'park', 'golf_course', 'trails', 'greenbelt', 'shopping']\": 5, \"['central_air', 'corner_lot', 'dining_room', 'dishwasher', 'family_room', 'fireplace', 'forced_air', 'hardwood_floors', 'washer_dryer', 'basement', 'single_story', 'garage_1_or_more', 'garage_2_or_more', 'groundscare']\": 5, \"['fireplace', 'single_story', 'garage_1_or_more', 'garage_2_or_more', 'high_ceiling', 'groundscare', 'shopping']\": 5, \"['carport', 'central_air', 'community_outdoor_space', 'dishwasher', 'family_room', 'forced_air', 'washer_dryer', 'single_story', 'modern_kitchen', 'open_kitchen', 'two_master_suites', 'master_suite', 'new_roof']\": 5, \"['central_air', 'dishwasher', 'forced_air', 'recreation_facilities', 'community_swimming_pool', 'single_story', 'garage_1_or_more', 'garage_2_or_more', 'tennis_court', 'open_house', 'tennis', 'hoa']\": 5, \"['central_air', 'den_or_office', 'dining_room', 'dishwasher', 'family_room', 'fireplace', 'forced_air', 'spa_or_hot_tub', 'washer_dryer', 'two_or_more_stories', 'garage_1_or_more', 'garage_2_or_more', 'garage_3_or_more', 'modern_kitchen', 'open_kitchen', 'private_backyard', 'floor_plan', 'investment_opportunity']\": 5, \"['laundry_room', 'recreation_facilities', 'rv_or_boat_parking', 'garage_1_or_more', 'fenced_yard', 'floor_plan', 'corner_lot', 'rv_parking', 'big_lot', 'new_roof']\": 5, \"['community_outdoor_space', 'dishwasher', 'fireplace', 'forced_air', 'hardwood_floors', 'washer_dryer', 'single_story', 'garage_1_or_more', 'garage_2_or_more', 'farm', 'ranch']\": 5, \"['central_air', 'family_room', 'laundry_room', 'basement', 'single_story', 'garage_1_or_more']\": 5, \"['central_air', 'forced_air', 'two_or_more_stories', 'garage_1_or_more', 'garage_2_or_more', 'floor_plan', 'fixer_upper']\": 5, \"['central_air', 'washer_dryer', 'basement', 'two_or_more_stories', 'front_porch', 'efficient']\": 5, \"['central_air', 'community_outdoor_space', 'dishwasher', 'fireplace', 'forced_air', 'laundry_room', 'washer_dryer', 'single_story', 'garage_1_or_more', 'garage_2_or_more', 'fenced_yard', 'cathedral_ceiling', 'master_suite', 'lake', 'hoa']\": 5, \"['cul_de_sac', 'two_or_more_stories']\": 5, \"['central_air', 'community_outdoor_space', 'fireplace', 'forced_air', 'laundry_room', 'single_story', 'garage_1_or_more', 'garage_2_or_more', 'garage_3_or_more', 'modern_kitchen', 'large_kitchen', 'big_yard', 'fenced_yard', 'farm', 'ranch', 'pond']\": 5, \"['central_air', 'community_outdoor_space', 'dishwasher', 'fireplace', 'forced_air', 'laundry_room', 'single_story', 'garage_1_or_more', 'garage_2_or_more', 'corner_lot']\": 5, \"['central_air', 'forced_air', 'hardwood_floors', 'washer_dryer', 'basement', 'single_story']\": 5, \"['basement', 'single_story']\": 5, \"['pets_allowed']\": 5, \"['central_air', 'dining_room', 'fireplace', 'forced_air', 'two_or_more_stories', 'garage_1_or_more', 'garage_2_or_more', 'community_swimming_pool', 'big_yard', 'fenced_yard', 'clubhouse']\": 5, \"['central_air', 'community_security_features', 'dining_room', 'fireplace', 'forced_air', 'hardwood_floors', 'lake_view', 'view', 'water_view', 'two_or_more_stories', 'garage_1_or_more', 'garage_2_or_more', 'waterfront', 'modern_kitchen', 'outdoor_kitchen', 'big_yard', 'cathedral_ceiling', 'master_bedroom', 'ensuite', 'pond', 'views']\": 5, \"['central_air', 'community_spa_or_hot_tub', 'dining_room', 'fireplace', 'lake_view', 'recreation_facilities', 'view', 'water_view', 'two_or_more_stories', 'garage_1_or_more', 'waterfront', 'vaulted_ceiling', 'pond', 'shopping']\": 5, \"['city_view', 'community_park', 'community_spa_or_hot_tub', 'den_or_office', 'dining_room', 'fireplace', 'forced_air', 'recreation_facilities', 'view', 'two_or_more_stories', 'garage_1_or_more', 'garage_2_or_more', 'big_yard', 'media_room', 'ensuite', 'park', 'golf_course', 'trails', 'shopping']\": 5, \"['central_air', 'fireplace', 'two_or_more_stories', 'garage_1_or_more', 'garage_2_or_more']\": 5, \"['basement', 'two_or_more_stories', 'garage_1_or_more', 'garage_2_or_more', 'fixer_upper']\": 5, \"['central_air', 'city_view', 'community_spa_or_hot_tub', 'dining_room', 'energy_efficient', 'fireplace', 'forced_air', 'recreation_facilities', 'view', 'single_story', 'garage_1_or_more', 'garage_2_or_more', 'floor_plan', 'ensuite']\": 5, \"['central_air', 'community_spa_or_hot_tub', 'dining_room', 'family_room', 'fireplace', 'forced_air', 'golf_course_view', 'recreation_facilities', 'view', 'basement', 'two_or_more_stories', 'garage_1_or_more', 'garage_2_or_more', 'modern_kitchen', 'large_kitchen', 'big_yard', 'high_ceiling', 'master_bedroom', 'golf_course']\": 5, \"['central_air', 'community_spa_or_hot_tub', 'dining_room', 'family_room', 'forced_air', 'recreation_facilities', 'two_or_more_stories', 'garage_1_or_more', 'garage_2_or_more', 'kitchen_island', 'new_roof', 'park', 'shopping']\": 5, \"['central_air', 'dining_room', 'forced_air', 'two_or_more_stories']\": 5, \"['central_air', 'community_park', 'den_or_office', 'dining_room', 'forced_air', 'recreation_facilities', 'view', 'two_or_more_stories', 'garage_1_or_more', 'garage_2_or_more', 'fenced_yard', 'golf_course', 'views']\": 5, \"['single_story', 'garage_1_or_more']\": 5, \"['central_air', 'forced_air', 'basement', 'single_story', 'rental_property']\": 5, \"['basement', 'central_air', 'forced_air', 'garage_1_or_more', 'single_story']\": 5, \"['central_air', 'fireplace', 'forced_air', 'two_or_more_stories', 'garage_1_or_more', 'garage_2_or_more']\": 5, \"['central_air', 'forced_air', 'basement', 'single_story', 'front_porch']\": 5, \"['central_air', 'community_spa_or_hot_tub', 'dining_room', 'recreation_facilities', 'basement', 'single_story', 'fenced_yard', 'front_porch', 'rental_property', 'park', 'groundscare']\": 5, \"['central_air', 'fireplace', 'hardwood_floors', 'laundry_room', 'basement', 'single_story', 'garage_1_or_more', 'garage_2_or_more', 'granite_kitchen', 'fenced_yard', 'cathedral_ceiling', 'master_bedroom', 'master_suite']\": 5, \"['central_air', 'forced_air', 'two_or_more_stories', 'garage_1_or_more', 'garage_2_or_more']\": 5, \"['central_air', 'fireplace', 'single_story', 'garage_1_or_more', 'garage_2_or_more', 'big_yard', 'fenced_yard', 'trails', 'shopping']\": 5, \"['central_air', 'city_view', 'dining_room', 'energy_efficient', 'forced_air', 'view', 'single_story', 'garage_1_or_more', 'garage_2_or_more', 'no_hoa', 'big_lot', 'farm', 'ranch']\": 5, \"['central_air', 'city_view', 'community_spa_or_hot_tub', 'energy_efficient', 'fireplace', 'forced_air', 'recreation_facilities', 'view', 'single_story', 'garage_1_or_more', 'updated_kitchen', 'fenced_yard', 'floor_plan', 'rental_property', 'open_house']\": 5, \"['central_air', 'dining_room', 'family_room', 'fireplace', 'forced_air', 'two_or_more_stories', 'garage_1_or_more', 'garage_2_or_more']\": 5, \"['central_air', 'single_story', 'garage_1_or_more', 'modern_kitchen', 'large_kitchen', 'beautiful_backyard', 'new_roof']\": 5, \"['central_air', 'city_view', 'community_security_features', 'dining_room', 'family_room', 'fireplace', 'forced_air', 'hardwood_floors', 'view', 'two_or_more_stories', 'garage_1_or_more', 'garage_2_or_more', 'granite_kitchen', 'updated_kitchen', 'fenced_yard', 'open_floor_plan', 'floor_plan']\": 5, \"['central_air', 'city_view', 'dining_room', 'fireplace', 'forced_air', 'view', 'basement', 'two_or_more_stories', 'garage_1_or_more', 'garage_2_or_more', 'fenced_yard', 'vaulted_ceiling', 'hoa']\": 5, \"['central_air', 'forced_air', 'single_story', 'garage_1_or_more', 'investment_opportunity']\": 5, \"['central_air', 'city_view', 'community_clubhouse', 'community_park', 'community_spa_or_hot_tub', 'community_tennis_court', 'corner_lot', 'cul_de_sac', 'den_or_office', 'dining_room', 'fireplace', 'forced_air', 'recreation_facilities', 'tennis_court', 'view', 'single_story', 'garage_1_or_more', 'garage_2_or_more', 'community_swimming_pool', 'floor_plan']\": 5, \"['central_air', 'fireplace', 'forced_air', 'hardwood_floors', 'laundry_room', 'basement', 'single_story', 'garage_1_or_more', 'fenced_yard', 'wooded_land', 'rental_property', 'trails']\": 5, \"['central_air', 'corner_lot', 'fireplace', 'single_story', 'garage_1_or_more', 'garage_2_or_more']\": 5, \"['central_air', 'city_view', 'forced_air', 'view', 'two_or_more_stories', 'garage_1_or_more', 'granite_kitchen', 'fenced_yard', 'ensuite']\": 5, \"['central_air', 'city_view', 'dining_room', 'family_room', 'forced_air', 'hardwood_floors', 'view', 'basement', 'two_or_more_stories', 'garage_1_or_more', 'big_yard', 'fenced_yard', 'community_center', 'park', 'trails', 'shopping']\": 5, \"['hardwood_floors', 'single_story', 'garage_1_or_more', 'garage_2_or_more', 'investment_opportunity']\": 5, \"['basement', 'single_story', 'new_roof']\": 5, \"['carport', 'central_air', 'community_outdoor_space', 'dining_room', 'dishwasher', 'family_room', 'fireplace', 'forced_air', 'hardwood_floors', 'basement', 'garage_1_or_more', 'updated_kitchen', 'fenced_yard', 'open_floor_plan', 'floor_plan', 'shopping']\": 5, \"['basement', 'two_or_more_stories', 'rental_property', 'medicalcare']\": 5, \"['basement', 'garage_1_or_more', 'garage_2_or_more', 'big_lot', 'farm', 'ranch']\": 5, \"['central_air', 'community_outdoor_space', 'family_room', 'fireplace', 'forced_air', 'basement', 'garage_1_or_more', 'garage_2_or_more', 'solar_system', 'farm', 'ranch', 'solar_panels']\": 5, \"['garage_1_or_more', 'garage_2_or_more', 'big_lot']\": 5, \"['city_view', 'community_outdoor_space', 'dining_room', 'hardwood_floors', 'laundry_room', 'view', 'single_story', 'garage_1_or_more', 'garage_2_or_more', 'high_ceiling', 'golf_course']\": 5, \"['city_view', 'community_outdoor_space', 'dining_room', 'disability_features', 'dishwasher', 'fireplace', 'hardwood_floors', 'laundry_room', 'view', 'basement', 'single_story', 'garage_1_or_more', 'garage_2_or_more', 'modern_kitchen', 'open_kitchen', 'handicap_access', 'farm', 'ranch']\": 5, \"['city_view', 'community_outdoor_space', 'dining_room', 'dishwasher', 'fireplace', 'forced_air', 'laundry_room', 'view', 'single_story', 'garage_1_or_more', 'garage_2_or_more', 'fenced_yard', 'vaulted_ceiling', 'new_roof']\": 5, \"['community_outdoor_space', 'dishwasher', 'fireplace', 'hardwood_floors', 'lake_view', 'laundry_room', 'view', 'water_view', 'basement', 'two_or_more_stories', 'garage_1_or_more', 'waterfront', 'ensuite', 'views', 'lake']\": 5, \"['community_outdoor_space', 'dishwasher', 'laundry_room', 'single_story', 'garage_1_or_more', 'rental_property', 'farm', 'new_roof']\": 5, \"['city_view', 'community_outdoor_space', 'dining_room', 'dishwasher', 'fireplace', 'hardwood_floors', 'lake_view', 'laundry_room', 'view', 'water_view', 'basement', 'two_or_more_stories', 'garage_1_or_more', 'garage_2_or_more', 'waterfront', 'big_lot', 'lake']\": 5, \"['city_view', 'view', 'single_story']\": 5, \"['forced_air', 'two_or_more_stories', 'investment_opportunity']\": 5, \"['forced_air', 'single_story']\": 5, \"['city_view', 'fireplace', 'forced_air', 'hardwood_floors', 'view', 'two_or_more_stories', 'big_lot']\": 5, \"['city_view', 'community_outdoor_space', 'hardwood_floors', 'laundry_room', 'view', 'basement', 'single_story', 'big_yard']\": 5, \"['city_view', 'community_outdoor_space', 'community_security_features', 'dining_room', 'dishwasher', 'forced_air', 'laundry_room', 'view', 'two_or_more_stories', 'garage_1_or_more', 'updated_kitchen']\": 5, \"['city_view', 'community_outdoor_space', 'forced_air', 'hardwood_floors', 'laundry_room', 'view', 'basement', 'single_story', 'big_lot', 'park', 'shopping']\": 5, \"['city_view', 'community_outdoor_space', 'dishwasher', 'forced_air', 'laundry_room', 'view', 'basement', 'single_story', 'garage_1_or_more', 'updated_kitchen', 'fenced_yard', 'front_porch', 'trails', 'groundscare']\": 5, \"['city_view', 'community_outdoor_space', 'dining_room', 'family_room', 'fireplace', 'view', 'basement', 'two_or_more_stories', 'garage_1_or_more', 'vaulted_ceiling', 'coffer_ceiling', 'corner_lot', 'big_lot', 'ensuite']\": 5, \"['dishwasher', 'laundry_room', 'single_story', 'big_lot', 'groundscare']\": 5, \"['city_view', 'community_outdoor_space', 'dining_room', 'dishwasher', 'laundry_room', 'view', 'two_or_more_stories', 'garage_1_or_more', 'ensuite']\": 5, \"['community_outdoor_space', 'basement', 'single_story']\": 5, \"['hardwood_floors', 'basement', 'two_or_more_stories', 'fenced_yard', 'front_porch', 'views']\": 5, \"['fireplace', 'hardwood_floors', 'laundry_room', 'single_story', 'big_lot', 'trails']\": 5, \"['community_outdoor_space', 'dining_room', 'fireplace', 'hardwood_floors', 'laundry_room', 'swimming_pool', 'basement', 'two_or_more_stories', 'garage_1_or_more', 'garage_2_or_more', 'front_porch', 'views']\": 5, \"['community_outdoor_space', 'dining_room', 'fireplace', 'laundry_room', 'swimming_pool', 'single_story', 'high_ceiling', 'big_lot', 'new_roof']\": 5, \"['city_view', 'forced_air', 'hardwood_floors', 'view', 'swimming_pool', 'basement', 'two_or_more_stories', 'garage_1_or_more', 'garage_2_or_more', 'master_bedroom']\": 5, \"['laundry_room', 'single_story', 'garage_1_or_more', 'floor_plan', 'big_lot', 'farm', 'ranch']\": 5, \"['city_view', 'dishwasher', 'forced_air', 'hardwood_floors', 'laundry_room', 'view', 'single_story', 'updated_kitchen', 'fenced_yard', 'farm', 'ranch']\": 5, \"['city_view', 'community_outdoor_space', 'community_security_features', 'dining_room', 'dishwasher', 'hardwood_floors', 'laundry_room', 'view', 'single_story', 'garage_1_or_more', 'garage_2_or_more', 'front_porch']\": 5, \"['city_view', 'forced_air', 'hardwood_floors', 'view', 'single_story', 'fenced_yard', 'farm', 'ranch']\": 5, \"['city_view', 'community_outdoor_space', 'dishwasher', 'fireplace', 'laundry_room', 'view', 'basement', 'single_story', 'garage_1_or_more', 'garage_2_or_more', 'granite_kitchen', 'fenced_yard', 'ensuite', 'farm', 'ranch']\": 5, \"['city_view', 'community_outdoor_space', 'dining_room', 'forced_air', 'laundry_room', 'view', 'basement', 'single_story', 'big_yard', 'front_porch', 'rental_property', 'efficient', 'investment_opportunity']\": 5, \"['city_view', 'dishwasher', 'forced_air', 'view', 'washer_dryer', 'single_story', 'garage_1_or_more', 'big_yard', 'farm', 'ranch', 'new_roof', 'shopping', 'fixer_upper']\": 5, \"['community_outdoor_space', 'dining_room', 'dishwasher', 'fireplace', 'laundry_room', 'single_story', 'garage_1_or_more', 'garage_2_or_more', 'front_porch', 'big_lot', 'farm', 'ranch', 'pond']\": 5, \"['city_view', 'community_outdoor_space', 'dining_room', 'dishwasher', 'forced_air', 'hardwood_floors', 'laundry_room', 'view', 'swimming_pool', 'basement', 'two_or_more_stories', 'garage_1_or_more', 'modern_kitchen', 'large_kitchen', 'floor_plan', 'farm', 'ranch']\": 5, \"['forced_air', 'single_story', 'big_lot', 'investment_opportunity']\": 5, \"['city_view', 'community_outdoor_space', 'forced_air', 'view', 'single_story', 'garage_1_or_more', 'fenced_yard']\": 5, \"['city_view', 'community_outdoor_space', 'dining_room', 'dishwasher', 'fireplace', 'forced_air', 'hardwood_floors', 'laundry_room', 'recreation_facilities', 'view', 'basement', 'two_or_more_stories', 'garage_1_or_more', 'vaulted_ceiling', 'ensuite', 'park']\": 5, \"['city_view', 'community_outdoor_space', 'fireplace', 'hardwood_floors', 'laundry_room', 'view', 'basement', 'two_or_more_stories', 'garage_1_or_more', 'modern_kitchen', 'large_kitchen', 'vaulted_ceiling', 'new_roof']\": 5, \"['community_outdoor_space', 'dining_room', 'forced_air', 'hardwood_floors', 'washer_dryer', 'basement', 'single_story', 'big_lot', 'shopping']\": 5, \"['central_air', 'central_heat', 'washer_dryer', 'single_story', 'garage_1_or_more', 'garage_2_or_more', 'garage_3_or_more', 'rental_property', 'gated_community', 'security']\": 5, \"['central_air', 'central_heat', 'community_outdoor_space', 'community_security_features', 'dishwasher', 'laundry_room', 'pets_allowed', 'washer_dryer', 'two_or_more_stories', 'garage_1_or_more', 'garage_2_or_more', 'cathedral_ceiling', 'open_floor_plan', 'floor_plan', 'ensuite']\": 5, \"['central_air', 'central_heat', 'single_story']\": 5, \"['central_air', 'central_heat', 'community_clubhouse', 'community_outdoor_space', 'community_security_features', 'dishwasher', 'energy_efficient', 'fireplace', 'recreation_facilities', 'community_swimming_pool', 'single_story', 'garage_1_or_more', 'garage_2_or_more', 'ensuite', 'pond', 'clubhouse', 'trails', 'maintenance', 'shopping']\": 5, \"['central_air', 'central_heat', 'community_outdoor_space', 'community_security_features', 'corner_lot', 'dishwasher', 'energy_efficient', 'fireplace', 'single_story', 'garage_1_or_more', 'garage_2_or_more', 'big_yard', 'groundscare']\": 5, \"['central_air', 'central_heat', 'community_outdoor_space', 'community_security_features', 'dishwasher', 'fireplace', 'lake_view', 'view', 'water_view', 'single_story', 'garage_1_or_more', 'garage_2_or_more', 'waterfront', 'trails', 'lake', 'medicalcare', 'shopping']\": 5, \"['central_air', 'central_heat', 'community_outdoor_space', 'laundry_room', 'single_story', 'big_yard', 'rental_property', 'new_roof']\": 5, \"['central_air', 'central_heat', 'fireplace', 'single_story', 'garage_1_or_more', 'garage_2_or_more', 'shopping', 'fixer_upper']\": 5, \"['carport', 'central_air', 'central_heat', 'community_boat_facilities', 'community_security_features', 'dishwasher', 'energy_efficient', 'fireplace', 'recreation_facilities', 'rv_or_boat_parking', 'view', 'water_view', 'single_story', 'garage_1_or_more', 'garage_2_or_more', 'big_bathroom', 'rv_parking', 'front_porch', 'ensuite']\": 5, \"['central_air', 'central_heat', 'community_outdoor_space', 'fireplace', 'single_story', 'garage_1_or_more', 'garage_2_or_more', 'high_ceiling', 'open_floor_plan', 'floor_plan', 'shopping']\": 5, \"['carport', 'central_air', 'central_heat', 'corner_lot', 'cul_de_sac', 'energy_efficient', 'single_story', 'basketball_court', 'tennis_court', 'investment_opportunity', 'tennis', 'basketball', 'fixer_upper']\": 5, \"['central_air', 'central_heat', 'community_security_features', 'dishwasher', 'washer_dryer', 'single_story', 'garage_1_or_more', 'garage_2_or_more', 'updated_kitchen']\": 5, \"['carport', 'central_air', 'central_heat', 'community_clubhouse', 'community_outdoor_space', 'community_security_features', 'dishwasher', 'recreation_facilities', 'washer_dryer', 'community_swimming_pool', 'two_or_more_stories', 'garage_1_or_more', 'garage_2_or_more', 'kitchen_island', 'tennis_court', 'ensuite', 'private_courtyard', 'clubhouse', 'tennis', 'trails', 'lake']\": 5, \"['central_air', 'central_heat', 'community_security_features', 'dishwasher', 'river_view', 'view', 'water_view', 'single_story', 'garage_1_or_more', 'garage_2_or_more', 'waterfront', 'beautiful_backyard']\": 5, \"['central_air', 'central_heat', 'community_security_features', 'fireplace', 'pets_allowed', 'recreation_facilities', 'community_swimming_pool', 'two_or_more_stories']\": 5, \"['carport', 'central_air', 'central_heat', 'community_security_features', 'corner_lot', 'dishwasher', 'washer_dryer', 'two_or_more_stories', 'garage_1_or_more', 'garage_2_or_more', 'fenced_yard', 'open_floor_plan', 'floor_plan', 'big_lot']\": 5, \"['carport', 'central_air', 'central_heat', 'single_story', 'garage_1_or_more', 'rental_property']\": 5, \"['central_air', 'central_heat', 'community_outdoor_space', 'dishwasher', 'fireplace', 'lake_view', 'laundry_room', 'pets_allowed', 'view', 'water_view', 'single_story', 'garage_1_or_more', 'garage_2_or_more', 'waterfront', 'granite_kitchen', 'ensuite', 'gated_community', 'views', 'security']\": 5, \"['carport', 'central_air', 'central_heat', 'single_story', 'garage_1_or_more', 'garage_2_or_more', 'garage_3_or_more', 'efficient', 'new_roof']\": 5, \"['central_heat', 'single_story', 'garage_1_or_more', 'rental_property']\": 5, \"['central_air', 'central_heat', 'two_or_more_stories', 'garage_1_or_more', 'garage_2_or_more', 'garage_3_or_more', 'rental_property', 'investment_opportunity']\": 5, \"['central_air', 'central_heat', 'single_story', 'modern_kitchen', 'large_kitchen', 'big_yard']\": 5, \"['central_air', 'central_heat', 'community_security_features', 'dishwasher', 'lake_view', 'view', 'water_view', 'single_story', 'garage_1_or_more', 'garage_2_or_more', 'waterfront', 'open_floor_plan', 'floor_plan', 'gated_community', 'lake', 'security']\": 5, \"['central_air', 'central_heat', 'community_security_features', 'dishwasher', 'two_or_more_stories', 'garage_1_or_more', 'garage_2_or_more', 'private_bathroom', 'gated_community', 'security']\": 5, \"['fireplace', 'single_story', 'investment_opportunity']\": 5, \"['central_air', 'fireplace', 'single_story', 'garage_1_or_more', 'garage_2_or_more', 'high_ceiling', 'master_bedroom', 'groundscare']\": 5, \"['central_air', 'city_view', 'community_clubhouse', 'community_gym', 'community_outdoor_space', 'community_security_features', 'community_tennis_court', 'den_or_office', 'dishwasher', 'forced_air', 'hardwood_floors', 'laundry_room', 'pets_allowed', 'recreation_facilities', 'view', 'washer_dryer', 'basement', 'single_story', 'garage_1_or_more', 'garage_2_or_more', 'high_ceiling']\": 5, \"['central_air', 'community_boat_facilities', 'community_clubhouse', 'community_gym', 'community_security_features', 'dishwasher', 'energy_efficient', 'hardwood_floors', 'laundry_room', 'pets_allowed', 'recreation_facilities', 'washer_dryer', 'basement', 'single_story', 'garage_1_or_more', 'high_ceiling']\": 5, \"['central_air', 'community_security_features', 'den_or_office', 'dining_room', 'dishwasher', 'fireplace', 'forced_air', 'hardwood_floors', 'laundry_room', 'pets_allowed', 'recreation_facilities', 'washer_dryer', 'basement', 'single_story', 'garage_1_or_more', 'garage_2_or_more', 'waterfront', 'master_suite', 'elevator', 'ensuite', 'views']\": 5, \"['hardwood_floors', 'laundry_room', 'pets_allowed', 'recreation_facilities', 'basement', 'single_story', 'new_roof', 'playground', 'medicalcare']\": 5, \"['central_air', 'central_heat', 'city_view', 'community_outdoor_space', 'community_security_features', 'dining_room', 'dishwasher', 'laundry_room', 'pets_allowed', 'recreation_facilities', 'view', 'washer_dryer', 'basement', 'single_story', 'garage_1_or_more', 'garage_2_or_more', 'high_ceiling', 'shopping']\": 5, \"['central_air', 'central_heat', 'basement', 'single_story', 'updated_kitchen', 'elevator', 'ensuite', 'water_view', 'shopping']\": 5, \"['central_air', 'central_heat', 'community_outdoor_space', 'community_tennis_court', 'dishwasher', 'energy_efficient', 'hardwood_floors', 'laundry_room', 'pets_allowed', 'recreation_facilities', 'washer_dryer', 'basement', 'single_story', 'open_floor_plan', 'floor_plan', 'beach']\": 5, \"['city_view', 'community_outdoor_space', 'dishwasher', 'fireplace', 'forced_air', 'hardwood_floors', 'laundry_room', 'recreation_facilities', 'view', 'washer_dryer', 'basement', 'two_or_more_stories', 'open_floor_plan', 'floor_plan', 'park']\": 5, \"['central_air', 'community_security_features', 'dishwasher', 'forced_air', 'pets_allowed', 'recreation_facilities', 'washer_dryer', 'basement', 'single_story', 'garage_1_or_more', 'open_floor_plan', 'floor_plan', 'elevator', 'park', 'views', 'shopping']\": 5, \"['community_security_features', 'dishwasher', 'hardwood_floors', 'laundry_room', 'pets_allowed', 'basement', 'single_story', 'updated_kitchen', 'high_ceiling', 'exposed_brick', 'medicalcare', 'shopping']\": 5, \"['city_view', 'community_outdoor_space', 'hardwood_floors', 'recreation_facilities', 'view', 'basement', 'two_or_more_stories', 'garage_1_or_more', 'shopping']\": 5, \"['city_view', 'community_outdoor_space', 'dining_room', 'dishwasher', 'fireplace', 'hardwood_floors', 'view', 'basement', 'two_or_more_stories', 'big_yard', 'shopping']\": 5, \"['central_air', 'central_heat', 'dishwasher', 'hardwood_floors', 'recreation_facilities', 'basement', 'single_story', 'shopping']\": 5, \"['community_outdoor_space', 'hardwood_floors', 'laundry_room', 'basement', 'floor_plan', 'rental_property']\": 5, \"['central_air', 'community_outdoor_space', 'community_security_features', 'dishwasher', 'forced_air', 'hardwood_floors', 'recreation_facilities', 'washer_dryer', 'basement', 'single_story', 'exposed_brick']\": 5, \"['central_air', 'central_heat', 'community_security_features', 'fireplace', 'pets_allowed', 'basement', 'single_story', 'garage_1_or_more', 'library', 'ensuite', 'views']\": 5, \"['community_outdoor_space', 'hardwood_floors', 'laundry_room', 'recreation_facilities', 'basement', 'two_or_more_stories', 'floor_plan', 'rental_property', 'pond', 'park', 'shopping']\": 5, \"['dishwasher', 'fireplace', 'recreation_facilities', 'washer_dryer', 'garage_1_or_more', 'open_floor_plan', 'floor_plan', 'farm', 'ranch']\": 5, \"['central_air', 'central_heat', 'city_view', 'community_security_features', 'dishwasher', 'forced_air', 'hardwood_floors', 'laundry_room', 'ocean_view', 'pets_allowed', 'recreation_facilities', 'view', 'washer_dryer', 'water_view', 'community_swimming_pool', 'basement', 'single_story', 'garage_1_or_more', 'waterfront']\": 5, \"['city_view', 'community_boat_facilities', 'community_outdoor_space', 'community_tennis_court', 'dishwasher', 'fireplace', 'hardwood_floors', 'laundry_room', 'pets_allowed', 'recreation_facilities', 'view', 'washer_dryer', 'basement', 'two_or_more_stories', 'waterfront', 'floor_plan', 'water_view']\": 5, \"['community_boat_facilities', 'community_clubhouse', 'community_gym', 'community_security_features', 'laundry_room', 'ocean_view', 'pets_allowed', 'recreation_facilities', 'spa_or_hot_tub', 'view', 'water_view', 'community_swimming_pool', 'basement', 'single_story', 'garage_1_or_more', 'waterfront', 'indoor_basketball_court', 'basketball_court', 'library', 'basketball']\": 5, \"['basement', 'two_or_more_stories', 'garage_1_or_more', 'garage_2_or_more', 'high_ceiling', 'rental_property', 'shopping']\": 5, \"['community_outdoor_space', 'den_or_office', 'dining_room', 'dishwasher', 'energy_efficient', 'hardwood_floors', 'laundry_room', 'recreation_facilities', 'washer_dryer', 'community_swimming_pool', 'basement', 'two_or_more_stories', 'front_porch', 'solar_system', 'solar_panels']\": 5, \"['pets_allowed', 'recreation_facilities', 'basement', 'single_story']\": 5, \"['community_outdoor_space', 'dining_room', 'dishwasher', 'hardwood_floors', 'laundry_room', 'pets_allowed', 'recreation_facilities', 'washer_dryer', 'community_swimming_pool', 'basement', 'single_story', 'open_house']\": 5, \"['community_outdoor_space', 'dining_room', 'dishwasher', 'fireplace', 'hardwood_floors', 'laundry_room', 'recreation_facilities', 'basement', 'two_or_more_stories', 'high_ceiling']\": 5, \"['community_tennis_court', 'dishwasher', 'hardwood_floors', 'laundry_room', 'recreation_facilities', 'community_swimming_pool', 'basement', 'single_story', 'updated_kitchen', 'shopping']\": 5, \"['community_outdoor_space', 'dishwasher', 'hardwood_floors', 'pets_allowed', 'recreation_facilities', 'washer_dryer', 'basement', 'single_story', 'park', 'trails', 'shopping']\": 5, \"['central_air', 'community_boat_facilities', 'community_clubhouse', 'community_gym', 'community_security_features', 'forced_air', 'pets_allowed', 'recreation_facilities', 'community_swimming_pool', 'basement', 'single_story', 'garage_1_or_more', 'garage_2_or_more']\": 5, \"['central_air', 'community_outdoor_space', 'corner_lot', 'dining_room', 'dishwasher', 'energy_efficient', 'family_room', 'fireplace', 'hardwood_floors', 'laundry_room', 'recreation_facilities', 'washer_dryer', 'basement', 'garage_1_or_more', 'garage_2_or_more', 'private_backyard', 'fenced_yard', 'ensuite', 'pond', 'medicalcare', 'shopping']\": 5, \"['corner_lot', 'dining_room', 'dishwasher', 'hardwood_floors', 'laundry_room', 'washer_dryer', 'basement', 'fenced_yard', 'investment_opportunity']\": 5, \"['central_heat', 'community_boat_facilities', 'community_outdoor_space', 'community_security_features', 'dining_room', 'dishwasher', 'fireplace', 'hardwood_floors', 'laundry_room', 'ocean_view', 'pets_allowed', 'recreation_facilities', 'view', 'washer_dryer', 'water_view', 'basement', 'single_story', 'waterfront', 'exposed_brick']\": 5, \"['central_air', 'community_outdoor_space', 'dishwasher', 'forced_air', 'hardwood_floors', 'laundry_room', 'pets_allowed', 'recreation_facilities', 'basement', 'two_or_more_stories', 'open_floor_plan', 'floor_plan', 'smart_homes']\": 5, \"['central_air', 'community_security_features', 'forced_air', 'ocean_view', 'recreation_facilities', 'view', 'water_view', 'basement', 'single_story', 'waterfront', 'community_swimming_pool', 'garage_1_or_more', 'ensuite', 'views']\": 5, \"['central_air', 'central_heat', 'community_clubhouse', 'community_gym', 'community_security_features', 'dishwasher', 'hardwood_floors', 'laundry_room', 'pets_allowed', 'recreation_facilities', 'river_view', 'view', 'washer_dryer', 'water_view', 'basement', 'single_story', 'garage_1_or_more', 'waterfront', 'modern_kitchen', 'high_ceiling', 'smart_homes', 'clubhouse', 'playground']\": 5, \"['community_gym', 'community_outdoor_space', 'community_security_features', 'dishwasher', 'hardwood_floors', 'recreation_facilities', 'community_swimming_pool', 'basement', 'single_story', 'rental_property', 'efficient']\": 5, \"['central_air', 'community_outdoor_space', 'dining_room', 'dishwasher', 'forced_air', 'pets_allowed', 'basement', 'single_story', 'garage_1_or_more', 'updated_kitchen', 'open_floor_plan', 'floor_plan', 'ensuite']\": 5, \"['central_air', 'disability_features', 'forced_air', 'recreation_facilities', 'community_swimming_pool', 'single_story', 'fenced_yard', 'master_suite', 'rental_property', 'clubhouse', 'playground', 'marina', 'beach']\": 5, \"['central_air', 'fireplace', 'basement', 'two_or_more_stories', 'garage_1_or_more', 'garage_2_or_more', 'open_floor_plan', 'floor_plan', 'master_suite', 'big_lot']\": 5, \"['central_air', 'dining_room', 'dishwasher', 'fireplace', 'forced_air', 'hardwood_floors', 'washer_dryer', 'basement', 'two_or_more_stories', 'community_swimming_pool', 'big_lot', 'ensuite', 'playground', 'volleyball', 'marina', 'groundscare']\": 5, \"['basement', 'central_air', 'dishwasher', 'fireplace', 'single_story', 'swimming_pool', 'washer_dryer']\": 5, \"['central_air', 'dining_room', 'disability_features', 'family_room', 'basement', 'two_or_more_stories', 'garage_1_or_more', 'garage_2_or_more']\": 5, \"['central_air', 'central_heat', 'recreation_facilities', 'washer_dryer', 'community_swimming_pool', 'two_or_more_stories', 'library', 'community_center', 'shopping']\": 5, \"['central_air', 'disability_features', 'dishwasher', 'hardwood_floors', 'washer_dryer', 'basement', 'two_or_more_stories', 'granite_kitchen', 'updated_kitchen', 'floor_plan', 'rental_property', 'new_roof', 'fixer_upper']\": 5, \"['central_air', 'dining_room', 'dishwasher', 'fireplace', 'hardwood_floors', 'view', 'washer_dryer', 'water_view', 'basement', 'two_or_more_stories', 'garage_1_or_more', 'garage_2_or_more', 'waterfront', 'gourmet_kitchen', 'fenced_yard', 'coffer_ceiling', 'open_floor_plan', 'floor_plan', 'library', 'elevator', 'ensuite', 'views', 'groundscare']\": 5, \"['central_air', 'dishwasher', 'fireplace', 'hardwood_floors', 'washer_dryer', 'basement', 'two_or_more_stories', 'corner_lot', 'shopping']\": 5, \"['central_air', 'dining_room', 'dishwasher', 'family_room', 'fireplace', 'hardwood_floors', 'recreation_facilities', 'view', 'washer_dryer', 'water_view', 'community_swimming_pool', 'basement', 'two_or_more_stories', 'waterfront', 'modern_kitchen', 'large_kitchen', 'rental_property', 'ensuite', 'views']\": 5, \"['central_air', 'fireplace', 'forced_air', 'basement', 'two_or_more_stories', 'garage_1_or_more', 'theater_room', 'investment_opportunity', 'park', 'shopping']\": 5, \"['carport', 'dishwasher', 'family_room', 'fireplace', 'hardwood_floors', 'washer_dryer', 'basement', 'two_or_more_stories', 'fenced_yard', 'open_floor_plan', 'floor_plan', 'no_hoa', 'solar_system', 'big_lot', 'hoa', 'shopping']\": 5, \"['central_air', 'dining_room', 'disability_features', 'dishwasher', 'forced_air', 'recreation_facilities', 'senior_community', 'washer_dryer', 'community_swimming_pool', 'single_story', 'garage_1_or_more', 'vaulted_ceiling', 'floor_plan']\": 5, \"['central_air', 'fireplace', 'basement', 'two_or_more_stories', 'big_yard', 'open_house', 'maintenance']\": 5, \"['central_air', 'central_heat', 'dishwasher', 'family_room', 'hardwood_floors', 'washer_dryer', 'basement', 'two_or_more_stories', 'garage_1_or_more', 'garage_2_or_more', 'fenced_yard', 'high_ceiling', 'open_floor_plan', 'floor_plan', 'corner_lot', 'playground', 'trails']\": 5, \"['central_air', 'dishwasher', 'fireplace', 'hardwood_floors', 'recreation_facilities', 'washer_dryer', 'community_swimming_pool', 'two_or_more_stories', 'fenced_yard', 'open_floor_plan', 'floor_plan', 'master_suite', 'ensuite', 'new_roof', 'clubhouse', 'playground']\": 5, \"['central_air', 'fireplace', 'recreation_facilities', 'community_swimming_pool', 'basement', 'two_or_more_stories', 'garage_1_or_more', 'efficient', 'new_roof', 'shopping']\": 5, \"['central_air', 'recreation_facilities', 'community_swimming_pool', 'two_or_more_stories', 'granite_kitchen', 'basketball_court', 'clubhouse', 'basketball']\": 5, \"['central_air', 'central_heat', 'dishwasher', 'family_room', 'fireplace', 'forced_air', 'hardwood_floors', 'washer_dryer', 'basement', 'two_or_more_stories', 'fenced_yard', 'river_access', 'hoa']\": 5, \"['central_air', 'dining_room', 'dishwasher', 'fireplace', 'recreation_facilities', 'washer_dryer', 'community_swimming_pool', 'basement', 'two_or_more_stories', 'modern_kitchen', 'high_ceiling', 'vaulted_ceiling', 'tennis_court', 'ensuite', 'community_center', 'tennis', 'trails', 'views']\": 5, \"['central_air', 'dining_room', 'dishwasher', 'family_room', 'fireplace', 'hardwood_floors', 'recreation_facilities', 'washer_dryer', 'basement', 'two_or_more_stories', 'updated_kitchen', 'gourmet_kitchen', 'shopping']\": 5, \"['central_air', 'fireplace', 'recreation_facilities', 'community_swimming_pool', 'basement', 'two_or_more_stories', 'fenced_yard', 'tennis_court', 'clubhouse', 'tennis', 'shopping']\": 5, \"['central_air', 'disability_features', 'fireplace', 'forced_air', 'basement', 'two_or_more_stories', 'garage_1_or_more', 'garage_2_or_more', 'library', 'views', 'beach', 'shopping']\": 5, \"['central_air', 'dining_room', 'dishwasher', 'fireplace', 'hardwood_floors', 'recreation_facilities', 'washer_dryer', 'community_swimming_pool', 'basement', 'two_or_more_stories', 'garage_1_or_more', 'garage_2_or_more', 'open_floor_plan', 'floor_plan', 'wooded_land', 'tennis_court', 'big_lot', 'ensuite', 'clubhouse', 'tennis', 'marina']\": 5, \"['central_air', 'dining_room', 'disability_features', 'dishwasher', 'fireplace', 'hardwood_floors', 'basement', 'two_or_more_stories', 'marina']\": 5, \"['central_air', 'central_heat', 'fireplace', 'recreation_facilities', 'community_swimming_pool', 'basement', 'two_or_more_stories', 'garage_1_or_more', 'garage_2_or_more', 'farm', 'ranch', 'water_view', 'clubhouse', 'playground', 'views', 'marina']\": 5, \"['central_air', 'dining_room', 'forced_air', 'recreation_facilities', 'community_swimming_pool', 'two_or_more_stories', 'fenced_yard', 'shopping']\": 5, \"['central_air', 'dishwasher', 'fireplace', 'forced_air', 'hardwood_floors', 'recreation_facilities', 'view', 'washer_dryer', 'community_swimming_pool', 'single_story', 'waterfront', 'gated_community', 'tennis', 'trails', 'beach', 'security', 'shopping']\": 5, \"['central_air', 'community_elevator', 'disability_features', 'dishwasher', 'hardwood_floors', 'recreation_facilities', 'senior_community', 'washer_dryer', 'community_swimming_pool', 'single_story', 'granite_kitchen', 'high_ceiling', 'clubhouse']\": 5, \"['central_air', 'dishwasher', 'fireplace', 'forced_air', 'recreation_facilities', 'washer_dryer', 'community_swimming_pool', 'basement', 'two_or_more_stories', 'big_yard', 'new_roof', 'shopping']\": 5, \"['central_air', 'fireplace', 'basement', 'two_or_more_stories', 'garage_1_or_more', 'garage_2_or_more', 'garage_3_or_more', 'open_floor_plan', 'floor_plan', 'new_roof']\": 5, \"['central_air', 'dishwasher', 'fireplace', 'forced_air', 'hardwood_floors', 'washer_dryer', 'two_or_more_stories', 'garage_1_or_more', 'vaulted_ceiling', 'front_porch']\": 5, \"['central_air', 'disability_features', 'dishwasher', 'forced_air', 'recreation_facilities', 'washer_dryer', 'community_swimming_pool', 'single_story', 'granite_kitchen', 'updated_kitchen', 'modern_kitchen', 'large_kitchen', 'basketball_court', 'tennis_court', 'ensuite', 'clubhouse', 'tennis', 'basketball', 'marina', 'shopping']\": 5, \"['central_air', 'fireplace', 'forced_air', 'recreation_facilities', 'community_swimming_pool', 'two_or_more_stories', 'waterfront', 'vaulted_ceiling', 'clubhouse', 'tennis', 'views', 'marina']\": 5, \"['central_air', 'dining_room', 'disability_features', 'dishwasher', 'family_room', 'fireplace', 'hardwood_floors', 'recreation_facilities', 'senior_community', 'washer_dryer', 'community_swimming_pool', 'two_or_more_stories', 'garage_1_or_more', 'pond', 'golf_course', 'tennis']\": 5, \"['central_air', 'central_heat', 'dining_room', 'disability_features', 'dishwasher', 'family_room', 'fireplace', 'hardwood_floors', 'recreation_facilities', 'washer_dryer', 'community_swimming_pool', 'basement', 'two_or_more_stories', 'big_yard', 'fenced_yard', 'library', 'marina', 'beach']\": 5, \"['central_air', 'dining_room', 'dishwasher', 'fireplace', 'forced_air', 'hardwood_floors', 'washer_dryer', 'basement', 'two_or_more_stories', 'garage_1_or_more', 'garage_2_or_more', 'updated_kitchen', 'open_floor_plan', 'floor_plan', 'big_lot', 'views', 'groundscare']\": 5, \"['community_outdoor_space', 'forced_air', 'hardwood_floors', 'washer_dryer', 'basement', 'two_or_more_stories', 'garage_1_or_more', 'front_porch', 'investment_opportunity']\": 5, \"['central_air', 'forced_air', 'basement', 'single_story', 'garage_1_or_more', 'investment_opportunity']\": 5, \"['central_air', 'city_view', 'dishwasher', 'forced_air', 'basement', 'single_story']\": 5, \"['central_air', 'community_outdoor_space', 'dishwasher', 'fireplace', 'forced_air', 'hardwood_floors', 'washer_dryer', 'basement', 'single_story', 'vaulted_ceiling', 'farm', 'ranch']\": 5, \"['central_air', 'community_outdoor_space', 'dishwasher', 'recreation_facilities', 'washer_dryer', 'basement', 'single_story', 'garage_1_or_more']\": 5, \"['central_air', 'city_view', 'dishwasher', 'hardwood_floors', 'washer_dryer', 'basement', 'two_or_more_stories', 'garage_1_or_more', 'fenced_yard', 'master_bedroom']\": 5, \"['central_air', 'community_outdoor_space', 'dishwasher', 'fireplace', 'forced_air', 'washer_dryer', 'basement', 'single_story', 'garage_1_or_more', 'fenced_yard', 'farm', 'ranch', 'shopping']\": 5, \"['central_air', 'community_outdoor_space', 'dishwasher', 'fireplace', 'forced_air', 'recreation_facilities', 'basement', 'two_or_more_stories', 'garage_1_or_more', 'big_yard']\": 5, \"['community_outdoor_space', 'dishwasher', 'forced_air', 'basement', 'single_story', 'garage_1_or_more', 'fenced_yard', 'big_lot']\": 5, \"['central_air', 'community_outdoor_space', 'community_tennis_court', 'dishwasher', 'fireplace', 'forced_air', 'hardwood_floors', 'recreation_facilities', 'river_view', 'basement', 'two_or_more_stories', 'garage_1_or_more', 'floor_plan', 'efficient', 'farm', 'ranch', 'new_roof', 'park', 'shopping']\": 5, \"['central_air', 'city_view', 'community_outdoor_space', 'community_security_features', 'dishwasher', 'forced_air', 'basement', 'two_or_more_stories', 'garage_1_or_more', 'modern_kitchen', 'large_kitchen', 'fenced_yard']\": 5, \"['central_air', 'city_view', 'community_outdoor_space', 'community_security_features', 'dishwasher', 'fireplace', 'forced_air', 'washer_dryer', 'basement', 'two_or_more_stories', 'garage_1_or_more', 'modern_kitchen', 'large_kitchen', 'fenced_yard']\": 5, \"['community_outdoor_space', 'washer_dryer', 'single_story', 'garage_1_or_more']\": 5, \"['forced_air', 'single_story', 'rental_property']\": 5, \"['carport', 'dishwasher', 'washer_dryer', 'basement', 'two_or_more_stories', 'fenced_yard', 'greenhouse']\": 5, \"['dishwasher', 'washer_dryer', 'basement', 'single_story', 'fenced_yard', 'community_center']\": 5, \"['forced_air', 'basement', 'single_story', 'shopping']\": 5, \"['central_air', 'forced_air', 'basement', 'two_or_more_stories', 'fixer_upper']\": 5, \"['city_view', 'community_outdoor_space', 'forced_air', 'single_story']\": 5, \"['central_air', 'community_outdoor_space', 'dishwasher', 'forced_air', 'hardwood_floors', 'washer_dryer', 'swimming_pool', 'single_story', 'garage_1_or_more', 'fenced_yard', 'vaulted_ceiling', 'farm', 'ranch', 'shopping', 'fixer_upper']\": 5, \"['community_outdoor_space', 'single_story', 'garage_1_or_more', 'fenced_yard', 'farm', 'ranch', 'fixer_upper']\": 5, \"['central_air', 'city_view', 'community_outdoor_space', 'community_security_features', 'dishwasher', 'forced_air', 'washer_dryer', 'basement', 'single_story', 'garage_1_or_more', 'big_yard']\": 5, \"['central_air', 'community_outdoor_space', 'dishwasher', 'forced_air', 'hardwood_floors', 'basement', 'two_or_more_stories', 'garage_1_or_more', 'granite_kitchen', 'updated_kitchen', 'ensuite', 'trails', 'groundscare']\": 5, \"['central_air', 'dishwasher', 'washer_dryer', 'basement', 'single_story']\": 5, \"['dishwasher', 'forced_air', 'basement', 'single_story', 'garage_1_or_more', 'fenced_yard', 'new_roof', 'trails']\": 5, \"['central_air', 'community_outdoor_space', 'community_security_features', 'dishwasher', 'forced_air', 'hardwood_floors', 'washer_dryer', 'basement', 'two_or_more_stories', 'big_lot', 'baseball']\": 5, \"['dishwasher', 'forced_air', 'washer_dryer', 'two_or_more_stories', 'garage_1_or_more', 'rental_property']\": 5, \"['central_air', 'community_outdoor_space', 'dishwasher', 'forced_air', 'basement', 'single_story', 'garage_1_or_more']\": 5, \"['central_air', 'city_view', 'forced_air', 'hardwood_floors', 'basement', 'two_or_more_stories', 'garage_1_or_more', 'fenced_yard']\": 5, \"['central_air', 'dishwasher', 'forced_air', 'washer_dryer', 'basement', 'single_story', 'garage_1_or_more', 'master_bedroom', 'corner_lot', 'big_lot']\": 5, \"['master_bedroom', 'rental_property']\": 5, \"['dishwasher', 'forced_air', 'washer_dryer', 'basement', 'two_or_more_stories', 'garage_1_or_more', 'cathedral_ceiling', 'new_roof']\": 5, \"['central_air', 'community_outdoor_space', 'dishwasher', 'fireplace', 'forced_air', 'washer_dryer', 'basement', 'two_or_more_stories']\": 5, \"['central_air', 'city_view', 'dishwasher', 'hardwood_floors', 'washer_dryer', 'basement', 'two_or_more_stories', 'garage_1_or_more', 'front_porch']\": 5, \"['central_air', 'city_view', 'community_outdoor_space', 'dishwasher', 'forced_air', 'hardwood_floors', 'washer_dryer', 'basement', 'single_story', 'garage_1_or_more', 'fenced_yard', 'farm', 'ranch']\": 5, \"['central_air', 'city_view', 'community_outdoor_space', 'community_security_features', 'fireplace', 'forced_air', 'washer_dryer', 'basement', 'two_or_more_stories', 'garage_1_or_more']\": 5, \"['forced_air', 'recreation_facilities', 'basement', 'two_or_more_stories']\": 5, \"['central_air', 'community_outdoor_space', 'dishwasher', 'forced_air', 'hardwood_floors', 'washer_dryer', 'basement', 'single_story', 'garage_1_or_more', 'updated_kitchen', 'big_yard', 'fenced_yard', 'farm', 'ranch']\": 5, \"['dishwasher', 'fireplace', 'basement', 'single_story', 'garage_1_or_more', 'garage_2_or_more', 'updated_kitchen']\": 5, \"['central_air', 'community_outdoor_space', 'forced_air', 'hardwood_floors', 'washer_dryer', 'basement', 'single_story', 'garage_1_or_more', 'private_backyard', 'fenced_yard', 'lake']\": 5, \"['central_air', 'community_outdoor_space', 'dishwasher', 'forced_air', 'hardwood_floors', 'washer_dryer', 'basement', 'single_story', 'garage_1_or_more', 'garage_2_or_more', 'big_yard', 'high_ceiling', 'big_lot', 'shopping']\": 5, \"['community_outdoor_space', 'dishwasher', 'forced_air', 'hardwood_floors', 'washer_dryer', 'basement', 'single_story', 'updated_kitchen', 'high_ceiling', 'new_roof', 'trails']\": 5, \"['dishwasher', 'fireplace', 'forced_air', 'washer_dryer', 'basement', 'two_or_more_stories', 'high_ceiling', 'open_floor_plan', 'floor_plan', 'master_suite']\": 5, \"['central_air', 'community_outdoor_space', 'dishwasher', 'fireplace', 'forced_air', 'hardwood_floors', 'washer_dryer', 'basement', 'two_or_more_stories', 'garage_1_or_more', 'garage_2_or_more', 'ensuite', 'golf_course']\": 5, \"['central_air', 'community_outdoor_space', 'cul_de_sac', 'dishwasher', 'family_room', 'fireplace', 'forced_air', 'hardwood_floors', 'lake_view', 'view', 'washer_dryer', 'water_view', 'basement', 'two_or_more_stories', 'garage_1_or_more', 'garage_2_or_more', 'waterfront', 'granite_kitchen', 'lake']\": 5, \"['central_air', 'fireplace', 'basement', 'single_story', 'garage_1_or_more', 'garage_2_or_more', 'big_yard', 'river_view', 'trails']\": 5, \"['central_air', 'city_view', 'forced_air', 'lake_view', 'view', 'water_view', 'basement', 'single_story', 'garage_1_or_more', 'big_lot', 'trails', 'views', 'lake']\": 5, \"['corner_lot', 'forced_air', 'hardwood_floors', 'recreation_facilities', 'washer_dryer', 'basement', 'two_or_more_stories', 'front_porch', 'shopping']\": 5, \"['central_air', 'community_outdoor_space', 'family_room', 'fireplace', 'hardwood_floors', 'washer_dryer', 'basement', 'two_or_more_stories', 'garage_1_or_more', 'garage_2_or_more', 'park', 'shopping']\": 5, \"['community_outdoor_space', 'forced_air', 'basement', 'single_story', 'garage_1_or_more']\": 5, \"['community_outdoor_space', 'hardwood_floors', 'washer_dryer', 'basement', 'single_story', 'garage_1_or_more', 'garage_2_or_more', 'high_ceiling', 'front_porch']\": 5, \"['central_air', 'community_outdoor_space', 'dishwasher', 'forced_air', 'hardwood_floors', 'washer_dryer', 'basement', 'single_story', 'garage_1_or_more', 'garage_2_or_more', 'garage_3_or_more', 'fenced_yard', 'big_lot', 'golf_course', 'lake']\": 5, \"['central_air', 'community_outdoor_space', 'community_security_features', 'dishwasher', 'fireplace', 'forced_air', 'hardwood_floors', 'washer_dryer', 'basement', 'two_or_more_stories', 'garage_1_or_more', 'garage_2_or_more', 'garage_3_or_more', 'gourmet_kitchen', 'front_porch', 'trails', 'shopping']\": 5, \"['central_air', 'forced_air', 'basement', 'single_story', 'garage_1_or_more', 'garage_2_or_more', 'shopping', 'fixer_upper']\": 5, \"['central_air', 'community_outdoor_space', 'dishwasher', 'forced_air', 'hardwood_floors', 'pets_allowed', 'washer_dryer', 'two_or_more_stories', 'garage_1_or_more', 'garage_2_or_more', 'high_ceiling', 'open_floor_plan', 'floor_plan', 'rental_property', 'shopping']\": 5, \"['central_air', 'community_outdoor_space', 'dishwasher', 'family_room', 'fireplace', 'forced_air', 'hardwood_floors', 'washer_dryer', 'basement', 'two_or_more_stories', 'garage_1_or_more', 'garage_2_or_more', 'open_floor_plan', 'floor_plan', 'front_porch', 'large_porch', 'ensuite', 'shopping']\": 5, \"['central_air', 'community_outdoor_space', 'corner_lot', 'dishwasher', 'fireplace', 'forced_air', 'hardwood_floors', 'washer_dryer', 'basement', 'single_story', 'garage_1_or_more', 'garage_2_or_more', 'private_backyard']\": 5, \"['central_air', 'community_outdoor_space', 'dishwasher', 'forced_air', 'hardwood_floors', 'washer_dryer', 'basement', 'single_story', 'garage_1_or_more', 'new_roof']\": 5, \"['basement', 'two_or_more_stories', 'garage_1_or_more', 'garage_2_or_more', 'high_ceiling', 'floor_plan', 'front_porch', 'new_roof']\": 5, \"['community_park', 'dishwasher', 'pets_allowed', 'recreation_facilities', 'basement', 'two_or_more_stories', 'master_bedroom', 'rental_property', 'shopping']\": 5, \"['central_air', 'dishwasher', 'forced_air', 'hardwood_floors', 'washer_dryer', 'basement', 'single_story', 'garage_1_or_more', 'garage_2_or_more', 'updated_kitchen', 'fenced_yard', 'shopping']\": 5, \"['community_outdoor_space', 'hardwood_floors', 'washer_dryer', 'basement', 'single_story', 'garage_1_or_more', 'front_porch', 'shopping']\": 5, \"['forced_air', 'hill_or_mountain_view', 'recreation_facilities', 'view', 'basement', 'two_or_more_stories', 'garage_1_or_more', 'rental_property', 'investment_opportunity']\": 5, \"['carport', 'dishwasher', 'forced_air', 'washer_dryer', 'basement', 'single_story', 'new_roof', 'lake']\": 5, \"['central_air', 'dishwasher', 'fireplace', 'washer_dryer', 'basement', 'two_or_more_stories', 'garage_1_or_more', 'garage_2_or_more', 'groundscare', 'shopping']\": 5, \"['central_air', 'community_outdoor_space', 'forced_air', 'washer_dryer', 'basement', 'single_story', 'garage_1_or_more', 'updated_kitchen', 'open_floor_plan', 'floor_plan', 'new_roof', 'groundscare']\": 5, \"['washer_dryer', 'basement', 'single_story', 'garage_1_or_more', 'big_yard', 'efficient', 'groundscare']\": 5, \"['corner_lot', 'two_or_more_stories', 'big_lot', 'shopping']\": 5, \"['community_outdoor_space', 'dishwasher', 'washer_dryer', 'basement', 'single_story', 'garage_1_or_more', 'front_porch', 'efficient']\": 5, \"['community_outdoor_space', 'corner_lot', 'dishwasher', 'hardwood_floors', 'washer_dryer', 'basement', 'single_story', 'garage_1_or_more', 'garage_2_or_more', 'library', 'efficient', 'pond', 'park', 'shopping']\": 5, \"['central_air', 'forced_air', 'basement', 'single_story', 'garage_1_or_more', 'granite_kitchen', 'fenced_yard', 'corner_lot', 'trails', 'shopping']\": 5, \"['forced_air', 'basement', 'two_or_more_stories', 'updated_kitchen']\": 5, \"['recreation_facilities', 'basement', 'two_or_more_stories', 'rental_property']\": 5, \"['dishwasher', 'forced_air', 'hardwood_floors', 'basement', 'single_story', 'garage_1_or_more', 'updated_kitchen', 'front_porch', 'park', 'shopping']\": 5, \"['central_air', 'corner_lot', 'dishwasher', 'forced_air', 'basement', 'single_story', 'garage_1_or_more', 'modern_kitchen', 'large_kitchen', 'fenced_yard']\": 5, \"['central_air', 'fireplace', 'forced_air', 'basement', 'single_story', 'garage_1_or_more', 'garage_2_or_more', 'garage_3_or_more', 'jack_and_jill_bathroom', 'open_floor_plan', 'floor_plan', 'big_lot', 'views']\": 5, \"['central_air', 'forced_air']\": 5, \"['central_air', 'community_security_features', 'forced_air', 'hardwood_floors', 'basement', 'two_or_more_stories', 'garage_1_or_more', 'garage_2_or_more', 'rental_property']\": 5, \"['central_air', 'city_view', 'community_outdoor_space', 'dining_room', 'dishwasher', 'family_room', 'fireplace', 'forced_air', 'laundry_room', 'basement', 'garage_1_or_more', 'garage_2_or_more', 'single_story', 'big_yard', 'farm', 'ranch', 'shopping']\": 5, \"['central_air', 'community_outdoor_space', 'dishwasher', 'forced_air', 'hardwood_floors', 'recreation_facilities', 'washer_dryer', 'basement', 'two_or_more_stories', 'garage_1_or_more', 'modern_kitchen', 'large_kitchen', 'big_yard', 'clubhouse', 'groundscare']\": 5, \"['central_air', 'city_view', 'community_outdoor_space', 'dining_room', 'dishwasher', 'family_room', 'fireplace', 'forced_air', 'hardwood_floors', 'basement', 'two_or_more_stories', 'garage_1_or_more', 'garage_2_or_more', 'master_bathroom', 'master_bedroom', 'open_floor_plan', 'floor_plan']\": 5, \"['central_air', 'community_outdoor_space', 'dishwasher', 'forced_air', 'swimming_pool', 'basement', 'two_or_more_stories', 'garage_1_or_more', 'garage_2_or_more', 'open_floor_plan', 'floor_plan', 'solar_system', 'farm', 'ranch', 'smart_homes']\": 5, \"['central_air', 'forced_air', 'two_or_more_stories', 'master_bedroom']\": 5, \"['central_air', 'community_outdoor_space', 'dishwasher', 'forced_air', 'hardwood_floors', 'washer_dryer', 'basement', 'single_story', 'garage_1_or_more', 'garage_2_or_more', 'views']\": 5, \"['central_air', 'dishwasher', 'family_room', 'washer_dryer', 'basement', 'two_or_more_stories', 'garage_1_or_more', 'garage_2_or_more', 'open_floor_plan', 'floor_plan', 'master_suite']\": 5, \"['dishwasher', 'recreation_facilities', 'spa_or_hot_tub', 'washer_dryer', 'basement', 'two_or_more_stories', 'garage_1_or_more', 'garage_2_or_more', 'fenced_yard', 'vaulted_ceiling']\": 5, \"['city_view', 'community_outdoor_space', 'community_security_features', 'dishwasher', 'fireplace', 'forced_air', 'hill_or_mountain_view', 'laundry_room', 'recreation_facilities', 'view', 'basement', 'two_or_more_stories', 'garage_1_or_more', 'garage_2_or_more', 'master_suite', 'rental_property', 'big_lot']\": 5, \"['central_air', 'community_security_features', 'dishwasher', 'forced_air', 'recreation_facilities', 'basement', 'two_or_more_stories', 'garage_1_or_more', 'garage_2_or_more', 'fenced_yard', 'shopping']\": 5, \"['forced_air', 'recreation_facilities', 'basement', 'two_or_more_stories', 'rental_property', 'big_lot', 'new_roof']\": 5, \"['central_air', 'city_view', 'community_outdoor_space', 'dishwasher', 'fireplace', 'forced_air', 'hill_or_mountain_view', 'lake_view', 'laundry_room', 'recreation_facilities', 'view', 'water_view', 'basement', 'two_or_more_stories', 'garage_1_or_more', 'garage_2_or_more', 'modern_kitchen', 'large_kitchen', 'open_kitchen', 'pond', 'park', 'views']\": 5, \"['community_outdoor_space', 'forced_air', 'laundry_room', 'basement', 'single_story', 'garage_1_or_more', 'corner_lot', 'groundscare']\": 5, \"['central_air', 'community_outdoor_space', 'community_security_features', 'dishwasher', 'forced_air', 'hill_or_mountain_view', 'laundry_room', 'view', 'basement', 'single_story', 'garage_1_or_more', 'garage_2_or_more', 'vaulted_ceiling', 'big_lot', 'farm', 'ranch']\": 5, \"['dishwasher', 'laundry_room', 'basement', 'two_or_more_stories', 'garage_1_or_more', 'rental_property', 'fixer_upper']\": 5, \"['family_room', 'forced_air', 'laundry_room', 'basement', 'two_or_more_stories', 'garage_1_or_more', 'garage_2_or_more', 'modern_kitchen', 'open_kitchen', 'big_yard', 'groundscare']\": 5, \"['community_outdoor_space', 'dishwasher', 'laundry_room', 'washer_dryer', 'basement', 'single_story', 'garage_1_or_more', 'fenced_yard', 'groundscare']\": 5, \"['basement', 'single_story', 'garage_1_or_more', 'modern_kitchen', 'large_kitchen', 'large_porch']\": 5, \"['dishwasher', 'basement', 'garage_1_or_more', 'garage_2_or_more', 'fenced_yard']\": 5, \"['dishwasher', 'laundry_room', 'recreation_facilities', 'washer_dryer', 'basement', 'single_story', 'garage_1_or_more', 'garage_2_or_more']\": 5, \"['central_air', 'city_view', 'community_outdoor_space', 'dishwasher', 'forced_air', 'laundry_room', 'washer_dryer', 'basement', 'two_or_more_stories', 'garage_1_or_more']\": 5, \"['dishwasher', 'basement']\": 5, \"['central_air', 'city_view', 'community_golf', 'community_outdoor_space', 'dishwasher', 'fireplace', 'forced_air', 'golf_course_lot_or_frontage', 'golf_course_view', 'hill_or_mountain_view', 'laundry_room', 'recreation_facilities', 'view', 'basement', 'single_story', 'garage_1_or_more', 'garage_2_or_more', 'garage_3_or_more', 'granite_kitchen', 'theater_room', 'golf_course', 'groundscare']\": 5, \"['central_air', 'community_outdoor_space', 'community_security_features', 'dishwasher', 'family_room', 'fireplace', 'forced_air', 'hill_or_mountain_view', 'pets_allowed', 'view', 'washer_dryer', 'basement', 'two_or_more_stories', 'garage_1_or_more', 'garage_2_or_more', 'garage_3_or_more', 'waterfront', 'guest_house', 'floor_plan', 'rental_property', 'big_lot', 'views', 'lake']\": 5, \"['dishwasher', 'hill_or_mountain_view', 'recreation_facilities', 'view', 'washer_dryer', 'two_or_more_stories', 'garage_1_or_more', 'garage_2_or_more', 'open_floor_plan', 'floor_plan', 'mountain_view', 'views', 'maintenance']\": 5, \"['central_air', 'dishwasher', 'forced_air', 'basement', 'single_story', 'garage_1_or_more', 'garage_2_or_more', 'groundscare', 'fixer_upper']\": 5, \"['central_air', 'community_clubhouse', 'community_golf', 'community_outdoor_space', 'dishwasher', 'fireplace', 'forced_air', 'golf_course_lot_or_frontage', 'golf_course_view', 'laundry_room', 'recreation_facilities', 'view', 'washer_dryer', 'basement', 'single_story', 'garage_1_or_more', 'garage_2_or_more', 'garage_3_or_more', 'master_bathroom', 'open_floor_plan', 'floor_plan', 'big_lot', 'mountain_view', 'golf_course', 'views']\": 5, \"['hill_or_mountain_view', 'lake_view', 'view', 'water_view', 'solar_system', 'big_lot', 'mountain_view', 'solar_panels', 'golf_course', 'views', 'lake']\": 5, \"['city_view', 'dishwasher', 'hill_or_mountain_view', 'lake_view', 'view', 'water_view', 'basement', 'single_story', 'garage_1_or_more', 'garage_2_or_more', 'garage_3_or_more', 'vaulted_ceiling', 'big_bathroom', 'open_floor_plan', 'floor_plan', 'master_suite', 'big_lot', 'views', 'lake']\": 5, \"['community_outdoor_space', 'community_security_features', 'forced_air', 'basement', 'fenced_yard']\": 5, \"['community_outdoor_space', 'dishwasher', 'basement', 'single_story', 'garage_1_or_more', 'garage_2_or_more', 'waterfront', 'granite_kitchen', 'open_floor_plan', 'floor_plan', 'big_lot', 'horse_stables', 'horse_property', 'equestrian', 'ensuite', 'lake_view', 'mountain_view', 'views', 'lake']\": 5, \"['dishwasher', 'basement', 'two_or_more_stories', 'garage_1_or_more', 'garage_2_or_more']\": 5, \"['community_outdoor_space', 'dishwasher', 'fireplace', 'forced_air', 'basement', 'garage_1_or_more']\": 5, \"['city_view', 'community_security_features', 'dishwasher', 'fireplace', 'laundry_room', 'single_story', 'garage_1_or_more', 'master_suite', 'shopping']\": 5, \"['hill_or_mountain_view', 'recreation_facilities', 'view', 'park', 'views']\": 5, \"['community_outdoor_space', 'dishwasher', 'forced_air', 'basement', 'garage_1_or_more', 'fenced_yard']\": 5, \"['central_air', 'dishwasher', 'forced_air', 'laundry_room', 'single_story', 'garage_1_or_more', 'vaulted_ceiling', 'trails', 'medicalcare']\": 5, \"['dishwasher', 'forced_air', 'recreation_facilities', 'basement', 'garage_1_or_more', 'garage_2_or_more', 'garage_3_or_more', 'trails']\": 5, \"['central_air', 'community_outdoor_space', 'dishwasher', 'forced_air', 'hill_or_mountain_view', 'recreation_facilities', 'view', 'basement', 'single_story', 'garage_1_or_more', 'garage_2_or_more', 'updated_kitchen', 'modern_kitchen', 'large_kitchen', 'fenced_yard', 'vaulted_ceiling', 'fruit_trees', 'rental_property', 'big_lot', 'greenhouse', 'groundscare']\": 5, \"['central_air', 'community_outdoor_space', 'dishwasher', 'forced_air', 'hill_or_mountain_view', 'recreation_facilities', 'view', 'basement', 'two_or_more_stories', 'garage_1_or_more', 'garage_2_or_more', 'fenced_yard', 'corner_lot', 'master_suite', 'front_porch']\": 5, \"['hill_or_mountain_view', 'view', 'big_lot', 'mountain_view', 'trails', 'views', 'shopping']\": 5, \"['central_air', 'community_outdoor_space', 'dishwasher', 'forced_air', 'hill_or_mountain_view', 'recreation_facilities', 'view', 'washer_dryer', 'basement', 'garage_1_or_more', 'garage_2_or_more', 'big_lot', 'horse_stables', 'equestrian', 'farm', 'ranch', 'views']\": 5, \"['community_outdoor_space', 'community_security_features', 'dishwasher', 'fireplace', 'hill_or_mountain_view', 'laundry_room', 'recreation_facilities', 'view', 'washer_dryer', 'basement', 'garage_1_or_more', 'single_story', 'updated_kitchen', 'farm', 'ranch', 'trails']\": 5, \"['central_air', 'city_view', 'community_outdoor_space', 'dishwasher', 'family_room', 'fireplace', 'forced_air', 'hardwood_floors', 'laundry_room', 'view', 'basement', 'two_or_more_stories', 'high_ceiling', 'guest_house', 'rental_property', 'shopping']\": 5, \"['central_air', 'city_view', 'community_outdoor_space', 'community_security_features', 'dining_room', 'dishwasher', 'family_room', 'fireplace', 'forced_air', 'hardwood_floors', 'laundry_room', 'recreation_facilities', 'view', 'community_swimming_pool', 'two_or_more_stories', 'garage_1_or_more', 'garage_2_or_more', 'fenced_yard', 'open_floor_plan', 'floor_plan', 'investment_opportunity']\": 5, \"['carport', 'central_air', 'fireplace', 'forced_air', 'single_story', 'investment_opportunity']\": 5, \"['central_air', 'city_view', 'community_outdoor_space', 'cul_de_sac', 'dishwasher', 'fireplace', 'forced_air', 'hardwood_floors', 'laundry_room', 'view', 'swimming_pool', 'two_or_more_stories', 'garage_1_or_more', 'garage_2_or_more', 'modern_kitchen', 'large_kitchen', 'open_floor_plan', 'floor_plan', 'shopping', 'fixer_upper']\": 5, \"['central_air', 'community_outdoor_space', 'dishwasher', 'family_room', 'fireplace', 'laundry_room', 'single_story', 'garage_1_or_more', 'garage_2_or_more', 'big_lot', 'farm', 'ranch', 'shopping']\": 5, \"['carport', 'central_air', 'central_heat', 'community_outdoor_space', 'dishwasher', 'family_room', 'fireplace', 'hardwood_floors', 'laundry_room', 'recreation_facilities', 'washer_dryer', 'two_or_more_stories', 'garage_1_or_more', 'garage_2_or_more', 'modern_kitchen', 'large_kitchen', 'high_ceiling', 'master_bedroom', 'big_lot', 'new_roof']\": 5, \"['carport', 'community_outdoor_space', 'community_tennis_court', 'corner_lot', 'den_or_office', 'fireplace', 'forced_air', 'hardwood_floors', 'recreation_facilities', 'tennis_court', 'community_swimming_pool', 'basement', 'two_or_more_stories', 'garage_1_or_more', 'garage_2_or_more', 'garage_3_or_more', 'big_lot']\": 5, \"['central_air', 'city_view', 'community_clubhouse', 'community_outdoor_space', 'community_security_features', 'community_tennis_court', 'dining_room', 'dishwasher', 'family_room', 'fireplace', 'forced_air', 'hardwood_floors', 'laundry_room', 'recreation_facilities', 'tennis_court', 'view', 'washer_dryer', 'community_swimming_pool', 'two_or_more_stories', 'garage_1_or_more', 'garage_2_or_more', 'floor_plan', 'screen_porch', 'park', 'playground', 'tennis', 'trails']\": 5, \"['central_air', 'community_outdoor_space', 'community_security_features', 'dishwasher', 'fireplace', 'forced_air', 'hardwood_floors', 'laundry_room', 'washer_dryer', 'swimming_pool', 'basement', 'two_or_more_stories', 'garage_1_or_more', 'garage_2_or_more', 'garage_3_or_more', 'wooded_land', 'master_suite', 'large_porch', 'big_lot', 'farm', 'views', 'lake']\": 5, \"['central_air', 'city_view', 'community_clubhouse', 'community_golf', 'community_outdoor_space', 'community_tennis_court', 'fireplace', 'golf_course_lot_or_frontage', 'hardwood_floors', 'recreation_facilities', 'tennis_court', 'view', 'community_swimming_pool', 'two_or_more_stories', 'modern_kitchen', 'large_kitchen', 'front_porch', 'golf_course', 'tennis', 'trails', 'lake', 'maintenance']\": 5, \"['central_air', 'city_view', 'community_outdoor_space', 'community_security_features', 'dishwasher', 'fireplace', 'forced_air', 'hardwood_floors', 'laundry_room', 'view', 'two_or_more_stories', 'garage_1_or_more', 'cathedral_ceiling', 'shopping']\": 5, \"['central_air', 'community_outdoor_space', 'fireplace', 'hardwood_floors', 'laundry_room', 'two_or_more_stories', 'garage_1_or_more', 'garage_2_or_more', 'garage_3_or_more', 'modern_kitchen', 'large_kitchen', 'no_hoa']\": 5, \"['central_air', 'city_view', 'community_tennis_court', 'cul_de_sac', 'family_room', 'fireplace', 'forced_air', 'laundry_room', 'recreation_facilities', 'tennis_court', 'view', 'community_swimming_pool', 'two_or_more_stories', 'garage_1_or_more', 'garage_2_or_more', 'vaulted_ceiling', 'big_bathroom']\": 5, \"['city_view', 'community_outdoor_space', 'community_security_features', 'community_tennis_court', 'corner_lot', 'dishwasher', 'fireplace', 'forced_air', 'hardwood_floors', 'laundry_room', 'recreation_facilities', 'tennis_court', 'view', 'washer_dryer', 'community_swimming_pool', 'two_or_more_stories', 'garage_1_or_more', 'garage_2_or_more', 'fenced_yard', 'floor_plan', 'master_suite', 'shopping']\": 5, \"['central_air', 'city_view', 'community_clubhouse', 'community_outdoor_space', 'community_security_features', 'community_tennis_court', 'corner_lot', 'dining_room', 'dishwasher', 'fireplace', 'forced_air', 'hardwood_floors', 'laundry_room', 'recreation_facilities', 'tennis_court', 'view', 'community_swimming_pool', 'two_or_more_stories', 'garage_1_or_more', 'modern_kitchen', 'large_kitchen', 'private_backyard', 'master_suite', 'new_roof', 'clubhouse', 'playground', 'tennis', 'trails']\": 5, \"['central_air', 'city_view', 'community_gym', 'community_security_features', 'dining_room', 'dishwasher', 'laundry_room', 'recreation_facilities', 'view', 'single_story', 'garage_1_or_more', 'high_ceiling', 'open_floor_plan', 'floor_plan', 'ensuite']\": 5, \"['central_air', 'community_outdoor_space', 'fireplace', 'hardwood_floors', 'two_or_more_stories', 'garage_1_or_more', 'garage_2_or_more', 'garage_3_or_more', 'no_hoa']\": 5, \"['city_view', 'dining_room', 'dishwasher', 'fireplace', 'forced_air', 'hardwood_floors', 'laundry_room', 'recreation_facilities', 'view', 'community_swimming_pool', 'two_or_more_stories', 'garage_1_or_more', 'updated_kitchen', 'cathedral_ceiling', 'trails', 'shopping']\": 5, \"['central_air', 'community_outdoor_space', 'community_security_features', 'dishwasher', 'family_room', 'fireplace', 'forced_air', 'hardwood_floors', 'laundry_room', 'two_or_more_stories', 'garage_1_or_more', 'garage_2_or_more', 'garage_3_or_more', 'wooded_land', 'big_lot']\": 5, \"['central_air', 'community_outdoor_space', 'cul_de_sac', 'dishwasher', 'forced_air', 'laundry_room', 'washer_dryer', 'single_story', 'garage_1_or_more', 'garage_2_or_more', 'open_floor_plan', 'floor_plan', 'big_lot', 'farm', 'ranch', 'maintenance', 'shopping']\": 5, \"['central_air', 'city_view', 'community_clubhouse', 'community_outdoor_space', 'community_security_features', 'community_tennis_court', 'dishwasher', 'family_room', 'fireplace', 'forced_air', 'hardwood_floors', 'laundry_room', 'recreation_facilities', 'spa_or_hot_tub', 'tennis_court', 'view', 'washer_dryer', 'community_swimming_pool', 'two_or_more_stories', 'garage_1_or_more', 'garage_2_or_more', 'granite_kitchen', 'modern_kitchen', 'large_kitchen', 'gourmet_kitchen', 'fenced_yard', 'coffer_ceiling', 'wrap_around_porch', 'playground', 'tennis']\": 5, \"['central_air', 'city_view', 'view', 'single_story', 'fenced_yard']\": 5, \"['central_air', 'city_view', 'community_outdoor_space', 'fireplace', 'forced_air', 'view', 'two_or_more_stories', 'no_hoa', 'shopping']\": 5, \"['central_air', 'city_view', 'community_clubhouse', 'community_outdoor_space', 'community_security_features', 'dishwasher', 'fireplace', 'forced_air', 'hardwood_floors', 'laundry_room', 'recreation_facilities', 'view', 'washer_dryer', 'community_swimming_pool', 'two_or_more_stories', 'garage_1_or_more', 'open_floor_plan', 'floor_plan', 'front_porch', 'pond', 'smart_homes', 'clubhouse', 'views', 'maintenance', 'shopping']\": 5, \"['city_view', 'hardwood_floors', 'view', 'single_story', 'big_lot', 'park']\": 5, \"['city_view', 'hardwood_floors', 'view', 'big_lot', 'lake', 'shopping']\": 5, \"['central_air', 'community_outdoor_space', 'dining_room', 'dishwasher', 'fireplace', 'forced_air', 'laundry_room', 'two_or_more_stories', 'open_floor_plan', 'floor_plan', 'big_lot', 'new_roof', 'shopping']\": 5, \"['central_air', 'city_view', 'community_outdoor_space', 'community_security_features', 'dishwasher', 'fireplace', 'hardwood_floors', 'laundry_room', 'view', 'washer_dryer', 'two_or_more_stories', 'garage_1_or_more', 'granite_kitchen', 'modern_kitchen', 'large_kitchen', 'ensuite', 'groundscare', 'shopping']\": 5, \"['city_view', 'community_outdoor_space', 'cul_de_sac', 'dishwasher', 'fireplace', 'hardwood_floors', 'laundry_room', 'view', 'washer_dryer', 'swimming_pool', 'two_or_more_stories', 'no_hoa']\": 5, \"['central_air', 'city_view', 'forced_air', 'view', 'single_story', 'master_bedroom', 'big_lot', 'shopping']\": 5, \"['central_air', 'city_view', 'community_outdoor_space', 'dining_room', 'dishwasher', 'family_room', 'fireplace', 'forced_air', 'hardwood_floors', 'laundry_room', 'view', 'basement', 'two_or_more_stories', 'garage_1_or_more', 'big_yard', 'fenced_yard', 'big_bathroom', 'library', 'community_center', 'soccer', 'shopping']\": 5, \"['central_air', 'city_view', 'community_outdoor_space', 'community_tennis_court', 'dining_room', 'dishwasher', 'family_room', 'fireplace', 'forced_air', 'hardwood_floors', 'laundry_room', 'recreation_facilities', 'tennis_court', 'view', 'community_swimming_pool', 'two_or_more_stories', 'garage_1_or_more', 'garage_2_or_more', 'tennis']\": 5, \"['central_air', 'city_view', 'community_golf', 'community_outdoor_space', 'community_tennis_court', 'dishwasher', 'family_room', 'fireplace', 'forced_air', 'golf_course_lot_or_frontage', 'golf_course_view', 'hardwood_floors', 'laundry_room', 'recreation_facilities', 'tennis_court', 'view', 'community_swimming_pool', 'two_or_more_stories', 'garage_1_or_more', 'garage_2_or_more', 'garage_3_or_more', 'granite_kitchen', 'gourmet_kitchen', 'golf_course', 'views']\": 5, \"['central_air', 'community_outdoor_space', 'dishwasher', 'fireplace', 'forced_air', 'two_or_more_stories', 'garage_1_or_more', 'granite_kitchen']\": 5, \"['central_air', 'central_heat', 'city_view', 'community_outdoor_space', 'community_security_features', 'dining_room', 'dishwasher', 'fireplace', 'forced_air', 'hardwood_floors', 'laundry_room', 'recreation_facilities', 'view', 'washer_dryer', 'single_story', 'garage_1_or_more', 'garage_2_or_more', 'big_bathroom', 'floor_plan', 'elevator', 'views', 'hoa', 'groundscare', 'medicalcare', 'shopping']\": 5, \"['central_air', 'city_view', 'dishwasher', 'recreation_facilities', 'view', 'community_swimming_pool', 'garage_1_or_more', 'private_backyard', 'vaulted_ceiling', 'open_floor_plan', 'floor_plan', 'new_roof', 'park', 'shopping']\": 5, \"['central_air', 'city_view', 'community_clubhouse', 'community_outdoor_space', 'community_tennis_court', 'corner_lot', 'cul_de_sac', 'dining_room', 'dishwasher', 'fireplace', 'forced_air', 'hardwood_floors', 'laundry_room', 'recreation_facilities', 'tennis_court', 'view', 'washer_dryer', 'community_swimming_pool', 'two_or_more_stories', 'garage_1_or_more', 'garage_2_or_more', 'front_porch', 'clubhouse', 'park', 'playground', 'tennis', 'volleyball', 'trails', 'medicalcare', 'shopping']\": 5, \"['central_air', 'community_outdoor_space', 'dishwasher', 'forced_air', 'basement', 'single_story', 'garage_1_or_more', 'garage_2_or_more', 'garage_3_or_more', 'fenced_yard']\": 5, \"['forced_air', 'basement', 'single_story', 'rental_property', 'fixer_upper']\": 5, \"['community_outdoor_space', 'den_or_office', 'dining_room', 'dishwasher', 'fireplace', 'washer_dryer', 'basement', 'single_story', 'garage_1_or_more', 'garage_2_or_more', 'ensuite']\": 5, \"['central_air', 'community_outdoor_space', 'dining_room', 'family_room', 'fireplace', 'basement', 'two_or_more_stories', 'garage_1_or_more', 'garage_2_or_more', 'modern_kitchen', 'large_kitchen', 'open_kitchen', 'high_ceiling', 'vaulted_ceiling', 'golf_course', 'views']\": 5, \"['central_air', 'city_view', 'community_outdoor_space', 'dishwasher', 'family_room', 'fireplace', 'forced_air', 'laundry_room', 'view', 'basement', 'two_or_more_stories', 'garage_1_or_more', 'garage_2_or_more', 'big_yard', 'fenced_yard']\": 5, \"['central_air', 'community_outdoor_space', 'dining_room', 'dishwasher', 'family_room', 'fireplace', 'forced_air', 'basement', 'two_or_more_stories', 'garage_1_or_more', 'garage_2_or_more', 'garage_3_or_more', 'big_bathroom', 'open_floor_plan', 'floor_plan', 'corner_lot']\": 5, \"['central_air', 'community_outdoor_space', 'fireplace', 'forced_air', 'basement', 'two_or_more_stories', 'garage_1_or_more', 'garage_2_or_more', 'vaulted_ceiling', 'wine_cellar', 'ensuite']\": 5, \"['central_air', 'community_outdoor_space', 'den_or_office', 'dining_room', 'family_room', 'forced_air', 'recreation_facilities', 'basement', 'single_story', 'garage_1_or_more', 'fenced_yard', 'vaulted_ceiling', 'farm', 'ranch', 'new_roof']\": 5, \"['central_air', 'community_outdoor_space', 'fireplace', 'forced_air', 'basement', 'two_or_more_stories', 'garage_1_or_more', 'granite_kitchen', 'guest_parking', 'big_lot', 'new_roof', 'groundscare']\": 5, \"['central_air', 'community_outdoor_space', 'den_or_office', 'family_room', 'forced_air', 'hardwood_floors', 'basement', 'single_story', 'garage_1_or_more', 'garage_2_or_more', 'fenced_yard', 'farm', 'ranch']\": 5, \"['central_air', 'city_view', 'dishwasher', 'family_room', 'hardwood_floors', 'laundry_room', 'view', 'basement', 'single_story', 'garage_1_or_more', 'garage_2_or_more', 'modern_kitchen', 'open_kitchen', 'private_backyard', 'cathedral_ceiling', 'master_bedroom', 'ensuite', 'farm', 'ranch']\": 5, \"['central_air', 'city_view', 'community_outdoor_space', 'dishwasher', 'forced_air', 'view', 'washer_dryer', 'basement', 'single_story', 'garage_1_or_more', 'updated_kitchen']\": 5, \"['central_air', 'community_outdoor_space', 'dishwasher', 'forced_air', 'senior_community', 'single_story', 'garage_1_or_more']\": 5, \"['central_air', 'city_view', 'den_or_office', 'dishwasher', 'family_room', 'forced_air', 'hardwood_floors', 'laundry_room', 'view', 'washer_dryer', 'basement', 'single_story', 'garage_1_or_more', 'garage_2_or_more', 'updated_kitchen', 'shopping']\": 5, \"['central_air', 'city_view', 'community_clubhouse', 'community_outdoor_space', 'dining_room', 'dishwasher', 'family_room', 'fireplace', 'hardwood_floors', 'recreation_facilities', 'view', 'basement', 'two_or_more_stories', 'garage_1_or_more', 'garage_2_or_more', 'updated_kitchen', 'fenced_yard', 'ensuite', 'trails', 'shopping']\": 5, \"['central_air', 'city_view', 'community_outdoor_space', 'dining_room', 'dishwasher', 'forced_air', 'hardwood_floors', 'view', 'washer_dryer', 'basement', 'single_story', 'garage_1_or_more', 'front_porch', 'library', 'farm', 'ranch']\": 5, \"['central_air', 'city_view', 'community_outdoor_space', 'corner_lot', 'dining_room', 'dishwasher', 'family_room', 'fireplace', 'forced_air', 'hardwood_floors', 'view', 'washer_dryer', 'basement', 'two_or_more_stories', 'garage_1_or_more', 'garage_2_or_more', 'vaulted_ceiling', 'new_roof', 'clubhouse', 'views']\": 5, \"['central_air', 'community_outdoor_space', 'dishwasher', 'fireplace', 'forced_air', 'basement', 'two_or_more_stories', 'garage_1_or_more', 'garage_2_or_more', 'garage_3_or_more', 'coffer_ceiling']\": 5, \"['central_air', 'community_outdoor_space', 'forced_air', 'basement', 'single_story', 'garage_1_or_more', 'garage_2_or_more', 'farm', 'ranch', 'new_roof', 'shopping']\": 5, \"['central_air', 'city_view', 'community_outdoor_space', 'dining_room', 'forced_air', 'hardwood_floors', 'view', 'basement', 'garage_1_or_more', 'open_floor_plan', 'floor_plan', 'ensuite', 'new_roof']\": 5, \"['central_air', 'city_view', 'cul_de_sac', 'dishwasher', 'forced_air', 'view', 'basement', 'two_or_more_stories', 'garage_1_or_more', 'garage_2_or_more']\": 5, \"['central_air', 'city_view', 'community_outdoor_space', 'dining_room', 'forced_air', 'view', 'washer_dryer', 'single_story', 'garage_1_or_more']\": 5, \"['central_air', 'community_outdoor_space', 'dishwasher', 'family_room', 'forced_air', 'basement', 'two_or_more_stories', 'garage_1_or_more', 'garage_2_or_more', 'rental_property', 'shopping']\": 5, \"['central_air', 'community_outdoor_space', 'fireplace', 'forced_air', 'basement', 'two_or_more_stories', 'garage_1_or_more', 'garage_2_or_more', 'modern_kitchen', 'open_kitchen', 'new_roof']\": 5, \"['central_air', 'fireplace', 'forced_air', 'basement', 'two_or_more_stories', 'garage_1_or_more']\": 5, \"['central_air', 'community_outdoor_space', 'forced_air', 'recreation_facilities', 'basement', 'single_story', 'garage_1_or_more', 'garage_2_or_more', 'updated_kitchen', 'fenced_yard', 'big_bathroom', 'farm', 'ranch']\": 5, \"['central_air', 'community_outdoor_space', 'forced_air', 'basement', 'single_story', 'garage_1_or_more', 'garage_2_or_more']\": 5, \"['central_air', 'city_view', 'community_outdoor_space', 'dining_room', 'dishwasher', 'family_room', 'forced_air', 'view', 'washer_dryer', 'basement', 'two_or_more_stories', 'garage_1_or_more', 'garage_2_or_more', 'modern_kitchen', 'large_kitchen', 'big_yard', 'fenced_yard', 'jack_and_jill_bathroom']\": 5, \"['central_air', 'city_view', 'community_outdoor_space', 'dining_room', 'dishwasher', 'family_room', 'fireplace', 'forced_air', 'view', 'washer_dryer', 'basement', 'single_story', 'garage_1_or_more', 'garage_2_or_more']\": 5, \"['central_air', 'city_view', 'community_outdoor_space', 'community_security_features', 'dishwasher', 'fireplace', 'forced_air', 'hardwood_floors', 'laundry_room', 'view', 'washer_dryer', 'garage_1_or_more', 'garage_2_or_more', 'modern_kitchen', 'large_kitchen', 'ensuite']\": 5, \"['central_air', 'city_view', 'community_outdoor_space', 'dishwasher', 'forced_air', 'view', 'basement', 'two_or_more_stories', 'garage_1_or_more', 'garage_2_or_more', 'big_yard', 'golf_course']\": 5, \"['central_air', 'city_view', 'community_outdoor_space', 'dishwasher', 'fireplace', 'forced_air', 'hardwood_floors', 'view', 'washer_dryer', 'basement', 'two_or_more_stories', 'corner_lot', 'open_house', 'new_roof']\": 5, \"['central_air', 'city_view', 'community_outdoor_space', 'dishwasher', 'family_room', 'fireplace', 'hardwood_floors', 'view', 'basement', 'single_story', 'garage_1_or_more', 'garage_2_or_more', 'high_ceiling', 'vaulted_ceiling']\": 5, \"['central_air', 'city_view', 'community_outdoor_space', 'dining_room', 'dishwasher', 'forced_air', 'view', 'washer_dryer', 'basement', 'single_story', 'garage_1_or_more', 'garage_2_or_more', 'fenced_yard', 'farm', 'ranch', 'trails', 'shopping']\": 5, \"['central_air', 'city_view', 'community_outdoor_space', 'dining_room', 'family_room', 'fireplace', 'forced_air', 'view', 'washer_dryer', 'basement', 'single_story', 'garage_1_or_more', 'garage_2_or_more', 'modern_kitchen', 'large_kitchen', 'views']\": 5, \"['central_air', 'city_view', 'community_outdoor_space', 'den_or_office', 'dishwasher', 'family_room', 'fireplace', 'forced_air', 'hardwood_floors', 'laundry_room', 'view', 'washer_dryer', 'basement', 'single_story', 'garage_1_or_more', 'garage_2_or_more', 'garage_3_or_more', 'modern_kitchen', 'open_kitchen', 'efficient', 'farm', 'ranch']\": 5, \"['central_air', 'community_outdoor_space', 'cul_de_sac', 'den_or_office', 'dishwasher', 'family_room', 'fireplace', 'forced_air', 'washer_dryer', 'basement', 'single_story', 'garage_1_or_more', 'garage_2_or_more', 'rental_property', 'new_roof']\": 5, \"['central_air', 'community_outdoor_space', 'forced_air', 'single_story', 'garage_1_or_more', 'garage_2_or_more']\": 5, \"['central_heat', 'basement', 'two_or_more_stories']\": 5, \"['forced_air', 'basement', 'two_or_more_stories', 'front_porch', 'rental_property']\": 5, \"['forced_air', 'basement', 'two_or_more_stories', 'investment_opportunity']\": 5, \"['basement', 'two_or_more_stories', 'updated_kitchen', 'floor_plan']\": 5, \"['basement', 'two_or_more_stories', 'garage_1_or_more']\": 5, \"['central_air', 'disability_features', 'fireplace', 'forced_air', 'recreation_facilities', 'two_or_more_stories', 'garage_1_or_more', 'updated_kitchen', 'vaulted_ceiling', 'groundscare']\": 5, \"['basement', 'rental_property', 'fixer_upper']\": 5, \"['central_air', 'forced_air', 'basement', 'two_or_more_stories', 'garage_1_or_more', 'open_floor_plan', 'floor_plan']\": 5, \"['central_air', 'forced_air', 'swimming_pool', 'two_or_more_stories', 'garage_1_or_more', 'updated_kitchen', 'fenced_yard', 'front_porch', 'groundscare']\": 5, \"['disability_features', 'basement', 'investment_opportunity']\": 5, \"['forced_air', 'basement', 'two_or_more_stories', 'shopping']\": 5, \"['central_air', 'forced_air', 'two_or_more_stories', 'garage_1_or_more', 'gourmet_kitchen', 'wooded_land', 'ensuite', 'park', 'playground', 'trails', 'medicalcare', 'shopping']\": 5, \"['central_air', 'dining_room', 'dishwasher', 'forced_air', 'basement', 'two_or_more_stories', 'garage_1_or_more', 'vaulted_ceiling', 'open_floor_plan', 'floor_plan', 'ensuite', 'trails', 'lake', 'shopping']\": 5, \"['community_outdoor_space', 'forced_air', 'hardwood_floors', 'basement', 'private_backyard']\": 5, \"['disability_features', 'garage_1_or_more', 'garage_2_or_more', 'basement', 'two_or_more_stories', 'granite_kitchen', 'updated_kitchen', 'high_ceiling', 'rental_property', 'new_roof']\": 5, \"['forced_air', 'basement', 'two_or_more_stories', 'granite_kitchen', 'updated_kitchen', 'big_yard', 'rental_property']\": 5, \"['central_air', 'dining_room', 'disability_features', 'fireplace', 'forced_air', 'two_or_more_stories', 'garage_1_or_more', 'garage_2_or_more', 'open_floor_plan', 'floor_plan', 'views']\": 5, \"['basement', 'two_or_more_stories', 'rental_property', 'investment_opportunity']\": 5, \"['basement', 'two_or_more_stories', 'garage_1_or_more', 'garage_2_or_more', 'front_porch', 'fixer_upper']\": 5, \"['forced_air', 'basement', 'rental_property', 'investment_opportunity']\": 5, \"['basement', 'two_or_more_stories', 'big_bathroom']\": 5, \"['community_outdoor_space', 'basement', 'two_or_more_stories', 'fenced_yard', 'high_ceiling', 'investment_opportunity', 'new_roof', 'fixer_upper']\": 5, \"['forced_air', 'basement', 'two_or_more_stories', 'rental_property']\": 5, \"['washer_dryer', 'basement', 'two_or_more_stories', 'private_backyard', 'rental_property', 'shopping']\": 5, \"['central_air', 'forced_air', 'two_or_more_stories', 'garage_1_or_more', 'updated_kitchen', 'new_roof']\": 5, \"['forced_air', 'washer_dryer', 'basement', 'two_or_more_stories']\": 5, \"['central_air', 'fireplace', 'forced_air', 'basement', 'two_or_more_stories', 'garage_1_or_more', 'cathedral_ceiling', 'new_roof', 'shopping']\": 5, \"['community_outdoor_space', 'dining_room', 'hardwood_floors', 'basement', 'two_or_more_stories', 'garage_1_or_more', 'garage_2_or_more', 'granite_kitchen', 'modern_kitchen', 'open_kitchen', 'investment_opportunity', 'new_roof']\": 5, \"['dishwasher', 'washer_dryer', 'basement', 'two_or_more_stories', 'efficient', 'new_roof', 'clubhouse', 'golf_course', 'shopping']\": 5, \"['central_air', 'dishwasher', 'forced_air', 'hardwood_floors', 'washer_dryer', 'swimming_pool', 'basement', 'two_or_more_stories', 'garage_1_or_more', 'shopping']\": 5, \"['dining_room', 'dishwasher', 'hardwood_floors', 'laundry_room', 'washer_dryer', 'basement', 'two_or_more_stories', 'shopping']\": 5, \"['basement', 'two_or_more_stories', 'rental_property']\": 5, \"['carport', 'community_security_features', 'dishwasher', 'fireplace', 'hardwood_floors', 'recreation_facilities', 'washer_dryer', 'two_or_more_stories', 'guest_house', 'big_lot']\": 5, \"['community_security_features', 'fireplace', 'single_story', 'garage_1_or_more', 'garage_2_or_more', 'floor_plan']\": 5, \"['single_story', 'waterfront', 'big_lot', 'trails']\": 5, \"['dishwasher', 'fireplace', 'washer_dryer', 'single_story', 'garage_1_or_more', 'garage_2_or_more', 'garage_3_or_more', 'guest_house', 'trails', 'views']\": 5, \"['community_security_features', 'dishwasher', 'fireplace', 'forced_air', 'hardwood_floors', 'washer_dryer', 'single_story', 'garage_1_or_more', 'garage_2_or_more', 'garage_3_or_more', 'high_ceiling', 'solar_system', 'outbuilding', 'library', 'big_lot', 'solar_panels', 'views']\": 5, \"['community_security_features', 'dishwasher', 'fireplace', 'recreation_facilities', 'two_or_more_stories', 'garage_1_or_more', 'garage_2_or_more', 'corner_lot', 'ensuite', 'shopping']\": 5, \"['forced_air', 'single_story', 'updated_kitchen', 'modern_kitchen', 'large_kitchen', 'open_kitchen', 'open_floor_plan', 'floor_plan', 'new_roof', 'shopping']\": 5, \"['community_security_features', 'dishwasher', 'washer_dryer', 'two_or_more_stories', 'garage_1_or_more', 'garage_2_or_more', 'modern_kitchen', 'kitchen_island', 'large_kitchen', 'open_kitchen', 'high_ceiling', 'rental_property', 'ensuite', 'river_view', 'trails', 'shopping']\": 5, \"['community_security_features', 'dishwasher', 'fireplace', 'recreation_facilities', 'washer_dryer', 'single_story', 'garage_1_or_more', 'garage_2_or_more', 'updated_kitchen', 'high_ceiling', 'park', 'trails']\": 5, \"['community_security_features', 'dishwasher', 'hardwood_floors', 'washer_dryer', 'basement', 'two_or_more_stories', 'new_roof']\": 5, \"['carport', 'central_air', 'community_security_features', 'dishwasher', 'fireplace', 'forced_air', 'hardwood_floors', 'washer_dryer', 'single_story', 'garage_1_or_more', 'updated_kitchen', 'open_floor_plan', 'floor_plan', 'new_roof', 'views']\": 5, \"['community_security_features', 'fireplace', 'recreation_facilities', 'washer_dryer', 'single_story', 'garage_1_or_more', 'garage_2_or_more', 'floor_plan', 'trails', 'greenbelt', 'views']\": 5, \"['central_air', 'community_clubhouse', 'dishwasher', 'fireplace', 'forced_air', 'recreation_facilities', 'tennis_court', 'washer_dryer', 'community_swimming_pool', 'single_story', 'garage_1_or_more', 'garage_2_or_more', 'open_floor_plan', 'floor_plan', 'library', 'tennis', 'trails', 'hoa']\": 5, \"['fireplace', 'forced_air', 'two_or_more_stories']\": 5, \"['central_air', 'dishwasher', 'fireplace', 'forced_air', 'hardwood_floors', 'washer_dryer', 'basement', 'single_story', 'gourmet_kitchen', 'private_courtyard']\": 5, \"['hill_or_mountain_view', 'view', 'garage_1_or_more', 'rental_property', 'gated_community', 'security', 'maintenance']\": 5, \"['fireplace', 'two_or_more_stories', 'garage_1_or_more', 'garage_2_or_more', 'garage_3_or_more', 'basement', 'waterfront', 'big_yard', 'master_bedroom', 'fruit_trees', 'well_water', 'rental_property', 'big_lot', 'groundscare']\": 5, \"['central_air', 'dishwasher', 'fireplace', 'forced_air', 'washer_dryer', 'single_story', 'garage_1_or_more', 'garage_2_or_more', 'open_floor_plan', 'floor_plan', 'ensuite']\": 5, \"['central_air', 'dishwasher', 'fireplace', 'forced_air', 'washer_dryer', 'two_or_more_stories', 'garage_1_or_more', 'garage_2_or_more', 'high_ceiling', 'mountain_view', 'trails', 'views', 'maintenance']\": 5, \"['dishwasher', 'fireplace', 'forced_air', 'washer_dryer', 'single_story', 'garage_1_or_more', 'garage_2_or_more', 'clubhouse', 'shopping']\": 5, \"['dishwasher', 'fireplace', 'washer_dryer', 'single_story', 'guest_house', 'big_lot']\": 5, \"['community_clubhouse', 'community_security_features', 'dishwasher', 'fireplace', 'hardwood_floors', 'recreation_facilities', 'tennis_court', 'washer_dryer', 'community_swimming_pool', 'two_or_more_stories', 'garage_1_or_more', 'garage_2_or_more', 'updated_kitchen', 'modern_kitchen', 'large_kitchen', 'high_ceiling', 'solar_system', 'clubhouse', 'tennis', 'views']\": 5, \"['dishwasher', 'fireplace', 'hardwood_floors', 'washer_dryer', 'two_or_more_stories', 'garage_1_or_more', 'garage_2_or_more', 'master_suite']\": 5, \"['central_air', 'fireplace', 'forced_air', 'single_story', 'garage_1_or_more', 'garage_2_or_more', 'big_yard', 'high_ceiling', 'open_floor_plan', 'floor_plan', 'corner_lot', 'big_lot']\": 5, \"['central_air', 'community_clubhouse', 'community_security_features', 'dishwasher', 'fireplace', 'forced_air', 'recreation_facilities', 'washer_dryer', 'community_swimming_pool', 'two_or_more_stories', 'rental_property', 'gated_community', 'private_courtyard', 'trails', 'security', 'shopping']\": 5, \"['central_air', 'community_security_features', 'dishwasher', 'fireplace', 'forced_air', 'two_or_more_stories', 'garage_1_or_more', 'updated_kitchen', 'modern_kitchen', 'open_floor_plan', 'floor_plan', 'trails', 'shopping']\": 5, \"['carport', 'community_security_features', 'dishwasher', 'fireplace', 'forced_air', 'hardwood_floors', 'basement', 'single_story', 'fenced_yard', 'no_hoa', 'big_lot', 'medicalcare']\": 5, \"['community_security_features', 'dishwasher', 'hardwood_floors', 'washer_dryer', 'two_or_more_stories', 'high_ceiling', 'shopping']\": 5, \"['central_air', 'community_clubhouse', 'community_security_features', 'dishwasher', 'fireplace', 'recreation_facilities', 'tennis_court', 'basement', 'single_story', 'garage_1_or_more', 'garage_2_or_more', 'garage_3_or_more', 'fenced_yard', 'floor_plan', 'solar_system', 'rental_property', 'solar_panels', 'maintenance']\": 5, \"['dishwasher', 'fireplace', 'hardwood_floors', 'washer_dryer', 'single_story', 'garage_1_or_more', 'garage_2_or_more', 'garage_3_or_more', 'library', 'big_lot', 'efficient', 'mountain_view', 'views']\": 5, \"['community_clubhouse', 'recreation_facilities', 'tennis_court', 'washer_dryer', 'community_swimming_pool', 'single_story', 'medicalcare']\": 5, \"['community_security_features', 'dining_room', 'dishwasher', 'fireplace', 'laundry_room', 'washer_dryer', 'single_story', 'garage_1_or_more', 'big_yard', 'fenced_yard', 'solar_system', 'big_lot', 'mountain_view']\": 5, \"['fireplace', 'two_or_more_stories', 'garage_1_or_more', 'garage_2_or_more', 'updated_kitchen', 'library', 'big_lot', 'trails', 'shopping']\": 5, \"['fireplace', 'forced_air', 'two_or_more_stories', 'garage_1_or_more', 'garage_2_or_more', 'high_ceiling', 'open_floor_plan', 'floor_plan', 'private_courtyard', 'clubhouse', 'trails', 'shopping']\": 5, \"['central_air', 'community_security_features', 'dishwasher', 'fireplace', 'recreation_facilities', 'washer_dryer', 'single_story', 'garage_1_or_more', 'garage_2_or_more', 'no_hoa', 'park', 'trails', 'groundscare', 'medicalcare', 'shopping']\": 5, \"['community_security_features', 'dishwasher', 'fireplace', 'hardwood_floors', 'recreation_facilities', 'washer_dryer', 'basement', 'single_story', 'garage_1_or_more', 'garage_2_or_more', 'fenced_yard', 'floor_plan', 'front_porch', 'solar_system', 'big_lot', 'horse_stables', 'horse_property', 'solar_panels', 'new_roof']\": 5, \"['dishwasher', 'fireplace', 'hardwood_floors', 'washer_dryer', 'two_or_more_stories', 'garage_1_or_more', 'garage_2_or_more', 'private_backyard', 'high_ceiling', 'open_floor_plan', 'floor_plan', 'media_room', 'rental_property', 'big_lot', 'fenced_courtyard']\": 5, \"['community_security_features', 'dishwasher', 'fireplace', 'forced_air', 'washer_dryer', 'single_story', 'garage_1_or_more', 'garage_2_or_more', 'big_yard', 'fixer_upper']\": 5, \"['carport', 'community_clubhouse', 'community_outdoor_space', 'energy_efficient', 'forced_air', 'hill_or_mountain_view', 'lake_view', 'laundry_room', 'recreation_facilities', 'view', 'washer_dryer', 'water_view', 'community_swimming_pool', 'two_or_more_stories', 'granite_kitchen', 'modern_kitchen', 'open_kitchen', 'clubhouse', 'lake', 'maintenance', 'shopping']\": 5, \"['community_outdoor_space', 'energy_efficient', 'fireplace', 'forced_air', 'hardwood_floors', 'hill_or_mountain_view', 'laundry_room', 'view', 'washer_dryer', 'two_or_more_stories', 'garage_1_or_more', 'modern_kitchen', 'park']\": 5, \"['community_security_features', 'energy_efficient', 'family_room', 'fireplace', 'hill_or_mountain_view', 'laundry_room', 'view', 'washer_dryer', 'single_story', 'garage_1_or_more', 'garage_2_or_more', 'high_ceiling', 'big_lot', 'community_center', 'volleyball', 'groundscare', 'maintenance']\": 5, \"['community_outdoor_space', 'community_security_features', 'energy_efficient', 'family_room', 'forced_air', 'hill_or_mountain_view', 'laundry_room', 'rv_or_boat_parking', 'view', 'single_story', 'garage_1_or_more', 'garage_2_or_more', 'garage_3_or_more', 'rental_property', 'big_lot', 'ensuite', 'mountain_view', 'views']\": 5, \"['community_outdoor_space', 'energy_efficient', 'fireplace', 'forced_air', 'hill_or_mountain_view', 'laundry_room', 'rv_or_boat_parking', 'view', 'single_story', 'garage_1_or_more', 'garage_2_or_more', 'floor_plan', 'rental_property']\": 5, \"['community_outdoor_space', 'den_or_office', 'energy_efficient', 'family_room', 'fireplace', 'hardwood_floors', 'laundry_room', 'rv_or_boat_parking', 'washer_dryer', 'single_story', 'garage_1_or_more', 'garage_2_or_more', 'big_yard', 'rv_parking', 'trails', 'lake', 'medicalcare', 'shopping']\": 5, \"['community_outdoor_space', 'community_security_features', 'corner_lot', 'energy_efficient', 'family_room', 'fireplace', 'forced_air', 'hill_or_mountain_view', 'laundry_room', 'view', 'two_or_more_stories', 'garage_1_or_more', 'garage_2_or_more', 'garage_3_or_more', 'updated_kitchen', 'high_ceiling', 'vaulted_ceiling', 'jack_and_jill_bathroom', 'big_lot', 'ensuite', 'mountain_view', 'golf_course', 'views', 'hoa', 'maintenance', 'medicalcare']\": 5, \"['community_outdoor_space', 'forced_air', 'hill_or_mountain_view', 'laundry_room', 'rv_or_boat_parking', 'view', 'washer_dryer', 'single_story', 'garage_1_or_more', 'garage_2_or_more', 'rv_parking', 'groundscare']\": 5, \"['community_outdoor_space', 'den_or_office', 'energy_efficient', 'family_room', 'fireplace', 'forced_air', 'hardwood_floors', 'hill_or_mountain_view', 'laundry_room', 'view', 'single_story', 'garage_1_or_more', 'garage_2_or_more', 'garage_3_or_more', 'granite_kitchen', 'modern_kitchen', 'open_kitchen', 'high_ceiling', 'coffer_ceiling', 'no_hoa', 'mountain_view', 'views']\": 5, \"['community_outdoor_space', 'energy_efficient', 'fireplace', 'forced_air', 'hill_or_mountain_view', 'laundry_room', 'recreation_facilities', 'rv_or_boat_parking', 'spa_or_hot_tub', 'view', 'single_story', 'garage_1_or_more', 'garage_2_or_more', 'high_ceiling', 'fixer_upper']\": 5, \"['community_outdoor_space', 'den_or_office', 'energy_efficient', 'family_room', 'fireplace', 'forced_air', 'game_room', 'hill_or_mountain_view', 'horse_facilities', 'laundry_room', 'recreation_facilities', 'rv_or_boat_parking', 'spa_or_hot_tub', 'view', 'two_or_more_stories', 'garage_1_or_more', 'garage_2_or_more', 'garage_3_or_more', 'modern_kitchen', 'outdoor_kitchen', 'high_ceiling', 'master_bathroom', 'master_bedroom', 'open_floor_plan', 'floor_plan', 'master_suite', 'big_lot', 'efficient', 'water_view', 'views', 'groundscare']\": 5, \"['community_golf', 'community_outdoor_space', 'den_or_office', 'energy_efficient', 'family_room', 'fireplace', 'forced_air', 'golf_course_lot_or_frontage', 'golf_course_view', 'hill_or_mountain_view', 'laundry_room', 'recreation_facilities', 'rv_or_boat_parking', 'view', 'washer_dryer', 'two_or_more_stories', 'garage_1_or_more', 'garage_2_or_more', 'garage_3_or_more', 'no_hoa', 'big_lot', 'golf_course', 'views', 'lake']\": 5, \"['community_outdoor_space', 'energy_efficient', 'forced_air', 'laundry_room', 'recreation_facilities', 'two_or_more_stories', 'garage_1_or_more', 'high_ceiling', 'views']\": 5, \"['cul_de_sac', 'hill_or_mountain_view', 'view', 'big_lot', 'mountain_view', 'clubhouse', 'golf_course', 'tennis', 'trails', 'views', 'lake', 'beach']\": 5, \"['city_view', 'hill_or_mountain_view', 'view', 'basement']\": 5, \"['community_outdoor_space', 'corner_lot', 'cul_de_sac', 'energy_efficient', 'family_room', 'fireplace', 'forced_air', 'hardwood_floors', 'hill_or_mountain_view', 'laundry_room', 'rv_or_boat_parking', 'view', 'washer_dryer', 'single_story', 'garage_1_or_more', 'garage_2_or_more', 'garage_3_or_more', 'master_bedroom', 'floor_plan', 'no_hoa', 'master_suite', 'big_lot']\": 5, \"['community_outdoor_space', 'energy_efficient', 'forced_air', 'laundry_room', 'washer_dryer', 'single_story', 'garage_1_or_more', 'garage_2_or_more', 'rental_property', 'investment_opportunity', 'lake', 'shopping']\": 5, \"['community_outdoor_space', 'cul_de_sac', 'energy_efficient', 'forced_air', 'laundry_room', 'washer_dryer', 'two_or_more_stories', 'garage_1_or_more', 'rental_property']\": 5, \"['carport', 'city_view', 'community_outdoor_space', 'corner_lot', 'family_room', 'fireplace', 'forced_air', 'hill_or_mountain_view', 'horse_facilities', 'laundry_room', 'rv_or_boat_parking', 'spa_or_hot_tub', 'view', 'basement', 'two_or_more_stories', 'garage_1_or_more', 'garage_2_or_more', 'garage_3_or_more', 'front_porch', 'big_lot']\": 5, \"['community_outdoor_space', 'den_or_office', 'energy_efficient', 'family_room', 'fireplace', 'forced_air', 'game_room', 'hill_or_mountain_view', 'horse_facilities', 'laundry_room', 'recreation_facilities', 'rv_or_boat_parking', 'view', 'single_story', 'garage_1_or_more', 'garage_2_or_more', 'open_house', 'big_lot', 'trails', 'views']\": 5, \"['community_outdoor_space', 'energy_efficient', 'family_room', 'forced_air', 'hill_or_mountain_view', 'laundry_room', 'view', 'washer_dryer', 'two_or_more_stories', 'garage_1_or_more', 'master_bedroom', 'lake', 'shopping']\": 5, \"['cul_de_sac', 'hill_or_mountain_view', 'senior_community', 'view', 'big_lot']\": 5, \"['community_outdoor_space', 'energy_efficient', 'fireplace', 'forced_air', 'hill_or_mountain_view', 'laundry_room', 'rv_or_boat_parking', 'view', 'single_story', 'garage_1_or_more', 'garage_2_or_more', 'private_backyard', 'fenced_yard', 'rv_parking', 'ensuite', 'groundscare']\": 5, \"['carport', 'energy_efficient', 'fireplace', 'hardwood_floors', 'laundry_room', 'single_story', 'vaulted_ceiling', 'master_bedroom']\": 5, \"['community_outdoor_space', 'energy_efficient', 'family_room', 'fireplace', 'forced_air', 'hill_or_mountain_view', 'laundry_room', 'rv_or_boat_parking', 'view', 'single_story', 'garage_1_or_more', 'garage_2_or_more', 'no_hoa', 'master_suite']\": 5, \"['community_outdoor_space', 'den_or_office', 'energy_efficient', 'family_room', 'fireplace', 'hill_or_mountain_view', 'laundry_room', 'view', 'washer_dryer', 'two_or_more_stories', 'garage_1_or_more', 'garage_2_or_more', 'updated_kitchen', 'fruit_trees', 'mountain_view', 'new_roof', 'views', 'groundscare']\": 5, \"['community_outdoor_space', 'corner_lot', 'energy_efficient', 'family_room', 'fireplace', 'forced_air', 'hill_or_mountain_view', 'laundry_room', 'rv_or_boat_parking', 'view', 'washer_dryer', 'single_story', 'garage_1_or_more', 'garage_2_or_more', 'garage_3_or_more', 'updated_kitchen', 'modern_kitchen', 'large_kitchen', 'fenced_yard', 'well_water', 'big_lot', 'shopping']\": 5, \"['community_outdoor_space', 'energy_efficient', 'family_room', 'fireplace', 'forced_air', 'hill_or_mountain_view', 'laundry_room', 'recreation_facilities', 'view', 'washer_dryer', 'single_story', 'garage_1_or_more', 'trails', 'groundscare', 'shopping']\": 5, \"['community_outdoor_space', 'energy_efficient', 'forced_air', 'hill_or_mountain_view', 'laundry_room', 'recreation_facilities', 'view', 'two_or_more_stories', 'garage_1_or_more', 'garage_2_or_more', 'lake']\": 5, \"['community_outdoor_space', 'den_or_office', 'energy_efficient', 'family_room', 'fireplace', 'forced_air', 'hill_or_mountain_view', 'laundry_room', 'view', 'single_story', 'garage_1_or_more', 'garage_2_or_more', 'garage_3_or_more', 'modern_kitchen', 'large_kitchen', 'high_ceiling', 'no_hoa', 'mountain_view', 'views']\": 5, \"['community_outdoor_space', 'den_or_office', 'dishwasher', 'energy_efficient', 'fireplace', 'forced_air', 'laundry_room', 'single_story', 'garage_1_or_more', 'garage_2_or_more', 'fenced_yard', 'no_hoa', 'fruit_trees', 'lake', 'shopping']\": 5, \"['community_outdoor_space', 'den_or_office', 'energy_efficient', 'family_room', 'fireplace', 'forced_air', 'hill_or_mountain_view', 'laundry_room', 'recreation_facilities', 'rv_or_boat_parking', 'view', 'washer_dryer', 'single_story', 'garage_1_or_more', 'garage_2_or_more', 'granite_kitchen', 'updated_kitchen', 'park', 'shopping']\": 5, \"['community_outdoor_space', 'den_or_office', 'energy_efficient', 'family_room', 'fireplace', 'forced_air', 'hardwood_floors', 'hill_or_mountain_view', 'laundry_room', 'recreation_facilities', 'view', 'washer_dryer', 'single_story', 'garage_1_or_more', 'garage_2_or_more', 'rv_parking', 'master_suite', 'big_lot', 'park', 'medicalcare', 'shopping', 'fixer_upper']\": 5, \"['community_outdoor_space', 'community_security_features', 'energy_efficient', 'fireplace', 'forced_air', 'hill_or_mountain_view', 'laundry_room', 'recreation_facilities', 'view', 'washer_dryer', 'single_story', 'garage_1_or_more', 'garage_2_or_more', 'open_floor_plan', 'floor_plan', 'gated_community', 'mountain_view', 'views', 'security']\": 5, \"['hill_or_mountain_view', 'view']\": 5, \"['community_outdoor_space', 'energy_efficient', 'hardwood_floors', 'hill_or_mountain_view', 'laundry_room', 'view', 'single_story']\": 5, \"['community_outdoor_space', 'community_security_features', 'energy_efficient', 'fireplace', 'forced_air', 'hardwood_floors', 'hill_or_mountain_view', 'laundry_room', 'view', 'washer_dryer', 'two_or_more_stories', 'garage_1_or_more', 'shopping']\": 5, \"['community_outdoor_space', 'community_security_features', 'energy_efficient', 'family_room', 'fireplace', 'hill_or_mountain_view', 'laundry_room', 'view', 'washer_dryer', 'single_story', 'garage_1_or_more', 'garage_2_or_more', 'gated_community', 'security', 'shopping']\": 5, \"['central_air', 'community_outdoor_space', 'dining_room', 'dishwasher', 'fireplace', 'forced_air', 'washer_dryer', 'swimming_pool', 'master_suite', 'shopping']\": 5, \"['community_outdoor_space', 'dishwasher', 'forced_air', 'laundry_room', 'basement', 'open_house', 'farm', 'ranch']\": 5, \"['central_air', 'dining_room', 'dishwasher', 'fireplace', 'forced_air', 'laundry_room', 'washer_dryer', 'basement', 'community_swimming_pool', 'two_or_more_stories', 'clubhouse', 'hoa', 'maintenance']\": 5, \"['hardwood_floors', 'laundry_room', 'basement', 'two_or_more_stories', 'garage_1_or_more']\": 5, \"['central_air', 'community_outdoor_space', 'dining_room', 'dishwasher', 'forced_air', 'laundry_room', 'washer_dryer', 'basement', 'garage_1_or_more', 'garage_2_or_more', 'updated_kitchen']\": 5, \"['central_air', 'community_outdoor_space', 'dining_room', 'dishwasher', 'forced_air', 'hardwood_floors', 'laundry_room', 'washer_dryer', 'new_roof', 'groundscare', 'shopping']\": 5, \"['community_outdoor_space', 'dining_room', 'dishwasher', 'fireplace', 'hardwood_floors', 'laundry_room', 'basement', 'granite_kitchen', 'updated_kitchen', 'front_porch']\": 5, \"['community_outdoor_space', 'dining_room', 'fireplace', 'forced_air', 'hardwood_floors', 'laundry_room', 'washer_dryer', 'basement', 'garage_1_or_more', 'garage_2_or_more', 'farm', 'ranch', 'medicalcare']\": 5, \"['community_outdoor_space', 'dishwasher', 'fireplace', 'hardwood_floors', 'washer_dryer', 'swimming_pool', 'basement', 'garage_1_or_more', 'garage_2_or_more']\": 5, \"['community_outdoor_space', 'dishwasher', 'fireplace', 'hardwood_floors', 'laundry_room', 'washer_dryer', 'basement', 'garage_1_or_more', 'fenced_yard', 'farm', 'ranch', 'shopping']\": 5, \"['community_outdoor_space', 'basement']\": 5, \"['community_outdoor_space', 'dining_room', 'dishwasher', 'hill_or_mountain_view', 'laundry_room', 'view', 'washer_dryer', 'basement', 'updated_kitchen', 'park', 'medicalcare', 'shopping']\": 5, \"['central_air', 'community_outdoor_space', 'dishwasher', 'forced_air', 'laundry_room', 'basement', 'fenced_yard']\": 5, \"['dishwasher', 'laundry_room', 'basement']\": 5, \"['community_outdoor_space', 'den_or_office', 'dining_room', 'dishwasher', 'fireplace', 'hardwood_floors', 'laundry_room', 'washer_dryer', 'basement', 'garage_1_or_more', 'front_porch', 'medicalcare']\": 5, \"['central_air', 'community_outdoor_space', 'dishwasher', 'forced_air', 'hardwood_floors', 'laundry_room', 'washer_dryer', 'basement', 'private_backyard', 'farm', 'ranch']\": 5, \"['city_view', 'community_outdoor_space', 'forced_air', 'hardwood_floors', 'laundry_room', 'view', 'basement', 'garage_1_or_more', 'fenced_yard', 'investment_opportunity', 'trails']\": 5, \"['central_air', 'community_outdoor_space', 'dining_room', 'dishwasher', 'family_room', 'fireplace', 'forced_air', 'hardwood_floors', 'laundry_room', 'washer_dryer', 'basement', 'garage_1_or_more']\": 5, \"['community_outdoor_space', 'hardwood_floors', 'laundry_room', 'updated_kitchen', 'private_backyard', 'fenced_yard']\": 5, \"['central_air', 'community_outdoor_space', 'dining_room', 'dishwasher', 'laundry_room', 'basement', 'garage_1_or_more', 'garage_2_or_more', 'single_story', 'screen_porch', 'lake', 'medicalcare', 'shopping']\": 5, \"['central_air', 'dishwasher', 'fireplace', 'hardwood_floors', 'laundry_room', 'washer_dryer', 'basement', 'garage_1_or_more', 'updated_kitchen', 'floor_plan', 'farm', 'ranch']\": 5, \"['community_outdoor_space', 'community_security_features', 'den_or_office', 'dining_room', 'dishwasher', 'family_room', 'fireplace', 'hardwood_floors', 'laundry_room', 'washer_dryer', 'swimming_pool', 'basement', 'wrap_around_porch', 'big_lot']\": 5, \"['central_air', 'community_outdoor_space', 'dishwasher', 'forced_air', 'hardwood_floors', 'laundry_room', 'washer_dryer', 'basement', 'garage_1_or_more', 'farm', 'ranch', 'lake', 'shopping']\": 5, \"['community_outdoor_space', 'laundry_room', 'basement']\": 5, \"['community_outdoor_space', 'dining_room', 'dishwasher', 'fireplace', 'hardwood_floors', 'laundry_room', 'washer_dryer', 'basement', 'garage_1_or_more', 'community_swimming_pool', 'large_porch', 'tennis_court', 'park', 'tennis']\": 5, \"['community_outdoor_space', 'fireplace', 'forced_air', 'hardwood_floors', 'laundry_room', 'basement', 'garage_1_or_more', 'garage_2_or_more', 'shopping']\": 5, \"['central_air', 'community_outdoor_space', 'dining_room', 'dishwasher', 'family_room', 'fireplace', 'hardwood_floors', 'laundry_room', 'washer_dryer', 'basement', 'garage_1_or_more', 'garage_2_or_more', 'high_ceiling', 'open_floor_plan', 'floor_plan', 'ensuite', 'farm', 'ranch', 'new_roof']\": 5, \"['central_air', 'community_outdoor_space', 'dining_room', 'family_room', 'fireplace', 'forced_air', 'hardwood_floors', 'laundry_room', 'rental_property', 'big_lot']\": 5, \"['laundry_room', 'basement', 'rental_property', 'investment_opportunity']\": 5, \"['central_air', 'community_outdoor_space', 'dining_room', 'dishwasher', 'family_room', 'forced_air', 'laundry_room', 'garage_1_or_more', 'fenced_yard', 'big_bathroom', 'solar_system', 'handicap_access', 'farm', 'ranch']\": 5, \"['community_outdoor_space', 'dining_room', 'hardwood_floors', 'laundry_room', 'washer_dryer', 'basement', 'fenced_yard', 'shopping']\": 5, \"['dining_room', 'basement', 'two_or_more_stories', 'front_porch']\": 5, \"['hardwood_floors', 'basement']\": 5, \"['community_outdoor_space', 'dining_room', 'dishwasher', 'fireplace', 'laundry_room', 'washer_dryer', 'basement', 'garage_1_or_more', 'garage_2_or_more', 'updated_kitchen', 'big_yard', 'park']\": 5, \"['central_air', 'community_security_features', 'dishwasher', 'family_room', 'fireplace', 'hardwood_floors', 'laundry_room', 'washer_dryer', 'basement', 'garage_1_or_more', 'garage_2_or_more', 'big_yard']\": 5, \"['community_security_features', 'dining_room', 'dishwasher', 'fireplace', 'hardwood_floors', 'laundry_room', 'washer_dryer', 'garage_1_or_more', 'new_roof', 'shopping']\": 5, \"['carport', 'central_air', 'fireplace', 'forced_air', 'recreation_facilities', 'community_swimming_pool', 'single_story', 'garage_1_or_more', 'garage_2_or_more', 'library', 'clubhouse', 'shopping']\": 5, \"['basement', 'two_or_more_stories', 'floor_plan']\": 5, \"['central_air', 'dishwasher', 'fireplace', 'forced_air', 'basement', 'single_story', 'garage_1_or_more', 'garage_2_or_more', 'farm', 'ranch']\": 5, \"['central_air', 'community_outdoor_space', 'fireplace', 'forced_air', 'garage_1_or_more', 'garage_2_or_more', 'single_story', 'fenced_yard']\": 5, \"['central_air', 'dishwasher', 'forced_air', 'washer_dryer', 'basement', 'two_or_more_stories', 'garage_1_or_more', 'garage_2_or_more', 'modern_kitchen', 'open_kitchen', 'high_ceiling', 'front_porch', 'large_porch']\": 5, \"['central_air', 'garage_1_or_more', 'garage_2_or_more']\": 5, \"['central_air', 'community_outdoor_space', 'dishwasher', 'fireplace', 'forced_air', 'hardwood_floors', 'washer_dryer', 'basement', 'two_or_more_stories', 'garage_1_or_more', 'garage_2_or_more', 'fenced_yard', 'master_bedroom', 'ensuite', 'shopping']\": 5, \"['central_air', 'community_outdoor_space', 'community_security_features', 'fireplace', 'forced_air', 'washer_dryer', 'basement', 'single_story', 'garage_1_or_more', 'fenced_yard', 'farm', 'ranch', 'new_roof']\": 5, \"['central_air', 'fireplace', 'forced_air', 'washer_dryer', 'basement', 'single_story', 'big_yard', 'master_bedroom', 'investment_opportunity']\": 5, \"['central_air', 'dishwasher', 'fireplace', 'basement', 'two_or_more_stories', 'garage_1_or_more', 'garage_2_or_more', 'modern_kitchen', 'open_kitchen', 'shopping']\": 5, \"['central_air', 'forced_air', 'basement', 'single_story', 'garage_1_or_more', 'fenced_yard', 'farm', 'ranch', 'shopping']\": 5, \"['carport', 'central_air', 'dishwasher', 'recreation_facilities', 'washer_dryer', 'community_swimming_pool', 'basement', 'two_or_more_stories', 'garage_1_or_more', 'garage_2_or_more', 'park', 'shopping']\": 5, \"['central_air', 'community_outdoor_space', 'dishwasher', 'fireplace', 'basement', 'two_or_more_stories', 'garage_1_or_more', 'garage_2_or_more', 'updated_kitchen', 'fenced_yard', 'open_floor_plan', 'floor_plan', 'ensuite', 'new_roof']\": 5, \"['central_air', 'community_outdoor_space', 'community_security_features', 'dining_room', 'dishwasher', 'family_room', 'fireplace', 'forced_air', 'washer_dryer', 'basement', 'two_or_more_stories', 'garage_1_or_more', 'garage_2_or_more', 'updated_kitchen', 'groundscare']\": 5, \"['carport', 'central_air', 'community_outdoor_space', 'dishwasher', 'forced_air', 'washer_dryer', 'basement', 'two_or_more_stories', 'private_backyard']\": 5, \"['central_air', 'community_outdoor_space', 'dishwasher', 'fireplace', 'forced_air', 'hardwood_floors', 'washer_dryer', 'basement', 'garage_1_or_more', 'two_or_more_stories', 'jack_and_jill_bathroom']\": 5, \"['central_air', 'central_heat', 'community_outdoor_space', 'energy_efficient', 'fireplace', 'single_story', 'garage_1_or_more', 'garage_2_or_more']\": 5, \"['central_air', 'central_heat', 'community_golf', 'community_outdoor_space', 'community_security_features', 'fireplace', 'golf_course_lot_or_frontage', 'golf_course_view', 'recreation_facilities', 'single_story', 'garage_1_or_more', 'garage_2_or_more', 'garage_3_or_more', 'jack_and_jill_bathroom', 'golf_course', 'hoa']\": 5, \"['carport', 'central_air', 'central_heat', 'dishwasher', 'fireplace', 'washer_dryer', 'single_story', 'big_lot', 'golf_course', 'maintenance']\": 5, \"['central_air', 'central_heat', 'community_outdoor_space', 'dishwasher', 'fireplace', 'hardwood_floors', 'single_story', 'garage_1_or_more', 'garage_2_or_more']\": 5, \"['central_air', 'central_heat', 'community_outdoor_space', 'dishwasher', 'energy_efficient', 'laundry_room', 'single_story', 'garage_1_or_more', 'garage_2_or_more', 'front_porch', 'shopping']\": 5, \"['central_air', 'central_heat', 'community_outdoor_space', 'single_story', 'garage_1_or_more', 'garage_2_or_more', 'big_yard', 'fenced_yard', 'outbuilding']\": 5, \"['central_air', 'central_heat', 'community_outdoor_space', 'community_security_features', 'dishwasher', 'fireplace', 'hardwood_floors', 'laundry_room', 'swimming_pool', 'two_or_more_stories', 'garage_1_or_more', 'garage_2_or_more', 'garage_3_or_more', 'modern_kitchen', 'large_kitchen', 'big_yard', 'storm_shelter', 'big_lot', 'water_view', 'new_roof', 'lake', 'groundscare']\": 5, \"['central_air', 'central_heat', 'community_outdoor_space', 'community_security_features', 'dishwasher', 'fireplace', 'laundry_room', 'two_or_more_stories', 'garage_1_or_more', 'garage_2_or_more', 'floor_plan', 'ensuite', 'private_courtyard', 'security', 'shopping']\": 5, \"['central_air', 'central_heat', 'community_outdoor_space', 'dishwasher', 'fireplace', 'hardwood_floors', 'laundry_room', 'single_story', 'garage_1_or_more', 'garage_2_or_more', 'garage_3_or_more', 'community_swimming_pool', 'modern_kitchen', 'open_kitchen', 'beautiful_backyard', 'open_floor_plan', 'floor_plan', 'shopping']\": 5, \"['central_air', 'central_heat', 'community_outdoor_space', 'fireplace', 'two_or_more_stories', 'garage_1_or_more', 'garage_2_or_more', 'big_yard', 'fenced_yard', 'master_bedroom', 'rental_property', 'new_roof', 'shopping']\": 5, \"['central_air', 'central_heat', 'community_outdoor_space', 'community_security_features', 'dishwasher', 'fireplace', 'hardwood_floors', 'laundry_room', 'recreation_facilities', 'single_story', 'garage_1_or_more', 'garage_2_or_more', 'high_ceiling', 'storm_shelter', 'big_lot', 'handicap_access', 'views']\": 5, \"['central_air', 'central_heat', 'community_outdoor_space', 'dishwasher', 'energy_efficient', 'fireplace', 'two_or_more_stories', 'garage_1_or_more', 'garage_2_or_more', 'garage_3_or_more', 'big_lot', 'views']\": 5, \"['central_air', 'central_heat', 'community_outdoor_space', 'dishwasher', 'fireplace', 'laundry_room', 'single_story', 'garage_1_or_more', 'garage_2_or_more', 'big_yard', 'fenced_yard', 'shopping']\": 5, \"['central_air', 'central_heat', 'single_story', 'garage_1_or_more', 'open_floor_plan', 'floor_plan', 'no_hoa']\": 5, \"['central_air', 'central_heat', 'community_outdoor_space', 'community_security_features', 'dishwasher', 'energy_efficient', 'fireplace', 'laundry_room', 'single_story', 'garage_1_or_more', 'garage_2_or_more', 'garage_3_or_more', 'coffer_ceiling']\": 5, \"['central_air', 'central_heat', 'community_outdoor_space', 'community_security_features', 'dishwasher', 'fireplace', 'hardwood_floors', 'basement', 'two_or_more_stories', 'garage_1_or_more', 'garage_2_or_more', 'private_backyard', 'high_ceiling', 'rental_property']\": 5, \"['central_air', 'central_heat', 'community_outdoor_space', 'fireplace', 'single_story', 'garage_1_or_more', 'garage_2_or_more', 'high_ceiling', 'shopping']\": 5, \"['central_heat', 'community_outdoor_space', 'community_security_features', 'dishwasher', 'fireplace', 'lake_view', 'recreation_facilities', 'spa_or_hot_tub', 'water_view', 'swimming_pool', 'two_or_more_stories', 'garage_1_or_more', 'garage_2_or_more', 'garage_3_or_more', 'basement', 'updated_kitchen', 'storm_shelter', 'front_porch', 'wrap_around_porch', 'solar_system', 'big_lot', 'pond', 'shopping']\": 5, \"['community_outdoor_space', 'community_security_features', 'corner_lot', 'cul_de_sac', 'fireplace', 'laundry_room', 'swimming_pool', 'single_story', 'garage_1_or_more', 'garage_2_or_more', 'garage_3_or_more', 'vaulted_ceiling', 'master_suite', 'ensuite', 'farm']\": 5, \"['community_outdoor_space', 'dishwasher', 'washer_dryer', 'single_story', 'garage_1_or_more', 'groundscare']\": 5, \"['central_air', 'central_heat', 'community_outdoor_space', 'dishwasher', 'fireplace', 'laundry_room', 'two_or_more_stories', 'garage_1_or_more', 'garage_2_or_more', 'floor_plan', 'new_roof']\": 5, \"['central_air', 'central_heat', 'community_outdoor_space', 'community_security_features', 'dishwasher', 'fireplace', 'laundry_room', 'single_story', 'garage_1_or_more', 'garage_2_or_more', 'granite_kitchen', 'modern_kitchen', 'large_kitchen', 'shopping']\": 5, \"['central_air', 'central_heat', 'community_outdoor_space', 'dishwasher', 'energy_efficient', 'fireplace', 'single_story', 'garage_1_or_more', 'garage_2_or_more', 'garage_3_or_more', 'ensuite']\": 5, \"['central_air', 'central_heat', 'community_outdoor_space', 'single_story', 'garage_1_or_more', 'fenced_yard', 'rental_property']\": 5, \"['central_air', 'central_heat', 'community_outdoor_space', 'community_security_features', 'cul_de_sac', 'dishwasher', 'fireplace', 'laundry_room', 'single_story', 'garage_1_or_more', 'garage_2_or_more', 'gated_community', 'water_view', 'security']\": 5, \"['central_air', 'central_heat', 'community_outdoor_space', 'community_security_features', 'dishwasher', 'energy_efficient', 'fireplace', 'laundry_room', 'single_story', 'garage_1_or_more', 'garage_2_or_more', 'garage_3_or_more', 'master_bedroom', 'storm_shelter', 'open_floor_plan', 'floor_plan', 'efficient', 'ensuite', 'park']\": 5, \"['central_air', 'central_heat', 'community_outdoor_space', 'community_security_features', 'cul_de_sac', 'dishwasher', 'energy_efficient', 'fireplace', 'hardwood_floors', 'laundry_room', 'single_story', 'garage_1_or_more', 'garage_2_or_more', 'garage_3_or_more']\": 5, \"['cul_de_sac', 'no_hoa', 'big_lot', 'hoa']\": 5, \"['central_air', 'central_heat', 'community_outdoor_space', 'dishwasher', 'fireplace', 'laundry_room', 'single_story', 'garage_1_or_more', 'garage_2_or_more', 'open_floor_plan', 'floor_plan', 'master_suite', 'ensuite']\": 5, \"['central_air', 'central_heat', 'community_outdoor_space', 'single_story', 'garage_1_or_more', 'garage_2_or_more', 'storm_shelter', 'maintenance']\": 5, \"['central_air', 'central_heat', 'community_outdoor_space', 'single_story', 'garage_1_or_more', 'front_porch', 'fixer_upper']\": 5, \"['central_air', 'central_heat', 'dishwasher', 'hardwood_floors', 'single_story', 'garage_1_or_more', 'updated_kitchen', 'big_yard', 'farm', 'ranch', 'new_roof']\": 5, \"['central_air', 'central_heat', 'community_outdoor_space', 'community_security_features', 'dishwasher', 'energy_efficient', 'fireplace', 'single_story', 'garage_1_or_more', 'garage_2_or_more', 'garage_3_or_more', 'master_bedroom', 'storm_shelter']\": 5, \"['central_air', 'central_heat', 'community_outdoor_space', 'dishwasher', 'energy_efficient', 'single_story', 'garage_1_or_more', 'garage_2_or_more', 'fenced_yard', 'floor_plan', 'big_lot', 'pond', 'playground', 'trails']\": 5, \"['central_air', 'central_heat', 'community_outdoor_space', 'dishwasher', 'laundry_room', 'washer_dryer', 'single_story', 'garage_1_or_more', 'garage_2_or_more', 'big_yard', 'fenced_yard', 'shopping']\": 5, \"['central_air', 'central_heat', 'community_outdoor_space', 'community_security_features', 'dishwasher', 'fireplace', 'laundry_room', 'single_story', 'garage_1_or_more', 'garage_2_or_more', 'garage_3_or_more', 'modern_kitchen', 'large_kitchen', 'open_kitchen', 'big_bathroom', 'floor_plan', 'library']\": 5, \"['central_air', 'central_heat', 'community_outdoor_space', 'cul_de_sac', 'dishwasher', 'fireplace', 'laundry_room', 'two_or_more_stories', 'garage_1_or_more', 'garage_2_or_more', 'community_swimming_pool', 'granite_kitchen', 'updated_kitchen', 'ensuite', 'smart_homes', 'park', 'greenbelt']\": 5, \"['family_room', 'fireplace', 'forced_air', 'laundry_room', 'garage_1_or_more', 'garage_2_or_more', 'garage_3_or_more', 'single_story', 'rental_property']\": 5, \"['central_air', 'community_outdoor_space', 'dining_room', 'dishwasher', 'family_room', 'fireplace', 'forced_air', 'view', 'basement', 'two_or_more_stories', 'garage_1_or_more', 'swimming_pool', 'fenced_yard']\": 5, \"['central_air', 'community_outdoor_space', 'community_security_features', 'dining_room', 'dishwasher', 'fireplace', 'forced_air', 'laundry_room', 'recreation_facilities', 'view', 'two_or_more_stories', 'garage_1_or_more', 'updated_kitchen', 'front_porch', 'big_lot', 'ensuite']\": 5, \"['central_heat', 'community_outdoor_space', 'fireplace', 'forced_air', 'garage_1_or_more', 'garage_2_or_more', 'garage_3_or_more', 'gourmet_kitchen', 'ensuite']\": 5, \"['fireplace', 'laundry_room', 'garage_1_or_more', 'garage_2_or_more', 'garage_3_or_more', 'investment_opportunity']\": 5, \"['community_outdoor_space', 'cul_de_sac', 'family_room', 'fireplace', 'forced_air', 'garage_1_or_more', 'garage_2_or_more', 'fenced_yard', 'big_lot', 'farm', 'ranch']\": 5, \"['central_heat', 'community_outdoor_space', 'fireplace', 'forced_air', 'garage_1_or_more', 'garage_2_or_more', 'granite_kitchen', 'modern_kitchen', 'large_kitchen', 'vaulted_ceiling', 'rv_parking', 'lake']\": 5, \"['central_heat', 'community_outdoor_space', 'cul_de_sac', 'forced_air', 'garage_1_or_more', 'garage_2_or_more', 'single_story', 'updated_kitchen', 'fenced_yard', 'park', 'shopping']\": 5, \"['community_outdoor_space', 'family_room', 'fireplace', 'forced_air', 'hardwood_floors', 'garage_1_or_more', 'single_story']\": 5, \"['central_heat', 'community_outdoor_space', 'cul_de_sac', 'family_room', 'fireplace', 'forced_air', 'garage_1_or_more', 'garage_2_or_more', 'two_or_more_stories', 'private_backyard', 'fenced_yard', 'floor_plan', 'master_suite']\": 5, \"['community_outdoor_space', 'dining_room', 'dishwasher', 'forced_air', 'single_story', 'garage_1_or_more', 'garage_2_or_more', 'open_floor_plan', 'floor_plan', 'shopping']\": 5, \"['central_air', 'community_outdoor_space', 'dining_room', 'fireplace', 'forced_air', 'view', 'two_or_more_stories', 'garage_1_or_more', 'garage_2_or_more', 'swimming_pool', 'fenced_yard', 'open_floor_plan', 'floor_plan']\": 5, \"['carport', 'community_outdoor_space', 'fireplace', 'forced_air', 'hardwood_floors', 'basement']\": 5, \"['fireplace', 'hardwood_floors', 'garage_1_or_more', 'garage_2_or_more', 'new_roof']\": 5, \"['central_heat', 'community_outdoor_space', 'cul_de_sac', 'forced_air', 'hardwood_floors', 'garage_1_or_more', 'garage_2_or_more', 'single_story']\": 5, \"['community_outdoor_space', 'fireplace', 'hardwood_floors', 'basement', 'garage_1_or_more', 'fenced_yard']\": 5, \"['community_outdoor_space', 'garage_1_or_more', 'fenced_yard', 'shopping']\": 5, \"['community_outdoor_space', 'community_security_features', 'family_room', 'fireplace', 'forced_air', 'hardwood_floors', 'recreation_facilities', 'senior_community', 'community_swimming_pool', 'basement', 'garage_1_or_more', 'garage_2_or_more', 'garage_3_or_more', 'two_or_more_stories', 'big_yard', 'fruit_trees']\": 5, \"['corner_lot', 'view', 'shopping']\": 5, \"['city_view', 'forced_air', 'hill_or_mountain_view', 'view', 'single_story', 'medicalcare', 'shopping']\": 5, \"['central_air', 'community_outdoor_space', 'community_security_features', 'dining_room', 'family_room', 'forced_air', 'hill_or_mountain_view', 'recreation_facilities', 'view', 'single_story', 'garage_1_or_more', 'garage_2_or_more', 'corner_lot', 'rental_property', 'big_lot', 'views']\": 5, \"['basement', 'two_or_more_stories', 'garage_1_or_more', 'garage_2_or_more']\": 5, \"['carport', 'central_heat', 'community_outdoor_space', 'senior_community']\": 5, \"['central_air', 'community_outdoor_space', 'dining_room', 'fireplace', 'forced_air', 'laundry_room', 'view', 'basement', 'single_story', 'garage_1_or_more', 'updated_kitchen', 'fenced_yard']\": 5, \"['two_or_more_stories', 'rental_property']\": 5, \"['community_outdoor_space', 'family_room', 'fireplace', 'garage_1_or_more', 'garage_2_or_more', 'corner_lot', 'big_lot', 'maintenance', 'shopping']\": 5, \"['central_heat', 'community_outdoor_space', 'community_security_features', 'cul_de_sac', 'forced_air', 'hardwood_floors', 'garage_1_or_more', 'garage_2_or_more', 'single_story', 'big_yard', 'fenced_yard', 'fruit_trees', 'big_lot']\": 5, \"['river_view', 'shopping']\": 5, \"['central_air', 'community_outdoor_space', 'dining_room', 'dishwasher', 'family_room', 'fireplace', 'forced_air', 'single_story', 'garage_1_or_more', 'garage_2_or_more', 'corner_lot', 'rv_parking', 'big_lot', 'views']\": 5, \"['central_air', 'community_outdoor_space', 'dining_room', 'dishwasher', 'fireplace', 'forced_air', 'two_or_more_stories', 'garage_1_or_more', 'garage_2_or_more', 'floor_plan']\": 5, \"['central_heat', 'community_outdoor_space', 'family_room', 'fireplace', 'forced_air', 'hardwood_floors', 'garage_1_or_more', 'garage_2_or_more', 'fenced_yard', 'fruit_trees']\": 5, \"['community_outdoor_space', 'family_room', 'fireplace', 'forced_air', 'hardwood_floors', 'basement', 'garage_1_or_more', 'two_or_more_stories', 'big_yard', 'private_backyard', 'fenced_yard', 'corner_lot', 'groundscare']\": 5, \"['central_air', 'forced_air', 'two_or_more_stories', 'garage_1_or_more', 'garage_2_or_more', 'garage_3_or_more', 'gourmet_kitchen']\": 5, \"['community_outdoor_space', 'fireplace', 'forced_air', 'basement', 'garage_1_or_more', 'garage_2_or_more', 'big_lot']\": 5, \"['community_outdoor_space', 'dining_room', 'dishwasher', 'family_room', 'forced_air', 'view', 'single_story', 'garage_1_or_more', 'garage_2_or_more', 'rental_property', 'new_roof']\": 5, \"['central_heat', 'community_outdoor_space', 'family_room', 'fireplace', 'forced_air', 'garage_1_or_more', 'garage_2_or_more', 'big_yard', 'fenced_yard', 'farm', 'ranch']\": 5, \"['community_outdoor_space', 'hardwood_floors', 'garage_1_or_more', 'big_yard', 'fixer_upper']\": 5, \"['dining_room', 'hardwood_floors', 'basement']\": 5, \"['disability_features', 'basement', 'two_or_more_stories']\": 5, \"['forced_air', 'basement', 'two_or_more_stories', 'rental_property', 'investment_opportunity', 'shopping']\": 5, \"['central_air', 'disability_features', 'dishwasher', 'forced_air', 'hardwood_floors', 'basement', 'single_story', 'private_parking']\": 5, \"['central_air', 'dining_room', 'forced_air', 'hardwood_floors', 'basement', 'two_or_more_stories', 'vaulted_ceiling', 'efficient', 'shopping']\": 5, \"['central_air', 'dining_room', 'forced_air', 'hardwood_floors', 'basement', 'two_or_more_stories', 'garage_1_or_more', 'garage_2_or_more', 'granite_kitchen', 'gourmet_kitchen', 'high_ceiling', 'efficient', 'farm']\": 5, \"['family_room', 'fireplace', 'washer_dryer', 'swimming_pool', 'basement', 'two_or_more_stories', 'basketball_court', 'big_lot', 'water_view', 'basketball', 'fixer_upper']\": 5, \"['forced_air', 'washer_dryer', 'basement', 'two_or_more_stories', 'rental_property', 'groundscare', 'fixer_upper']\": 5, \"['central_air', 'central_heat', 'disability_features', 'basement', 'single_story', 'big_yard', 'open_floor_plan', 'floor_plan', 'no_hoa', 'shopping']\": 5, \"['central_air', 'dining_room', 'dishwasher', 'hardwood_floors', 'washer_dryer', 'two_or_more_stories', 'mountain_view', 'views', 'maintenance']\": 5, \"['dining_room', 'dishwasher', 'laundry_room', 'recreation_facilities', 'basement', 'two_or_more_stories', 'garage_1_or_more', 'corner_lot', 'big_lot', 'groundscare']\": 5, \"['basement', 'two_or_more_stories', 'playground']\": 5, \"['central_air', 'disability_features', 'basement', 'single_story', 'garage_1_or_more', 'farm', 'ranch']\": 5, \"['central_air', 'dining_room', 'dishwasher', 'forced_air', 'recreation_facilities', 'senior_community', 'washer_dryer', 'single_story', 'garage_1_or_more', 'floor_plan']\": 5, \"['central_air', 'central_heat', 'forced_air', 'two_or_more_stories', 'garage_1_or_more', 'new_roof', 'shopping']\": 5, \"['central_air', 'fireplace', 'forced_air', 'basement', 'two_or_more_stories', 'garage_1_or_more', 'garage_2_or_more', 'efficient']\": 5, \"['forced_air', 'basement', 'updated_kitchen']\": 5, \"['central_air', 'forced_air', 'basement', 'two_or_more_stories', 'garage_1_or_more', 'shopping']\": 5, \"['central_air', 'forced_air', 'basement', 'single_story', 'modern_kitchen', 'white_kitchen', 'new_roof']\": 5, \"['carport', 'central_air', 'dishwasher', 'fireplace', 'forced_air', 'view', 'water_view', 'basement', 'two_or_more_stories', 'updated_kitchen', 'master_bathroom', 'master_bedroom', 'first_floor_master_bedroom', 'new_roof', 'views', 'shopping']\": 5, \"['central_air', 'disability_features', 'fireplace', 'forced_air', 'recreation_facilities', 'single_story', 'garage_1_or_more', 'garage_2_or_more', 'maintenance']\": 5, \"['central_air', 'forced_air', 'garage_1_or_more']\": 5, \"['central_air', 'dining_room', 'dishwasher', 'fireplace', 'forced_air', 'basement', 'two_or_more_stories', 'garage_1_or_more', 'garage_2_or_more', 'swimming_pool', 'cathedral_ceiling', 'mountain_view', 'trails', 'views', 'shopping']\": 5, \"['fireplace', 'forced_air']\": 5, \"['central_air', 'fireplace', 'basement', 'single_story', 'farm', 'ranch']\": 5, \"['carport', 'central_air', 'disability_features', 'dishwasher', 'fireplace', 'forced_air', 'hardwood_floors', 'washer_dryer', 'basement', 'single_story', 'garage_1_or_more', 'big_yard', 'exposed_brick', 'farm', 'ranch']\": 5, \"['central_air', 'central_heat', 'dining_room', 'dishwasher', 'family_room', 'fireplace', 'washer_dryer', 'single_story', 'open_floor_plan', 'floor_plan', 'corner_lot', 'farm', 'ranch', 'new_roof']\": 5, \"['central_air', 'disability_features', 'dishwasher', 'fireplace', 'forced_air', 'washer_dryer', 'basement', 'two_or_more_stories', 'garage_1_or_more', 'garage_2_or_more', 'updated_kitchen', 'high_ceiling', 'vaulted_ceiling', 'medicalcare']\": 5, \"['central_air', 'dishwasher', 'washer_dryer', 'basement', 'two_or_more_stories', 'garage_1_or_more', 'garage_2_or_more', 'updated_kitchen', 'master_bedroom', 'ensuite', 'new_roof']\": 5, \"['central_air', 'disability_features', 'forced_air', 'basement', 'two_or_more_stories', 'garage_1_or_more', 'garage_2_or_more', 'efficient', 'new_roof']\": 5, \"['central_air', 'dining_room', 'disability_features', 'fireplace', 'forced_air', 'hardwood_floors', 'spa_or_hot_tub', 'basement', 'two_or_more_stories', 'garage_1_or_more', 'garage_2_or_more', 'updated_kitchen', 'high_ceiling', 'vaulted_ceiling', 'cathedral_ceiling', 'big_lot', 'ensuite', 'new_roof']\": 5, \"['central_air', 'dishwasher', 'fireplace', 'forced_air', 'washer_dryer', 'basement', 'two_or_more_stories', 'garage_1_or_more', 'garage_2_or_more', 'waterfront', 'cathedral_ceiling', 'open_floor_plan', 'floor_plan']\": 5, \"['central_air', 'forced_air', 'view', 'water_view', 'basement', 'two_or_more_stories', 'waterfront', 'open_floor_plan', 'floor_plan', 'river_view', 'baseball']\": 5, \"['disability_features', 'dishwasher', 'washer_dryer', 'basement', 'two_or_more_stories', 'fenced_yard', 'front_porch', 'rental_property', 'efficient']\": 5, \"['basement', 'two_or_more_stories', 'granite_kitchen', 'fenced_yard', 'rental_property', 'new_roof', 'golf_course']\": 5, \"['basement', 'two_or_more_stories', 'lake']\": 5, \"['central_heat', 'cul_de_sac', 'fireplace', 'forced_air', 'pets_allowed', 'swimming_pool', 'two_or_more_stories', 'garage_1_or_more', 'big_bathroom', 'open_floor_plan', 'floor_plan', 'golf_course']\": 5, \"['basement', 'two_or_more_stories', 'garage_1_or_more', 'garage_2_or_more', 'big_yard', 'groundscare']\": 5, \"['basement', 'two_or_more_stories', 'groundscare', 'shopping']\": 5, \"['forced_air', 'basement', 'two_or_more_stories', 'garage_1_or_more', 'garage_2_or_more', 'new_roof']\": 5, \"['corner_lot', 'forced_air', 'basement', 'two_or_more_stories', 'efficient', 'medicalcare']\": 5, \"['basement', 'two_or_more_stories', 'medicalcare', 'shopping']\": 5, \"['fireplace', 'forced_air', 'basement', 'two_or_more_stories', 'big_yard', 'investment_opportunity', 'lake', 'fixer_upper']\": 5, \"['community_security_features', 'fireplace', 'forced_air', 'swimming_pool', 'basement', 'two_or_more_stories', 'garage_1_or_more', 'garage_2_or_more', 'exposed_brick', 'water_view', 'views']\": 5, \"['community_outdoor_space', 'dining_room', 'hardwood_floors', 'laundry_room', 'washer_dryer', 'basement', 'garage_1_or_more', 'garage_2_or_more', 'two_or_more_stories', 'granite_kitchen', 'modern_kitchen', 'open_floor_plan', 'floor_plan', 'master_suite']\": 5, \"['community_security_features', 'fireplace', 'basement', 'two_or_more_stories', 'garage_1_or_more', 'garage_2_or_more', 'ensuite', 'shopping']\": 5, \"['community_security_features', 'corner_lot', 'disability_features', 'fireplace', 'forced_air', 'basement', 'single_story', 'garage_1_or_more', 'garage_2_or_more', 'fenced_yard', 'high_ceiling', 'floor_plan', 'ensuite', 'farm', 'ranch', 'shopping']\": 5, \"['forced_air', 'pets_allowed', 'basement', 'single_story']\": 5, \"['fireplace', 'forced_air', 'basement', 'two_or_more_stories', 'garage_1_or_more', 'garage_2_or_more', 'big_lot', 'groundscare', 'medicalcare', 'shopping']\": 5, \"['fireplace', 'basement', 'two_or_more_stories', 'garage_1_or_more', 'garage_2_or_more', 'jack_and_jill_bathroom']\": 5, \"['forced_air', 'basement', 'garage_1_or_more', 'garage_2_or_more', 'updated_kitchen', 'fixer_upper']\": 5, \"['forced_air', 'basement', 'two_or_more_stories', 'garage_1_or_more', 'fenced_yard', 'front_porch', 'park', 'golf_course', 'shopping']\": 5, \"['basement', 'garage_1_or_more', 'garage_2_or_more', 'fixer_upper']\": 5, \"['central_heat', 'forced_air', 'view', 'basement', 'two_or_more_stories', 'water_view', 'pond', 'views']\": 5, \"['fireplace', 'basement', 'single_story', 'corner_lot', 'fixer_upper']\": 5, \"['forced_air', 'basement', 'two_or_more_stories', 'big_yard', 'big_bathroom', 'new_roof', 'shopping']\": 5, \"['two_or_more_stories', 'floor_plan', 'rental_property', 'elevator']\": 5, \"['basement', 'two_or_more_stories', 'updated_kitchen', 'medicalcare']\": 5, \"['basement', 'two_or_more_stories', 'garage_1_or_more', 'garage_2_or_more', 'high_ceiling', 'rental_property']\": 5, \"['community_security_features', 'fireplace', 'forced_air', 'basement', 'two_or_more_stories', 'garage_1_or_more', 'garage_2_or_more', 'updated_kitchen', 'modern_kitchen', 'open_kitchen', 'fenced_yard', 'furniture']\": 5, \"['community_security_features', 'forced_air', 'basement', 'two_or_more_stories', 'master_bedroom', 'rental_property', 'shopping']\": 5, \"['forced_air', 'washer_dryer', 'basement', 'two_or_more_stories', 'updated_kitchen', 'fenced_yard', 'investment_opportunity']\": 5, \"['fireplace', 'basement', 'garage_1_or_more', 'shopping']\": 5, \"['basement', 'two_or_more_stories', 'garage_1_or_more', 'garage_2_or_more', 'garage_3_or_more']\": 5, \"['forced_air', 'basement', 'two_or_more_stories', 'garage_1_or_more']\": 5, \"['basement', 'two_or_more_stories', 'garage_1_or_more', 'garage_2_or_more', 'efficient']\": 5, \"['carport', 'central_air', 'city_view', 'dishwasher', 'family_room', 'hardwood_floors', 'laundry_room', 'view', 'washer_dryer', 'rental_property']\": 5, \"['central_air', 'central_heat', 'dishwasher', 'fireplace', 'laundry_room', 'recreation_facilities', 'washer_dryer', 'two_or_more_stories']\": 5, \"['community_outdoor_space', 'laundry_room', 'recreation_facilities', 'washer_dryer', 'single_story', 'rental_property', 'big_lot', 'investment_opportunity']\": 5, \"['central_air', 'community_outdoor_space', 'corner_lot', 'dishwasher', 'fireplace', 'swimming_pool', 'garage_1_or_more', 'garage_2_or_more', 'fenced_yard', 'rv_parking', 'big_lot']\": 5, \"['community_outdoor_space', 'dishwasher', 'laundry_room', 'recreation_facilities', 'single_story', 'guest_house', 'outbuilding', 'big_lot', 'new_roof']\": 5, \"['central_air', 'city_view', 'community_outdoor_space', 'dining_room', 'dishwasher', 'family_room', 'hardwood_floors', 'laundry_room', 'view', 'washer_dryer', 'two_or_more_stories', 'garage_1_or_more', 'garage_2_or_more']\": 5, \"['central_air', 'central_heat', 'community_outdoor_space', 'community_security_features', 'corner_lot', 'hardwood_floors', 'single_story']\": 5, \"['central_air', 'community_outdoor_space', 'dishwasher', 'family_room', 'laundry_room', 'garage_1_or_more', 'open_floor_plan', 'floor_plan', 'efficient']\": 5, \"['central_air', 'central_heat', 'community_outdoor_space', 'dishwasher', 'hardwood_floors', 'laundry_room', 'two_or_more_stories', 'garage_1_or_more', 'garage_2_or_more', 'modern_kitchen', 'large_kitchen', 'fenced_yard', 'vaulted_ceiling', 'open_floor_plan', 'floor_plan', 'fruit_trees', 'shopping']\": 5, \"['central_air', 'city_view', 'community_outdoor_space', 'dining_room', 'dishwasher', 'laundry_room', 'view', 'garage_1_or_more', 'garage_2_or_more']\": 5, \"['carport', 'central_air', 'city_view', 'community_outdoor_space', 'dishwasher', 'laundry_room', 'view', 'big_yard', 'master_bathroom', 'master_suite', 'farm']\": 5, \"['central_air', 'city_view', 'community_outdoor_space', 'dining_room', 'dishwasher', 'family_room', 'laundry_room', 'recreation_facilities', 'view', 'two_or_more_stories', 'garage_1_or_more', 'garage_2_or_more', 'garage_3_or_more']\": 5, \"['central_air', 'central_heat', 'community_outdoor_space', 'dishwasher', 'fireplace', 'single_story', 'fenced_yard']\": 5, \"['central_heat', 'dishwasher', 'laundry_room', 'single_story', 'garage_1_or_more']\": 5, \"['carport', 'central_air', 'city_view', 'community_outdoor_space', 'dining_room', 'dishwasher', 'family_room', 'hardwood_floors', 'laundry_room', 'view', 'washer_dryer', 'medicalcare', 'shopping']\": 5, \"['central_air', 'community_outdoor_space', 'dining_room', 'dishwasher', 'family_room', 'laundry_room', 'recreation_facilities', 'view', 'community_swimming_pool', 'garage_1_or_more', 'garage_2_or_more', 'waterfront', 'two_or_more_stories', 'open_floor_plan', 'floor_plan', 'front_porch', 'tennis_court', 'water_view', 'playground', 'tennis', 'views', 'lake']\": 5, \"['central_air', 'community_outdoor_space', 'corner_lot', 'dishwasher', 'fireplace', 'hardwood_floors', 'garage_1_or_more', 'garage_2_or_more', 'single_story', 'cathedral_ceiling', 'floor_plan', 'big_lot', 'new_roof', 'lake']\": 5, \"['central_air', 'city_view', 'community_outdoor_space', 'dishwasher', 'view', 'garage_1_or_more', 'garage_2_or_more', 'single_story', 'big_yard', 'vaulted_ceiling', 'farm', 'ranch']\": 5, \"['carport', 'central_air', 'city_view', 'community_outdoor_space', 'dining_room', 'dishwasher', 'family_room', 'laundry_room', 'view', 'two_or_more_stories']\": 5, \"['carport', 'central_air', 'city_view', 'community_outdoor_space', 'dishwasher', 'family_room', 'view', 'washer_dryer', 'modern_kitchen', 'open_kitchen', 'big_yard', 'fenced_yard', 'big_bathroom', 'jack_and_jill_bathroom', 'front_porch']\": 5, \"['central_air', 'community_outdoor_space', 'dining_room', 'dishwasher', 'fireplace', 'hardwood_floors', 'laundry_room', 'washer_dryer', 'single_story', 'private_bathroom', 'master_bedroom', 'front_porch']\": 5, \"['carport', 'central_air', 'city_view', 'dishwasher', 'hardwood_floors', 'recreation_facilities', 'view', 'washer_dryer', 'community_swimming_pool', 'high_ceiling', 'hoa', 'shopping']\": 5, \"['carport', 'central_air', 'city_view', 'dining_room', 'dishwasher', 'family_room', 'hardwood_floors', 'laundry_room', 'view']\": 5, \"['central_air', 'central_heat', 'city_view', 'hardwood_floors', 'view', 'basement', 'two_or_more_stories']\": 5, \"['central_air', 'central_heat', 'community_clubhouse', 'community_golf', 'community_gym', 'community_outdoor_space', 'community_park', 'community_tennis_court', 'dishwasher', 'fireplace', 'hardwood_floors', 'laundry_room', 'recreation_facilities', 'tennis_court', 'community_swimming_pool', 'two_or_more_stories', 'garage_1_or_more', 'garage_2_or_more', 'private_courtyard', 'clubhouse', 'golf_course', 'tennis', 'hoa', 'shopping']\": 5, \"['fireplace', 'single_story', 'garage_1_or_more', 'garage_2_or_more', 'community_swimming_pool', 'modern_kitchen', 'large_kitchen', 'master_suite', 'ensuite', 'park', 'groundscare']\": 5, \"['laundry_room', 'single_story', 'garage_1_or_more', 'big_yard', 'farm', 'ranch', 'fixer_upper']\": 5, \"['central_air', 'community_outdoor_space', 'community_park', 'dishwasher', 'family_room', 'fireplace', 'laundry_room', 'recreation_facilities', 'single_story', 'garage_1_or_more', 'updated_kitchen', 'trails']\": 5, \"['central_air', 'central_heat', 'community_clubhouse', 'community_outdoor_space', 'dishwasher', 'fireplace', 'laundry_room', 'recreation_facilities', 'community_swimming_pool', 'two_or_more_stories', 'tennis_court', 'tennis', 'trails']\": 5, \"['carport', 'central_air', 'central_heat', 'community_outdoor_space', 'cul_de_sac', 'dishwasher', 'energy_efficient', 'family_room', 'fireplace', 'laundry_room', 'single_story', 'garage_1_or_more', 'garage_2_or_more', 'no_hoa', 'new_roof']\": 5, \"['carport', 'central_air', 'central_heat', 'community_outdoor_space', 'disability_features', 'laundry_room', 'single_story', 'big_lot', 'lake', 'shopping']\": 5, \"['central_air', 'central_heat', 'community_security_features', 'family_room', 'fireplace', 'laundry_room', 'two_or_more_stories', 'garage_1_or_more', 'garage_2_or_more', 'open_floor_plan', 'floor_plan']\": 5, \"['community_outdoor_space', 'dining_room', 'dishwasher', 'family_room', 'fireplace', 'hardwood_floors', 'laundry_room', 'recreation_facilities', 'community_swimming_pool', 'single_story', 'garage_1_or_more', 'garage_2_or_more', 'groundscare', 'shopping']\": 5, \"['central_heat', 'community_outdoor_space', 'community_park', 'community_security_features', 'dishwasher', 'fireplace', 'laundry_room', 'recreation_facilities', 'community_swimming_pool', 'single_story', 'garage_1_or_more', 'garage_2_or_more', 'high_ceiling', 'playground', 'tennis', 'trails', 'shopping']\": 5, \"['central_air', 'central_heat', 'community_outdoor_space', 'corner_lot', 'dishwasher', 'laundry_room', 'single_story', 'front_porch', 'outbuilding', 'ensuite', 'farm', 'ranch', 'groundscare']\": 5, \"['central_air', 'central_heat', 'community_outdoor_space', 'community_security_features', 'dining_room', 'fireplace', 'hardwood_floors', 'laundry_room', 'two_or_more_stories', 'garage_1_or_more', 'garage_2_or_more', 'media_room', 'mountain_view', 'shopping']\": 5, \"['central_air', 'central_heat', 'community_outdoor_space', 'community_park', 'community_tennis_court', 'dining_room', 'family_room', 'fireplace', 'hardwood_floors', 'laundry_room', 'recreation_facilities', 'spa_or_hot_tub', 'tennis_court', 'community_swimming_pool', 'single_story', 'garage_1_or_more', 'garage_2_or_more', 'corner_lot', 'furniture', 'new_roof']\": 5, \"['central_air', 'central_heat', 'community_security_features', 'fireplace', 'single_story', 'garage_1_or_more', 'community_swimming_pool', 'tennis_court', 'clubhouse', 'tennis', 'shopping']\": 5, \"['central_air', 'community_clubhouse', 'forced_air', 'recreation_facilities', 'community_swimming_pool', 'single_story', 'garage_1_or_more', 'garage_2_or_more', 'rental_property', 'clubhouse', 'park', 'playground', 'trails']\": 5, \"['central_air', 'central_heat', 'fireplace', 'laundry_room', 'washer_dryer', 'single_story', 'garage_1_or_more', 'corner_lot', 'shopping']\": 5, \"['central_air', 'central_heat', 'community_golf', 'community_outdoor_space', 'community_park', 'community_tennis_court', 'cul_de_sac', 'dining_room', 'dishwasher', 'fireplace', 'laundry_room', 'recreation_facilities', 'tennis_court', 'swimming_pool', 'single_story', 'garage_1_or_more', 'garage_2_or_more', 'granite_kitchen', 'big_lot', 'furniture', 'farm', 'ranch', 'park', 'golf_course', 'soccer', 'shopping']\": 5, \"['central_air', 'central_heat', 'community_outdoor_space', 'community_park', 'community_security_features', 'dishwasher', 'energy_efficient', 'family_room', 'laundry_room', 'recreation_facilities', 'community_swimming_pool', 'single_story', 'garage_1_or_more', 'garage_2_or_more', 'gourmet_kitchen', 'private_backyard', 'fenced_yard', 'high_ceiling', 'open_floor_plan', 'floor_plan', 'front_porch', 'ensuite', 'farm', 'ranch', 'smart_homes']\": 5, \"['central_air', 'community_outdoor_space', 'dishwasher', 'fireplace', 'hardwood_floors', 'laundry_room', 'recreation_facilities', 'washer_dryer', 'community_swimming_pool', 'single_story', 'garage_1_or_more', 'garage_2_or_more', 'corner_lot', 'master_suite', 'farm']\": 5, \"['central_air', 'central_heat', 'community_outdoor_space', 'fireplace', 'hardwood_floors', 'laundry_room', 'single_story', 'garage_1_or_more', 'garage_2_or_more', 'modern_kitchen', 'white_kitchen', 'floor_plan', 'new_roof']\": 5, \"['central_air', 'central_heat', 'fireplace', 'swimming_pool', 'two_or_more_stories', 'garage_1_or_more', 'garage_2_or_more', 'garage_3_or_more', 'trails']\": 5, \"['carport', 'fireplace', 'laundry_room', 'single_story', 'investment_opportunity']\": 5, \"['central_air', 'central_heat', 'community_outdoor_space', 'community_park', 'corner_lot', 'dishwasher', 'fireplace', 'laundry_room', 'recreation_facilities', 'community_swimming_pool', 'two_or_more_stories', 'garage_1_or_more', 'garage_2_or_more', 'groundscare']\": 5, \"['central_heat', 'community_outdoor_space', 'community_park', 'dishwasher', 'family_room', 'laundry_room', 'recreation_facilities', 'two_or_more_stories', 'garage_1_or_more', 'garage_2_or_more', 'media_room', 'park', 'playground', 'groundscare']\": 5, \"['central_air', 'central_heat', 'dishwasher', 'laundry_room', 'recreation_facilities', 'community_swimming_pool', 'single_story', 'granite_kitchen', 'updated_kitchen', 'private_backyard', 'shopping']\": 5, \"['central_air', 'central_heat', 'community_park', 'community_security_features', 'dishwasher', 'family_room', 'fireplace', 'hardwood_floors', 'laundry_room', 'recreation_facilities', 'community_swimming_pool', 'single_story', 'high_ceiling', 'park', 'shopping']\": 5, \"['central_air', 'central_heat', 'community_golf', 'community_outdoor_space', 'community_park', 'community_security_features', 'community_tennis_court', 'dining_room', 'dishwasher', 'fireplace', 'hardwood_floors', 'hill_or_mountain_view', 'laundry_room', 'ocean_view', 'recreation_facilities', 'river_view', 'tennis_court', 'view', 'water_view', 'two_or_more_stories', 'garage_1_or_more', 'garage_2_or_more', 'big_lot', 'golf_course', 'tennis', 'views']\": 5, \"['central_air', 'central_heat', 'community_outdoor_space', 'community_park', 'dishwasher', 'family_room', 'fireplace', 'hardwood_floors', 'laundry_room', 'recreation_facilities', 'spa_or_hot_tub', 'washer_dryer', 'single_story', 'garage_1_or_more', 'garage_2_or_more', 'corner_lot', 'greenbelt']\": 5, \"['central_air', 'central_heat', 'community_outdoor_space', 'community_security_features', 'corner_lot', 'dishwasher', 'fireplace', 'laundry_room', 'single_story', 'garage_1_or_more', 'garage_2_or_more', 'soccer', 'shopping']\": 5, \"['central_air', 'central_heat', 'community_gym', 'community_park', 'dishwasher', 'laundry_room', 'recreation_facilities', 'community_swimming_pool', 'two_or_more_stories', 'garage_1_or_more', 'garage_2_or_more', 'modern_kitchen', 'large_kitchen', 'open_kitchen', 'private_backyard', 'community_center', 'park', 'playground', 'trails']\": 5, \"['central_air', 'central_heat', 'community_outdoor_space', 'community_park', 'community_security_features', 'dining_room', 'dishwasher', 'family_room', 'fireplace', 'laundry_room', 'recreation_facilities', 'two_or_more_stories', 'garage_1_or_more', 'garage_2_or_more', 'basketball_court', 'big_yard', 'private_backyard', 'high_ceiling', 'ensuite', 'tennis', 'volleyball', 'basketball', 'shopping']\": 5, \"['central_air', 'central_heat', 'community_outdoor_space', 'community_park', 'community_tennis_court', 'corner_lot', 'cul_de_sac', 'den_or_office', 'dishwasher', 'family_room', 'hardwood_floors', 'laundry_room', 'recreation_facilities', 'tennis_court', 'single_story', 'garage_1_or_more', 'garage_2_or_more', 'high_ceiling', 'open_floor_plan', 'floor_plan', 'park', 'trails', 'greenbelt', 'shopping']\": 5, \"['central_air', 'central_heat', 'community_golf', 'community_outdoor_space', 'community_tennis_court', 'den_or_office', 'dishwasher', 'family_room', 'fireplace', 'hardwood_floors', 'laundry_room', 'recreation_facilities', 'tennis_court', 'washer_dryer', 'two_or_more_stories', 'garage_1_or_more', 'garage_2_or_more', 'granite_kitchen', 'modern_kitchen', 'large_kitchen', 'vaulted_ceiling', 'ensuite', 'clubhouse']\": 5, \"['central_air', 'central_heat', 'fireplace', 'recreation_facilities', 'swimming_pool', 'two_or_more_stories', 'garage_1_or_more', 'garage_2_or_more', 'guest_house', 'lake']\": 5, \"['fenced_yard', 'big_lot']\": 5, \"['central_air', 'central_heat', 'fireplace', 'single_story', 'garage_1_or_more', 'garage_2_or_more', 'farm', 'ranch', 'investment_opportunity']\": 5, \"['carport', 'community_outdoor_space', 'fireplace', 'hardwood_floors', 'laundry_room', 'single_story']\": 5, \"['central_air', 'central_heat', 'fireplace', 'hill_or_mountain_view', 'laundry_room', 'recreation_facilities', 'spa_or_hot_tub', 'view', 'washer_dryer', 'basement', 'two_or_more_stories', 'garage_1_or_more', 'garage_2_or_more', 'updated_kitchen', 'tennis_court', 'mountain_view', 'tennis', 'baseball', 'trails', 'views']\": 5, \"['central_air', 'central_heat', 'den_or_office', 'fireplace', 'hardwood_floors', 'hill_or_mountain_view', 'laundry_room', 'view', 'washer_dryer', 'basement', 'two_or_more_stories', 'garage_1_or_more', 'private_backyard']\": 5, \"['central_air', 'central_heat', 'fireplace', 'hardwood_floors', 'washer_dryer', 'basement', 'two_or_more_stories', 'garage_1_or_more', 'garage_2_or_more', 'garage_3_or_more', 'updated_kitchen']\": 5, \"['carport', 'central_air', 'community_outdoor_space', 'community_tennis_court', 'corner_lot', 'dishwasher', 'fireplace', 'forced_air', 'hill_or_mountain_view', 'lake_view', 'recreation_facilities', 'river_view', 'tennis_court', 'view', 'washer_dryer', 'water_view', 'two_or_more_stories', 'garage_1_or_more', 'garage_2_or_more', 'waterfront', 'big_lot', 'tennis', 'lake']\": 5, \"['carport', 'central_heat', 'community_outdoor_space', 'community_security_features', 'fireplace', 'laundry_room', 'recreation_facilities', 'single_story', 'master_bedroom', 'rental_property', 'gated_community', 'security', 'shopping']\": 5, \"['central_air', 'central_heat', 'community_clubhouse', 'community_golf', 'community_gym', 'community_outdoor_space', 'community_tennis_court', 'fireplace', 'golf_course_lot_or_frontage', 'golf_course_view', 'laundry_room', 'pets_allowed', 'recreation_facilities', 'spa_or_hot_tub', 'tennis_court', 'community_swimming_pool', 'swimming_pool', 'single_story', 'garage_1_or_more', 'garage_2_or_more', 'elevator', 'clubhouse', 'park', 'tennis', 'shopping']\": 5, \"['community_elevator', 'community_gym', 'community_outdoor_space', 'community_security_features', 'corner_lot', 'disability_features', 'dishwasher', 'fireplace', 'forced_air', 'hardwood_floors', 'hill_or_mountain_view', 'recreation_facilities', 'spa_or_hot_tub', 'view', 'washer_dryer', 'single_story', 'garage_1_or_more', 'garage_2_or_more', 'swimming_pool']\": 5, \"['central_air', 'community_outdoor_space', 'community_security_features', 'forced_air', 'hill_or_mountain_view', 'laundry_room', 'view', 'washer_dryer', 'single_story', 'elevator']\": 5, \"['central_air', 'community_outdoor_space', 'dishwasher', 'forced_air', 'laundry_room', 'washer_dryer', 'two_or_more_stories', 'garage_1_or_more', 'garage_2_or_more', 'lake', 'shopping']\": 5, \"['carport', 'central_air', 'central_heat', 'energy_efficient', 'fireplace', 'hardwood_floors', 'hill_or_mountain_view', 'laundry_room', 'view', 'washer_dryer', 'single_story', 'updated_kitchen', 'big_yard', 'solar_system', 'solar_panels']\": 5, \"['central_air', 'central_heat', 'laundry_room', 'basement', 'two_or_more_stories', 'garage_1_or_more', 'updated_kitchen', 'park', 'shopping']\": 5, \"['carport', 'central_air', 'central_heat', 'den_or_office', 'fireplace', 'hardwood_floors', 'washer_dryer', 'basement', 'two_or_more_stories', 'fenced_yard']\": 5, \"['carport', 'community_outdoor_space', 'dishwasher', 'single_story', 'low_hoa', 'investment_opportunity', 'hoa', 'shopping']\": 5, \"['central_air', 'central_heat', 'fireplace', 'hardwood_floors', 'hill_or_mountain_view', 'laundry_room', 'view', 'washer_dryer', 'basement', 'two_or_more_stories', 'garage_1_or_more', 'rental_property', 'groundscare', 'shopping']\": 5, \"['central_air', 'fireplace', 'forced_air', 'hardwood_floors', 'hill_or_mountain_view', 'laundry_room', 'view', 'basement', 'two_or_more_stories', 'updated_kitchen', 'two_master_suites', 'master_suite', 'ensuite', 'park', 'lake', 'shopping']\": 5, \"['central_air', 'central_heat', 'community_outdoor_space', 'hill_or_mountain_view', 'laundry_room', 'pets_allowed', 'recreation_facilities', 'view', 'washer_dryer', 'two_or_more_stories', 'garage_1_or_more', 'garage_2_or_more', 'granite_kitchen', 'modern_kitchen', 'large_kitchen', 'high_ceiling', 'efficient', 'ensuite', 'mountain_view', 'park', 'views', 'lake', 'shopping']\": 5, \"['carport', 'central_heat', 'fireplace', 'laundry_room', 'recreation_facilities', 'basement', 'two_or_more_stories', 'updated_kitchen', 'fenced_yard', 'shopping']\": 5, \"['community_outdoor_space', 'dishwasher', 'fireplace', 'forced_air', 'hardwood_floors', 'hill_or_mountain_view', 'view', 'washer_dryer', 'basement', 'garage_1_or_more', 'two_or_more_stories', 'big_yard', 'high_ceiling', 'guest_house', 'private_bathroom', 'fruit_trees']\": 5, \"['carport', 'central_heat', 'community_clubhouse', 'laundry_room', 'recreation_facilities', 'community_swimming_pool', 'swimming_pool', 'single_story']\": 5, \"['central_air', 'community_outdoor_space', 'dishwasher', 'fireplace', 'forced_air', 'hill_or_mountain_view', 'view', 'two_or_more_stories', 'garage_1_or_more', 'community_swimming_pool', 'vaulted_ceiling', 'master_bedroom', 'floor_plan', 'clubhouse', 'views', 'shopping']\": 5, \"['central_air', 'central_heat', 'hill_or_mountain_view', 'view', 'basement', 'two_or_more_stories', 'garage_1_or_more', 'garage_2_or_more']\": 5, \"['central_heat', 'hardwood_floors', 'washer_dryer', 'basement', 'rental_property', 'investment_opportunity', 'lake']\": 5, \"['central_air', 'community_security_features', 'den_or_office', 'fireplace', 'hardwood_floors', 'laundry_room', 'basement', 'two_or_more_stories', 'garage_1_or_more', 'garage_2_or_more', 'master_bedroom', 'master_suite', 'lake']\": 5, \"['central_air', 'central_heat', 'fireplace', 'laundry_room', 'washer_dryer', 'basement', 'two_or_more_stories', 'garage_1_or_more', 'garage_2_or_more', 'vaulted_ceiling']\": 5, \"['carport', 'central_air', 'central_heat', 'community_clubhouse', 'community_security_features', 'hill_or_mountain_view', 'recreation_facilities', 'senior_community', 'view', 'washer_dryer', 'community_swimming_pool', 'swimming_pool', 'single_story', 'rental_property', 'clubhouse']\": 5, \"['central_heat', 'fireplace', 'hardwood_floors', 'basement', 'two_or_more_stories', 'garage_1_or_more', 'garage_2_or_more']\": 5, \"['carport', 'central_air', 'den_or_office', 'fireplace', 'forced_air', 'hardwood_floors', 'hill_or_mountain_view', 'laundry_room', 'view', 'washer_dryer', 'basement', 'two_or_more_stories', 'pond', 'new_roof']\": 5, \"['central_air', 'central_heat', 'energy_efficient', 'hardwood_floors', 'laundry_room', 'washer_dryer', 'swimming_pool', 'basement', 'two_or_more_stories', 'garage_1_or_more', 'garage_2_or_more', 'solar_system', 'big_lot', 'efficient', 'solar_panels']\": 5, \"['carport', 'central_air', 'forced_air', 'laundry_room', 'single_story']\": 5, \"['carport', 'forced_air', 'laundry_room', 'private_backyard', 'rental_property', 'shopping']\": 5, \"['central_air', 'central_heat', 'fireplace', 'hardwood_floors', 'hill_or_mountain_view', 'spa_or_hot_tub', 'view', 'washer_dryer', 'basement', 'two_or_more_stories', 'garage_1_or_more', 'garage_2_or_more', 'garage_3_or_more', 'high_ceiling', 'vaulted_ceiling', 'corner_lot', 'new_roof', 'park', 'trails', 'views', 'lake', 'groundscare', 'medicalcare']\": 5, \"['central_air', 'central_heat', 'hardwood_floors', 'hill_or_mountain_view', 'laundry_room', 'spa_or_hot_tub', 'view', 'basement', 'two_or_more_stories', 'garage_1_or_more', 'updated_kitchen', 'private_backyard', 'water_view']\": 5, \"['community_outdoor_space', 'washer_dryer', 'single_story', 'modern_kitchen', 'groundscare']\": 5, \"['central_air', 'central_heat', 'community_gym', 'community_outdoor_space', 'community_security_features', 'den_or_office', 'fireplace', 'hardwood_floors', 'hill_or_mountain_view', 'laundry_room', 'recreation_facilities', 'view', 'washer_dryer', 'community_swimming_pool', 'swimming_pool', 'single_story', 'garage_1_or_more', 'garage_2_or_more', 'floor_plan', 'furniture', 'ensuite', 'mountain_view', 'trails', 'views']\": 5, \"['central_air', 'central_heat', 'community_outdoor_space', 'hardwood_floors', 'laundry_room', 'washer_dryer', 'two_or_more_stories', 'basement', 'updated_kitchen', 'wine_cellar', 'park', 'shopping']\": 5, \"['carport', 'central_air', 'central_heat', 'hill_or_mountain_view', 'view', 'single_story', 'rental_property', 'shopping']\": 5, \"['central_air', 'central_heat', 'community_outdoor_space', 'community_security_features', 'fireplace', 'hardwood_floors', 'hill_or_mountain_view', 'spa_or_hot_tub', 'view', 'basement', 'two_or_more_stories', 'garage_1_or_more', 'garage_2_or_more', 'garage_3_or_more', 'updated_kitchen', 'views']\": 5, \"['central_air', 'community_outdoor_space', 'dishwasher', 'forced_air', 'single_story', 'rental_property', 'new_roof', 'shopping']\": 5, \"['central_air', 'community_boat_facilities', 'community_outdoor_space', 'dining_room', 'dishwasher', 'fireplace', 'hardwood_floors', 'lake_view', 'laundry_room', 'recreation_facilities', 'water_view', 'community_swimming_pool', 'basement', 'two_or_more_stories', 'updated_kitchen']\": 5, \"['central_air', 'community_outdoor_space', 'dishwasher', 'fireplace', 'hardwood_floors', 'river_view', 'washer_dryer', 'water_view', 'single_story', 'rental_property', 'trails', 'shopping']\": 5, \"['community_outdoor_space', 'dishwasher', 'fireplace', 'hardwood_floors', 'laundry_room', 'basement', 'two_or_more_stories', 'fenced_yard', 'high_ceiling']\": 5, \"['carport', 'central_air', 'community_outdoor_space', 'fireplace', 'forced_air', 'hardwood_floors', 'laundry_room', 'single_story', 'garage_1_or_more', 'granite_kitchen', 'fenced_yard', 'shopping']\": 5, \"['corner_lot', 'waterfront', 'big_lot']\": 5, \"['central_air', 'single_story', 'private_backyard', 'big_lot', 'new_roof', 'shopping']\": 5, \"['community_outdoor_space', 'community_security_features', 'cul_de_sac', 'dining_room', 'dishwasher', 'fireplace', 'hardwood_floors', 'laundry_room', 'washer_dryer', 'two_or_more_stories', 'garage_1_or_more', 'garage_2_or_more', 'open_floor_plan', 'floor_plan']\": 5, \"['community_outdoor_space', 'community_security_features', 'fireplace', 'hardwood_floors', 'laundry_room', 'two_or_more_stories', 'fenced_yard', 'shopping']\": 5, \"['single_story', 'granite_kitchen', 'fenced_yard']\": 5, \"['single_story', 'no_hoa', 'hoa']\": 5, \"['central_air', 'community_outdoor_space', 'community_security_features', 'dishwasher', 'hardwood_floors', 'laundry_room', 'two_or_more_stories', 'updated_kitchen', 'big_bathroom']\": 5, \"['central_air', 'community_outdoor_space', 'community_security_features', 'dining_room', 'dishwasher', 'fireplace', 'hardwood_floors', 'laundry_room', 'washer_dryer', 'two_or_more_stories', 'garage_1_or_more', 'garage_2_or_more', 'granite_kitchen', 'park']\": 5, \"['central_air', 'community_outdoor_space', 'community_security_features', 'dishwasher', 'hardwood_floors', 'single_story']\": 5, \"['central_air', 'dining_room', 'laundry_room', 'single_story']\": 5, \"['forced_air', 'hardwood_floors', 'single_story', 'farm', 'ranch']\": 5, \"['community_outdoor_space', 'cul_de_sac', 'dining_room', 'fireplace', 'washer_dryer', 'single_story', 'fenced_yard', 'shopping']\": 5, \"['central_air', 'community_clubhouse', 'community_outdoor_space', 'community_security_features', 'dining_room', 'dishwasher', 'fireplace', 'forced_air', 'hardwood_floors', 'recreation_facilities', 'community_swimming_pool', 'two_or_more_stories', 'garage_1_or_more', 'garage_2_or_more', 'high_ceiling', 'gated_community', 'security']\": 5, \"['community_outdoor_space', 'dishwasher', 'fireplace', 'hardwood_floors', 'two_or_more_stories', 'efficient', 'farm']\": 5, \"['central_air', 'community_outdoor_space', 'community_security_features', 'dining_room', 'dishwasher', 'laundry_room', 'basement', 'two_or_more_stories']\": 5, \"['central_air', 'fireplace', 'hardwood_floors', 'single_story', 'garage_1_or_more', 'granite_kitchen', 'updated_kitchen', 'shopping']\": 5, \"['city_view', 'dining_room', 'dishwasher', 'fireplace', 'hardwood_floors', 'laundry_room', 'recreation_facilities', 'view', 'washer_dryer', 'two_or_more_stories', 'ensuite', 'shopping']\": 5, \"['central_air', 'community_outdoor_space', 'dishwasher', 'fireplace', 'forced_air', 'hardwood_floors', 'basement', 'two_or_more_stories', 'modern_kitchen', 'open_kitchen', 'fenced_yard', 'efficient', 'ensuite', 'groundscare']\": 5, \"['central_air', 'community_outdoor_space', 'community_security_features', 'dining_room', 'dishwasher', 'fireplace', 'hardwood_floors', 'laundry_room', 'single_story', 'fenced_yard', 'ensuite']\": 5, \"['community_outdoor_space', 'fireplace', 'hardwood_floors', 'laundry_room', 'single_story', 'garage_1_or_more', 'community_swimming_pool', 'farm', 'ranch']\": 5, \"['central_air', 'city_view', 'community_outdoor_space', 'forced_air', 'hardwood_floors', 'view', 'two_or_more_stories', 'updated_kitchen', 'fenced_yard']\": 5, \"['community_outdoor_space', 'community_security_features', 'dining_room', 'dishwasher', 'fireplace', 'laundry_room', 'washer_dryer', 'single_story', 'updated_kitchen', 'open_floor_plan', 'floor_plan', 'big_lot', 'new_roof', 'trails', 'marina']\": 5, \"['central_air', 'community_outdoor_space', 'dishwasher', 'fireplace', 'hardwood_floors', 'washer_dryer', 'basement', 'two_or_more_stories', 'updated_kitchen', 'high_ceiling', 'shopping']\": 5, \"['central_air', 'community_outdoor_space', 'dining_room', 'dishwasher', 'fireplace', 'hardwood_floors', 'laundry_room', 'washer_dryer', 'basement', 'two_or_more_stories', 'updated_kitchen', 'high_ceiling']\": 5, \"['community_outdoor_space', 'corner_lot', 'dining_room', 'dishwasher', 'fireplace', 'hardwood_floors', 'washer_dryer', 'basement', 'two_or_more_stories', 'garage_1_or_more', 'fenced_yard']\": 5, \"['central_air', 'community_outdoor_space', 'dining_room', 'dishwasher', 'fireplace', 'hardwood_floors', 'two_or_more_stories', 'big_yard', 'rental_property']\": 5, \"['central_air', 'community_outdoor_space', 'cul_de_sac', 'dishwasher', 'forced_air', 'hardwood_floors', 'laundry_room', 'two_or_more_stories', 'garage_1_or_more', 'fenced_yard']\": 5, \"['central_air', 'community_clubhouse', 'community_outdoor_space', 'community_security_features', 'cul_de_sac', 'dining_room', 'dishwasher', 'fireplace', 'recreation_facilities', 'community_swimming_pool', 'two_or_more_stories', 'garage_1_or_more', 'fenced_yard', 'corner_lot', 'big_lot', 'clubhouse', 'park', 'playground', 'groundscare', 'shopping']\": 5, \"['community_outdoor_space', 'community_security_features', 'dining_room', 'dishwasher', 'fireplace', 'hardwood_floors', 'laundry_room', 'two_or_more_stories', 'garage_1_or_more', 'garage_2_or_more', 'ensuite']\": 5, \"['central_air', 'community_clubhouse', 'community_outdoor_space', 'cul_de_sac', 'dishwasher', 'fireplace', 'forced_air', 'hardwood_floors', 'laundry_room', 'recreation_facilities', 'washer_dryer', 'community_swimming_pool', 'two_or_more_stories', 'garage_1_or_more', 'modern_kitchen', 'large_kitchen', 'front_porch', 'big_lot', 'ensuite', 'new_roof', 'trails', 'marina']\": 5, \"['central_air', 'community_outdoor_space', 'dining_room', 'dishwasher', 'fireplace', 'hardwood_floors', 'laundry_room', 'basement', 'two_or_more_stories', 'gourmet_kitchen', 'ensuite']\": 5, \"['central_air', 'community_outdoor_space', 'corner_lot', 'dining_room', 'dishwasher', 'fireplace', 'hardwood_floors', 'laundry_room', 'washer_dryer', 'two_or_more_stories', 'fixer_upper']\": 5, \"['central_air', 'community_outdoor_space', 'community_security_features', 'dining_room', 'dishwasher', 'fireplace', 'laundry_room', 'river_view', 'washer_dryer', 'water_view', 'basement', 'two_or_more_stories', 'garage_1_or_more', 'waterfront', 'wooded_land', 'screen_porch', 'rental_property', 'ensuite']\": 5, \"['community_security_features', 'dining_room', 'dishwasher', 'family_room', 'fireplace', 'forced_air', 'hardwood_floors', 'recreation_facilities', 'washer_dryer', 'two_or_more_stories', 'garage_1_or_more', 'garage_2_or_more', 'updated_kitchen', 'modern_kitchen', 'kitchen_island', 'large_kitchen', 'fenced_yard', 'high_ceiling', 'front_porch', 'park', 'playground', 'groundscare']\": 5, \"['community_security_features', 'cul_de_sac', 'dining_room', 'dishwasher', 'fireplace', 'forced_air', 'washer_dryer', 'two_or_more_stories', 'garage_1_or_more', 'garage_2_or_more', 'greenbelt', 'groundscare']\": 5, \"['central_air', 'community_security_features', 'dining_room', 'dishwasher', 'fireplace', 'forced_air', 'recreation_facilities', 'washer_dryer', 'single_story', 'garage_1_or_more', 'garage_2_or_more', 'granite_kitchen', 'front_porch']\": 5, \"['community_boat_facilities', 'dining_room', 'dishwasher', 'family_room', 'fireplace', 'forced_air', 'hardwood_floors', 'recreation_facilities', 'spa_or_hot_tub', 'washer_dryer', 'single_story', 'garage_1_or_more', 'garage_2_or_more', 'vaulted_ceiling', 'big_lot', 'efficient', 'park', 'trails', 'lake']\": 5, \"['community_clubhouse', 'community_golf', 'corner_lot', 'cul_de_sac', 'dishwasher', 'family_room', 'fireplace', 'forced_air', 'recreation_facilities', 'view', 'washer_dryer', 'single_story', 'garage_1_or_more', 'garage_2_or_more', 'modern_kitchen', 'open_kitchen', 'big_yard', 'golf_course', 'shopping']\": 5, \"['central_air', 'community_golf', 'community_security_features', 'dining_room', 'dishwasher', 'fireplace', 'hardwood_floors', 'recreation_facilities', 'rv_or_boat_parking', 'single_story', 'garage_1_or_more', 'garage_2_or_more', 'modern_kitchen', 'open_kitchen', 'fenced_yard', 'golf_course', 'groundscare', 'shopping']\": 5, \"['carport', 'dishwasher', 'energy_efficient', 'senior_community', 'spa_or_hot_tub', 'washer_dryer', 'single_story', 'garage_1_or_more', 'fenced_yard', 'rental_property', 'clubhouse', 'medicalcare', 'shopping']\": 5, \"['community_boat_facilities', 'community_clubhouse', 'dishwasher', 'family_room', 'fireplace', 'forced_air', 'recreation_facilities', 'spa_or_hot_tub', 'view', 'single_story', 'garage_1_or_more', 'garage_2_or_more', 'vaulted_ceiling', 'open_floor_plan', 'floor_plan', 'new_roof', 'clubhouse']\": 5, \"['forced_air', 'hardwood_floors', 'garage_1_or_more', 'efficient', 'shopping']\": 5, \"['community_security_features', 'dishwasher', 'fireplace', 'forced_air', 'washer_dryer', 'two_or_more_stories', 'garage_1_or_more', 'library', 'trails', 'medicalcare', 'shopping']\": 5, \"['central_air', 'community_clubhouse', 'community_golf', 'community_security_features', 'dining_room', 'dishwasher', 'family_room', 'fireplace', 'forced_air', 'golf_course_lot_or_frontage', 'golf_course_view', 'hardwood_floors', 'recreation_facilities', 'spa_or_hot_tub', 'view', 'washer_dryer', 'two_or_more_stories', 'garage_1_or_more', 'garage_2_or_more', 'garage_3_or_more', 'golf_course', 'views']\": 5, \"['community_security_features', 'cul_de_sac', 'dining_room', 'dishwasher', 'family_room', 'fireplace', 'forced_air', 'lake_view', 'recreation_facilities', 'rv_or_boat_parking', 'view', 'water_view', 'two_or_more_stories', 'garage_1_or_more', 'garage_2_or_more', 'garage_3_or_more', 'waterfront', 'vaulted_ceiling', 'tennis_court', 'park', 'tennis', 'trails', 'lake', 'medicalcare', 'shopping']\": 5, \"['community_security_features', 'dining_room', 'dishwasher', 'fireplace', 'forced_air', 'view', 'washer_dryer', 'two_or_more_stories', 'garage_1_or_more', 'fenced_yard', 'high_ceiling', 'vaulted_ceiling', 'park', 'marina']\": 5, \"['community_security_features', 'dishwasher', 'fireplace', 'hardwood_floors', 'recreation_facilities', 'rv_or_boat_parking', 'washer_dryer', 'two_or_more_stories', 'fenced_yard', 'vaulted_ceiling', 'fruit_trees', 'outbuilding']\": 5, \"['dishwasher', 'family_room', 'hardwood_floors', 'ocean_view', 'view', 'washer_dryer', 'water_view', 'single_story', 'waterfront', 'beach']\": 5, \"['central_air', 'community_security_features', 'dining_room', 'dishwasher', 'energy_efficient', 'family_room', 'fireplace', 'forced_air', 'hardwood_floors', 'recreation_facilities', 'view', 'two_or_more_stories', 'garage_1_or_more', 'garage_2_or_more', 'granite_kitchen', 'fenced_yard', 'solar_system', 'solar_panels']\": 5, \"['community_security_features', 'corner_lot', 'dishwasher', 'fireplace', 'hardwood_floors', 'recreation_facilities', 'view', 'single_story', 'garage_1_or_more', 'garage_2_or_more']\": 5, \"['dishwasher', 'family_room', 'recreation_facilities', 'view', 'washer_dryer', 'single_story', 'garage_1_or_more', 'garage_2_or_more', 'high_ceiling']\": 5, \"['central_air', 'community_security_features', 'dining_room', 'dishwasher', 'family_room', 'fireplace', 'forced_air', 'hardwood_floors', 'recreation_facilities', 'rv_or_boat_parking', 'view', 'washer_dryer', 'two_or_more_stories', 'garage_1_or_more', 'garage_2_or_more', 'garage_3_or_more', 'fenced_yard', 'vaulted_ceiling', 'media_room', 'big_lot', 'ensuite']\": 5, \"['carport', 'community_security_features', 'dining_room', 'dishwasher', 'fireplace', 'hardwood_floors', 'recreation_facilities', 'rv_or_boat_parking', 'view', 'single_story', 'garage_1_or_more', 'garage_2_or_more', 'garage_3_or_more', 'big_yard', 'big_lot']\": 5, \"['dining_room', 'family_room', 'fireplace', 'hardwood_floors', 'single_story', 'garage_1_or_more', 'garage_2_or_more', 'fenced_yard', 'floor_plan', 'big_lot', 'efficient', 'trails', 'lake', 'shopping']\": 5, \"['carport', 'dishwasher', 'forced_air', 'washer_dryer', 'single_story', 'updated_kitchen', 'outbuilding', 'park']\": 5, \"['community_security_features', 'dining_room', 'dishwasher', 'fireplace', 'forced_air', 'recreation_facilities', 'rv_or_boat_parking', 'view', 'community_swimming_pool', 'basement', 'two_or_more_stories', 'garage_1_or_more', 'garage_2_or_more', 'fenced_yard', 'no_hoa', 'new_roof', 'playground']\": 5, \"['community_boat_facilities', 'community_clubhouse', 'community_gym', 'community_security_features', 'community_spa_or_hot_tub', 'hardwood_floors', 'laundry_room', 'pets_allowed', 'recreation_facilities', 'view', 'community_swimming_pool', 'single_story', 'clubhouse', 'playground', 'golf_course', 'trails', 'lake']\": 5, \"['community_security_features', 'fireplace', 'recreation_facilities', 'view', 'basement', 'two_or_more_stories', 'garage_1_or_more', 'rental_property', 'shopping', 'fixer_upper']\": 5, \"['forced_air', 'two_or_more_stories', 'garage_1_or_more', 'garage_2_or_more', 'updated_kitchen', 'big_yard', 'shopping']\": 5, \"['community_security_features', 'dining_room', 'dishwasher', 'family_room', 'fireplace', 'forced_air', 'recreation_facilities', 'rv_or_boat_parking', 'washer_dryer', 'two_or_more_stories', 'garage_1_or_more', 'garage_2_or_more', 'garage_3_or_more', 'updated_kitchen', 'big_yard', 'fruit_trees', 'big_lot', 'new_roof']\": 5, \"['central_air', 'community_security_features', 'dishwasher', 'family_room', 'fireplace', 'forced_air', 'hardwood_floors', 'two_or_more_stories', 'garage_1_or_more', 'garage_2_or_more', 'fenced_yard', 'master_bedroom', 'new_roof', 'shopping']\": 5, \"['community_security_features', 'dining_room', 'dishwasher', 'family_room', 'fireplace', 'forced_air', 'hardwood_floors', 'basement', 'two_or_more_stories', 'garage_1_or_more', 'garage_2_or_more', 'new_roof', 'maintenance']\": 5, \"['community_security_features', 'cul_de_sac', 'dining_room', 'dishwasher', 'family_room', 'fireplace', 'forced_air', 'recreation_facilities', 'rv_or_boat_parking', 'washer_dryer', 'two_or_more_stories', 'garage_1_or_more', 'garage_2_or_more', 'modern_kitchen', 'open_kitchen', 'fenced_yard', 'shopping']\": 5, \"['carport', 'corner_lot', 'dishwasher', 'fireplace', 'lake_view', 'river_view', 'view', 'washer_dryer', 'water_view', 'single_story', 'garage_1_or_more', 'garage_2_or_more', 'garage_3_or_more', 'waterfront', 'big_yard', 'well_water', 'lake']\": 5, \"['carport', 'community_boat_facilities', 'community_golf', 'community_security_features', 'cul_de_sac', 'dining_room', 'dishwasher', 'fireplace', 'recreation_facilities', 'view', 'single_story', 'vaulted_ceiling', 'boat_dock', 'rv_parking', 'big_lot', 'new_roof', 'clubhouse', 'park', 'golf_course', 'lake', 'beach']\": 5, \"['community_security_features', 'dishwasher', 'family_room', 'fireplace', 'washer_dryer', 'single_story', 'garage_1_or_more', 'garage_2_or_more', 'fenced_yard', 'vaulted_ceiling', 'big_lot', 'ensuite']\": 5, \"['community_security_features', 'dining_room', 'dishwasher', 'fireplace', 'recreation_facilities', 'single_story', 'vaulted_ceiling', 'master_bedroom', 'groundscare', 'shopping']\": 5, \"['carport', 'community_outdoor_space', 'corner_lot', 'cul_de_sac', 'dishwasher', 'fireplace', 'laundry_room', 'view', 'washer_dryer', 'two_or_more_stories', 'greenbelt', 'shopping']\": 5, \"['carport', 'community_security_features', 'dishwasher', 'recreation_facilities', 'rv_or_boat_parking', 'view', 'washer_dryer', 'single_story', 'garage_1_or_more', 'garage_2_or_more', 'garage_3_or_more', 'modern_kitchen', 'large_kitchen', 'open_kitchen', 'outbuilding', 'shopping']\": 5, \"['dishwasher', 'energy_efficient', 'fireplace', 'forced_air', 'pets_allowed', 'washer_dryer', 'single_story', 'furniture', 'efficient']\": 5, \"['central_air', 'community_outdoor_space', 'corner_lot', 'disability_features', 'dishwasher', 'forced_air', 'hardwood_floors', 'washer_dryer', 'basement', 'two_or_more_stories', 'shopping']\": 5, \"['community_outdoor_space', 'dishwasher', 'forced_air', 'hardwood_floors', 'washer_dryer', 'basement', 'single_story', 'garage_1_or_more', 'garage_2_or_more', 'farm', 'ranch', 'new_roof', 'park']\": 5, \"['central_air', 'community_outdoor_space', 'corner_lot', 'dining_room', 'dishwasher', 'family_room', 'fireplace', 'forced_air', 'game_room', 'washer_dryer', 'swimming_pool', 'basement', 'single_story', 'garage_1_or_more', 'garage_2_or_more', 'garage_3_or_more', 'rental_property', 'farm', 'ranch']\": 5, \"['central_air', 'community_outdoor_space', 'corner_lot', 'dining_room', 'disability_features', 'dishwasher', 'fireplace', 'forced_air', 'washer_dryer', 'basement', 'single_story', 'garage_1_or_more', 'garage_2_or_more', 'updated_kitchen', 'big_yard', 'fenced_yard', 'farm', 'ranch', 'park']\": 5, \"['central_air', 'community_outdoor_space', 'dishwasher', 'forced_air', 'hardwood_floors', 'washer_dryer', 'basement', 'two_or_more_stories', 'garage_1_or_more', 'garage_2_or_more', 'ensuite', 'park', 'shopping']\": 5, \"['central_air', 'community_outdoor_space', 'dining_room', 'disability_features', 'dishwasher', 'fireplace', 'forced_air', 'hardwood_floors', 'washer_dryer', 'basement', 'two_or_more_stories', 'garage_1_or_more', 'garage_2_or_more', 'high_ceiling', 'vaulted_ceiling', 'private_bathroom', 'medicalcare', 'shopping']\": 5, \"['central_air', 'community_outdoor_space', 'disability_features', 'forced_air', 'hardwood_floors', 'washer_dryer', 'basement', 'two_or_more_stories', 'updated_kitchen', 'efficient']\": 5, \"['central_air', 'community_outdoor_space', 'dining_room', 'disability_features', 'dishwasher', 'fireplace', 'forced_air', 'hardwood_floors', 'washer_dryer', 'basement', 'single_story', 'garage_1_or_more', 'modern_kitchen', 'large_kitchen', 'private_backyard', 'fenced_yard', 'storm_shelter', 'open_floor_plan', 'floor_plan', 'farm', 'ranch']\": 5, \"['community_outdoor_space', 'disability_features', 'forced_air', 'laundry_room', 'washer_dryer', 'basement', 'single_story', 'garage_1_or_more', 'garage_2_or_more', 'big_yard', 'rental_property', 'shopping']\": 5, \"['central_air', 'community_outdoor_space', 'disability_features', 'dishwasher', 'fireplace', 'forced_air', 'hardwood_floors', 'washer_dryer', 'basement', 'single_story', 'garage_1_or_more', 'garage_2_or_more', 'updated_kitchen', 'fenced_yard', 'vaulted_ceiling', 'open_floor_plan', 'floor_plan', 'master_suite', 'farm', 'ranch']\": 5, \"['central_air', 'community_clubhouse', 'dishwasher', 'forced_air', 'recreation_facilities', 'washer_dryer', 'single_story']\": 5, \"['dining_room', 'laundry_room', 'washer_dryer', 'basement', 'two_or_more_stories', 'garage_1_or_more', 'garage_2_or_more', 'rental_property', 'fixer_upper']\": 5, \"['central_air', 'community_outdoor_space', 'dining_room', 'dishwasher', 'family_room', 'fireplace', 'game_room', 'hardwood_floors', 'washer_dryer', 'basement', 'two_or_more_stories', 'garage_1_or_more', 'garage_2_or_more', 'fenced_yard', 'wooded_land', 'rental_property', 'lake', 'beach']\": 5, \"['central_air', 'community_outdoor_space', 'community_security_features', 'dining_room', 'dishwasher', 'fireplace', 'forced_air', 'hardwood_floors', 'washer_dryer', 'basement', 'two_or_more_stories', 'garage_1_or_more', 'garage_2_or_more', 'shopping']\": 5, \"['central_air', 'community_outdoor_space', 'dining_room', 'disability_features', 'dishwasher', 'fireplace', 'forced_air', 'hardwood_floors', 'washer_dryer', 'basement', 'single_story', 'garage_1_or_more', 'garage_2_or_more', 'efficient', 'farm', 'ranch', 'golf_course', 'shopping']\": 5, \"['central_air', 'community_outdoor_space', 'disability_features', 'dishwasher', 'forced_air', 'washer_dryer', 'basement', 'two_or_more_stories', 'garage_1_or_more', 'garage_2_or_more', 'modern_kitchen', 'large_kitchen']\": 5, \"['central_air', 'community_outdoor_space', 'dining_room', 'dishwasher', 'fireplace', 'forced_air', 'hardwood_floors', 'basement', 'single_story', 'garage_1_or_more', 'farm', 'ranch']\": 5, \"['central_air', 'community_outdoor_space', 'disability_features', 'dishwasher', 'fireplace', 'forced_air', 'washer_dryer', 'basement', 'two_or_more_stories', 'garage_1_or_more', 'garage_2_or_more', 'garage_3_or_more', 'modern_kitchen', 'large_kitchen', 'high_ceiling', 'master_bedroom', 'solar_system', 'shopping']\": 5, \"['central_air', 'disability_features', 'dishwasher', 'forced_air', 'hardwood_floors', 'basement', 'single_story', 'garage_1_or_more', 'garage_2_or_more', 'fenced_yard', 'farm', 'ranch']\": 5, \"['community_golf', 'community_outdoor_space', 'cul_de_sac', 'disability_features', 'dishwasher', 'fireplace', 'forced_air', 'golf_course_lot_or_frontage', 'golf_course_view', 'hardwood_floors', 'recreation_facilities', 'view', 'basement', 'single_story', 'garage_1_or_more', 'garage_2_or_more', 'front_porch', 'solar_system', 'solar_panels', 'golf_course']\": 5, \"['central_air', 'community_outdoor_space', 'disability_features', 'dishwasher', 'forced_air', 'recreation_facilities', 'washer_dryer']\": 5, \"['dining_room', 'dishwasher', 'forced_air', 'basement', 'two_or_more_stories', 'garage_1_or_more', 'garage_2_or_more', 'fenced_yard', 'fixer_upper']\": 5, \"['central_air', 'community_outdoor_space', 'dishwasher', 'fireplace', 'forced_air', 'hardwood_floors', 'washer_dryer', 'basement', 'single_story', 'garage_1_or_more', 'garage_2_or_more', 'big_yard', 'big_bathroom', 'farm', 'ranch', 'new_roof', 'park', 'shopping']\": 5, \"['central_air', 'community_outdoor_space', 'dining_room', 'fireplace', 'forced_air', 'hardwood_floors', 'basement', 'two_or_more_stories', 'garage_1_or_more', 'garage_2_or_more', 'fenced_yard', 'vaulted_ceiling', 'master_bathroom']\": 5, \"['central_air', 'community_outdoor_space', 'cul_de_sac', 'disability_features', 'dishwasher', 'energy_efficient', 'fireplace', 'forced_air', 'hardwood_floors', 'washer_dryer', 'basement', 'two_or_more_stories', 'garage_1_or_more', 'garage_2_or_more', 'trails', 'shopping']\": 5, \"['central_air', 'community_outdoor_space', 'dining_room', 'disability_features', 'dishwasher', 'forced_air', 'hardwood_floors', 'washer_dryer', 'basement', 'single_story', 'garage_1_or_more', 'updated_kitchen', 'open_house', 'farm', 'ranch']\": 5, \"['community_outdoor_space', 'disability_features', 'dishwasher', 'forced_air', 'hardwood_floors', 'washer_dryer', 'basement', 'single_story', 'garage_1_or_more', 'garage_2_or_more', 'lake', 'medicalcare']\": 5, \"['central_air', 'community_clubhouse', 'community_outdoor_space', 'disability_features', 'dishwasher', 'fireplace', 'forced_air', 'recreation_facilities', 'single_story', 'garage_1_or_more', 'garage_2_or_more', 'community_swimming_pool', 'updated_kitchen', 'ensuite', 'new_roof', 'clubhouse', 'golf_course']\": 5, \"['central_air', 'community_outdoor_space', 'dining_room', 'dishwasher', 'family_room', 'fireplace', 'forced_air', 'game_room', 'hardwood_floors', 'basement', 'two_or_more_stories', 'garage_1_or_more', 'garage_2_or_more', 'fenced_yard', 'farm', 'ranch', 'trails', 'lake', 'shopping']\": 5, \"['central_air', 'cul_de_sac', 'forced_air', 'hardwood_floors', 'basement', 'single_story', 'garage_1_or_more', 'garage_2_or_more']\": 5, \"['central_air', 'community_outdoor_space', 'disability_features', 'dishwasher', 'fireplace', 'forced_air', 'hardwood_floors', 'washer_dryer', 'basement', 'two_or_more_stories', 'garage_1_or_more', 'garage_2_or_more', 'modern_kitchen', 'kitchen_island', 'large_kitchen', 'ensuite']\": 5, \"['central_air', 'community_elevator', 'community_outdoor_space', 'dining_room', 'disability_features', 'dishwasher', 'forced_air', 'hardwood_floors', 'recreation_facilities', 'washer_dryer', 'basement', 'garage_1_or_more', 'garage_2_or_more', 'high_ceiling', 'pond', 'park', 'views']\": 5, \"['community_outdoor_space', 'disability_features', 'dishwasher', 'recreation_facilities', 'single_story', 'vaulted_ceiling', 'rental_property', 'shopping']\": 5, \"['dishwasher', 'washer_dryer', 'single_story', 'garage_1_or_more', 'investment_opportunity', 'medicalcare']\": 5, \"['community_outdoor_space', 'forced_air', 'single_story', 'garage_1_or_more', 'farm', 'fixer_upper']\": 5, \"['central_air', 'community_outdoor_space', 'dining_room', 'dishwasher', 'fireplace', 'forced_air', 'hardwood_floors', 'washer_dryer', 'basement', 'two_or_more_stories', 'garage_1_or_more', 'garage_2_or_more', 'updated_kitchen', 'big_yard']\": 5, \"['central_air', 'community_elevator', 'community_gym', 'community_security_features', 'disability_features', 'dishwasher', 'lake_view', 'recreation_facilities', 'view', 'washer_dryer', 'water_view', 'waterfront', 'high_ceiling', 'exposed_brick', 'ensuite', 'views', 'lake', 'shopping']\": 5, \"['central_air', 'community_clubhouse', 'community_outdoor_space', 'dishwasher', 'hardwood_floors', 'recreation_facilities', 'washer_dryer', 'community_swimming_pool', 'solar_system', 'clubhouse', 'golf_course']\": 5, \"['basement', 'garage_1_or_more', 'outbuilding', 'big_lot']\": 5, \"['basement', 'garage_1_or_more', 'garage_2_or_more']\": 5, \"['basement', 'front_porch', 'big_lot']\": 5, \"['community_outdoor_space', 'forced_air', 'garage_1_or_more', 'garage_2_or_more', 'garage_3_or_more', 'rental_property', 'fixer_upper']\": 5, \"['front_porch', 'big_lot']\": 5, \"['forced_air', 'basement', 'fenced_yard', 'big_lot']\": 5, \"['hardwood_floors', 'basement', 'single_story', 'front_porch', 'big_lot', 'ensuite', 'new_roof']\": 5, \"['farm', 'ranch', 'shopping']\": 5, \"['central_air', 'fireplace', 'forced_air', 'hardwood_floors', 'basement', 'two_or_more_stories', 'front_porch', 'big_lot', 'new_roof']\": 5, \"['forced_air', 'hardwood_floors', 'basement', 'big_lot']\": 5, \"['outbuilding', 'big_lot']\": 5, \"['central_air', 'basement', 'garage_1_or_more', 'fenced_yard', 'front_porch', 'big_lot']\": 5, \"['big_lot', 'river_access']\": 5, \"['central_air', 'forced_air', 'two_or_more_stories', 'garage_1_or_more', 'front_porch']\": 5, \"['basement', 'garage_1_or_more', 'garage_2_or_more', 'dual_master_bedroom', 'master_bedroom', 'corner_lot', 'front_porch', 'library', 'big_lot']\": 5, \"['central_air', 'forced_air', 'basement', 'two_or_more_stories', 'garage_1_or_more', 'front_porch', 'big_lot', 'new_roof']\": 5, \"['carport', 'central_air', 'city_view', 'community_outdoor_space', 'recreation_facilities', 'single_story']\": 4, \"['central_air', 'central_heat', 'city_view', 'community_outdoor_space', 'cul_de_sac', 'dishwasher', 'fireplace', 'single_story', 'big_yard']\": 4, \"['carport', 'hardwood_floors', 'single_story', 'granite_kitchen']\": 4, \"['carport', 'hardwood_floors', 'single_story', 'rental_property']\": 4, \"['community_security_features', 'cul_de_sac', 'hill_or_mountain_view', 'view', 'floor_plan', 'gated_community', 'views', 'security']\": 4, \"['community_outdoor_space', 'community_security_features', 'hill_or_mountain_view', 'recreation_facilities', 'view', 'swimming_pool', 'two_or_more_stories', 'garage_1_or_more', 'garage_2_or_more', 'garage_3_or_more', 'ensuite', 'gated_community', 'private_courtyard', 'clubhouse', 'security', 'shopping']\": 4, \"['central_air', 'central_heat', 'community_security_features', 'corner_lot', 'disability_features', 'dishwasher', 'family_room', 'fireplace', 'pets_allowed', 'rv_or_boat_parking', 'spa_or_hot_tub', 'two_or_more_stories', 'garage_1_or_more', 'garage_2_or_more', 'swimming_pool', 'vaulted_ceiling', 'floor_plan', 'big_lot', 'river_access', 'shopping']\": 4, \"['central_air', 'central_heat', 'community_security_features', 'dishwasher', 'fireplace', 'hardwood_floors', 'pets_allowed', 'single_story', 'garage_1_or_more', 'garage_2_or_more', 'modern_kitchen', 'large_kitchen', 'shopping']\": 4, \"['central_air', 'central_heat', 'community_clubhouse', 'community_security_features', 'recreation_facilities', 'swimming_pool', 'fenced_yard', 'rental_property']\": 4, \"['central_air', 'community_outdoor_space', 'community_security_features', 'dining_room', 'dishwasher', 'fireplace', 'forced_air', 'pets_allowed', 'recreation_facilities', 'washer_dryer', 'community_swimming_pool', 'single_story', 'master_suite', 'ensuite']\": 4, \"['central_air', 'city_view', 'community_outdoor_space', 'community_security_features', 'den_or_office', 'dining_room', 'dishwasher', 'forced_air', 'hardwood_floors', 'laundry_room', 'pets_allowed', 'view', 'two_or_more_stories', 'garage_1_or_more', 'modern_kitchen', 'open_kitchen', 'ensuite', 'golf_course', 'shopping']\": 4, \"['community_outdoor_space', 'community_security_features', 'dishwasher', 'energy_efficient', 'recreation_facilities', 'basement', 'garage_1_or_more', 'updated_kitchen', 'shopping']\": 4, \"['central_air', 'central_heat', 'community_outdoor_space', 'energy_efficient', 'fireplace', 'laundry_room', 'river_view', 'view', 'water_view', 'basement', 'two_or_more_stories', 'efficient', 'new_roof']\": 4, \"['central_air', 'disability_features', 'forced_air', 'recreation_facilities', 'senior_community', 'community_swimming_pool', 'single_story', 'garage_1_or_more', 'garage_2_or_more', 'gourmet_kitchen', 'open_floor_plan', 'floor_plan', 'tennis_court', 'library', 'water_view', 'pond', 'tennis', 'groundscare', 'medicalcare', 'shopping']\": 4, \"['central_air', 'central_heat', 'community_outdoor_space', 'dining_room', 'recreation_facilities', 'two_or_more_stories', 'master_bedroom', 'shopping']\": 4, \"['central_air', 'central_heat', 'dishwasher', 'two_or_more_stories', 'rental_property', 'investment_opportunity']\": 4, \"['central_air', 'community_outdoor_space', 'fireplace', 'forced_air', 'hardwood_floors', 'basement', 'garage_1_or_more', 'garage_2_or_more', 'garage_3_or_more', 'two_or_more_stories', 'big_lot', 'new_roof', 'park']\": 4, \"['central_air', 'city_view', 'community_outdoor_space', 'corner_lot', 'dining_room', 'dishwasher', 'fireplace', 'forced_air', 'recreation_facilities', 'rv_or_boat_parking', 'view', 'single_story', 'garage_1_or_more', 'garage_2_or_more', 'garage_3_or_more', 'modern_kitchen', 'open_kitchen', 'master_suite', 'shopping']\": 4, \"['central_air', 'den_or_office', 'dishwasher', 'lake_view', 'recreation_facilities', 'view', 'basement', 'two_or_more_stories', 'garage_1_or_more', 'outbuilding', 'pond', 'new_roof']\": 4, \"['central_air', 'community_golf', 'community_spa_or_hot_tub', 'dining_room', 'fireplace', 'forced_air', 'golf_course_view', 'recreation_facilities', 'view', 'single_story', 'garage_1_or_more', 'garage_2_or_more', 'high_ceiling', 'cathedral_ceiling', 'master_bedroom', 'ensuite', 'farm', 'ranch', 'clubhouse', 'golf_course']\": 4, \"['central_air', 'city_view', 'dining_room', 'family_room', 'fireplace', 'forced_air', 'lake_view', 'view', 'water_view', 'basement', 'garage_1_or_more', 'waterfront', 'two_or_more_stories', 'pond', 'views', 'shopping']\": 4, \"['city_view', 'community_outdoor_space', 'dining_room', 'dishwasher', 'hardwood_floors', 'laundry_room', 'view', 'basement', 'single_story', 'garage_1_or_more', 'garage_2_or_more', 'storm_shelter', 'front_porch', 'ensuite']\": 4, \"['carport', 'city_view', 'view', 'single_story', 'corner_lot', 'maintenance']\": 4, \"['carport', 'single_story', 'garage_1_or_more']\": 4, \"['community_outdoor_space', 'corner_lot', 'dining_room', 'dishwasher', 'hardwood_floors', 'recreation_facilities', 'basement', 'two_or_more_stories', 'new_roof', 'fixer_upper']\": 4, \"['community_outdoor_space', 'dining_room', 'dishwasher', 'hardwood_floors', 'recreation_facilities', 'basement', 'two_or_more_stories', 'high_ceiling', 'investment_opportunity', 'shopping']\": 4, \"['central_air', 'central_heat', 'dining_room', 'dishwasher', 'hardwood_floors', 'recreation_facilities', 'washer_dryer', 'two_or_more_stories', 'private_bathroom']\": 4, \"['central_air', 'recreation_facilities', 'community_swimming_pool', 'single_story']\": 4, \"['central_air', 'basement', 'single_story', 'shopping']\": 4, \"['central_air', 'dishwasher', 'fireplace', 'forced_air', 'washer_dryer', 'basement', 'two_or_more_stories', 'garage_1_or_more', 'garage_2_or_more', 'updated_kitchen']\": 4, \"['carport', 'central_air', 'fireplace', 'forced_air', 'washer_dryer', 'basement', 'single_story', 'garage_1_or_more', 'garage_2_or_more', 'floor_plan']\": 4, \"['central_air', 'community_outdoor_space', 'dishwasher', 'family_room', 'fireplace', 'basement', 'two_or_more_stories', 'garage_1_or_more', 'garage_2_or_more', 'fenced_yard']\": 4, \"['community_outdoor_space', 'dishwasher', 'fireplace', 'forced_air', 'hill_or_mountain_view', 'laundry_room', 'recreation_facilities', 'view', 'basement', 'single_story', 'garage_1_or_more', 'garage_2_or_more', 'big_lot', 'mountain_view', 'trails', 'views']\": 4, \"['central_air', 'dishwasher', 'forced_air', 'washer_dryer', 'basement', 'fenced_yard', 'fruit_trees']\": 4, \"['central_air', 'community_outdoor_space', 'dishwasher', 'laundry_room', 'washer_dryer', 'single_story', 'private_backyard', 'front_porch', 'farm', 'ranch']\": 4, \"['central_air', 'city_view', 'community_clubhouse', 'community_outdoor_space', 'dishwasher', 'family_room', 'fireplace', 'forced_air', 'laundry_room', 'recreation_facilities', 'view', 'community_swimming_pool', 'swimming_pool', 'single_story', 'garage_1_or_more', 'garage_2_or_more', 'fenced_yard', 'open_floor_plan', 'floor_plan', 'ensuite', 'new_roof', 'clubhouse', 'maintenance', 'shopping']\": 4, \"['central_air', 'city_view', 'community_outdoor_space', 'dishwasher', 'fireplace', 'forced_air', 'hardwood_floors', 'view', 'washer_dryer', 'basement', 'two_or_more_stories']\": 4, \"['central_air', 'community_outdoor_space', 'cul_de_sac', 'dining_room', 'dishwasher', 'forced_air', 'basement', 'two_or_more_stories', 'garage_1_or_more', 'garage_2_or_more', 'floor_plan']\": 4, \"['basement', 'two_or_more_stories', 'granite_kitchen', 'updated_kitchen', 'shopping']\": 4, \"['dishwasher', 'fireplace', 'washer_dryer', 'single_story', 'open_floor_plan', 'floor_plan', 'ensuite', 'investment_opportunity', 'trails', 'shopping']\": 4, \"['central_air', 'community_security_features', 'dishwasher', 'forced_air', 'recreation_facilities', 'community_swimming_pool', 'single_story', 'master_bedroom', 'maintenance']\": 4, \"['community_outdoor_space', 'cul_de_sac', 'den_or_office', 'energy_efficient', 'family_room', 'fireplace', 'forced_air', 'hardwood_floors', 'hill_or_mountain_view', 'laundry_room', 'view', 'washer_dryer', 'two_or_more_stories', 'garage_1_or_more', 'garage_2_or_more', 'garage_3_or_more', 'high_ceiling', 'trails']\": 4, \"['family_room', 'fireplace', 'forced_air', 'hardwood_floors', 'hill_or_mountain_view', 'laundry_room', 'view', 'single_story', 'investment_opportunity', 'new_roof']\": 4, \"['central_air', 'community_outdoor_space', 'fireplace', 'forced_air', 'hardwood_floors', 'laundry_room', 'basement', 'garage_1_or_more', 'park', 'shopping']\": 4, \"['community_outdoor_space', 'basement', 'rental_property']\": 4, \"['central_air', 'central_heat', 'fireplace', 'single_story', 'garage_1_or_more', 'rental_property']\": 4, \"['central_air', 'central_heat', 'laundry_room', 'recreation_facilities', 'river_view', 'water_view', 'single_story', 'big_lot']\": 4, \"['central_air', 'community_outdoor_space', 'dishwasher', 'forced_air', 'basement', 'single_story', 'rental_property', 'shopping']\": 4, \"['central_air', 'community_outdoor_space', 'dining_room', 'dishwasher', 'single_story', 'garage_1_or_more', 'garage_2_or_more', 'beautiful_backyard', 'ensuite', 'groundscare', 'medicalcare', 'shopping']\": 4, \"['central_air', 'dining_room', 'disability_features', 'dishwasher', 'forced_air', 'basement', 'two_or_more_stories', 'garage_1_or_more', 'master_bedroom', 'ensuite', 'maintenance']\": 4, \"['central_air', 'dining_room', 'forced_air', 'spa_or_hot_tub', 'basement', 'two_or_more_stories', 'garage_1_or_more', 'garage_2_or_more', 'private_backyard', 'vaulted_ceiling', 'farm', 'shopping']\": 4, \"['community_security_features', 'corner_lot', 'fireplace', 'basement', 'two_or_more_stories', 'garage_1_or_more', 'garage_2_or_more', 'high_ceiling', 'library', 'big_lot', 'ensuite']\": 4, \"['forced_air', 'basement', 'two_or_more_stories', 'garage_1_or_more', 'marina', 'medicalcare', 'shopping']\": 4, \"['central_air', 'dishwasher', 'forced_air', 'laundry_room', 'single_story']\": 4, \"['central_air', 'central_heat', 'community_outdoor_space', 'cul_de_sac', 'dishwasher', 'fireplace', 'laundry_room', 'river_view', 'view', 'washer_dryer', 'water_view', 'single_story', 'garage_1_or_more', 'vaulted_ceiling', 'open_floor_plan', 'floor_plan']\": 4, \"['central_air', 'central_heat', 'fireplace', 'single_story', 'garage_1_or_more', 'garage_2_or_more', 'cathedral_ceiling', 'open_floor_plan', 'floor_plan']\": 4, \"['central_air', 'central_heat', 'community_security_features', 'dishwasher', 'family_room', 'laundry_room', 'washer_dryer', 'single_story', 'garage_1_or_more', 'garage_2_or_more', 'open_floor_plan', 'floor_plan', 'investment_opportunity', 'lake']\": 4, \"['central_air', 'den_or_office', 'fireplace', 'laundry_room', 'recreation_facilities', 'spa_or_hot_tub', 'washer_dryer', 'basement', 'two_or_more_stories', 'garage_1_or_more', 'garage_2_or_more', 'fenced_yard', 'rv_parking', 'lake']\": 4, \"['central_air', 'community_outdoor_space', 'laundry_room', 'pets_allowed', 'recreation_facilities', 'washer_dryer', 'basement', 'two_or_more_stories', 'garage_1_or_more', 'garage_2_or_more', 'playground']\": 4, \"['community_outdoor_space', 'community_security_features', 'hardwood_floors', 'laundry_room', 'washer_dryer', 'single_story', 'big_lot', 'farm', 'ranch']\": 4, \"['community_outdoor_space', 'dining_room', 'hardwood_floors', 'single_story', 'fenced_yard', 'rental_property', 'farm', 'ranch', 'fixer_upper']\": 4, \"['central_air', 'community_security_features', 'dining_room', 'dishwasher', 'family_room', 'fireplace', 'hardwood_floors', 'recreation_facilities', 'rv_or_boat_parking', 'spa_or_hot_tub', 'view', 'two_or_more_stories', 'garage_1_or_more', 'garage_2_or_more', 'garage_3_or_more', 'jack_and_jill_bathroom', 'no_hoa', 'big_lot', 'ensuite', 'new_roof']\": 4, \"['community_park', 'community_security_features', 'recreation_facilities', 'view', 'private_backyard', 'rental_property', 'park', 'shopping', 'fixer_upper']\": 4, \"['central_air', 'community_outdoor_space', 'corner_lot', 'dining_room', 'disability_features', 'dishwasher', 'forced_air', 'hardwood_floors', 'washer_dryer', 'basement', 'two_or_more_stories', 'garage_1_or_more', 'garage_2_or_more', 'open_floor_plan', 'floor_plan', 'front_porch', 'ensuite', 'park', 'golf_course', 'soccer', 'trails', 'views', 'shopping']\": 4, \"['central_air', 'community_elevator', 'community_gym', 'community_outdoor_space', 'community_security_features', 'dining_room', 'disability_features', 'dishwasher', 'fireplace', 'hardwood_floors', 'recreation_facilities', 'view', 'washer_dryer', 'two_or_more_stories', 'granite_kitchen']\": 4, \"['wooded_land', 'big_lot', 'new_roof']\": 4, \"['central_air', 'garage_1_or_more', 'basement', 'single_story', 'high_ceiling', 'wrap_around_porch', 'library', 'ensuite']\": 4, \"['carport', 'central_air', 'central_heat', 'dishwasher', 'laundry_room', 'single_story']\": 3, \"['carport', 'city_view', 'community_outdoor_space', 'hardwood_floors', 'single_story']\": 3, \"['community_outdoor_space', 'community_security_features', 'cul_de_sac', 'fireplace', 'single_story', 'garage_1_or_more', 'garage_2_or_more', 'modern_kitchen', 'open_kitchen', 'big_yard', 'big_lot', 'pond', 'shopping']\": 3, \"['single_story', 'garage_1_or_more', 'garage_2_or_more', 'investment_opportunity']\": 3, \"['community_clubhouse', 'community_outdoor_space', 'community_security_features', 'community_tennis_court', 'family_room', 'fireplace', 'hardwood_floors', 'hill_or_mountain_view', 'recreation_facilities', 'view', 'community_swimming_pool', 'swimming_pool', 'two_or_more_stories', 'garage_1_or_more', 'garage_2_or_more', 'garage_3_or_more', 'waterfront', 'modern_kitchen', 'outdoor_kitchen', 'smart_homes', 'groundscare']\": 3, \"['central_air', 'community_outdoor_space', 'dishwasher', 'fireplace', 'forced_air', 'hardwood_floors', 'laundry_room', 'single_story', 'garage_1_or_more']\": 3, \"['central_air', 'central_heat', 'community_clubhouse', 'community_gym', 'community_park', 'community_security_features', 'community_tennis_court', 'dishwasher', 'fireplace', 'hardwood_floors', 'pets_allowed', 'recreation_facilities', 'spa_or_hot_tub', 'tennis_court', 'single_story', 'garage_1_or_more', 'garage_2_or_more', 'modern_kitchen', 'open_kitchen', 'jack_and_jill_bathroom', 'greenbelt', 'views']\": 3, \"['central_air', 'central_heat', 'community_security_features', 'fireplace', 'hardwood_floors', 'rv_or_boat_parking', 'two_or_more_stories', 'garage_1_or_more', 'garage_2_or_more', 'big_yard']\": 3, \"['city_view', 'community_outdoor_space', 'community_security_features', 'dining_room', 'dishwasher', 'forced_air', 'laundry_room', 'view', 'washer_dryer', 'single_story', 'garage_1_or_more', 'big_yard', 'farm', 'ranch', 'new_roof', 'clubhouse', 'trails']\": 3, \"['central_air', 'den_or_office', 'dishwasher', 'family_room', 'forced_air', 'two_or_more_stories', 'garage_1_or_more', 'garage_2_or_more', 'fenced_yard']\": 3, \"['central_air', 'city_view', 'community_outdoor_space', 'disability_features', 'dishwasher', 'energy_efficient', 'fireplace', 'laundry_room', 'pets_allowed', 'view', 'washer_dryer', 'basement', 'two_or_more_stories', 'garage_1_or_more', 'high_ceiling', 'master_bedroom', 'exposed_brick', 'hoa', 'medicalcare']\": 3, \"['laundry_room', 'washer_dryer', 'basement', 'garage_1_or_more', 'exposed_brick']\": 3, \"['central_air', 'forced_air', 'two_or_more_stories', 'updated_kitchen', 'master_bedroom', 'first_floor_master_bedroom']\": 3, \"['central_air', 'dishwasher', 'forced_air', 'basement', 'two_or_more_stories', 'garage_1_or_more', 'garage_2_or_more', 'private_backyard', 'private_bathroom', 'master_bedroom', 'shopping']\": 3, \"['central_air', 'central_heat', 'dining_room', 'dishwasher', 'fireplace', 'single_story', 'shopping']\": 3, \"['central_air', 'central_heat', 'dining_room', 'dishwasher', 'two_or_more_stories', 'rental_property']\": 3, \"['central_air', 'city_view', 'community_outdoor_space', 'community_security_features', 'dishwasher', 'forced_air', 'hardwood_floors', 'laundry_room', 'recreation_facilities', 'view', 'community_swimming_pool', 'two_or_more_stories', 'garage_1_or_more', 'gated_community', 'security', 'shopping']\": 3, \"['central_air', 'community_outdoor_space', 'community_security_features', 'den_or_office', 'energy_efficient', 'family_room', 'fireplace', 'forced_air', 'hardwood_floors', 'laundry_room', 'recreation_facilities', 'washer_dryer', 'two_or_more_stories', 'modern_kitchen', 'white_kitchen', 'private_bathroom', 'ensuite']\": 3, \"['central_air', 'central_heat', 'community_outdoor_space', 'community_security_features', 'dishwasher', 'laundry_room', 'senior_community', 'single_story', 'updated_kitchen', 'media_room', 'rental_property', 'library', 'elevator', 'hoa']\": 3, \"['central_air', 'central_heat', 'community_outdoor_space', 'dishwasher', 'family_room', 'fireplace', 'hardwood_floors', 'laundry_room', 'recreation_facilities', 'basement', 'two_or_more_stories', 'rental_property']\": 3, \"['central_air', 'fireplace', 'forced_air', 'basement', 'shopping']\": 3, \"['central_air', 'family_room', 'fireplace', 'forced_air', 'hardwood_floors', 'recreation_facilities', 'rv_or_boat_parking', 'single_story', 'garage_1_or_more', 'garage_2_or_more', 'no_hoa', 'rv_parking', 'big_lot', 'farm', 'ranch']\": 3, \"['dishwasher', 'single_story', 'garage_1_or_more', 'garage_2_or_more', 'updated_kitchen', 'efficient', 'new_roof', 'park']\": 3, \"['central_air', 'two_or_more_stories', 'garage_1_or_more', 'garage_2_or_more', 'community_swimming_pool', 'master_bedroom', 'tennis_court', 'playground', 'tennis', 'maintenance', 'shopping']\": 3, \"['city_view', 'community_spa_or_hot_tub', 'community_tennis_court', 'fireplace', 'recreation_facilities', 'tennis_court', 'view', 'two_or_more_stories', 'garage_1_or_more', 'garage_2_or_more', 'community_swimming_pool', 'efficient', 'tennis']\": 3, \"['central_air', 'community_outdoor_space', 'dining_room', 'fireplace', 'forced_air', 'hardwood_floors', 'laundry_room', 'washer_dryer', 'garage_1_or_more', 'farm', 'ranch']\": 3, \"['city_view', 'hardwood_floors', 'view', 'two_or_more_stories', 'rental_property']\": 3, \"['city_view', 'community_outdoor_space', 'community_security_features', 'dining_room', 'dishwasher', 'fireplace', 'hardwood_floors', 'laundry_room', 'view', 'swimming_pool', 'basement', 'two_or_more_stories', 'garage_1_or_more', 'fenced_yard', 'front_porch']\": 3, \"['carport', 'central_air', 'central_heat', 'fireplace', 'single_story', 'garage_1_or_more', 'rental_property']\": 3, \"['central_air', 'central_heat', 'dishwasher', 'energy_efficient', 'lake_view', 'view', 'water_view', 'single_story', 'garage_1_or_more', 'garage_2_or_more', 'waterfront', 'high_ceiling', 'views', 'lake']\": 3, \"['city_view', 'community_boat_facilities', 'community_outdoor_space', 'hardwood_floors', 'laundry_room', 'recreation_facilities', 'view', 'washer_dryer', 'basement', 'two_or_more_stories', 'private_backyard', 'rental_property']\": 3, \"['central_air', 'central_heat', 'community_outdoor_space', 'community_tennis_court', 'den_or_office', 'dining_room', 'dishwasher', 'forced_air', 'hardwood_floors', 'lake_view', 'laundry_room', 'recreation_facilities', 'view', 'washer_dryer', 'community_swimming_pool', 'basement', 'two_or_more_stories', 'garage_1_or_more', 'rental_property']\": 3, \"['central_air', 'disability_features', 'forced_air', 'recreation_facilities', 'senior_community', 'community_swimming_pool', 'single_story', 'garage_1_or_more']\": 3, \"['central_air', 'disability_features', 'dishwasher', 'fireplace', 'forced_air', 'washer_dryer', 'basement', 'two_or_more_stories', 'investment_opportunity', 'park', 'golf_course', 'shopping']\": 3, \"['community_outdoor_space', 'dining_room', 'dishwasher', 'forced_air', 'laundry_room', 'washer_dryer', 'garage_1_or_more', 'big_bathroom']\": 3, \"['city_view', 'community_outdoor_space', 'forced_air', 'washer_dryer', 'basement', 'two_or_more_stories', 'modern_kitchen', 'large_kitchen', 'front_porch']\": 3, \"['central_air', 'community_outdoor_space', 'community_security_features', 'dishwasher', 'forced_air', 'washer_dryer', 'basement', 'two_or_more_stories', 'garage_1_or_more', 'cathedral_ceiling', 'views']\": 3, \"['central_air', 'corner_lot', 'dishwasher', 'fireplace', 'forced_air', 'washer_dryer', 'basement', 'two_or_more_stories', 'garage_1_or_more', 'garage_2_or_more', 'front_porch']\": 3, \"['central_air', 'community_outdoor_space', 'forced_air', 'basement', 'two_or_more_stories', 'garage_1_or_more', 'garage_2_or_more', 'new_roof', 'park', 'trails', 'shopping']\": 3, \"['central_air', 'community_outdoor_space', 'dishwasher', 'fireplace', 'forced_air', 'two_or_more_stories', 'garage_1_or_more', 'community_swimming_pool']\": 3, \"['central_air', 'community_outdoor_space', 'dishwasher', 'fireplace', 'forced_air', 'hill_or_mountain_view', 'laundry_room', 'recreation_facilities', 'view', 'washer_dryer', 'basement', 'single_story', 'garage_1_or_more', 'garage_2_or_more', 'fenced_yard', 'big_lot', 'trails']\": 3, \"['central_air', 'community_outdoor_space', 'dishwasher', 'forced_air', 'hill_or_mountain_view', 'laundry_room', 'view', 'washer_dryer', 'basement', 'two_or_more_stories', 'garage_1_or_more', 'garage_2_or_more', 'groundscare']\": 3, \"['central_air', 'city_view', 'community_outdoor_space', 'family_room', 'fireplace', 'forced_air', 'laundry_room', 'view', 'single_story', 'garage_1_or_more', 'modern_kitchen', 'kitchen_island', 'large_kitchen', 'cathedral_ceiling', 'farm', 'ranch', 'shopping']\": 3, \"['central_air', 'city_view', 'community_outdoor_space', 'dishwasher', 'fireplace', 'forced_air', 'hardwood_floors', 'laundry_room', 'recreation_facilities', 'view', 'community_swimming_pool', 'two_or_more_stories']\": 3, \"['central_air', 'city_view', 'dining_room', 'fireplace', 'forced_air', 'hardwood_floors', 'laundry_room', 'view', 'two_or_more_stories', 'garage_1_or_more', 'rental_property', 'investment_opportunity', 'fixer_upper']\": 3, \"['central_air', 'community_outdoor_space', 'dining_room', 'dishwasher', 'family_room', 'fireplace', 'forced_air', 'washer_dryer', 'swimming_pool', 'basement', 'two_or_more_stories', 'garage_1_or_more', 'garage_2_or_more', 'garage_3_or_more', 'fenced_yard', 'new_roof']\": 3, \"['dishwasher', 'recreation_facilities', 'washer_dryer', 'basement', 'garage_1_or_more', 'two_or_more_stories', 'big_lot']\": 3, \"['forced_air', 'basement', 'two_or_more_stories', 'fixer_upper']\": 3, \"['forced_air', 'washer_dryer', 'basement', 'two_or_more_stories', 'front_porch', 'shopping']\": 3, \"['carport', 'community_security_features', 'dishwasher', 'hardwood_floors', 'washer_dryer', 'single_story', 'floor_plan', 'rental_property']\": 3, \"['community_security_features', 'dishwasher', 'fireplace', 'recreation_facilities', 'washer_dryer', 'two_or_more_stories', 'garage_1_or_more', 'garage_2_or_more', 'garage_3_or_more']\": 3, \"['community_outdoor_space', 'den_or_office', 'energy_efficient', 'laundry_room', 'single_story', 'garage_1_or_more', 'garage_2_or_more', 'updated_kitchen', 'floor_plan']\": 3, \"['carport', 'community_outdoor_space', 'energy_efficient', 'hill_or_mountain_view', 'laundry_room', 'view', 'two_or_more_stories', 'rental_property', 'mountain_view', 'greenbelt', 'views', 'maintenance', 'shopping']\": 3, \"['central_air', 'den_or_office', 'dining_room', 'forced_air', 'hardwood_floors', 'laundry_room', 'washer_dryer', 'garage_1_or_more']\": 3, \"['hardwood_floors', 'laundry_room', 'basement', 'rental_property', 'private_courtyard']\": 3, \"['central_air', 'central_heat', 'community_outdoor_space', 'community_security_features', 'corner_lot', 'laundry_room', 'single_story', 'garage_1_or_more', 'garage_2_or_more', 'granite_kitchen', 'basketball_court', 'high_ceiling', 'vaulted_ceiling', 'storm_shelter', 'open_floor_plan', 'floor_plan', 'big_lot', 'ensuite', 'gated_community', 'smart_homes', 'playground', 'basketball', 'groundscare', 'shopping']\": 3, \"['central_air', 'central_heat', 'single_story', 'garage_1_or_more', 'granite_kitchen', 'big_yard', 'rental_property']\": 3, \"['community_outdoor_space', 'family_room', 'fireplace', 'forced_air', 'hardwood_floors', 'garage_1_or_more', 'garage_2_or_more', 'single_story', 'private_backyard', 'shopping']\": 3, \"['dining_room', 'dishwasher', 'fireplace', 'two_or_more_stories', 'garage_1_or_more', 'garage_2_or_more', 'updated_kitchen', 'big_lot']\": 3, \"['carport', 'central_air', 'dishwasher', 'fireplace', 'forced_air', 'washer_dryer', 'basement', 'single_story', 'corner_lot', 'big_lot', 'farm', 'ranch']\": 3, \"['basement', 'two_or_more_stories', 'fenced_yard', 'front_porch']\": 3, \"['fireplace', 'basement', 'two_or_more_stories', 'garage_1_or_more', 'garage_2_or_more', 'garage_3_or_more', 'clubhouse', 'shopping']\": 3, \"['central_heat', 'basement', 'two_or_more_stories', 'garage_1_or_more', 'private_backyard', 'park', 'lake']\": 3, \"['central_air', 'central_heat', 'community_outdoor_space', 'cul_de_sac', 'dishwasher', 'family_room', 'fireplace', 'hardwood_floors', 'laundry_room', 'two_or_more_stories', 'garage_1_or_more', 'master_bedroom', 'ensuite', 'lake']\": 3, \"['central_air', 'community_outdoor_space', 'dishwasher', 'fireplace', 'laundry_room', 'two_or_more_stories', 'garage_1_or_more', 'garage_2_or_more']\": 3, \"['carport', 'central_air', 'central_heat', 'community_outdoor_space', 'fireplace', 'basement', 'two_or_more_stories', 'garage_1_or_more', 'garage_2_or_more', 'master_bathroom', 'lake']\": 3, \"['central_heat', 'community_outdoor_space', 'laundry_room', 'washer_dryer', 'garage_1_or_more', 'garage_2_or_more', 'park', 'shopping']\": 3, \"['central_air', 'community_clubhouse', 'community_outdoor_space', 'community_security_features', 'dining_room', 'dishwasher', 'laundry_room', 'recreation_facilities', 'river_view', 'washer_dryer', 'water_view', 'community_swimming_pool', 'two_or_more_stories', 'garage_1_or_more', 'updated_kitchen', 'new_roof', 'shopping']\": 3, \"['community_outdoor_space', 'dining_room', 'dishwasher', 'fireplace', 'hardwood_floors', 'washer_dryer', 'single_story', 'waterfront', 'updated_kitchen', 'fenced_yard', 'front_porch']\": 3, \"['view', 'rental_property', 'big_lot']\": 3, \"['community_security_features', 'dishwasher', 'family_room', 'fireplace', 'forced_air', 'hardwood_floors', 'washer_dryer', 'two_or_more_stories', 'garage_1_or_more', 'garage_2_or_more', 'kitchen_island', 'open_floor_plan', 'floor_plan']\": 3, \"['central_air', 'community_outdoor_space', 'family_room', 'fireplace', 'forced_air', 'game_room', 'hardwood_floors', 'washer_dryer', 'basement', 'two_or_more_stories', 'garage_1_or_more', 'garage_2_or_more', 'kitchen_island', 'fenced_yard', 'vaulted_ceiling']\": 3, \"['central_air', 'community_outdoor_space', 'cul_de_sac', 'dining_room', 'dishwasher', 'fireplace', 'forced_air', 'hardwood_floors', 'washer_dryer', 'basement', 'two_or_more_stories', 'garage_1_or_more', 'garage_2_or_more', 'trails']\": 3, \"['fenced_yard', 'front_porch', 'rental_property', 'big_lot']\": 3, \"['city_view', 'hardwood_floors', 'two_or_more_stories', 'garage_1_or_more']\": 2, \"['central_air', 'central_heat', 'city_view', 'community_outdoor_space', 'community_security_features', 'cul_de_sac', 'dishwasher', 'energy_efficient', 'fireplace', 'laundry_room', 'recreation_facilities', 'single_story', 'modern_kitchen', 'open_kitchen', 'master_bedroom', 'open_floor_plan', 'floor_plan']\": 2, \"['fireplace', 'single_story', 'garage_1_or_more', 'swimming_pool', 'floor_plan']\": 2, \"['community_outdoor_space', 'community_security_features', 'single_story', 'garage_1_or_more', 'fenced_yard', 'master_bathroom', 'master_bedroom']\": 2, \"['cul_de_sac', 'medicalcare']\": 2, \"['corner_lot', 'single_story', 'private_bathroom', 'front_porch', 'mountain_view', 'views']\": 2, \"['carport', 'community_outdoor_space', 'community_security_features', 'corner_lot', 'single_story', 'updated_kitchen', 'no_hoa']\": 2, \"['central_air', 'central_heat', 'community_security_features', 'corner_lot', 'dishwasher', 'recreation_facilities', 'two_or_more_stories', 'garage_1_or_more', 'open_floor_plan', 'floor_plan']\": 2, \"['dining_room', 'dishwasher', 'family_room', 'forced_air', 'hardwood_floors', 'laundry_room', 'washer_dryer', 'basement']\": 2, \"['community_outdoor_space', 'community_security_features', 'dining_room', 'dishwasher', 'fireplace', 'hardwood_floors', 'hill_or_mountain_view', 'laundry_room', 'view', 'two_or_more_stories', 'garage_1_or_more', 'garage_2_or_more', 'big_yard', 'views', 'shopping']\": 2, \"['community_park', 'energy_efficient', 'laundry_room', 'recreation_facilities', 'washer_dryer', 'basement', 'two_or_more_stories', 'big_yard']\": 2, \"['community_outdoor_space', 'fireplace', 'laundry_room', 'recreation_facilities', 'washer_dryer', 'basement', 'high_ceiling', 'floor_plan', 'shopping']\": 2, \"['central_air', 'two_or_more_stories', 'new_roof']\": 2, \"['central_air', 'dishwasher', 'forced_air', 'recreation_facilities', 'senior_community', 'washer_dryer', 'community_swimming_pool', 'two_or_more_stories', 'garage_1_or_more', 'updated_kitchen', 'fenced_yard', 'high_ceiling', 'library', 'ensuite', 'clubhouse', 'shopping']\": 2, \"['central_air', 'community_outdoor_space', 'dining_room', 'dishwasher', 'fireplace', 'hardwood_floors', 'single_story', 'garage_1_or_more', 'garage_2_or_more', 'modern_kitchen', 'open_kitchen', 'floor_plan', 'new_roof']\": 2, \"['central_air', 'central_heat', 'community_outdoor_space', 'community_security_features', 'dining_room', 'dishwasher', 'fireplace', 'hardwood_floors', 'single_story', 'garage_1_or_more', 'garage_2_or_more', 'modern_kitchen', 'kitchen_island', 'large_kitchen', 'high_ceiling', 'open_floor_plan', 'floor_plan', 'solar_system', 'big_lot', 'gated_community', 'solar_panels', 'security']\": 2, \"['central_air', 'community_outdoor_space', 'community_security_features', 'dishwasher', 'energy_efficient', 'family_room', 'fireplace', 'hardwood_floors', 'laundry_room', 'recreation_facilities', 'two_or_more_stories', 'big_lot']\": 2, \"['central_air', 'community_outdoor_space', 'community_security_features', 'dishwasher', 'forced_air', 'hardwood_floors', 'laundry_room', 'recreation_facilities', 'tennis_court', 'single_story', 'community_swimming_pool', 'playground', 'tennis', 'trails', 'hoa', 'shopping']\": 2, \"['community_security_features', 'forced_air', 'laundry_room', 'two_or_more_stories']\": 2, \"['community_outdoor_space', 'forced_air', 'washer_dryer', 'basement', 'garage_1_or_more', 'garage_2_or_more', 'single_story', 'farm', 'ranch']\": 2, \"['lake_view', 'river_view', 'view', 'water_view']\": 2, \"['carport', 'central_air', 'city_view', 'community_outdoor_space', 'dishwasher', 'recreation_facilities', 'view', 'washer_dryer', 'community_swimming_pool', 'single_story', 'fenced_yard', 'floor_plan']\": 2, \"['central_air', 'community_spa_or_hot_tub', 'fireplace', 'hardwood_floors', 'recreation_facilities', 'basement', 'single_story', 'garage_1_or_more', 'garage_2_or_more', 'shopping', 'fixer_upper']\": 2, \"['central_air', 'community_security_features', 'den_or_office', 'dining_room', 'fireplace', 'forced_air', 'horse_facilities', 'single_story', 'garage_1_or_more', 'garage_2_or_more', 'outbuilding', 'big_lot', 'farm', 'ranch']\": 2, \"['city_view', 'community_outdoor_space', 'dishwasher', 'family_room', 'fireplace', 'laundry_room', 'view', 'two_or_more_stories', 'garage_1_or_more', 'garage_2_or_more', 'corner_lot']\": 2, \"['community_outdoor_space', 'disability_features', 'dishwasher', 'fireplace', 'hardwood_floors', 'horse_facilities', 'lake_view', 'laundry_room', 'ocean_view', 'river_view', 'view', 'water_view', 'basement', 'single_story', 'waterfront', 'big_lot', 'farm', 'ranch', 'river_access', 'trails', 'views', 'lake']\": 2, \"['carport', 'single_story', 'garage_1_or_more', 'rental_property', 'fixer_upper']\": 2, \"['central_air', 'central_heat', 'community_outdoor_space', 'community_security_features', 'disability_features', 'dishwasher', 'energy_efficient', 'fireplace', 'lake_view', 'view', 'water_view', 'single_story', 'garage_1_or_more', 'garage_2_or_more', 'modern_kitchen', 'open_kitchen', 'big_yard', 'high_ceiling', 'master_bedroom', 'ensuite']\": 2, \"['community_outdoor_space', 'dishwasher', 'fireplace', 'laundry_room', 'pets_allowed', 'recreation_facilities', 'washer_dryer', 'basement', 'two_or_more_stories', 'granite_kitchen', 'high_ceiling']\": 2, \"['community_outdoor_space', 'hardwood_floors', 'basement', 'two_or_more_stories', 'rental_property']\": 2, \"['dishwasher', 'family_room', 'washer_dryer', 'basement', 'exposed_brick', 'rental_property', 'investment_opportunity', 'shopping', 'fixer_upper']\": 2, \"['central_air', 'dishwasher', 'fireplace', 'hardwood_floors', 'view', 'washer_dryer', 'water_view', 'basement', 'two_or_more_stories', 'garage_1_or_more', 'high_ceiling', 'front_porch', 'views']\": 2, \"['city_view', 'community_outdoor_space', 'fireplace', 'forced_air', 'hardwood_floors', 'washer_dryer', 'basement', 'two_or_more_stories', 'garage_1_or_more', 'fenced_yard', 'new_roof', 'medicalcare', 'shopping']\": 2, \"['community_outdoor_space', 'forced_air', 'basement', 'single_story', 'garage_1_or_more', 'modern_kitchen', 'large_kitchen', 'fenced_yard', 'farm', 'ranch']\": 2, \"['community_outdoor_space', 'forced_air', 'washer_dryer', 'basement', 'two_or_more_stories', 'garage_1_or_more', 'big_yard', 'ensuite', 'shopping']\": 2, \"['central_air', 'community_outdoor_space', 'community_security_features', 'dishwasher', 'fireplace', 'forced_air', 'hardwood_floors', 'washer_dryer', 'basement', 'two_or_more_stories', 'garage_1_or_more', 'beautiful_backyard']\": 2, \"['central_air', 'dishwasher', 'forced_air', 'hardwood_floors', 'washer_dryer', 'basement', 'single_story', 'garage_1_or_more', 'fenced_yard']\": 2, \"['central_air', 'forced_air', 'basement', 'single_story', 'garage_1_or_more', 'modern_kitchen', 'big_yard', 'farm', 'ranch']\": 2, \"['community_boat_facilities', 'community_outdoor_space', 'dishwasher', 'lake_view', 'laundry_room', 'recreation_facilities', 'spa_or_hot_tub', 'view', 'washer_dryer', 'water_view', 'basement', 'two_or_more_stories', 'garage_1_or_more', 'garage_2_or_more', 'waterfront', 'outbuilding', 'lake']\": 2, \"['community_outdoor_space', 'dishwasher', 'forced_air', 'hill_or_mountain_view', 'recreation_facilities', 'view', 'basement', 'two_or_more_stories', 'garage_1_or_more', 'garage_2_or_more']\": 2, \"['central_air', 'city_view', 'fireplace', 'recreation_facilities', 'view', 'community_swimming_pool', 'single_story', 'garage_1_or_more', 'master_bedroom', 'wooded_land', 'ensuite']\": 2, \"['central_air', 'community_outdoor_space', 'den_or_office', 'dining_room', 'dishwasher', 'family_room', 'fireplace', 'forced_air', 'hardwood_floors', 'washer_dryer', 'basement', 'two_or_more_stories', 'garage_1_or_more', 'fenced_yard']\": 2, \"['corner_lot', 'dining_room', 'dishwasher', 'forced_air', 'laundry_room', 'granite_kitchen', 'updated_kitchen', 'modern_kitchen', 'open_kitchen', 'rental_property', 'new_roof']\": 2, \"['basement', 'two_or_more_stories', 'front_porch']\": 2, \"['basement', 'two_or_more_stories', 'investment_opportunity']\": 2, \"['central_air', 'dishwasher', 'forced_air', 'washer_dryer', 'single_story', 'garage_1_or_more', 'garage_2_or_more', 'groundscare']\": 2, \"['central_air', 'forced_air', 'single_story', 'garage_1_or_more', 'garage_2_or_more', 'updated_kitchen']\": 2, \"['family_room', 'forced_air', 'hill_or_mountain_view', 'laundry_room', 'view', 'single_story', 'garage_1_or_more', 'garage_2_or_more']\": 2, \"['cul_de_sac', 'hill_or_mountain_view', 'lake_view', 'view', 'water_view', 'big_lot', 'lake']\": 2, \"['central_air', 'community_outdoor_space', 'dining_room', 'dishwasher', 'forced_air', 'laundry_room', 'basement', 'updated_kitchen', 'big_lot', 'new_roof', 'shopping']\": 2, \"['central_air', 'community_outdoor_space', 'dining_room', 'dishwasher', 'family_room', 'forced_air', 'hardwood_floors', 'laundry_room', 'basement', 'garage_1_or_more', 'two_or_more_stories', 'solar_system', 'efficient', 'solar_panels', 'medicalcare']\": 2, \"['central_air', 'central_heat', 'community_outdoor_space', 'community_security_features', 'dishwasher', 'energy_efficient', 'fireplace', 'hardwood_floors', 'laundry_room', 'single_story', 'garage_1_or_more', 'garage_2_or_more', 'garage_3_or_more', 'swimming_pool', 'high_ceiling', 'big_lot', 'clubhouse', 'maintenance', 'shopping']\": 2, \"['central_air', 'community_outdoor_space', 'corner_lot', 'dining_room', 'dishwasher', 'forced_air', 'laundry_room', 'single_story', 'fenced_yard', 'new_roof', 'shopping']\": 2, \"['community_outdoor_space', 'fireplace', 'forced_air', 'garage_1_or_more', 'garage_2_or_more', 'single_story', 'big_yard', 'corner_lot', 'new_roof']\": 2, \"['disability_features', 'basement', 'garage_1_or_more', 'garage_2_or_more', 'garage_3_or_more', 'fenced_yard', 'rental_property', 'lake']\": 2, \"['carport', 'central_air', 'disability_features', 'forced_air', 'basement', 'single_story', 'big_lot', 'farm', 'ranch', 'new_roof', 'groundscare']\": 2, \"['forced_air', 'swimming_pool', 'basement', 'single_story', 'garage_1_or_more', 'farm', 'ranch']\": 2, \"['central_air', 'community_outdoor_space', 'dishwasher', 'forced_air', 'laundry_room', 'recreation_facilities', 'two_or_more_stories', 'garage_1_or_more', 'open_floor_plan', 'floor_plan']\": 2, \"['central_air', 'central_heat', 'community_outdoor_space', 'corner_lot', 'dishwasher', 'family_room', 'laundry_room', 'recreation_facilities', 'private_bathroom', 'open_house', 'farm', 'ranch', 'medicalcare']\": 2, \"['central_air', 'central_heat', 'dishwasher', 'fireplace', 'laundry_room', 'two_or_more_stories', 'modern_kitchen', 'open_kitchen', 'maintenance']\": 2, \"['community_outdoor_space', 'community_park', 'dining_room', 'dishwasher', 'family_room', 'fireplace', 'game_room', 'laundry_room', 'recreation_facilities', 'two_or_more_stories', 'garage_1_or_more', 'garage_2_or_more', 'modern_kitchen', 'large_kitchen', 'floor_plan', 'rental_property', 'ensuite', 'trails', 'greenbelt']\": 2, \"['central_air', 'central_heat', 'basement', 'two_or_more_stories', 'garage_1_or_more', 'garage_2_or_more', 'garage_3_or_more', 'granite_kitchen', 'updated_kitchen', 'fruit_trees', 'new_roof']\": 2, \"['rental_property', 'investment_opportunity', 'park', 'lake', 'shopping']\": 2, \"['central_air', 'community_outdoor_space', 'dishwasher', 'hardwood_floors', 'laundry_room', 'single_story', 'big_yard', 'open_floor_plan', 'floor_plan']\": 2, \"['central_air', 'city_view', 'community_clubhouse', 'community_security_features', 'dining_room', 'dishwasher', 'hardwood_floors', 'laundry_room', 'recreation_facilities', 'view', 'washer_dryer', 'single_story', 'garage_1_or_more', 'park']\": 2, \"['community_security_features', 'dishwasher', 'family_room', 'forced_air', 'two_or_more_stories', 'garage_1_or_more', 'garage_2_or_more', 'beautiful_backyard']\": 2, \"['central_air', 'community_security_features', 'dishwasher', 'family_room', 'fireplace', 'forced_air', 'hardwood_floors', 'single_story', 'garage_1_or_more', 'garage_2_or_more', 'garage_3_or_more', 'fenced_yard', 'floor_plan', 'new_roof']\": 2, \"['central_air', 'community_clubhouse', 'community_outdoor_space', 'community_security_features', 'disability_features', 'dishwasher', 'recreation_facilities', 'washer_dryer', 'community_swimming_pool', 'granite_kitchen', 'clubhouse']\": 2, \"['central_air', 'community_outdoor_space', 'dining_room', 'disability_features', 'dishwasher', 'forced_air', 'hardwood_floors', 'washer_dryer', 'basement', 'two_or_more_stories', 'garage_1_or_more', 'updated_kitchen', 'library']\": 2, \"['garage_1_or_more', 'front_porch', 'big_lot']\": 2, \"['carport', 'community_outdoor_space', 'cul_de_sac', 'family_room', 'hardwood_floors', 'hill_or_mountain_view', 'recreation_facilities', 'rv_or_boat_parking', 'basement', 'garage_1_or_more', 'two_or_more_stories', 'big_yard', 'high_ceiling', 'efficient', 'trails', 'shopping']\": 1, nan: 1, nan: 1, nan: 1, nan: 1, nan: 1, nan: 1, nan: 1, nan: 1, nan: 1, nan: 1, nan: 1, nan: 1, nan: 1, nan: 1, nan: 1, nan: 1, nan: 1, nan: 1, nan: 1, \"['central_air', 'central_heat', 'community_outdoor_space', 'community_security_features', 'corner_lot', 'cul_de_sac', 'dishwasher', 'energy_efficient', 'fireplace', 'hardwood_floors', 'laundry_room', 'single_story', 'garage_1_or_more', 'garage_2_or_more', 'fenced_yard']\": 1, \"['carport', 'central_air', 'central_heat', 'city_view', 'community_outdoor_space', 'dishwasher', 'laundry_room', 'recreation_facilities', 'washer_dryer', 'single_story', 'front_porch', 'shopping']\": 1, \"['hardwood_floors', 'recreation_facilities', 'single_story', 'groundscare']\": 1, \"['city_view', 'horse_facilities', 'view', 'garage_1_or_more', 'single_story', 'big_lot']\": 1, \"['central_air', 'community_outdoor_space', 'dishwasher', 'forced_air', 'washer_dryer', 'swimming_pool', 'single_story', 'garage_1_or_more', 'garage_2_or_more', 'updated_kitchen', 'solar_system']\": 1, \"['carport', 'single_story', 'trails']\": 1, \"['cul_de_sac', 'hill_or_mountain_view', 'view', 'mountain_view', 'views']\": 1, \"['central_air', 'central_heat', 'community_security_features', 'dishwasher', 'family_room', 'fireplace', 'two_or_more_stories', 'garage_1_or_more', 'garage_2_or_more', 'master_suite', 'park', 'trails', 'shopping']\": 1, \"['central_air', 'central_heat', 'community_security_features', 'dishwasher', 'family_room', 'fireplace', 'single_story', 'garage_1_or_more', 'garage_2_or_more', 'open_floor_plan', 'floor_plan', 'park', 'shopping']\": 1, \"['community_outdoor_space', 'community_security_features', 'den_or_office', 'dining_room', 'dishwasher', 'family_room', 'fireplace', 'hardwood_floors', 'laundry_room', 'washer_dryer', 'basement', 'two_or_more_stories', 'garage_1_or_more', 'big_yard', 'fenced_yard', 'tennis_court', 'library', 'golf_course', 'tennis', 'greenbelt', 'groundscare']\": 1, \"['central_air', 'community_outdoor_space', 'community_security_features', 'dining_room', 'dishwasher', 'fireplace', 'forced_air', 'hill_or_mountain_view', 'lake_view', 'laundry_room', 'view', 'washer_dryer', 'water_view', 'two_or_more_stories', 'garage_1_or_more', 'garage_2_or_more', 'floor_plan', 'mountain_view', 'views']\": 1, \"['central_air', 'central_heat', 'community_outdoor_space', 'community_security_features', 'dishwasher', 'laundry_room', 'pets_allowed', 'recreation_facilities', 'community_swimming_pool', 'swimming_pool', 'two_or_more_stories', 'garage_1_or_more', 'updated_kitchen', 'open_floor_plan', 'floor_plan', 'farm', 'ranch', 'park', 'views', 'medicalcare', 'shopping']\": 1, \"['energy_efficient', 'fireplace', 'laundry_room', 'recreation_facilities', 'basement', 'garage_1_or_more', 'garage_2_or_more', 'single_story', 'farm', 'ranch', 'park', 'shopping']\": 1, \"['central_air', 'central_heat', 'single_story', 'garage_1_or_more', 'garage_2_or_more', 'fenced_yard', 'no_hoa', 'farm', 'ranch', 'shopping']\": 1, \"['carport', 'central_air', 'central_heat', 'dining_room', 'basement', 'single_story']\": 1, \"['central_air', 'central_heat', 'community_outdoor_space', 'dining_room', 'dishwasher', 'fireplace', 'washer_dryer', 'single_story', 'garage_1_or_more', 'garage_2_or_more', 'private_backyard', 'vaulted_ceiling', 'open_floor_plan', 'floor_plan', 'ensuite', 'views']\": 1, nan: 1, nan: 1, nan: 1, nan: 1, nan: 1, \"['central_air', 'central_heat', 'community_outdoor_space', 'community_security_features', 'dining_room', 'dishwasher', 'family_room', 'lake_view', 'recreation_facilities', 'view', 'water_view', 'community_swimming_pool', 'swimming_pool', 'two_or_more_stories', 'garage_1_or_more', 'garage_2_or_more', 'garage_3_or_more', 'waterfront', 'updated_kitchen', 'gated_community', 'pond', 'new_roof', 'security']\": 1, \"['central_air', 'central_heat', 'city_view', 'community_clubhouse', 'community_gym', 'community_outdoor_space', 'community_security_features', 'dishwasher', 'hardwood_floors', 'laundry_room', 'recreation_facilities', 'view', 'single_story', 'garage_1_or_more', 'garage_2_or_more', 'rental_property', 'clubhouse']\": 1, \"['central_air', 'central_heat', 'city_view', 'community_outdoor_space', 'community_security_features', 'community_tennis_court', 'corner_lot', 'dishwasher', 'family_room', 'fireplace', 'hardwood_floors', 'laundry_room', 'recreation_facilities', 'view', 'washer_dryer', 'community_swimming_pool', 'basement', 'two_or_more_stories', 'garage_1_or_more', 'garage_2_or_more', 'updated_kitchen', 'modern_kitchen', 'outdoor_kitchen', 'master_bedroom', 'ensuite', 'farm', 'ranch']\": 1, nan: 1, nan: 1, nan: 1, nan: 1, nan: 1, nan: 1, \"['central_air', 'community_outdoor_space', 'dishwasher', 'family_room', 'fireplace', 'forced_air', 'laundry_room', 'washer_dryer', 'basement', 'garage_1_or_more', 'garage_2_or_more', 'two_or_more_stories', 'modern_kitchen', 'open_kitchen', 'floor_plan', 'low_hoa', 'farm', 'ranch', 'hoa', 'maintenance']\": 1, nan: 1, nan: 1, nan: 1, \"['central_air', 'community_outdoor_space', 'dishwasher', 'forced_air', 'hardwood_floors', 'washer_dryer', 'basement', 'two_or_more_stories', 'garage_1_or_more', 'new_roof']\": 1, \"['central_air', 'community_outdoor_space', 'dining_room', 'dishwasher', 'family_room', 'forced_air', 'recreation_facilities', 'rv_or_boat_parking', 'single_story', 'garage_1_or_more', 'garage_2_or_more', 'garage_3_or_more', 'fenced_yard', 'new_roof', 'hoa']\": 1, nan: 1, nan: 1, nan: 1, nan: 1, nan: 1, nan: 1, nan: 1, nan: 1, nan: 1, nan: 1, nan: 1, nan: 1, nan: 1, nan: 1, nan: 1, nan: 1, nan: 1, nan: 1, nan: 1, nan: 1, nan: 1, nan: 1, nan: 1, nan: 1, nan: 1, nan: 1, nan: 1, nan: 1, nan: 1, nan: 1, nan: 1, nan: 1, nan: 1, nan: 1, nan: 1, nan: 1, nan: 1, nan: 1, nan: 1, nan: 1, nan: 1, nan: 1, nan: 1, nan: 1, nan: 1, nan: 1, nan: 1, nan: 1, nan: 1, nan: 1, nan: 1, nan: 1, nan: 1, nan: 1, nan: 1, nan: 1, nan: 1, nan: 1, nan: 1, nan: 1, nan: 1, nan: 1, nan: 1, nan: 1, nan: 1, nan: 1, nan: 1, nan: 1, nan: 1, nan: 1, nan: 1, nan: 1, nan: 1, nan: 1, nan: 1, nan: 1, nan: 1, nan: 1, nan: 1, nan: 1, nan: 1, nan: 1, \"['central_air', 'fireplace', 'forced_air', 'single_story', 'updated_kitchen', 'fenced_yard', 'park']\": 1, nan: 1, nan: 1, nan: 1, nan: 1, nan: 1, nan: 1, nan: 1, nan: 1, nan: 1, nan: 1, nan: 1, nan: 1, nan: 1, nan: 1, nan: 1, nan: 1, nan: 1, nan: 1, nan: 1, nan: 1, \"['central_air', 'city_view', 'community_spa_or_hot_tub', 'dining_room', 'family_room', 'fireplace', 'forced_air', 'hardwood_floors', 'recreation_facilities', 'view', 'basement', 'two_or_more_stories', 'garage_1_or_more', 'garage_2_or_more', 'big_yard', 'fenced_yard', 'fixer_upper']\": 1, \"['central_air', 'dining_room', 'dishwasher', 'forced_air', 'basement', 'garage_1_or_more', 'modern_kitchen', 'big_yard', 'fenced_yard', 'master_suite']\": 1, nan: 1, nan: 1, nan: 1, nan: 1, nan: 1, \"['city_view', 'community_outdoor_space', 'dining_room', 'dishwasher', 'forced_air', 'laundry_room', 'view', 'basement', 'two_or_more_stories', 'garage_1_or_more', 'granite_kitchen', 'updated_kitchen', 'fenced_yard', 'big_lot', 'new_roof']\": 1, \"['community_outdoor_space', 'community_security_features', 'dining_room', 'dishwasher', 'fireplace', 'hardwood_floors', 'laundry_room', 'washer_dryer', 'swimming_pool', 'two_or_more_stories', 'garage_1_or_more', 'garage_2_or_more', 'waterfront', 'big_lot', 'groundscare']\": 1, \"['community_outdoor_space', 'single_story', 'big_lot', 'investment_opportunity', 'fixer_upper']\": 1, nan: 1, nan: 1, nan: 1, nan: 1, nan: 1, nan: 1, nan: 1, nan: 1, nan: 1, nan: 1, nan: 1, nan: 1, nan: 1, nan: 1, nan: 1, nan: 1, nan: 1, nan: 1, nan: 1, nan: 1, nan: 1, nan: 1, nan: 1, nan: 1, nan: 1, nan: 1, nan: 1, nan: 1, nan: 1, nan: 1, nan: 1, nan: 1, nan: 1, nan: 1, nan: 1, nan: 1, nan: 1, nan: 1, nan: 1, nan: 1, nan: 1, nan: 1, nan: 1, nan: 1, nan: 1, nan: 1, nan: 1, nan: 1, nan: 1, nan: 1, nan: 1, nan: 1, nan: 1, nan: 1, nan: 1, nan: 1, nan: 1, nan: 1, nan: 1, nan: 1, nan: 1, nan: 1, nan: 1, nan: 1, \"['carport', 'central_air', 'central_heat', 'corner_lot', 'single_story', 'garage_1_or_more']\": 1, \"['central_air', 'forced_air', 'basement', 'garage_1_or_more', 'garage_2_or_more', 'two_or_more_stories', 'updated_kitchen', 'big_yard', 'new_roof', 'groundscare']\": 1, \"['two_or_more_stories', 'basement', 'rental_property', 'shopping', 'fixer_upper']\": 1, \"['dishwasher', 'family_room', 'washer_dryer', 'basement', 'two_or_more_stories', 'exposed_brick', 'rental_property', 'investment_opportunity', 'shopping', 'fixer_upper']\": 1, nan: 1, nan: 1, nan: 1, nan: 1, nan: 1, \"['central_air', 'dining_room', 'dishwasher', 'recreation_facilities', 'washer_dryer', 'community_swimming_pool', 'single_story', 'shopping']\": 1, \"['forced_air', 'basement', 'two_or_more_stories', 'fenced_yard', 'fixer_upper']\": 1, nan: 1, nan: 1, nan: 1, nan: 1, nan: 1, \"['central_air', 'dishwasher', 'fireplace', 'forced_air', 'hardwood_floors', 'swimming_pool', 'basement', 'two_or_more_stories', 'garage_1_or_more', 'garage_2_or_more', 'garage_3_or_more', 'media_room', 'trails']\": 1, \"['central_air', 'community_outdoor_space', 'corner_lot', 'dishwasher', 'fireplace', 'forced_air', 'hardwood_floors', 'washer_dryer', 'basement', 'two_or_more_stories', 'garage_1_or_more', 'garage_2_or_more', 'high_ceiling', 'front_porch', 'ensuite']\": 1, \"['central_air', 'community_outdoor_space', 'dishwasher', 'family_room', 'forced_air', 'recreation_facilities', 'basement', 'single_story', 'garage_1_or_more', 'garage_2_or_more', 'garage_3_or_more', 'floor_plan', 'master_suite', 'front_porch', 'efficient']\": 1, nan: 1, nan: 1, nan: 1, nan: 1, nan: 1, nan: 1, nan: 1, nan: 1, nan: 1, nan: 1, nan: 1, nan: 1, nan: 1, nan: 1, nan: 1, nan: 1, nan: 1, nan: 1, nan: 1, nan: 1, nan: 1, nan: 1, nan: 1, nan: 1, nan: 1, \"['dishwasher', 'forced_air', 'basement', 'two_or_more_stories', 'garage_1_or_more', 'garage_2_or_more', 'modern_kitchen', 'open_kitchen', 'private_backyard', 'vaulted_ceiling', 'master_bedroom', 'master_suite', 'new_roof', 'medicalcare']\": 1, \"['dishwasher', 'washer_dryer', 'rental_property', 'shopping']\": 1, \"['central_air', 'city_view', 'community_outdoor_space', 'forced_air', 'hardwood_floors', 'laundry_room', 'view', 'single_story', 'farm', 'ranch', 'maintenance']\": 1, \"['central_air', 'city_view', 'fireplace', 'forced_air', 'hardwood_floors', 'view', 'single_story', 'garage_1_or_more', 'garage_2_or_more']\": 1, nan: 1, nan: 1, nan: 1, \"['central_air', 'city_view', 'community_outdoor_space', 'cul_de_sac', 'dishwasher', 'family_room', 'fireplace', 'forced_air', 'view', 'basement', 'two_or_more_stories', 'garage_1_or_more', 'garage_2_or_more', 'modern_kitchen', 'open_kitchen', 'big_lot', 'water_view', 'groundscare']\": 1, \"['central_air', 'community_outdoor_space', 'fireplace', 'forced_air', 'basement', 'two_or_more_stories', 'garage_1_or_more', 'updated_kitchen', 'fenced_yard', 'groundscare']\": 1, \"['central_air', 'city_view', 'community_outdoor_space', 'dining_room', 'dishwasher', 'forced_air', 'view', 'washer_dryer', 'single_story', 'garage_1_or_more', 'garage_2_or_more', 'fenced_yard', 'cathedral_ceiling', 'hoa', 'maintenance']\": 1, \"['central_air', 'city_view', 'dining_room', 'fireplace', 'forced_air', 'view', 'basement', 'single_story', 'garage_1_or_more', 'garage_2_or_more', 'garage_3_or_more', 'vaulted_ceiling', 'open_floor_plan', 'floor_plan', 'big_lot', 'farm', 'ranch', 'groundscare']\": 1, \"['community_outdoor_space', 'dining_room', 'fireplace', 'forced_air', 'washer_dryer', 'basement', 'two_or_more_stories', 'modern_kitchen', 'large_kitchen', 'beautiful_backyard', 'large_porch']\": 1, \"['forced_air', 'basement', 'two_or_more_stories', 'front_porch', 'fixer_upper']\": 1, nan: 1, nan: 1, nan: 1, nan: 1, nan: 1, nan: 1, nan: 1, nan: 1, nan: 1, nan: 1, nan: 1, nan: 1, nan: 1, nan: 1, nan: 1, \"['den_or_office', 'laundry_room', 'washer_dryer', 'basement', 'investment_opportunity']\": 1, \"['fireplace', 'washer_dryer', 'single_story', 'garage_1_or_more', 'garage_2_or_more', 'private_backyard', 'high_ceiling', 'master_bedroom', 'ensuite']\": 1, \"['community_clubhouse', 'dishwasher', 'fireplace', 'forced_air', 'recreation_facilities', 'tennis_court', 'washer_dryer', 'community_swimming_pool', 'single_story', 'garage_1_or_more', 'garage_2_or_more', 'waterfront', 'basketball_court', 'open_house', 'library', 'big_lot', 'community_center', 'park', 'tennis', 'basketball', 'trails', 'shopping']\": 1, \"['community_outdoor_space', 'energy_efficient', 'family_room', 'fireplace', 'laundry_room', 'rv_or_boat_parking', 'swimming_pool', 'single_story', 'garage_1_or_more', 'garage_2_or_more', 'granite_kitchen', 'groundscare', 'shopping']\": 1, \"['community_outdoor_space', 'energy_efficient', 'family_room', 'fireplace', 'forced_air', 'hardwood_floors', 'hill_or_mountain_view', 'laundry_room', 'rv_or_boat_parking', 'view', 'single_story', 'garage_1_or_more', 'garage_2_or_more', 'garage_3_or_more', 'rv_parking']\": 1, \"['dining_room', 'dishwasher', 'hardwood_floors', 'laundry_room', 'swimming_pool', 'basement', 'garage_1_or_more', 'garage_2_or_more', 'fenced_yard', 'shopping']\": 1, \"['central_air', 'community_outdoor_space', 'cul_de_sac', 'dishwasher', 'forced_air', 'hardwood_floors', 'basement', 'two_or_more_stories', 'garage_1_or_more', 'private_backyard']\": 1, nan: 1, nan: 1, nan: 1, nan: 1, nan: 1, nan: 1, nan: 1, nan: 1, nan: 1, nan: 1, nan: 1, nan: 1, nan: 1, nan: 1, nan: 1, nan: 1, nan: 1, nan: 1, nan: 1, nan: 1, nan: 1, nan: 1, nan: 1, nan: 1, nan: 1, nan: 1, nan: 1, nan: 1, nan: 1, nan: 1, nan: 1, nan: 1, nan: 1, nan: 1, nan: 1, nan: 1, nan: 1, nan: 1, nan: 1, nan: 1, nan: 1, nan: 1, nan: 1, nan: 1, nan: 1, nan: 1, nan: 1, nan: 1, nan: 1, nan: 1, nan: 1, nan: 1, nan: 1, nan: 1, nan: 1, nan: 1, nan: 1, nan: 1, nan: 1, nan: 1, nan: 1, nan: 1, nan: 1, nan: 1, nan: 1, nan: 1, nan: 1, nan: 1, nan: 1, nan: 1, nan: 1, nan: 1, nan: 1, nan: 1, nan: 1, nan: 1, nan: 1, nan: 1, nan: 1, nan: 1, nan: 1, nan: 1, nan: 1, nan: 1, nan: 1, nan: 1, nan: 1, nan: 1, nan: 1, nan: 1, nan: 1, nan: 1, nan: 1, nan: 1, nan: 1, nan: 1, nan: 1, nan: 1, nan: 1, nan: 1, nan: 1, nan: 1, nan: 1, nan: 1, nan: 1, nan: 1, nan: 1, nan: 1, nan: 1, nan: 1, nan: 1, nan: 1, nan: 1, nan: 1, nan: 1, nan: 1, nan: 1, nan: 1, nan: 1, nan: 1, nan: 1, nan: 1, nan: 1, nan: 1, nan: 1, nan: 1, nan: 1, nan: 1, nan: 1, \"['central_air', 'central_heat', 'community_outdoor_space', 'dishwasher', 'fireplace', 'laundry_room', 'single_story', 'garage_1_or_more', 'garage_2_or_more', 'community_swimming_pool', 'trails', 'shopping']\": 1, \"['central_air', 'central_heat', 'community_outdoor_space', 'corner_lot', 'dishwasher', 'fireplace', 'single_story', 'garage_1_or_more', 'garage_2_or_more', 'vaulted_ceiling', 'big_lot', 'ensuite', 'new_roof', 'shopping']\": 1, \"['central_air', 'central_heat', 'community_outdoor_space', 'community_security_features', 'dishwasher', 'fireplace', 'recreation_facilities', 'spa_or_hot_tub', 'swimming_pool', 'single_story', 'garage_1_or_more', 'garage_2_or_more', 'guest_house', 'views']\": 1, \"['carport', 'central_air', 'central_heat', 'single_story']\": 1, \"['carport', 'community_outdoor_space', 'dining_room', 'basement', 'big_lot', 'shopping', 'fixer_upper']\": 1, nan: 1, nan: 1, nan: 1, nan: 1, nan: 1, \"['central_heat', 'community_outdoor_space', 'family_room', 'fireplace', 'forced_air', 'hardwood_floors', 'garage_1_or_more', 'garage_2_or_more', 'updated_kitchen', 'big_lot', 'groundscare']\": 1, \"['central_air', 'dishwasher', 'fireplace', 'forced_air', 'hardwood_floors', 'washer_dryer', 'basement', 'single_story', 'garage_1_or_more', 'garage_2_or_more', 'big_yard', 'vaulted_ceiling', 'open_floor_plan', 'floor_plan', 'corner_lot', 'big_lot', 'ensuite']\": 1, nan: 1, nan: 1, nan: 1, nan: 1, nan: 1, \"['central_air', 'dining_room', 'dishwasher', 'family_room', 'fireplace', 'forced_air', 'washer_dryer', 'basement', 'two_or_more_stories', 'garage_1_or_more', 'garage_2_or_more', 'modern_kitchen', 'open_kitchen', 'big_yard', 'master_bedroom', 'solar_system']\": 1, nan: 1, nan: 1, nan: 1, nan: 1, nan: 1, nan: 1, \"['central_heat', 'basement', 'single_story', 'high_ceiling', 'cathedral_ceiling', 'exposed_brick', 'rental_property', 'shopping']\": 1, \"['central_air', 'dishwasher', 'forced_air', 'hardwood_floors', 'laundry_room', 'single_story', 'garage_1_or_more', 'fixer_upper']\": 1, nan: 1, nan: 1, nan: 1, nan: 1, nan: 1, nan: 1, nan: 1, nan: 1, nan: 1, nan: 1, nan: 1, nan: 1, nan: 1, nan: 1, nan: 1, nan: 1, nan: 1, nan: 1, nan: 1, nan: 1, nan: 1, nan: 1, nan: 1, nan: 1, nan: 1, nan: 1, nan: 1, nan: 1, nan: 1, nan: 1, \"['central_air', 'central_heat', 'community_outdoor_space', 'corner_lot', 'dishwasher', 'family_room', 'fireplace', 'hardwood_floors', 'laundry_room', 'recreation_facilities', 'garage_1_or_more', 'garage_2_or_more', 'two_or_more_stories', 'private_backyard', 'fenced_yard', 'high_ceiling', 'open_floor_plan', 'floor_plan', 'trails', 'lake', 'shopping']\": 1, nan: 1, nan: 1, nan: 1, nan: 1, nan: 1, nan: 1, nan: 1, nan: 1, nan: 1, nan: 1, nan: 1, nan: 1, nan: 1, nan: 1, nan: 1, nan: 1, nan: 1, nan: 1, nan: 1, nan: 1, nan: 1, nan: 1, nan: 1, nan: 1, nan: 1, nan: 1, nan: 1, nan: 1, nan: 1, nan: 1, nan: 1, nan: 1, nan: 1, nan: 1, nan: 1, nan: 1, nan: 1, nan: 1, nan: 1, nan: 1, nan: 1, nan: 1, nan: 1, nan: 1, nan: 1, nan: 1, nan: 1, nan: 1, nan: 1, nan: 1, nan: 1, nan: 1, nan: 1, nan: 1, nan: 1, nan: 1, nan: 1, nan: 1, nan: 1, nan: 1, nan: 1, nan: 1, nan: 1, nan: 1, nan: 1, \"['central_air', 'central_heat', 'community_clubhouse', 'community_park', 'community_tennis_court', 'dishwasher', 'family_room', 'hardwood_floors', 'laundry_room', 'recreation_facilities', 'tennis_court', 'community_swimming_pool', 'swimming_pool', 'two_or_more_stories', 'garage_1_or_more', 'garage_2_or_more', 'garage_3_or_more', 'big_yard', 'high_ceiling', 'floor_plan', 'ensuite', 'farm', 'ranch', 'playground', 'greenbelt', 'views', 'shopping']\": 1, nan: 1, nan: 1, nan: 1, nan: 1, nan: 1, nan: 1, nan: 1, nan: 1, nan: 1, \"['community_outdoor_space', 'dishwasher', 'fireplace', 'forced_air', 'hill_or_mountain_view', 'view', 'washer_dryer', 'garage_1_or_more', 'garage_2_or_more', 'two_or_more_stories', 'master_bedroom', 'floor_plan', 'fruit_trees', 'big_lot', 'ensuite', 'trails', 'views', 'lake', 'shopping']\": 1, \"['central_air', 'community_outdoor_space', 'fireplace', 'forced_air', 'laundry_room', 'basement', 'two_or_more_stories', 'garage_1_or_more', 'garage_2_or_more', 'master_bedroom', 'open_floor_plan', 'floor_plan', 'rental_property', 'ensuite', 'park', 'lake', 'shopping']\": 1, \"['central_air', 'community_outdoor_space', 'dining_room', 'dishwasher', 'hardwood_floors', 'laundry_room', 'two_or_more_stories', 'big_yard', 'open_floor_plan', 'floor_plan', 'shopping']\": 1, \"['central_air', 'community_outdoor_space', 'community_security_features', 'dishwasher', 'hardwood_floors', 'washer_dryer', 'two_or_more_stories', 'modern_kitchen', 'large_kitchen', 'efficient', 'ensuite', 'smart_homes']\": 1, \"['central_air', 'community_clubhouse', 'community_golf', 'community_security_features', 'cul_de_sac', 'dining_room', 'dishwasher', 'family_room', 'fireplace', 'forced_air', 'golf_course_lot_or_frontage', 'golf_course_view', 'hardwood_floors', 'recreation_facilities', 'view', 'washer_dryer', 'single_story', 'garage_1_or_more', 'garage_2_or_more', 'modern_kitchen', 'large_kitchen', 'open_kitchen', 'vaulted_ceiling', 'floor_plan', 'golf_course', 'views']\": 1, \"['community_golf', 'community_security_features', 'dining_room', 'dishwasher', 'fireplace', 'hardwood_floors', 'recreation_facilities', 'single_story', 'garage_1_or_more', 'updated_kitchen', 'fenced_yard', 'vaulted_ceiling', 'views']\": 1, \"['central_air', 'community_outdoor_space', 'community_park', 'community_security_features', 'dishwasher', 'fireplace', 'hardwood_floors', 'lake_view', 'recreation_facilities', 'view', 'water_view', 'waterfront', 'modern_kitchen', 'white_kitchen', 'master_bedroom', 'trails', 'lake']\": 1, \"['central_air', 'community_outdoor_space', 'community_security_features', 'corner_lot', 'disability_features', 'fireplace', 'forced_air', 'hardwood_floors', 'washer_dryer', 'basement', 'two_or_more_stories', 'garage_1_or_more', 'garage_2_or_more', 'big_yard', 'playground']\": 1, \"['central_air', 'forced_air', 'basement', 'modern_kitchen', 'large_kitchen', 'front_porch', 'big_lot']\": 1, nan: 1, nan: 1, nan: 1, nan: 1, nan: 1, nan: 1, nan: 1, nan: 1, nan: 1, nan: 1, nan: 1, nan: 1, nan: 1, nan: 1, nan: 1})\n",
      "Types of values in `tags` column:\n",
      " Series([], Name: count, dtype: int64)\n"
     ]
    }
   ],
   "source": [
    "from collections import Counter\n",
    "\n",
    "# Count occurrences of each tag\n",
    "tag_counts = Counter(data.explode(\"tags\")[\"tags\"])\n",
    "\n",
    "print(tag_counts)\n",
    "\n",
    "common_tags = {tag for tag, count in tag_counts.items() if count >= 20}\n",
    "\n",
    "# Keep only common tags\n",
    "def filter_common_tags(tag_list):\n",
    "    if isinstance(tag_list, list):\n",
    "        return [tag for tag in tag_list if tag in common_tags]\n",
    "    return [] \n",
    "\n",
    "data[\"tags\"] = data[\"tags\"].apply(filter_common_tags)\n",
    "\n",
    "# Removing rows that tags is empty after filtering\n",
    "data = data[data[\"tags\"].apply(lambda x: isinstance(x, list) and len(x) > 0)]\n",
    "\n",
    "print(\"Types of values in `tags` column:\\n\", data[\"tags\"].apply(type).value_counts())\n"
   ]
  },
  {
   "cell_type": "code",
   "execution_count": 3107,
   "metadata": {},
   "outputs": [],
   "source": [
    "from sklearn.preprocessing import MultiLabelBinarizer\n",
    "\n",
    "\n",
    "mlb = MultiLabelBinarizer()\n",
    "tags_encoded = pd.DataFrame(mlb.fit_transform(data[\"tags\"]), columns=mlb.classes_)\n",
    "\n",
    "# Reset index before merging\n",
    "data = data.reset_index(drop=True)\n",
    "tags_encoded = tags_encoded.reset_index(drop=True)\n",
    "\n",
    "# Merge encoded tags with original dataset\n",
    "data = pd.concat([data, tags_encoded], axis=1)\n",
    "\n",
    "# Drop original `tags` column\n",
    "data.drop(columns=[\"tags\"], inplace=True)\n",
    "\n",
    "\n"
   ]
  },
  {
   "cell_type": "code",
   "execution_count": 3108,
   "metadata": {},
   "outputs": [
    {
     "name": "stdout",
     "output_type": "stream",
     "text": [
      "<class 'pandas.core.frame.DataFrame'>\n",
      "RangeIndex: 0 entries\n",
      "Data columns (total 43 columns):\n",
      " #   Column                                 Non-Null Count  Dtype  \n",
      "---  ------                                 --------------  -----  \n",
      " 0   last_update_date                       0 non-null      object \n",
      " 1   permalink                              0 non-null      object \n",
      " 2   status                                 0 non-null      object \n",
      " 3   list_date                              0 non-null      object \n",
      " 4   branding                               0 non-null      object \n",
      " 5   list_price                             0 non-null      float64\n",
      " 6   property_id                            0 non-null      int64  \n",
      " 7   virtual_tours                          0 non-null      int64  \n",
      " 8   listing_id                             0 non-null      float64\n",
      " 9   price_reduced_amount                   0 non-null      float64\n",
      " 10  matterport                             0 non-null      bool   \n",
      " 11  source.agents                          0 non-null      object \n",
      " 12  source.type                            0 non-null      object \n",
      " 13  description.year_built                 0 non-null      float64\n",
      " 14  description.baths_3qtr                 0 non-null      float64\n",
      " 15  description.sold_date                  0 non-null      object \n",
      " 16  description.sold_price                 0 non-null      float64\n",
      " 17  description.baths_full                 0 non-null      float64\n",
      " 18  description.baths_half                 0 non-null      float64\n",
      " 19  description.lot_sqft                   0 non-null      float64\n",
      " 20  description.sqft                       0 non-null      float64\n",
      " 21  description.baths                      0 non-null      float64\n",
      " 22  description.sub_type                   0 non-null      object \n",
      " 23  description.garage                     0 non-null      float64\n",
      " 24  description.stories                    0 non-null      float64\n",
      " 25  description.beds                       0 non-null      float64\n",
      " 26  description.type                       0 non-null      object \n",
      " 27  lead_attributes.show_contact_an_agent  0 non-null      bool   \n",
      " 28  flags.is_price_reduced                 0 non-null      bool   \n",
      " 29  flags.is_foreclosure                   0 non-null      int64  \n",
      " 30  flags.is_new_listing                   0 non-null      object \n",
      " 31  products.brand_name                    0 non-null      object \n",
      " 32  location.address.postal_code           0 non-null      int64  \n",
      " 33  location.address.state                 0 non-null      object \n",
      " 34  location.address.coordinate.lon        0 non-null      float64\n",
      " 35  location.address.coordinate.lat        0 non-null      float64\n",
      " 36  location.address.city                  0 non-null      object \n",
      " 37  location.address.state_code            0 non-null      object \n",
      " 38  location.address.line                  0 non-null      object \n",
      " 39  location.street_view_url               0 non-null      object \n",
      " 40  location.county.fips_code              0 non-null      float64\n",
      " 41  location.county.name                   0 non-null      object \n",
      " 42  has_photos                             0 non-null      int64  \n",
      "dtypes: bool(3), float64(17), int64(5), object(18)\n",
      "memory usage: 132.0+ bytes\n"
     ]
    }
   ],
   "source": [
    "data.info()"
   ]
  },
  {
   "cell_type": "code",
   "execution_count": null,
   "metadata": {},
   "outputs": [],
   "source": []
  },
  {
   "cell_type": "markdown",
   "metadata": {},
   "source": [
    "### Dealing with Cities"
   ]
  },
  {
   "cell_type": "markdown",
   "metadata": {},
   "source": [
    "- Sales will vary drastically between cities and states.  Is there a way to keep information about which city it is without OHE?\n",
    "- Could we label encode or ordinal encode?  Yes, but this may have undesirable effects, giving nominal data ordinal values.\n",
    "- What we can do is use our training data to encode the mean sale price by city as a feature (a.k.a. Target Encoding)\n",
    "    - We can do this as long as we ONLY use the training data - we're using the available data to give us a 'starting guess' of the price for each city, without needing to encode city explicitly\n",
    "- If you replace cities or states with numerical values (like the mean price), make sure that the data is split so that we don't leak data into the training selection. This is a great time to train test split. Compute on the training data, and join these values to the test data\n",
    "- Note that you *may* have cities in the test set that are not in the training set. You don't want these to be NA, so maybe you can fill them with the overall mean"
   ]
  },
  {
   "cell_type": "code",
   "execution_count": 3109,
   "metadata": {},
   "outputs": [],
   "source": [
    "# perform train test split here\n",
    "# do something with state and city"
   ]
  },
  {
   "cell_type": "markdown",
   "metadata": {},
   "source": [
    "## Extra Data - STRETCH\n",
    "\n",
    "> This doesn't need to be part of your Minimum Viable Product (MVP). We recommend you write a functional, basic pipeline first, then circle back and join new data if you have time\n",
    "\n",
    "> If you do this, try to write your downstream steps in a way it will still work on a dataframe with different features!\n",
    "\n",
    "- You're not limited to just using the data provided to you. Think/ do some research about other features that might be useful to predict housing prices. \n",
    "- Can you import and join this data? Make sure you do any necessary preprocessing and make sure it is joined correctly.\n",
    "- Example suggestion: could mortgage interest rates in the year of the listing affect the price? "
   ]
  },
  {
   "cell_type": "code",
   "execution_count": 3110,
   "metadata": {},
   "outputs": [],
   "source": [
    "# import, join and preprocess new data here"
   ]
  },
  {
   "cell_type": "markdown",
   "metadata": {},
   "source": [
    "## EDA/ Visualization\n",
    "\n",
    "Remember all of the EDA that you've been learning about?  Now is a perfect time for it!\n",
    "- Look at distributions of numerical variables to see the shape of the data and detect outliers.    \n",
    "    - Consider transforming very skewed variables\n",
    "- Scatterplots of a numerical variable and the target go a long way to show correlations.\n",
    "- A heatmap will help detect highly correlated features, and we don't want these.\n",
    "    - You may have too many features to do this, in which case you can simply compute the most correlated feature-pairs and list them\n",
    "- Is there any overlap in any of the features? (redundant information, like number of this or that room...)"
   ]
  },
  {
   "cell_type": "code",
   "execution_count": 3111,
   "metadata": {},
   "outputs": [],
   "source": [
    "# perform EDA here"
   ]
  },
  {
   "cell_type": "markdown",
   "metadata": {},
   "source": [
    "## Scaling and Finishing Up"
   ]
  },
  {
   "cell_type": "markdown",
   "metadata": {},
   "source": [
    "Now is a great time to scale the data and save it once it's preprocessed.\n",
    "- You can save it in your data folder, but you may want to make a new `processed/` subfolder to keep it organized"
   ]
  },
  {
   "cell_type": "code",
   "execution_count": 3112,
   "metadata": {},
   "outputs": [],
   "source": [
    "processed_path = '../processed'"
   ]
  },
  {
   "cell_type": "code",
   "execution_count": null,
   "metadata": {},
   "outputs": [],
   "source": []
  }
 ],
 "metadata": {
  "kernelspec": {
   "display_name": "base",
   "language": "python",
   "name": "python3"
  },
  "language_info": {
   "codemirror_mode": {
    "name": "ipython",
    "version": 3
   },
   "file_extension": ".py",
   "mimetype": "text/x-python",
   "name": "python",
   "nbconvert_exporter": "python",
   "pygments_lexer": "ipython3",
   "version": "3.12.7"
  }
 },
 "nbformat": 4,
 "nbformat_minor": 2
}
